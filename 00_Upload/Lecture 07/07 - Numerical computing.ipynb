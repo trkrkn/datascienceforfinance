{
 "cells": [
  {
   "cell_type": "markdown",
   "id": "008f3ce2",
   "metadata": {
    "slideshow": {
     "slide_type": "slide"
    }
   },
   "source": [
    "# Lecture 07 - Numerical Computing (NumPy)"
   ]
  },
  {
   "cell_type": "markdown",
   "id": "f365c008",
   "metadata": {
    "slideshow": {
     "slide_type": "slide"
    }
   },
   "source": [
    "## Overview"
   ]
  },
  {
   "cell_type": "markdown",
   "id": "d930ec6c",
   "metadata": {
    "slideshow": {
     "slide_type": "slide"
    }
   },
   "source": [
    "`NumPy` (Numerical Python) is a fundamental library for scientific computing in Python. It provides support for arrays, matrices, and many mathematical functions that operate on these data structures. \n",
    "\n",
    "This notebook covers:\n",
    "- Creating and manipulating `NumPy` arrays\n",
    "- Basic mathematical operations with `NumPy`\n",
    "- Statistic calculations using `NumPy`"
   ]
  },
  {
   "cell_type": "markdown",
   "id": "ab1a233e",
   "metadata": {
    "slideshow": {
     "slide_type": "slide"
    }
   },
   "source": [
    "**Why Use NumPy?**\n",
    "\n",
    "`NumPy` offers significant advantages when working with numerical data:\n",
    "- **Performance:** `NumPy` is much faster than traditional Python lists for numerical operations.\n",
    "- **Functionality:** It provides a wide range of mathematical functions and operations.\n",
    "- **Convenience:** `NumPy` arrays are more convenient to work with, especially for large datasets."
   ]
  },
  {
   "cell_type": "markdown",
   "id": "817d28dd",
   "metadata": {
    "slideshow": {
     "slide_type": "slide"
    }
   },
   "source": [
    "## 1. Arrays of data"
   ]
  },
  {
   "cell_type": "markdown",
   "id": "342b82b2",
   "metadata": {
    "slideshow": {
     "slide_type": "slide"
    }
   },
   "source": [
    "### 1.1 Definitions"
   ]
  },
  {
   "cell_type": "markdown",
   "id": "30ceaaca",
   "metadata": {
    "slideshow": {
     "slide_type": "slide"
    }
   },
   "source": [
    "General data structures in `Python`, especially `list`, are **flexible** but can be **inefficient** in terms of memory and performance. \n",
    "\n",
    "For scientific and financial applications that demand high-performance operations on specialized data structures, `arrays` are crucial. "
   ]
  },
  {
   "cell_type": "markdown",
   "id": "da5ef52a",
   "metadata": {
    "slideshow": {
     "slide_type": "slide"
    }
   },
   "source": [
    "**What are Arrays?**\n",
    "\n",
    "**`Arrays`** organize elements of the same data type in **rows** and **columns**, typically representing numbers like real values. \n",
    "\n",
    "- A one-dimensional array represents a **vector**\n",
    "- A multi-dimensional array forms **matrices**, **cubes**, etc. \n",
    "\n",
    "To efficiently handle arrays, the `Python` library `NumPy`, with its `ndarray` class, provides powerful and specialized functionality."
   ]
  },
  {
   "cell_type": "markdown",
   "id": "044500c1",
   "metadata": {
    "slideshow": {
     "slide_type": "slide"
    }
   },
   "source": [
    "### 1.2 Using `list` to handle arrays"
   ]
  },
  {
   "cell_type": "markdown",
   "id": "c8c77761",
   "metadata": {
    "slideshow": {
     "slide_type": "slide"
    }
   },
   "source": [
    "#### Dimensionality"
   ]
  },
  {
   "cell_type": "markdown",
   "id": "f171047f",
   "metadata": {},
   "source": [
    "Python `list` can be of multiple dimensions: vector, matrices, cubes"
   ]
  },
  {
   "cell_type": "code",
   "execution_count": null,
   "id": "0c9b3f43",
   "metadata": {},
   "outputs": [],
   "source": [
    "# 1-dimension list\n",
    "v = [0.5, 0.75, 1.0, 1.5, 2.0]\n",
    "\n",
    "# 2-dimensions list = matrix\n",
    "m = [v, v, v]"
   ]
  },
  {
   "cell_type": "markdown",
   "id": "1fd72539",
   "metadata": {
    "slideshow": {
     "slide_type": "slide"
    }
   },
   "source": [
    "#### Indexing"
   ]
  },
  {
   "cell_type": "markdown",
   "id": "d4cd7076",
   "metadata": {},
   "source": [
    "*Reminder*: `list` are indexed from 0 for each of their dimensions "
   ]
  },
  {
   "cell_type": "code",
   "execution_count": null,
   "id": "29dfa767",
   "metadata": {},
   "outputs": [],
   "source": [
    "m[1]"
   ]
  },
  {
   "cell_type": "code",
   "execution_count": null,
   "id": "2c3c2692",
   "metadata": {},
   "outputs": [],
   "source": [
    "m[1][0]"
   ]
  },
  {
   "cell_type": "markdown",
   "id": "a9ecc8a4",
   "metadata": {
    "slideshow": {
     "slide_type": "slide"
    }
   },
   "source": [
    "#### *n*-dimensions & deep copies"
   ]
  },
  {
   "cell_type": "markdown",
   "id": "aff2de60",
   "metadata": {},
   "source": [
    "`list` of *n*-dimensions can be constructed as vectors of other lists."
   ]
  },
  {
   "cell_type": "code",
   "execution_count": null,
   "id": "b28b1368",
   "metadata": {},
   "outputs": [],
   "source": [
    "v1 = [0.5, 1.5]\n",
    "v2 = [1, 2]\n",
    "m = [v1, v2]\n",
    "c = [m, m]\n",
    "c"
   ]
  },
  {
   "cell_type": "markdown",
   "id": "1ae29b82",
   "metadata": {
    "hidePrompt": true,
    "slideshow": {
     "slide_type": "slide"
    }
   },
   "source": [
    "However, such construction leads to dependencies in terms of references and memory.\n",
    "\n",
    "By default, a copy of a vector in a `list` points to the same original values. Operations on the copy therefore also apply to the origin."
   ]
  },
  {
   "cell_type": "code",
   "execution_count": null,
   "id": "709999ff",
   "metadata": {},
   "outputs": [],
   "source": [
    "v = [0.5, 0.75, 1.0, 1.5, 2.0]\n",
    "m = [v, v, v]\n",
    "v[0] = 'Python'\n",
    "m"
   ]
  },
  {
   "cell_type": "markdown",
   "id": "74d17b50",
   "metadata": {
    "slideshow": {
     "slide_type": "slide"
    }
   },
   "source": [
    "**Deep copies** allow to decouple origins and copies by creating different references in the memory."
   ]
  },
  {
   "cell_type": "code",
   "execution_count": null,
   "id": "01bad2dd",
   "metadata": {},
   "outputs": [],
   "source": [
    "from copy import deepcopy\n",
    "v = [0.5, 0.75, 1.0, 1.5, 2.0]\n",
    "m = 3 * [deepcopy(v)]\n",
    "m"
   ]
  },
  {
   "cell_type": "code",
   "execution_count": null,
   "id": "314cc2a0",
   "metadata": {},
   "outputs": [],
   "source": [
    "v[0] = 'Python'\n",
    "m"
   ]
  },
  {
   "cell_type": "code",
   "execution_count": null,
   "id": "9a47f4f7",
   "metadata": {},
   "outputs": [],
   "source": [
    "v"
   ]
  },
  {
   "cell_type": "markdown",
   "id": "cdf07d37",
   "metadata": {
    "slideshow": {
     "slide_type": "slide"
    }
   },
   "source": [
    "## 2. Regular NumPy arrays"
   ]
  },
  {
   "cell_type": "markdown",
   "id": "1f6119e9",
   "metadata": {
    "slideshow": {
     "slide_type": "slide"
    }
   },
   "source": [
    "### 2.1 The basics"
   ]
  },
  {
   "cell_type": "markdown",
   "id": "8f206dab",
   "metadata": {},
   "source": [
    "Using `list` objects to compose array structures is possible, but **not very convenient** since the list class is designed for **broader, general purposes**. \n",
    "\n",
    "A truly dedicated class for handling array-type structures is far more beneficial. \n",
    "\n",
    "`numpy.array` is such a class, built with the specific goal of handling *n*-dimensional arrays both conveniently and efficiently."
   ]
  },
  {
   "cell_type": "code",
   "execution_count": null,
   "id": "f94408f8",
   "metadata": {
    "slideshow": {
     "slide_type": "slide"
    }
   },
   "outputs": [],
   "source": [
    "import numpy as np\n",
    "a = np.array([0, 0.5, 1.0, 1.5, 2.0])\n",
    "a"
   ]
  },
  {
   "cell_type": "code",
   "execution_count": null,
   "id": "72d6d474",
   "metadata": {},
   "outputs": [],
   "source": [
    "type(a)"
   ]
  },
  {
   "cell_type": "code",
   "execution_count": null,
   "id": "17cb741b",
   "metadata": {},
   "outputs": [],
   "source": [
    "a = np.array(['a', 'b', 'c'])\n",
    "a"
   ]
  },
  {
   "cell_type": "markdown",
   "id": "52f5a5e5",
   "metadata": {
    "slideshow": {
     "slide_type": "slide"
    }
   },
   "source": [
    "#### `arange()`"
   ]
  },
  {
   "cell_type": "markdown",
   "id": "ec6b1bf9",
   "metadata": {
    "slideshow": {
     "slide_type": "slide"
    }
   },
   "source": [
    "Similar to the `range` function"
   ]
  },
  {
   "cell_type": "code",
   "execution_count": null,
   "id": "f8ee0e27",
   "metadata": {},
   "outputs": [],
   "source": [
    "a = np.arange(2, 20, 2)\n",
    "a"
   ]
  },
  {
   "cell_type": "code",
   "execution_count": null,
   "id": "4aeb4e14",
   "metadata": {},
   "outputs": [],
   "source": [
    "a = np.arange(8, dtype=float)\n",
    "a"
   ]
  },
  {
   "cell_type": "markdown",
   "id": "3cea4fcf",
   "metadata": {
    "slideshow": {
     "slide_type": "slide"
    }
   },
   "source": [
    "#### Indexing"
   ]
  },
  {
   "cell_type": "markdown",
   "id": "2e00cb45",
   "metadata": {
    "slideshow": {
     "slide_type": "slide"
    }
   },
   "source": [
    "Indexing works like in `list`."
   ]
  },
  {
   "cell_type": "code",
   "execution_count": null,
   "id": "4f6af0a4",
   "metadata": {},
   "outputs": [],
   "source": [
    "a[5:]"
   ]
  },
  {
   "cell_type": "code",
   "execution_count": null,
   "id": "2034bea6",
   "metadata": {},
   "outputs": [],
   "source": [
    "a[:2]"
   ]
  },
  {
   "cell_type": "markdown",
   "id": "f20dee9e",
   "metadata": {
    "slideshow": {
     "slide_type": "slide"
    }
   },
   "source": [
    "#### `ndarray` built-in methods"
   ]
  },
  {
   "cell_type": "code",
   "execution_count": null,
   "id": "90e39cc1",
   "metadata": {
    "slideshow": {
     "slide_type": "slide"
    }
   },
   "outputs": [],
   "source": [
    "a.sum()"
   ]
  },
  {
   "cell_type": "code",
   "execution_count": null,
   "id": "71a4b914",
   "metadata": {},
   "outputs": [],
   "source": [
    "a.std()"
   ]
  },
  {
   "cell_type": "code",
   "execution_count": null,
   "id": "796d19c7",
   "metadata": {},
   "outputs": [],
   "source": [
    "a.cumsum()"
   ]
  },
  {
   "cell_type": "markdown",
   "id": "188ea16f",
   "metadata": {
    "slideshow": {
     "slide_type": "slide"
    }
   },
   "source": [
    "**(Vectorized) Math operations**"
   ]
  },
  {
   "cell_type": "code",
   "execution_count": null,
   "id": "273c3caa",
   "metadata": {
    "slideshow": {
     "slide_type": "slide"
    }
   },
   "outputs": [],
   "source": [
    "# with python list\n",
    "l = [0., 0.5, 1.5, 3., 5.]\n",
    "2 * l"
   ]
  },
  {
   "cell_type": "code",
   "execution_count": null,
   "id": "d0adddfa",
   "metadata": {},
   "outputs": [],
   "source": [
    "# with NumPy\n",
    "2 * a"
   ]
  },
  {
   "cell_type": "code",
   "execution_count": null,
   "id": "fa7bc23e",
   "metadata": {},
   "outputs": [],
   "source": [
    "a ** 2"
   ]
  },
  {
   "cell_type": "code",
   "execution_count": null,
   "id": "c98a4e01",
   "metadata": {},
   "outputs": [],
   "source": [
    "a ** a"
   ]
  },
  {
   "cell_type": "markdown",
   "id": "f1b6fbda",
   "metadata": {
    "slideshow": {
     "slide_type": "slide"
    }
   },
   "source": [
    "**Universal functions**\n",
    "\n",
    "“Universal” because they operate on `ndarray` objects as well as on basic Python data types."
   ]
  },
  {
   "cell_type": "code",
   "execution_count": null,
   "id": "21d6750f",
   "metadata": {
    "slideshow": {
     "slide_type": "slide"
    }
   },
   "outputs": [],
   "source": [
    "np.exp(a)"
   ]
  },
  {
   "cell_type": "code",
   "execution_count": null,
   "id": "f5781a8c",
   "metadata": {},
   "outputs": [],
   "source": [
    "np.sqrt(a)"
   ]
  },
  {
   "cell_type": "code",
   "execution_count": null,
   "id": "7df890a8",
   "metadata": {},
   "outputs": [],
   "source": [
    "np.sqrt(2.5)"
   ]
  },
  {
   "cell_type": "markdown",
   "id": "45a16143",
   "metadata": {
    "slideshow": {
     "slide_type": "slide"
    }
   },
   "source": [
    "#### Matrices"
   ]
  },
  {
   "cell_type": "code",
   "execution_count": null,
   "id": "45f44fcf",
   "metadata": {},
   "outputs": [],
   "source": [
    "b = np.array([a, a * 2])\n",
    "b"
   ]
  },
  {
   "cell_type": "code",
   "execution_count": null,
   "id": "00d24f64",
   "metadata": {},
   "outputs": [],
   "source": [
    "b[0]"
   ]
  },
  {
   "cell_type": "code",
   "execution_count": null,
   "id": "339262ae",
   "metadata": {},
   "outputs": [],
   "source": [
    "b[0,2]"
   ]
  },
  {
   "cell_type": "code",
   "execution_count": null,
   "id": "8120d3f9",
   "metadata": {},
   "outputs": [],
   "source": [
    "b[:,1]"
   ]
  },
  {
   "cell_type": "code",
   "execution_count": null,
   "id": "af33538c",
   "metadata": {
    "slideshow": {
     "slide_type": "slide"
    }
   },
   "outputs": [],
   "source": [
    "b.sum()"
   ]
  },
  {
   "cell_type": "code",
   "execution_count": null,
   "id": "2b1dff28",
   "metadata": {},
   "outputs": [],
   "source": [
    "# column-wise operation\n",
    "b.sum(axis = 0)"
   ]
  },
  {
   "cell_type": "code",
   "execution_count": null,
   "id": "20dc87e8",
   "metadata": {},
   "outputs": [],
   "source": [
    "# row-wise operation\n",
    "b.sum(axis = 1)"
   ]
  },
  {
   "cell_type": "markdown",
   "id": "b085ce47",
   "metadata": {
    "slideshow": {
     "slide_type": "slide"
    }
   },
   "source": [
    "### 2.2 Initialization"
   ]
  },
  {
   "cell_type": "markdown",
   "id": "6a41c180",
   "metadata": {
    "slideshow": {
     "slide_type": "slide"
    }
   },
   "source": [
    "**Initialization functions** allow to construct *n*-dimensional arrays with pre-instructed procedures to fill each data point:\n",
    "- `np.zeros()`, `np.zeros_like()`\n",
    "- `np.ones()`, `np.ones_like()`\n",
    "- `np.empty()`, `np.empty_like()`\n",
    "- `np.eye()`\n",
    "- `np.linspace()`"
   ]
  },
  {
   "cell_type": "markdown",
   "id": "8cfdd5e9",
   "metadata": {
    "slideshow": {
     "slide_type": "slide"
    }
   },
   "source": [
    "For initialization functions, one can provide the following parameters:\n",
    "- `shape`: Either an `int`, a sequence of `int` objects, or a reference to another `ndarray`\n",
    "- `dtype` (*optional*): A `dtype`—these are `NumPy`-specific data types for `ndarray` objects"
   ]
  },
  {
   "cell_type": "markdown",
   "id": "516703dd",
   "metadata": {
    "slideshow": {
     "slide_type": "slide"
    }
   },
   "source": [
    "|dtype | Description|\n",
    "| --- | ---- |\n",
    "| ? | Boolean| \n",
    "| i | Signed integer |\n",
    "| u | Unsigned integer |\n",
    "| f | Floating point |\n",
    "| c | Complex floating point |\n",
    "| m | timedelta |\n",
    "| M | datetime |\n",
    "| O | Object |\n",
    "| U | Unicode |\n",
    "| V | Raw data (void)|"
   ]
  },
  {
   "cell_type": "markdown",
   "id": "55d56f50",
   "metadata": {
    "slideshow": {
     "slide_type": "slide"
    }
   },
   "source": [
    "#### `np.zeros()`"
   ]
  },
  {
   "cell_type": "markdown",
   "id": "f1f8682a",
   "metadata": {
    "slideshow": {
     "slide_type": "-"
    }
   },
   "source": [
    "The `np.zeros()` function creates a 2-dimensional array of zeros with specific characteristics."
   ]
  },
  {
   "cell_type": "code",
   "execution_count": null,
   "id": "b3957b25",
   "metadata": {
    "slideshow": {
     "slide_type": "slide"
    }
   },
   "outputs": [],
   "source": [
    "c = np.zeros((2, 3), dtype='i')\n",
    "c"
   ]
  },
  {
   "cell_type": "code",
   "execution_count": null,
   "id": "6a36f969",
   "metadata": {},
   "outputs": [],
   "source": [
    "d = np.zeros_like(c, dtype='f')\n",
    "d"
   ]
  },
  {
   "cell_type": "markdown",
   "id": "9f9a6947",
   "metadata": {
    "slideshow": {
     "slide_type": "slide"
    }
   },
   "source": [
    "#### `np.ones()`"
   ]
  },
  {
   "cell_type": "markdown",
   "id": "a88ea720",
   "metadata": {
    "slideshow": {
     "slide_type": "-"
    }
   },
   "source": [
    "The `np.ones()` function creates a 2-dimensional array of ones with specific characteristics."
   ]
  },
  {
   "cell_type": "code",
   "execution_count": null,
   "id": "78eedd8f",
   "metadata": {
    "slideshow": {
     "slide_type": "slide"
    }
   },
   "outputs": [],
   "source": [
    "c = np.ones((2, 3, 4), dtype='i')\n",
    "c"
   ]
  },
  {
   "cell_type": "markdown",
   "id": "8ae1ce8d",
   "metadata": {
    "slideshow": {
     "slide_type": "slide"
    }
   },
   "source": [
    "This example generates an array filled with ones. The shape of the array is (2, 3, 4), which means it will have:\n",
    "- 2 blocks (first dimension),\n",
    "- each block contains 3 rows (second dimension),\n",
    "- and each row contains 4 elements (third dimension).\n",
    "\n",
    "The result is a 3D array like:\n",
    "```python\n",
    "[\n",
    "  [[1, 1, 1, 1], [1, 1, 1, 1], [1, 1, 1, 1]],  # First block (2x3x4)\n",
    "  [[1, 1, 1, 1], [1, 1, 1, 1], [1, 1, 1, 1]]   # Second block (2x3x4)\n",
    "]\n",
    "```"
   ]
  },
  {
   "cell_type": "code",
   "execution_count": null,
   "id": "22434478",
   "metadata": {
    "slideshow": {
     "slide_type": "slide"
    }
   },
   "outputs": [],
   "source": [
    "d = np.ones_like(c, dtype='f')\n",
    "d"
   ]
  },
  {
   "cell_type": "markdown",
   "id": "02dfc287",
   "metadata": {
    "slideshow": {
     "slide_type": "slide"
    }
   },
   "source": [
    "#### `np.empty()`"
   ]
  },
  {
   "cell_type": "markdown",
   "id": "cf723f1b",
   "metadata": {
    "slideshow": {
     "slide_type": "-"
    }
   },
   "source": [
    "Unlike `np.ones()` or `np.zeros()`, `np.empty()` does not initialize the array with any specific values like 1 or 0. \n",
    "\n",
    "Instead, it leaves the array filled with whatever data is already in memory at that location. This means the array will have arbitrary values, often referred to as “garbage” values. This makes np.empty() faster than functions that initialize the array with specific values because it skips that step.\n",
    "\n",
    "**Empty view**\n",
    "\n",
    "```python\n",
    "[\n",
    "  [[?, ?], [?, ?], [?, ?]],  # First block (2x3x2)\n",
    "  [[?, ?], [?, ?], [?, ?]]   # Second block (2x3x2)\n",
    "]\n",
    "```\n",
    "\n",
    "Where the `?` symbols represent random or garbage values, because the array is uninitialized."
   ]
  },
  {
   "cell_type": "code",
   "execution_count": null,
   "id": "8157e4f6",
   "metadata": {
    "slideshow": {
     "slide_type": "slide"
    }
   },
   "outputs": [],
   "source": [
    "e = np.empty((2, 3, 2))\n",
    "e"
   ]
  },
  {
   "cell_type": "code",
   "execution_count": null,
   "id": "2319690d",
   "metadata": {},
   "outputs": [],
   "source": [
    "f = np.empty_like(c)\n",
    "f"
   ]
  },
  {
   "cell_type": "markdown",
   "id": "fd54de69",
   "metadata": {
    "slideshow": {
     "slide_type": "slide"
    }
   },
   "source": [
    "#### `np.eye()`"
   ]
  },
  {
   "cell_type": "markdown",
   "id": "5be7d5e6",
   "metadata": {
    "slideshow": {
     "slide_type": "-"
    }
   },
   "source": [
    "The `np.eye(n)` function creates a 2D identity matrix of size nxn"
   ]
  },
  {
   "cell_type": "code",
   "execution_count": null,
   "id": "37530ddd",
   "metadata": {
    "slideshow": {
     "slide_type": "slide"
    }
   },
   "outputs": [],
   "source": [
    "np.eye(5)"
   ]
  },
  {
   "cell_type": "markdown",
   "id": "58128315",
   "metadata": {
    "slideshow": {
     "slide_type": "slide"
    }
   },
   "source": [
    "#### `np.linspace()`"
   ]
  },
  {
   "cell_type": "markdown",
   "id": "8f0331e8",
   "metadata": {
    "slideshow": {
     "slide_type": "-"
    }
   },
   "source": [
    "The `np.linspace()` function creates a 1-dimensional array of evenly spaced numbers."
   ]
  },
  {
   "cell_type": "code",
   "execution_count": null,
   "id": "eec0260c",
   "metadata": {
    "slideshow": {
     "slide_type": "slide"
    }
   },
   "outputs": [],
   "source": [
    "g = np.linspace(5, 15, 12)\n",
    "g"
   ]
  },
  {
   "cell_type": "markdown",
   "id": "5558a8c9",
   "metadata": {
    "slideshow": {
     "slide_type": "slide"
    }
   },
   "source": [
    "### 2.3 Metainformation"
   ]
  },
  {
   "cell_type": "markdown",
   "id": "4e9e6f1d",
   "metadata": {
    "slideshow": {
     "slide_type": "-"
    }
   },
   "source": [
    "Arrays deliver several meta-information."
   ]
  },
  {
   "cell_type": "markdown",
   "id": "9f7c1dcd",
   "metadata": {
    "slideshow": {
     "slide_type": "slide"
    }
   },
   "source": [
    "- `size` returns the total number of elements in the array"
   ]
  },
  {
   "cell_type": "code",
   "execution_count": null,
   "id": "2c189f54",
   "metadata": {},
   "outputs": [],
   "source": [
    "g.size"
   ]
  },
  {
   "cell_type": "markdown",
   "id": "a81ae87d",
   "metadata": {
    "slideshow": {
     "slide_type": "slide"
    }
   },
   "source": [
    "- `itemsize` returns the size (in bytes) of each element in the array"
   ]
  },
  {
   "cell_type": "code",
   "execution_count": null,
   "id": "b0c83a54",
   "metadata": {},
   "outputs": [],
   "source": [
    "g.itemsize"
   ]
  },
  {
   "cell_type": "markdown",
   "id": "e35f14b5",
   "metadata": {
    "slideshow": {
     "slide_type": "slide"
    }
   },
   "source": [
    "- `ndim` returns the number of dimensions of the array"
   ]
  },
  {
   "cell_type": "code",
   "execution_count": null,
   "id": "05cd684e",
   "metadata": {},
   "outputs": [],
   "source": [
    "g.ndim"
   ]
  },
  {
   "cell_type": "markdown",
   "id": "f797fb76",
   "metadata": {
    "slideshow": {
     "slide_type": "slide"
    }
   },
   "source": [
    "- `shape` returns the shape of the array"
   ]
  },
  {
   "cell_type": "code",
   "execution_count": null,
   "id": "81bb9a84",
   "metadata": {},
   "outputs": [],
   "source": [
    "g.shape"
   ]
  },
  {
   "cell_type": "markdown",
   "id": "ca2cdac8",
   "metadata": {
    "slideshow": {
     "slide_type": "slide"
    }
   },
   "source": [
    "- `dtype` returns the data type of the elements in the array"
   ]
  },
  {
   "cell_type": "code",
   "execution_count": null,
   "id": "cccc9991",
   "metadata": {},
   "outputs": [],
   "source": [
    "g.dtype"
   ]
  },
  {
   "cell_type": "markdown",
   "id": "88b59334",
   "metadata": {
    "slideshow": {
     "slide_type": "slide"
    }
   },
   "source": [
    "- `nbytes` returns the total number of bytes consumed by the elements of the array"
   ]
  },
  {
   "cell_type": "code",
   "execution_count": null,
   "id": "f1f2a706",
   "metadata": {},
   "outputs": [],
   "source": [
    "g.nbytes"
   ]
  },
  {
   "cell_type": "markdown",
   "id": "e6fb5dcd",
   "metadata": {
    "slideshow": {
     "slide_type": "slide"
    }
   },
   "source": [
    "### 2.4 Structural operations"
   ]
  },
  {
   "cell_type": "code",
   "execution_count": null,
   "id": "c26ff356",
   "metadata": {
    "slideshow": {
     "slide_type": "slide"
    }
   },
   "outputs": [],
   "source": [
    "# Initialise an array\n",
    "g = np.arange(15)\n",
    "print (g)\n",
    "print (g.shape)\n",
    "print (np.shape(g))"
   ]
  },
  {
   "cell_type": "markdown",
   "id": "ccf34b30",
   "metadata": {
    "slideshow": {
     "slide_type": "slide"
    }
   },
   "source": [
    "#### Reshaping"
   ]
  },
  {
   "cell_type": "markdown",
   "id": "d681be77",
   "metadata": {
    "slideshow": {
     "slide_type": "-"
    }
   },
   "source": [
    "Reshaping provides another view on the same data. During a reshaping operation, the total number of elements in the ndarray object is unchanged.\n",
    "- `np.shape(a, newshape)`\n",
    "- `np.reshape(a, newshape)`"
   ]
  },
  {
   "cell_type": "code",
   "execution_count": null,
   "id": "1a4e6a46",
   "metadata": {
    "scrolled": true,
    "slideshow": {
     "slide_type": "slide"
    }
   },
   "outputs": [],
   "source": [
    "g.reshape((3,5))"
   ]
  },
  {
   "cell_type": "code",
   "execution_count": null,
   "id": "e94be42c",
   "metadata": {
    "scrolled": true
   },
   "outputs": [],
   "source": [
    "h = g.reshape((5,3))\n",
    "h"
   ]
  },
  {
   "cell_type": "markdown",
   "id": "dbed627b",
   "metadata": {
    "slideshow": {
     "slide_type": "slide"
    }
   },
   "source": [
    "#### Transposing"
   ]
  },
  {
   "cell_type": "markdown",
   "id": "2be52118",
   "metadata": {
    "slideshow": {
     "slide_type": "-"
    }
   },
   "source": [
    "Transposing creates a view of the original array (i.e., it does not create a new object unless explicitly copied). The dimensions (axes) of the `ndarray` object are swapped. For 2D arrays, this means rows become columns and columns become rows. For higher-dimensional arrays, the axes are reordered according to the shape.\n",
    "\n",
    "- `a.transpose(*axes)`\n",
    "- `np.transpose(a, axes)`"
   ]
  },
  {
   "cell_type": "code",
   "execution_count": null,
   "id": "5bcaedd0",
   "metadata": {
    "scrolled": false,
    "slideshow": {
     "slide_type": "slide"
    }
   },
   "outputs": [],
   "source": [
    "h.transpose()"
   ]
  },
  {
   "cell_type": "code",
   "execution_count": null,
   "id": "edc6c127",
   "metadata": {
    "scrolled": true
   },
   "outputs": [],
   "source": [
    "h.T"
   ]
  },
  {
   "cell_type": "markdown",
   "id": "0337a206",
   "metadata": {
    "slideshow": {
     "slide_type": "slide"
    }
   },
   "source": [
    "#### Resizing "
   ]
  },
  {
   "cell_type": "markdown",
   "id": "2e83e690",
   "metadata": {
    "slideshow": {
     "slide_type": "-"
    }
   },
   "source": [
    "Resizing creates a new (temporary) object. \n",
    "\n",
    "During a resizing operation, the total number of elements in the `ndarray` object changes: it either decreases (“down-sizing”) or increases (“up-sizing”).\n",
    "- `resize(a, newshape)`\n",
    "- `np.resize(a, newshape)`"
   ]
  },
  {
   "cell_type": "code",
   "execution_count": null,
   "id": "c926244e",
   "metadata": {
    "slideshow": {
     "slide_type": "slide"
    }
   },
   "outputs": [],
   "source": [
    "np.resize(g,(3,1))"
   ]
  },
  {
   "cell_type": "code",
   "execution_count": null,
   "id": "ff735f46",
   "metadata": {},
   "outputs": [],
   "source": [
    "np.resize(g, (1, 5))"
   ]
  },
  {
   "cell_type": "code",
   "execution_count": null,
   "id": "7483bb51",
   "metadata": {},
   "outputs": [],
   "source": [
    "np.resize(g, (2, 5))"
   ]
  },
  {
   "cell_type": "code",
   "execution_count": null,
   "id": "8cbf3559",
   "metadata": {},
   "outputs": [],
   "source": [
    "n = np.resize(g, (5, 4))\n",
    "n"
   ]
  },
  {
   "cell_type": "markdown",
   "id": "926fbe16",
   "metadata": {
    "slideshow": {
     "slide_type": "slide"
    }
   },
   "source": [
    "#### Stacking"
   ]
  },
  {
   "cell_type": "markdown",
   "id": "af4955d6",
   "metadata": {
    "slideshow": {
     "slide_type": "-"
    }
   },
   "source": [
    "Stacking joins a sequence of arrays along a new axis. This is used to combine arrays into a single array with a new dimension. The arrays must have the same shape, except along the axis being stacked.\n",
    "\n",
    "- `np.stack(arrays, axis=0)`\n",
    "- `np.hstack(tup)` (for horizontal stacking)\n",
    "- `np.vstack(tup)` (for vertical stacking)"
   ]
  },
  {
   "cell_type": "code",
   "execution_count": null,
   "id": "361c4c2e",
   "metadata": {
    "slideshow": {
     "slide_type": "slide"
    }
   },
   "outputs": [],
   "source": [
    "a = np.array([1, 2])\n",
    "b = np.array([3, 4])"
   ]
  },
  {
   "cell_type": "code",
   "execution_count": null,
   "id": "a11860bf",
   "metadata": {},
   "outputs": [],
   "source": [
    "# Stacking along a new axis\n",
    "np.stack((a, b), axis=0)"
   ]
  },
  {
   "cell_type": "code",
   "execution_count": null,
   "id": "4c6f2714",
   "metadata": {},
   "outputs": [],
   "source": [
    "np.stack((a, b), axis=1)  "
   ]
  },
  {
   "cell_type": "code",
   "execution_count": null,
   "id": "eb44a315",
   "metadata": {},
   "outputs": [],
   "source": [
    "# Horizontal and vertical stacking\n",
    "np.hstack((a, b))"
   ]
  },
  {
   "cell_type": "code",
   "execution_count": null,
   "id": "d2b11475",
   "metadata": {},
   "outputs": [],
   "source": [
    "np.vstack((a, b)) "
   ]
  },
  {
   "cell_type": "code",
   "execution_count": null,
   "id": "da9d1443",
   "metadata": {
    "slideshow": {
     "slide_type": "slide"
    }
   },
   "outputs": [],
   "source": [
    "h"
   ]
  },
  {
   "cell_type": "code",
   "execution_count": null,
   "id": "3ebf795e",
   "metadata": {},
   "outputs": [],
   "source": [
    "# horizontal stacking\n",
    "np.hstack((h,2*h))"
   ]
  },
  {
   "cell_type": "code",
   "execution_count": null,
   "id": "fd2929f9",
   "metadata": {},
   "outputs": [],
   "source": [
    "# vertical stacking\n",
    "np.vstack((h, 0.5 * h))"
   ]
  },
  {
   "cell_type": "markdown",
   "id": "3c411dfe",
   "metadata": {
    "slideshow": {
     "slide_type": "slide"
    }
   },
   "source": [
    "#### Flattening"
   ]
  },
  {
   "cell_type": "markdown",
   "id": "cb21ef81",
   "metadata": {
    "slideshow": {
     "slide_type": "-"
    }
   },
   "source": [
    "Flattening refers to converting a multi-dimensional array into a 1-dimensional array. This is useful when processing the array as a sequence of elements, regardless of its original shape.\n",
    "- `a.flatten()`\n",
    "- `np.ravel(a)`"
   ]
  },
  {
   "cell_type": "code",
   "execution_count": null,
   "id": "2264988f",
   "metadata": {
    "slideshow": {
     "slide_type": "slide"
    }
   },
   "outputs": [],
   "source": [
    "a = np.array([[1, 2], [3, 4]])\n",
    "\n",
    "# Flattening the array\n",
    "a.flatten()"
   ]
  },
  {
   "cell_type": "code",
   "execution_count": null,
   "id": "2c33b95d",
   "metadata": {},
   "outputs": [],
   "source": [
    "np.ravel(a)"
   ]
  },
  {
   "cell_type": "code",
   "execution_count": null,
   "id": "7b817ed2",
   "metadata": {
    "slideshow": {
     "slide_type": "slide"
    }
   },
   "outputs": [],
   "source": [
    "h"
   ]
  },
  {
   "cell_type": "code",
   "execution_count": null,
   "id": "6588f00d",
   "metadata": {},
   "outputs": [],
   "source": [
    "h.flatten()"
   ]
  },
  {
   "cell_type": "code",
   "execution_count": null,
   "id": "acb63ccf",
   "metadata": {},
   "outputs": [],
   "source": [
    "for i in h.flat:\n",
    "    print(i, end=',')"
   ]
  },
  {
   "cell_type": "markdown",
   "id": "334e5f68",
   "metadata": {
    "slideshow": {
     "slide_type": "slide"
    }
   },
   "source": [
    "### 2.5 Boolean arrays"
   ]
  },
  {
   "cell_type": "markdown",
   "id": "5caa0401",
   "metadata": {
    "slideshow": {
     "slide_type": "slide"
    }
   },
   "source": [
    "Logical operations work on `ndarray` objects the same way, element-wise, as on standard Python data types. "
   ]
  },
  {
   "cell_type": "code",
   "execution_count": null,
   "id": "c0844a57",
   "metadata": {
    "slideshow": {
     "slide_type": "slide"
    }
   },
   "outputs": [],
   "source": [
    "h"
   ]
  },
  {
   "cell_type": "markdown",
   "id": "a8192701",
   "metadata": {
    "slideshow": {
     "slide_type": "slide"
    }
   },
   "source": [
    "#### Basics"
   ]
  },
  {
   "cell_type": "code",
   "execution_count": null,
   "id": "b648e169",
   "metadata": {
    "slideshow": {
     "slide_type": "-"
    }
   },
   "outputs": [],
   "source": [
    "h > 8"
   ]
  },
  {
   "cell_type": "code",
   "execution_count": null,
   "id": "4e1f376b",
   "metadata": {},
   "outputs": [],
   "source": [
    "h <= 7"
   ]
  },
  {
   "cell_type": "code",
   "execution_count": null,
   "id": "e3d73707",
   "metadata": {},
   "outputs": [],
   "source": [
    "h == 5"
   ]
  },
  {
   "cell_type": "code",
   "execution_count": null,
   "id": "6fc300a0",
   "metadata": {
    "slideshow": {
     "slide_type": "slide"
    }
   },
   "outputs": [],
   "source": [
    "(h == 5).astype(int)"
   ]
  },
  {
   "cell_type": "code",
   "execution_count": null,
   "id": "745afaf8",
   "metadata": {},
   "outputs": [],
   "source": [
    "(h > 4 ) & (h <= 12)"
   ]
  },
  {
   "cell_type": "markdown",
   "id": "eccda263",
   "metadata": {
    "slideshow": {
     "slide_type": "slide"
    }
   },
   "source": [
    "#### Boolean filtering"
   ]
  },
  {
   "cell_type": "code",
   "execution_count": null,
   "id": "e3a5c70e",
   "metadata": {
    "slideshow": {
     "slide_type": "-"
    }
   },
   "outputs": [],
   "source": [
    "h[h > 8]"
   ]
  },
  {
   "cell_type": "code",
   "execution_count": null,
   "id": "a7d86bea",
   "metadata": {},
   "outputs": [],
   "source": [
    "h[(h > 4) & (h <= 12)]"
   ]
  },
  {
   "cell_type": "code",
   "execution_count": null,
   "id": "c00f8860",
   "metadata": {},
   "outputs": [],
   "source": [
    "h[(h < 4) | (h >= 12)]"
   ]
  },
  {
   "cell_type": "markdown",
   "id": "7ab7c075",
   "metadata": {
    "slideshow": {
     "slide_type": "slide"
    }
   },
   "source": [
    "**`np.where()`** returns the indices of elements in an input array that satisfy a given condition. It can also be used to return values from one of two arrays, depending on a condition (conditional selection).\n",
    "- `np.where(condition, [x, y])`:\n",
    "    - If only `condition` is provided, `np.where()` returns the indices where the condition is `True`.\n",
    "    - If `x` and `y` are also provided, `np.where()` returns elements from `x` where the condition is `True`, and from `y` where the condition is `False`."
   ]
  },
  {
   "cell_type": "code",
   "execution_count": null,
   "id": "0845a3dc",
   "metadata": {
    "slideshow": {
     "slide_type": "slide"
    }
   },
   "outputs": [],
   "source": [
    "a = np.array([1, 2, 3, 4, 5])\n",
    "np.where(a > 3)"
   ]
  },
  {
   "cell_type": "code",
   "execution_count": null,
   "id": "fc1b388a",
   "metadata": {},
   "outputs": [],
   "source": [
    "np.where(np.eye(10)>0)"
   ]
  },
  {
   "cell_type": "code",
   "execution_count": null,
   "id": "6f4b9cae",
   "metadata": {},
   "outputs": [],
   "source": [
    "# use the np.where() function\n",
    "np.where(h > 7, 1, 0)"
   ]
  },
  {
   "cell_type": "code",
   "execution_count": null,
   "id": "16bf89e4",
   "metadata": {
    "slideshow": {
     "slide_type": "slide"
    }
   },
   "outputs": [],
   "source": [
    "np.where(h % 2 == 0, 'even', 'odd')"
   ]
  },
  {
   "cell_type": "code",
   "execution_count": null,
   "id": "461f4b1e",
   "metadata": {},
   "outputs": [],
   "source": [
    "np.where(h <= 7, h * 2, h / 2)"
   ]
  },
  {
   "cell_type": "markdown",
   "id": "c0479e5e",
   "metadata": {
    "slideshow": {
     "slide_type": "slide"
    }
   },
   "source": [
    "## 3. Structured NumPy arrays"
   ]
  },
  {
   "cell_type": "markdown",
   "id": "ed43c562",
   "metadata": {
    "slideshow": {
     "slide_type": "slide"
    }
   },
   "source": [
    "Structured `ndarray` objects allow to have a different `dtype` per column.\n",
    "\n",
    "The construction is similar to the operation for initializing tables in a database (e.g., SQL): one has column names and column data types, with maybe some additional information (e.g., maximum number of characters per str object)."
   ]
  },
  {
   "cell_type": "code",
   "execution_count": null,
   "id": "fa145a69",
   "metadata": {
    "slideshow": {
     "slide_type": "slide"
    }
   },
   "outputs": [],
   "source": [
    "dt = np.dtype([('Name', 'S10'), ('Age', 'i'),\n",
    "                             ('Height', 'f'), ('Children/Pets', 'i', 2)])\n",
    "dt"
   ]
  },
  {
   "cell_type": "code",
   "execution_count": null,
   "id": "a993ead5",
   "metadata": {},
   "outputs": [],
   "source": [
    "# alternative\n",
    "dt = np.dtype({'names': ['Name', 'Age', 'Height', 'Children/Pets'],\n",
    "                       'formats':'O int float int,int'.split()})\n",
    "dt"
   ]
  },
  {
   "cell_type": "code",
   "execution_count": null,
   "id": "fc3ebe75",
   "metadata": {},
   "outputs": [],
   "source": [
    "s = np.array([('Smith', 45, 1.83, (0, 1)),\n",
    "                        ('Jones', 53, 1.72, (2, 2))], dtype=dt)\n",
    "s"
   ]
  },
  {
   "cell_type": "code",
   "execution_count": null,
   "id": "25e78618",
   "metadata": {},
   "outputs": [],
   "source": [
    "type(s)"
   ]
  },
  {
   "cell_type": "markdown",
   "id": "09751b91",
   "metadata": {
    "slideshow": {
     "slide_type": "slide"
    }
   },
   "source": [
    "**Indexing**\n",
    "\n",
    "The single columns can now be easily accessed by their names and the rows by their index values."
   ]
  },
  {
   "cell_type": "code",
   "execution_count": null,
   "id": "126d4384",
   "metadata": {
    "slideshow": {
     "slide_type": "slide"
    }
   },
   "outputs": [],
   "source": [
    "s['Name']"
   ]
  },
  {
   "cell_type": "code",
   "execution_count": null,
   "id": "d0fe6f18",
   "metadata": {},
   "outputs": [],
   "source": [
    "s['Height'].mean()"
   ]
  },
  {
   "cell_type": "code",
   "execution_count": null,
   "id": "7f6f5a4c",
   "metadata": {},
   "outputs": [],
   "source": [
    "s[0]"
   ]
  },
  {
   "cell_type": "code",
   "execution_count": null,
   "id": "ec0f8433",
   "metadata": {},
   "outputs": [],
   "source": [
    "s[1]['Age']"
   ]
  },
  {
   "cell_type": "markdown",
   "id": "962e5855",
   "metadata": {
    "slideshow": {
     "slide_type": "slide"
    }
   },
   "source": [
    "## 4. Vectorized programming"
   ]
  },
  {
   "cell_type": "markdown",
   "id": "bb97ae4b",
   "metadata": {
    "slideshow": {
     "slide_type": "slide"
    }
   },
   "source": [
    "**Vectorization** is a strategy to get **more compact code** that is possibly executed **faster** by simplifying the treatment and operations over `array` (vector) objects. \n",
    "\n",
    "The fundamental idea is to conduct an operation on or to apply a function to a complex `array` object “**at once**” and **not by looping** over the single elements of the object. \n",
    "\n",
    "`NumPy` has vectorization built in deep down in its core."
   ]
  },
  {
   "cell_type": "markdown",
   "id": "5f5f60ae",
   "metadata": {
    "slideshow": {
     "slide_type": "slide"
    }
   },
   "source": [
    "#### Operations"
   ]
  },
  {
   "cell_type": "code",
   "execution_count": null,
   "id": "bc08d93a",
   "metadata": {
    "slideshow": {
     "slide_type": "-"
    }
   },
   "outputs": [],
   "source": [
    "r = np.arange(12).reshape((4, 3))\n",
    "s = np.arange(12).reshape((4, 3)) * 0.5"
   ]
  },
  {
   "cell_type": "code",
   "execution_count": null,
   "id": "9c0531f0",
   "metadata": {},
   "outputs": [],
   "source": [
    "r"
   ]
  },
  {
   "cell_type": "code",
   "execution_count": null,
   "id": "d461c7e6",
   "metadata": {},
   "outputs": [],
   "source": [
    "s"
   ]
  },
  {
   "cell_type": "code",
   "execution_count": null,
   "id": "ba28a1b9",
   "metadata": {},
   "outputs": [],
   "source": [
    "r + s"
   ]
  },
  {
   "cell_type": "code",
   "execution_count": null,
   "id": "5749a83e",
   "metadata": {
    "slideshow": {
     "slide_type": "slide"
    }
   },
   "outputs": [],
   "source": [
    "r + 3"
   ]
  },
  {
   "cell_type": "code",
   "execution_count": null,
   "id": "d730bfc6",
   "metadata": {},
   "outputs": [],
   "source": [
    "2 * r"
   ]
  },
  {
   "cell_type": "code",
   "execution_count": null,
   "id": "ea59a6be",
   "metadata": {},
   "outputs": [],
   "source": [
    "2 * r + 3"
   ]
  },
  {
   "cell_type": "markdown",
   "id": "cf90a229",
   "metadata": {
    "slideshow": {
     "slide_type": "slide"
    }
   },
   "source": [
    "#### Role of  shapes"
   ]
  },
  {
   "cell_type": "code",
   "execution_count": null,
   "id": "494e77e0",
   "metadata": {
    "slideshow": {
     "slide_type": "-"
    }
   },
   "outputs": [],
   "source": [
    "r.shape"
   ]
  },
  {
   "cell_type": "code",
   "execution_count": null,
   "id": "1396fd98",
   "metadata": {
    "hideOutput": true
   },
   "outputs": [],
   "source": [
    "r"
   ]
  },
  {
   "cell_type": "code",
   "execution_count": null,
   "id": "34aae90d",
   "metadata": {},
   "outputs": [],
   "source": [
    "s = np.arange(0, 12, 4)\n",
    "s"
   ]
  },
  {
   "cell_type": "code",
   "execution_count": null,
   "id": "f5e0d276",
   "metadata": {},
   "outputs": [],
   "source": [
    "r + s"
   ]
  },
  {
   "cell_type": "code",
   "execution_count": null,
   "id": "32dbe9ad",
   "metadata": {
    "slideshow": {
     "slide_type": "slide"
    }
   },
   "outputs": [],
   "source": [
    "s = np.arange(0, 12, 3)"
   ]
  },
  {
   "cell_type": "code",
   "execution_count": null,
   "id": "45ca0f62",
   "metadata": {},
   "outputs": [],
   "source": [
    "r + s"
   ]
  },
  {
   "cell_type": "code",
   "execution_count": null,
   "id": "dd44d55b",
   "metadata": {},
   "outputs": [],
   "source": [
    "r.transpose() + s"
   ]
  },
  {
   "cell_type": "markdown",
   "id": "7f123539",
   "metadata": {
    "slideshow": {
     "slide_type": "slide"
    }
   },
   "source": [
    "#### Applying functions"
   ]
  },
  {
   "cell_type": "code",
   "execution_count": null,
   "id": "1d475658",
   "metadata": {
    "slideshow": {
     "slide_type": "-"
    }
   },
   "outputs": [],
   "source": [
    "def f(x):\n",
    "    return 3 * x + 5"
   ]
  },
  {
   "cell_type": "code",
   "execution_count": null,
   "id": "b91c2c71",
   "metadata": {},
   "outputs": [],
   "source": [
    "f(0.5)"
   ]
  },
  {
   "cell_type": "code",
   "execution_count": null,
   "id": "fe204358",
   "metadata": {},
   "outputs": [],
   "source": [
    "f(r)"
   ]
  },
  {
   "cell_type": "markdown",
   "id": "4adaf864",
   "metadata": {
    "slideshow": {
     "slide_type": "slide"
    }
   },
   "source": [
    "## 5. Random number generation "
   ]
  },
  {
   "cell_type": "markdown",
   "id": "e6846f38",
   "metadata": {
    "slideshow": {
     "slide_type": "slide"
    }
   },
   "source": [
    "Random number generation is often essential, particularly in simulations like Monte Carlo methods. `NumPy` provides a convenient and powerful way to generate random numbers through the `np.random` module."
   ]
  },
  {
   "cell_type": "markdown",
   "id": "0b2feee3",
   "metadata": {
    "slideshow": {
     "slide_type": "slide"
    }
   },
   "source": [
    "- `rand()`: generates numbers between 0 and 1."
   ]
  },
  {
   "cell_type": "code",
   "execution_count": null,
   "id": "d6394fa8",
   "metadata": {},
   "outputs": [],
   "source": [
    "np.random.rand(5)"
   ]
  },
  {
   "cell_type": "markdown",
   "id": "610f6034",
   "metadata": {
    "slideshow": {
     "slide_type": "slide"
    }
   },
   "source": [
    "- `randn()`: generates numbers with a mean of 0 and a standard deviation of 1 by default."
   ]
  },
  {
   "cell_type": "code",
   "execution_count": null,
   "id": "fc900d30",
   "metadata": {},
   "outputs": [],
   "source": [
    "np.random.randn(5)"
   ]
  },
  {
   "cell_type": "markdown",
   "id": "6495e311",
   "metadata": {
    "slideshow": {
     "slide_type": "slide"
    }
   },
   "source": [
    "- `normal(mean, std, n)`: generates random *n* numbers from a normal distribution with mean and std"
   ]
  },
  {
   "cell_type": "code",
   "execution_count": null,
   "id": "09194cd5",
   "metadata": {},
   "outputs": [],
   "source": [
    "# Simulate 10 days of daily returns with a mean of 0.001 and std deviation of 0.02\n",
    "daily_returns = np.random.normal(0.001, 0.02, 10)\n",
    "daily_returns"
   ]
  },
  {
   "cell_type": "markdown",
   "id": "7fc00bb4",
   "metadata": {
    "slideshow": {
     "slide_type": "slide"
    }
   },
   "source": [
    "- `randint()`: generates random integers"
   ]
  },
  {
   "cell_type": "code",
   "execution_count": null,
   "id": "240abaca",
   "metadata": {},
   "outputs": [],
   "source": [
    "np.random.randint(1, 100, 5)"
   ]
  },
  {
   "cell_type": "markdown",
   "id": "6c5f722c",
   "metadata": {
    "slideshow": {
     "slide_type": "slide"
    }
   },
   "source": [
    "## 6. Applications"
   ]
  },
  {
   "cell_type": "markdown",
   "id": "9f854344",
   "metadata": {
    "slideshow": {
     "slide_type": "slide"
    }
   },
   "source": [
    "### 6.1 Stock price simulations"
   ]
  },
  {
   "cell_type": "markdown",
   "id": "a6e866e5",
   "metadata": {
    "slideshow": {
     "slide_type": "slide"
    }
   },
   "source": [
    "#### Geometric brownian motion "
   ]
  },
  {
   "cell_type": "markdown",
   "id": "d84ae882",
   "metadata": {
    "slideshow": {
     "slide_type": "-"
    }
   },
   "source": [
    "In finance, the Geometric Brownian Motion model is commonly used to simulate the future path of stock prices. The model is represented by the following equation:\n",
    "\n",
    "$$\n",
    "S_{t+1} = S_t \\times e^{(\\mu - 0.5 \\times \\sigma^2) \\Delta t + \\sigma \\times \\epsilon \\times \\sqrt{\\Delta t}}\n",
    "$$\n",
    "\n",
    "Where:\n",
    "- $ S_t $ is the stock price at time $ t $\n",
    "- $ \\mu $ is the expected return (mean)\n",
    "- $ \\sigma $ is the volatility (standard deviation)\n",
    "- $ \\Delta t $ is the time step (in days, for example)\n",
    "- $ \\epsilon $ is a random variable from a normal distribution"
   ]
  },
  {
   "cell_type": "markdown",
   "id": "b9a988cc",
   "metadata": {
    "slideshow": {
     "slide_type": "slide"
    }
   },
   "source": [
    "#### Simulating daily returns with `NumPy`"
   ]
  },
  {
   "cell_type": "markdown",
   "id": "cbde912d",
   "metadata": {
    "slideshow": {
     "slide_type": "-"
    }
   },
   "source": [
    "Let’s simulate daily stock price returns over a one-year period (252 trading days). Using `NumPy`, we can generate random normal values for the stock price fluctuations and compute the simulated prices."
   ]
  },
  {
   "cell_type": "code",
   "execution_count": null,
   "id": "fae57665",
   "metadata": {
    "slideshow": {
     "slide_type": "slide"
    }
   },
   "outputs": [],
   "source": [
    "import numpy as np\n",
    "\n",
    "# Parameters\n",
    "S0 = 100  # Initial stock price\n",
    "mu = 0.05  # Expected annual return\n",
    "sigma = 0.2  # Annual volatility\n",
    "T = 1  # Time horizon (in years)\n",
    "N = 252  # Number of trading days\n",
    "dt = T / N  # Time step (1 day)\n",
    "\n",
    "# Simulate random daily returns\n",
    "daily_returns = np.random.normal((mu - 0.5 * sigma**2) * dt, sigma * np.sqrt(dt), N)\n",
    "\n",
    "# Simulate stock prices\n",
    "prices = S0 * np.exp(np.cumsum(daily_returns))"
   ]
  },
  {
   "cell_type": "markdown",
   "id": "8d366c48",
   "metadata": {
    "slideshow": {
     "slide_type": "slide"
    }
   },
   "source": [
    "```python\n",
    "daily_returns = np.random.normal((mu - 0.5 * sigma**2) * dt, sigma * np.sqrt(dt), N)\n",
    "```\n",
    "This line generates random daily returns based on a normal distribution. \n",
    "- The mean of the distribution is adjusted by the term  $\\mu - 0.5 \\sigma^2$  to account for the fact that stock prices follow a geometric Brownian motion.\n",
    "- The standard deviation of the returns is  $\\sigma \\sqrt{dt}$ , which scales the annual volatility to daily volatility."
   ]
  },
  {
   "cell_type": "markdown",
   "id": "ad3a5df6",
   "metadata": {
    "slideshow": {
     "slide_type": "slide"
    }
   },
   "source": [
    "```python\n",
    "prices = S0 * np.exp(np.cumsum(daily_returns))\n",
    "```\n",
    "This line calculates the simulated stock prices using the exponential function. \n",
    "\n",
    "It does this by:\n",
    "- Using `np.cumsum(daily_returns)` to get the cumulative returns over time. The cumulative sum allows for the aggregation of daily returns into total returns.\n",
    "- The `np.exp(`) function then exponentiates these cumulative returns, which translates them into price levels.\n",
    "- Finally, the initial stock price `S0` is multiplied by the exponentiated cumulative returns to get the actual stock prices.\n"
   ]
  },
  {
   "cell_type": "code",
   "execution_count": null,
   "id": "d439e21d",
   "metadata": {
    "slideshow": {
     "slide_type": "slide"
    }
   },
   "outputs": [],
   "source": [
    "# Plot the simulated stock prices\n",
    "import matplotlib.pyplot as plt\n",
    "plt.plot(prices)\n",
    "plt.title('Simulated Stock Price Using Geometric Brownian Motion')\n",
    "plt.xlabel('Day')\n",
    "plt.ylabel('Price')\n",
    "plt.show()"
   ]
  },
  {
   "cell_type": "markdown",
   "id": "397e5a0b",
   "metadata": {
    "slideshow": {
     "slide_type": "slide"
    }
   },
   "source": [
    "### 6.2 Portfolio optimization"
   ]
  },
  {
   "cell_type": "markdown",
   "id": "fd3f9039",
   "metadata": {
    "slideshow": {
     "slide_type": "slide"
    }
   },
   "source": [
    "In portfolio management, finance professionals must calculate the returns, risks, and correlations of assets to construct optimal portfolios. `NumPy` makes this task efficient and straightforward by offering matrix operations and linear algebra functions."
   ]
  },
  {
   "cell_type": "markdown",
   "id": "5129d4c8",
   "metadata": {},
   "source": [
    "Let’s assume you have a portfolio with three assets. You can calculate the expected portfolio return and risk using `NumPy`.\n",
    "\n",
    "- The function `np.dot()` returns the product of matrices."
   ]
  },
  {
   "cell_type": "code",
   "execution_count": null,
   "id": "8a9e7d53",
   "metadata": {
    "slideshow": {
     "slide_type": "slide"
    }
   },
   "outputs": [],
   "source": [
    "# Asset returns (annualized)\n",
    "asset_returns = np.array([0.08, 0.12, 0.15])\n",
    "\n",
    "# Covariance matrix of asset returns\n",
    "cov_matrix = np.array([[0.005, -0.002, 0.004],\n",
    "                       [-0.002, 0.010, -0.003],\n",
    "                       [0.004, -0.003, 0.015]])\n",
    "\n",
    "# Portfolio weights\n",
    "weights = np.array([0.4, 0.3, 0.3])\n",
    "\n",
    "# Calculate portfolio return\n",
    "portfolio_return = np.dot(weights, asset_returns)\n",
    "\n",
    "# Calculate portfolio risk (standard deviation)\n",
    "portfolio_risk = np.sqrt(np.dot(weights.T, np.dot(cov_matrix, weights)))\n",
    "\n",
    "print(f\"Expected Portfolio Return: {portfolio_return:.2%}\")\n",
    "print(f\"Portfolio Risk (Standard Deviation): {portfolio_risk:.2%}\")"
   ]
  },
  {
   "cell_type": "markdown",
   "id": "8ffc8d37",
   "metadata": {
    "slideshow": {
     "slide_type": "slide"
    }
   },
   "source": [
    "```python\n",
    "portfolio_return = np.dot(weights, asset_returns)\n",
    "```\n",
    "The expected portfolio return is calculated using the dot product of the portfolio weights and the asset returns. This calculation effectively gives the weighted average return of the assets in the portfolio. \n",
    "\n",
    "The formula is:\n",
    "\n",
    "$$\\text{Portfolio Return} = w_1 \\cdot r_1 + w_2 \\cdot r_2 + w_3 \\cdot r_3$$\n",
    "\n",
    "In this case:\n",
    "\n",
    "$$\\text{Portfolio Return} = (0.4 \\times 0.08) + (0.3 \\times 0.12) + (0.3 \\times 0.15) = 0.104 \\text{ or } 10.4\\%$$\n"
   ]
  },
  {
   "cell_type": "markdown",
   "id": "ecfd1140",
   "metadata": {
    "slideshow": {
     "slide_type": "slide"
    }
   },
   "source": [
    "```python\n",
    "portfolio_risk = np.sqrt(np.dot(weights.T, np.dot(cov_matrix, weights)))\n",
    "```\n",
    "\n",
    "The portfolio risk is calculated using the covariance matrix and the portfolio weights. This formula computes the standard deviation of the portfolio, reflecting its total risk:\n",
    "\n",
    "$$\\text{Portfolio Risk} = \\sqrt{W^T \\Sigma W}$$\n",
    "\n",
    "where:\n",
    "- $W$ is the vector of weights.\n",
    "- $\\Sigma$  is the covariance matrix.\n",
    "- The inner product `np.dot(cov_matrix, weights)` calculates the weighted covariance for each asset, and then the outer product with `weights.T` provides the total variance of the portfolio. The square root of this value gives the standard deviation."
   ]
  },
  {
   "cell_type": "markdown",
   "id": "74f35dc7",
   "metadata": {
    "slideshow": {
     "slide_type": "slide"
    }
   },
   "source": [
    "### 6.3 Risk analysis"
   ]
  },
  {
   "cell_type": "markdown",
   "id": "d567e6ce",
   "metadata": {
    "slideshow": {
     "slide_type": "slide"
    }
   },
   "source": [
    "**Monte Carlo** simulations are widely used in finance to model the probability of different outcomes in uncertain environments. Let’s use `NumPy` to run a Monte Carlo simulation for portfolio returns."
   ]
  },
  {
   "cell_type": "code",
   "execution_count": null,
   "id": "e4306835",
   "metadata": {
    "slideshow": {
     "slide_type": "slide"
    }
   },
   "outputs": [],
   "source": [
    "# Parameters for simulation\n",
    "n_simulations = 10000  # Number of simulations\n",
    "n_days = 252  # One year of trading days\n",
    "mean_return = 0.001  # Mean daily return\n",
    "std_dev = 0.02  # Daily standard deviation\n",
    "\n",
    "# Simulate random daily returns for one year\n",
    "simulated_returns = np.random.normal(mean_return, std_dev, (n_simulations, n_days))\n",
    "\n",
    "# Calculate cumulative returns for each simulation\n",
    "cumulative_returns = np.cumprod(1 + simulated_returns, axis=1)\n",
    "\n",
    "# Final value of each simulation\n",
    "final_values = cumulative_returns[:, -1]"
   ]
  },
  {
   "cell_type": "markdown",
   "id": "7c84ffc3",
   "metadata": {
    "slideshow": {
     "slide_type": "slide"
    }
   },
   "source": [
    "```python\n",
    "simulated_returns = np.random.normal(mean_return, std_dev, (n_simulations, n_days))\n",
    "```\n",
    "This line generates a 2D array of random daily returns using a normal distribution.\n",
    "- Each row represents a separate simulation (one potential outcome for the year), and each column represents the daily returns for that simulation across 252 trading days.\n",
    "- The `np.random.normal` function takes the mean and standard deviation, generating random returns for each day in each simulation."
   ]
  },
  {
   "cell_type": "markdown",
   "id": "1d0340ae",
   "metadata": {
    "slideshow": {
     "slide_type": "slide"
    }
   },
   "source": [
    "```python\n",
    "cumulative_returns = np.cumprod(1 + simulated_returns, axis=1)\n",
    "```\n",
    "The cumulative returns are calculated by taking the product of the daily returns over time.\n",
    "- The expression `1 + simulated_returns` adjusts the returns to represent growth factors (e.g., if the return is 0.01, the growth factor is 1.01).\n",
    "- The `np.cumprod` function computes the cumulative product along the specified axis (here, `axis=1`, which means across each simulation)."
   ]
  },
  {
   "cell_type": "markdown",
   "id": "39d4ca76",
   "metadata": {
    "slideshow": {
     "slide_type": "slide"
    }
   },
   "source": [
    "```python\n",
    "final_values = cumulative_returns[:, -1]\n",
    "```\n",
    "This line extracts the final value of the portfolio at the end of the simulation period (after 252 days) for each of the 10,000 simulations.\n",
    "- `cumulative_returns[:, -1]` retrieves the last column of the cumulative returns matrix, representing the portfolio value after one year of trading."
   ]
  },
  {
   "cell_type": "code",
   "execution_count": null,
   "id": "1890c9e6",
   "metadata": {
    "slideshow": {
     "slide_type": "slide"
    }
   },
   "outputs": [],
   "source": [
    "# Plot distribution of final values\n",
    "plt.hist(final_values, bins=50, edgecolor='k')\n",
    "plt.title('Monte Carlo Simulation of Portfolio Returns')\n",
    "plt.xlabel('Final Portfolio Value')\n",
    "plt.ylabel('Frequency')\n",
    "plt.show()"
   ]
  },
  {
   "cell_type": "markdown",
   "id": "a0e2d68e",
   "metadata": {
    "slideshow": {
     "slide_type": "slide"
    }
   },
   "source": [
    "---"
   ]
  }
 ],
 "metadata": {
  "celltoolbar": "Slideshow",
  "kernelspec": {
   "display_name": "Python 3 (ipykernel)",
   "language": "python",
   "name": "python3"
  },
  "language_info": {
   "codemirror_mode": {
    "name": "ipython",
    "version": 3
   },
   "file_extension": ".py",
   "mimetype": "text/x-python",
   "name": "python",
   "nbconvert_exporter": "python",
   "pygments_lexer": "ipython3",
   "version": "3.9.12"
  }
 },
 "nbformat": 4,
 "nbformat_minor": 5
}
