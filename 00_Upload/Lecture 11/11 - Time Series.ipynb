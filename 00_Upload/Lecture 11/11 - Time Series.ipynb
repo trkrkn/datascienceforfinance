{
 "cells": [
  {
   "cell_type": "markdown",
   "id": "c94b5c1b",
   "metadata": {
    "slideshow": {
     "slide_type": "slide"
    }
   },
   "source": [
    "# Lecture 11 - Time Series Analysis"
   ]
  },
  {
   "cell_type": "markdown",
   "id": "bd05dbc9",
   "metadata": {
    "slideshow": {
     "slide_type": "slide"
    }
   },
   "source": [
    "## 1. Overview"
   ]
  },
  {
   "cell_type": "markdown",
   "id": "558e078e",
   "metadata": {
    "slideshow": {
     "slide_type": "slide"
    }
   },
   "source": [
    "**Time series analysis** is crucial for financial data, as stock prices, economic indicators, and sales forecasts are often dependent on time. \n",
    "\n",
    "**What is Time Series Data?**\n",
    "\n",
    "- A time series is a sequence of data points recorded at successive and equally spaced points in time.\n",
    "    - Examples in Finance: Stock prices, interest rates, GDP growth, and exchange rates.\n",
    "\n",
    "**Components of Time Series Data**\n",
    "- **Trend:** Long-term increase or decrease in the data.\n",
    "- **Seasonality:** Repeating patterns or cycles (e.g., sales increasing during the holiday season).\n",
    "- **Noise/Residual:** Random fluctuations that are not explained by the model."
   ]
  },
  {
   "cell_type": "markdown",
   "id": "f0397a41",
   "metadata": {
    "slideshow": {
     "slide_type": "slide"
    }
   },
   "source": [
    "This notebook covers:\n",
    "\n",
    "1. The **basics of time series** data and its components.\n",
    "2. How to **manipulate** and **visualize** time series data with `pandas` and `matplotlib`.\n",
    "3. Apply **basic time series models** such as moving averages and correlations."
   ]
  },
  {
   "cell_type": "markdown",
   "id": "df4c2e73",
   "metadata": {
    "slideshow": {
     "slide_type": "slide"
    }
   },
   "source": [
    "##### Setting the environment"
   ]
  },
  {
   "cell_type": "code",
   "execution_count": null,
   "id": "2888be80",
   "metadata": {},
   "outputs": [],
   "source": [
    "import numpy as np \n",
    "import pandas as pd\n",
    "from pylab import mpl, plt \n",
    "plt.style.use('seaborn-v0_8-dark') \n",
    "mpl.rcParams['font.family'] = 'serif' \n",
    "%matplotlib inline"
   ]
  },
  {
   "cell_type": "markdown",
   "id": "4011b7b2",
   "metadata": {
    "slideshow": {
     "slide_type": "slide"
    }
   },
   "source": [
    "## 2. Data inspection"
   ]
  },
  {
   "cell_type": "markdown",
   "id": "7ed83e21",
   "metadata": {
    "slideshow": {
     "slide_type": "slide"
    }
   },
   "source": [
    "The first part of the analysis is to **inspect** the data set containing the timeseries. \n",
    "\n",
    "**Inspection steps:**\n",
    "1. **Import** data\n",
    "2. Generate **summary statistics**\n",
    "3. Analysis **changes over time**\n",
    "4. Adjust **frequency** (**resampling**)"
   ]
  },
  {
   "cell_type": "markdown",
   "id": "7c480ff7",
   "metadata": {
    "slideshow": {
     "slide_type": "slide"
    }
   },
   "source": [
    "### 2.1 Data import"
   ]
  },
  {
   "cell_type": "markdown",
   "id": "a7699500",
   "metadata": {},
   "source": [
    "For this part, we work with a standard `csv` database obtained from the **Thomson Reuters Eikon Data**. \n",
    "The data contains **end-of-day (EOD) price data** for a selection of instruments.\n",
    "\n",
    "The following parameters apply:\n",
    "```python\n",
    "    file_path = 'Data/11/'\n",
    "    file_name = 'tr_eikon_eod_data.csv'\n",
    "```"
   ]
  },
  {
   "cell_type": "markdown",
   "id": "6d5cb877",
   "metadata": {
    "slideshow": {
     "slide_type": "slide"
    }
   },
   "source": [
    "##### Check file"
   ]
  },
  {
   "cell_type": "code",
   "execution_count": null,
   "id": "68258173",
   "metadata": {},
   "outputs": [],
   "source": [
    "# Data from the Thomson Reuters (TR) Eikon Data API\n",
    "file_path = 'Data/11/'\n",
    "file_name = 'tr_eikon_eod_data.csv'\n",
    "file = open(file_path + file_name, 'r')"
   ]
  },
  {
   "cell_type": "code",
   "execution_count": null,
   "id": "5473e0ed",
   "metadata": {
    "scrolled": true
   },
   "outputs": [],
   "source": [
    "file.readlines()[:5]"
   ]
  },
  {
   "cell_type": "code",
   "execution_count": null,
   "id": "8ef9b0bd",
   "metadata": {},
   "outputs": [],
   "source": [
    "file.close()"
   ]
  },
  {
   "cell_type": "markdown",
   "id": "c6f52f42",
   "metadata": {
    "slideshow": {
     "slide_type": "slide"
    }
   },
   "source": [
    "##### Import into `dataframe`"
   ]
  },
  {
   "cell_type": "code",
   "execution_count": null,
   "id": "923b42f7",
   "metadata": {},
   "outputs": [],
   "source": [
    "# index_col = 0: the first column shall be handled as an index.\n",
    "# parse_dates = True: the index values are of type datetime.\n",
    "data = pd.read_csv(file_path + file_name, index_col = 0, parse_dates = True)"
   ]
  },
  {
   "cell_type": "markdown",
   "id": "9584ec01",
   "metadata": {},
   "source": [
    "- Use **time as label** on `index_col`\n",
    "- Explicitly interpret as `datetime` object on `parse_dates`\n",
    "    - from documentation:\n",
    "        ```If True -> try parsing the index.```\n"
   ]
  },
  {
   "cell_type": "markdown",
   "id": "4bc39c4a",
   "metadata": {
    "slideshow": {
     "slide_type": "slide"
    }
   },
   "source": [
    "##### Inspect `dataframe`"
   ]
  },
  {
   "cell_type": "code",
   "execution_count": null,
   "id": "13fcd5f3",
   "metadata": {},
   "outputs": [],
   "source": [
    "data.info()"
   ]
  },
  {
   "cell_type": "code",
   "execution_count": null,
   "id": "b66a1c89",
   "metadata": {},
   "outputs": [],
   "source": [
    "data.head()"
   ]
  },
  {
   "cell_type": "code",
   "execution_count": null,
   "id": "f1c1dd94",
   "metadata": {
    "scrolled": true
   },
   "outputs": [],
   "source": [
    "data.tail()"
   ]
  },
  {
   "cell_type": "markdown",
   "id": "7d47eb15",
   "metadata": {
    "slideshow": {
     "slide_type": "slide"
    }
   },
   "source": [
    "##### Visualize timeseries"
   ]
  },
  {
   "cell_type": "code",
   "execution_count": null,
   "id": "8cbf8f08",
   "metadata": {},
   "outputs": [],
   "source": [
    "data.plot(figsize = (10,12), subplots = True);"
   ]
  },
  {
   "cell_type": "markdown",
   "id": "4591190c",
   "metadata": {
    "slideshow": {
     "slide_type": "slide"
    }
   },
   "source": [
    "##### Add labels"
   ]
  },
  {
   "cell_type": "markdown",
   "id": "adf7591d",
   "metadata": {},
   "source": [
    "Labeling from *Reuters Instrument Codes* (RICs)"
   ]
  },
  {
   "cell_type": "code",
   "execution_count": null,
   "id": "3d87654a",
   "metadata": {},
   "outputs": [],
   "source": [
    "instruments = ['Apple Stock', 'Microsoft Stock',\n",
    "                           'Intel Stock', 'Amazon Stock', 'Goldman Sachs Stock',\n",
    "                           'SPDR S&P 500 ETF Trust', 'S&P 500 Index',\n",
    "                           'VIX Volatility Index', 'EUR/USD Exchange Rate',\n",
    "                           'Gold Price', 'VanEck Vectors Gold Miners ETF',\n",
    "                           'SPDR Gold Trust']"
   ]
  },
  {
   "cell_type": "code",
   "execution_count": null,
   "id": "cca91778",
   "metadata": {},
   "outputs": [],
   "source": [
    "for ric, name in zip(data.columns, instruments):\n",
    "    print('{:8s} | {}'.format(ric, name))"
   ]
  },
  {
   "cell_type": "markdown",
   "id": "d7f39e42",
   "metadata": {
    "slideshow": {
     "slide_type": "slide"
    }
   },
   "source": [
    "### 2.2 Summary statistics"
   ]
  },
  {
   "cell_type": "markdown",
   "id": "7fb6625d",
   "metadata": {
    "slideshow": {
     "slide_type": "slide"
    }
   },
   "source": [
    "##### Built-in tools"
   ]
  },
  {
   "cell_type": "code",
   "execution_count": null,
   "id": "44055548",
   "metadata": {},
   "outputs": [],
   "source": [
    "data.describe().round(2)"
   ]
  },
  {
   "cell_type": "code",
   "execution_count": null,
   "id": "b91523d7",
   "metadata": {},
   "outputs": [],
   "source": [
    "data.mean()"
   ]
  },
  {
   "cell_type": "markdown",
   "id": "20172c25",
   "metadata": {
    "slideshow": {
     "slide_type": "slide"
    }
   },
   "source": [
    "##### Customized satistics"
   ]
  },
  {
   "cell_type": "code",
   "execution_count": null,
   "id": "ca4740ba",
   "metadata": {
    "scrolled": false
   },
   "outputs": [],
   "source": [
    "data.aggregate(['min', 'mean', 'std', 'median', 'max']).round(2)"
   ]
  },
  {
   "cell_type": "markdown",
   "id": "9b806de8",
   "metadata": {
    "slideshow": {
     "slide_type": "slide"
    }
   },
   "source": [
    "### 2.3 Changes over time"
   ]
  },
  {
   "cell_type": "markdown",
   "id": "4c38c9b4",
   "metadata": {},
   "source": [
    "Statistical analysis methods are often based on **changes over time** and not the absolute values themselves. \n",
    "\n",
    "There are multiple options to calculate the changes in a time series over time:\n",
    "- Absolute differences\n",
    "- Percentage changes\n",
    "- Logarithmic (log) returns."
   ]
  },
  {
   "cell_type": "markdown",
   "id": "4f0f489c",
   "metadata": {
    "slideshow": {
     "slide_type": "slide"
    }
   },
   "source": [
    "#### **Absolute differences**"
   ]
  },
  {
   "cell_type": "markdown",
   "id": "1589a920",
   "metadata": {},
   "source": [
    "`.diff()`: subtracts each row’s value from the value in the previous row.\n",
    "\n",
    "- It reveals the exact change in values from one time step to the next.\n",
    "- The method returns a `dataframe`"
   ]
  },
  {
   "cell_type": "code",
   "execution_count": null,
   "id": "2bafbbdb",
   "metadata": {},
   "outputs": [],
   "source": [
    "data.diff().head()"
   ]
  },
  {
   "cell_type": "code",
   "execution_count": null,
   "id": "acdab9e1",
   "metadata": {},
   "outputs": [],
   "source": [
    "data.diff(periods=2)"
   ]
  },
  {
   "cell_type": "code",
   "execution_count": null,
   "id": "51f844fe",
   "metadata": {},
   "outputs": [],
   "source": [
    "data.diff().mean()"
   ]
  },
  {
   "cell_type": "markdown",
   "id": "28509da7",
   "metadata": {
    "slideshow": {
     "slide_type": "slide"
    }
   },
   "source": [
    "#### **Percentage changes**"
   ]
  },
  {
   "cell_type": "markdown",
   "id": "d7c71ac1",
   "metadata": {},
   "source": [
    "`.pct_change()`: calculates the percentage change between consecutive rows\n",
    "\n",
    "- It reveals the relative change in values from one time step to the next.\n",
    "- The method returns a `dataframe`"
   ]
  },
  {
   "cell_type": "code",
   "execution_count": null,
   "id": "868050a5",
   "metadata": {},
   "outputs": [],
   "source": [
    "data.pct_change().round(3).head()"
   ]
  },
  {
   "cell_type": "code",
   "execution_count": null,
   "id": "3f777177",
   "metadata": {},
   "outputs": [],
   "source": [
    "data.pct_change(periods = 7).round(3).head(10)"
   ]
  },
  {
   "cell_type": "code",
   "execution_count": null,
   "id": "126ed089",
   "metadata": {
    "slideshow": {
     "slide_type": "slide"
    }
   },
   "outputs": [],
   "source": [
    "data.pct_change().mean().plot(kind = 'bar', figsize = (10,6));"
   ]
  },
  {
   "cell_type": "markdown",
   "id": "968a68d6",
   "metadata": {
    "slideshow": {
     "slide_type": "slide"
    }
   },
   "source": [
    "#### **Log Returns**"
   ]
  },
  {
   "cell_type": "markdown",
   "id": "4d10ca5b",
   "metadata": {},
   "source": [
    "**Logarithmic (log) returns** of time series data are the standard means to analyze returns on investments over time. \n",
    "\n",
    "The formula is given by\n",
    "$$\n",
    "\\text{Log Return} = \\ln\\left(\\frac{P_t}{P_{t-1}}\\right)\n",
    "$$"
   ]
  },
  {
   "cell_type": "markdown",
   "id": "22128b9d",
   "metadata": {},
   "source": [
    "In `pandas`, the denominator naturally obtains by shifting data by one row using the `.shift()` method."
   ]
  },
  {
   "cell_type": "code",
   "execution_count": null,
   "id": "ddc9b38c",
   "metadata": {},
   "outputs": [],
   "source": [
    "rets = np.log(data / data.shift(1))"
   ]
  },
  {
   "cell_type": "code",
   "execution_count": null,
   "id": "6a699580",
   "metadata": {},
   "outputs": [],
   "source": [
    "rets.head().round(2)"
   ]
  },
  {
   "cell_type": "markdown",
   "id": "62c09e6a",
   "metadata": {
    "slideshow": {
     "slide_type": "slide"
    }
   },
   "source": [
    "**Cumulative returns** over a period are obtained by summing up the log returns for each interval and then exponentiate the result:\n",
    "$$\n",
    "\\text{Cumulative Return} = e^{\\sum \\text{Log Returns}}\n",
    "$$"
   ]
  },
  {
   "cell_type": "code",
   "execution_count": null,
   "id": "89e7903c",
   "metadata": {},
   "outputs": [],
   "source": [
    "rets.cumsum().apply(np.exp).plot(figsize = (10,6));"
   ]
  },
  {
   "cell_type": "markdown",
   "id": "cc7f10da",
   "metadata": {
    "slideshow": {
     "slide_type": "slide"
    }
   },
   "source": [
    "### 2.4 Resampling"
   ]
  },
  {
   "cell_type": "markdown",
   "id": "f461cf62",
   "metadata": {},
   "source": [
    "**Resampling** of financial time series data refers to the process of **converting the frequency of data points** in a time series."
   ]
  },
  {
   "cell_type": "markdown",
   "id": "670243d0",
   "metadata": {
    "slideshow": {
     "slide_type": "slide"
    }
   },
   "source": [
    "The `resample()` method in `pandas` is used to change the frequency of time series data. \n",
    "\n",
    "```python \n",
    "    data.resample(rule, label='right', closed='right', kind='timestamp')\n",
    "```\n",
    "\n",
    "Parameters:\n",
    "\n",
    "1. `rule`: This is a required parameter and specifies the new frequency for resampling. Some common time-based frequency strings are:\n",
    "    - `'D'`: Day\n",
    "    - `'W'`: Week\n",
    "    - `'M'`: Month\n",
    "    - `'Q'`: Quarter\n",
    "    - `'A'`: Year\n",
    "One can also specify intervals like '5min', '15T' (15 minutes), '3H' (3 hours), etc.\n",
    "2. `label`: Determines how the timestamp labels in the resulting data are aligned:\n",
    "    - `'right'`: Assigns the label to the end of the resampling period (e.g., a week ending on Sunday will be labeled as Sunday).\n",
    "    - `'left'`: Assigns the label to the beginning of the resampling period (e.g., the first day of the week).\n",
    "3. `closed`: Specifies which side of each interval is closed:\n",
    "    - `'right'`: The interval includes the right endpoint.\n",
    "    - `'left'`: The interval includes the left endpoint.\n",
    "4. `kind`: Defines the type of index used:\n",
    "    - `'timestamp'`: Generates a DatetimeIndex.\n",
    "    - `'period'`: Generates a PeriodIndex.\n",
    "    \n",
    "**Aggregation functions**: After resampling, you can apply an aggregation method directly, like `mean()`, `sum()`, `last()`, `first()`, `count()`, etc. These specify how to aggregate data within each new time interval."
   ]
  },
  {
   "cell_type": "code",
   "execution_count": null,
   "id": "8e6f2b46",
   "metadata": {
    "slideshow": {
     "slide_type": "slide"
    }
   },
   "outputs": [],
   "source": [
    "data.resample('1W', label='right').last().head()"
   ]
  },
  {
   "cell_type": "code",
   "execution_count": null,
   "id": "22613a86",
   "metadata": {},
   "outputs": [],
   "source": [
    "# Resample to quarterly data, labeling periods at the start of the quarter\n",
    "data.resample('QE', label='left').mean().head()"
   ]
  },
  {
   "cell_type": "code",
   "execution_count": null,
   "id": "c5ca30b1",
   "metadata": {},
   "outputs": [],
   "source": [
    "data.resample('1ME', label = 'right').last().head()"
   ]
  },
  {
   "cell_type": "code",
   "execution_count": null,
   "id": "aef43e75",
   "metadata": {
    "slideshow": {
     "slide_type": "slide"
    }
   },
   "outputs": [],
   "source": [
    "rets.cumsum().apply(np.exp).resample('1ME', label='right').last().plot(figsize=(10, 6));"
   ]
  },
  {
   "cell_type": "markdown",
   "id": "22a52ce0",
   "metadata": {
    "slideshow": {
     "slide_type": "slide"
    }
   },
   "source": [
    "## 3. Rolling statistics"
   ]
  },
  {
   "cell_type": "markdown",
   "id": "2787bcb7",
   "metadata": {
    "slideshow": {
     "slide_type": "slide"
    }
   },
   "source": [
    "A **rolling window** is a technique used to **apply a calculation to a specific, fixed-size subset** of data, which “rolls” or **moves across a dataset** as a window. \n",
    "\n",
    "The purpose of a rolling window is to compute statistics, like the mean or standard deviation, for consecutive subsets of data points, creating a dynamic, time-dependent **view of trends, averages, or variability**. \n",
    "\n",
    "This technique is commonly used in time series analysis, especially in finance, to **understand patterns over time while smoothing out short-term fluctuations**."
   ]
  },
  {
   "cell_type": "markdown",
   "id": "220e78ef",
   "metadata": {
    "slideshow": {
     "slide_type": "slide"
    }
   },
   "source": [
    "In `Python`, the `.rolling()` method in `pandas` is used to apply a rolling window to a `DataFrame` or `Series`. \n",
    "\n",
    "This method returns a **“rolling” object** that can apply various aggregation functions, like `.mean()`, `.std()`, `.min()`, etc., over the rolling window."
   ]
  },
  {
   "cell_type": "markdown",
   "id": "61cf5ff4",
   "metadata": {},
   "source": [
    "```python\n",
    "    data.rolling(window=window_size).function()\n",
    "```"
   ]
  },
  {
   "cell_type": "code",
   "execution_count": null,
   "id": "b99996a9",
   "metadata": {
    "slideshow": {
     "slide_type": "slide"
    }
   },
   "outputs": [],
   "source": [
    "# Let's focus on a single financial time series\n",
    "sym = 'AAPL.O'\n",
    "data = pd.DataFrame(data[sym]).dropna()\n",
    "data.tail()"
   ]
  },
  {
   "cell_type": "code",
   "execution_count": null,
   "id": "7cace212",
   "metadata": {},
   "outputs": [],
   "source": [
    "window = 20"
   ]
  },
  {
   "cell_type": "markdown",
   "id": "065e7e54",
   "metadata": {
    "slideshow": {
     "slide_type": "slide"
    }
   },
   "source": [
    "**- Calculate rolling minimum (`min`) and maximum (`max`):** identify the range of prices over the past 20 days. "
   ]
  },
  {
   "cell_type": "code",
   "execution_count": null,
   "id": "f7eec880",
   "metadata": {},
   "outputs": [],
   "source": [
    "data['min'] = data[sym].rolling(window=window).min()"
   ]
  },
  {
   "cell_type": "code",
   "execution_count": null,
   "id": "a5539476",
   "metadata": {},
   "outputs": [],
   "source": [
    "data['max'] = data[sym].rolling(window=window).max()"
   ]
  },
  {
   "cell_type": "markdown",
   "id": "7c24c6b6",
   "metadata": {
    "slideshow": {
     "slide_type": "slide"
    }
   },
   "source": [
    "**- Calculate rolling mean (`mean`) and standard deviation (`std`):** The rolling mean provides a smoothed version of the price series. It smooths out short-term fluctuations, highlighting the medium-term trend. The standard deviation statistic shows the volatility of the stock price over each 20-day period."
   ]
  },
  {
   "cell_type": "code",
   "execution_count": null,
   "id": "ef54898a",
   "metadata": {},
   "outputs": [],
   "source": [
    "data['mean'] = data[sym].rolling(window=window).mean()"
   ]
  },
  {
   "cell_type": "code",
   "execution_count": null,
   "id": "1a77f747",
   "metadata": {},
   "outputs": [],
   "source": [
    "data['std'] = data[sym].rolling(window=window).std()"
   ]
  },
  {
   "cell_type": "code",
   "execution_count": null,
   "id": "7c56a21d",
   "metadata": {},
   "outputs": [],
   "source": [
    "data['median'] = data[sym].rolling(window=window).median()"
   ]
  },
  {
   "cell_type": "markdown",
   "id": "115ba342",
   "metadata": {
    "slideshow": {
     "slide_type": "slide"
    }
   },
   "source": [
    "**- Calculate Exponentially Weighted Moving Average (`ewma`):** Unlike a simple moving average, which weights all points equally, the **EWMA** gives more importance to recent observations, allowing it to react faster to recent price changes. The `halflife` parameter controls how quickly the weights decay, with a shorter halflife emphasizing more recent data."
   ]
  },
  {
   "cell_type": "code",
   "execution_count": null,
   "id": "109aa5de",
   "metadata": {},
   "outputs": [],
   "source": [
    "data['ewma'] = data[sym].ewm(halflife=0.5, min_periods=window).mean()"
   ]
  },
  {
   "cell_type": "code",
   "execution_count": null,
   "id": "97569229",
   "metadata": {},
   "outputs": [],
   "source": [
    "data.head(25)"
   ]
  },
  {
   "cell_type": "code",
   "execution_count": null,
   "id": "fddf29a8",
   "metadata": {},
   "outputs": [],
   "source": [
    "data.dropna().head()"
   ]
  },
  {
   "cell_type": "markdown",
   "id": "1de995da",
   "metadata": {
    "slideshow": {
     "slide_type": "slide"
    }
   },
   "source": [
    "**- Plotting the Rolling Statistics:**"
   ]
  },
  {
   "cell_type": "code",
   "execution_count": null,
   "id": "220102f4",
   "metadata": {},
   "outputs": [],
   "source": [
    "ax = data[['min', 'mean', 'max']].iloc[-200:].plot(\n",
    "    figsize = (10,6), style = ['g--', 'r--', 'g--'], lw = 0.8)\n",
    "data[sym].iloc[-200:].plot(ax = ax, lw = 2.0) ;"
   ]
  },
  {
   "cell_type": "markdown",
   "id": "1e415dfe",
   "metadata": {
    "slideshow": {
     "slide_type": "slide"
    }
   },
   "source": [
    "#### Technical Analysis Example: SMAs "
   ]
  },
  {
   "cell_type": "markdown",
   "id": "484e5570",
   "metadata": {},
   "source": [
    "A decades-old trading strategy based on technical analysis is using **two simple moving averages** (SMAs): \n",
    "\n",
    "Trading strategy\n",
    "- Go long on a stock (or financial instrument in general) when the shorter-term SMA is above the longer-term SMA \n",
    "- Go short when the opposite holds true. "
   ]
  },
  {
   "cell_type": "code",
   "execution_count": null,
   "id": "297e0427",
   "metadata": {
    "slideshow": {
     "slide_type": "slide"
    }
   },
   "outputs": [],
   "source": [
    "data['SMA1'] = data[sym].rolling(window=42).mean()\n",
    "data['SMA2'] = data[sym].rolling(window=252).mean()"
   ]
  },
  {
   "cell_type": "code",
   "execution_count": null,
   "id": "040886d9",
   "metadata": {},
   "outputs": [],
   "source": [
    "data[[sym, 'SMA1', 'SMA2']].tail()"
   ]
  },
  {
   "cell_type": "code",
   "execution_count": null,
   "id": "f113ff73",
   "metadata": {
    "slideshow": {
     "slide_type": "slide"
    }
   },
   "outputs": [],
   "source": [
    "data[[sym, 'SMA1', 'SMA2']].plot(figsize=(10, 6));"
   ]
  },
  {
   "cell_type": "markdown",
   "id": "098f0d91",
   "metadata": {
    "slideshow": {
     "slide_type": "slide"
    }
   },
   "source": [
    "SMAs are then used to derive positions to implement a trading strategy. \n",
    "\n",
    "Denote\n",
    "- a long position by a value of 1 \n",
    "- a short position by a value of -1. \n",
    "\n",
    "The change in the position is triggered by a crossover of the two lines representing the SMA time series:"
   ]
  },
  {
   "cell_type": "code",
   "execution_count": null,
   "id": "a9337a9f",
   "metadata": {},
   "outputs": [],
   "source": [
    "data.dropna(inplace = True)"
   ]
  },
  {
   "cell_type": "code",
   "execution_count": null,
   "id": "d843e822",
   "metadata": {},
   "outputs": [],
   "source": [
    "data['positions'] = np.where(data['SMA1'] > data['SMA2'], 1, -1)"
   ]
  },
  {
   "cell_type": "code",
   "execution_count": null,
   "id": "3c6fb6e9",
   "metadata": {
    "slideshow": {
     "slide_type": "slide"
    }
   },
   "outputs": [],
   "source": [
    "ax = data[[sym, 'SMA1', 'SMA2', 'positions']].plot(\n",
    "    figsize = (10,6), secondary_y = 'positions')\n",
    "ax.get_legend().set_bbox_to_anchor((0.25,0.85));"
   ]
  },
  {
   "cell_type": "markdown",
   "id": "43921c84",
   "metadata": {
    "slideshow": {
     "slide_type": "slide"
    }
   },
   "source": [
    "## 4. Correlation analysis"
   ]
  },
  {
   "cell_type": "markdown",
   "id": "4d71f3e0",
   "metadata": {
    "slideshow": {
     "slide_type": "slide"
    }
   },
   "source": [
    "### 4.1 Inspection of 2 timeseries"
   ]
  },
  {
   "cell_type": "markdown",
   "id": "fbc3a6a5",
   "metadata": {},
   "source": [
    "Let us consider the correlation analysis between two financial time series: the **S&P 500 Index** (.SPX) and the **VIX volatility index** (.VIX). \n",
    "- The S&P 500 is a benchmark index for U.S. stocks\n",
    "- the VIX measures market volatility expectations. \n",
    "\n",
    "Typically, these indices have an inverse relationship: when the S&P 500 falls, the VIX tends to rise, indicating higher market fear or uncertainty."
   ]
  },
  {
   "cell_type": "code",
   "execution_count": null,
   "id": "1ce1cd07",
   "metadata": {
    "slideshow": {
     "slide_type": "slide"
    }
   },
   "outputs": [],
   "source": [
    "raw = pd.read_csv(file_path + file_name, index_col=0, parse_dates=True)"
   ]
  },
  {
   "cell_type": "code",
   "execution_count": null,
   "id": "1fb8d223",
   "metadata": {},
   "outputs": [],
   "source": [
    "data = raw[['.SPX', '.VIX']].dropna()"
   ]
  },
  {
   "cell_type": "code",
   "execution_count": null,
   "id": "1427146f",
   "metadata": {},
   "outputs": [],
   "source": [
    "data.tail()"
   ]
  },
  {
   "cell_type": "markdown",
   "id": "c066a91a",
   "metadata": {
    "slideshow": {
     "slide_type": "slide"
    }
   },
   "source": [
    "##### Visual inspection"
   ]
  },
  {
   "cell_type": "code",
   "execution_count": null,
   "id": "4fc022c1",
   "metadata": {},
   "outputs": [],
   "source": [
    "data.plot(subplots=True, figsize=(10, 6));"
   ]
  },
  {
   "cell_type": "code",
   "execution_count": null,
   "id": "5e0f30a9",
   "metadata": {
    "slideshow": {
     "slide_type": "-"
    }
   },
   "outputs": [],
   "source": [
    "data.loc[:'2012-12-31'].plot(secondary_y='.VIX', figsize=(10, 6));"
   ]
  },
  {
   "cell_type": "markdown",
   "id": "da6ed457",
   "metadata": {
    "slideshow": {
     "slide_type": "slide"
    }
   },
   "source": [
    "### 4.2 Logarithmic Returns"
   ]
  },
  {
   "cell_type": "markdown",
   "id": "359ee28a",
   "metadata": {},
   "source": [
    "#### Producing and processing output"
   ]
  },
  {
   "cell_type": "code",
   "execution_count": null,
   "id": "676241a6",
   "metadata": {},
   "outputs": [],
   "source": [
    "rets = np.log(data / data.shift(1))"
   ]
  },
  {
   "cell_type": "code",
   "execution_count": null,
   "id": "2a7d1821",
   "metadata": {},
   "outputs": [],
   "source": [
    "rets.head()"
   ]
  },
  {
   "cell_type": "code",
   "execution_count": null,
   "id": "f3bc14c3",
   "metadata": {},
   "outputs": [],
   "source": [
    "rets.dropna(inplace=True)"
   ]
  },
  {
   "cell_type": "markdown",
   "id": "e6f69c47",
   "metadata": {
    "slideshow": {
     "slide_type": "slide"
    }
   },
   "source": [
    "#### Visual inspection"
   ]
  },
  {
   "cell_type": "code",
   "execution_count": null,
   "id": "6148e599",
   "metadata": {},
   "outputs": [],
   "source": [
    "rets.plot(subplots=True, figsize=(10, 6));"
   ]
  },
  {
   "cell_type": "markdown",
   "id": "e87040ee",
   "metadata": {
    "slideshow": {
     "slide_type": "slide"
    }
   },
   "source": [
    "The `.plotting.scatter_matrix()` produces correlation analysis plots within and across timeseries."
   ]
  },
  {
   "cell_type": "code",
   "execution_count": null,
   "id": "5adb9f5c",
   "metadata": {},
   "outputs": [],
   "source": [
    "pd.plotting.scatter_matrix(rets,\n",
    "                           alpha=0.2,\n",
    "                           diagonal='hist',\n",
    "                           hist_kwds={'bins': 35},\n",
    "                           figsize=(10, 6));"
   ]
  },
  {
   "cell_type": "markdown",
   "id": "0ba028ed",
   "metadata": {
    "slideshow": {
     "slide_type": "slide"
    }
   },
   "source": [
    "### 4.3 OLS Regression"
   ]
  },
  {
   "cell_type": "markdown",
   "id": "c8b9f00d",
   "metadata": {},
   "source": [
    "**Ordinary Least Square** regression provide a formal way to inspect the correlation between two variables. "
   ]
  },
  {
   "cell_type": "markdown",
   "id": "7e5fd191",
   "metadata": {
    "slideshow": {
     "slide_type": "slide"
    }
   },
   "source": [
    "`np.polyfit()` is a function in `NumPy` that fits a polynomial to a set of data points using least squares regression and returns the coeficient. \n",
    "\n",
    "In other words, it finds the polynomial function of a specified degree that best fits the data in terms of minimizing the sum of squared errors between the fitted polynomial values and the actual data points\n",
    "\n",
    "```python\n",
    "    np.polyfit(x, y, deg, rcond=None, full=False, w=None, cov=False)\n",
    "```\n",
    "\n",
    "Parameters:\n",
    "- `x`: The x-coordinates (independent variable) of the data points.\n",
    "- `y`: The y-coordinates (dependent variable) of the data points.\n",
    "- `deg`: Degree of the polynomial to be fit to the data. For example:\n",
    "    - `deg=1` fits a line (linear regression),\n",
    "    - `deg=2` fits a quadratic curve, and so on.\n",
    "- `cov` (optional): If `True`, the function also returns the covariance matrix of the polynomial coefficients."
   ]
  },
  {
   "cell_type": "code",
   "execution_count": null,
   "id": "65dcc332",
   "metadata": {
    "slideshow": {
     "slide_type": "slide"
    }
   },
   "outputs": [],
   "source": [
    "reg, cov_matrix = np.polyfit(rets['.SPX'], rets['.VIX'], deg=1, cov=True)\n",
    "print (f\"The regression results in: VIX = {reg[0].round(2)} SPX + {reg[1].round(4)}\")\n",
    "# print (cov_matrix)"
   ]
  },
  {
   "cell_type": "markdown",
   "id": "33b589c5",
   "metadata": {},
   "source": [
    "##### Visual inspection"
   ]
  },
  {
   "cell_type": "code",
   "execution_count": null,
   "id": "7504b9bb",
   "metadata": {
    "slideshow": {
     "slide_type": "-"
    }
   },
   "outputs": [],
   "source": [
    "ax = rets.plot(kind='scatter', x='.SPX', y='.VIX', figsize=(10, 6))\n",
    "ax.plot(rets['.SPX'], np.polyval(reg, rets['.SPX']), 'r', lw=2);"
   ]
  },
  {
   "cell_type": "markdown",
   "id": "e40c5499",
   "metadata": {
    "slideshow": {
     "slide_type": "slide"
    }
   },
   "source": [
    "where `np.polyval()` is a function in `NumPy` used to evaluate (calculate) the value of a polynomial for a given set of values. Essentially, given a polynomial’s coefficients, `np.polyval` compute the y-values for corresponding x-values on that polynomial.\n",
    "\n",
    "```python\n",
    "    np.polyval(p, x)\n",
    "```\n",
    "\n",
    "- `p`: Array of polynomial coefficients in decreasing order of power. \n",
    "    - For example, for a polynomial equation of the form  $y = ax^2 + bx + c$ , the coefficients array should be [$a, b, c$].\n",
    "- `x`: Value(s) at which to evaluate the polynomial. This can be a single number or an array of x-values.\n"
   ]
  },
  {
   "cell_type": "markdown",
   "id": "905c7b20",
   "metadata": {
    "slideshow": {
     "slide_type": "slide"
    }
   },
   "source": [
    "### 4.4 Correlation"
   ]
  },
  {
   "cell_type": "markdown",
   "id": "359ca1a8",
   "metadata": {},
   "source": [
    "`.corr()` computes the **Pearson correlation** coefficient between pairs of columns in a `DataFrame`, a measure of the strength and direction of their linear relationship.\n",
    "- Values range from -1 (perfect negative correlation) to +1 (perfect positive correlation). \n",
    "    - For .SPX and .VIX, a strong negative correlation is expected.\n",
    "    \n",
    "- Calling the method can be \n",
    "    - applied directly to a `DataFrame` to calculate correlations between each column pair.\n",
    "    - used with one column to calculate correlation with another column, e.g., `df['col1'].corr(df['col2'])`.\n"
   ]
  },
  {
   "cell_type": "code",
   "execution_count": null,
   "id": "5a172fa6",
   "metadata": {},
   "outputs": [],
   "source": [
    "rets.corr()"
   ]
  },
  {
   "cell_type": "code",
   "execution_count": null,
   "id": "ea64272c",
   "metadata": {
    "scrolled": true,
    "slideshow": {
     "slide_type": "slide"
    }
   },
   "outputs": [],
   "source": [
    "ax = rets['.SPX'].rolling(window=252).corr(\n",
    "    rets['.VIX']).plot(figsize=(10, 6))\n",
    "ax.axhline(rets.corr().iloc[0, 1], c='r');"
   ]
  },
  {
   "cell_type": "markdown",
   "id": "732452ad",
   "metadata": {
    "slideshow": {
     "slide_type": "slide"
    }
   },
   "source": [
    "## 5. A glimpse into high-frequency data"
   ]
  },
  {
   "cell_type": "markdown",
   "id": "8b325ed4",
   "metadata": {
    "slideshow": {
     "slide_type": "slide"
    }
   },
   "source": [
    "**High-frequency data** in finance refers to data captured at very short time intervals, often seconds or milliseconds, typically related to trades, bids, and asks. \n",
    "\n",
    "It provides detailed insights into market activity but requires careful handling due to its high volume and potential noise. Such data is commonly used in trading, market analysis, and to identify short-term price movements or anomalies."
   ]
  },
  {
   "cell_type": "markdown",
   "id": "e9dacb7d",
   "metadata": {},
   "source": [
    "For this part, we’re loading **tick** data from a `csv` file for **EUR/USD**, which contains high-frequency information, like **bid** and **ask prices**, captured by the **FXCM broker**.\n",
    "\n",
    "The following parameters apply:\n",
    "```python\n",
    "    file_path = 'Data/11/'\n",
    "    file_name = 'fxcm_eur_usd_tick_data.csv'\n",
    "```"
   ]
  },
  {
   "cell_type": "markdown",
   "id": "bd3b89ba",
   "metadata": {
    "slideshow": {
     "slide_type": "slide"
    }
   },
   "source": [
    "#### Check file"
   ]
  },
  {
   "cell_type": "code",
   "execution_count": null,
   "id": "d4aa7898",
   "metadata": {},
   "outputs": [],
   "source": [
    "file_path = 'Data/11/'\n",
    "file_name = 'fxcm_eur_usd_tick_data.csv'\n",
    "file = open(file_path + file_name, 'r')"
   ]
  },
  {
   "cell_type": "code",
   "execution_count": null,
   "id": "96de69f4",
   "metadata": {},
   "outputs": [],
   "source": [
    "file.readlines()[:10]"
   ]
  },
  {
   "cell_type": "code",
   "execution_count": null,
   "id": "443308bc",
   "metadata": {},
   "outputs": [],
   "source": [
    "file.close()"
   ]
  },
  {
   "cell_type": "markdown",
   "id": "1be207ed",
   "metadata": {
    "slideshow": {
     "slide_type": "slide"
    }
   },
   "source": [
    "#### Import and inspect data"
   ]
  },
  {
   "cell_type": "code",
   "execution_count": null,
   "id": "5aa5ee6d",
   "metadata": {},
   "outputs": [],
   "source": [
    "tick = pd.read_csv(file_path + file_name,\n",
    "                   index_col=0, parse_dates=True)"
   ]
  },
  {
   "cell_type": "code",
   "execution_count": null,
   "id": "40114a85",
   "metadata": {},
   "outputs": [],
   "source": [
    "tick.head()"
   ]
  },
  {
   "cell_type": "code",
   "execution_count": null,
   "id": "f3ab77c3",
   "metadata": {},
   "outputs": [],
   "source": [
    "tick.info()"
   ]
  },
  {
   "cell_type": "markdown",
   "id": "65305519",
   "metadata": {
    "slideshow": {
     "slide_type": "slide"
    }
   },
   "source": [
    "#### Compute mid-prices"
   ]
  },
  {
   "cell_type": "markdown",
   "id": "2709e29e",
   "metadata": {},
   "source": [
    "$$\n",
    "\\text{Mid Price} = \\frac{\\text{Bid} + \\text{Ask}}{2}\n",
    "$$"
   ]
  },
  {
   "cell_type": "code",
   "execution_count": null,
   "id": "34373ba9",
   "metadata": {},
   "outputs": [],
   "source": [
    "tick['Mid'] = tick.mean(axis = 1)"
   ]
  },
  {
   "cell_type": "code",
   "execution_count": null,
   "id": "4d501ff2",
   "metadata": {},
   "outputs": [],
   "source": [
    "tick['Mid'].plot(figsize = (10,6));"
   ]
  },
  {
   "cell_type": "markdown",
   "id": "4eb39a54",
   "metadata": {
    "slideshow": {
     "slide_type": "slide"
    }
   },
   "source": [
    "#### Resampling to 5-minute intervals"
   ]
  },
  {
   "cell_type": "code",
   "execution_count": null,
   "id": "5f041e07",
   "metadata": {},
   "outputs": [],
   "source": [
    "tick_resam = tick.resample(rule='5min', label='right').last()"
   ]
  },
  {
   "cell_type": "code",
   "execution_count": null,
   "id": "e1c838c3",
   "metadata": {},
   "outputs": [],
   "source": [
    "tick_resam.head()"
   ]
  },
  {
   "cell_type": "code",
   "execution_count": null,
   "id": "5b093d62",
   "metadata": {},
   "outputs": [],
   "source": [
    "tick_resam['Mid'].plot(figsize=(10, 6));"
   ]
  },
  {
   "cell_type": "markdown",
   "id": "40d71480",
   "metadata": {},
   "source": [
    "---"
   ]
  }
 ],
 "metadata": {
  "celltoolbar": "Slideshow",
  "kernelspec": {
   "display_name": "Python 3 (ipykernel)",
   "language": "python",
   "name": "python3"
  },
  "language_info": {
   "codemirror_mode": {
    "name": "ipython",
    "version": 3
   },
   "file_extension": ".py",
   "mimetype": "text/x-python",
   "name": "python",
   "nbconvert_exporter": "python",
   "pygments_lexer": "ipython3",
   "version": "3.9.12"
  }
 },
 "nbformat": 4,
 "nbformat_minor": 5
}
