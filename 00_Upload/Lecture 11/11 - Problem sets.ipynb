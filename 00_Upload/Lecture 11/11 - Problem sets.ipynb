{
 "cells": [
  {
   "cell_type": "markdown",
   "id": "9f58253d",
   "metadata": {},
   "source": [
    "# Time Series Analysis - Problem set"
   ]
  },
  {
   "cell_type": "markdown",
   "id": "9f87643b",
   "metadata": {},
   "source": [
    "# Data"
   ]
  },
  {
   "cell_type": "markdown",
   "id": "f1e30153",
   "metadata": {},
   "source": [
    "For this problem, use datasets according to the following format:\n",
    "```python\n",
    "    file_path = \"historical-crypto/\"\n",
    "    file_name = \"coin_***.csv\"\n",
    "```\n",
    "Each dataset contains historical data on listed crypto tokens. "
   ]
  },
  {
   "cell_type": "markdown",
   "id": "5516fa2f",
   "metadata": {},
   "source": [
    "## Problem 1: Basic Data Inspection and Summary Statistics\n",
    "\n",
    "Using the provided datasets, \n",
    "- Assemble a single dataframe close price information across all crypto tokens.\n",
    "- Construct another dataframe where the timeseries coverage is the same for every token.\n",
    "- Conduct a basic data inspection\n",
    "- Display the first and last few rows and generate summary statistics, including mean, median, standard deviation, and min/max values for each time series in the dataset."
   ]
  },
  {
   "cell_type": "code",
   "execution_count": null,
   "id": "d48c536c",
   "metadata": {},
   "outputs": [],
   "source": []
  },
  {
   "cell_type": "markdown",
   "id": "6b2ef5b8",
   "metadata": {},
   "source": [
    "## Problem 2: Time Series Visualization and Resampling\n",
    "\n",
    "- Create time series plots for each asset in the dataset to observe trends\n",
    "- Resample the data to monthly intervals, displaying only the closing values for each interval. \n",
    "- Plot the resampled data."
   ]
  },
  {
   "cell_type": "code",
   "execution_count": null,
   "id": "18a332df",
   "metadata": {},
   "outputs": [],
   "source": []
  },
  {
   "cell_type": "markdown",
   "id": "30f0695d",
   "metadata": {},
   "source": [
    "## Problem 3: Rolling Statistics Calculation\n",
    "\n",
    "For the 3 assets with highest prices in the dataset:\n",
    "- Calculate a 30-day rolling window for the mean, standard deviation, minimum, and maximum values. \n",
    "- Plot the original time series with these rolling statistics overlaid to observe how the statistics capture trends over time."
   ]
  },
  {
   "cell_type": "code",
   "execution_count": null,
   "id": "fac5cfc8",
   "metadata": {},
   "outputs": [],
   "source": []
  },
  {
   "cell_type": "markdown",
   "id": "d28f39b3",
   "metadata": {},
   "source": [
    "## Problem 4: Simple Moving Averages (SMA) Crossover Strategy\n",
    "\n",
    "- Using a single asset, implement a basic trading strategy using the two Simple Moving Averages (SMAs): a short-term 20-day SMA and a long-term 100-day SMA. \n",
    "- Identify the crossover points and visualize the results. \n",
    "- Determine whether a trading position (long/short) would have been profitable by the end of the time frame."
   ]
  },
  {
   "cell_type": "code",
   "execution_count": null,
   "id": "c32c7db4",
   "metadata": {},
   "outputs": [],
   "source": []
  },
  {
   "cell_type": "markdown",
   "id": "6abf9ade",
   "metadata": {},
   "source": [
    "## Problem 5: Correlation Analysis Between Two Assets\n",
    "\n",
    "Choose two assets in the dataset: \n",
    "- Calculate the daily log returns for each \n",
    "- Generate a scatter plot showing their correlation. \n",
    "- Run an OLS regression and plot the line on top of the scatter plot.\n",
    "- Calculate the Pearson correlation coefficient and interpret the strength and direction of the relationship."
   ]
  },
  {
   "cell_type": "code",
   "execution_count": null,
   "id": "e2820326",
   "metadata": {},
   "outputs": [],
   "source": []
  }
 ],
 "metadata": {
  "kernelspec": {
   "display_name": "Python 3 (ipykernel)",
   "language": "python",
   "name": "python3"
  },
  "language_info": {
   "codemirror_mode": {
    "name": "ipython",
    "version": 3
   },
   "file_extension": ".py",
   "mimetype": "text/x-python",
   "name": "python",
   "nbconvert_exporter": "python",
   "pygments_lexer": "ipython3",
   "version": "3.9.12"
  }
 },
 "nbformat": 4,
 "nbformat_minor": 5
}
