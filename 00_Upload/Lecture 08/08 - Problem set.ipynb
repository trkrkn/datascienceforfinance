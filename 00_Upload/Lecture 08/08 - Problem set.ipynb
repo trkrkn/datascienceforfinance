{
 "cells": [
  {
   "cell_type": "markdown",
   "id": "96bd1447",
   "metadata": {},
   "source": [
    "# Data Manipulation (Pandas) - Problem set"
   ]
  },
  {
   "cell_type": "markdown",
   "id": "34d06985",
   "metadata": {},
   "source": [
    "## 1. **DataFrame Creation and Manipulation**  \n",
    "   Create a `DataFrame` representing a portfolio of stocks with the following data:\n",
    "   - `Stock`: ['AAPL', 'GOOGL', 'MSFT', 'AMZN']\n",
    "   - `Shares`: [50, 30, 100, 10]\n",
    "   - `Price`: [150.0, 2800.5, 299.0, 3500.75]\n",
    "   - `Sector`: ['Tech', 'Tech', 'Tech', 'Retail']\n",
    "   \n",
    "   Add a new column `Total_Value` representing the total value of each stock holding (`Shares * Price`).\n",
    "   "
   ]
  },
  {
   "cell_type": "code",
   "execution_count": null,
   "id": "f8cac8bb",
   "metadata": {},
   "outputs": [],
   "source": [
    "# Your code"
   ]
  },
  {
   "cell_type": "markdown",
   "id": "8e00b1b0",
   "metadata": {},
   "source": [
    "## 2. **Advanced Selection**  \n",
    "   Given a `DataFrame` of loan transactions with the following data:\n",
    "   - `Loan_Amount`: [8000, 15000, 20000, 5000]\n",
    "   - `Interest_Rate`: [0.06, 0.045, 0.03, 0.07]\n",
    "\n",
    "   Select all transactions where the loan amount is greater than $10,000 and the interest rate is below 5%."
   ]
  },
  {
   "cell_type": "code",
   "execution_count": null,
   "id": "cfa336b4",
   "metadata": {},
   "outputs": [],
   "source": [
    "# Your code"
   ]
  },
  {
   "cell_type": "markdown",
   "id": "7d16e652",
   "metadata": {},
   "source": [
    "## 3. **Missing Data Handling**  \n",
    "   Create a `DataFrame` with the following data:\n",
    "   - `Price`: [100, None, 250, None]\n",
    "   - `Stock`: [10, 20, None, 5]\n",
    "\n",
    "   Replace all missing values in `Price` with the average price, and drop rows where `Stock` is missing."
   ]
  },
  {
   "cell_type": "code",
   "execution_count": null,
   "id": "573b770e",
   "metadata": {},
   "outputs": [],
   "source": [
    "# Your code"
   ]
  },
  {
   "cell_type": "markdown",
   "id": "defecdd4",
   "metadata": {},
   "source": [
    "## 4. **GroupBy and Aggregation**  \n",
    "   You are given sales data for a company with the following data:\n",
    "   - `Region`: ['North', 'South', 'North', 'South']\n",
    "   - `Salesperson`: ['John', 'Anna', 'John', 'Anna']\n",
    "   - `Product`: ['A', 'B', 'C', 'A']\n",
    "   - `Revenue`: [500, 700, 800, 600]\n",
    "\n",
    "   Use the `GroupBy` function to calculate the total revenue per region and per salesperson."
   ]
  },
  {
   "cell_type": "code",
   "execution_count": null,
   "id": "b36e3226",
   "metadata": {},
   "outputs": [],
   "source": [
    "# Your code"
   ]
  },
  {
   "cell_type": "markdown",
   "id": "0908df3d",
   "metadata": {},
   "source": [
    "## 5. **Custom Functions with Apply**  \n",
    "   Create a `DataFrame` of customers with the following data:\n",
    "   - `Customer_ID`: ['C001', 'C002', 'C003']\n",
    "   - `Transaction_Amount`: [500, 2000, 1500]\n",
    "   - `Age`: [22, 30, 45]\n",
    "\n",
    "   Use the `.apply()` function to create a new column `Eligibility` that assigns 'Eligible' if the `Transaction_Amount` is greater than 1000 and the `Age` is above 25."
   ]
  },
  {
   "cell_type": "markdown",
   "id": "70b55a19",
   "metadata": {},
   "source": [
    "## 6. **Concatenation**  \n",
    "   You have two `DataFrames` representing different departments’ sales figures:\n",
    "   - `df1`: {'Department': ['Sales', 'HR'], 'Revenue': [1000, 500]}\n",
    "   - `df2`: {'Department': ['IT', 'Finance'], 'Revenue': [1200, 800]}\n",
    "\n",
    "   Concatenate the two `DataFrames` to create a combined dataset, ensuring no index duplication."
   ]
  },
  {
   "cell_type": "code",
   "execution_count": null,
   "id": "742919db",
   "metadata": {},
   "outputs": [],
   "source": [
    "# Your code"
   ]
  },
  {
   "cell_type": "markdown",
   "id": "21bed743",
   "metadata": {},
   "source": [
    "## 7. **Merging DataFrames**  \n",
    "   You are provided two `DataFrames`, one with customer details:\n",
    "   - `Customer_ID`: ['C001', 'C002', 'C003']\n",
    "   - `Name`: ['John', 'Anna', 'Paul']\n",
    "   - `Location`: ['NY', 'LA', 'SF']\n",
    "\n",
    "   And another with purchase details:\n",
    "   - `Customer_ID`: ['C001', 'C003']\n",
    "   - `Purchase_Amount`: [500, 700]\n",
    "\n",
    "   Merge the two `DataFrames` on `Customer_ID` to analyze customer purchases."
   ]
  },
  {
   "cell_type": "code",
   "execution_count": null,
   "id": "ca4595d5",
   "metadata": {},
   "outputs": [],
   "source": [
    "# Your code"
   ]
  },
  {
   "cell_type": "markdown",
   "id": "e500a0f5",
   "metadata": {},
   "source": [
    "## 8. **DateTime Manipulation**  \n",
    "   Create a `DataFrame` with the following sales transaction data:\n",
    "   - `Date`: ['2023-01-01', '2023-01-15', '2023-02-01']\n",
    "   - `Sales`: [500, 700, 900]\n",
    "\n",
    "   Extract the month and year from the `Date` column, and then group the sales data by month to calculate total monthly sales."
   ]
  },
  {
   "cell_type": "code",
   "execution_count": null,
   "id": "e3961166",
   "metadata": {},
   "outputs": [],
   "source": [
    "# Your code"
   ]
  },
  {
   "cell_type": "markdown",
   "id": "addef622",
   "metadata": {},
   "source": [
    "## 9. **String Operations with Series**  \n",
    "   Given a `Series` of customer feedback comments:\n",
    "   - ['The service was excellent!', 'Poor response', 'Excellent work']\n",
    "\n",
    "   Identify how many comments contain the word \"excellent\" (case-insensitive), and replace the word \"poor\" with \"unsatisfactory\"."
   ]
  },
  {
   "cell_type": "code",
   "execution_count": null,
   "id": "03f40344",
   "metadata": {},
   "outputs": [],
   "source": [
    "# Your code"
   ]
  },
  {
   "cell_type": "markdown",
   "id": "3b0aab0a",
   "metadata": {},
   "source": [
    "## 10. **Advanced Sorting**  \n",
    "    Create a `DataFrame` with the following product data:\n",
    "    - `Product`: ['A', 'B', 'C']\n",
    "    - `Price`: [10, 50, 30]\n",
    "    - `Stock`: [100, 50, 200]\n",
    "\n",
    "    Sort the `DataFrame` first by `Stock` in descending order and then by `Price` in ascending order. What is the most expensive product with the highest stock?"
   ]
  },
  {
   "cell_type": "code",
   "execution_count": null,
   "id": "6115010f",
   "metadata": {},
   "outputs": [],
   "source": [
    "# Your code"
   ]
  }
 ],
 "metadata": {
  "kernelspec": {
   "display_name": "Python 3 (ipykernel)",
   "language": "python",
   "name": "python3"
  },
  "language_info": {
   "codemirror_mode": {
    "name": "ipython",
    "version": 3
   },
   "file_extension": ".py",
   "mimetype": "text/x-python",
   "name": "python",
   "nbconvert_exporter": "python",
   "pygments_lexer": "ipython3",
   "version": "3.9.12"
  }
 },
 "nbformat": 4,
 "nbformat_minor": 5
}
