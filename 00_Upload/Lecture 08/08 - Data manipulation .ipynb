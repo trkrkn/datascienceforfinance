{
 "cells": [
  {
   "cell_type": "markdown",
   "id": "e89dc6e6",
   "metadata": {
    "slideshow": {
     "slide_type": "slide"
    }
   },
   "source": [
    "# Lecture 08 - Data Manipulation (`Pandas`)\n"
   ]
  },
  {
   "cell_type": "markdown",
   "id": "44c3d01c",
   "metadata": {
    "heading_collapsed": true,
    "slideshow": {
     "slide_type": "slide"
    }
   },
   "source": [
    "## Overview "
   ]
  },
  {
   "cell_type": "markdown",
   "id": "9a13faa5",
   "metadata": {
    "hidden": true,
    "slideshow": {
     "slide_type": "slide"
    }
   },
   "source": [
    "**What is `pandas`?**\n",
    "\n",
    "- `Pandas` is a powerful Python library used for **data manipulation** and **analysis**.\n",
    "- It provides two main data structures: `Series` (1D) and `DataFrame` (2D), which are ideal for working with structured data, similar to Excel spreadsheets or SQL tables."
   ]
  },
  {
   "cell_type": "markdown",
   "id": "de7fe956",
   "metadata": {
    "hidden": true
   },
   "source": [
    "**Why `pandas` for Finance?**\n",
    "\n",
    "- **Exploratory Data Analysis** (EDA): In finance, large and structured datasets that require cleaning, manipulation, and analysis.\n",
    "- **Efficiency**: `Pandas` can handle millions of rows of financial data efficiently.\n",
    "- **Integration with Data Science**: `Pandas` works seamlessly with other libraries like `NumPy` and `matplotlib` for numerical operations and visualization, essential for financial modeling."
   ]
  },
  {
   "cell_type": "markdown",
   "id": "fc74327d",
   "metadata": {
    "hidden": true
   },
   "source": [
    "This notebook covers:\n",
    "- `DataFrame` and `Series` classes\n",
    "- Basic operations with `Pandas`\n",
    "- `GroupBy`, complex selection and data combinations"
   ]
  },
  {
   "cell_type": "code",
   "execution_count": null,
   "id": "433442e9",
   "metadata": {
    "hidden": true,
    "slideshow": {
     "slide_type": "slide"
    }
   },
   "outputs": [],
   "source": [
    "import pandas as pd\n",
    "import numpy as np "
   ]
  },
  {
   "cell_type": "markdown",
   "id": "6e88534e",
   "metadata": {
    "heading_collapsed": true,
    "slideshow": {
     "slide_type": "slide"
    }
   },
   "source": [
    "## 1. The `DataFrame` Class"
   ]
  },
  {
   "cell_type": "markdown",
   "id": "dae96cd2",
   "metadata": {
    "hidden": true,
    "slideshow": {
     "slide_type": "slide"
    }
   },
   "source": [
    "At the core of `Pandas` is the `DataFrame`, a class designed to **efficiently handle data in tabular form** —i.e., data characterized by a columnar organization. "
   ]
  },
  {
   "cell_type": "markdown",
   "id": "f363d886",
   "metadata": {
    "hidden": true,
    "slideshow": {
     "slide_type": "-"
    }
   },
   "source": [
    "- A `DataFrame` in `pandas` is a **two-dimensional**, **labeled data structure** that organizes and manipulates structured data\n",
    "- `DataFrames` consist of **rows** and **columns**, where each column can contain different types of data (`integers`, `floats`, `strings`, etc.).\n",
    "    - Like a table in a relational database or an Excel sheet. \n"
   ]
  },
  {
   "cell_type": "markdown",
   "id": "6f1b242c",
   "metadata": {
    "heading_collapsed": true,
    "hidden": true,
    "slideshow": {
     "slide_type": "slide"
    }
   },
   "source": [
    "### 1.1 Creating a `DataFrame`"
   ]
  },
  {
   "cell_type": "markdown",
   "id": "bc40b8c7",
   "metadata": {
    "hidden": true,
    "slideshow": {
     "slide_type": "slide"
    }
   },
   "source": [
    "The `pd.DataFrame()` function in `pandas` creates `DataFrames`."
   ]
  },
  {
   "cell_type": "markdown",
   "id": "b929d0c0",
   "metadata": {
    "hidden": true
   },
   "source": [
    "```\n",
    "pd.DataFrame(data=None, index=None, columns=None, dtype=None, copy=False)\n",
    "```"
   ]
  },
  {
   "cell_type": "markdown",
   "id": "9ed68f72",
   "metadata": {
    "hidden": true
   },
   "source": [
    "- `data`: Data to populate the `DataFrame`\n",
    "- `index`: Index labels for the rows (optional).\n",
    "- `columns`: Column labels (optional).\n",
    "- `dtype`: Data type for the elements (optional).\n",
    "- `copy`: Whether to copy the input data (optional)."
   ]
  },
  {
   "cell_type": "markdown",
   "id": "d60b39e9",
   "metadata": {
    "hidden": true,
    "slideshow": {
     "slide_type": "slide"
    }
   },
   "source": [
    "There are several ways to create a `DataFrame`. \n",
    "- from **scratc**h using `lists` or `dictionaries`\n",
    "- from **reading** external files (CSV, Excel, SQL databases). "
   ]
  },
  {
   "cell_type": "markdown",
   "id": "1567167b",
   "metadata": {
    "hidden": true,
    "slideshow": {
     "slide_type": "slide"
    }
   },
   "source": [
    "#### From a `list`"
   ]
  },
  {
   "cell_type": "code",
   "execution_count": null,
   "id": "595bdc55",
   "metadata": {
    "hidden": true
   },
   "outputs": [],
   "source": [
    "# Creating a DataFrame from a list\n",
    "data = [10, 20, 30, 40]\n",
    "df = pd.DataFrame(data, columns=['numbers'], index=['a', 'b', 'c', 'd'])"
   ]
  },
  {
   "cell_type": "code",
   "execution_count": null,
   "id": "5ec950c6",
   "metadata": {
    "hidden": true
   },
   "outputs": [],
   "source": [
    "# Displaying the DataFrame\n",
    "print(df)"
   ]
  },
  {
   "cell_type": "markdown",
   "id": "91d58e7b",
   "metadata": {
    "hidden": true
   },
   "source": [
    "In this example:\n",
    "\n",
    "- The `data` list contains values for a single column.\n",
    "- The `columns` parameter labels the column, and the `index` parameter sets row labels."
   ]
  },
  {
   "cell_type": "markdown",
   "id": "852c6a75",
   "metadata": {
    "hidden": true,
    "slideshow": {
     "slide_type": "slide"
    }
   },
   "source": [
    "Once a `DataFrame` is instantiated, one can observe its meta structure."
   ]
  },
  {
   "cell_type": "code",
   "execution_count": null,
   "id": "2c011ddf",
   "metadata": {
    "hidden": true
   },
   "outputs": [],
   "source": [
    "df.index"
   ]
  },
  {
   "cell_type": "code",
   "execution_count": null,
   "id": "2216990c",
   "metadata": {
    "hidden": true
   },
   "outputs": [],
   "source": [
    "df.columns"
   ]
  },
  {
   "cell_type": "markdown",
   "id": "ccb62320",
   "metadata": {
    "hidden": true,
    "slideshow": {
     "slide_type": "slide"
    }
   },
   "source": [
    "#### From a `dictionary`"
   ]
  },
  {
   "cell_type": "markdown",
   "id": "d18ffb94",
   "metadata": {
    "hidden": true
   },
   "source": [
    "A `DataFrame` can be sourced from a `dictionary`, where `keys` are column `names` and values are lists of column data."
   ]
  },
  {
   "cell_type": "code",
   "execution_count": null,
   "id": "f342b3f8",
   "metadata": {
    "hidden": true
   },
   "outputs": [],
   "source": [
    "data = {\n",
    "    'Product': ['A', 'B', 'C', 'D'],\n",
    "    'Price': [100, 150, 200, 250],\n",
    "    'Stock': [50, 60, 70, 80]\n",
    "}\n",
    "\n",
    "df = pd.DataFrame(data)\n",
    "\n",
    "# Displaying the DataFrame\n",
    "print(df)"
   ]
  },
  {
   "cell_type": "markdown",
   "id": "04d68d17",
   "metadata": {
    "hidden": true,
    "slideshow": {
     "slide_type": "slide"
    }
   },
   "source": [
    "#### From external sources"
   ]
  },
  {
   "cell_type": "markdown",
   "id": "a815e52f",
   "metadata": {
    "hidden": true
   },
   "source": [
    "`DataFrames` can also be created by reading data from **external files** such as CSVs, Excel files, or databases.\n",
    "\n",
    "```python\n",
    "# Reading from a CSV file\n",
    "df = pd.read_csv('file.csv')\n",
    "\n",
    "# Reading from an Excel file\n",
    "df = pd.read_excel('file.xlsx')\n",
    "```\n",
    "\n",
    "*More on this in next lecture...*"
   ]
  },
  {
   "cell_type": "markdown",
   "id": "75a55308",
   "metadata": {
    "heading_collapsed": true,
    "hidden": true,
    "slideshow": {
     "slide_type": "slide"
    }
   },
   "source": [
    "### 1.2 Accessing a `DataFrame`"
   ]
  },
  {
   "cell_type": "markdown",
   "id": "3c196c02",
   "metadata": {
    "hidden": true,
    "slideshow": {
     "slide_type": "slide"
    }
   },
   "source": [
    "Once a `DataFrame` is created, one can access  \n",
    "- columns\n",
    "- rows \n",
    "- specifics subsets of data"
   ]
  },
  {
   "cell_type": "markdown",
   "id": "700aacf2",
   "metadata": {
    "heading_collapsed": true,
    "hidden": true,
    "slideshow": {
     "slide_type": "slide"
    }
   },
   "source": [
    "#### Accessing columns"
   ]
  },
  {
   "cell_type": "markdown",
   "id": "9577faa5",
   "metadata": {
    "hidden": true
   },
   "source": [
    "Access to columns can be done **directly** by referring the column like in a `dictionary`."
   ]
  },
  {
   "cell_type": "code",
   "execution_count": null,
   "id": "fd672a61",
   "metadata": {
    "hidden": true
   },
   "outputs": [],
   "source": [
    "# Accessing a single column\n",
    "df['Product']"
   ]
  },
  {
   "cell_type": "code",
   "execution_count": null,
   "id": "bcb94f75",
   "metadata": {
    "hidden": true
   },
   "outputs": [],
   "source": [
    "# Accessing multiple columns\n",
    "df[['Product', 'Price']]"
   ]
  },
  {
   "cell_type": "markdown",
   "id": "31bfea72",
   "metadata": {
    "heading_collapsed": true,
    "hidden": true,
    "slideshow": {
     "slide_type": "slide"
    }
   },
   "source": [
    "#### Accessing rows"
   ]
  },
  {
   "cell_type": "markdown",
   "id": "ba23bd5b",
   "metadata": {
    "hidden": true
   },
   "source": [
    "Access to rows can be done by index (`.loc[]`) or position (`.iloc[]`)"
   ]
  },
  {
   "cell_type": "code",
   "execution_count": null,
   "id": "4668e61d",
   "metadata": {
    "hidden": true
   },
   "outputs": [],
   "source": [
    "# Accessing by label\n",
    "df.loc[1]  # Retrieves the row with index 1"
   ]
  },
  {
   "cell_type": "code",
   "execution_count": null,
   "id": "f2614c26",
   "metadata": {
    "hidden": true
   },
   "outputs": [],
   "source": [
    "# Accessing by position\n",
    "df.iloc[2]  # Retrieves the third row (index 2)"
   ]
  },
  {
   "cell_type": "markdown",
   "id": "5a31f3f8",
   "metadata": {
    "heading_collapsed": true,
    "hidden": true,
    "slideshow": {
     "slide_type": "slide"
    }
   },
   "source": [
    "#### Selecting multiple rows"
   ]
  },
  {
   "cell_type": "markdown",
   "id": "1543d3b1",
   "metadata": {
    "hidden": true
   },
   "source": [
    "A range of rows or a specific set of rows can be selected by combining `.loc[]` or `.iloc[]` with slicing or `lists`."
   ]
  },
  {
   "cell_type": "code",
   "execution_count": null,
   "id": "db014dff",
   "metadata": {
    "hidden": true
   },
   "outputs": [],
   "source": [
    "# Accessing multiple rows by label\n",
    "df.loc[1:3]"
   ]
  },
  {
   "cell_type": "code",
   "execution_count": null,
   "id": "d52b5a8d",
   "metadata": {
    "hidden": true
   },
   "outputs": [],
   "source": [
    "# Accessing multiple rows by position\n",
    "df.iloc[0:2]  "
   ]
  },
  {
   "cell_type": "code",
   "execution_count": null,
   "id": "dea66582",
   "metadata": {
    "hidden": true
   },
   "outputs": [],
   "source": [
    "# Accessing multiple rows by list\n",
    "indeces = [1,3]\n",
    "df.loc[indeces]"
   ]
  },
  {
   "cell_type": "markdown",
   "id": "d5867de4",
   "metadata": {
    "heading_collapsed": true,
    "hidden": true,
    "slideshow": {
     "slide_type": "slide"
    }
   },
   "source": [
    "### 1.3 Editing a `DataFrame`"
   ]
  },
  {
   "cell_type": "markdown",
   "id": "e188b184",
   "metadata": {
    "hidden": true,
    "slideshow": {
     "slide_type": "slide"
    }
   },
   "source": [
    "`DataFrames` are live objects which allow for adding, deleting or modifying data (columns or rows) on the fly."
   ]
  },
  {
   "cell_type": "markdown",
   "id": "728ed51c",
   "metadata": {
    "heading_collapsed": true,
    "hidden": true,
    "slideshow": {
     "slide_type": "slide"
    }
   },
   "source": [
    "###### Initialization"
   ]
  },
  {
   "cell_type": "code",
   "execution_count": null,
   "id": "e511dd22",
   "metadata": {
    "hidden": true
   },
   "outputs": [],
   "source": [
    "data = {\n",
    "    'Product': ['A', 'B', 'C', 'D'],\n",
    "    'Price': [110, 160, 210, 260],\n",
    "    'Stock': [50, 60, 70, 80],\n",
    "}\n",
    "df = pd.DataFrame(data)"
   ]
  },
  {
   "cell_type": "markdown",
   "id": "54e729b7",
   "metadata": {
    "heading_collapsed": true,
    "hidden": true,
    "slideshow": {
     "slide_type": "slide"
    }
   },
   "source": [
    "#### Editing columns"
   ]
  },
  {
   "cell_type": "markdown",
   "id": "12e16b26",
   "metadata": {
    "hidden": true
   },
   "source": [
    "- Adding\n",
    "- Modifying\n",
    "- Deleting"
   ]
  },
  {
   "cell_type": "markdown",
   "id": "b003802d",
   "metadata": {
    "hidden": true,
    "slideshow": {
     "slide_type": "slide"
    }
   },
   "source": [
    "##### Adding columns"
   ]
  },
  {
   "cell_type": "markdown",
   "id": "320ac582",
   "metadata": {
    "hidden": true
   },
   "source": [
    "- **Internal product**"
   ]
  },
  {
   "cell_type": "code",
   "execution_count": null,
   "id": "12be7f79",
   "metadata": {
    "hidden": true
   },
   "outputs": [],
   "source": [
    "# Adding a new column\n",
    "df['Discounted_Price'] = df['Price'] * 0.9\n",
    "print(df)"
   ]
  },
  {
   "cell_type": "markdown",
   "id": "d514985b",
   "metadata": {
    "hidden": true,
    "slideshow": {
     "slide_type": "-"
    }
   },
   "source": [
    "- **from `list`**\n",
    "    - The length of the list should match the number of rows in the `DataFrame`."
   ]
  },
  {
   "cell_type": "code",
   "execution_count": null,
   "id": "a672b321",
   "metadata": {
    "hidden": true
   },
   "outputs": [],
   "source": [
    "# Adding a new column 'Tax' using a list\n",
    "df['Tax'] = [10.5, 15.0, 19.5, 24.0]\n",
    "print(df)"
   ]
  },
  {
   "cell_type": "code",
   "execution_count": null,
   "id": "47599c38",
   "metadata": {
    "hidden": true
   },
   "outputs": [],
   "source": [
    "# Displaying the 'Tax' column\n",
    "print(df['Tax'])"
   ]
  },
  {
   "cell_type": "markdown",
   "id": "85b0c609",
   "metadata": {
    "hidden": true,
    "slideshow": {
     "slide_type": "-"
    }
   },
   "source": [
    "- **from `DataFrame`**\n",
    "    - Indices must match between the original `DataFrame` and the new column."
   ]
  },
  {
   "cell_type": "code",
   "execution_count": null,
   "id": "2c2d6d47",
   "metadata": {
    "hidden": true
   },
   "outputs": [],
   "source": [
    "# Adding a new column 'Supplier' based on another DataFrame\n",
    "df['Supplier'] = pd.DataFrame(['Supplier1', 'Supplier2', 'Supplier3', 'Supplier4'], \n",
    "                              index=[0, 1, 2, 3])\n",
    "print(df)"
   ]
  },
  {
   "cell_type": "markdown",
   "id": "59658f69",
   "metadata": {
    "hidden": true,
    "slideshow": {
     "slide_type": "slide"
    }
   },
   "source": [
    "After enlarging a `DataFrame`, it’s also essential to check the data types of each column to ensure everything is in order."
   ]
  },
  {
   "cell_type": "code",
   "execution_count": null,
   "id": "876a6a38",
   "metadata": {
    "hidden": true
   },
   "outputs": [],
   "source": [
    "# Checking the data types of the DataFrame columns\n",
    "print(df.dtypes)"
   ]
  },
  {
   "cell_type": "markdown",
   "id": "36702376",
   "metadata": {
    "hidden": true,
    "slideshow": {
     "slide_type": "slide"
    }
   },
   "source": [
    "##### Modifying columns"
   ]
  },
  {
   "cell_type": "code",
   "execution_count": null,
   "id": "d783baa3",
   "metadata": {
    "hidden": true
   },
   "outputs": [],
   "source": [
    "# Modifying an existing column\n",
    "df['Price'] = df['Price'] + 10\n",
    "print(df)"
   ]
  },
  {
   "cell_type": "markdown",
   "id": "3a967961",
   "metadata": {
    "hidden": true,
    "slideshow": {
     "slide_type": "slide"
    }
   },
   "source": [
    "##### Deleting columns"
   ]
  },
  {
   "cell_type": "markdown",
   "id": "ed7ef8c6",
   "metadata": {
    "hidden": true
   },
   "source": [
    "Removing columns can be done using the `.drop()` method."
   ]
  },
  {
   "cell_type": "code",
   "execution_count": null,
   "id": "9aa6992e",
   "metadata": {
    "hidden": true
   },
   "outputs": [],
   "source": [
    "# Dropping the 'Discounted_Price' column\n",
    "df_dropped = df.drop(columns=['Discounted_Price'])\n",
    "print(df_dropped)"
   ]
  },
  {
   "cell_type": "markdown",
   "id": "a417ac86",
   "metadata": {
    "heading_collapsed": true,
    "hidden": true,
    "slideshow": {
     "slide_type": "slide"
    }
   },
   "source": [
    "#### Editing rows"
   ]
  },
  {
   "cell_type": "markdown",
   "id": "7022a118",
   "metadata": {
    "hidden": true
   },
   "source": [
    "- Adding\n",
    "- Modifying\n",
    "- Deleting"
   ]
  },
  {
   "cell_type": "markdown",
   "id": "bf47d0a4",
   "metadata": {
    "hidden": true,
    "slideshow": {
     "slide_type": "slide"
    }
   },
   "source": [
    "##### Adding rows"
   ]
  },
  {
   "cell_type": "markdown",
   "id": "261c51d2",
   "metadata": {
    "hidden": true,
    "slideshow": {
     "slide_type": "-"
    }
   },
   "source": [
    "- `append()`\n",
    "    - Single row\n",
    "    - However, note that `append()` is deprecated, and should be replaced using `pd.concat()` instead in future `pandas` versions."
   ]
  },
  {
   "cell_type": "code",
   "execution_count": null,
   "id": "8faa33c4",
   "metadata": {
    "hidden": true
   },
   "outputs": [],
   "source": [
    "# Appending a new row to the DataFrame\n",
    "df_appended = df.append({'Product': 'E', 'Price': 300, 'Stock': 90, \n",
    "                'Discounted_Price': 270.0, 'Tax': 30.0, 'Supplier': 'Supplier5'}, \n",
    "               ignore_index=True)\n",
    "print(df_appended)"
   ]
  },
  {
   "cell_type": "markdown",
   "id": "c29d1bab",
   "metadata": {
    "hidden": true,
    "slideshow": {
     "slide_type": "slide"
    }
   },
   "source": [
    "- `concat()`"
   ]
  },
  {
   "cell_type": "code",
   "execution_count": null,
   "id": "7c764d26",
   "metadata": {
    "hidden": true
   },
   "outputs": [],
   "source": [
    "# New row as a DataFrame\n",
    "new_row = pd.DataFrame({\n",
    "    'Product': ['E'],\n",
    "    'Price': [300],\n",
    "    'Stock': [90],\n",
    "    'Discounted_Price': [270.0],\n",
    "    'Tax': [30.0],\n",
    "    'Supplier': ['Supplier5']\n",
    "})\n",
    "\n",
    "# Using pd.concat() to append the new row\n",
    "df_concated = pd.concat([df, new_row], ignore_index=True)\n",
    "\n",
    "# Display the updated DataFrame\n",
    "print(df_concated)"
   ]
  },
  {
   "cell_type": "markdown",
   "id": "549d9f99",
   "metadata": {
    "hidden": true
   },
   "source": [
    "More on `concat()` in section [6. Concatenation, Join, Merge](#6.-Concatenation,-Join,-Merge) and on below on [indexing](#Indexing)"
   ]
  },
  {
   "cell_type": "markdown",
   "id": "48aaca74",
   "metadata": {
    "hidden": true,
    "slideshow": {
     "slide_type": "slide"
    }
   },
   "source": [
    "##### Modifying rows"
   ]
  },
  {
   "cell_type": "code",
   "execution_count": null,
   "id": "5c6021f0",
   "metadata": {
    "hidden": true
   },
   "outputs": [],
   "source": [
    "# Modifying an existing row\n",
    "df.loc[1, 'Price'] = 180\n",
    "df.loc[1, 'Stock'] = 200"
   ]
  },
  {
   "cell_type": "code",
   "execution_count": null,
   "id": "3006bd7b",
   "metadata": {
    "hidden": true
   },
   "outputs": [],
   "source": [
    "print(df)"
   ]
  },
  {
   "cell_type": "markdown",
   "id": "64e14666",
   "metadata": {
    "hidden": true,
    "slideshow": {
     "slide_type": "slide"
    }
   },
   "source": [
    "##### Deleting rows"
   ]
  },
  {
   "cell_type": "markdown",
   "id": "64b858e3",
   "metadata": {
    "hidden": true
   },
   "source": [
    "- Rows can be removed from a DataFrame using the `.drop()` method either by index or by condition."
   ]
  },
  {
   "cell_type": "code",
   "execution_count": null,
   "id": "e53b8c38",
   "metadata": {
    "hidden": true
   },
   "outputs": [],
   "source": [
    "# Dropping a row by index\n",
    "df_dropped = df.drop(index=2)  # Dropping the row with index 2 (Product C)\n",
    "print(df_dropped)"
   ]
  },
  {
   "cell_type": "code",
   "execution_count": null,
   "id": "f716617d",
   "metadata": {
    "hidden": true
   },
   "outputs": [],
   "source": [
    "# Dropping rows where Stock is greater than 80\n",
    "df_dropped = df[df['Stock'] <= 80]\n",
    "print(df_dropped)"
   ]
  },
  {
   "cell_type": "markdown",
   "id": "7b074b05",
   "metadata": {
    "heading_collapsed": true,
    "hidden": true,
    "slideshow": {
     "slide_type": "slide"
    }
   },
   "source": [
    "#### Indexing "
   ]
  },
  {
   "cell_type": "markdown",
   "id": "68a80781",
   "metadata": {
    "hidden": true
   },
   "source": [
    "When appending rows to a `DataFrame`, it’s important to pay attention to the treatment of **indices**. "
   ]
  },
  {
   "cell_type": "markdown",
   "id": "a9a899d3",
   "metadata": {
    "hidden": true,
    "slideshow": {
     "slide_type": "slide"
    }
   },
   "source": [
    "- **Indexing with `concat()`**\n",
    "    - When concatenating two or more `DataFrames`, the default behavior is to **retain the original index** of the `DataFrames`, which can lead to duplicate indices. \n",
    "    - The `ignore_index=True` parameter resets the index for the concatenated `DataFrame` to ensure a continuous sequence."
   ]
  },
  {
   "cell_type": "code",
   "execution_count": null,
   "id": "86e12581",
   "metadata": {
    "hidden": true
   },
   "outputs": [],
   "source": [
    "# New DataFrame to concatenate\n",
    "df_new = pd.DataFrame({\n",
    "    'Product': ['F', 'G'],\n",
    "    'Price': [350, 400],\n",
    "    'Stock': [95, 100],\n",
    "    'Discounted_Price': [315.0, 360.0],\n",
    "    'Tax': [35.0, 40.0],\n",
    "    'Supplier': ['Supplier6', 'Supplier7']\n",
    "})"
   ]
  },
  {
   "cell_type": "code",
   "execution_count": null,
   "id": "013a396f",
   "metadata": {
    "hidden": true
   },
   "outputs": [],
   "source": [
    "# Concatenating the two DataFrames without resetting the index\n",
    "df_concat = pd.concat([df, df_new])\n",
    "print(df_concat)"
   ]
  },
  {
   "cell_type": "code",
   "execution_count": null,
   "id": "5d6f03b1",
   "metadata": {
    "hidden": true
   },
   "outputs": [],
   "source": [
    "# Concatenating with index reset\n",
    "df_concat_reset = pd.concat([df, df_new], ignore_index=True)\n",
    "print(df_concat_reset)"
   ]
  },
  {
   "cell_type": "markdown",
   "id": "ee40f889",
   "metadata": {
    "hidden": true,
    "slideshow": {
     "slide_type": "slide"
    }
   },
   "source": [
    "- **Indexing with `append()`**\n",
    "    - When appending, the new row needs to adopt the next available index by default (`ignore_index = True`), else does not proceed."
   ]
  },
  {
   "cell_type": "code",
   "execution_count": null,
   "id": "5676c80b",
   "metadata": {
    "hidden": true
   },
   "outputs": [],
   "source": [
    "# Appending a single row with a new product using append()\n",
    "new_row = {\n",
    "    'Product': 'H', \n",
    "    'Price': 450, \n",
    "    'Stock': 105, \n",
    "    'Price_Squared': 202500, \n",
    "    'Discounted_Price': 405.0, \n",
    "    'Tax': 45.0, \n",
    "    'Supplier': 'Supplier8'\n",
    "}\n",
    "\n",
    "df_appended = df.append(new_row, ignore_index = True)\n",
    "\n",
    "print(df_appended)"
   ]
  },
  {
   "cell_type": "markdown",
   "id": "9506cf90",
   "metadata": {
    "heading_collapsed": true,
    "hidden": true,
    "slideshow": {
     "slide_type": "slide"
    }
   },
   "source": [
    "### 1.4 Handling missing data"
   ]
  },
  {
   "cell_type": "markdown",
   "id": "ab98c404",
   "metadata": {
    "hidden": true,
    "slideshow": {
     "slide_type": "slide"
    }
   },
   "source": [
    "Missing data is common in real-world datasets, and `pandas` provides tools to handle them."
   ]
  },
  {
   "cell_type": "code",
   "execution_count": null,
   "id": "cb1a6a4c",
   "metadata": {
    "hidden": true
   },
   "outputs": [],
   "source": [
    "# Adding missing values (NaN) to some cells\n",
    "df.loc[1, 'Price'] = np.nan  # Missing price for product B\n",
    "df.loc[2, 'Discounted_Price'] = np.nan  # Missing discounted price for product C\n",
    "df.loc[3, 'Stock'] = np.nan  # Missing stock for product D"
   ]
  },
  {
   "cell_type": "code",
   "execution_count": null,
   "id": "61ed4f83",
   "metadata": {
    "hidden": true
   },
   "outputs": [],
   "source": [
    "print (df)"
   ]
  },
  {
   "cell_type": "markdown",
   "id": "42563c81",
   "metadata": {
    "hidden": true,
    "slideshow": {
     "slide_type": "slide"
    }
   },
   "source": [
    "- **`df.isna()`:** Detects missing values"
   ]
  },
  {
   "cell_type": "code",
   "execution_count": null,
   "id": "567abc55",
   "metadata": {
    "hidden": true
   },
   "outputs": [],
   "source": [
    "df.isna()"
   ]
  },
  {
   "cell_type": "markdown",
   "id": "d0177e8b",
   "metadata": {
    "hidden": true
   },
   "source": [
    "- **`df.fillna(a)`:** Fils missing values with a default"
   ]
  },
  {
   "cell_type": "code",
   "execution_count": null,
   "id": "60513e4f",
   "metadata": {
    "hidden": true
   },
   "outputs": [],
   "source": [
    "df.fillna(0)"
   ]
  },
  {
   "cell_type": "markdown",
   "id": "c7a89f50",
   "metadata": {
    "hidden": true
   },
   "source": [
    "- **`df.dropna()`**: Drops rows with missing values"
   ]
  },
  {
   "cell_type": "code",
   "execution_count": null,
   "id": "a49cf633",
   "metadata": {
    "hidden": true
   },
   "outputs": [],
   "source": [
    "df.dropna()"
   ]
  },
  {
   "cell_type": "markdown",
   "id": "c135c73e",
   "metadata": {
    "heading_collapsed": true,
    "hidden": true,
    "slideshow": {
     "slide_type": "slide"
    }
   },
   "source": [
    "#### Operations with missing data"
   ]
  },
  {
   "cell_type": "markdown",
   "id": "05f3ff53",
   "metadata": {
    "hidden": true
   },
   "source": [
    "`Pandas` method calls handle missing data"
   ]
  },
  {
   "cell_type": "code",
   "execution_count": null,
   "id": "8600b748",
   "metadata": {
    "hidden": true
   },
   "outputs": [],
   "source": [
    "df[['Price', 'Stock']].mean()"
   ]
  },
  {
   "cell_type": "code",
   "execution_count": null,
   "id": "d89dee33",
   "metadata": {
    "hidden": true
   },
   "outputs": [],
   "source": [
    "df[['Price', 'Stock']].std()"
   ]
  },
  {
   "cell_type": "markdown",
   "id": "0edd6805",
   "metadata": {
    "heading_collapsed": true,
    "hidden": true,
    "slideshow": {
     "slide_type": "slide"
    }
   },
   "source": [
    "### 1.5 Sorting Data"
   ]
  },
  {
   "cell_type": "markdown",
   "id": "07d7f393",
   "metadata": {
    "hidden": true,
    "slideshow": {
     "slide_type": "slide"
    }
   },
   "source": [
    "`DataFrame` can be sorted based on any column using the `.sort_values()` method."
   ]
  },
  {
   "cell_type": "code",
   "execution_count": null,
   "id": "a70fb101",
   "metadata": {
    "hidden": true
   },
   "outputs": [],
   "source": [
    "# Sorting by 'Price' in ascending order\n",
    "df_sorted = df.sort_values(by='Price')"
   ]
  },
  {
   "cell_type": "code",
   "execution_count": null,
   "id": "c4e01837",
   "metadata": {
    "hidden": true
   },
   "outputs": [],
   "source": [
    "print (df_sorted)"
   ]
  },
  {
   "cell_type": "code",
   "execution_count": null,
   "id": "1fd34b17",
   "metadata": {
    "hidden": true
   },
   "outputs": [],
   "source": [
    "# Sorting by sequence of multiple columns: first stock, than price\n",
    "df.loc[3,'Stock'] = df.loc[2,'Stock']\n",
    "df_sorted = df.sort_values(by=['Stock', 'Price'], ascending=[False, True])"
   ]
  },
  {
   "cell_type": "code",
   "execution_count": null,
   "id": "2e2467e5",
   "metadata": {
    "hidden": true
   },
   "outputs": [],
   "source": [
    "print (df_sorted)"
   ]
  },
  {
   "cell_type": "markdown",
   "id": "2ba1af5f",
   "metadata": {
    "heading_collapsed": true,
    "hidden": true,
    "slideshow": {
     "slide_type": "slide"
    }
   },
   "source": [
    "### 1.6 Libraries integration"
   ]
  },
  {
   "cell_type": "markdown",
   "id": "6240e462",
   "metadata": {
    "hidden": true,
    "slideshow": {
     "slide_type": "slide"
    }
   },
   "source": [
    "`Pandas` integrates the manipulation of objects from other classes such as `numpy` and `datetime` objects."
   ]
  },
  {
   "cell_type": "markdown",
   "id": "fc3a4767",
   "metadata": {
    "hidden": true,
    "slideshow": {
     "slide_type": "slide"
    }
   },
   "source": [
    "- **`NumPy`**"
   ]
  },
  {
   "cell_type": "code",
   "execution_count": null,
   "id": "e9be72fa",
   "metadata": {
    "hidden": true
   },
   "outputs": [],
   "source": [
    "import numpy as np\n",
    "np.random.seed(100)\n",
    "a = np.random.standard_normal((9,4))\n",
    "a"
   ]
  },
  {
   "cell_type": "code",
   "execution_count": null,
   "id": "f2d71767",
   "metadata": {
    "hidden": true
   },
   "outputs": [],
   "source": [
    "df_n = pd.DataFrame(a)\n",
    "df_n.columns = ['No1', 'No2', 'No3', 'No4']\n",
    "df_n"
   ]
  },
  {
   "cell_type": "code",
   "execution_count": null,
   "id": "d11f3d38",
   "metadata": {
    "hidden": true
   },
   "outputs": [],
   "source": [
    "df_n['No2'].mean()"
   ]
  },
  {
   "cell_type": "markdown",
   "id": "54d76e14",
   "metadata": {
    "hidden": true,
    "slideshow": {
     "slide_type": "slide"
    }
   },
   "source": [
    "- **`DateTime`**"
   ]
  },
  {
   "cell_type": "code",
   "execution_count": null,
   "id": "803dd445",
   "metadata": {
    "hidden": true
   },
   "outputs": [],
   "source": [
    "dates = pd.date_range('2019-1-1', periods = 9, freq = 'M')\n",
    "dates"
   ]
  },
  {
   "cell_type": "code",
   "execution_count": null,
   "id": "28df7f1a",
   "metadata": {
    "hidden": true
   },
   "outputs": [],
   "source": [
    "df_n.index = dates\n",
    "df_n"
   ]
  },
  {
   "cell_type": "code",
   "execution_count": null,
   "id": "048e59ad",
   "metadata": {
    "hidden": true,
    "scrolled": true
   },
   "outputs": [],
   "source": [
    "df_n.values"
   ]
  },
  {
   "cell_type": "markdown",
   "id": "b50db5f4",
   "metadata": {
    "heading_collapsed": true,
    "slideshow": {
     "slide_type": "slide"
    }
   },
   "source": [
    "## 🚦Checkpoint "
   ]
  },
  {
   "cell_type": "markdown",
   "id": "09984855",
   "metadata": {
    "hidden": true
   },
   "source": [
    "**Task:**\n",
    "1. Create a `DataFrame` with the following columns: `Item`, `Price`, `Quantity` using the following dictionary\n",
    "```python\n",
    "    data = {\n",
    "    'Item': ['Apple', 'Banana', 'Orange'],\n",
    "    'Price': [1.0, 0.5, 0.75],\n",
    "    'Quantity': [10, 5, 8]\n",
    "        }\n",
    "```\n",
    "2. Add a new column `Total` that calculates the total price by multiplying `Price` and `Quantity`.\n",
    "3. Add a column called `Discount` with values `[0.1, 0.05, 0.2]` to the existing DataFrame.\n",
    "4. Update the `Total` column to apply the discount to the total price."
   ]
  },
  {
   "cell_type": "markdown",
   "id": "0a7f00db",
   "metadata": {
    "heading_collapsed": true,
    "slideshow": {
     "slide_type": "slide"
    }
   },
   "source": [
    "## 2. Basic Analytics"
   ]
  },
  {
   "cell_type": "markdown",
   "id": "1b7a2bc9",
   "metadata": {
    "hidden": true,
    "slideshow": {
     "slide_type": "slide"
    }
   },
   "source": [
    "When working with data in `pandas`, the library provides several **built-in methods** that make data exploration and analysis efficient. \n",
    "\n",
    "These methods help with\n",
    "- Inspection\n",
    "- Summaries\n",
    "- Statistics\n",
    "- Data operations\n",
    "- Visualization "
   ]
  },
  {
   "cell_type": "markdown",
   "id": "89dbf66f",
   "metadata": {
    "heading_collapsed": true,
    "hidden": true,
    "slideshow": {
     "slide_type": "slide"
    }
   },
   "source": [
    "### 2.1 Inspection and summary"
   ]
  },
  {
   "cell_type": "markdown",
   "id": "a2b6fb6b",
   "metadata": {
    "hidden": true
   },
   "source": [
    "- **`df.info()`**: Provides a concise summary of the `DataFrame`, including the number of entries, column names, data types, and memory usage. "
   ]
  },
  {
   "cell_type": "code",
   "execution_count": null,
   "id": "8bf81dcc",
   "metadata": {
    "hidden": true
   },
   "outputs": [],
   "source": [
    "df.info()"
   ]
  },
  {
   "cell_type": "markdown",
   "id": "31f09933",
   "metadata": {
    "hidden": true,
    "slideshow": {
     "slide_type": "slide"
    }
   },
   "source": [
    "- **`df.head()`:** Returns the first few rows of the `DataFrame` (by default, the first 5 rows)."
   ]
  },
  {
   "cell_type": "code",
   "execution_count": null,
   "id": "3746dbbd",
   "metadata": {
    "hidden": true
   },
   "outputs": [],
   "source": [
    "df.head()  # By default, displays the first 5 rows"
   ]
  },
  {
   "cell_type": "code",
   "execution_count": null,
   "id": "550a6b49",
   "metadata": {
    "hidden": true
   },
   "outputs": [],
   "source": [
    "df.head(10)  # Displays the first 10 rows"
   ]
  },
  {
   "cell_type": "markdown",
   "id": "7a8acfb1",
   "metadata": {
    "hidden": true,
    "slideshow": {
     "slide_type": "slide"
    }
   },
   "source": [
    "- **`df.tail()`:** Similar to `df.head()`, but returns the last few rows of the DataFrame."
   ]
  },
  {
   "cell_type": "code",
   "execution_count": null,
   "id": "b7d15537",
   "metadata": {
    "hidden": true
   },
   "outputs": [],
   "source": [
    "df.tail()  # By default, displays the last 5 rows"
   ]
  },
  {
   "cell_type": "markdown",
   "id": "3828c0e7",
   "metadata": {
    "hidden": true,
    "slideshow": {
     "slide_type": "slide"
    }
   },
   "source": [
    "- **`df.describe()`:** Generates descriptive statistics for numerical columns, including count, mean, standard deviation, minimum, and maximum values, as well as the 25th, 50th, and 75th percentiles."
   ]
  },
  {
   "cell_type": "code",
   "execution_count": null,
   "id": "a7e41eba",
   "metadata": {
    "hidden": true
   },
   "outputs": [],
   "source": [
    "df.describe()"
   ]
  },
  {
   "cell_type": "markdown",
   "id": "12facd0e",
   "metadata": {
    "heading_collapsed": true,
    "hidden": true,
    "slideshow": {
     "slide_type": "slide"
    }
   },
   "source": [
    "### 2.2 Statistics and operations"
   ]
  },
  {
   "cell_type": "markdown",
   "id": "35563868",
   "metadata": {
    "hidden": true
   },
   "source": [
    "- **`df.sum()`**"
   ]
  },
  {
   "cell_type": "code",
   "execution_count": null,
   "id": "4cd02bed",
   "metadata": {
    "hidden": true
   },
   "outputs": [],
   "source": [
    "df.sum()"
   ]
  },
  {
   "cell_type": "markdown",
   "id": "f32a1097",
   "metadata": {
    "hidden": true
   },
   "source": [
    "- **`df.mean()`**"
   ]
  },
  {
   "cell_type": "code",
   "execution_count": null,
   "id": "d5c49502",
   "metadata": {
    "hidden": true
   },
   "outputs": [],
   "source": [
    "df.mean()  # By default, computes the mean of each column"
   ]
  },
  {
   "cell_type": "code",
   "execution_count": null,
   "id": "be665bad",
   "metadata": {
    "hidden": true
   },
   "outputs": [],
   "source": [
    "df.mean(axis=0)  # Mean across columns (default behavior)"
   ]
  },
  {
   "cell_type": "code",
   "execution_count": null,
   "id": "cdf72be5",
   "metadata": {
    "hidden": true
   },
   "outputs": [],
   "source": [
    "df.mean(axis=1)  # Mean across rows"
   ]
  },
  {
   "cell_type": "markdown",
   "id": "21ccb588",
   "metadata": {
    "hidden": true
   },
   "source": [
    "- **`df.cumsum()`**"
   ]
  },
  {
   "cell_type": "code",
   "execution_count": null,
   "id": "45658ad3",
   "metadata": {
    "hidden": true
   },
   "outputs": [],
   "source": [
    "df.cumsum()"
   ]
  },
  {
   "cell_type": "markdown",
   "id": "cbff5d25",
   "metadata": {
    "hidden": true,
    "slideshow": {
     "slide_type": "slide"
    }
   },
   "source": [
    "- **`df.apply()`:** Custom functions can be applied to columns or rows using the `.apply()` method."
   ]
  },
  {
   "cell_type": "code",
   "execution_count": null,
   "id": "0cd840ad",
   "metadata": {
    "hidden": true
   },
   "outputs": [],
   "source": [
    "# Applying a lambda function to square the values in 'Price' column\n",
    "df['Price'].apply(lambda x: x ** 2)"
   ]
  },
  {
   "cell_type": "markdown",
   "id": "b8ca8368",
   "metadata": {
    "heading_collapsed": true,
    "hidden": true,
    "slideshow": {
     "slide_type": "slide"
    }
   },
   "source": [
    "### 2.3 Integrated `NumPy` Functions"
   ]
  },
  {
   "cell_type": "markdown",
   "id": "73e36cf3",
   "metadata": {
    "hidden": true
   },
   "source": [
    "`Pandas` integrates with `NumPy`, allowing the use of `NumPy` functions directly on `DataFrames`."
   ]
  },
  {
   "cell_type": "markdown",
   "id": "0cd40aca",
   "metadata": {
    "hidden": true
   },
   "source": [
    "- **`np.mean(df)`**"
   ]
  },
  {
   "cell_type": "code",
   "execution_count": null,
   "id": "9f87146b",
   "metadata": {
    "hidden": true
   },
   "outputs": [],
   "source": [
    "np.mean(df)"
   ]
  },
  {
   "cell_type": "markdown",
   "id": "8c73069a",
   "metadata": {
    "hidden": true
   },
   "source": [
    "- **`np.log(df)`**"
   ]
  },
  {
   "cell_type": "code",
   "execution_count": null,
   "id": "9bd3606b",
   "metadata": {
    "hidden": true
   },
   "outputs": [],
   "source": [
    "np.log(df)"
   ]
  },
  {
   "cell_type": "markdown",
   "id": "78aa1772",
   "metadata": {
    "hidden": true
   },
   "source": [
    "- **`np.sqrt(abs(df))`**"
   ]
  },
  {
   "cell_type": "code",
   "execution_count": null,
   "id": "0db9a25c",
   "metadata": {
    "hidden": true
   },
   "outputs": [],
   "source": [
    "np.sqrt(abs(df))"
   ]
  },
  {
   "cell_type": "code",
   "execution_count": null,
   "id": "1b2689a4",
   "metadata": {
    "hidden": true
   },
   "outputs": [],
   "source": [
    "np.sqrt(abs(df)).sum()"
   ]
  },
  {
   "cell_type": "markdown",
   "id": "70c8562b",
   "metadata": {
    "heading_collapsed": true,
    "hidden": true,
    "slideshow": {
     "slide_type": "slide"
    }
   },
   "source": [
    "### 2.4 Basic Visualization"
   ]
  },
  {
   "cell_type": "markdown",
   "id": "80aaefde",
   "metadata": {
    "hidden": true,
    "slideshow": {
     "slide_type": "-"
    }
   },
   "source": [
    "`Pandas` integrates with visualization libraries like `matplotlib` to enable quick visualizations of data. "
   ]
  },
  {
   "cell_type": "markdown",
   "id": "6d9661c3",
   "metadata": {
    "hidden": true,
    "slideshow": {
     "slide_type": "slide"
    }
   },
   "source": [
    "#### Setting up `Matplotlib` for Visualization"
   ]
  },
  {
   "cell_type": "code",
   "execution_count": null,
   "id": "e86272b9",
   "metadata": {
    "hidden": true
   },
   "outputs": [],
   "source": [
    "from pylab import plt, mpl\n",
    "\n",
    "# Setting the style to 'seaborn' for better aesthetics\n",
    "plt.style.use('seaborn')\n",
    "\n",
    "# Setting the default font to 'serif' for a clean look\n",
    "mpl.rcParams['font.family'] = 'serif'\n",
    "\n",
    "# Ensure plots are displayed inline in Jupyter notebooks\n",
    "%matplotlib inline"
   ]
  },
  {
   "cell_type": "markdown",
   "id": "b5bfeff6",
   "metadata": {
    "hidden": true,
    "slideshow": {
     "slide_type": "slide"
    }
   },
   "source": [
    "#### Examples"
   ]
  },
  {
   "cell_type": "code",
   "execution_count": null,
   "id": "48d30840",
   "metadata": {
    "hidden": true
   },
   "outputs": [],
   "source": [
    "df.cumsum().plot(lw=2.0, figsize=(10, 6))  # Line width set to 2.0 and figure size to 10x6"
   ]
  },
  {
   "cell_type": "code",
   "execution_count": null,
   "id": "ea0d4cf1",
   "metadata": {
    "hidden": true,
    "slideshow": {
     "slide_type": "slide"
    }
   },
   "outputs": [],
   "source": [
    "df.plot(kind='bar', figsize=(10, 6))  # Generates a bar plot with a figure size of 10x6"
   ]
  },
  {
   "cell_type": "markdown",
   "id": "6e5676b0",
   "metadata": {
    "heading_collapsed": true,
    "slideshow": {
     "slide_type": "slide"
    }
   },
   "source": [
    "## 3. The `Series` Class"
   ]
  },
  {
   "cell_type": "markdown",
   "id": "809cb939",
   "metadata": {
    "hidden": true,
    "slideshow": {
     "slide_type": "slide"
    }
   },
   "source": [
    "The `Series` class in `pandas` is a **one-dimensional labeled array** capable of holding any data type. \n",
    "\n",
    "A `Series` is essentially a single column of data, making it a simpler, more specialized version of the `DataFrame` class. It shares many characteristics and methods with DataFrame and adds more specifics techniques."
   ]
  },
  {
   "cell_type": "markdown",
   "id": "d5f62b3a",
   "metadata": {
    "hidden": true,
    "slideshow": {
     "slide_type": "slide"
    }
   },
   "source": [
    "### 3.1 Creating a `Series`"
   ]
  },
  {
   "cell_type": "markdown",
   "id": "8c80d33b",
   "metadata": {
    "hidden": true,
    "slideshow": {
     "slide_type": "slide"
    }
   },
   "source": [
    "A `Series` object can be created directly or obtained by selecting a single column from a `DataFrame`."
   ]
  },
  {
   "cell_type": "markdown",
   "id": "129dd26f",
   "metadata": {
    "hidden": true
   },
   "source": [
    "- **From `list`**"
   ]
  },
  {
   "cell_type": "code",
   "execution_count": null,
   "id": "07a55685",
   "metadata": {
    "hidden": true
   },
   "outputs": [],
   "source": [
    "# Creating a Series with evenly spaced numbers between 0 and 15\n",
    "s = pd.Series(np.linspace(0, 15, 7), name='series')\n",
    "print(s)"
   ]
  },
  {
   "cell_type": "code",
   "execution_count": null,
   "id": "c38836c6",
   "metadata": {
    "hidden": true
   },
   "outputs": [],
   "source": [
    "# Checking the type of the Series\n",
    "type(s)"
   ]
  },
  {
   "cell_type": "markdown",
   "id": "d8714e7d",
   "metadata": {
    "hidden": true,
    "slideshow": {
     "slide_type": "slide"
    }
   },
   "source": [
    "- **From `DataFrame`**"
   ]
  },
  {
   "cell_type": "markdown",
   "id": "b2d009ac",
   "metadata": {
    "hidden": true
   },
   "source": [
    "Selecting a single column from a `DataFrame` result in a `Series`."
   ]
  },
  {
   "cell_type": "code",
   "execution_count": null,
   "id": "f900d989",
   "metadata": {
    "hidden": true
   },
   "outputs": [],
   "source": [
    "# Selecting a column from the DataFrame as a Series\n",
    "s = df_n['No1']\n",
    "print(s)"
   ]
  },
  {
   "cell_type": "code",
   "execution_count": null,
   "id": "6a179c41",
   "metadata": {
    "hidden": true
   },
   "outputs": [],
   "source": [
    "# Checking the type\n",
    "type(s)"
   ]
  },
  {
   "cell_type": "markdown",
   "id": "b95b334b",
   "metadata": {
    "heading_collapsed": true,
    "hidden": true,
    "slideshow": {
     "slide_type": "slide"
    }
   },
   "source": [
    "### 3.2 Methods for `Series`"
   ]
  },
  {
   "cell_type": "markdown",
   "id": "ecb04714",
   "metadata": {
    "hidden": true,
    "slideshow": {
     "slide_type": "slide"
    }
   },
   "source": [
    "#### Inherited methods"
   ]
  },
  {
   "cell_type": "markdown",
   "id": "a219d8c0",
   "metadata": {
    "hidden": true
   },
   "source": [
    "Most of the methods available for `DataFrame` are also available for `Series`, such as `mean()`, or `plot()`."
   ]
  },
  {
   "cell_type": "code",
   "execution_count": null,
   "id": "fb0671b9",
   "metadata": {
    "hidden": true
   },
   "outputs": [],
   "source": [
    "# Calculating the mean of the Series\n",
    "s.mean()"
   ]
  },
  {
   "cell_type": "code",
   "execution_count": null,
   "id": "e680eab6",
   "metadata": {
    "hidden": true
   },
   "outputs": [],
   "source": [
    "# Plotting the Series\n",
    "s.plot(lw=2.0, figsize=(10, 6))  # Line width set to 2.0 and figure size to 10x6"
   ]
  },
  {
   "cell_type": "markdown",
   "id": "932fc1af",
   "metadata": {
    "hidden": true,
    "slideshow": {
     "slide_type": "slide"
    }
   },
   "source": [
    "#### `Series` specific methods"
   ]
  },
  {
   "cell_type": "markdown",
   "id": "71fd08e0",
   "metadata": {
    "hidden": true
   },
   "source": [
    "There are several methods that are specific to `Series` objects. \n",
    "\n",
    "These methods are designed to leverage the **one-dimensional** nature of a `Series` and simplify certain operations that are less intuitive or applicable in a two-dimensional `DataFrame`."
   ]
  },
  {
   "cell_type": "markdown",
   "id": "f5acc72b",
   "metadata": {
    "hidden": true
   },
   "source": [
    "- **`Series.value_counts()`:** Returns the count of unique values in a `Series`. \n",
    "    - Useful when working with categorical data or needing to understand the frequency of certain values."
   ]
  },
  {
   "cell_type": "code",
   "execution_count": null,
   "id": "31c89fe7",
   "metadata": {
    "hidden": true
   },
   "outputs": [],
   "source": [
    "# Example of value_counts\n",
    "s = pd.Series(['A', 'B', 'A', 'C', 'B', 'A'])\n",
    "s.value_counts()"
   ]
  },
  {
   "cell_type": "markdown",
   "id": "f782fd3c",
   "metadata": {
    "hidden": true,
    "slideshow": {
     "slide_type": "slide"
    }
   },
   "source": [
    "- **`Series.unique()`**: Returns an array of the unique values in a `Series`. \n",
    "    - It helps identify distinct values in a column of data."
   ]
  },
  {
   "cell_type": "code",
   "execution_count": null,
   "id": "b5a07abc",
   "metadata": {
    "hidden": true
   },
   "outputs": [],
   "source": [
    "# Example of unique\n",
    "s = pd.Series([1, 2, 2, 3, 4, 4, 4])\n",
    "s.unique()"
   ]
  },
  {
   "cell_type": "markdown",
   "id": "3a84859a",
   "metadata": {
    "hidden": true,
    "slideshow": {
     "slide_type": "slide"
    }
   },
   "source": [
    "- **`Series.nunique()`:** Returns the number of unique values in a `Series`. \n",
    "    - Similar to `value_counts()` but only provides the total number of unique elements, not their frequency."
   ]
  },
  {
   "cell_type": "code",
   "execution_count": null,
   "id": "f7cc82d2",
   "metadata": {
    "hidden": true
   },
   "outputs": [],
   "source": [
    "# Example of nunique\n",
    "s = pd.Series([1, 2, 2, 3, 4, 4, 4])\n",
    "s.nunique()"
   ]
  },
  {
   "cell_type": "markdown",
   "id": "87a0209e",
   "metadata": {
    "hidden": true,
    "slideshow": {
     "slide_type": "slide"
    }
   },
   "source": [
    "- **`Series.str` accessor:** performs string operations. \n",
    "    - This feature is unique to Series and makes it easy to manipulate text data in bulk.\n",
    "    - These include `.str.upper()`, `.str.contains()`, `.str.replace()`, and `.str.len()`"
   ]
  },
  {
   "cell_type": "code",
   "execution_count": null,
   "id": "2ae001ad",
   "metadata": {
    "hidden": true
   },
   "outputs": [],
   "source": [
    "# Sample Series of strings\n",
    "s = pd.Series(['apple', 'banana', 'pear'])"
   ]
  },
  {
   "cell_type": "code",
   "execution_count": null,
   "id": "98fcd45d",
   "metadata": {
    "hidden": true
   },
   "outputs": [],
   "source": [
    "# Convert all strings to uppercase\n",
    "s_upper = s.str.upper()\n",
    "print(s_upper)"
   ]
  },
  {
   "cell_type": "code",
   "execution_count": null,
   "id": "90a24b9f",
   "metadata": {
    "hidden": true
   },
   "outputs": [],
   "source": [
    "# Check if each string contains the letter 'a'\n",
    "s_contains = s.str.contains('a')\n",
    "print(s_contains)"
   ]
  },
  {
   "cell_type": "code",
   "execution_count": null,
   "id": "71f23320",
   "metadata": {
    "hidden": true
   },
   "outputs": [],
   "source": [
    "# Replace 'a' with 'o' in each string\n",
    "s_replace = s.str.replace('a', 'o')\n",
    "print(s_replace)"
   ]
  },
  {
   "cell_type": "code",
   "execution_count": null,
   "id": "dae37641",
   "metadata": {
    "hidden": true
   },
   "outputs": [],
   "source": [
    "# Get the length of each string\n",
    "s_len = s.str.len()\n",
    "print(s_len)"
   ]
  },
  {
   "cell_type": "markdown",
   "id": "4fb8565b",
   "metadata": {
    "hidden": true,
    "slideshow": {
     "slide_type": "slide"
    }
   },
   "source": [
    "- **`Series.dt` accessor:** performs datetime-specific operations. \n",
    "    - This makes it easy to extract year, month, day, or other components from a datetime Series.\n",
    "    - These include `dt.day`, `.dt.year`, `.dt.month`, and `.dt.weekday`."
   ]
  },
  {
   "cell_type": "code",
   "execution_count": null,
   "id": "ea26e851",
   "metadata": {
    "hidden": true
   },
   "outputs": [],
   "source": [
    "# Example of dt accessor\n",
    "s = pd.Series(pd.date_range('2023-01-01', periods=3, freq='D'))\n",
    "s.dt.day  # Extract the day from the datetime"
   ]
  },
  {
   "cell_type": "markdown",
   "id": "4f39f0ae",
   "metadata": {
    "hidden": true,
    "slideshow": {
     "slide_type": "slide"
    }
   },
   "source": [
    "- **`Series.isin()`:** Checks whether each element of the `Series` is in a given list of values and returns a boolean `Series`."
   ]
  },
  {
   "cell_type": "code",
   "execution_count": null,
   "id": "9db744f0",
   "metadata": {
    "hidden": true
   },
   "outputs": [],
   "source": [
    "# Example of isin\n",
    "s = pd.Series(['A', 'B', 'C', 'D'])\n",
    "s.isin(['B', 'C', 'E'])"
   ]
  },
  {
   "cell_type": "markdown",
   "id": "a97f744b",
   "metadata": {
    "hidden": true,
    "slideshow": {
     "slide_type": "slide"
    }
   },
   "source": [
    "- **`Series.idxmax()`** and **`Series.idxmin()`:** Return the index of the maximum or minimum value in the `Series`, respectively. "
   ]
  },
  {
   "cell_type": "code",
   "execution_count": null,
   "id": "4dd4b731",
   "metadata": {
    "hidden": true
   },
   "outputs": [],
   "source": [
    "# Example of idxmax and idxmin\n",
    "s = pd.Series([1, 5, 3, 9, 2])\n",
    "print(s.idxmax())  # Index of the maximum value\n",
    "print(s.idxmin())  # Index of the minimum value"
   ]
  },
  {
   "cell_type": "markdown",
   "id": "2a834d47",
   "metadata": {
    "heading_collapsed": true,
    "slideshow": {
     "slide_type": "slide"
    }
   },
   "source": [
    "## 🚦Checkpoint "
   ]
  },
  {
   "cell_type": "markdown",
   "id": "ac16fdd4",
   "metadata": {
    "hidden": true
   },
   "source": [
    "**Task:**\n",
    "1. Create a `pandas` Series from a list of stock prices: `[150.25, 153.50, 2800.50, 2830.75, 3400.00, 3450.50]` and name the Series `Stock_Prices`.\n",
    "\n",
    "2. Using the `Stock_Prices` series:\n",
    "   - Find the maximum price in the series.\n",
    "   - Find the minimum price in the series.\n",
    "   - Calculate the mean (average) price.\n",
    "   - Find how many stock prices are above the mean.\n",
    "   - Create a new Series where each stock price is increased by 5%.\n",
    "   - Normalize the Series so that all values are between 0 and 1 (i.e., subtract the minimum and divide by the range).\n",
    "\n",
    "3. Create another `pandas` Series from the list `[0.05, 0.03, 0.02, 0.04, 0.01, 0.06]` and name it `Stock_Changes`.  \n",
    "   This series represents the daily percentage changes for each stock (assume all changes are positive and range between 0.01 to 0.10). \n",
    "   - Multiply the `Stock_Prices` by the `Stock_Changes` Series.\n",
    "   - Create a new Series called `Updated_Prices` which contains the new stock prices after applying the percentage changes.\n",
    "\n",
    "4. Create a new `Series` that categorizes stock prices in `Updated_Prices` as either \"High\" if the price is above 3000, or \"Low\" if the price is below 3000.\n",
    "\n",
    "5. Check if any of the original `Stock_Prices` are in this list: `[153.50, 2830.75, 5000.00]` and return a boolean Series indicating whether each price is present in this list.\n",
    "\n",
    "6. Count how many times each category (\"High\" or \"Low\") appears in the `price_categories` Series from step 4.\n"
   ]
  },
  {
   "cell_type": "markdown",
   "id": "c351155c",
   "metadata": {
    "heading_collapsed": true,
    "slideshow": {
     "slide_type": "slide"
    }
   },
   "source": [
    "## 4. `GroupBy` Operations"
   ]
  },
  {
   "cell_type": "markdown",
   "id": "7953af88",
   "metadata": {
    "hidden": true,
    "slideshow": {
     "slide_type": "slide"
    }
   },
   "source": [
    "`Pandas` provides powerful and flexible **grouping** capabilities that function similarly to SQL groupings and pivot tables in Excel. \n",
    "\n",
    "Grouping is often used when performing **aggregations** or **applying specific operations** to subsets of data."
   ]
  },
  {
   "cell_type": "markdown",
   "id": "d4393708",
   "metadata": {
    "hidden": true,
    "slideshow": {
     "slide_type": "slide"
    }
   },
   "source": [
    "###### Initialization"
   ]
  },
  {
   "cell_type": "code",
   "execution_count": null,
   "id": "33553edc",
   "metadata": {
    "hidden": true
   },
   "outputs": [],
   "source": [
    "# Creating a sample financial DataFrame\n",
    "data = {\n",
    "    'Stock': ['AAPL', 'AAPL', 'GOOGL', 'GOOGL', 'AMZN', 'AMZN', 'AAPL', 'GOOGL', 'AMZN'],\n",
    "    'Quarter': ['Q1', 'Q1', 'Q1', 'Q2', 'Q2', 'Q2', 'Q3', 'Q3', 'Q3'],\n",
    "    'Price': [150.25, 153.50, 2800.50, 2830.75, 3400.00, 3450.50, 155.30, 2900.75, 3500.75],\n",
    "    'Volume': [1000, 1100, 1500, 1600, 1700, 1800, 1200, 1700, 2000],\n",
    "    'Market_Cap': [2.41e12, 2.45e12, 1.78e12, 1.82e12, 1.71e12, 1.75e12, 2.50e12, 1.85e12, 1.80e12]\n",
    "}\n",
    "\n",
    "df = pd.DataFrame(data)\n",
    "df"
   ]
  },
  {
   "cell_type": "markdown",
   "id": "77ec91f4",
   "metadata": {
    "hidden": true,
    "slideshow": {
     "slide_type": "slide"
    }
   },
   "source": [
    "### 4.1 Simple grouping"
   ]
  },
  {
   "cell_type": "markdown",
   "id": "a748854c",
   "metadata": {
    "hidden": true,
    "slideshow": {
     "slide_type": "slide"
    }
   },
   "source": [
    "Simple grouping of a DataFrame using `.groupby()` is done on a specific column which then allows to perform basic operations on each group. "
   ]
  },
  {
   "cell_type": "code",
   "execution_count": null,
   "id": "bd561ae5",
   "metadata": {
    "hidden": true
   },
   "outputs": [],
   "source": [
    "groups = df.groupby('Quarter')"
   ]
  },
  {
   "cell_type": "markdown",
   "id": "a4df5365",
   "metadata": {
    "hidden": true,
    "slideshow": {
     "slide_type": "slide"
    }
   },
   "source": [
    "#### Inspection"
   ]
  },
  {
   "cell_type": "markdown",
   "id": "b9fac06b",
   "metadata": {
    "hidden": true
   },
   "source": [
    "- `.size()`: checks how many records belong to each group"
   ]
  },
  {
   "cell_type": "code",
   "execution_count": null,
   "id": "1b41e74f",
   "metadata": {
    "hidden": true
   },
   "outputs": [],
   "source": [
    "groups.size()"
   ]
  },
  {
   "cell_type": "markdown",
   "id": "bb3d6d83",
   "metadata": {
    "hidden": true,
    "slideshow": {
     "slide_type": "slide"
    }
   },
   "source": [
    "#### Basic Operations on Groups"
   ]
  },
  {
   "cell_type": "markdown",
   "id": "ac1372ce",
   "metadata": {
    "hidden": true
   },
   "source": [
    "Groups can perform simple aggregate functions\n",
    "- `.mean()[cols]`: compute the average value of given columns for each group."
   ]
  },
  {
   "cell_type": "code",
   "execution_count": null,
   "id": "cb83bf3d",
   "metadata": {
    "hidden": true
   },
   "outputs": [],
   "source": [
    "groups.mean()[['Price', 'Volume']]"
   ]
  },
  {
   "cell_type": "markdown",
   "id": "f02b5624",
   "metadata": {
    "hidden": true
   },
   "source": [
    "- `groups.max()[cols]`: shows the maximum for given columns for each group."
   ]
  },
  {
   "cell_type": "code",
   "execution_count": null,
   "id": "2e7060a2",
   "metadata": {
    "hidden": true
   },
   "outputs": [],
   "source": [
    "groups.max()[['Price', 'Volume']]"
   ]
  },
  {
   "cell_type": "markdown",
   "id": "bb92063c",
   "metadata": {
    "hidden": true,
    "slideshow": {
     "slide_type": "slide"
    }
   },
   "source": [
    "#### Aggregating Multiple Functions at Once"
   ]
  },
  {
   "cell_type": "markdown",
   "id": "675696ee",
   "metadata": {
    "hidden": true
   },
   "source": [
    "The `.aggreagte()` methods obtains multiple aggregate functions to summarize data. "
   ]
  },
  {
   "cell_type": "code",
   "execution_count": null,
   "id": "0875338d",
   "metadata": {
    "hidden": true
   },
   "outputs": [],
   "source": [
    "groups[['Price', 'Volume']].aggregate(['min', 'max']).round(2)"
   ]
  },
  {
   "cell_type": "markdown",
   "id": "74ecb449",
   "metadata": {
    "hidden": true,
    "slideshow": {
     "slide_type": "slide"
    }
   },
   "source": [
    "### 4.2 Grouping by multiple columns"
   ]
  },
  {
   "cell_type": "code",
   "execution_count": null,
   "id": "c5246b52",
   "metadata": {
    "hidden": true,
    "slideshow": {
     "slide_type": "slide"
    }
   },
   "outputs": [],
   "source": [
    "groups = df.groupby(['Quarter', 'Stock'])"
   ]
  },
  {
   "cell_type": "code",
   "execution_count": null,
   "id": "ec464954",
   "metadata": {
    "hidden": true
   },
   "outputs": [],
   "source": [
    "groups.size()"
   ]
  },
  {
   "cell_type": "markdown",
   "id": "b4a54846",
   "metadata": {
    "hidden": true,
    "slideshow": {
     "slide_type": "slide"
    }
   },
   "source": [
    "### 4.3 Advanced grouping example"
   ]
  },
  {
   "cell_type": "markdown",
   "id": "484f32c1",
   "metadata": {
    "hidden": true,
    "slideshow": {
     "slide_type": "slide"
    }
   },
   "source": [
    "#### Aggregations on Multiple Groups"
   ]
  },
  {
   "cell_type": "markdown",
   "id": "16e991fb",
   "metadata": {
    "hidden": true
   },
   "source": [
    "After grouping by multiple column, one can perform multiple operations, such as summing and calculating the mean for specific columns"
   ]
  },
  {
   "cell_type": "code",
   "execution_count": null,
   "id": "d1b5a7fb",
   "metadata": {
    "hidden": true
   },
   "outputs": [],
   "source": [
    "groups[['Price', 'Volume']].aggregate(['sum', 'mean'])"
   ]
  },
  {
   "cell_type": "markdown",
   "id": "768b7cc0",
   "metadata": {
    "hidden": true,
    "slideshow": {
     "slide_type": "slide"
    }
   },
   "source": [
    "#### Calculating market share"
   ]
  },
  {
   "cell_type": "markdown",
   "id": "4f37c68e",
   "metadata": {
    "hidden": true
   },
   "source": [
    "**Goal:** calculate each stock’s market share in a specific quarter. \n",
    "- Compute the market share of each stock by dividing its market cap by the total market cap of all stocks in that quarter."
   ]
  },
  {
   "cell_type": "code",
   "execution_count": null,
   "id": "30f2c254",
   "metadata": {
    "hidden": true,
    "slideshow": {
     "slide_type": "slide"
    }
   },
   "outputs": [],
   "source": [
    "df['Market_Share'] = df.groupby('Quarter')['Market_Cap'].apply(lambda x: x / x.sum())\n",
    "df[['Stock', 'Quarter', 'Market_Share']]"
   ]
  },
  {
   "cell_type": "markdown",
   "id": "de0cda4c",
   "metadata": {
    "hidden": true,
    "slideshow": {
     "slide_type": "slide"
    }
   },
   "source": [
    "##### Step by step"
   ]
  },
  {
   "cell_type": "markdown",
   "id": "53b1706e",
   "metadata": {
    "hidden": true
   },
   "source": [
    "- Step 1: Grouping by `Quarter`\n",
    "\n",
    "We are using the `groupby()` function to group the data by the `Quarter` column:\n",
    "\n",
    "```python\n",
    "df.groupby('Quarter')\n",
    "```\n",
    "This groups the rows in the `DataFrame` based on the values in the `Quarter` column. This means that all stocks from the same quarter will be grouped together."
   ]
  },
  {
   "cell_type": "markdown",
   "id": "5acf207c",
   "metadata": {
    "hidden": true,
    "slideshow": {
     "slide_type": "slide"
    }
   },
   "source": [
    "- Step 2: Applying the Aggregation\n",
    "\n",
    "Next, we focus on the `Market_Cap` column within each quarter. This is done using:\n",
    "```python\n",
    "df.groupby('Quarter')['Market_Cap']\n",
    "```\n",
    "Here, we are selecting the `Market_Cap` values for each group (each quarter). We now want to calculate the market share for each stock within its respective quarter."
   ]
  },
  {
   "cell_type": "markdown",
   "id": "1d9549b0",
   "metadata": {
    "hidden": true,
    "slideshow": {
     "slide_type": "slide"
    }
   },
   "source": [
    "- Step 3: Calculating Market Share with `apply()`\n",
    "\n",
    "The custom operation is a `lambda` function that computes the market share:\n",
    "```python\n",
    "lambda x: x / x.sum()\n",
    "```\n",
    "This `lambda` function divides each stock’s market capitalization (`x`) by the total market capitalization of all stocks in the same quarter (`x.sum()`).\n",
    "\n",
    "- `x` represents the `Market_Cap` values for the group (all stocks in a given quarter).\n",
    "- `x.sum()` calculates the total market capitalization for that quarter.\n",
    "- The `lambda` function then divides each stock’s market capitalization by the total, which gives the proportion (or market share) of that stock relative to the total market capitalization in the quarter."
   ]
  },
  {
   "cell_type": "markdown",
   "id": "1533021d",
   "metadata": {
    "hidden": true,
    "slideshow": {
     "slide_type": "subslide"
    }
   },
   "source": [
    "- Step 4: Assigning the Market Share to a New Column\n",
    "\n",
    "The result of this operation is assigned to a new column in the DataFrame called Market_Share:\n",
    "\n",
    "```python\n",
    "df['Market_Share'] = ...\n",
    "```\n",
    "Now, each row in the DataFrame will have a Market_Share value representing the percentage of the total market capitalization that each stock holds within its respective quarter."
   ]
  },
  {
   "cell_type": "markdown",
   "id": "3474ca4a",
   "metadata": {
    "heading_collapsed": true,
    "slideshow": {
     "slide_type": "slide"
    }
   },
   "source": [
    "## 🚦Checkpoint"
   ]
  },
  {
   "cell_type": "markdown",
   "id": "c69e6d3d",
   "metadata": {
    "hidden": true
   },
   "source": [
    "**Task:**\n",
    "1. Create a `DataFrame` with columns: `Employee`, `Department`, `Salary` from\n",
    "```python\n",
    "    data = {\n",
    "    'Employee': ['John', 'Jane', 'Peter', 'Lucy'],\n",
    "    'Department': ['HR', 'HR', 'IT', 'IT'],\n",
    "    'Salary': [50000, 60000, 70000, 80000]\n",
    "    }\n",
    "```\n",
    "2. Calculate the average salary per department."
   ]
  },
  {
   "cell_type": "markdown",
   "id": "c19abc57",
   "metadata": {
    "heading_collapsed": true,
    "slideshow": {
     "slide_type": "slide"
    }
   },
   "source": [
    "## 5. Complex Selection"
   ]
  },
  {
   "cell_type": "markdown",
   "id": "38fada55",
   "metadata": {
    "hidden": true,
    "slideshow": {
     "slide_type": "slide"
    }
   },
   "source": [
    "In `pandas`, **data selection** involves formulating **conditions** based on column values and combining multiple conditions logically. "
   ]
  },
  {
   "cell_type": "markdown",
   "id": "abd87bbf",
   "metadata": {
    "hidden": true,
    "slideshow": {
     "slide_type": "slide"
    }
   },
   "source": [
    "##### Initialization"
   ]
  },
  {
   "cell_type": "code",
   "execution_count": null,
   "id": "98407a09",
   "metadata": {
    "hidden": true
   },
   "outputs": [],
   "source": [
    "import numpy as np\n",
    "\n",
    "# Creating a DataFrame with random financial data\n",
    "data = {\n",
    "    'Transaction_Amount': np.random.uniform(-500, 1500, 10),  # Random transaction amounts between -500 and 1500\n",
    "    'Interest_Rate': np.random.uniform(0.01, 0.15, 10),       # Random interest rates between 1% and 15%\n",
    "    'Loan_Amount': np.random.uniform(1000, 20000, 10),         # Random loan amounts between 1000 and 20000\n",
    "}\n",
    "\n",
    "df = pd.DataFrame(data)"
   ]
  },
  {
   "cell_type": "code",
   "execution_count": null,
   "id": "c77e611c",
   "metadata": {
    "hidden": true,
    "slideshow": {
     "slide_type": "slide"
    }
   },
   "outputs": [],
   "source": [
    "df.info()  # Display information about the DataFrame"
   ]
  },
  {
   "cell_type": "code",
   "execution_count": null,
   "id": "3aec1de3",
   "metadata": {
    "hidden": true
   },
   "outputs": [],
   "source": [
    "df.head()  # Display the first few rows"
   ]
  },
  {
   "cell_type": "markdown",
   "id": "04257fe4",
   "metadata": {
    "hidden": true,
    "slideshow": {
     "slide_type": "slide"
    }
   },
   "source": [
    "### 5.1 Conditions"
   ]
  },
  {
   "cell_type": "markdown",
   "id": "889dd47d",
   "metadata": {
    "hidden": true,
    "slideshow": {
     "slide_type": "slide"
    }
   },
   "source": [
    "Conditions based on the values in the `DataFrame` columns:"
   ]
  },
  {
   "cell_type": "markdown",
   "id": "dd720ab3",
   "metadata": {
    "hidden": true
   },
   "source": [
    "1. **Single Condition**: Selecting transactions greater than a specified amount:"
   ]
  },
  {
   "cell_type": "code",
   "execution_count": null,
   "id": "92511097",
   "metadata": {
    "hidden": true
   },
   "outputs": [],
   "source": [
    "condition1 = df['Transaction_Amount'] > 0"
   ]
  },
  {
   "cell_type": "markdown",
   "id": "40c4ff65",
   "metadata": {
    "hidden": true,
    "slideshow": {
     "slide_type": "slide"
    }
   },
   "source": [
    "2. **Multiple Conditions**: Using logical operators to combine conditions:\n",
    "- **AND** Condition: Selecting rows where the transaction amount is positive and the interest rate is less than 0.1:"
   ]
  },
  {
   "cell_type": "code",
   "execution_count": null,
   "id": "7853380b",
   "metadata": {
    "hidden": true
   },
   "outputs": [],
   "source": [
    "condition2 = (df['Transaction_Amount'] > 0) & (df['Interest_Rate'] < 0.1)"
   ]
  },
  {
   "cell_type": "markdown",
   "id": "6614468b",
   "metadata": {
    "hidden": true
   },
   "source": [
    "- **OR** Condition: Selecting rows where the transaction amount is positive or the interest rate is less than 0.05:"
   ]
  },
  {
   "cell_type": "code",
   "execution_count": null,
   "id": "6ffcb6bb",
   "metadata": {
    "hidden": true
   },
   "outputs": [],
   "source": [
    "condition3 = (df['Transaction_Amount'] > 0) | (df['Interest_Rate'] < 0.05)"
   ]
  },
  {
   "cell_type": "markdown",
   "id": "599862c0",
   "metadata": {
    "hidden": true,
    "slideshow": {
     "slide_type": "slide"
    }
   },
   "source": [
    "3. **Condition on All Values**: Checking for all positive values in the DataFrame:"
   ]
  },
  {
   "cell_type": "code",
   "execution_count": null,
   "id": "6405b326",
   "metadata": {
    "hidden": true
   },
   "outputs": [],
   "source": [
    "condition4 = df > 0"
   ]
  },
  {
   "cell_type": "markdown",
   "id": "8cbef882",
   "metadata": {
    "hidden": true,
    "slideshow": {
     "slide_type": "slide"
    }
   },
   "source": [
    "### 5.2 Conditional Selection"
   ]
  },
  {
   "cell_type": "markdown",
   "id": "a2244038",
   "metadata": {
    "hidden": true,
    "slideshow": {
     "slide_type": "slide"
    }
   },
   "source": [
    "Condition-based selection of data from the DataFrame."
   ]
  },
  {
   "cell_type": "markdown",
   "id": "0a226f6b",
   "metadata": {
    "hidden": true
   },
   "source": [
    "- **Select rows where `Transaction_Amount` is greater than 0**:"
   ]
  },
  {
   "cell_type": "code",
   "execution_count": null,
   "id": "6757d605",
   "metadata": {
    "hidden": true
   },
   "outputs": [],
   "source": [
    "positive_transactions = df[df['Transaction_Amount'] > 0]\n",
    "print (positive_transactions)"
   ]
  },
  {
   "cell_type": "code",
   "execution_count": null,
   "id": "840a0896",
   "metadata": {
    "hidden": true
   },
   "outputs": [],
   "source": [
    "df[condition1]"
   ]
  },
  {
   "cell_type": "markdown",
   "id": "669ec1e4",
   "metadata": {
    "hidden": true,
    "slideshow": {
     "slide_type": "slide"
    }
   },
   "source": [
    "- **Select rows where `Transaction_Amount` is positive and `Interest_Rate` is less than 0.1**:"
   ]
  },
  {
   "cell_type": "code",
   "execution_count": null,
   "id": "172081bd",
   "metadata": {
    "hidden": true
   },
   "outputs": [],
   "source": [
    "filtered_transactions = df[(df['Transaction_Amount'] > 0) & (df['Interest_Rate'] < 0.1)]\n",
    "print (filtered_transactions)"
   ]
  },
  {
   "cell_type": "code",
   "execution_count": null,
   "id": "9b13f72c",
   "metadata": {
    "hidden": true
   },
   "outputs": [],
   "source": [
    "df[condition2]"
   ]
  },
  {
   "cell_type": "markdown",
   "id": "0de2b0a5",
   "metadata": {
    "hidden": true,
    "slideshow": {
     "slide_type": "slide"
    }
   },
   "source": [
    "- **Select rows where either `Transaction_Amount` is positive or `Interest_Rate` is less than 0.05**:"
   ]
  },
  {
   "cell_type": "code",
   "execution_count": null,
   "id": "b714499f",
   "metadata": {
    "hidden": true
   },
   "outputs": [],
   "source": [
    "selected_transactions = df[(df['Transaction_Amount'] > 0) | (df['Interest_Rate'] < 0.05)]"
   ]
  },
  {
   "cell_type": "markdown",
   "id": "43036d40",
   "metadata": {
    "hidden": true,
    "slideshow": {
     "slide_type": "slide"
    }
   },
   "source": [
    "- **Select all positive values from the DataFrame**:"
   ]
  },
  {
   "cell_type": "code",
   "execution_count": null,
   "id": "5e266e49",
   "metadata": {
    "hidden": true
   },
   "outputs": [],
   "source": [
    "positive_values = df[df > 0]"
   ]
  },
  {
   "cell_type": "markdown",
   "id": "b1f7d306",
   "metadata": {
    "heading_collapsed": true,
    "slideshow": {
     "slide_type": "slide"
    }
   },
   "source": [
    "## 🚦Checkpoint"
   ]
  },
  {
   "cell_type": "markdown",
   "id": "eb5bd01b",
   "metadata": {
    "hidden": true
   },
   "source": [
    "**Task:**\n",
    "1. Create a `DataFrame` with columns `Age`, `Income` from\n",
    "```python \n",
    "    data = {\n",
    "        'Age': [25, 35, 45, 50],\n",
    "        'Income': [40000, 60000, 70000, 30000]\n",
    "    }\n",
    "```\n",
    "2. Select rows where `Age > 30` and `Income > 50000`."
   ]
  },
  {
   "cell_type": "markdown",
   "id": "aeb94986",
   "metadata": {
    "heading_collapsed": true,
    "slideshow": {
     "slide_type": "slide"
    }
   },
   "source": [
    "## 6. Concatenation, Join, Merge"
   ]
  },
  {
   "cell_type": "markdown",
   "id": "4467ec57",
   "metadata": {
    "hidden": true,
    "slideshow": {
     "slide_type": "slide"
    }
   },
   "source": [
    "Data manipulation often involves the need to **combine multiple datasets**. "
   ]
  },
  {
   "cell_type": "markdown",
   "id": "7aa6a258",
   "metadata": {
    "heading_collapsed": true,
    "hidden": true,
    "slideshow": {
     "slide_type": "slide"
    }
   },
   "source": [
    "#### Initialization"
   ]
  },
  {
   "cell_type": "code",
   "execution_count": null,
   "id": "6753ac46",
   "metadata": {
    "hidden": true
   },
   "outputs": [],
   "source": [
    "loan_data = pd.DataFrame({\n",
    "    'Customer_ID': ['A001', 'A002', 'A003', 'A004'],\n",
    "    'Loan_Amount': [10000, 20000, 15000, 25000]\n",
    "})\n",
    "\n",
    "credit_scores = pd.DataFrame({\n",
    "    'Customer_ID': ['A002', 'A004', 'A005'],\n",
    "    'Credit_Score': [720, 680, 710]\n",
    "})"
   ]
  },
  {
   "cell_type": "code",
   "execution_count": null,
   "id": "df4d8690",
   "metadata": {
    "hidden": true
   },
   "outputs": [],
   "source": [
    "loan_data"
   ]
  },
  {
   "cell_type": "code",
   "execution_count": null,
   "id": "f83bb5c9",
   "metadata": {
    "hidden": true
   },
   "outputs": [],
   "source": [
    "credit_scores"
   ]
  },
  {
   "cell_type": "markdown",
   "id": "54c74417",
   "metadata": {
    "hidden": true,
    "slideshow": {
     "slide_type": "slide"
    }
   },
   "source": [
    "### 6.1 Concatenation"
   ]
  },
  {
   "cell_type": "markdown",
   "id": "bcc5d032",
   "metadata": {
    "hidden": true,
    "slideshow": {
     "slide_type": "slide"
    }
   },
   "source": [
    "**Concatenation** or appending means adding rows from one DataFrame to another. "
   ]
  },
  {
   "cell_type": "code",
   "execution_count": null,
   "id": "8e96ffcc",
   "metadata": {
    "hidden": true
   },
   "outputs": [],
   "source": [
    "# Concatenating the DataFrames\n",
    "pd.concat([loan_data, credit_scores], sort=False)"
   ]
  },
  {
   "cell_type": "markdown",
   "id": "b2bfbd7f",
   "metadata": {
    "hidden": true
   },
   "source": [
    "- Remember that when concatenating, the index values are maintained unless specified otherwise. They can be reset `ignore_index=True` (more on this [here](#Indexing))."
   ]
  },
  {
   "cell_type": "code",
   "execution_count": null,
   "id": "eb58607c",
   "metadata": {
    "hidden": true
   },
   "outputs": [],
   "source": [
    "pd.concat([loan_data, credit_scores], ignore_index=True, sort=False)"
   ]
  },
  {
   "cell_type": "markdown",
   "id": "516e693b",
   "metadata": {
    "heading_collapsed": true,
    "hidden": true,
    "slideshow": {
     "slide_type": "slide"
    }
   },
   "source": [
    "### 6.2 Join"
   ]
  },
  {
   "cell_type": "markdown",
   "id": "4dcd6285",
   "metadata": {
    "hidden": true
   },
   "source": [
    "**Joining** allows to **combine two DataFrames** based on their **indices**. \n",
    "- It is similar to SQL joins \n",
    "- useful when combining datasets with matching shared keys."
   ]
  },
  {
   "cell_type": "markdown",
   "id": "07dd2b2a",
   "metadata": {
    "hidden": true
   },
   "source": [
    "Let’s join the `loan_data` and `credit_scores` using `Customer_ID`."
   ]
  },
  {
   "cell_type": "code",
   "execution_count": null,
   "id": "772eca41",
   "metadata": {
    "hidden": true,
    "slideshow": {
     "slide_type": "slide"
    }
   },
   "outputs": [],
   "source": [
    "# Setting the 'Customer_ID' column as index for join\n",
    "loan_data.set_index('Customer_ID', inplace=True)\n",
    "credit_scores.set_index('Customer_ID', inplace=True)"
   ]
  },
  {
   "cell_type": "code",
   "execution_count": null,
   "id": "b7182511",
   "metadata": {
    "hidden": true,
    "slideshow": {
     "slide_type": "slide"
    }
   },
   "outputs": [],
   "source": [
    "# Performing a left join\n",
    "loan_data.join(credit_scores, how='left')"
   ]
  },
  {
   "cell_type": "markdown",
   "id": "cfe5f29d",
   "metadata": {
    "hidden": true,
    "slideshow": {
     "slide_type": "slide"
    }
   },
   "source": [
    "**Join methods**\n",
    "\n",
    "There are **4 different approaches** to join `DataFrames`.\n",
    "\n",
    "Each approach leads to a different behavior with regard to how index values and the corresponding data rows are handled:\n",
    "\n",
    "| Join Method | Description                                             |\n",
    "|-------------|---------------------------------------------------------|\n",
    "| `left`      | Preserves index values from the left DataFrame.         |\n",
    "| `right`     | Preserves index values from the right DataFrame.        |\n",
    "| `inner`     | Preserves index values found in both DataFrames.        |\n",
    "| `outer`     | Preserves all index values from both DataFrames.        |"
   ]
  },
  {
   "cell_type": "code",
   "execution_count": null,
   "id": "a3576d39",
   "metadata": {
    "hidden": true,
    "slideshow": {
     "slide_type": "slide"
    }
   },
   "outputs": [],
   "source": [
    "# Different types of joins\n",
    "loan_data.join(credit_scores, how='right')"
   ]
  },
  {
   "cell_type": "code",
   "execution_count": null,
   "id": "ddd5bb91",
   "metadata": {
    "hidden": true
   },
   "outputs": [],
   "source": [
    "loan_data.join(credit_scores, how='inner')"
   ]
  },
  {
   "cell_type": "code",
   "execution_count": null,
   "id": "1465aa46",
   "metadata": {
    "hidden": true
   },
   "outputs": [],
   "source": [
    "loan_data.join(credit_scores, how='outer')"
   ]
  },
  {
   "cell_type": "markdown",
   "id": "7f2dffb2",
   "metadata": {
    "hidden": true,
    "slideshow": {
     "slide_type": "slide"
    }
   },
   "source": [
    "### 6.3 Merge"
   ]
  },
  {
   "cell_type": "markdown",
   "id": "168a4461",
   "metadata": {
    "hidden": true,
    "slideshow": {
     "slide_type": "slide"
    }
   },
   "source": [
    "**Merging** `DataFrames` is similar to joining except it can be achieved on specific columns instead of only indeces. \n",
    "- Useful when financial datasets have overlapping columns."
   ]
  },
  {
   "cell_type": "code",
   "execution_count": null,
   "id": "fbc26598",
   "metadata": {
    "hidden": true,
    "slideshow": {
     "slide_type": "slide"
    }
   },
   "outputs": [],
   "source": [
    "# Resetting index for merging\n",
    "loan_data.reset_index(inplace=True)\n",
    "credit_scores.reset_index(inplace=True)"
   ]
  },
  {
   "cell_type": "code",
   "execution_count": null,
   "id": "5d04dcec",
   "metadata": {
    "hidden": true
   },
   "outputs": [],
   "source": [
    "# Merging based on the 'Customer_ID' column\n",
    "pd.merge(loan_data, credit_scores, on='Customer_ID', how='inner')"
   ]
  },
  {
   "cell_type": "markdown",
   "id": "96fe7022",
   "metadata": {
    "hidden": true,
    "slideshow": {
     "slide_type": "slide"
    }
   },
   "source": [
    "As for **joins**, mergers can be done with the four different options:\n",
    "- `left`\n",
    "- `right`\n",
    "- `inner`\n",
    "- `outer`"
   ]
  },
  {
   "cell_type": "code",
   "execution_count": null,
   "id": "a3e9a672",
   "metadata": {
    "hidden": true
   },
   "outputs": [],
   "source": [
    "# Merge with outer join\n",
    "pd.merge(loan_data, credit_scores, on='Customer_ID', how='outer')"
   ]
  },
  {
   "cell_type": "markdown",
   "id": "951291ed",
   "metadata": {
    "hidden": true,
    "slideshow": {
     "slide_type": "slide"
    }
   },
   "source": [
    "**Merging** can also be done using different columns from each `DataFrame`\n",
    "- `left_on`\n",
    "- `right_on`"
   ]
  },
  {
   "cell_type": "code",
   "execution_count": null,
   "id": "d6b020ca",
   "metadata": {
    "hidden": true,
    "slideshow": {
     "slide_type": "slide"
    }
   },
   "outputs": [],
   "source": [
    "# Sample DataFrame for loan data\n",
    "loan_data = pd.DataFrame({\n",
    "    'Loan_ID': ['L001', 'L002', 'L003', 'L004'],\n",
    "    'Amount': [5000, 7000, 8000, 6000],\n",
    "    'Branch_ID': ['B001', 'B002', 'B003', 'B004']\n",
    "})\n",
    "\n",
    "# Sample DataFrame for branch data\n",
    "branch_data = pd.DataFrame({\n",
    "    'Branch_Name': ['Main Branch', 'East Branch', 'West Branch', 'North Branch'],\n",
    "    'Manager': ['John', 'Sally', 'Mike', 'Anna'],\n",
    "    'ID': ['B001', 'B002', 'B003', 'B005']  # Different name for Branch_ID column\n",
    "})\n",
    "\n",
    "# Merging using different columns from each DataFrame\n",
    "# Merging on loan_data['Branch_ID'] and branch_data['ID']\n",
    "merged_df = pd.merge(loan_data, branch_data, left_on='Branch_ID', right_on='ID', how='outer')\n",
    "\n",
    "print(merged_df)"
   ]
  },
  {
   "cell_type": "markdown",
   "id": "892a6469",
   "metadata": {
    "heading_collapsed": true,
    "slideshow": {
     "slide_type": "slide"
    }
   },
   "source": [
    "## 🚦Checkpoint"
   ]
  },
  {
   "cell_type": "markdown",
   "id": "06dc4067",
   "metadata": {
    "hidden": true
   },
   "source": [
    "**Task:**\n",
    "1. Create two `DataFrames`, one with `Customer_ID` and `Loan_Amount` and another with `Customer_ID` and `Credit_Score` from \n",
    "```python \n",
    "    loan_data = pd.DataFrame({\n",
    "    'Customer_ID': ['A001', 'A002', 'A003'],\n",
    "    'Loan_Amount': [10000, 15000, 20000]\n",
    "    })\n",
    "\n",
    "    credit_data = pd.DataFrame({\n",
    "        'Customer_ID': ['A001', 'A002', 'A004'],\n",
    "        'Credit_Score': [720, 650, 700]\n",
    "    })\n",
    "```\n",
    "2. Merge the two `DataFrames`."
   ]
  },
  {
   "cell_type": "markdown",
   "id": "a655d26d",
   "metadata": {
    "hidden": true
   },
   "source": [
    "---"
   ]
  }
 ],
 "metadata": {
  "kernelspec": {
   "display_name": "Python 3 (ipykernel)",
   "language": "python",
   "name": "python3"
  },
  "language_info": {
   "codemirror_mode": {
    "name": "ipython",
    "version": 3
   },
   "file_extension": ".py",
   "mimetype": "text/x-python",
   "name": "python",
   "nbconvert_exporter": "python",
   "pygments_lexer": "ipython3",
   "version": "3.9.12"
  }
 },
 "nbformat": 4,
 "nbformat_minor": 5
}
