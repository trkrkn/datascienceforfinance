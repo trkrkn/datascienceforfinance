{
 "cells": [
  {
   "cell_type": "markdown",
   "id": "64fcb3b4",
   "metadata": {},
   "source": [
    "# Functions - Problem Set"
   ]
  },
  {
   "cell_type": "markdown",
   "id": "23f03b0c",
   "metadata": {},
   "source": [
    "### **Exercise 1: Greeting Function**\n",
    "Write a function called `greet_user(name)` that takes a person's name as a parameter and prints a greeting message."
   ]
  },
  {
   "cell_type": "code",
   "execution_count": null,
   "id": "ad5d0826",
   "metadata": {},
   "outputs": [],
   "source": [
    "# Your code"
   ]
  },
  {
   "cell_type": "markdown",
   "id": "30b89589",
   "metadata": {},
   "source": [
    "### **Exercise 2: Sum of Two Numbers**\n",
    "Create a function called `sum_two_numbers(a, b)` that takes two numbers as arguments and returns their sum."
   ]
  },
  {
   "cell_type": "code",
   "execution_count": null,
   "id": "14772ec3",
   "metadata": {},
   "outputs": [],
   "source": [
    "# Your code"
   ]
  },
  {
   "cell_type": "markdown",
   "id": "9d7ab517",
   "metadata": {},
   "source": [
    "### **Exercise 3: Convert Celsius to Fahrenheit**\n",
    "Write a function `celsius_to_fahrenheit(celsius)` that takes a temperature in Celsius and returns the temperature in Fahrenheit. Use the formula:\n",
    "\n",
    "$$ \n",
    "    F = \\frac{9}{5} \\times C + 32\n",
    "$$"
   ]
  },
  {
   "cell_type": "code",
   "execution_count": null,
   "id": "337e5018",
   "metadata": {},
   "outputs": [],
   "source": [
    "# Your code"
   ]
  },
  {
   "cell_type": "markdown",
   "id": "b357cdf5",
   "metadata": {},
   "source": [
    "### **Exercise 4: Calculate Area of Circle**\n",
    "Create a function called `calculate_circle_area(radius)` that takes the radius of a circle and returns the area of the circle using the formula:\n",
    "\n",
    "$$\n",
    "    A = \\pi \\times r^2\n",
    "$$"
   ]
  },
  {
   "cell_type": "code",
   "execution_count": null,
   "id": "e0dd9573",
   "metadata": {},
   "outputs": [],
   "source": [
    "# Your code"
   ]
  },
  {
   "cell_type": "markdown",
   "id": "5e404fd0",
   "metadata": {},
   "source": [
    "### **Exercise 5: Simple Interest**\n",
    "Write a function `calculate_simple_interest(principal, rate, time)` that calculates simple interest and returns it. The formula is:\n",
    "\n",
    "$$\n",
    "    \\text{Interest} = \\frac{P \\times R \\times T}{100}\n",
    "$$"
   ]
  },
  {
   "cell_type": "code",
   "execution_count": null,
   "id": "69be47ee",
   "metadata": {},
   "outputs": [],
   "source": [
    "# Your code"
   ]
  },
  {
   "cell_type": "markdown",
   "id": "94f8f217",
   "metadata": {},
   "source": [
    "### **Exercise 6: Compound Interest**\n",
    "Modify the function `calculate_compound_interest(principal, rate, time)` to return both the compound interest and the total amount (principal + interest)."
   ]
  },
  {
   "cell_type": "code",
   "execution_count": null,
   "id": "c7c8699b",
   "metadata": {},
   "outputs": [],
   "source": [
    "# Your code"
   ]
  },
  {
   "cell_type": "markdown",
   "id": "6969752e",
   "metadata": {},
   "source": [
    "### **Exercise 7: Maximum of Three Numbers**\n",
    "Create a function `max_of_three(a, b, c)` that takes three numbers as input and returns the largest of the three."
   ]
  },
  {
   "cell_type": "code",
   "execution_count": null,
   "id": "6a41af26",
   "metadata": {},
   "outputs": [],
   "source": [
    "# Your code"
   ]
  },
  {
   "cell_type": "markdown",
   "id": "14a8dea4",
   "metadata": {},
   "source": [
    "### **Exercise 8: Check Even or Odd with Lambda**\n",
    "Use a lambda function to check whether a number is even or odd. Write a function `is_even_or_odd(number)` that returns \"even\" if the number is even and \"odd\" if the number is odd."
   ]
  },
  {
   "cell_type": "code",
   "execution_count": null,
   "id": "b7d7e393",
   "metadata": {},
   "outputs": [],
   "source": [
    "# Your code"
   ]
  },
  {
   "cell_type": "markdown",
   "id": "9de23145",
   "metadata": {},
   "source": [
    "### **Exercise 9: Sum of Squares using map()**\n",
    "Use `map()` and a lambda function to create a list of squares of numbers from 1 to 10."
   ]
  },
  {
   "cell_type": "code",
   "execution_count": null,
   "id": "c5ef4485",
   "metadata": {},
   "outputs": [],
   "source": [
    "# Your code"
   ]
  },
  {
   "cell_type": "markdown",
   "id": "75470dd5",
   "metadata": {},
   "source": [
    "### **Exercise 10: Filter Positive Numbers**\n",
    "Write a function `filter_positive(numbers)` that takes a list of numbers and uses the `filter()` function to return a list of only positive numbers."
   ]
  },
  {
   "cell_type": "code",
   "execution_count": null,
   "id": "1c940155",
   "metadata": {},
   "outputs": [],
   "source": [
    "# Your code"
   ]
  },
  {
   "cell_type": "markdown",
   "id": "ff50327c",
   "metadata": {},
   "source": [
    "### **Advanced Exercise 1: Recursive Factorial Function**\n",
    "Write a recursive function `factorial(n)` that takes a number `n` and returns the factorial of `n`."
   ]
  },
  {
   "cell_type": "code",
   "execution_count": null,
   "id": "4b83a469",
   "metadata": {},
   "outputs": [],
   "source": [
    "# Your code"
   ]
  },
  {
   "cell_type": "markdown",
   "id": "76365481",
   "metadata": {},
   "source": [
    "### **Advanced Exercise 2: Higher-Order Function for Applying Functions**\n",
    "Create a higher-order function `apply_function(func, x)` that takes a function and a value `x`, and applies the function to `x` twice."
   ]
  },
  {
   "cell_type": "code",
   "execution_count": null,
   "id": "8fb2d8a3",
   "metadata": {},
   "outputs": [],
   "source": [
    "# Your code"
   ]
  },
  {
   "cell_type": "markdown",
   "id": "5434c338",
   "metadata": {},
   "source": [
    "### **Advanced Exercise 3: Net Present Value (NPV) with Lambda**\n",
    "Write a function `calculate_npv(cash_flows, rate)` that calculates the Net Present Value (NPV) of cash flows using a lambda function inside a list comprehension. Assume `cash_flows` is a list and `rate` is a constant discount rate."
   ]
  },
  {
   "cell_type": "code",
   "execution_count": null,
   "id": "f30c645e",
   "metadata": {},
   "outputs": [],
   "source": [
    "# Your code"
   ]
  },
  {
   "cell_type": "markdown",
   "id": "cf8c5971",
   "metadata": {},
   "source": [
    "### **Advanced Exercise 4: Zip and Sort**\n",
    "Write a function `zip_and_sort(names, scores)` that takes two lists: `names` (list of students' names) and `scores` (list of their scores). Use `zip()` to combine the two lists into tuples, then return the list of students sorted by their scores in descending order."
   ]
  },
  {
   "cell_type": "code",
   "execution_count": null,
   "id": "16c0606d",
   "metadata": {},
   "outputs": [],
   "source": [
    "# Your code"
   ]
  },
  {
   "cell_type": "markdown",
   "id": "a5887a14",
   "metadata": {},
   "source": [
    "### **Advanced Exercise 5: Reduce for Cumulative Product**\n",
    "Use the `reduce()` function to write a function `cumulative_product(numbers)` that takes a list of numbers and returns their cumulative product."
   ]
  },
  {
   "cell_type": "code",
   "execution_count": null,
   "id": "142413c2",
   "metadata": {},
   "outputs": [],
   "source": [
    "# Your code"
   ]
  }
 ],
 "metadata": {
  "kernelspec": {
   "display_name": "Python 3 (ipykernel)",
   "language": "python",
   "name": "python3"
  },
  "language_info": {
   "codemirror_mode": {
    "name": "ipython",
    "version": 3
   },
   "file_extension": ".py",
   "mimetype": "text/x-python",
   "name": "python",
   "nbconvert_exporter": "python",
   "pygments_lexer": "ipython3",
   "version": "3.9.12"
  }
 },
 "nbformat": 4,
 "nbformat_minor": 5
}
