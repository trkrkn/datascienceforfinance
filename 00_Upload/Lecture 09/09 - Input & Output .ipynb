{
 "cells": [
  {
   "cell_type": "markdown",
   "id": "9afa4df2",
   "metadata": {
    "slideshow": {
     "slide_type": "slide"
    }
   },
   "source": [
    "# Lecture 09 - Input and Output (I/O) Operations"
   ]
  },
  {
   "cell_type": "markdown",
   "id": "1327b793",
   "metadata": {
    "slideshow": {
     "slide_type": "slide"
    }
   },
   "source": [
    "## 1. Overview"
   ]
  },
  {
   "cell_type": "markdown",
   "id": "c508327c",
   "metadata": {
    "slideshow": {
     "slide_type": "slide"
    }
   },
   "source": [
    "**Input and output operations** (I/O) are essential in programming. \n",
    "\n",
    "They allow programs to \n",
    "- **Interact** live with users\n",
    "- Take data as **input**\n",
    "- Display or save the results as **output**"
   ]
  },
  {
   "cell_type": "markdown",
   "id": "2e80f02f",
   "metadata": {},
   "source": [
    "This notebook covers\n",
    "- How to take input from users\n",
    "- How to display output using the `print()` function\n",
    "- File I/O operations: reading from and writing to files\n",
    "- Handling CSV files with basic file operations\n",
    "- Working with CSV/Excel files using `pandas`"
   ]
  },
  {
   "cell_type": "markdown",
   "id": "683ba2db",
   "metadata": {
    "slideshow": {
     "slide_type": "slide"
    }
   },
   "source": [
    "## 2. Live inputs"
   ]
  },
  {
   "cell_type": "markdown",
   "id": "aac6c3b8",
   "metadata": {
    "slideshow": {
     "slide_type": "slide"
    }
   },
   "source": [
    "### 2.1 The `input()` function"
   ]
  },
  {
   "cell_type": "markdown",
   "id": "eeef92f0",
   "metadata": {},
   "source": [
    "The `input()` function allows the user to provide input to the program while running by returning the input as a `string`."
   ]
  },
  {
   "cell_type": "code",
   "execution_count": null,
   "id": "28e6bd34",
   "metadata": {},
   "outputs": [],
   "source": [
    "# Example: Asking for user input\n",
    "name = input(\"What is your name? \")\n",
    "print(\"Hello, \" + name + \"!\")"
   ]
  },
  {
   "cell_type": "markdown",
   "id": "a4ffb96f",
   "metadata": {
    "slideshow": {
     "slide_type": "slide"
    }
   },
   "source": [
    "### 2.2 Casting inputs"
   ]
  },
  {
   "cell_type": "markdown",
   "id": "9af241dc",
   "metadata": {},
   "source": [
    "Results from `input()` can be casted from `string` to other data types (`int`, `float`, etc.)."
   ]
  },
  {
   "cell_type": "code",
   "execution_count": null,
   "id": "9693ed73",
   "metadata": {},
   "outputs": [],
   "source": [
    "# Example: Taking a number as input\n",
    "age = int(input(\"How old are you? \"))  # Convert input to an integer\n",
    "print(\"You are\", age, \"years old.\")\n",
    "print (\"You were born in \", 2024 - age)"
   ]
  },
  {
   "cell_type": "code",
   "execution_count": null,
   "id": "9592c4c9",
   "metadata": {},
   "outputs": [],
   "source": [
    "# Example: Taking a float as input\n",
    "balance = float(input(\"Enter your account balance: \"))\n",
    "print(\"Your balance is $\", balance)"
   ]
  },
  {
   "cell_type": "markdown",
   "id": "9990ddfd",
   "metadata": {
    "slideshow": {
     "slide_type": "slide"
    }
   },
   "source": [
    "### 2.3 Multiple inputs"
   ]
  },
  {
   "cell_type": "markdown",
   "id": "0e74611e",
   "metadata": {},
   "source": [
    "When multiple inputs are entered, they are returned in one line. They can be then separated into separate items using `split()`."
   ]
  },
  {
   "cell_type": "code",
   "execution_count": null,
   "id": "3bad3c0a",
   "metadata": {},
   "outputs": [],
   "source": [
    "# Example: Taking multiple inputs\n",
    "first_name, last_name = input(\"Enter your first and last name: \").split()\n",
    "print(\"Hello, \" + first_name + \" \" + last_name)"
   ]
  },
  {
   "cell_type": "markdown",
   "id": "ce232e76",
   "metadata": {
    "slideshow": {
     "slide_type": "slide"
    }
   },
   "source": [
    "## 3. Live output"
   ]
  },
  {
   "cell_type": "markdown",
   "id": "0e38c3c9",
   "metadata": {
    "slideshow": {
     "slide_type": "slide"
    }
   },
   "source": [
    "### 3.1 The `print()` function"
   ]
  },
  {
   "cell_type": "markdown",
   "id": "4cadcea5",
   "metadata": {},
   "source": [
    "The `print()` function displays outputs in the prompt terminal."
   ]
  },
  {
   "cell_type": "code",
   "execution_count": null,
   "id": "1fc786bf",
   "metadata": {},
   "outputs": [],
   "source": [
    "# Example: Basic output using print()\n",
    "print(\"Hello, world!\")"
   ]
  },
  {
   "cell_type": "markdown",
   "id": "2ea22f0b",
   "metadata": {
    "slideshow": {
     "slide_type": "slide"
    }
   },
   "source": [
    "### 3.2 Printing variables and expressions"
   ]
  },
  {
   "cell_type": "markdown",
   "id": "e86a3c0d",
   "metadata": {},
   "source": [
    "The `print()` handles variables and expressions."
   ]
  },
  {
   "cell_type": "code",
   "execution_count": null,
   "id": "c899ee69",
   "metadata": {},
   "outputs": [],
   "source": [
    "# Example: Printing variables\n",
    "name = \"Alice\"\n",
    "age = 25\n",
    "print(\"Name:\", name, \"Age:\", age)"
   ]
  },
  {
   "cell_type": "markdown",
   "id": "b277dd3c",
   "metadata": {
    "slideshow": {
     "slide_type": "slide"
    }
   },
   "source": [
    "#### String formatting"
   ]
  },
  {
   "cell_type": "markdown",
   "id": "2d4f290a",
   "metadata": {},
   "source": [
    "`Python` provides several ways to format outputs as a combination of strings and variables."
   ]
  },
  {
   "cell_type": "markdown",
   "id": "9f3907fc",
   "metadata": {},
   "source": [
    "- **Using commas:**\n",
    "\n",
    "        print(\"string\", variable, \"string\", etc.)"
   ]
  },
  {
   "cell_type": "code",
   "execution_count": null,
   "id": "d570eeb6",
   "metadata": {},
   "outputs": [],
   "source": [
    "# Example: Using commas\n",
    "print(\"Your balance is\", balance, \"dollars.\")"
   ]
  },
  {
   "cell_type": "markdown",
   "id": "a9d39d2b",
   "metadata": {
    "slideshow": {
     "slide_type": "slide"
    }
   },
   "source": [
    "- **Using f-strings (available in Python 3.6+):**\n",
    "\n",
    "        print (f\"string {variable}\")"
   ]
  },
  {
   "cell_type": "code",
   "execution_count": null,
   "id": "27ee82ba",
   "metadata": {},
   "outputs": [],
   "source": [
    "# Example: Using f-strings\n",
    "print(f\"Hello, {name}. You are {age} years old.\")"
   ]
  },
  {
   "cell_type": "markdown",
   "id": "48ce8699",
   "metadata": {},
   "source": [
    "- **Using the `format()` method:**\n",
    "\n",
    "        print (\"string {}, {}\".format(variable1, variable2))"
   ]
  },
  {
   "cell_type": "code",
   "execution_count": null,
   "id": "fceb780f",
   "metadata": {},
   "outputs": [],
   "source": [
    "# Example: Using format()\n",
    "print(\"Hello, {}. You are {} years old.\".format(name, age))"
   ]
  },
  {
   "cell_type": "markdown",
   "id": "063fd111",
   "metadata": {
    "slideshow": {
     "slide_type": "slide"
    }
   },
   "source": [
    "## 4. File input and output (File I/O)"
   ]
  },
  {
   "cell_type": "markdown",
   "id": "a6274e7c",
   "metadata": {
    "slideshow": {
     "slide_type": "slide"
    }
   },
   "source": [
    "Programs can **read from** files and **write to** files. "
   ]
  },
  {
   "cell_type": "markdown",
   "id": "27525d31",
   "metadata": {
    "slideshow": {
     "slide_type": "slide"
    }
   },
   "source": [
    "### 4.1 Opening files"
   ]
  },
  {
   "cell_type": "markdown",
   "id": "6f72a1d3",
   "metadata": {},
   "source": [
    "Before reading from or writing to a file, a file object must be created. The `open()` function opens files and creates access in `Python`.\n",
    "\n",
    "```python\n",
    "    open (name, mode)\n",
    "```\n",
    "- The name (or path) of the file\n",
    "- The access mode (e.g., `'r'` for reading, `'w'` for writing, `'a'` for appending)\n",
    "\n",
    "**Note:** opened files must then be closed with `.close()` to clear the access."
   ]
  },
  {
   "cell_type": "code",
   "execution_count": null,
   "id": "a7ea5428",
   "metadata": {},
   "outputs": [],
   "source": [
    "file_path = \"Data/09/\"\n",
    "file_name = \"example.txt\"\n",
    "file = open(file_path + file_name, \"r\")  # Open the file in read mode"
   ]
  },
  {
   "cell_type": "markdown",
   "id": "263760b5",
   "metadata": {
    "slideshow": {
     "slide_type": "slide"
    }
   },
   "source": [
    "### 4.2 Reading from"
   ]
  },
  {
   "cell_type": "markdown",
   "id": "159dfcef",
   "metadata": {},
   "source": [
    "Several methods exist for reading file contents, such as `.read()`, `.readline()`, and `.readlines()`."
   ]
  },
  {
   "cell_type": "markdown",
   "id": "d0f481c2",
   "metadata": {},
   "source": [
    "- **`read()`**: Reads the entire file."
   ]
  },
  {
   "cell_type": "code",
   "execution_count": null,
   "id": "80297933",
   "metadata": {},
   "outputs": [],
   "source": [
    "content = file.read()  # Read the entire file\n",
    "print(content)\n",
    "file.close()  # Close the file after reading"
   ]
  },
  {
   "cell_type": "code",
   "execution_count": null,
   "id": "4b58ebe1",
   "metadata": {},
   "outputs": [],
   "source": [
    "content"
   ]
  },
  {
   "cell_type": "markdown",
   "id": "14febf0b",
   "metadata": {
    "slideshow": {
     "slide_type": "slide"
    }
   },
   "source": [
    "- **`readline()`**: Reads one line at a time."
   ]
  },
  {
   "cell_type": "code",
   "execution_count": null,
   "id": "dac66293",
   "metadata": {},
   "outputs": [],
   "source": [
    "file = open(file_path + file_name, \"r\")\n",
    "line = file.readline()\n",
    "while line:\n",
    "    print(line.strip())  # Remove newline characters\n",
    "    line = file.readline()\n",
    "file.close()"
   ]
  },
  {
   "cell_type": "markdown",
   "id": "52dcb6d4",
   "metadata": {
    "slideshow": {
     "slide_type": "slide"
    }
   },
   "source": [
    "- **`readlines()`**: Reads all lines and returns them as a list."
   ]
  },
  {
   "cell_type": "code",
   "execution_count": null,
   "id": "7039a4ec",
   "metadata": {
    "scrolled": true
   },
   "outputs": [],
   "source": [
    "file = open(file_path + file_name, \"r\")\n",
    "lines = file.readlines()\n",
    "for line in lines:\n",
    "    print(line.strip())\n",
    "file.close()"
   ]
  },
  {
   "cell_type": "markdown",
   "id": "47a43afb",
   "metadata": {
    "slideshow": {
     "slide_type": "slide"
    }
   },
   "source": [
    "### 4.3 `with` for file handling"
   ]
  },
  {
   "cell_type": "markdown",
   "id": "56ed0c2f",
   "metadata": {},
   "source": [
    "To avoid misusing file access (opening and closing), the `with` statement handles files more efficiently by automatically closing the file after the block of code is executed."
   ]
  },
  {
   "cell_type": "markdown",
   "id": "1ced6f3d",
   "metadata": {},
   "source": [
    "```python\n",
    "    with expression as variable:\n",
    "        # Code block that uses the resource (e.g., a file or connection)\n",
    "```"
   ]
  },
  {
   "cell_type": "code",
   "execution_count": null,
   "id": "95f94ff9",
   "metadata": {},
   "outputs": [],
   "source": [
    "# Example: Using 'with' to handle files\n",
    "with open(file_path + file_name, \"r\") as file:\n",
    "    content = file.read()\n",
    "    print(content)\n",
    "# No need to explicitly close the file; it is done automatically"
   ]
  },
  {
   "cell_type": "markdown",
   "id": "0c5533f3",
   "metadata": {
    "slideshow": {
     "slide_type": "slide"
    }
   },
   "source": [
    "### 4.4 Writing to"
   ]
  },
  {
   "cell_type": "markdown",
   "id": "4e17c6cb",
   "metadata": {},
   "source": [
    "Writing data to a file is done using the `write()` or `writelines()` methods. \n",
    "- The `'w'` (write) mode overwrites the existing content. \n",
    "- The `'a'` (append) mode writes at the end of the file."
   ]
  },
  {
   "cell_type": "markdown",
   "id": "726dc8e0",
   "metadata": {},
   "source": [
    "- **Write mode `m`:**"
   ]
  },
  {
   "cell_type": "code",
   "execution_count": null,
   "id": "e7f2d66b",
   "metadata": {},
   "outputs": [],
   "source": [
    "# Example: Writing to a file\n",
    "file_name = \"new_file.txt\"\n",
    "with open(file_path + file_name, \"w\") as file: # Open file in write mode\n",
    "    file.write(\"This is the first line.\\n\")\n",
    "    file.write(\"This is the second line.\\n\")"
   ]
  },
  {
   "cell_type": "code",
   "execution_count": null,
   "id": "d2045dca",
   "metadata": {},
   "outputs": [],
   "source": [
    "# checking\n",
    "with open(file_path + file_name, \"r\") as file: # Open file in write mode\n",
    "    print(file.read())"
   ]
  },
  {
   "cell_type": "markdown",
   "id": "75915814",
   "metadata": {
    "slideshow": {
     "slide_type": "slide"
    }
   },
   "source": [
    "- **Append mode `a`:**"
   ]
  },
  {
   "cell_type": "code",
   "execution_count": null,
   "id": "1ff53c97",
   "metadata": {},
   "outputs": [],
   "source": [
    "# Example: Writing to a file\n",
    "file_name = \"new_file.txt\"\n",
    "with open(file_path + file_name, \"a\") as file: # Open file in write mode\n",
    "    file.write(\"This is the first line.\\n\")\n",
    "    file.write(\"This is the second line.\\n\")\n",
    "    file.write(\"This is an additional line.\\n\")"
   ]
  },
  {
   "cell_type": "code",
   "execution_count": null,
   "id": "6c65725c",
   "metadata": {},
   "outputs": [],
   "source": [
    "# checking\n",
    "with open(file_path + file_name, \"r\") as file: # Open file in write mode\n",
    "    print(file.read())"
   ]
  },
  {
   "cell_type": "markdown",
   "id": "b69d8e85",
   "metadata": {
    "slideshow": {
     "slide_type": "slide"
    }
   },
   "source": [
    "## 5. `.csv` files"
   ]
  },
  {
   "cell_type": "markdown",
   "id": "2af7d68b",
   "metadata": {
    "slideshow": {
     "slide_type": "slide"
    }
   },
   "source": [
    "`CSV` (Comma-Separated Values) files are the standard storing format for **tabular data**. \n",
    "- The firt line contains the name of columns.\n",
    "- Each line is a row where cells are separated by `,`. \n",
    "\n",
    "**Example**: `\"csv_example.csv\"`\n",
    "\n",
    "```\n",
    "    Name,Age,Balance\n",
    "    Alice,30,1000.50\n",
    "    Bob,25,1500.75\n",
    "    Charlie,35,2000.25\n",
    "    Diana,28,1800.60\n",
    "    Eve,22,1200.00\n",
    "```"
   ]
  },
  {
   "cell_type": "markdown",
   "id": "33ce5fd5",
   "metadata": {
    "slideshow": {
     "slide_type": "slide"
    }
   },
   "source": [
    "### 5.1 with `Python`"
   ]
  },
  {
   "cell_type": "markdown",
   "id": "09939716",
   "metadata": {},
   "source": [
    "Handling `.csv` files from `Python` can be done using the `csv` module."
   ]
  },
  {
   "cell_type": "code",
   "execution_count": null,
   "id": "917d14b6",
   "metadata": {},
   "outputs": [],
   "source": [
    "import csv"
   ]
  },
  {
   "cell_type": "markdown",
   "id": "c4034276",
   "metadata": {
    "slideshow": {
     "slide_type": "slide"
    }
   },
   "source": [
    "#### Reading from"
   ]
  },
  {
   "cell_type": "markdown",
   "id": "e391b198",
   "metadata": {},
   "source": [
    "Reading a `csv` file is done using the `csv.reader()` method."
   ]
  },
  {
   "cell_type": "code",
   "execution_count": null,
   "id": "d1cc452f",
   "metadata": {},
   "outputs": [],
   "source": [
    "import csv\n",
    "# Example: Reading a CSV file\n",
    "csv_file_name = 'csv_example.csv'\n",
    "with open(file_path + csv_file_name, 'r') as file:\n",
    "    csv_reader = csv.reader(file)\n",
    "    for row in csv_reader:\n",
    "        print(row)"
   ]
  },
  {
   "cell_type": "markdown",
   "id": "1a2923ad",
   "metadata": {
    "slideshow": {
     "slide_type": "slide"
    }
   },
   "source": [
    "`csv` files can also be directly read as `dict` objects using the `csv.DictRead()` method."
   ]
  },
  {
   "cell_type": "code",
   "execution_count": null,
   "id": "527d0a69",
   "metadata": {},
   "outputs": [],
   "source": [
    "# Example: Reading a CSV file with headers\n",
    "with open(file_path + csv_file_name, 'r') as file:\n",
    "    csv_reader = csv.DictReader(file)\n",
    "    for row in csv_reader:\n",
    "        print(f\"{row['Name']} is {row['Age']} years old.\")"
   ]
  },
  {
   "cell_type": "markdown",
   "id": "d099ad98",
   "metadata": {
    "slideshow": {
     "slide_type": "slide"
    }
   },
   "source": [
    "#### Writing to"
   ]
  },
  {
   "cell_type": "markdown",
   "id": "8c214c6d",
   "metadata": {},
   "source": [
    "Writing data to a `csv` file is done by \n",
    "1. Creating a `csv.writer()` object with the output file.\n",
    "2. Inserting rows with `.writerow()`"
   ]
  },
  {
   "cell_type": "markdown",
   "id": "785a182d",
   "metadata": {
    "slideshow": {
     "slide_type": "slide"
    }
   },
   "source": [
    "- `w` mode"
   ]
  },
  {
   "cell_type": "code",
   "execution_count": null,
   "id": "5e2c46bd",
   "metadata": {},
   "outputs": [],
   "source": [
    "# Example: Writing to a CSV file\n",
    "csv_output_file_name = 'csv_output_example.csv'\n",
    "with open(file_path + csv_output_file_name, 'w', newline='') as file:\n",
    "    csv_writer = csv.writer(file)\n",
    "    csv_writer.writerow(['Name', 'Age', 'Balance'])\n",
    "    csv_writer.writerow(['Alice', '30', '1000.50'])\n",
    "    csv_writer.writerow(['Bob', '25', '1500.75'])"
   ]
  },
  {
   "cell_type": "markdown",
   "id": "b260d1e0",
   "metadata": {
    "slideshow": {
     "slide_type": "slide"
    }
   },
   "source": [
    "- `a` mode"
   ]
  },
  {
   "cell_type": "code",
   "execution_count": null,
   "id": "96f60257",
   "metadata": {},
   "outputs": [],
   "source": [
    "csv_output_file_name = 'csv_output_example.csv'\n",
    "with open(file_path + csv_output_file_name, 'a', newline='') as file:\n",
    "    csv_writer = csv.writer(file)\n",
    "    csv_writer.writerow(['Name', 'Age', 'Balance'])\n",
    "    csv_writer.writerow(['Charlie', '35', '2000.25'])\n",
    "    csv_writer.writerow(['Eve', '22', '1200.00'])"
   ]
  },
  {
   "cell_type": "code",
   "execution_count": null,
   "id": "ae04f69d",
   "metadata": {},
   "outputs": [],
   "source": [
    "with open(file_path + csv_output_file_name, 'r') as file:\n",
    "    csv_reader = csv.DictReader(file)\n",
    "    for row in csv_reader:\n",
    "        print(f\"{row['Name']} is {row['Age']} years old.\")"
   ]
  },
  {
   "cell_type": "markdown",
   "id": "bdfe1310",
   "metadata": {
    "slideshow": {
     "slide_type": "slide"
    }
   },
   "source": [
    "### 5.2 with `pandas`"
   ]
  },
  {
   "cell_type": "markdown",
   "id": "fd0724e5",
   "metadata": {},
   "source": [
    "`Pandas` simplifies reading, writing, and analyzing data, especially with `csv` files. "
   ]
  },
  {
   "cell_type": "code",
   "execution_count": null,
   "id": "0717471c",
   "metadata": {},
   "outputs": [],
   "source": [
    "import pandas as pd"
   ]
  },
  {
   "cell_type": "markdown",
   "id": "14408fd8",
   "metadata": {
    "slideshow": {
     "slide_type": "slide"
    }
   },
   "source": [
    "#### Reading from"
   ]
  },
  {
   "cell_type": "markdown",
   "id": "282084a4",
   "metadata": {},
   "source": [
    "Reading a `csv` file is done using the `pd.read_csv()` method."
   ]
  },
  {
   "cell_type": "markdown",
   "id": "5e130c84",
   "metadata": {},
   "source": [
    "```python\n",
    "    pd.read_csv(...)\n",
    "```\n",
    "Check method documentation (huge!).\n",
    "\n",
    "Key parameters:\n",
    "- `filepath_or_buffer`: The path to the file you want to read.\n",
    "- `delimiter` or `sep`: The character that separates values (default is a comma).\n",
    "- `header`: Row number to use as the column names.\n",
    "- `names`: A list of column names to use.\n",
    "- `index_col`: Column(s) to set as index.\n",
    "- `skiprows`: Number of rows to skip at the start of the file."
   ]
  },
  {
   "cell_type": "code",
   "execution_count": null,
   "id": "38a3954f",
   "metadata": {
    "slideshow": {
     "slide_type": "slide"
    }
   },
   "outputs": [],
   "source": [
    "csv_file_name = 'csv_example.csv'\n",
    "df = pd.read_csv(file_path + csv_file_name)\n",
    "df"
   ]
  },
  {
   "cell_type": "markdown",
   "id": "e651f72d",
   "metadata": {
    "slideshow": {
     "slide_type": "slide"
    }
   },
   "source": [
    "**Example with Parameters**"
   ]
  },
  {
   "cell_type": "code",
   "execution_count": null,
   "id": "1ed1373b",
   "metadata": {},
   "outputs": [],
   "source": [
    "# Customizing CSV reading\n",
    "df = pd.read_csv(file_path + csv_file_name, delimiter=\",\", header=0, index_col=\"Name\")\n",
    "df.head()"
   ]
  },
  {
   "cell_type": "markdown",
   "id": "2558f73c",
   "metadata": {
    "slideshow": {
     "slide_type": "slide"
    }
   },
   "source": [
    "#### Writing to"
   ]
  },
  {
   "cell_type": "markdown",
   "id": "b83af023",
   "metadata": {},
   "source": [
    "Saving a `DataFrame` to a `csv` file is done using the `pd.to_csv()` method."
   ]
  },
  {
   "cell_type": "code",
   "execution_count": null,
   "id": "6c6c345f",
   "metadata": {},
   "outputs": [],
   "source": [
    "# Example: Writing DataFrame to a CSV file\n",
    "df_file_name = 'df_output_example.csv'\n",
    "df.to_csv(file_path + df_file_name, index=False)  # `index=False` to exclude row indices"
   ]
  },
  {
   "cell_type": "markdown",
   "id": "29981dca",
   "metadata": {
    "slideshow": {
     "slide_type": "slide"
    }
   },
   "source": [
    "## 6. Excel files"
   ]
  },
  {
   "cell_type": "markdown",
   "id": "9d8f88ff",
   "metadata": {
    "slideshow": {
     "slide_type": "slide"
    }
   },
   "source": [
    "**Excel files** are commonly used for data storage and transfer. `Pandas` makes it easy to write and read these files."
   ]
  },
  {
   "cell_type": "markdown",
   "id": "e98cc140",
   "metadata": {
    "slideshow": {
     "slide_type": "slide"
    }
   },
   "source": [
    "### 6.1 Writing to "
   ]
  },
  {
   "cell_type": "markdown",
   "id": "e71b4a39",
   "metadata": {},
   "source": [
    "`Pandas` writes `DataFrames` to Excel files using the `to_excel()` method."
   ]
  },
  {
   "cell_type": "markdown",
   "id": "9ddafe1e",
   "metadata": {},
   "source": [
    "```python\n",
    "    pd.to_excel(...)\n",
    "```\n",
    "Check method documentation (huge!).\n",
    "\n",
    "Key parameters:\n",
    "- `excel_writer`: This is the path to the Excel file (\"output.xlsx\") or an `ExcelWriter` object if saving multiple sheets to a single file.\n",
    "- `sheet_name`: The name of the sheet where the `DataFrame` will be saved. Default is \"Sheet1\".\n",
    "- `na_rep`: Defines how missing values (`NaN`) should appear in the Excel file (e.g., na_rep=\"N/A\").\n",
    "- `columns`: List of column names to write; writes all columns by default.\n",
    "- `header`: If `True`, includes column headers; set to `False` to exclude.\n",
    "- `index`: If `True`, includes the `DataFrame`’s index; if `False`, omits it.\n",
    "- `startrow` and `startcol`: Define the starting cell (row and column) for writing data."
   ]
  },
  {
   "cell_type": "markdown",
   "id": "39ad799d",
   "metadata": {
    "slideshow": {
     "slide_type": "slide"
    }
   },
   "source": [
    "#### Basic example of writing to Excel"
   ]
  },
  {
   "cell_type": "markdown",
   "id": "15131187",
   "metadata": {},
   "source": [
    "**Note:** The `to_excel()` method requires the `openpyxl` library for `.xlsx` files (install with pip install openpyxl if necessary)."
   ]
  },
  {
   "cell_type": "code",
   "execution_count": null,
   "id": "9d2143f6",
   "metadata": {},
   "outputs": [],
   "source": [
    "import pandas as pd\n",
    "\n",
    "# Sample DataFrame\n",
    "data = {\n",
    "    \"Name\": [\"Alice\", \"Bob\", \"Charlie\"],\n",
    "    \"Age\": [25, 30, 35],\n",
    "    \"Balance\": [1000.50, 1500.75, 1200.30]\n",
    "}\n",
    "df = pd.DataFrame(data)\n",
    "\n",
    "# Writing the DataFrame to an Excel file\n",
    "excel_output_name = \"excel_output_example.xlsx\"\n",
    "df.to_excel(file_path + excel_output_name, index=False)  # `index=False` excludes row indices"
   ]
  },
  {
   "cell_type": "markdown",
   "id": "43bc62d5",
   "metadata": {
    "slideshow": {
     "slide_type": "slide"
    }
   },
   "source": [
    "#### Writing multiple sheets to an Excel File"
   ]
  },
  {
   "cell_type": "markdown",
   "id": "8019482b",
   "metadata": {},
   "source": [
    "The `ExcelWriter` class allows to save multiple DataFrames to different sheets within the same Excel file."
   ]
  },
  {
   "cell_type": "code",
   "execution_count": null,
   "id": "c15b0a6d",
   "metadata": {},
   "outputs": [],
   "source": [
    "# Create additional sample DataFrames\n",
    "data2 = {\n",
    "    \"Product\": [\"Widget A\", \"Widget B\", \"Widget C\"],\n",
    "    \"Price\": [20.5, 45.3, 30.0]\n",
    "}\n",
    "df2 = pd.DataFrame(data2)\n",
    "\n",
    "with pd.ExcelWriter(file_path + excel_output_name) as writer:\n",
    "    df.to_excel(writer, sheet_name=\"Customer Data\", index=False)\n",
    "    df2.to_excel(writer, sheet_name=\"Product Data\", index=False)"
   ]
  },
  {
   "cell_type": "markdown",
   "id": "42a0c730",
   "metadata": {
    "slideshow": {
     "slide_type": "slide"
    }
   },
   "source": [
    "#### Specifying columns and formatting"
   ]
  },
  {
   "cell_type": "markdown",
   "id": "58dabbdf",
   "metadata": {},
   "source": [
    "Customizing which columns to write and add formatting options like `headers` are also possible."
   ]
  },
  {
   "cell_type": "code",
   "execution_count": null,
   "id": "0a405e21",
   "metadata": {},
   "outputs": [],
   "source": [
    "# Writing selected columns only\n",
    "excel_output_2_name = \"excel_output_selected_columns.xlsx\"\n",
    "df.to_excel(file_path + excel_output_2_name, columns=[\"Name\", \"Balance\"], index=False, header=True)"
   ]
  },
  {
   "cell_type": "markdown",
   "id": "19073370",
   "metadata": {
    "slideshow": {
     "slide_type": "slide"
    }
   },
   "source": [
    "### 6.2 Reading from an Excel file"
   ]
  },
  {
   "cell_type": "markdown",
   "id": "d5bf3fc4",
   "metadata": {},
   "source": [
    "Reading a `xlsx` file is done using the `pd.read_excel()` method."
   ]
  },
  {
   "cell_type": "markdown",
   "id": "22a4e91f",
   "metadata": {},
   "source": [
    "```python\n",
    "    pd.read_excel()\n",
    "```\n",
    "\n",
    "Check method documentation (huge!)\n",
    "- `sheet_name`: Name or index of the sheet to read.\n",
    "- `header`, `names`, `index_col`: Similar to read_csv().\n",
    "- `usecols`: Specifies columns to load."
   ]
  },
  {
   "cell_type": "code",
   "execution_count": null,
   "id": "d2c2756d",
   "metadata": {
    "slideshow": {
     "slide_type": "slide"
    }
   },
   "outputs": [],
   "source": [
    "# Reading an Excel file\n",
    "df = pd.read_excel(file_path + excel_output_name, sheet_name=\"Customer Data\")\n",
    "df.head()"
   ]
  },
  {
   "cell_type": "markdown",
   "id": "812e8097",
   "metadata": {
    "slideshow": {
     "slide_type": "slide"
    }
   },
   "source": [
    "**Example: Reading a specific sheet with column selection**"
   ]
  },
  {
   "cell_type": "code",
   "execution_count": null,
   "id": "33457043",
   "metadata": {},
   "outputs": [],
   "source": [
    "# Reading specific columns from an Excel sheet\n",
    "df = pd.read_excel(file_path + excel_output_name, sheet_name=\"Product Data\", usecols=['Product'])\n",
    "df.head()"
   ]
  },
  {
   "cell_type": "markdown",
   "id": "a9ab1058",
   "metadata": {
    "slideshow": {
     "slide_type": "slide"
    }
   },
   "source": [
    "## 🚦Checkpoint "
   ]
  },
  {
   "cell_type": "markdown",
   "id": "e13ee4ae",
   "metadata": {
    "slideshow": {
     "slide_type": "slide"
    }
   },
   "source": [
    "### Reading, Manipulating, and Saving Data with `pandas`\n",
    "\n",
    "**Goal:** In this exercise, you'll read the CSV file, manipulate the data using `pandas`, and save the modified data back to a CSV file.\n",
    "\n",
    "```python\n",
    "    file_name = \"checkpoint_stock_data_large.csv\"\n",
    "```\n",
    "\n",
    "- Import data and inspect in `DataFrame`\n",
    "- **Task 1:** Filter out all rows where the stock price is greater than USD 2000.\n",
    "- **Task 2:** Add a new column called `Value` which is calculated as `Price * Volume`.\n",
    "- **Task 3:** Group the data by the `Stock` column and calculate the average price for each stock.\n",
    "- Save the manipulated DataFrame to a new CSV file."
   ]
  }
 ],
 "metadata": {
  "celltoolbar": "Slideshow",
  "kernelspec": {
   "display_name": "Python 3 (ipykernel)",
   "language": "python",
   "name": "python3"
  },
  "language_info": {
   "codemirror_mode": {
    "name": "ipython",
    "version": 3
   },
   "file_extension": ".py",
   "mimetype": "text/x-python",
   "name": "python",
   "nbconvert_exporter": "python",
   "pygments_lexer": "ipython3",
   "version": "3.9.12"
  }
 },
 "nbformat": 4,
 "nbformat_minor": 5
}
