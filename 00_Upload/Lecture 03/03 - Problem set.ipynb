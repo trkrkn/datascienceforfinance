{
 "cells": [
  {
   "cell_type": "markdown",
   "id": "ee911ebe",
   "metadata": {},
   "source": [
    "# Controle Structures - Problem Set"
   ]
  },
  {
   "cell_type": "markdown",
   "id": "aead80c4",
   "metadata": {},
   "source": [
    "### **Exercise 1: Conditional Statements (if-else)**\n",
    "\n",
    "Write a Python program that takes a user’s income and tax status as input. If the income is greater than $50,000, they should be taxed at 25%. Otherwise, they are taxed at 15%. Print the amount of tax they owe."
   ]
  },
  {
   "cell_type": "code",
   "execution_count": null,
   "id": "9ce9bed7",
   "metadata": {},
   "outputs": [],
   "source": [
    "# Your code"
   ]
  },
  {
   "cell_type": "markdown",
   "id": "1e0470d0",
   "metadata": {},
   "source": [
    "### **Exercise 2: Nested if-else with Multiple Conditions**\n",
    "Modify the following code to check if a user is eligible for a loan:\n",
    "1. The user must be 21 or older.\n",
    "2. They must have an income greater than $\\$$30,000.\n",
    "3. If their debt is greater than $\\$$10,000, they are ineligible for the loan."
   ]
  },
  {
   "cell_type": "code",
   "execution_count": null,
   "id": "254058b9",
   "metadata": {},
   "outputs": [],
   "source": [
    "age = int(input(\"Enter your age: \"))\n",
    "income = float(input(\"Enter your income: \"))\n",
    "debt = float(input(\"Enter your debt amount: \"))\n",
    "# Add the conditions here"
   ]
  },
  {
   "cell_type": "markdown",
   "id": "41e6684b",
   "metadata": {},
   "source": [
    "### **Exercise 3: While Loop for Savings Target**\n",
    "Write a program that asks the user for a savings target. The program should simulate monthly savings of $500 and keep adding it to the balance until the target is reached. Print how many months it took to reach the target."
   ]
  },
  {
   "cell_type": "code",
   "execution_count": null,
   "id": "a3a213df",
   "metadata": {},
   "outputs": [],
   "source": [
    "# Your code"
   ]
  },
  {
   "cell_type": "markdown",
   "id": "cfe16f69",
   "metadata": {},
   "source": [
    "### **Exercise 4: Loan Repayment Simulation with While Loop**\n",
    "Simulate a loan repayment process where the loan balance is $\\$$50,000, the monthly payment is $\\$$1,000, and the monthly interest rate is 3%. The program should keep updating the balance and print how long it takes to repay the loan, as well as the total interest paid."
   ]
  },
  {
   "cell_type": "code",
   "execution_count": null,
   "id": "0aab7572",
   "metadata": {},
   "outputs": [],
   "source": [
    "# Your code"
   ]
  },
  {
   "cell_type": "markdown",
   "id": "7eebd501",
   "metadata": {},
   "source": [
    "### **Exercise 5: For Loop Over a List**\n",
    "Create a list of daily stock prices and calculate the total gain or loss by summing up the differences between consecutive days' prices."
   ]
  },
  {
   "cell_type": "code",
   "execution_count": null,
   "id": "583b9986",
   "metadata": {},
   "outputs": [],
   "source": [
    "stock_prices = [100, 105, 98, 110, 120]\n",
    "# Write the loop here"
   ]
  },
  {
   "cell_type": "markdown",
   "id": "aa930283",
   "metadata": {},
   "source": [
    "### **Exercise 6: For Loop with Condition**\n",
    "Write a program that takes a list of numbers and prints out the squares of only the even numbers using a `for` loop."
   ]
  },
  {
   "cell_type": "code",
   "execution_count": null,
   "id": "bf59474d",
   "metadata": {},
   "outputs": [],
   "source": [
    "numbers = [1, 2, 3, 4, 5, 6]\n",
    "# Write the loop here"
   ]
  },
  {
   "cell_type": "markdown",
   "id": "0a8fcbfb",
   "metadata": {},
   "source": [
    "### **Exercise 7: Nested For Loop with Matrix**\n",
    "Given a 3x3 matrix, write a Python program to print the sum of each row using nested `for` loops."
   ]
  },
  {
   "cell_type": "code",
   "execution_count": null,
   "id": "46cc677a",
   "metadata": {},
   "outputs": [],
   "source": [
    "matrix = [[1, 2, 3], [4, 5, 6], [7, 8, 9]]\n",
    "# Write the nested loop here"
   ]
  },
  {
   "cell_type": "markdown",
   "id": "2b7c4d57",
   "metadata": {},
   "source": [
    "### **Exercise 8: Range-based For Loop**\n",
    "Using a `for` loop, print the numbers from 1 to 20 that are divisible by 3."
   ]
  },
  {
   "cell_type": "code",
   "execution_count": null,
   "id": "43deab87",
   "metadata": {},
   "outputs": [],
   "source": [
    "# Your code"
   ]
  },
  {
   "cell_type": "markdown",
   "id": "49a93d20",
   "metadata": {},
   "source": [
    "### **Exercise 9: Break and Continue**\n",
    "Write a Python program that asks the user to enter a number. If the number is greater than 100, print \"Success\" and exit the loop using `break`. If the number is less than 0, print \"Invalid\" and skip the iteration using `continue`."
   ]
  },
  {
   "cell_type": "code",
   "execution_count": null,
   "id": "b376a39a",
   "metadata": {},
   "outputs": [],
   "source": [
    "# Your code"
   ]
  },
  {
   "cell_type": "markdown",
   "id": "3e806e8f",
   "metadata": {},
   "source": [
    "### **Exercise 10: List Comprehension**\n",
    "Given a list of grades, create a new list of grades where every grade is increased by 5, but only if the original grade is less than 90, using list comprehension."
   ]
  },
  {
   "cell_type": "code",
   "execution_count": null,
   "id": "1ec8fdaf",
   "metadata": {},
   "outputs": [],
   "source": [
    "grades = [85, 92, 88, 76, 95]\n",
    "# Write the list comprehension here"
   ]
  },
  {
   "cell_type": "markdown",
   "id": "c1e8db13",
   "metadata": {
    "heading_collapsed": true
   },
   "source": [
    "## More exercises on **list comprehension**"
   ]
  },
  {
   "cell_type": "markdown",
   "id": "8877a76f",
   "metadata": {
    "hidden": true
   },
   "source": [
    "### **Exercise 1: Convert Temperatures**\n",
    "Given a list of temperatures in Celsius, use list comprehension to convert them to Fahrenheit. The formula for conversion is:\n",
    "\n",
    "$$\n",
    "    F = \\frac{9}{5} \\times C + 32\n",
    "$$"
   ]
  },
  {
   "cell_type": "code",
   "execution_count": null,
   "id": "de6d123f",
   "metadata": {
    "hidden": true
   },
   "outputs": [],
   "source": [
    "celsius = [0, 20, 37, 100]\n",
    "# Write the list comprehension to convert celsius to fahrenheit"
   ]
  },
  {
   "cell_type": "markdown",
   "id": "8c003732",
   "metadata": {
    "hidden": true
   },
   "source": [
    "### **Exercise 2: Filter and Square Odd Numbers**\n",
    "Given a list of numbers, use list comprehension to create a new list containing the squares of the odd numbers only."
   ]
  },
  {
   "cell_type": "code",
   "execution_count": null,
   "id": "8ec79495",
   "metadata": {
    "hidden": true
   },
   "outputs": [],
   "source": [
    "numbers = [1, 2, 3, 4, 5, 6, 7, 8, 9, 10]\n",
    "# Write the list comprehension to filter and square odd numbers"
   ]
  },
  {
   "cell_type": "markdown",
   "id": "8912c931",
   "metadata": {
    "hidden": true
   },
   "source": [
    "### **Exercise 3: Extract Vowels from a String**\n",
    "Given a string, use list comprehension to create a list of all the vowels in the string."
   ]
  },
  {
   "cell_type": "code",
   "execution_count": null,
   "id": "2d79f320",
   "metadata": {
    "hidden": true
   },
   "outputs": [],
   "source": [
    "text = \"List comprehensions are very powerful!\"\n",
    "# Write the list comprehension to extract vowels from the string"
   ]
  },
  {
   "cell_type": "markdown",
   "id": "22e43060",
   "metadata": {
    "hidden": true
   },
   "source": [
    "### **Exercise 4: Flatten a Nested List**\n",
    "Given a list of lists (nested list), use list comprehension to flatten it into a single list."
   ]
  },
  {
   "cell_type": "code",
   "execution_count": null,
   "id": "5447d1df",
   "metadata": {
    "hidden": true
   },
   "outputs": [],
   "source": [
    "nested_list = [[1, 2, 3], [4, 5], [6, 7, 8, 9]]\n",
    "# Write the list comprehension to flatten the nested list"
   ]
  },
  {
   "cell_type": "markdown",
   "id": "3aec79c5",
   "metadata": {
    "hidden": true
   },
   "source": [
    "### **Exercise 5: Dictionary from List**\n",
    "You have a list of tuples where the first element is a country and the second element is its population. Use list comprehension to convert the list of tuples into a dictionary."
   ]
  },
  {
   "cell_type": "code",
   "execution_count": null,
   "id": "170815f2",
   "metadata": {
    "hidden": true
   },
   "outputs": [],
   "source": [
    "countries = [(\"USA\", 331002651), (\"India\", 1380004385), (\"China\", 1439323776)]\n",
    "# Write the list comprehension to convert the list into a dictionary"
   ]
  }
 ],
 "metadata": {
  "kernelspec": {
   "display_name": "Python 3 (ipykernel)",
   "language": "python",
   "name": "python3"
  },
  "language_info": {
   "codemirror_mode": {
    "name": "ipython",
    "version": 3
   },
   "file_extension": ".py",
   "mimetype": "text/x-python",
   "name": "python",
   "nbconvert_exporter": "python",
   "pygments_lexer": "ipython3",
   "version": "3.9.12"
  }
 },
 "nbformat": 4,
 "nbformat_minor": 5
}
