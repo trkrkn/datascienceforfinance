{
 "cells": [
  {
   "cell_type": "markdown",
   "id": "2f781b4c",
   "metadata": {
    "editable": true,
    "slideshow": {
     "slide_type": "slide"
    },
    "tags": []
   },
   "source": [
    "# Lecture 13 - Introduction to Machine Learning"
   ]
  },
  {
   "cell_type": "markdown",
   "id": "11d036ef",
   "metadata": {
    "editable": true,
    "jp-MarkdownHeadingCollapsed": true,
    "slideshow": {
     "slide_type": "slide"
    },
    "tags": []
   },
   "source": [
    "## 1. Overview "
   ]
  },
  {
   "cell_type": "markdown",
   "id": "1c8f3e00",
   "metadata": {
    "editable": true,
    "slideshow": {
     "slide_type": "slide"
    },
    "tags": []
   },
   "source": [
    "**Machine learning** (ML) is a branch of artificial intelligence that involves **training algorithms** to make **predictions** or decisions based on data, **without being explicitly programmed**.\n",
    "- Applications:\n",
    "    - Finance: Stock price prediction, fraud detection, risk analysis, customer segmentation, etc.\n",
    "    - Other fields: Image recognition, natural language processing, recommendation systems.\n",
    "    \n",
    "    \n",
    "In `Python`, `scikit-learn` is a powerful **library** for machine learning that provides tools for preprocessing data, training models, and evaluating them. "
   ]
  },
  {
   "cell_type": "markdown",
   "id": "0e232ddf",
   "metadata": {
    "editable": true,
    "slideshow": {
     "slide_type": "slide"
    },
    "tags": []
   },
   "source": [
    "This notebook covers:\n",
    "- **Supervised** and **Unsupervised** learning\n",
    "- **Data** preparationg\n",
    "- Using `scikit-learn` :\n",
    "    - **Importing** ML model class\n",
    "    - **Instantiating** a model object\n",
    "    - **Fitting** the model object to data\n",
    "    - **Predicting** the outcome given the fitted model for some data"
   ]
  },
  {
   "cell_type": "markdown",
   "id": "8971e6c1",
   "metadata": {
    "editable": true,
    "slideshow": {
     "slide_type": "slide"
    },
    "tags": []
   },
   "source": [
    "## 2. A primer on Machine Learning"
   ]
  },
  {
   "cell_type": "markdown",
   "id": "a7a9481f",
   "metadata": {},
   "source": [
    "**Machine learning** is a **prediction technology**:\n",
    "1. **Training/learning**: Learn patterns from previous outcomes (data)\n",
    "2. **Evaluation/deployment**: Given new inputs, predict most likely outcome"
   ]
  },
  {
   "cell_type": "markdown",
   "id": "fb306a34",
   "metadata": {
    "heading_collapsed": true,
    "jp-MarkdownHeadingCollapsed": true
   },
   "source": [
    "### 2.1 Classes of machine learning models"
   ]
  },
  {
   "cell_type": "markdown",
   "id": "695f088b",
   "metadata": {
    "hidden": true
   },
   "source": [
    "- **Supervised Learning**: The model learns from **labeled data** (i.e., input-output pairs). \n",
    "    - Examples\n",
    "        - Regression: Predicting a continuous value (e.g., stock prices, real estate values).\n",
    "        - Classification: Predicting a categorical label (e.g., credit approval, fraud detection).\n",
    "- **Unsupervised Learning**: The model learns from **unlabeled data** to find hidden patterns or groupings. \n",
    "    - Example\n",
    "        - Clustering: Grouping data points based on similarities (e.g., customer segmentation).\n",
    "        - Dimensionality Reduction: Reducing the number of features while preserving the most important information (e.g., PCA).\n",
    "- **Reinforcement Learning** (skip): The model learns through interactions with an environment and feedback from its actions.\n",
    "    - Example: Algorithmic trading"
   ]
  },
  {
   "cell_type": "markdown",
   "id": "56058c6d",
   "metadata": {
    "heading_collapsed": true,
    "hidden": true,
    "jp-MarkdownHeadingCollapsed": true
   },
   "source": [
    "#### Visual intuition"
   ]
  },
  {
   "cell_type": "markdown",
   "id": "6ed3e1d1",
   "metadata": {
    "hidden": true
   },
   "source": [
    "**Raw data**\n",
    "<center><img src=\"Figures/ml-learning-data.jpg\"></center>"
   ]
  },
  {
   "cell_type": "markdown",
   "id": "389d6982",
   "metadata": {
    "hidden": true
   },
   "source": [
    "**Supervised learning**\n",
    "\n",
    "Necessary dimension: **Labelled data**\n",
    "<center><img src=\"Figures/ml-learning-label.jpg\"></center>"
   ]
  },
  {
   "cell_type": "markdown",
   "id": "89fa38f3",
   "metadata": {
    "hidden": true
   },
   "source": [
    "**Supervised learning**\n",
    "\n",
    "<center><img src=\"Figures/ml-learning-supervised.jpg\"></center>"
   ]
  },
  {
   "cell_type": "markdown",
   "id": "48912666",
   "metadata": {
    "hidden": true
   },
   "source": [
    "**Unsupervised learning**\n",
    "\n",
    "<center><img src=\"Figures/ml-learning-unsupervised.jpg\"></center>"
   ]
  },
  {
   "cell_type": "markdown",
   "id": "e392a79c",
   "metadata": {
    "hidden": true
   },
   "source": [
    "**Other example**\n",
    "\n",
    "<center><img src=\"Figures/ml-learning-classes-1.jpg\"></center>"
   ]
  },
  {
   "cell_type": "markdown",
   "id": "580f6fbe",
   "metadata": {
    "jp-MarkdownHeadingCollapsed": true
   },
   "source": [
    "### 2.2 Workflow"
   ]
  },
  {
   "cell_type": "markdown",
   "id": "927f9702",
   "metadata": {},
   "source": [
    "1. **Problem Definition**\n",
    "2. **Data**\n",
    "    - Collection\n",
    "    - Preparation\n",
    "        - missing values, encoding of categorical variables, etc.\n",
    "    - Exploration\n",
    "    - Feature engineering\n",
    "        - create suitable features for the predictions\n",
    "    - **Split**\n",
    "        - training versus evaluation\n",
    "3. **Learning**\n",
    "    - Model selection\n",
    "    - Training\n",
    "    - Evaluation\n",
    "    - Tuning\n",
    "4. **Deployment**\n",
    "    "
   ]
  },
  {
   "cell_type": "markdown",
   "id": "98ac36af",
   "metadata": {},
   "source": [
    "### 2.3 Sample split: training vs evaluation"
   ]
  },
  {
   "cell_type": "markdown",
   "id": "993f16ed",
   "metadata": {},
   "source": [
    "A **sample split** in machine learning involves dividing a dataset into separate subsets to train, validate, and test a model. \n",
    "\n",
    "**Why Do We Need to Split Data?**\n",
    "Splitting data is crucial for:\n",
    "- **Evaluating Generalization**: To test how the model performs on unseen data.\n",
    "- **Preventing Overfitting**: Ensures the model isn't overly tailored to the training data.\n",
    "- **Model Tuning**: Provides a way to tune hyperparameters without bias from the training data.\n",
    "\n",
    "(Mostly for **supervised** learning)"
   ]
  },
  {
   "cell_type": "markdown",
   "id": "9808f342-cc35-4317-9346-8b3344b3a675",
   "metadata": {},
   "source": [
    "<img src = \"Figures/overfitting.png\"></img>"
   ]
  },
  {
   "cell_type": "markdown",
   "id": "94e8ba47",
   "metadata": {
    "jp-MarkdownHeadingCollapsed": true
   },
   "source": [
    "#### Splits"
   ]
  },
  {
   "cell_type": "markdown",
   "id": "835b1f57",
   "metadata": {},
   "source": [
    "- **Training Set**: The model learns patterns and relationships from this data.\n",
    "   - **Purpose**: Used to train the machine learning model.\n",
    "   - **Size**: Typically 60-80% of the total data.\n",
    "- **Validation Set**: Helps with model selection and prevents overfitting by providing feedback during training.\n",
    "   - **Purpose**: Used for tuning hyperparameters and evaluating the model during training.\n",
    "   - **Size**: Usually 10-20% of the total data.\n",
    "- **Test Set**: Offers an unbiased assessment of model final performance on unseen data.\n",
    "   - **Purpose**: Used for final evaluation after training and validation.\n",
    "   - **Size**: Commonly 10-20% of the total data."
   ]
  },
  {
   "cell_type": "markdown",
   "id": "e7eaa05f",
   "metadata": {},
   "source": [
    "#### Splitting Techniques"
   ]
  },
  {
   "cell_type": "markdown",
   "id": "8ba2d938",
   "metadata": {},
   "source": [
    "- **Random Split**: Randomly divides data into training, validation, and test sets. Common for general purposes.\n",
    "- **Stratified Split**: Ensures proportional representation of classes, useful for imbalanced datasets.\n",
    "- **Cross-Validation**: Splits data into `k` folds and trains the model `k` times, each time using a different fold as the validation set."
   ]
  },
  {
   "cell_type": "markdown",
   "id": "0e31a059",
   "metadata": {
    "editable": true,
    "slideshow": {
     "slide_type": "slide"
    },
    "tags": []
   },
   "source": [
    "## 3. Unsupervised Learning"
   ]
  },
  {
   "cell_type": "markdown",
   "id": "48e4a362",
   "metadata": {},
   "source": [
    "In **unsupervised learning**, machine learning algorithms discover insights from raw data without any further guidance. \n",
    "\n",
    "One such algorithm is the **k- means clustering** algorithm that clusters a raw data set into a number of subsets and assigns these subsets labels (`cluster 0`, `cluster 1`, etc.). "
   ]
  },
  {
   "cell_type": "markdown",
   "id": "aa3edf30",
   "metadata": {
    "heading_collapsed": true
   },
   "source": [
    "### 3.1 Data"
   ]
  },
  {
   "cell_type": "markdown",
   "id": "5fe69de5",
   "metadata": {
    "hidden": true
   },
   "source": [
    "`scikit-learn` allows the creation of sample data sets for different types of ML problems. \n",
    "\n",
    "The following uses the method `make_blobs()` to create a sample data set suited to illustrating k-means clustering."
   ]
  },
  {
   "cell_type": "code",
   "execution_count": 1,
   "id": "d93c3576-6bb4-4bce-8db3-b572e9bbfb28",
   "metadata": {
    "hidden": true
   },
   "outputs": [
    {
     "name": "stderr",
     "output_type": "stream",
     "text": [
      "/Users/tarikrouknyornia/opt/anaconda3/lib/python3.9/site-packages/pandas/core/computation/expressions.py:21: UserWarning: Pandas requires version '2.8.4' or newer of 'numexpr' (version '2.8.1' currently installed).\n",
      "  from pandas.core.computation.check import NUMEXPR_INSTALLED\n",
      "/Users/tarikrouknyornia/opt/anaconda3/lib/python3.9/site-packages/pandas/core/arrays/masked.py:60: UserWarning: Pandas requires version '1.3.6' or newer of 'bottleneck' (version '1.3.4' currently installed).\n",
      "  from pandas.core import (\n"
     ]
    }
   ],
   "source": [
    "import numpy as np \n",
    "import pandas as pd\n",
    "import datetime as dt\n",
    "from pylab import mpl, plt\n",
    "\n",
    "plt.style.use('seaborn-v0_8-dark') \n",
    "mpl.rcParams['font.family'] = 'serif'\n",
    "%matplotlib inline\n",
    "\n",
    "np.random.seed(1000)\n",
    "np.set_printoptions(suppress=True, precision=4)"
   ]
  },
  {
   "cell_type": "code",
   "execution_count": 2,
   "id": "1ed90820-24f0-40af-ac35-f1dfcc48f323",
   "metadata": {
    "hidden": true
   },
   "outputs": [
    {
     "data": {
      "image/png": "[encoded data removed]",
      "text/plain": [
       "<Figure size 720x432 with 1 Axes>"
      ]
     },
     "metadata": {
      "needs_background": "light"
     },
     "output_type": "display_data"
    }
   ],
   "source": [
    "from sklearn.datasets import make_blobs\n",
    "\n",
    "X, y = make_blobs(n_samples=250, centers=4,\n",
    "                              random_state=500, cluster_std=1.25)\n",
    "\n",
    "plt.figure(figsize = (10,6));\n",
    "plt.scatter(X[:,0], X[:,1], s = 50);"
   ]
  },
  {
   "cell_type": "markdown",
   "id": "ae8a388e",
   "metadata": {
    "heading_collapsed": true
   },
   "source": [
    "### 3.2. K-means clustering"
   ]
  },
  {
   "cell_type": "markdown",
   "id": "069f140d-647a-4593-8014-6cf49a4fbe16",
   "metadata": {
    "jp-MarkdownHeadingCollapsed": true
   },
   "source": [
    "#### A primer on K-means clustering"
   ]
  },
  {
   "cell_type": "markdown",
   "id": "20915a0e-d6d4-4c2b-b928-12ea7c0164c2",
   "metadata": {},
   "source": [
    "**K-Means** is an **unsupervised learning algorithm** used for **clustering** data.\n",
    "\n",
    "- **Goal**: partition data into **K distinct clusters** based on similarities.\n",
    "    - Each data point is assigned to the **nearest cluster**\n",
    "        - Based on distance to the **centroid** $\\mu_k$ (the cener of the cluster $k$).\n",
    "    - The algorithm minimizes the **inertia** $J$\n",
    "        - Sum of squared distances between points and their nearest cluster center.\n",
    "$$\n",
    "J = \\sum_{k=1}^{K} \\sum_{i \\in C_k} \\| x_i - \\mu_k \\|^2\n",
    "$$"
   ]
  },
  {
   "cell_type": "markdown",
   "id": "c682dd62-0490-455b-9797-c445009dc9d0",
   "metadata": {},
   "source": [
    "- **Algorithm**\n",
    "    1. **Initialization**: \n",
    "       - Choose `K` initial centroids randomly or using smarter methods (e.g., k-means++).\n",
    "    2. **Assignment Step**: \n",
    "       - Assign each data point to the nearest cluster centroid based on Euclidean distance.\n",
    "    3. **Update Step**:\n",
    "       - Recalculate the centroids by finding the mean of all points assigned to each cluster.\n",
    "    4. **Repeat**:\n",
    "       - Repeat the assignment and update steps until the centroids no longer change significantly (convergence).\n",
    "    5. **Output**:\n",
    "       - Final centroids and cluster assignments for each point."
   ]
  },
  {
   "cell_type": "markdown",
   "id": "58bbbe55-81cc-48a1-ac8f-588da4c74ea3",
   "metadata": {},
   "source": [
    "**Visualisation**\n",
    "<center><img src=\"Figures/kmeans.png\" width = 500></img></center>"
   ]
  },
  {
   "cell_type": "markdown",
   "id": "b9f3f3c7-2e42-483a-8c16-c6c05584d30e",
   "metadata": {},
   "source": [
    "#### Workflow"
   ]
  },
  {
   "cell_type": "markdown",
   "id": "bc1e1e4a-d68b-40a3-9e5e-e0710c1ce849",
   "metadata": {},
   "source": [
    "##### Step 1 - Importing and instantiating the `KMeans` model class"
   ]
  },
  {
   "cell_type": "markdown",
   "id": "ddd1ccd3-d851-49df-ae1b-017823b8580b",
   "metadata": {},
   "source": [
    "The `scikit-learn` library contains a family class `cluster` with a subclass `KMeans`.\n",
    "\n",
    "```python\n",
    "    from sklearn.cluser import KMeans\n",
    "    model = KMeans (param)\n",
    "```\n",
    "Parameters for the instantiation of a `KMeans` object:\n",
    "- `n_clusters`: Number of clusters to form.\n",
    "- `random_state`: Ensures reproducibility by fixing the random initialization of centroids.\n",
    "- `max_iter`: The maximum number of iterations to run the algorithm.\n",
    "- `init`: The method for initializing centroids (e.g., 'random', 'k-means++').\n",
    "- `tol`: The tolerance to declare convergence."
   ]
  },
  {
   "cell_type": "markdown",
   "id": "e1976060-34a9-4eb3-856b-9e163a3a1839",
   "metadata": {},
   "source": [
    "##### Step 2 - Fitting the model to the data"
   ]
  },
  {
   "cell_type": "markdown",
   "id": "8cbe50f1-3aaa-4787-9a04-3f7616d822b9",
   "metadata": {},
   "source": [
    "Fitting the model to the data obtains with the method `.fit()` with the data as input.\n",
    "\n",
    "```python\n",
    "    model.fit(X)\n",
    "```\n",
    "\n",
    "This is where the optimization takes place."
   ]
  },
  {
   "cell_type": "markdown",
   "id": "b15f1829-b16f-437e-8612-7366d839aa38",
   "metadata": {},
   "source": [
    "##### Step 3 - Prediction"
   ]
  },
  {
   "cell_type": "markdown",
   "id": "2eda1a09-1f3d-4422-bf0e-e3b500a6dc87",
   "metadata": {},
   "source": [
    "Predicting clusters obtains with the method `.predict` with the data as input.\n",
    "\n",
    "```python\n",
    "    labels = model.predict(X)\n",
    "```\n",
    "\n",
    "The method associates a cluster label to each data point."
   ]
  },
  {
   "cell_type": "markdown",
   "id": "f18d665a-8c8c-4bb4-8357-68a468a09386",
   "metadata": {
    "jp-MarkdownHeadingCollapsed": true
   },
   "source": [
    "#### Application"
   ]
  },
  {
   "cell_type": "code",
   "execution_count": 4,
   "id": "ca91c4e2",
   "metadata": {
    "hidden": true
   },
   "outputs": [],
   "source": [
    "from sklearn.cluster import KMeans\n",
    "model = KMeans (n_clusters = 4, random_state = 0)\n",
    "model.fit(X)\n",
    "y_kmeans = model.predict(X)"
   ]
  },
  {
   "cell_type": "code",
   "execution_count": 7,
   "id": "b5f1e8cb",
   "metadata": {
    "hidden": true
   },
   "outputs": [
    {
     "data": {
      "image/png": "[encoded data removed]",
      "text/plain": [
       "<Figure size 720x432 with 1 Axes>"
      ]
     },
     "metadata": {
      "needs_background": "light"
     },
     "output_type": "display_data"
    }
   ],
   "source": [
    "plt.figure(figsize=(10, 6))\n",
    "plt.scatter(X[:, 0], X[:, 1], c=y_kmeans, cmap='coolwarm');"
   ]
  },
  {
   "cell_type": "markdown",
   "id": "91830f7f-8c9b-49ec-af27-c2c84baaf103",
   "metadata": {
    "jp-MarkdownHeadingCollapsed": true
   },
   "source": [
    "#### Step 4 - Parameter tuning (`k`)"
   ]
  },
  {
   "cell_type": "markdown",
   "id": "f2b83236-4457-4e32-9628-4fbc12da4840",
   "metadata": {
    "jp-MarkdownHeadingCollapsed": true
   },
   "source": [
    "Selecting the **optimal number** of clusters is crucial for meaningful results.\n",
    "\n",
    "- Common techniques to determine `K`:\n",
    "  - **Elbow Method**: Plot the inertia for different values of `K` and look for an \"elbow\" where the decrease in inertia slows down.\n",
    "  - **Silhouette Score**: Measures how similar a point is to its cluster compared to other clusters."
   ]
  },
  {
   "cell_type": "markdown",
   "id": "d23781f8",
   "metadata": {
    "editable": true,
    "slideshow": {
     "slide_type": "slide"
    },
    "tags": []
   },
   "source": [
    "## 4. Supervised Learning"
   ]
  },
  {
   "cell_type": "markdown",
   "id": "fa03e02b",
   "metadata": {},
   "source": [
    "In **supervised learning**, machine learning is achieved with **guidance** in the form of known results or **labelled** data: the raw data already contains what the ML algorithm is supposed to learn.\n",
    "\n",
    "- The previous example showed that with unsupervised learning the algorithms come up with their own categorical labels for the clusters identified. With four clusters, the labels are 0, 1, 2, and 3. \n",
    "- In supervised learning, such categorical labels are already given, so that the algorithm can learn the relationship between the features and the categories (classes). In other words, during the fitting step, the algorithm knows the right class for the given feature value combinations."
   ]
  },
  {
   "cell_type": "markdown",
   "id": "9f7274cb-8ec8-419a-822e-1f4252576e50",
   "metadata": {},
   "source": [
    "**Types of supervised learning algorithms**\n",
    "\n",
    "| Algorithm                | Quick Description                          | Common Use Cases                      |\n",
    "|--------------------------|--------------------------------------------|----------------------------------------|\n",
    "| Linear Regression        | A model that fits a linear relationship    | Predicting continuous values          |\n",
    "| Logistic Regression      | A model for binary/multiclass classification | Binary/multiclass classification    |\n",
    "| Decision Trees           | Tree-like structure for decision making    | Easy-to-interpret models              |\n",
    "| Support Vector Machines  | Finds the optimal boundary for classification | High-dimensional data              |\n",
    "| k-Nearest Neighbors (k-NN) | Classifies based on closest data points | Simple, non-parametric models      |\n",
    "| Naive Bayes              | Based on Bayes' theorem with strong independence assumptions | Text classification, spam detection |\n",
    "| Random Forest            | Ensemble of decision trees for better performance | Ensemble learning for robust predictions |\n",
    "| Gradient Boosting        | Combines weak models to form a strong model | Improving weak learners               |\n",
    "| Neural Networks          | Mimics the human brain with layers of nodes | Complex patterns and non-linear relationships |\n",
    "| Ridge/Lasso Regression   | Linear models with regularization to prevent overfitting | Regularized linear models            |"
   ]
  },
  {
   "cell_type": "markdown",
   "id": "8d213f33-c506-4625-8d15-0f78cf782398",
   "metadata": {},
   "source": [
    "The following covers:\n",
    "- Logistic regressions\n",
    "- Decision trees\n",
    "- Random Forests"
   ]
  },
  {
   "cell_type": "markdown",
   "id": "14342ab8",
   "metadata": {
    "heading_collapsed": true
   },
   "source": [
    "### 4.1 Data"
   ]
  },
  {
   "cell_type": "markdown",
   "id": "f3d0b34d-3e63-407b-8a83-3c476088af49",
   "metadata": {},
   "source": [
    "`scikit-learn` allows the creation of sample data sets for supervised ML problems.\n",
    "\n",
    "The following uses the method `make_classification()` to create a sample data set suited to illustrating classification techniques."
   ]
  },
  {
   "cell_type": "code",
   "execution_count": 11,
   "id": "97a32c51",
   "metadata": {
    "hidden": true
   },
   "outputs": [],
   "source": [
    "from sklearn.datasets import make_classification"
   ]
  },
  {
   "cell_type": "code",
   "execution_count": 51,
   "id": "fa256a76",
   "metadata": {
    "hidden": true
   },
   "outputs": [],
   "source": [
    "n_samples = 1000\n",
    "X, y = make_classification(n_samples=n_samples, n_features=2,\n",
    "                                         n_informative=2, n_redundant=0,\n",
    "                                         n_repeated=0, random_state=250)"
   ]
  },
  {
   "cell_type": "code",
   "execution_count": 52,
   "id": "a0f71bed",
   "metadata": {
    "hidden": true
   },
   "outputs": [
    {
     "data": {
      "text/plain": [
       "<matplotlib.collections.PathCollection at 0x7ff378ff9ac0>"
      ]
     },
     "execution_count": 52,
     "metadata": {},
     "output_type": "execute_result"
    },
    {
     "data": {
      "image/png": "[encoded data removed]",
      "text/plain": [
       "<Figure size 720x432 with 1 Axes>"
      ]
     },
     "metadata": {
      "needs_background": "light"
     },
     "output_type": "display_data"
    }
   ],
   "source": [
    "plt.figure(figsize = (10,6))\n",
    "plt.scatter(x=X[:, 0], y=X[:, 1], c=y, cmap='coolwarm')"
   ]
  },
  {
   "cell_type": "markdown",
   "id": "60ca498b",
   "metadata": {
    "heading_collapsed": true
   },
   "source": [
    "### 4.2 Logistic regression"
   ]
  },
  {
   "cell_type": "markdown",
   "id": "e7f81fa4-c91d-4d79-b39e-235fb851f28d",
   "metadata": {
    "jp-MarkdownHeadingCollapsed": true
   },
   "source": [
    "#### A primer on Logistic regressions"
   ]
  },
  {
   "cell_type": "markdown",
   "id": "35a5498b-d1f0-4e32-b1dd-7c96e57daf42",
   "metadata": {},
   "source": [
    "- **Logistic Regression** models the probability of a particular class, using the **logistic function** (also known as the **sigmoid function**).\n",
    "    - **Linear Regression**: Predicts a continuous output (regression tasks).\n",
    "    - **Logistic Regression**: Predicts the probability of categorical outcomes (classification tasks).\n",
    "- Output is a probability value between 0 and 1, which is then used to classify data into different classes (e.g., true/false).\n"
   ]
  },
  {
   "cell_type": "markdown",
   "id": "179b7980-cfe7-4edc-b63f-737ad5833b70",
   "metadata": {},
   "source": [
    "<center><img src=\"Figures/logistic.png\"></img></center>"
   ]
  },
  {
   "cell_type": "markdown",
   "id": "159df832-a9cb-40d9-8661-14f1c2f66928",
   "metadata": {},
   "source": [
    "#### Workflow"
   ]
  },
  {
   "cell_type": "markdown",
   "id": "29913669-a45b-4fae-8c6b-df5e74b84b1c",
   "metadata": {},
   "source": [
    "##### Step 1 - Importing and instantiating the `Logistic` model class"
   ]
  },
  {
   "cell_type": "markdown",
   "id": "39e8682f-9ebe-49a2-9414-303922a30a29",
   "metadata": {},
   "source": [
    "The `scikit-learn` library contains a family class `linear_model` with a subclass `LogisticRegression`.\n",
    "\n",
    "```python\n",
    "    from sklearn.linear_model import LogisticRegression\n",
    "    model = LogisticRegression(param)\n",
    "```"
   ]
  },
  {
   "cell_type": "markdown",
   "id": "189a4bc3-6ce1-4503-bd3d-4ae724040711",
   "metadata": {},
   "source": [
    "##### Step 2 - Fitting the model to the data"
   ]
  },
  {
   "cell_type": "markdown",
   "id": "cbe34e72-ab93-4acd-9acc-d4ce70d5b523",
   "metadata": {},
   "source": [
    "Fitting the model to the data obtains with the method `.fit()` with the data and label as input.\n",
    "\n",
    "```python\n",
    "    model.fit(X,y)\n",
    "```\n",
    "\n",
    "This is where the optimization takes place."
   ]
  },
  {
   "cell_type": "markdown",
   "id": "df7dc72f-1b1b-4568-b0be-5d136600c9ca",
   "metadata": {},
   "source": [
    "##### Step 3 - Prediction"
   ]
  },
  {
   "cell_type": "markdown",
   "id": "74ede0e8-7709-4906-8976-b92fd96656cf",
   "metadata": {},
   "source": [
    "Predicting clusters obtains with the method `.predict` with the data as input.\n",
    "\n",
    "```python\n",
    "    pred = model.predict(X)\n",
    "```\n",
    "\n",
    "The method associates a prediction output to each data point."
   ]
  },
  {
   "cell_type": "markdown",
   "id": "e7fa21c3-192b-4841-a101-8a4adb8732d7",
   "metadata": {
    "jp-MarkdownHeadingCollapsed": true
   },
   "source": [
    "#### Application"
   ]
  },
  {
   "cell_type": "code",
   "execution_count": 20,
   "id": "f170bca1-90db-4d54-84ee-f1204750dcd1",
   "metadata": {
    "hidden": true
   },
   "outputs": [],
   "source": [
    "from sklearn.linear_model import LogisticRegression\n",
    "# model = LogisticRegression(C = 1, solver = 'lbfgs')\n",
    "model = LogisticRegression()\n",
    "\n",
    "model.fit(X,y)\n",
    "\n",
    "pred = model.predict(X)"
   ]
  },
  {
   "cell_type": "markdown",
   "id": "106c74c6-9b48-4f68-83ea-c2694fb2aa89",
   "metadata": {},
   "source": [
    "#### Step 4 - Evaluation"
   ]
  },
  {
   "cell_type": "markdown",
   "id": "0270e612-f267-40ad-b961-be46b39f28f8",
   "metadata": {},
   "source": [
    "Given the prediction of the model, there are several ways to **assess the performance** of the model. \n",
    "\n",
    "**Pairing outcomes**:\n",
    "\n",
    "| Actual \\ Predicted | Positive Prediction | Negative Prediction |\n",
    "|---------------------|----------------------------|------------------------------|\n",
    "| Positive   | True Positive (TP)         | False Negative (FN)          |\n",
    "| Negative   | False Positive (FP)        | True Negative (TN)           |\n",
    "\n"
   ]
  },
  {
   "cell_type": "code",
   "execution_count": 23,
   "id": "bfb0e883",
   "metadata": {
    "hidden": true
   },
   "outputs": [],
   "source": [
    "Xc = X[y == pred]\n",
    "Xf = X[y != pred]"
   ]
  },
  {
   "cell_type": "code",
   "execution_count": 24,
   "id": "6a3160b5",
   "metadata": {
    "hidden": true
   },
   "outputs": [
    {
     "data": {
      "image/png": "[encoded data removed]",
      "text/plain": [
       "<Figure size 720x432 with 1 Axes>"
      ]
     },
     "metadata": {
      "needs_background": "light"
     },
     "output_type": "display_data"
    }
   ],
   "source": [
    "plt.figure(figsize=(10, 6))\n",
    "plt.scatter(x=Xc[:, 0], y=Xc[:, 1], c=y[y == pred],\n",
    "                         marker='o', cmap='coolwarm')\n",
    "plt.scatter(x=Xf[:, 0], y=Xf[:, 1], c=y[y != pred],\n",
    "                         marker='x', cmap='coolwarm');"
   ]
  },
  {
   "cell_type": "markdown",
   "id": "e02dd925-ac16-404e-8c8b-20eb511c16ae",
   "metadata": {},
   "source": [
    "**Performance metrics**\n",
    "- **Accuracy**: The ratio of correct predictions to total predictions.\n",
    "$$\n",
    "\\text{Accuracy} = \\frac{TP + TN}{TP + TN + FP + FN}\n",
    "$$\n",
    "- **Precision**: The ratio of true positives to predicted positives.\n",
    "$$\n",
    "\\text{Precision} = \\frac{TP}{TP + FP}\n",
    "$$\n",
    "- **Recall**: The ratio of true positives to actual positives.\n",
    "$$\n",
    "\\text{Recall} = \\frac{TP}{TP + FN}\n",
    "$$\n",
    "\n",
    "\n",
    "- **F1 Score**: The harmonic mean of precision and recall, providing a single measure that balances both.\n",
    "\n",
    "$$\n",
    "F1 = 2 \\times \\frac{\\text{Precision} \\times \\text{Recall}}{\\text{Precision} + \\text{Recall}}\n",
    "$$\n"
   ]
  },
  {
   "cell_type": "code",
   "execution_count": 27,
   "id": "732c267d-9c58-4ec0-a660-4cfe007e1ce7",
   "metadata": {},
   "outputs": [
    {
     "name": "stdout",
     "output_type": "stream",
     "text": [
      "Accuracy: 0.90\n",
      "Precision: 0.92\n",
      "Recall: 0.88\n",
      "F1 Score: 0.90\n"
     ]
    }
   ],
   "source": [
    "from sklearn.metrics import accuracy_score, precision_score, recall_score, f1_score\n",
    "\n",
    "accuracy = accuracy_score(y, pred)\n",
    "precision = precision_score(y, pred)  \n",
    "recall = recall_score(y, pred)  \n",
    "f1 = f1_score(y, pred)              \n",
    "\n",
    "print(f\"Accuracy: {accuracy:.2f}\")\n",
    "print(f\"Precision: {precision:.2f}\")\n",
    "print(f\"Recall: {recall:.2f}\")\n",
    "print(f\"F1 Score: {f1:.2f}\")"
   ]
  },
  {
   "cell_type": "markdown",
   "id": "4b894dcb",
   "metadata": {},
   "source": [
    "### 4.3 Decision trees\n"
   ]
  },
  {
   "cell_type": "markdown",
   "id": "32f82639-8926-443b-a67d-c847d0740069",
   "metadata": {
    "jp-MarkdownHeadingCollapsed": true
   },
   "source": [
    "#### A primer on Decision tress"
   ]
  },
  {
   "cell_type": "markdown",
   "id": "192f7827-0681-4423-bc25-c431e81a9f55",
   "metadata": {},
   "source": [
    "**Decision trees** model decisions as a tree-like structure, where:\n",
    "  - **Internal nodes** represent a feature or attribute on which the data is split.\n",
    "  - **Branches** represent the outcome of the decision based on that feature.\n",
    "  - **Leaf nodes** represent the final output or class label.\n",
    "\n",
    "Decision trees are easy to interpret and can handle both numerical and categorical data."
   ]
  },
  {
   "cell_type": "markdown",
   "id": "18c49d8e-575b-452a-86ff-761cc49412fd",
   "metadata": {},
   "source": [
    "```mermaid\n",
    "%%{init: {'themeVariables': {'fontSize': '12px'}}}%%\n",
    "%%{init: {'theme':'neutral'}}%%\n",
    "graph LR\n",
    "    B{credit score < 600?}\n",
    "    B -- Yes --> C[High risk of default]\n",
    "    B -- No --> D{debt-to-income ratio > 40%?}\n",
    "    D -- Yes --> E[Moderate risk of default]\n",
    "    D -- No --> F{Missed payments in the past?}\n",
    "    F -- Yes --> G[Moderate risk of default]\n",
    "    F -- No --> H[Low risk of default]\n",
    "```"
   ]
  },
  {
   "cell_type": "markdown",
   "id": "577e986b-8412-47b1-ae8e-80f2800e4287",
   "metadata": {},
   "source": [
    "**Overfitting**:\n",
    "\n",
    "With enough depth, a decision tree can fit any data. Need to **split** data."
   ]
  },
  {
   "cell_type": "markdown",
   "id": "3f502902-fb9e-42ee-aa85-5c328c4434fd",
   "metadata": {
    "jp-MarkdownHeadingCollapsed": true
   },
   "source": [
    "#### Workflow"
   ]
  },
  {
   "cell_type": "markdown",
   "id": "8939dbee-caa0-4360-8116-2e58ce9870ec",
   "metadata": {
    "jp-MarkdownHeadingCollapsed": true
   },
   "source": [
    "##### Step 1 - Train-test split data"
   ]
  },
  {
   "cell_type": "markdown",
   "id": "af238f97-c71f-4d69-8702-56dc164100b1",
   "metadata": {},
   "source": [
    "Data needs to be split in 2 parts:\n",
    "  1. **Training Set**: Used to train the model.\n",
    "        - Typically, 70-80% of the data is used for training the model.\n",
    "  3. **Test Set**: Used to evaluate the model's performance.\n",
    "        - The remaining 20-30% is used for testing the model.\n"
   ]
  },
  {
   "cell_type": "markdown",
   "id": "3b729b3f-bf74-460e-8192-2b465554703e",
   "metadata": {},
   "source": [
    "The `scikit-learn` library contains a family class `model_selection` with a subclass `train_test_split`.\n",
    "\n",
    "```python\n",
    "from sklearn.model_selection import train_test_split\n",
    "\n",
    "X_train, X_test, y_train, y_test = train_test_split(X, y, test_size=0.2)\n",
    "```"
   ]
  },
  {
   "cell_type": "markdown",
   "id": "3279c4ad-52f0-48a0-8e41-229985ee209a",
   "metadata": {},
   "source": [
    "Parameters in `train_test_split`\n",
    "\n",
    "- **`test_size`**: Specifies the proportion of the dataset to include in the test split. For example, `test_size=0.2` means 20% of the data will be used as the test set.\n",
    "- **`train_size`**: Alternatively, you can specify the size of the training set. If not provided, the complement of `test_size` is used.\n",
    "- **`random_state`**: Controls the shuffling of data before splitting. A fixed `random_state` ensures reproducibility, meaning the same split will be produced each time.\n",
    "- **`shuffle`**: By default, the data is shuffled before splitting to ensure a random distribution between training and test sets."
   ]
  },
  {
   "cell_type": "markdown",
   "id": "20a4fc14-9d84-4239-a0ec-4f4061c4de57",
   "metadata": {},
   "source": [
    "##### Step 2 - Importing and instantiating the `DecisionTree` model class"
   ]
  },
  {
   "cell_type": "markdown",
   "id": "505e757f-cc13-47d0-92ec-f0e4f32ef8c4",
   "metadata": {},
   "source": [
    "The `scikit-learn` library contains a family class `tree` with a subclass `DecisionTreeClassifier`.\n",
    "\n",
    "```python\n",
    "    from sklearn.tree import DecisionTreeClassifier\n",
    "    model = DecisionTreeClassifier(param)\n",
    "```\n",
    "With parameters:\n",
    "- `max_depth`: The maximum depth of the tree. Limiting depth prevents overfitting.\n",
    "- `min_samples_split`: The minimum number of samples required to split an internal node.\n",
    "- `min_samples_leaf`: The minimum number of samples required to be in a leaf node.\n",
    "- `criterion`: The function used to measure the quality of a split (e.g., `gini` for Gini impurity or `entropy` for information gain in classification, `mse` for regression).\n",
    "- `max_features`: The number of features to consider when looking for the best split."
   ]
  },
  {
   "cell_type": "markdown",
   "id": "8217b725-9c11-4860-b2f0-ca4bcfc901f2",
   "metadata": {},
   "source": [
    "##### Step 3 - Fitting the model to data"
   ]
  },
  {
   "cell_type": "markdown",
   "id": "b196011b-0d45-4e50-9591-42b5d23e4b77",
   "metadata": {},
   "source": [
    "Fitting the model to the data obtains with the method `.fit()` with the training data and label as input.\n",
    "```python\n",
    "    model.fit(X_train,y_train)\n",
    "```\n",
    "This is where the optimization takes place."
   ]
  },
  {
   "cell_type": "markdown",
   "id": "1883183c-702b-44d1-8da3-38993fe6e12f",
   "metadata": {},
   "source": [
    "##### Step 4 - Prediction"
   ]
  },
  {
   "cell_type": "markdown",
   "id": "fa61545c-e5c2-46c0-8f03-1a2d51593117",
   "metadata": {},
   "source": [
    "Predicting clusters obtains with the method `.predict()` with the test data as input.\n",
    "```python\n",
    "    y_pred = model.predict_proba(X_test)\n",
    "```\n",
    "The method associates an output prediction to each data point."
   ]
  },
  {
   "cell_type": "markdown",
   "id": "228126ba",
   "metadata": {},
   "source": [
    "#### Application"
   ]
  },
  {
   "cell_type": "code",
   "execution_count": 53,
   "id": "0d76ba6d-8b1a-4547-9d06-6927c8d1cd28",
   "metadata": {},
   "outputs": [
    {
     "name": "stdout",
     "output_type": "stream",
     "text": [
      "Training set size: (800, 2)\n",
      "Test set size: (200, 2)\n"
     ]
    }
   ],
   "source": [
    "from sklearn.model_selection import train_test_split\n",
    "\n",
    "X_train, X_test, y_train, y_test = train_test_split(X, y, test_size=0.2, random_state=42)\n",
    "\n",
    "# Output the sizes of the training and test sets\n",
    "print(f\"Training set size: {X_train.shape}\")\n",
    "print(f\"Test set size: {X_test.shape}\")"
   ]
  },
  {
   "cell_type": "code",
   "execution_count": 54,
   "id": "0d42f520-071e-4753-b41b-0a8ad8eff5bc",
   "metadata": {},
   "outputs": [],
   "source": [
    "from sklearn.tree import DecisionTreeClassifier\n",
    "\n",
    "model = DecisionTreeClassifier(max_depth=1)"
   ]
  },
  {
   "cell_type": "code",
   "execution_count": 55,
   "id": "1a8e944b",
   "metadata": {},
   "outputs": [
    {
     "data": {
      "text/plain": [
       "DecisionTreeClassifier(max_depth=1)"
      ]
     },
     "execution_count": 55,
     "metadata": {},
     "output_type": "execute_result"
    }
   ],
   "source": [
    "model.fit(X_train,y_train)"
   ]
  },
  {
   "cell_type": "code",
   "execution_count": 56,
   "id": "cbae1c3a",
   "metadata": {},
   "outputs": [],
   "source": [
    "y_pred = model.predict(X_test)"
   ]
  },
  {
   "cell_type": "markdown",
   "id": "9e61ee17-292e-4bd7-8212-ee96e19609cd",
   "metadata": {},
   "source": [
    "#### Step 5 - Evaluation"
   ]
  },
  {
   "cell_type": "code",
   "execution_count": 57,
   "id": "46846047-2cdd-47dd-bd62-32c8fc3edaa9",
   "metadata": {},
   "outputs": [
    {
     "name": "stdout",
     "output_type": "stream",
     "text": [
      "Accuracy: 0.93\n",
      "Precision: 0.92\n",
      "Recall: 0.94\n",
      "F1 Score: 0.93\n"
     ]
    }
   ],
   "source": [
    "from sklearn.metrics import accuracy_score, precision_score, recall_score, f1_score\n",
    "\n",
    "accuracy = accuracy_score(y_test,y_pred)\n",
    "precision = precision_score(y_test,y_pred)\n",
    "recall = recall_score(y_test,y_pred)\n",
    "f1 = f1_score(y_test,y_pred)\n",
    "\n",
    "print(f\"Accuracy: {accuracy:.2f}\")\n",
    "print(f\"Precision: {precision:.2f}\")\n",
    "print(f\"Recall: {recall:.2f}\")\n",
    "print(f\"F1 Score: {f1:.2f}\")"
   ]
  },
  {
   "cell_type": "code",
   "execution_count": 63,
   "id": "60b52a9b",
   "metadata": {},
   "outputs": [],
   "source": [
    "Xc = X_test[y_test == y_pred]\n",
    "Xf = X_test[y_test != y_pred]"
   ]
  },
  {
   "cell_type": "code",
   "execution_count": 65,
   "id": "13e7d33b",
   "metadata": {},
   "outputs": [
    {
     "data": {
      "image/png": "[encoded data removed]",
      "text/plain": [
       "<Figure size 720x432 with 1 Axes>"
      ]
     },
     "metadata": {
      "needs_background": "light"
     },
     "output_type": "display_data"
    }
   ],
   "source": [
    "plt.figure(figsize=(10, 6))\n",
    "plt.scatter(x=Xc[:, 0], y=Xc[:, 1], c=y_test[y_test == y_pred],\n",
    "                         marker='o', cmap='coolwarm')\n",
    "plt.scatter(x=Xf[:, 0], y=Xf[:, 1], c=y_test[y_test != y_pred],\n",
    "                         marker='x', cmap='coolwarm');"
   ]
  },
  {
   "cell_type": "markdown",
   "id": "ac28ed34",
   "metadata": {},
   "source": [
    "*Increasing maximum depth*"
   ]
  },
  {
   "cell_type": "code",
   "execution_count": 67,
   "id": "c823d03a",
   "metadata": {},
   "outputs": [
    {
     "name": "stdout",
     "output_type": "stream",
     "text": [
      "   depth | accuracy   | precision  | recall     | f1        \n",
      "------------------------------------------------------------\n",
      "       1 |       0.93 |       0.92 |       0.94 |       0.93\n",
      "       2 |       0.93 |       0.92 |       0.94 |       0.93\n",
      "       3 |       0.93 |       0.92 |       0.94 |       0.93\n",
      "       4 |       0.91 |       0.93 |       0.89 |       0.91\n",
      "       5 |       0.93 |       0.92 |       0.93 |       0.93\n",
      "       6 |       0.91 |       0.93 |       0.89 |       0.91\n"
     ]
    }
   ],
   "source": [
    "print('{:>8s} | {:10s} | {:10s} | {:10s} | {:10s}'.format('depth', 'accuracy', 'precision', 'recall', 'f1')) \n",
    "print(60 * '-')\n",
    "for depth in range(1, 7):\n",
    "    model = DecisionTreeClassifier(max_depth=depth) \n",
    "    model.fit(X_train, y_train)\n",
    "    acc = accuracy_score(y_test, model.predict(X_test)) \n",
    "    # accuracy = accuracy_score(y_test,y_pred)\n",
    "    prec = precision_score(y_test,model.predict(X_test))\n",
    "    rec = recall_score(y_test,model.predict(X_test))\n",
    "    f1 = f1_score(y_test,model.predict(X_test))\n",
    "    print('{:8d} | {:10.2f} | {:10.2f} | {:10.2f} | {:10.2f}'.format(depth, acc, prec, rec, f1))"
   ]
  },
  {
   "cell_type": "code",
   "execution_count": null,
   "id": "42565810-1530-4574-972e-00f8c95a4742",
   "metadata": {},
   "outputs": [],
   "source": [
    "print('{:>8s} | {:10s} | {:10s} | {:10s} | {:10s}'.format('depth', 'accuracy', 'precision', 'recall', 'f1')) \n",
    "print(60 * '-')\n",
    "for depth in range(1, 7):\n",
    "    model = DecisionTreeClassifier(max_depth=depth) \n",
    "    model.fit(X, y)\n",
    "    acc = accuracy_score(y, model.predict(X_test)) \n",
    "    # accuracy = accuracy_score(y_test,y_pred)\n",
    "    prec = precision_score(y_test,model.predict(X_test))\n",
    "    rec = recall_score(y_test,model.predict(X_test))\n",
    "    f1 = f1_score(y_test,model.predict(X_test))\n",
    "    print('{:8d} | {:10.2f} | {:10.2f} | {:10.2f} | {:10.2f}'.format(depth, acc, prec, rec, f1))"
   ]
  },
  {
   "cell_type": "markdown",
   "id": "2c73f47a-65ea-4f59-b666-ea63f5ade687",
   "metadata": {
    "jp-MarkdownHeadingCollapsed": true
   },
   "source": [
    "# Pending"
   ]
  },
  {
   "cell_type": "markdown",
   "id": "b5003cd3",
   "metadata": {
    "heading_collapsed": true
   },
   "source": [
    "## 3.4 Random Forests"
   ]
  },
  {
   "cell_type": "markdown",
   "id": "26f25c4b",
   "metadata": {},
   "source": [
    "### 3.4 Train-test splits"
   ]
  },
  {
   "cell_type": "markdown",
   "id": "214730ca",
   "metadata": {
    "heading_collapsed": true
   },
   "source": [
    "#### What is Train-Test Split?"
   ]
  },
  {
   "cell_type": "markdown",
   "id": "62a0f996",
   "metadata": {
    "hidden": true
   },
   "source": [
    "- **Train-Test Split** is a technique used in machine learning to evaluate how well a model generalizes to unseen data.\n",
    "- The dataset is divided into two parts:\n",
    "  1. **Training Set**: Used to train the machine learning model. The model learns patterns and relationships from this data.\n",
    "  2. **Test Set**: Used to evaluate the model's performance. The test set acts as unseen data that the model has not encountered during training.\n",
    "- The goal is to measure the model's ability to generalize to new, unseen data, and avoid **overfitting** (where the model performs well on training data but poorly on unseen data)."
   ]
  },
  {
   "cell_type": "markdown",
   "id": "445f5cc4",
   "metadata": {
    "heading_collapsed": true
   },
   "source": [
    "#### Why Do We Need Train-Test Split?"
   ]
  },
  {
   "cell_type": "markdown",
   "id": "e15c6c49",
   "metadata": {
    "hidden": true
   },
   "source": [
    "- **Generalization**: The purpose of machine learning is to build models that generalize well to unseen data. The test set provides an independent evaluation of how the model will perform in the real world.\n",
    "- **Overfitting Prevention**: If you train and test a model on the same data, the model may overfit to the training data. By evaluating on a separate test set, you get a better indication of how well the model truly performs.\n",
    "- **Model Evaluation**: The test set helps assess metrics such as accuracy, precision, recall, F1-score, or mean squared error on unseen data."
   ]
  },
  {
   "cell_type": "markdown",
   "id": "6611a6f3",
   "metadata": {
    "heading_collapsed": true
   },
   "source": [
    "#### How Train-Test Split Works"
   ]
  },
  {
   "cell_type": "markdown",
   "id": "678fb9ce",
   "metadata": {
    "hidden": true
   },
   "source": [
    "- The dataset is split into two parts:\n",
    "  - **Training Set**: Typically, 70-80% of the data is used for training the model.\n",
    "  - **Test Set**: The remaining 20-30% is used for testing the model.\n",
    "- This split ensures that the model does not see the test set during training, and only interacts with it during evaluation.\n",
    "\n",
    "**Train-Test Split Ratio**\n",
    "\n",
    "- The **split ratio** refers to how the dataset is divided:\n",
    "  - Common ratios include **80/20**, **70/30**, or **75/25** for training and test sets, respectively.\n",
    "  - The choice of ratio can depend on the size of the dataset:\n",
    "    - For **large datasets**, you may want a higher percentage of data in the training set (e.g., 80/20).\n",
    "    - For **small datasets**, you may use a higher proportion of data for testing to ensure a robust evaluation."
   ]
  },
  {
   "cell_type": "markdown",
   "id": "b40e3d1c",
   "metadata": {
    "heading_collapsed": true
   },
   "source": [
    "#### `sklearn` and `train_test_split`"
   ]
  },
  {
   "cell_type": "markdown",
   "id": "13c63f36",
   "metadata": {
    "hidden": true
   },
   "source": [
    "```python\n",
    "from sklearn.model_selection import train_test_split\n",
    "\n",
    "# Assuming X is the feature matrix and y is the target variable\n",
    "X_train, X_test, y_train, y_test = train_test_split(X, y, test_size=0.2, random_state=42)\n",
    "\n",
    "# Train size is 80%, test size is 20%\n",
    "print(f\"Training set size: {X_train.shape}\")\n",
    "print(f\"Test set size: {X_test.shape}\")\n",
    "```"
   ]
  },
  {
   "cell_type": "markdown",
   "id": "ead32d9c",
   "metadata": {
    "hidden": true
   },
   "source": [
    "Parameters in `train_test_split`\n",
    "\n",
    "- **`test_size`**: Specifies the proportion of the dataset to include in the test split. For example, `test_size=0.2` means 20% of the data will be used as the test set.\n",
    "- **`train_size`**: Alternatively, you can specify the size of the training set. If not provided, the complement of `test_size` is used.\n",
    "- **`random_state`**: Controls the shuffling of data before splitting. A fixed `random_state` ensures reproducibility, meaning the same split will be produced each time.\n",
    "- **`shuffle`**: By default, the data is shuffled before splitting to ensure a random distribution between training and test sets."
   ]
  },
  {
   "cell_type": "markdown",
   "id": "e65d6df4",
   "metadata": {},
   "source": [
    "#### Overfitting and Underfitting"
   ]
  },
  {
   "cell_type": "markdown",
   "id": "a36c968c",
   "metadata": {},
   "source": [
    "- **Overfitting**: Occurs when a model performs well on the training set but poorly on the test set. This usually happens when the model learns the noise and specific patterns in the training data, leading to poor generalization.\n",
    "- **Underfitting**: Happens when a model is too simple and performs poorly on both the training and test sets. The model fails to capture the underlying patterns in the data.\n",
    "\n",
    "**The Role of Train-Test Split:**\n",
    "- By testing the model on unseen data, we can detect **overfitting** and **underfitting**.\n",
    "- A significant difference between training and test accuracy indicates potential overfitting, whereas poor performance on both suggests underfitting."
   ]
  },
  {
   "cell_type": "markdown",
   "id": "16937273",
   "metadata": {},
   "source": [
    "### 3.5 Splitting with Random Forests"
   ]
  },
  {
   "cell_type": "markdown",
   "id": "7597516a",
   "metadata": {},
   "source": [
    "Background information on Random Forest [here](http://localhost:8888/notebooks/12.05%20-%20Random%20Forests.ipynb)"
   ]
  },
  {
   "cell_type": "markdown",
   "id": "f27bb44f",
   "metadata": {},
   "source": [
    "#### Loading the Iris Dataset\n",
    "\n",
    "In this example, we’ll use the **Iris dataset**, a classic dataset for classification that contains 150 samples of iris flowers with 4 features: sepal length, sepal width, petal length, and petal width. The target is the species of the iris flower (three classes)."
   ]
  },
  {
   "cell_type": "code",
   "execution_count": null,
   "id": "27b11b1e",
   "metadata": {},
   "outputs": [],
   "source": [
    "from sklearn.datasets import load_iris\n",
    "\n",
    "# Load the Iris dataset\n",
    "iris = load_iris()\n",
    "X = iris.data  # Features\n",
    "y = iris.target  # Target variable (class labels)"
   ]
  },
  {
   "cell_type": "markdown",
   "id": "e8cac62d",
   "metadata": {},
   "source": [
    "- **`X`**: Represents the feature matrix containing the 4 features for each sample.\n",
    "- **`y`**: Contains the class labels (0, 1, or 2), which correspond to the different species of iris flowers."
   ]
  },
  {
   "cell_type": "markdown",
   "id": "89810fd1",
   "metadata": {},
   "source": [
    "#### Splitting the Dataset into Training and Test Sets\n",
    "\n",
    "We will split the dataset into 80% training data and 20% test data using `train_test_split` from `sklearn.model_selection`."
   ]
  },
  {
   "cell_type": "code",
   "execution_count": null,
   "id": "5d9b4286",
   "metadata": {},
   "outputs": [],
   "source": [
    "from sklearn.model_selection import train_test_split\n",
    "\n",
    "# Split the data into training and test sets (80% train, 20% test)\n",
    "X_train, X_test, y_train, y_test = train_test_split(X, y, test_size=0.2, random_state=42)\n",
    "\n",
    "# Output the sizes of the training and test sets\n",
    "print(f\"Training set size: {X_train.shape}\")\n",
    "print(f\"Test set size: {X_test.shape}\")"
   ]
  },
  {
   "cell_type": "markdown",
   "id": "b6289487",
   "metadata": {},
   "source": [
    "**Explanation:**\n",
    "- **`test_size=0.2`**: 20% of the data is set aside for testing, and 80% is used for training.\n",
    "- **`random_state=42`**: Ensures reproducibility; every time the code is run, the split will be the same.\n",
    "- After splitting, we check the sizes of the training and test sets to confirm that the split was performed correctly."
   ]
  },
  {
   "cell_type": "markdown",
   "id": "c0e6f807",
   "metadata": {},
   "source": [
    "#### 3. Training a Random Forest Classifier\n",
    "\n",
    "We will use a **Random Forest Classifier** from `sklearn.ensemble` to train the model on the training data."
   ]
  },
  {
   "cell_type": "code",
   "execution_count": null,
   "id": "a3d3c4da",
   "metadata": {},
   "outputs": [],
   "source": [
    "from sklearn.ensemble import RandomForestClassifier\n",
    "\n",
    "# Initialize the Random Forest classifier\n",
    "clf = RandomForestClassifier(n_estimators=100, random_state=42)\n",
    "\n",
    "# Train the model on the training data\n",
    "clf.fit(X_train, y_train)"
   ]
  },
  {
   "cell_type": "markdown",
   "id": "830544c8",
   "metadata": {},
   "source": [
    "**Explanation:**\n",
    "- **`RandomForestClassifier`**: This algorithm creates multiple decision trees and combines their results to improve performance and reduce overfitting.\n",
    "- **`n_estimators=100`**: The model will use 100 decision trees.\n",
    "- The model is trained using the **training data** (`X_train`, `y_train`)."
   ]
  },
  {
   "cell_type": "markdown",
   "id": "1b48f80e",
   "metadata": {},
   "source": [
    "#### Evaluating the Model on the Test Set\n",
    "\n",
    "After training, we will evaluate the model’s performance on the **test data** (`X_test`, `y_test`)."
   ]
  },
  {
   "cell_type": "code",
   "execution_count": null,
   "id": "ebb811f0",
   "metadata": {},
   "outputs": [],
   "source": [
    "from sklearn.metrics import accuracy_score\n",
    "\n",
    "# Predict class labels on the test set\n",
    "y_pred = clf.predict(X_test)\n",
    "\n",
    "# Calculate the accuracy of the model\n",
    "accuracy = accuracy_score(y_test, y_pred)\n",
    "\n",
    "print(f\"Accuracy on the test set: {accuracy:.2f}\")"
   ]
  },
  {
   "cell_type": "markdown",
   "id": "7f6eb756",
   "metadata": {},
   "source": [
    "**Explanation**\n",
    "- **`predict(X_test)`**: The model predicts the class labels for the test data.\n",
    "- **`accuracy_score`**: This function compares the predicted labels (`y_pred`) with the true labels (`y_test`) to compute the accuracy, which is the proportion of correctly classified samples."
   ]
  },
  {
   "cell_type": "markdown",
   "id": "3bdd57f4",
   "metadata": {},
   "source": [
    "#### Visualizing Feature Importance (Optional)\n",
    "\n",
    "Random Forests provide a feature importance score, which indicates how useful each feature was in making the predictions."
   ]
  },
  {
   "cell_type": "code",
   "execution_count": null,
   "id": "cc0b2dbd",
   "metadata": {},
   "outputs": [],
   "source": [
    "import matplotlib.pyplot as plt\n",
    "import numpy as np\n",
    "\n",
    "# Get the feature importances\n",
    "feature_importances = clf.feature_importances_\n",
    "\n",
    "# Plot the feature importances\n",
    "plt.figure(figsize=(8, 6))\n",
    "plt.barh(iris.feature_names, feature_importances)\n",
    "plt.xlabel(\"Feature Importance\")\n",
    "plt.ylabel(\"Feature\")\n",
    "plt.title(\"Feature Importance in Random Forest Classifier\")\n",
    "plt.show()"
   ]
  },
  {
   "cell_type": "markdown",
   "id": "061a9dee",
   "metadata": {},
   "source": [
    "**Explanation:**\n",
    "- **`feature_importances_`**: This attribute provides the importance of each feature in determining the class labels.\n",
    "- The bar plot shows which features (sepal length, sepal width, etc.) were most important in the model’s decisions."
   ]
  },
  {
   "cell_type": "markdown",
   "id": "33787fde",
   "metadata": {},
   "source": [
    "#### Full Code Example"
   ]
  },
  {
   "cell_type": "code",
   "execution_count": null,
   "id": "ae0c0f57",
   "metadata": {},
   "outputs": [],
   "source": [
    "# 1. Load Iris Dataset\n",
    "from sklearn.datasets import load_iris\n",
    "from sklearn.model_selection import train_test_split\n",
    "from sklearn.ensemble import RandomForestClassifier\n",
    "from sklearn.metrics import accuracy_score\n",
    "import matplotlib.pyplot as plt\n",
    "\n",
    "# Load dataset\n",
    "iris = load_iris()\n",
    "X = iris.data\n",
    "y = iris.target\n",
    "\n",
    "# 2. Train-Test Split (80% train, 20% test)\n",
    "X_train, X_test, y_train, y_test = train_test_split(X, y, test_size=0.2, random_state=42)\n",
    "\n",
    "# 3. Train Random Forest Classifier\n",
    "clf = RandomForestClassifier(n_estimators=100, random_state=42)\n",
    "clf.fit(X_train, y_train)\n",
    "\n",
    "# 4. Predict on Test Set\n",
    "y_pred = clf.predict(X_test)\n",
    "\n",
    "# 5. Evaluate Model\n",
    "accuracy = accuracy_score(y_test, y_pred)\n",
    "print(f\"Accuracy on the test set: {accuracy:.2f}\")\n",
    "\n",
    "# 6. Visualize Feature Importance\n",
    "feature_importances = clf.feature_importances_\n",
    "plt.figure(figsize=(8, 6))\n",
    "plt.barh(iris.feature_names, feature_importances)\n",
    "plt.xlabel(\"Feature Importance\")\n",
    "plt.ylabel(\"Feature\")\n",
    "plt.title(\"Feature Importance in Random Forest Classifier\")\n",
    "plt.show()"
   ]
  },
  {
   "cell_type": "markdown",
   "id": "c75bad3f",
   "metadata": {},
   "source": [
    "#### Summary of Steps\n",
    "\n",
    "1. **Load the dataset**: Use the Iris dataset, which is a standard dataset for classification tasks.\n",
    "2. **Split the dataset**: Use `train_test_split` to divide the dataset into training and testing sets (80% train, 20% test).\n",
    "3. **Train the model**: Fit a Random Forest classifier to the training data.\n",
    "4. **Test the model**: Evaluate the model on the test set using accuracy.\n",
    "5. **Feature Importance (Optional)**: Visualize which features were most important in the model's predictions."
   ]
  }
 ],
 "metadata": {
  "kernelspec": {
   "display_name": "Python 3 (ipykernel)",
   "language": "python",
   "name": "python3"
  },
  "language_info": {
   "codemirror_mode": {
    "name": "ipython",
    "version": 3
   },
   "file_extension": ".py",
   "mimetype": "text/x-python",
   "name": "python",
   "nbconvert_exporter": "python",
   "pygments_lexer": "ipython3",
   "version": "3.9.12"
  }
 },
 "nbformat": 4,
 "nbformat_minor": 5
}
