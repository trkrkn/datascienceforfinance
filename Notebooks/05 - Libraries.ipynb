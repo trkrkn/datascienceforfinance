{
 "cells": [
  {
   "cell_type": "markdown",
   "id": "6ef019ca",
   "metadata": {},
   "source": [
    "# Libraries\n",
    "\n",
    "## Overview\n",
    "Python libraries are collections of modules and functions that provide additional functionality, allowing you to perform complex tasks with minimal code. In the world of banking and finance, Python libraries are essential for tasks such as data analysis, financial calculations, and visualization.\n",
    "\n",
    "In this notebook, you'll learn about:\n",
    "- Why Python libraries are important\n",
    "- How to install and import libraries\n",
    "- Key Python libraries used in banking and finance\n",
    "  - `pandas` for data manipulation\n",
    "  - `numpy` for numerical computations\n",
    "  - `matplotlib` and `seaborn` for data visualization\n",
    "  - `datetime` for date and time manipulation\n",
    "\n",
    "We'll use financial examples to demonstrate how these libraries can be applied."
   ]
  },
  {
   "cell_type": "markdown",
   "id": "1d8e0926",
   "metadata": {},
   "source": [
    "## 1. Why Use Python Libraries?\n",
    "\n",
    "Python libraries allow you to:\n",
    "- Reuse code that has been tested and optimized by others\n",
    "- Perform complex tasks with just a few lines of code\n",
    "- Simplify your workflow by providing tools tailored to specific tasks\n",
    "\n",
    "### Example: Using a Library vs. Writing Code from Scratch"
   ]
  },
  {
   "cell_type": "code",
   "execution_count": null,
   "id": "f488b384",
   "metadata": {},
   "outputs": [],
   "source": [
    "# Without using a library\n",
    "# Calculate the square root of a number (writing the logic from scratch)\n",
    "def sqrt(number):\n",
    "    return number ** 0.5\n",
    "\n",
    "print(\"Square root of 16 (without library):\", sqrt(16))\n",
    "\n",
    "# Using a library (numpy)\n",
    "import numpy as np\n",
    "print(\"Square root of 16 (using numpy):\", np.sqrt(16))"
   ]
  },
  {
   "cell_type": "markdown",
   "id": "761844ce",
   "metadata": {},
   "source": [
    "## 2. Installing and Importing Libraries\n",
    "\n",
    "Before you can use a library, you need to install it (if it’s not already installed) and import it into your Python environment.\n",
    "\n",
    "**Installing Libraries**\n",
    "\n",
    "You can install libraries using `pip`, the Python package installer. For example:\n",
    "```bash\n",
    "pip install pandas numpy matplotlib seaborn\n",
    "```\n",
    "Or use the anaconda suite to install manually.\n",
    "\n",
    "**Importing Libraries**\n",
    "\n",
    "Once installed, you import a library in your Python code:\n",
    "```python\n",
    "import pandas as pd\n",
    "import numpy as np\n",
    "import matplotlib.pyplot as plt\n",
    "import seaborn as sns\n",
    "```"
   ]
  },
  {
   "cell_type": "markdown",
   "id": "f9f8ceb7",
   "metadata": {},
   "source": [
    "## 3. Key Python Libraries for Banking and Finance\n",
    "\n",
    "### 3.1 Pandas for Data Manipulation\n",
    "\n",
    "Pandas is a powerful library for data manipulation and analysis. It allows you to work with structured data, such as CSV files, databases, and Excel spreadsheets.\n"
   ]
  },
  {
   "cell_type": "code",
   "execution_count": 1,
   "id": "48c7a0ce",
   "metadata": {},
   "outputs": [
    {
     "name": "stdout",
     "output_type": "stream",
     "text": [
      "         Date Description  Amount\n",
      "0  2023-08-01     Deposit    1000\n",
      "1  2023-08-02  Withdrawal    -200\n",
      "2  2023-08-03     Deposit     500\n",
      "         Date Description  Amount  Balance\n",
      "0  2023-08-01     Deposit    1000     1000\n",
      "1  2023-08-02  Withdrawal    -200      800\n",
      "2  2023-08-03     Deposit     500     1300\n"
     ]
    }
   ],
   "source": [
    "import pandas as pd\n",
    "\n",
    "# Example: Reading a CSV file containing transaction data\n",
    "transactions = pd.DataFrame({\n",
    "    'Date': ['2023-08-01', '2023-08-02', '2023-08-03'],\n",
    "    'Description': ['Deposit', 'Withdrawal', 'Deposit'],\n",
    "    'Amount': [1000, -200, 500]\n",
    "})\n",
    "\n",
    "# Display the first few rows of the DataFrame\n",
    "print(transactions.head())\n",
    "\n",
    "# Calculating the total balance after transactions\n",
    "transactions['Balance'] = transactions['Amount'].cumsum()\n",
    "print(transactions)"
   ]
  },
  {
   "cell_type": "markdown",
   "id": "db8e10ef",
   "metadata": {},
   "source": [
    "### 3.2 Numpy for Numerical Computations\n",
    "\n",
    "Numpy is the foundational package for numerical computing in Python. It is particularly useful for handling large arrays and matrices of numeric data.\n"
   ]
  },
  {
   "cell_type": "code",
   "execution_count": 2,
   "id": "b65e3f1b",
   "metadata": {},
   "outputs": [
    {
     "name": "stdout",
     "output_type": "stream",
     "text": [
      "Future Value after 10 years: 1628.894626777442\n"
     ]
    }
   ],
   "source": [
    "import numpy as np\n",
    "\n",
    "# Example: Calculating compound interest using numpy\n",
    "principal = 1000  # Initial amount\n",
    "rate = 0.05  # Interest rate\n",
    "time = 10  # Number of years\n",
    "\n",
    "# Calculate the future value\n",
    "future_value = principal * np.power(1 + rate, time)\n",
    "print(\"Future Value after 10 years:\", future_value)"
   ]
  },
  {
   "cell_type": "markdown",
   "id": "87582f65",
   "metadata": {},
   "source": [
    "### 3.3 Matplotlib and Seaborn for Data Visualization\n",
    "\n",
    "Matplotlib and Seaborn are powerful libraries for creating visualizations. matplotlib provides a flexible foundation, while seaborn simplifies the creation of more complex plots."
   ]
  },
  {
   "cell_type": "code",
   "execution_count": 3,
   "id": "d65dff66",
   "metadata": {},
   "outputs": [
    {
     "data": {
      "image/png": "[encoded data removed]",
      "text/plain": [
       "<Figure size 432x288 with 1 Axes>"
      ]
     },
     "metadata": {
      "needs_background": "light"
     },
     "output_type": "display_data"
    }
   ],
   "source": [
    "import matplotlib.pyplot as plt\n",
    "import seaborn as sns\n",
    "\n",
    "# Example: Visualizing the account balances over time\n",
    "sns.lineplot(x='Date', y='Balance', data=transactions)\n",
    "plt.title(\"Account Balance Over Time\")\n",
    "plt.xlabel(\"Date\")\n",
    "plt.ylabel(\"Balance\")\n",
    "plt.xticks(rotation=45)\n",
    "plt.show()"
   ]
  },
  {
   "cell_type": "markdown",
   "id": "d12d8cdc",
   "metadata": {},
   "source": [
    "### 3.4 Datetime for Date and Time Manipulation\n",
    "\n",
    "The datetime module allows you to work with dates and times, which are essential in financial applications."
   ]
  },
  {
   "cell_type": "code",
   "execution_count": 4,
   "id": "68ec9cdc",
   "metadata": {},
   "outputs": [
    {
     "name": "stdout",
     "output_type": "stream",
     "text": [
      "Days between 2023-08-01 and 2023-08-10: 9\n"
     ]
    }
   ],
   "source": [
    "from datetime import datetime\n",
    "\n",
    "# Example: Calculating the number of days between two dates\n",
    "date_format = \"%Y-%m-%d\"\n",
    "start_date = datetime.strptime(\"2023-08-01\", date_format)\n",
    "end_date = datetime.strptime(\"2023-08-10\", date_format)\n",
    "\n",
    "days_between = (end_date - start_date).days\n",
    "print(f\"Days between {start_date.date()} and {end_date.date()}: {days_between}\")"
   ]
  }
 ],
 "metadata": {
  "kernelspec": {
   "display_name": "Python 3 (ipykernel)",
   "language": "python",
   "name": "python3"
  },
  "language_info": {
   "codemirror_mode": {
    "name": "ipython",
    "version": 3
   },
   "file_extension": ".py",
   "mimetype": "text/x-python",
   "name": "python",
   "nbconvert_exporter": "python",
   "pygments_lexer": "ipython3",
   "version": "3.9.12"
  }
 },
 "nbformat": 4,
 "nbformat_minor": 5
}
