{
 "cells": [
  {
   "cell_type": "markdown",
   "id": "d86d7ea1",
   "metadata": {},
   "source": [
    "# Types and Structures - Solutions"
   ]
  },
  {
   "cell_type": "markdown",
   "id": "97e0b79f",
   "metadata": {
    "heading_collapsed": true
   },
   "source": [
    "### Exercise 1: Check Data Types"
   ]
  },
  {
   "cell_type": "code",
   "execution_count": 1,
   "id": "8e577e3f",
   "metadata": {
    "hidden": true
   },
   "outputs": [
    {
     "name": "stdout",
     "output_type": "stream",
     "text": [
      "<class 'int'>\n",
      "<class 'float'>\n",
      "<class 'str'>\n",
      "<class 'list'>\n",
      "<class 'tuple'>\n",
      "<class 'dict'>\n",
      "<class 'set'>\n"
     ]
    }
   ],
   "source": [
    "a = 42\n",
    "b = 3.14\n",
    "c = \"Python\"\n",
    "d = [1, 2, 3]\n",
    "e = (1, 2, 3)\n",
    "f = {'name': 'John', 'age': 30}\n",
    "g = {1, 2, 3}\n",
    "\n",
    "print(type(a))  # int\n",
    "print(type(b))  # float\n",
    "print(type(c))  # str\n",
    "print(type(d))  # list\n",
    "print(type(e))  # tuple\n",
    "print(type(f))  # dict\n",
    "print(type(g))  # set"
   ]
  },
  {
   "cell_type": "markdown",
   "id": "0831cfc9",
   "metadata": {
    "heading_collapsed": true
   },
   "source": [
    "### Exercise 2: List Operations"
   ]
  },
  {
   "cell_type": "code",
   "execution_count": 2,
   "id": "66623104",
   "metadata": {
    "hidden": true
   },
   "outputs": [
    {
     "name": "stdout",
     "output_type": "stream",
     "text": [
      "[60, 50, 40, 20, 10]\n"
     ]
    }
   ],
   "source": [
    "my_list = [10, 20, 30, 40, 50]\n",
    "my_list.append(60)    # Adding 60\n",
    "my_list.remove(30)     # Removing 30\n",
    "my_list.reverse()      # Reversing the list\n",
    "\n",
    "print(my_list)  # Output: [60, 50, 40, 20, 10]"
   ]
  },
  {
   "cell_type": "markdown",
   "id": "e67bce7e",
   "metadata": {
    "heading_collapsed": true
   },
   "source": [
    "### Exercise 3: Tuple Unpacking"
   ]
  },
  {
   "cell_type": "code",
   "execution_count": null,
   "id": "879361b6",
   "metadata": {
    "hidden": true
   },
   "outputs": [],
   "source": [
    "my_tuple = (100, 200, 300)\n",
    "a, b, c = my_tuple\n",
    "\n",
    "print(a)  # 100\n",
    "print(b)  # 200\n",
    "print(c)  # 300"
   ]
  },
  {
   "cell_type": "markdown",
   "id": "3116e389",
   "metadata": {
    "heading_collapsed": true
   },
   "source": [
    "### Exercise 4: Dictionary Manipulation"
   ]
  },
  {
   "cell_type": "code",
   "execution_count": 3,
   "id": "43866b6b",
   "metadata": {
    "hidden": true
   },
   "outputs": [
    {
     "name": "stdout",
     "output_type": "stream",
     "text": [
      "{'name': 'Alice', 'age': 26, 'city': 'New York', 'profession': 'Engineer'}\n"
     ]
    }
   ],
   "source": [
    "person = {'name': 'Alice', 'age': 25, 'city': 'New York'}\n",
    "person['age'] = 26  # Updating age\n",
    "person['profession'] = 'Engineer'  # Adding new key-value pair\n",
    "\n",
    "print(person)\n",
    "# Output: {'name': 'Alice', 'age': 26, 'city': 'New York', 'profession': 'Engineer'}"
   ]
  },
  {
   "cell_type": "markdown",
   "id": "5ad67c56",
   "metadata": {
    "heading_collapsed": true
   },
   "source": [
    "### Exercise 5: Set Operations"
   ]
  },
  {
   "cell_type": "code",
   "execution_count": null,
   "id": "8b951d3c",
   "metadata": {
    "hidden": true
   },
   "outputs": [],
   "source": [
    "set1 = {1, 2, 3, 4}\n",
    "set2 = {3, 4, 5, 6}\n",
    "\n",
    "union_set = set1.union(set2)\n",
    "intersection_set = set1.intersection(set2)\n",
    "difference_set = set1.difference(set2)\n",
    "\n",
    "print(\"Union:\", union_set)  # Output: Union: {1, 2, 3, 4, 5, 6}\n",
    "print(\"Intersection:\", intersection_set)  # Output: Intersection: {3, 4}\n",
    "print(\"Difference:\", difference_set)  # Output: Difference: {1, 2}"
   ]
  },
  {
   "cell_type": "markdown",
   "id": "2e3e1991",
   "metadata": {
    "heading_collapsed": true
   },
   "source": [
    "### Exercise 6: String Slicing"
   ]
  },
  {
   "cell_type": "code",
   "execution_count": null,
   "id": "bddb4e71",
   "metadata": {
    "hidden": true
   },
   "outputs": [],
   "source": [
    "s = \"Hello, Python!\"\n",
    "\n",
    "# Extract \"Python\"\n",
    "substring = s[7:13]\n",
    "print(substring)  # Output: Python\n",
    "\n",
    "# Reverse the string\n",
    "reversed_string = s[::-1]\n",
    "print(reversed_string)  # Output: !nohtyP ,olleH"
   ]
  },
  {
   "cell_type": "markdown",
   "id": "09eb936a",
   "metadata": {
    "heading_collapsed": true
   },
   "source": [
    "### Exercise 7: List Comprehension"
   ]
  },
  {
   "cell_type": "code",
   "execution_count": null,
   "id": "67387b73",
   "metadata": {
    "hidden": true
   },
   "outputs": [],
   "source": [
    "squares = [x**2 for x in range(1, 11)]\n",
    "print(squares)  # Output: [1, 4, 9, 16, 25, 36, 49, 64, 81, 100]"
   ]
  },
  {
   "cell_type": "markdown",
   "id": "3f9eb050",
   "metadata": {
    "heading_collapsed": true
   },
   "source": [
    "### Exercise 8: Dictionary Comprehension"
   ]
  },
  {
   "cell_type": "code",
   "execution_count": null,
   "id": "fee3cc73",
   "metadata": {
    "hidden": true
   },
   "outputs": [],
   "source": [
    "squares_dict = {x: x**2 for x in range(1, 6)}\n",
    "print(squares_dict)  # Output: {1: 1, 2: 4, 3: 9, 4: 16, 5: 25}"
   ]
  },
  {
   "cell_type": "markdown",
   "id": "778e88c9",
   "metadata": {
    "heading_collapsed": true
   },
   "source": [
    "### Exercise 9: Checking for Keys in a Dictionary"
   ]
  },
  {
   "cell_type": "code",
   "execution_count": null,
   "id": "bb1af2d6",
   "metadata": {
    "hidden": true
   },
   "outputs": [],
   "source": [
    "\n",
    "person = {'name': 'Bob', 'age': 25}\n",
    "\n",
    "if 'age' in person:\n",
    "    print(\"Key 'age' exists in the dictionary.\")\n",
    "# Output: Key 'age' exists in the dictionary.\n"
   ]
  },
  {
   "cell_type": "markdown",
   "id": "4504c3d0",
   "metadata": {
    "heading_collapsed": true
   },
   "source": [
    "### Exercise 10: Nested Data Structures"
   ]
  },
  {
   "cell_type": "code",
   "execution_count": null,
   "id": "b8b7a478",
   "metadata": {
    "hidden": true
   },
   "outputs": [],
   "source": [
    "students = {\n",
    "    'Alice': {'age': 24, 'grades': [88, 92, 85]},\n",
    "    'Bob': {'age': 23, 'grades': [75, 80, 89]}\n",
    "}\n",
    "\n",
    "# Print Bob’s age\n",
    "print(students['Bob']['age'])  # Output: 23\n",
    "\n",
    "# Print Alice’s grades\n",
    "print(students['Alice']['grades'])  # Output: [88, 92, 85]"
   ]
  }
 ],
 "metadata": {
  "kernelspec": {
   "display_name": "Python 3 (ipykernel)",
   "language": "python",
   "name": "python3"
  },
  "language_info": {
   "codemirror_mode": {
    "name": "ipython",
    "version": 3
   },
   "file_extension": ".py",
   "mimetype": "text/x-python",
   "name": "python",
   "nbconvert_exporter": "python",
   "pygments_lexer": "ipython3",
   "version": "3.9.12"
  }
 },
 "nbformat": 4,
 "nbformat_minor": 5
}
