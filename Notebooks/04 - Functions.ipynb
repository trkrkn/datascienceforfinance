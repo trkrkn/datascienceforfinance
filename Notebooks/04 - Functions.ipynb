{
 "cells": [
  {
   "cell_type": "markdown",
   "id": "3b34ba96",
   "metadata": {},
   "source": [
    "# Functions\n",
    "\n",
    "## Overview\n",
    "Functions are a key concept in programming that allow you to reuse code, make your programs more modular, and simplify complex tasks. In Python, functions are defined using the `def` keyword. \n",
    "\n",
    "In this notebook, you'll learn about:\n",
    "- What functions are and why they are useful\n",
    "- How to define and call functions\n",
    "- Parameters and arguments\n",
    "- Return values\n",
    "- Scope of variables\n",
    "- Built-in vs. user-defined functions\n",
    "\n",
    "We'll use examples and exercises related to banking and finance to illustrate these concepts."
   ]
  },
  {
   "cell_type": "markdown",
   "id": "cd1df647",
   "metadata": {},
   "source": [
    "## 1. What is a Function?\n",
    "\n",
    "A function is a block of code that performs a specific task. Functions can take inputs, process them, and return outputs. Functions help in breaking down complex problems into smaller, manageable parts.\n",
    "\n",
    "### Example in Finance:\n",
    "- **Function:** `calculate_interest(principal, rate, time)`\n",
    "- **Inputs (Parameters):** Principal amount, interest rate, and time period.\n",
    "- **Output (Return Value):** Calculated interest."
   ]
  },
  {
   "cell_type": "markdown",
   "id": "6ca5c2ce",
   "metadata": {},
   "source": [
    "## 2. Defining a Simple Function\n",
    "\n",
    "In Python, you define a function using the `def` keyword followed by the function name and parentheses `()`."
   ]
  },
  {
   "cell_type": "code",
   "execution_count": 1,
   "id": "a56fb9b6",
   "metadata": {},
   "outputs": [],
   "source": [
    "# Example of a simple function\n",
    "def greet_bank_customer():\n",
    "    print(\"Welcome to ABC Bank!\")"
   ]
  },
  {
   "cell_type": "code",
   "execution_count": 2,
   "id": "a23d95ad",
   "metadata": {},
   "outputs": [
    {
     "name": "stdout",
     "output_type": "stream",
     "text": [
      "Welcome to ABC Bank!\n"
     ]
    }
   ],
   "source": [
    "# Call the function\n",
    "greet_bank_customer()"
   ]
  },
  {
   "cell_type": "markdown",
   "id": "8c6bf2a6",
   "metadata": {},
   "source": [
    "## 3. Parameters and Arguments\n",
    "\n",
    "Functions can accept inputs, known as parameters, which you pass into the function when you call it."
   ]
  },
  {
   "cell_type": "code",
   "execution_count": 4,
   "id": "0471d26c",
   "metadata": {},
   "outputs": [],
   "source": [
    "# Function to calculate simple interest\n",
    "def calculate_simple_interest(principal, rate, time):\n",
    "    interest = principal * rate * time / 100\n",
    "    print(f\"The interest is: {interest}\")"
   ]
  },
  {
   "cell_type": "code",
   "execution_count": 5,
   "id": "990c270c",
   "metadata": {},
   "outputs": [
    {
     "name": "stdout",
     "output_type": "stream",
     "text": [
      "The interest is: 100.0\n"
     ]
    }
   ],
   "source": [
    "# Call the function with arguments\n",
    "calculate_simple_interest(1000, 5, 2)  # Principal = 1000, Rate = 5%, Time = 2 years"
   ]
  },
  {
   "cell_type": "markdown",
   "id": "0a04cc6b",
   "metadata": {},
   "source": [
    "## 4. Return Values\n",
    "\n",
    "Sometimes, you’ll want your function to return a value instead of just printing it. You can do this using the return statement."
   ]
  },
  {
   "cell_type": "code",
   "execution_count": 6,
   "id": "ddd3470a",
   "metadata": {},
   "outputs": [
    {
     "name": "stdout",
     "output_type": "stream",
     "text": [
      "The compound interest is: 102.5\n"
     ]
    }
   ],
   "source": [
    "# Function to calculate and return compound interest\n",
    "def calculate_compound_interest(principal, rate, time):\n",
    "    amount = principal * (1 + rate/100)**time\n",
    "    interest = amount - principal\n",
    "    return interest"
   ]
  },
  {
   "cell_type": "code",
   "execution_count": 7,
   "id": "b7d0ccb6",
   "metadata": {},
   "outputs": [
    {
     "name": "stdout",
     "output_type": "stream",
     "text": [
      "The compound interest is: 102.5\n"
     ]
    }
   ],
   "source": [
    "# Call the function and store the result\n",
    "compound_interest = calculate_compound_interest(1000, 5, 2)\n",
    "print(\"The compound interest is:\", compound_interest)"
   ]
  },
  {
   "cell_type": "markdown",
   "id": "42249d24",
   "metadata": {},
   "source": [
    "## 5. Variable Scope\n",
    "\n",
    "Variables defined inside a function are local to that function and cannot be accessed outside of it. This is called the scope of a variable."
   ]
  },
  {
   "cell_type": "code",
   "execution_count": 8,
   "id": "8781db10",
   "metadata": {},
   "outputs": [],
   "source": [
    "def calculate_balance():\n",
    "    balance = 5000  # Local variable\n",
    "    print(\"Balance inside the function:\", balance)"
   ]
  },
  {
   "cell_type": "code",
   "execution_count": 9,
   "id": "e6288e65",
   "metadata": {},
   "outputs": [
    {
     "name": "stdout",
     "output_type": "stream",
     "text": [
      "Balance inside the function: 5000\n"
     ]
    }
   ],
   "source": [
    "calculate_balance()\n",
    "\n",
    "# Uncomment the following line to see the error\n",
    "# print(balance)  # This will raise an error because balance is not accessible outside the function"
   ]
  },
  {
   "cell_type": "markdown",
   "id": "6437c7d5",
   "metadata": {},
   "source": [
    "## 6. Built-in vs. User-defined Functions\n",
    "\n",
    "Python provides many built-in functions like print(), len(), sum(), etc. However, you can create your own functions (user-defined functions) to perform specific tasks."
   ]
  },
  {
   "cell_type": "code",
   "execution_count": 10,
   "id": "2c889c94",
   "metadata": {},
   "outputs": [
    {
     "name": "stdout",
     "output_type": "stream",
     "text": [
      "Total balance after transactions: 150\n"
     ]
    }
   ],
   "source": [
    "# Using the built-in sum function to add numbers in a list\n",
    "transactions = [100, -50, 200, -100]\n",
    "total = sum(transactions)\n",
    "print(\"Total balance after transactions:\", total)"
   ]
  },
  {
   "cell_type": "code",
   "execution_count": 11,
   "id": "b8d952b0",
   "metadata": {},
   "outputs": [
    {
     "name": "stdout",
     "output_type": "stream",
     "text": [
      "Net Present Value: 209.02029602108263\n"
     ]
    }
   ],
   "source": [
    "# User-defined function to calculate the net present value (NPV)\n",
    "def calculate_npv(cash_flows, discount_rate):\n",
    "    npv = sum(cf / (1 + discount_rate) ** t for t, cf in enumerate(cash_flows, 1))\n",
    "    return npv\n",
    "\n",
    "cash_flows = [-1000, 200, 300, 400, 500]\n",
    "print(\"Net Present Value:\", calculate_npv(cash_flows, 0.05))"
   ]
  },
  {
   "cell_type": "markdown",
   "id": "0c6536e5",
   "metadata": {},
   "source": [
    "---"
   ]
  },
  {
   "cell_type": "markdown",
   "id": "f6b2c331",
   "metadata": {},
   "source": [
    "# Exercises"
   ]
  },
  {
   "cell_type": "markdown",
   "id": "a2d4a8d5",
   "metadata": {},
   "source": [
    "**Exercise 1: Write a Function to Print a Bank Account Statement**\n",
    "\n",
    "Define a function called `print_statement()` that prints a simple bank account statement message when called."
   ]
  },
  {
   "cell_type": "code",
   "execution_count": 12,
   "id": "12b56d27",
   "metadata": {},
   "outputs": [],
   "source": [
    "# Your code here\n",
    "def print_statement():\n",
    "    # Add your code to print a bank account statement message\n",
    "    pass\n",
    "\n",
    "# Call your function here"
   ]
  },
  {
   "cell_type": "markdown",
   "id": "7dfd3a19",
   "metadata": {},
   "source": [
    "**Exercise 2: Write a Function to Calculate the Future Value of an Investment**\n",
    "\n",
    "Create a function called calculate_future_value that takes three parameters: principal, rate of return, and time period. It should calculate and print the future value using the formula:\n",
    "\n",
    "[\n",
    "\\text{Future Value} = \\text{Principal} \\times (1 + \\text{Rate})^\\text{Time}\n",
    "]"
   ]
  },
  {
   "cell_type": "code",
   "execution_count": 13,
   "id": "b59d728c",
   "metadata": {},
   "outputs": [],
   "source": [
    "# Your code here\n",
    "def calculate_future_value(principal, rate, time):\n",
    "    # Calculate the future value and print the result\n",
    "    pass\n",
    "\n",
    "# Call your function with example values"
   ]
  },
  {
   "cell_type": "markdown",
   "id": "d2ad7ce3",
   "metadata": {},
   "source": [
    "**Exercise 3: Write a Function to Calculate Monthly Loan Payment**\n",
    "\n",
    "Create a function called calculate_loan_payment that takes three parameters: loan amount, annual interest rate, and number of payments (months). The function should return the monthly payment using the formula:\n",
    "\n",
    "$$\n",
    "\\text{Payment} = \\frac{P \\times r \\times (1+r)^n}{(1+r)^n - 1}\n",
    "$$\n",
    "\n",
    "Where:\n",
    "\n",
    "* *P* = Loan amount\n",
    "* *r* = Monthly interest rate (annual rate / 12 / 100)\n",
    "* *n* = Number of payments"
   ]
  },
  {
   "cell_type": "code",
   "execution_count": 14,
   "id": "87ef8716",
   "metadata": {},
   "outputs": [],
   "source": [
    "# Your code here\n",
    "def calculate_loan_payment(loan_amount, annual_rate, months):\n",
    "    # Calculate and return the monthly payment\n",
    "    pass\n",
    "\n",
    "# Call your function with example values"
   ]
  },
  {
   "cell_type": "markdown",
   "id": "ec0d4e72",
   "metadata": {},
   "source": [
    "**Exercise 4: Experiment with Variable Scope**\n",
    "\n",
    "Write a function called transaction that defines a variable balance inside it and tries to print it both inside and outside the function."
   ]
  },
  {
   "cell_type": "code",
   "execution_count": 15,
   "id": "08a9e230",
   "metadata": {},
   "outputs": [],
   "source": [
    "# Your code here\n",
    "def transaction():\n",
    "    # Define a local variable balance and print it\n",
    "    pass\n",
    "\n",
    "# Call the function\n",
    "transaction()\n",
    "\n",
    "# Try to print the balance variable here (it should raise an error)\n",
    "# print(balance)"
   ]
  },
  {
   "cell_type": "markdown",
   "id": "a000aefe",
   "metadata": {},
   "source": [
    "**Exercise 5: Create a Function to Calculate Net Present Value (NPV)**\n",
    "\n",
    "Create a user-defined function called calculate_npv that takes a list of cash flows and a discount rate. The function should return the NPV using the formula:\n",
    "\n",
    "$$\n",
    "\\text{NPV} = \\sum \\frac{\\text{Cash Flow}_t}{(1 + \\text{Discount Rate})^t}\n",
    "$$\n",
    "\n",
    "Where *t* is the time period (starting from 1)."
   ]
  },
  {
   "cell_type": "code",
   "execution_count": 16,
   "id": "d992f35c",
   "metadata": {},
   "outputs": [
    {
     "name": "stdout",
     "output_type": "stream",
     "text": [
      "Net Present Value: None\n"
     ]
    }
   ],
   "source": [
    "# Your code here\n",
    "def calculate_npv(cash_flows, discount_rate):\n",
    "    # Calculate and return the NPV\n",
    "    pass\n",
    "\n",
    "# Test your function with example cash flows\n",
    "cash_flows = [-1000, 200, 300, 400, 500]\n",
    "print(\"Net Present Value:\", calculate_npv(cash_flows, 0.05))"
   ]
  },
  {
   "cell_type": "code",
   "execution_count": null,
   "id": "46b4e5ec",
   "metadata": {},
   "outputs": [],
   "source": []
  }
 ],
 "metadata": {
  "kernelspec": {
   "display_name": "Python 3 (ipykernel)",
   "language": "python",
   "name": "python3"
  },
  "language_info": {
   "codemirror_mode": {
    "name": "ipython",
    "version": 3
   },
   "file_extension": ".py",
   "mimetype": "text/x-python",
   "name": "python",
   "nbconvert_exporter": "python",
   "pygments_lexer": "ipython3",
   "version": "3.9.12"
  }
 },
 "nbformat": 4,
 "nbformat_minor": 5
}
