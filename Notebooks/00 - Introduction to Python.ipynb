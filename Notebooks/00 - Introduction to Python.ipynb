{
 "cells": [
  {
   "cell_type": "markdown",
   "id": "b129a8d1",
   "metadata": {},
   "source": [
    "# Introduction to Python Programming for Finance and Data Science"
   ]
  },
  {
   "cell_type": "markdown",
   "id": "58746424",
   "metadata": {},
   "source": [
    "## 1. Overview of Python and Its Relevance to Finance\n",
    "\n",
    "### What is Python?\n",
    "- Python is a high-level, interpreted programming language known for its simplicity and readability.\n",
    "- It is widely used in finance and data science due to its powerful libraries and efficient handling of large datasets.\n",
    "  \n",
    "### Why Python for Finance?\n",
    "- **Data Handling:** In finance, you often work with large datasets—Python's libraries like `pandas` and `NumPy` are designed to handle and analyze financial data efficiently.\n",
    "- **Automation:** Python can automate repetitive tasks like data retrieval, report generation, and portfolio analysis.\n",
    "- **Financial Modeling:** Python is a great tool for building complex models such as forecasting, risk management, and pricing.\n",
    "- **Integration with Data Science:** Python is the most popular language for data science, offering extensive support for statistical analysis, machine learning, and data visualization.\n",
    "\n",
    "### Why Learn Python for Data Science?\n",
    "- **Versatile:** Python is used for everything from quick data analysis to building predictive models and visualizations.\n",
    "- **Powerful Libraries:** Python has a vast ecosystem of libraries that simplify data manipulation, financial analysis, and machine learning.\n",
    "- **Career Demand:** Skills in Python for finance and data science are highly sought after in roles like financial analysts, data scientists, quantitative researchers, and algorithmic traders."
   ]
  },
  {
   "cell_type": "markdown",
   "id": "08890419",
   "metadata": {},
   "source": [
    "## 2. Setting Up Python\n",
    "\n",
    "- **Installing Python:**\n",
    "  - Download Python from the [official website](https://www.python.org/downloads/).\n",
    "  - Installation includes the Python interpreter and Integrated Development Environment (IDLE) for coding.\n",
    "\n",
    "- **Running Python Code:**\n",
    "  - You can run Python in various ways:\n",
    "    - Using the Python shell (IDLE).\n",
    "    - Writing scripts in `.py` files.\n",
    "    - Using platforms like [Jupyter Notebooks](https://jupyter.org/), which are widely used in data science for documenting and running code interactively."
   ]
  },
  {
   "cell_type": "markdown",
   "id": "507ee05a",
   "metadata": {},
   "source": [
    "## 3. Python Syntax Basics for Finance\n",
    "\n",
    "### 3.1 Python as a Financial Calculator"
   ]
  },
  {
   "cell_type": "code",
   "execution_count": 1,
   "id": "b0a6bba8",
   "metadata": {},
   "outputs": [
    {
     "name": "stdout",
     "output_type": "stream",
     "text": [
      "5250\n",
      "10500.0\n",
      "5000.0\n"
     ]
    }
   ],
   "source": [
    "# Basic financial arithmetic\n",
    "print(5000 + 250)    # Adding investment returns\n",
    "print(10000 * 1.05)  # Calculating interest (5% growth)\n",
    "print(10000 / 2)     # Splitting an investment"
   ]
  },
  {
   "cell_type": "markdown",
   "id": "b4eca8f1",
   "metadata": {},
   "source": [
    "- **Comments:** Use comments (`#`) to explain code, particularly useful for documenting financial logic."
   ]
  },
  {
   "cell_type": "code",
   "execution_count": 2,
   "id": "33d01f1e",
   "metadata": {},
   "outputs": [
    {
     "name": "stdout",
     "output_type": "stream",
     "text": [
      "Welcome to Python for Finance!\n"
     ]
    }
   ],
   "source": [
    "# This is a comment\n",
    "print(\"Welcome to Python for Finance!\")  # This prints a message"
   ]
  },
  {
   "cell_type": "markdown",
   "id": "e637541a",
   "metadata": {},
   "source": [
    "### 3.2 Variables and Data Types in Financial Context\n",
    "\n",
    "- **Variables**: Store financial data for calculations."
   ]
  },
  {
   "cell_type": "code",
   "execution_count": 3,
   "id": "58a4a5d3",
   "metadata": {},
   "outputs": [],
   "source": [
    "# Variable assignment in a financial scenario\n",
    "stock_price = 150.25  # Price of a stock\n",
    "investment_amount = 10000  # Amount invested\n",
    "shares = investment_amount / stock_price  # Number of shares"
   ]
  },
  {
   "cell_type": "markdown",
   "id": "bfdc7259",
   "metadata": {},
   "source": [
    "- **Data types**: Strings (`str`), Integers (`int`), Floats (`float`), Booleans (`bool`)."
   ]
  },
  {
   "cell_type": "markdown",
   "id": "531c1de0",
   "metadata": {},
   "source": [
    "## 4. Control Structures\n",
    "\n",
    "### 4.1 Conditional Statements (if, elif, else) in Finance\n",
    "\n",
    "- **Use Case: Decision-making in portfolio management or loan approval**"
   ]
  },
  {
   "cell_type": "code",
   "execution_count": null,
   "id": "f4fbe089",
   "metadata": {},
   "outputs": [],
   "source": [
    "balance = 5000\n",
    "if balance >= 10000:\n",
    "    print(\"You are eligible for premium services.\")\n",
    "else:\n",
    "    print(\"Standard services apply.\")"
   ]
  },
  {
   "cell_type": "markdown",
   "id": "937dfa5f",
   "metadata": {},
   "source": [
    "### 4.2 Loops for Repetitive Financial Tasks\n",
    "\n",
    "- **While Loop:**"
   ]
  },
  {
   "cell_type": "code",
   "execution_count": null,
   "id": "0c134d6a",
   "metadata": {},
   "outputs": [],
   "source": [
    "# Use case: Simulating monthly deposit growth\n",
    "balance = 1000\n",
    "months = 0\n",
    "while balance < 2000:\n",
    "    balance += 100  # Monthly deposit\n",
    "    months += 1\n",
    "print(f\"It took {months} months to double the balance.\")"
   ]
  },
  {
   "cell_type": "markdown",
   "id": "315be617",
   "metadata": {},
   "source": [
    "- **For Loop:**"
   ]
  },
  {
   "cell_type": "code",
   "execution_count": null,
   "id": "69142e34",
   "metadata": {},
   "outputs": [],
   "source": [
    "# Use case: Summing up daily returns from a list\n",
    "daily_returns = [0.01, -0.02, 0.03, 0.02, -0.01]\n",
    "total_return = 0\n",
    "for r in daily_returns:\n",
    "    total_return += r\n",
    "print(\"Total return for the week:\", total_return)"
   ]
  },
  {
   "cell_type": "markdown",
   "id": "2c39ef68",
   "metadata": {},
   "source": [
    "## 5. Functions for Financial Calculations\n",
    "\n",
    "- **What is a function?**\n",
    "  - A reusable block of code for tasks like interest calculation or financial metrics."
   ]
  },
  {
   "cell_type": "code",
   "execution_count": null,
   "id": "f969d239",
   "metadata": {},
   "outputs": [],
   "source": [
    "# Function to calculate compound interest\n",
    "def calculate_compound_interest(principal, rate, time):\n",
    "    return principal * (1 + rate) ** time"
   ]
  },
  {
   "cell_type": "code",
   "execution_count": 4,
   "id": "ca974a32",
   "metadata": {},
   "outputs": [
    {
     "name": "stdout",
     "output_type": "stream",
     "text": [
      "Compound Interest: 1276.2815625000003\n"
     ]
    }
   ],
   "source": [
    "# Function to calculate compound interest\n",
    "def calculate_compound_interest(principal, rate, time):\n",
    "    return principal * (1 + rate) ** time\n",
    "\n",
    "# Example usage\n",
    "result = calculate_compound_interest(1000, 0.05, 5)\n",
    "print(\"Compound Interest:\", result)"
   ]
  },
  {
   "cell_type": "markdown",
   "id": "0f4b2a4e",
   "metadata": {},
   "source": [
    "## 6. Basic Data Structures for Financial Data\n",
    "\n",
    "### 6.1 Lists for Storing Financial Data"
   ]
  },
  {
   "cell_type": "code",
   "execution_count": 5,
   "id": "1823b99e",
   "metadata": {},
   "outputs": [
    {
     "name": "stdout",
     "output_type": "stream",
     "text": [
      "150.25\n",
      "[150.25, 153.5, 152.0, 155.0, 157.25]\n"
     ]
    }
   ],
   "source": [
    "# Example: List of daily stock prices\n",
    "stock_prices = [150.25, 153.50, 152.00, 155.00]\n",
    "print(stock_prices[0])  # Accessing the first day's price\n",
    "stock_prices.append(157.25)  # Adding a new day's price\n",
    "print(stock_prices)"
   ]
  },
  {
   "cell_type": "markdown",
   "id": "b6460f94",
   "metadata": {},
   "source": [
    "### 6.2 Dictionaries for Key-Value Pairs in Finance"
   ]
  },
  {
   "cell_type": "code",
   "execution_count": null,
   "id": "626d08eb",
   "metadata": {},
   "outputs": [],
   "source": [
    "# Example: Dictionary to store portfolio allocation\n",
    "portfolio = {\n",
    "    \"AAPL\": 5000,\n",
    "    \"GOOGL\": 3000,\n",
    "    \"AMZN\": 2000\n",
    "}\n",
    "print(portfolio[\"AAPL\"])  # Accessing allocation for AAPL\n",
    "portfolio[\"GOOGL\"] += 1000  # Updating allocation for GOOGL\n",
    "print(portfolio)"
   ]
  },
  {
   "cell_type": "markdown",
   "id": "ecf2af60",
   "metadata": {},
   "source": [
    "## 7. Introduction to Libraries for Financial Data Science\n",
    "\n",
    "- **What are libraries?**\n",
    "  - Pre-built packages of functions for tasks like data analysis and visualization.\n",
    "  \n",
    "- **Key Libraries for Finance:**\n",
    "  - **`NumPy`**: For numerical computations (e.g., matrix operations in portfolio analysis).\n",
    "  - **`pandas`**: Used for data manipulation (e.g., handling financial datasets).\n",
    "  - **`matplotlib`**: For data visualization (e.g., plotting stock prices)."
   ]
  },
  {
   "cell_type": "code",
   "execution_count": 7,
   "id": "568494b4",
   "metadata": {},
   "outputs": [
    {
     "name": "stdout",
     "output_type": "stream",
     "text": [
      "4.0\n",
      "3.141592653589793\n"
     ]
    }
   ],
   "source": [
    "import numpy \n",
    "\n",
    "print(numpy.sqrt(16))  # Square root\n",
    "print(numpy.pi)        # Value of pi"
   ]
  },
  {
   "cell_type": "markdown",
   "id": "7e6b8a0a",
   "metadata": {},
   "source": [
    "## 8. Practice Exercises\n",
    "\n",
    "**Exercise 1: Hello, Finance World!**\n",
    "\n",
    "Write a program that prints \"Hello, Finance World!\" to the screen."
   ]
  },
  {
   "cell_type": "code",
   "execution_count": null,
   "id": "8f8d7171",
   "metadata": {},
   "outputs": [],
   "source": [
    "# Your code here"
   ]
  },
  {
   "cell_type": "markdown",
   "id": "1f9bae04",
   "metadata": {},
   "source": [
    "**Exercise 2: Simple Financial Calculator**\n",
    "\n",
    "Write a Python script that takes two numbers as input from the user and performs basic arithmetic (e.g., adding two investment returns)."
   ]
  },
  {
   "cell_type": "code",
   "execution_count": null,
   "id": "8b260388",
   "metadata": {},
   "outputs": [],
   "source": [
    "# Your code here"
   ]
  },
  {
   "cell_type": "markdown",
   "id": "0256557b",
   "metadata": {},
   "source": [
    "**Exercise 3: Loan Eligibility Checker**\n",
    "\n",
    "Ask the user for their income and loan amount. Print whether they are eligible for a loan based on whether the loan amount is less than 5 times their income."
   ]
  },
  {
   "cell_type": "code",
   "execution_count": null,
   "id": "a90ee311",
   "metadata": {},
   "outputs": [],
   "source": [
    "# Your code here"
   ]
  },
  {
   "cell_type": "markdown",
   "id": "93425dd3",
   "metadata": {},
   "source": [
    "**Exercise 4: Simple Interest Calculator**\n",
    "\n",
    "Write a function that calculates simple interest based on principal, rate, and time."
   ]
  },
  {
   "cell_type": "code",
   "execution_count": null,
   "id": "b8fec2e0",
   "metadata": {},
   "outputs": [],
   "source": [
    "# Your code here"
   ]
  },
  {
   "cell_type": "markdown",
   "id": "dfe8518b",
   "metadata": {},
   "source": [
    "**Exercise 5: Portfolio Management**\n",
    "\n",
    "Create a list of stock prices, calculate the percentage return from the first to the last price, and print the result."
   ]
  },
  {
   "cell_type": "code",
   "execution_count": null,
   "id": "17cdc9e5",
   "metadata": {},
   "outputs": [],
   "source": [
    "# Your code here"
   ]
  },
  {
   "cell_type": "markdown",
   "id": "202bd3e8",
   "metadata": {},
   "source": [
    "## 9. Conclusion\n",
    "\n",
    "- **Recap:**\n",
    "  - Python is a versatile tool for both finance and data science.\n",
    "  - We covered the basics of variables, control structures, functions, and data structures with financial examples.\n",
    "  \n",
    "- **Next Steps:**\n",
    "  - In the next lecture, we will dive deeper into working with financial datasets using `pandas`, and explore data analysis techniques that are critical in finance and data science."
   ]
  },
  {
   "cell_type": "code",
   "execution_count": null,
   "id": "01660235",
   "metadata": {},
   "outputs": [],
   "source": []
  }
 ],
 "metadata": {
  "kernelspec": {
   "display_name": "Python 3 (ipykernel)",
   "language": "python",
   "name": "python3"
  },
  "language_info": {
   "codemirror_mode": {
    "name": "ipython",
    "version": 3
   },
   "file_extension": ".py",
   "mimetype": "text/x-python",
   "name": "python",
   "nbconvert_exporter": "python",
   "pygments_lexer": "ipython3",
   "version": "3.9.12"
  }
 },
 "nbformat": 4,
 "nbformat_minor": 5
}
