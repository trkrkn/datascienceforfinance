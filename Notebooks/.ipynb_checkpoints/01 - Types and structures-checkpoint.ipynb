{
 "cells": [
  {
   "cell_type": "markdown",
   "id": "102e0deb",
   "metadata": {},
   "source": [
    "# Types and Structures"
   ]
  },
  {
   "cell_type": "markdown",
   "id": "cf0830a8",
   "metadata": {
    "heading_collapsed": true
   },
   "source": [
    "## Overview\n",
    "In Python, types and structures are fundamental concepts that allow you to store, manipulate, and organize data. \n",
    "\n",
    "In this notebook, you'll learn about:\n",
    "- Basic data types in Python\n",
    "- Data structures: Lists, Tuples, Sets, and Dictionaries\n",
    "- How these data types and structures are used in banking and finance\n",
    "\n",
    "We'll use financial examples to illustrate these concepts."
   ]
  },
  {
   "cell_type": "markdown",
   "id": "35238a63",
   "metadata": {
    "hidden": true
   },
   "source": [
    "---"
   ]
  },
  {
   "cell_type": "markdown",
   "id": "085130aa",
   "metadata": {
    "hidden": true
   },
   "source": [
    "**List of types** \n",
    "\n",
    "| Object type | Meaning | Used for |\n",
    "| --- | --- | --- |\n",
    "|`int` | integer value | natural numbers |\n",
    "| `float` | floating-point number | real numbers |\n",
    "| `bool` | boolean value | true or false |\n",
    "| `str` | string object | character, word, text |\n",
    "\n",
    "*use built-in function `type()` to obtain the information*"
   ]
  },
  {
   "cell_type": "markdown",
   "id": "da8d7ede",
   "metadata": {
    "hidden": true
   },
   "source": [
    "**List of structures** \n",
    "\n",
    "| Object type | Meaning | Used for |\n",
    "| --- | --- | --- |\n",
    "| `tuple` | immutable container | fixed set of objects |\n",
    "| `list` | mutable container | ordered and changing set of objects |\n",
    "| `dict` | mutable container | key-value store |\n",
    "| `set` | mutable container | unordered collection of unique objects |\n",
    "\n",
    "\n",
    "*use built-in function `type()` to obtain the information*\n"
   ]
  },
  {
   "cell_type": "markdown",
   "id": "51d202a5",
   "metadata": {
    "hidden": true
   },
   "source": [
    "---"
   ]
  },
  {
   "cell_type": "markdown",
   "id": "ee010f93",
   "metadata": {},
   "source": [
    "## 1. Basic Types\n",
    "\n",
    "### 1.1 Integers and Floats\n",
    "\n",
    "Integers are whole numbers, while floats are numbers with a decimal point. These are commonly used for financial calculations.\n",
    "\n",
    "```python\n",
    "# Example: Representing account balances\n",
    "balance = 1000  # Integer\n",
    "interest_rate = 5.5  # Float\n",
    "\n",
    "# Calculating interest\n",
    "interest = balance * interest_rate / 100\n",
    "print(\"Interest:\", interest)\n",
    "```"
   ]
  },
  {
   "cell_type": "markdown",
   "id": "8c116ba0",
   "metadata": {},
   "source": [
    "**Ints**\n"
   ]
  },
  {
   "cell_type": "code",
   "execution_count": null,
   "id": "b7051cf8",
   "metadata": {},
   "outputs": [],
   "source": [
    "a = 10\n",
    "type(a)"
   ]
  },
  {
   "cell_type": "markdown",
   "id": "55d1f1dc",
   "metadata": {},
   "source": [
    "Arithmetic operations: `+` `-` `*` `/`"
   ]
  },
  {
   "cell_type": "code",
   "execution_count": null,
   "id": "5071a94c",
   "metadata": {},
   "outputs": [],
   "source": [
    "1 + 4 "
   ]
  },
  {
   "cell_type": "code",
   "execution_count": null,
   "id": "e2214833",
   "metadata": {},
   "outputs": [],
   "source": [
    "a + 1"
   ]
  },
  {
   "cell_type": "code",
   "execution_count": null,
   "id": "1789a767",
   "metadata": {},
   "outputs": [],
   "source": [
    "type(1+4)"
   ]
  },
  {
   "cell_type": "markdown",
   "id": "9ddbafc2",
   "metadata": {},
   "source": [
    "**Floats**"
   ]
  },
  {
   "cell_type": "code",
   "execution_count": null,
   "id": "cd01aef7",
   "metadata": {},
   "outputs": [],
   "source": [
    "type (1/4)"
   ]
  },
  {
   "cell_type": "code",
   "execution_count": null,
   "id": "2f0abded",
   "metadata": {},
   "outputs": [],
   "source": [
    "1/4"
   ]
  },
  {
   "cell_type": "code",
   "execution_count": null,
   "id": "d9f43ace",
   "metadata": {},
   "outputs": [],
   "source": [
    "type(0.25)"
   ]
  },
  {
   "cell_type": "code",
   "execution_count": null,
   "id": "3e3d7130",
   "metadata": {},
   "outputs": [],
   "source": [
    "type (0)"
   ]
  },
  {
   "cell_type": "code",
   "execution_count": null,
   "id": "d474de0b",
   "metadata": {},
   "outputs": [],
   "source": [
    "type (0.0)"
   ]
  },
  {
   "cell_type": "markdown",
   "id": "3f912086",
   "metadata": {},
   "source": [
    "### 1.2 Booleans\n",
    "\n",
    "Booleans represent True or False values. They are useful for making decisions in your code."
   ]
  },
  {
   "cell_type": "code",
   "execution_count": 1,
   "id": "d44ac7e7",
   "metadata": {},
   "outputs": [
    {
     "name": "stdout",
     "output_type": "stream",
     "text": [
      "The account is active.\n"
     ]
    }
   ],
   "source": [
    "# Example: Checking if an account is active\n",
    "account_active = True\n",
    "if account_active:\n",
    "    print(\"The account is active.\")\n",
    "else:\n",
    "    print(\"The account is inactive.\")"
   ]
  },
  {
   "cell_type": "markdown",
   "id": "6dafea5e",
   "metadata": {},
   "source": [
    "Conditions: `>` `<` `>=` `<=` `==` `!=`"
   ]
  },
  {
   "cell_type": "code",
   "execution_count": null,
   "id": "c52b8e98",
   "metadata": {},
   "outputs": [],
   "source": [
    "4 > 3"
   ]
  },
  {
   "cell_type": "code",
   "execution_count": null,
   "id": "a82f1f82",
   "metadata": {},
   "outputs": [],
   "source": [
    "type (4 > 3)"
   ]
  },
  {
   "cell_type": "code",
   "execution_count": null,
   "id": "d18ef1e7",
   "metadata": {},
   "outputs": [],
   "source": [
    "type (False)"
   ]
  },
  {
   "cell_type": "code",
   "execution_count": null,
   "id": "51b7b9d3",
   "metadata": {},
   "outputs": [],
   "source": [
    "4 >= 3"
   ]
  },
  {
   "cell_type": "code",
   "execution_count": null,
   "id": "235383b5",
   "metadata": {},
   "outputs": [],
   "source": [
    "4 < 3"
   ]
  },
  {
   "cell_type": "code",
   "execution_count": null,
   "id": "1c501f96",
   "metadata": {},
   "outputs": [],
   "source": [
    "4 == 3"
   ]
  },
  {
   "cell_type": "code",
   "execution_count": null,
   "id": "211473c6",
   "metadata": {},
   "outputs": [],
   "source": [
    "4 != 3"
   ]
  },
  {
   "cell_type": "markdown",
   "id": "e15d8466",
   "metadata": {},
   "source": [
    "Logic operations: `and` `or` `not` `in`"
   ]
  },
  {
   "cell_type": "code",
   "execution_count": null,
   "id": "c48b5669",
   "metadata": {},
   "outputs": [],
   "source": [
    "True and True"
   ]
  },
  {
   "cell_type": "code",
   "execution_count": null,
   "id": "e2ba98bd",
   "metadata": {},
   "outputs": [],
   "source": [
    "True and False"
   ]
  },
  {
   "cell_type": "code",
   "execution_count": null,
   "id": "3c874f7c",
   "metadata": {},
   "outputs": [],
   "source": [
    "False and False"
   ]
  },
  {
   "cell_type": "code",
   "execution_count": null,
   "id": "027ba315",
   "metadata": {},
   "outputs": [],
   "source": [
    "True or True"
   ]
  },
  {
   "cell_type": "code",
   "execution_count": null,
   "id": "ce02dad5",
   "metadata": {},
   "outputs": [],
   "source": [
    "True or False"
   ]
  },
  {
   "cell_type": "code",
   "execution_count": null,
   "id": "f1fa1664",
   "metadata": {},
   "outputs": [],
   "source": [
    "False or False"
   ]
  },
  {
   "cell_type": "code",
   "execution_count": null,
   "id": "6b6e66d8",
   "metadata": {},
   "outputs": [],
   "source": [
    "not True"
   ]
  },
  {
   "cell_type": "code",
   "execution_count": null,
   "id": "b0db64e0",
   "metadata": {},
   "outputs": [],
   "source": [
    "not False"
   ]
  },
  {
   "cell_type": "markdown",
   "id": "1c974174",
   "metadata": {},
   "source": [
    "Combinations"
   ]
  },
  {
   "cell_type": "code",
   "execution_count": null,
   "id": "32c7e2a0",
   "metadata": {},
   "outputs": [],
   "source": [
    "(4 > 3) and (2 > 3)"
   ]
  },
  {
   "cell_type": "code",
   "execution_count": null,
   "id": "21004cb3",
   "metadata": {},
   "outputs": [],
   "source": [
    "(4==3) or (2 != 3)"
   ]
  },
  {
   "cell_type": "code",
   "execution_count": null,
   "id": "4ad2023d",
   "metadata": {},
   "outputs": [],
   "source": [
    "not (4 != 4)"
   ]
  },
  {
   "cell_type": "code",
   "execution_count": null,
   "id": "a03f1e88",
   "metadata": {},
   "outputs": [],
   "source": [
    "(not (4 != 4)) and (2 == 3)"
   ]
  },
  {
   "cell_type": "markdown",
   "id": "0a0abe79",
   "metadata": {},
   "source": [
    "**Note:** Major for control condition (`if` `while` `for`) -- see later"
   ]
  },
  {
   "cell_type": "code",
   "execution_count": null,
   "id": "1f0dc00b",
   "metadata": {},
   "outputs": [],
   "source": [
    "if 4 > 3:\n",
    "    print ('condition true')\n",
    "else:\n",
    "    print ('condition not true')"
   ]
  },
  {
   "cell_type": "code",
   "execution_count": null,
   "id": "1d922c9c",
   "metadata": {},
   "outputs": [],
   "source": [
    "i = 0\n",
    "while i < 4:\n",
    "    print ('condition true: i = ', i)\n",
    "    i = i + 1"
   ]
  },
  {
   "cell_type": "markdown",
   "id": "99a1aedd",
   "metadata": {},
   "source": [
    "**Boolean casting**: 0,1 (and all other values)"
   ]
  },
  {
   "cell_type": "code",
   "execution_count": null,
   "id": "5f3317ac",
   "metadata": {},
   "outputs": [],
   "source": [
    "int(True)"
   ]
  },
  {
   "cell_type": "code",
   "execution_count": null,
   "id": "80726a2a",
   "metadata": {},
   "outputs": [],
   "source": [
    "int(False)"
   ]
  },
  {
   "cell_type": "code",
   "execution_count": null,
   "id": "eec021bd",
   "metadata": {},
   "outputs": [],
   "source": [
    "float(True)"
   ]
  },
  {
   "cell_type": "code",
   "execution_count": null,
   "id": "22d88380",
   "metadata": {},
   "outputs": [],
   "source": [
    "float(False)"
   ]
  },
  {
   "cell_type": "code",
   "execution_count": null,
   "id": "92cb8c6b",
   "metadata": {},
   "outputs": [],
   "source": [
    "bool(0)"
   ]
  },
  {
   "cell_type": "code",
   "execution_count": null,
   "id": "b796b61e",
   "metadata": {},
   "outputs": [],
   "source": [
    "bool(1)"
   ]
  },
  {
   "cell_type": "code",
   "execution_count": null,
   "id": "9d970c75",
   "metadata": {},
   "outputs": [],
   "source": [
    "bool(0.0)"
   ]
  },
  {
   "cell_type": "code",
   "execution_count": null,
   "id": "be82e980",
   "metadata": {},
   "outputs": [],
   "source": [
    "bool(1.0)"
   ]
  },
  {
   "cell_type": "code",
   "execution_count": null,
   "id": "960d0985",
   "metadata": {},
   "outputs": [],
   "source": [
    "bool(10.5)"
   ]
  },
  {
   "cell_type": "code",
   "execution_count": null,
   "id": "7c26c439",
   "metadata": {},
   "outputs": [],
   "source": [
    "bool(-2)"
   ]
  },
  {
   "cell_type": "markdown",
   "id": "4e79f611",
   "metadata": {},
   "source": [
    "### 1.3 Strings\n",
    "\n",
    "Strings are used to represent text. In banking, strings might be used to store account holder names, transaction descriptions, etc."
   ]
  },
  {
   "cell_type": "code",
   "execution_count": 3,
   "id": "225b3f65",
   "metadata": {},
   "outputs": [
    {
     "name": "stdout",
     "output_type": "stream",
     "text": [
      "Account Holder: John Doe\n",
      "Account Number: 1234567890\n"
     ]
    }
   ],
   "source": [
    "# Example: Representing account holder information\n",
    "account_holder = \"John Doe\"\n",
    "account_number = \"1234567890\"\n",
    "\n",
    "print(\"Account Holder:\", account_holder)\n",
    "print(\"Account Number:\", account_number)"
   ]
  },
  {
   "cell_type": "markdown",
   "id": "c3b67f5a",
   "metadata": {},
   "source": [
    "**Built-in methods**\n",
    "\n",
    "| Method |\n",
    "| --- |\n",
    "| `capitalize()` |\n",
    "| `count()` |\n",
    "| `find()` |\n",
    "| `join()` |\n",
    "| `replace()` |\n",
    "| `split()` |\n",
    "| `upper()` |"
   ]
  },
  {
   "cell_type": "code",
   "execution_count": null,
   "id": "718eceec",
   "metadata": {},
   "outputs": [],
   "source": [
    "t = 'this is a string object'"
   ]
  },
  {
   "cell_type": "code",
   "execution_count": null,
   "id": "7a4ea596",
   "metadata": {},
   "outputs": [],
   "source": [
    "t.capitalize()"
   ]
  },
  {
   "cell_type": "code",
   "execution_count": null,
   "id": "a170d573",
   "metadata": {},
   "outputs": [],
   "source": [
    "t.split()"
   ]
  },
  {
   "cell_type": "code",
   "execution_count": null,
   "id": "d28d495a",
   "metadata": {},
   "outputs": [],
   "source": [
    "t.find('string')"
   ]
  },
  {
   "cell_type": "code",
   "execution_count": null,
   "id": "e6943668",
   "metadata": {},
   "outputs": [],
   "source": [
    "t.replace(' ','|')"
   ]
  },
  {
   "cell_type": "markdown",
   "id": "2cff5a76",
   "metadata": {},
   "source": [
    "**Printing** `print()`"
   ]
  },
  {
   "cell_type": "code",
   "execution_count": null,
   "id": "70fca7e5",
   "metadata": {},
   "outputs": [],
   "source": [
    "print('Hello World!')"
   ]
  },
  {
   "cell_type": "code",
   "execution_count": null,
   "id": "488c1d43",
   "metadata": {},
   "outputs": [],
   "source": [
    "print (t)"
   ]
  },
  {
   "cell_type": "code",
   "execution_count": null,
   "id": "7037126c",
   "metadata": {},
   "outputs": [],
   "source": [
    "i = 0\n",
    "while i < 4:\n",
    "    print (i)\n",
    "    i = i + 1"
   ]
  },
  {
   "cell_type": "code",
   "execution_count": null,
   "id": "d8ba3cac",
   "metadata": {},
   "outputs": [],
   "source": [
    "i = 0\n",
    "while i < 4:\n",
    "    print (i, end = '|')\n",
    "    i = i + 1"
   ]
  },
  {
   "cell_type": "markdown",
   "id": "ac88d3db",
   "metadata": {},
   "source": [
    "**Replacements**"
   ]
  },
  {
   "cell_type": "code",
   "execution_count": null,
   "id": "e190800e",
   "metadata": {},
   "outputs": [],
   "source": [
    "a = 10\n",
    "print('this is the value of a:', a)"
   ]
  },
  {
   "cell_type": "code",
   "execution_count": null,
   "id": "a19bc2bc",
   "metadata": {},
   "outputs": [],
   "source": [
    "tt = 'this is the value of a: ' + str(a)"
   ]
  },
  {
   "cell_type": "code",
   "execution_count": null,
   "id": "c0d0cca8",
   "metadata": {},
   "outputs": [],
   "source": [
    "print (tt)"
   ]
  },
  {
   "cell_type": "markdown",
   "id": "e051710c",
   "metadata": {},
   "source": [
    "---"
   ]
  },
  {
   "cell_type": "markdown",
   "id": "4faffcbe",
   "metadata": {},
   "source": [
    "## Basic structures"
   ]
  },
  {
   "cell_type": "markdown",
   "id": "6effe56a",
   "metadata": {},
   "source": [
    "### Tuples\n",
    "Tuples are immutable lists (i.e., cannot be changed after creation). Tuples might be used to store fixed data like the coordinates of a branch location."
   ]
  },
  {
   "cell_type": "code",
   "execution_count": 4,
   "id": "d0308b3e",
   "metadata": {},
   "outputs": [
    {
     "name": "stdout",
     "output_type": "stream",
     "text": [
      "Branch Location: (40.7128, -74.006)\n"
     ]
    }
   ],
   "source": [
    "# Example: Coordinates of a bank branch\n",
    "branch_location = (40.7128, -74.0060)  # New York City coordinates\n",
    "print(\"Branch Location:\", branch_location)"
   ]
  },
  {
   "cell_type": "code",
   "execution_count": 3,
   "id": "647882c0",
   "metadata": {},
   "outputs": [
    {
     "data": {
      "text/plain": [
       "tuple"
      ]
     },
     "execution_count": 3,
     "metadata": {},
     "output_type": "execute_result"
    }
   ],
   "source": [
    "t = (1, 2.5, 'data')\n",
    "type(t)"
   ]
  },
  {
   "cell_type": "code",
   "execution_count": 4,
   "id": "d72b87d4",
   "metadata": {},
   "outputs": [
    {
     "data": {
      "text/plain": [
       "tuple"
      ]
     },
     "execution_count": 4,
     "metadata": {},
     "output_type": "execute_result"
    }
   ],
   "source": [
    "#also works without ()\n",
    "t = 1, 2.5, 'data'\n",
    "type(t)"
   ]
  },
  {
   "cell_type": "code",
   "execution_count": 6,
   "id": "c1f61beb",
   "metadata": {},
   "outputs": [
    {
     "data": {
      "text/plain": [
       "'data'"
      ]
     },
     "execution_count": 6,
     "metadata": {},
     "output_type": "execute_result"
    }
   ],
   "source": [
    "#indexing\n",
    "t[2]"
   ]
  },
  {
   "cell_type": "code",
   "execution_count": 7,
   "id": "c0fe90d9",
   "metadata": {},
   "outputs": [
    {
     "data": {
      "text/plain": [
       "str"
      ]
     },
     "execution_count": 7,
     "metadata": {},
     "output_type": "execute_result"
    }
   ],
   "source": [
    "type(t[2])"
   ]
  },
  {
   "cell_type": "markdown",
   "id": "7995e487",
   "metadata": {},
   "source": [
    "### Lists\n",
    "Lists are ordered collections of items, which can be of mixed data types. They are often used to store a sequence of transactions or balances."
   ]
  },
  {
   "cell_type": "code",
   "execution_count": 5,
   "id": "a75be516",
   "metadata": {},
   "outputs": [
    {
     "name": "stdout",
     "output_type": "stream",
     "text": [
      "Transactions: [100, -50, 200, -30, 400]\n",
      "Updated Transactions: [100, -50, 200, -30, 400, -100]\n"
     ]
    }
   ],
   "source": [
    "# Example: List of recent transactions\n",
    "transactions = [100, -50, 200, -30, 400]\n",
    "print(\"Transactions:\", transactions)\n",
    "\n",
    "# Adding a new transaction\n",
    "transactions.append(-100)\n",
    "print(\"Updated Transactions:\", transactions)"
   ]
  },
  {
   "cell_type": "code",
   "execution_count": 22,
   "id": "1d14c6c6",
   "metadata": {},
   "outputs": [
    {
     "data": {
      "text/plain": [
       "'data'"
      ]
     },
     "execution_count": 22,
     "metadata": {},
     "output_type": "execute_result"
    }
   ],
   "source": [
    "l = [1, 2.5, 'data']\n",
    "l[2]"
   ]
  },
  {
   "cell_type": "code",
   "execution_count": 23,
   "id": "81fc7a2c",
   "metadata": {},
   "outputs": [
    {
     "data": {
      "text/plain": [
       "[1, 2.5, 'data']"
      ]
     },
     "execution_count": 23,
     "metadata": {},
     "output_type": "execute_result"
    }
   ],
   "source": [
    "#casting\n",
    "l = list(t)\n",
    "l"
   ]
  },
  {
   "cell_type": "code",
   "execution_count": 24,
   "id": "14c3acc2",
   "metadata": {},
   "outputs": [
    {
     "data": {
      "text/plain": [
       "list"
      ]
     },
     "execution_count": 24,
     "metadata": {},
     "output_type": "execute_result"
    }
   ],
   "source": [
    "type (l)"
   ]
  },
  {
   "cell_type": "markdown",
   "id": "91c58062",
   "metadata": {},
   "source": [
    "**Built-in methods**\n",
    "\n",
    "*contrary to tuples, lists are mutable containers*\n",
    "\n",
    "| Method |\n",
    "| --- |\n",
    "| `l[i] = x` |\n",
    "| `l[i:j:k] = s` |\n",
    "| `append()` |\n",
    "| `count()` |\n",
    "| `del l[i:j:k]` |\n",
    "| `index()` |\n",
    "| `extend()` |\n",
    "| `insert()` |\n",
    "| `remove()` |\n",
    "| `pop()` |\n",
    "| `revers()` |\n",
    "| `sort()` |"
   ]
  },
  {
   "cell_type": "code",
   "execution_count": 30,
   "id": "1eb83127",
   "metadata": {},
   "outputs": [
    {
     "data": {
      "text/plain": [
       "[1, 'insert', 2.5, 1.0, 1.5, 2.0, [4, 3]]"
      ]
     },
     "execution_count": 30,
     "metadata": {},
     "output_type": "execute_result"
    }
   ],
   "source": [
    "l.append([4,3])\n",
    "l"
   ]
  },
  {
   "cell_type": "code",
   "execution_count": 26,
   "id": "e7bf8d9c",
   "metadata": {},
   "outputs": [
    {
     "data": {
      "text/plain": [
       "[1, 2.5, 'data', [4, 3], 1.0, 1.5, 2.0]"
      ]
     },
     "execution_count": 26,
     "metadata": {},
     "output_type": "execute_result"
    }
   ],
   "source": [
    "l.extend([1.0, 1.5, 2.0])\n",
    "l"
   ]
  },
  {
   "cell_type": "code",
   "execution_count": 27,
   "id": "7cc71853",
   "metadata": {},
   "outputs": [
    {
     "data": {
      "text/plain": [
       "[1, 'insert', 2.5, 'data', [4, 3], 1.0, 1.5, 2.0]"
      ]
     },
     "execution_count": 27,
     "metadata": {},
     "output_type": "execute_result"
    }
   ],
   "source": [
    "l.insert(1,'insert')\n",
    "l"
   ]
  },
  {
   "cell_type": "code",
   "execution_count": 28,
   "id": "39436f5c",
   "metadata": {},
   "outputs": [
    {
     "data": {
      "text/plain": [
       "[1, 'insert', 2.5, [4, 3], 1.0, 1.5, 2.0]"
      ]
     },
     "execution_count": 28,
     "metadata": {},
     "output_type": "execute_result"
    }
   ],
   "source": [
    "l.remove('data')\n",
    "l"
   ]
  },
  {
   "cell_type": "code",
   "execution_count": 29,
   "id": "417242c1",
   "metadata": {},
   "outputs": [
    {
     "name": "stdout",
     "output_type": "stream",
     "text": [
      "[1, 'insert', 2.5, 1.0, 1.5, 2.0] [4, 3]\n"
     ]
    }
   ],
   "source": [
    "p = l.pop(3)\n",
    "print (l, p)"
   ]
  },
  {
   "cell_type": "code",
   "execution_count": 32,
   "id": "8f8d283f",
   "metadata": {},
   "outputs": [
    {
     "data": {
      "text/plain": [
       "[2.5, 1.0, 1.5]"
      ]
     },
     "execution_count": 32,
     "metadata": {},
     "output_type": "execute_result"
    }
   ],
   "source": [
    "#slicing\n",
    "l[2:5]"
   ]
  },
  {
   "cell_type": "markdown",
   "id": "af74b1f9",
   "metadata": {},
   "source": [
    "### Dicts\n",
    "Dictionaries store data as key-value pairs. They are useful for storing information where you need to associate keys (like account numbers) with values (like account balances)."
   ]
  },
  {
   "cell_type": "code",
   "execution_count": 6,
   "id": "10e89fec",
   "metadata": {},
   "outputs": [
    {
     "name": "stdout",
     "output_type": "stream",
     "text": [
      "Account Balances: {'1234567890': 1000, '0987654321': 2500, '1122334455': 750}\n",
      "Balance of account 1234567890: 1000\n"
     ]
    }
   ],
   "source": [
    "# Example: Dictionary of account balances\n",
    "account_balances = {\n",
    "    \"1234567890\": 1000,\n",
    "    \"0987654321\": 2500,\n",
    "    \"1122334455\": 750\n",
    "}\n",
    "print(\"Account Balances:\", account_balances)\n",
    "\n",
    "# Accessing a balance by account number\n",
    "print(\"Balance of account 1234567890:\", account_balances[\"1234567890\"])"
   ]
  },
  {
   "cell_type": "markdown",
   "id": "f8dadcd8",
   "metadata": {},
   "source": [
    "**Keys and values**"
   ]
  },
  {
   "cell_type": "code",
   "execution_count": 7,
   "id": "35f91539",
   "metadata": {},
   "outputs": [],
   "source": [
    "d = {\n",
    "    'Name' : 'Iron Man',\n",
    "    'Country' : 'USA',\n",
    "    'Profession' : 'Super Hero',\n",
    "    'Age' : 36\n",
    "}"
   ]
  },
  {
   "cell_type": "code",
   "execution_count": 8,
   "id": "7615ad53",
   "metadata": {},
   "outputs": [
    {
     "data": {
      "text/plain": [
       "dict"
      ]
     },
     "execution_count": 8,
     "metadata": {},
     "output_type": "execute_result"
    }
   ],
   "source": [
    "type(d)"
   ]
  },
  {
   "cell_type": "code",
   "execution_count": 9,
   "id": "c1846a10",
   "metadata": {},
   "outputs": [
    {
     "name": "stdout",
     "output_type": "stream",
     "text": [
      "Tarik Roukny 36\n"
     ]
    }
   ],
   "source": [
    "print (d['Name'], d['Age'])"
   ]
  },
  {
   "cell_type": "markdown",
   "id": "c2501e6c",
   "metadata": {},
   "source": [
    "**Built-in methods**\n",
    "\n",
    "*contrary to tuples, lists are mutable containers*\n",
    "\n",
    "| Method |\n",
    "| --- |\n",
    "| `d[k]` |\n",
    "| `d[k] = x` |\n",
    "| `del d[k]` |\n",
    "| `clear()` |\n",
    "| `copy()` |\n",
    "| `items()` |\n",
    "| `keys()` |\n",
    "| `values()` |\n",
    "| `popitem()` |\n",
    "| `update()` |"
   ]
  },
  {
   "cell_type": "code",
   "execution_count": 56,
   "id": "0173abd1",
   "metadata": {},
   "outputs": [
    {
     "data": {
      "text/plain": [
       "dict_keys(['Name', 'Country', 'Profession', 'Age'])"
      ]
     },
     "execution_count": 56,
     "metadata": {},
     "output_type": "execute_result"
    }
   ],
   "source": [
    "d.keys()"
   ]
  },
  {
   "cell_type": "code",
   "execution_count": 57,
   "id": "06584db8",
   "metadata": {},
   "outputs": [
    {
     "data": {
      "text/plain": [
       "dict_values(['Angela Merkel', 'Germany', 'Chancelor', 64])"
      ]
     },
     "execution_count": 57,
     "metadata": {},
     "output_type": "execute_result"
    }
   ],
   "source": [
    "d.values()"
   ]
  },
  {
   "cell_type": "code",
   "execution_count": 58,
   "id": "b738bf6d",
   "metadata": {},
   "outputs": [
    {
     "data": {
      "text/plain": [
       "dict_items([('Name', 'Angela Merkel'), ('Country', 'Germany'), ('Profession', 'Chancelor'), ('Age', 64)])"
      ]
     },
     "execution_count": 58,
     "metadata": {},
     "output_type": "execute_result"
    }
   ],
   "source": [
    "d.items()"
   ]
  },
  {
   "cell_type": "code",
   "execution_count": 59,
   "id": "38060be8",
   "metadata": {},
   "outputs": [
    {
     "name": "stdout",
     "output_type": "stream",
     "text": [
      "65\n"
     ]
    }
   ],
   "source": [
    "birthday = True\n",
    "if birthday:\n",
    "    d['Age'] += 1\n",
    "print (d['Age'])"
   ]
  },
  {
   "cell_type": "code",
   "execution_count": 60,
   "id": "db7ebdcc",
   "metadata": {},
   "outputs": [
    {
     "name": "stdout",
     "output_type": "stream",
     "text": [
      "('Name', 'Angela Merkel')\n",
      "('Country', 'Germany')\n",
      "('Profession', 'Chancelor')\n",
      "('Age', 65)\n"
     ]
    }
   ],
   "source": [
    "for item in d.items():\n",
    "    print (item)"
   ]
  },
  {
   "cell_type": "code",
   "execution_count": 61,
   "id": "7fb2121e",
   "metadata": {
    "scrolled": true
   },
   "outputs": [
    {
     "name": "stdout",
     "output_type": "stream",
     "text": [
      "<class 'str'>\n",
      "<class 'str'>\n",
      "<class 'str'>\n",
      "<class 'int'>\n"
     ]
    }
   ],
   "source": [
    "for value in d.values():\n",
    "    print (type(value))"
   ]
  },
  {
   "cell_type": "markdown",
   "id": "e0b1183e",
   "metadata": {},
   "source": [
    "### Sets\n",
    "Sets are unordered collections of unique items. They can be used to store unique account numbers or customer IDs."
   ]
  },
  {
   "cell_type": "code",
   "execution_count": 63,
   "id": "8afc898c",
   "metadata": {},
   "outputs": [
    {
     "data": {
      "text/plain": [
       "{'d', 'du', 'u', 'ud'}"
      ]
     },
     "execution_count": 63,
     "metadata": {},
     "output_type": "execute_result"
    }
   ],
   "source": [
    "s = set(['u', 'd', 'ud', 'du', 'd', 'du'])\n",
    "s"
   ]
  },
  {
   "cell_type": "markdown",
   "id": "75dbd629",
   "metadata": {},
   "source": [
    "**Set operations**"
   ]
  },
  {
   "cell_type": "code",
   "execution_count": 64,
   "id": "bb04e176",
   "metadata": {},
   "outputs": [],
   "source": [
    "t = set(['d', 'dd', 'uu', 'u'])"
   ]
  },
  {
   "cell_type": "code",
   "execution_count": 65,
   "id": "1e397a13",
   "metadata": {},
   "outputs": [
    {
     "data": {
      "text/plain": [
       "{'d', 'dd', 'du', 'u', 'ud', 'uu'}"
      ]
     },
     "execution_count": 65,
     "metadata": {},
     "output_type": "execute_result"
    }
   ],
   "source": [
    "s.union(t)"
   ]
  },
  {
   "cell_type": "code",
   "execution_count": 66,
   "id": "991c9c29",
   "metadata": {},
   "outputs": [
    {
     "data": {
      "text/plain": [
       "{'d', 'u'}"
      ]
     },
     "execution_count": 66,
     "metadata": {},
     "output_type": "execute_result"
    }
   ],
   "source": [
    "s.intersection(t)"
   ]
  },
  {
   "cell_type": "code",
   "execution_count": 67,
   "id": "a0ff3c83",
   "metadata": {},
   "outputs": [
    {
     "data": {
      "text/plain": [
       "{'du', 'ud'}"
      ]
     },
     "execution_count": 67,
     "metadata": {},
     "output_type": "execute_result"
    }
   ],
   "source": [
    "s.difference(t)"
   ]
  },
  {
   "cell_type": "code",
   "execution_count": 68,
   "id": "843c95e8",
   "metadata": {},
   "outputs": [
    {
     "data": {
      "text/plain": [
       "{'dd', 'uu'}"
      ]
     },
     "execution_count": 68,
     "metadata": {},
     "output_type": "execute_result"
    }
   ],
   "source": [
    "t.difference(s)"
   ]
  },
  {
   "cell_type": "code",
   "execution_count": 69,
   "id": "7292b6d1",
   "metadata": {},
   "outputs": [
    {
     "data": {
      "text/plain": [
       "{'dd', 'du', 'ud', 'uu'}"
      ]
     },
     "execution_count": 69,
     "metadata": {},
     "output_type": "execute_result"
    }
   ],
   "source": [
    "s.symmetric_difference(t)"
   ]
  },
  {
   "cell_type": "markdown",
   "id": "85a22c71",
   "metadata": {},
   "source": [
    "---"
   ]
  },
  {
   "cell_type": "markdown",
   "id": "50a2f634",
   "metadata": {
    "heading_collapsed": true
   },
   "source": [
    "# Exercises"
   ]
  },
  {
   "cell_type": "markdown",
   "id": "6ef9247a",
   "metadata": {
    "hidden": true
   },
   "source": [
    "**Exercise 1: Store and Calculate Interest**\n",
    "\n",
    "Create variables to store a principal amount (integer), interest rate (float), and time period (integer). Then calculate and print the interest using the formula:\n",
    "\n",
    "$$\n",
    "\\text{Interest} = \\text{Principal} \\times \\frac{\\text{Rate}}{100} \\times \\text{Time}\n",
    "$$"
   ]
  },
  {
   "cell_type": "code",
   "execution_count": 11,
   "id": "6f19596a",
   "metadata": {
    "hidden": true
   },
   "outputs": [],
   "source": [
    "# Your code here"
   ]
  },
  {
   "cell_type": "markdown",
   "id": "eab758fd",
   "metadata": {
    "hidden": true
   },
   "source": [
    "**Exercise 2: Create a List of Transactions**\n",
    "\n",
    "Create a list called transactions that contains at least five different transaction amounts (both positive and negative). Then, print the total of these transactions using the sum() function."
   ]
  },
  {
   "cell_type": "code",
   "execution_count": 12,
   "id": "a20b069b",
   "metadata": {
    "hidden": true
   },
   "outputs": [],
   "source": [
    "# Your code here"
   ]
  },
  {
   "cell_type": "markdown",
   "id": "980f2f8b",
   "metadata": {
    "hidden": true
   },
   "source": [
    "**Exercise 3: Create and Access a Dictionary of Balances**\n",
    "\n",
    "Create a dictionary called balances where the keys are account numbers (as strings) and the values are the corresponding account balances. Then, retrieve and print the balance for a specific account number."
   ]
  },
  {
   "cell_type": "code",
   "execution_count": 13,
   "id": "05a0760b",
   "metadata": {
    "hidden": true
   },
   "outputs": [],
   "source": [
    "# Your code here"
   ]
  },
  {
   "cell_type": "markdown",
   "id": "aad64324",
   "metadata": {
    "hidden": true
   },
   "source": [
    "**Exercise 4: Work with a Set of Customer IDs**\n",
    "\n",
    "Create a set called customer_ids that contains unique customer IDs. Add a new customer ID to the set, and then print the updated set. Ensure that duplicate IDs are not added."
   ]
  },
  {
   "cell_type": "code",
   "execution_count": 14,
   "id": "938746df",
   "metadata": {
    "hidden": true
   },
   "outputs": [],
   "source": [
    "# Your code here"
   ]
  },
  {
   "cell_type": "markdown",
   "id": "31aed4e7",
   "metadata": {
    "hidden": true
   },
   "source": [
    "**Exercise 5: Create a Tuple for a Bank Branch Location**\n",
    "\n",
    "Create a tuple called branch_location that contains the latitude and longitude of a bank branch. Then, print this location."
   ]
  },
  {
   "cell_type": "code",
   "execution_count": null,
   "id": "f9203b51",
   "metadata": {
    "hidden": true
   },
   "outputs": [],
   "source": [
    "# Your code here"
   ]
  }
 ],
 "metadata": {
  "kernelspec": {
   "display_name": "Python 3 (ipykernel)",
   "language": "python",
   "name": "python3"
  },
  "language_info": {
   "codemirror_mode": {
    "name": "ipython",
    "version": 3
   },
   "file_extension": ".py",
   "mimetype": "text/x-python",
   "name": "python",
   "nbconvert_exporter": "python",
   "pygments_lexer": "ipython3",
   "version": "3.9.12"
  }
 },
 "nbformat": 4,
 "nbformat_minor": 5
}
