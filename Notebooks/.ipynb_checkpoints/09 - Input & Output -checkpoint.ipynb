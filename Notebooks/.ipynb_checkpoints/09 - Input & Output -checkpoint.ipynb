{
 "cells": [
  {
   "cell_type": "markdown",
   "id": "9afa4df2",
   "metadata": {
    "slideshow": {
     "slide_type": "slide"
    }
   },
   "source": [
    "# Lecture 09 - Input and Output (I/O) Operations"
   ]
  },
  {
   "cell_type": "markdown",
   "id": "1327b793",
   "metadata": {
    "slideshow": {
     "slide_type": "slide"
    }
   },
   "source": [
    "## 1. Overview"
   ]
  },
  {
   "cell_type": "markdown",
   "id": "c508327c",
   "metadata": {
    "slideshow": {
     "slide_type": "slide"
    }
   },
   "source": [
    "**Input and output operations** (I/O) are essential in programming. \n",
    "\n",
    "They allow programs to \n",
    "- **Interact** live with users\n",
    "- Take data as **input**\n",
    "- Display or save the results as **output**"
   ]
  },
  {
   "cell_type": "markdown",
   "id": "2e80f02f",
   "metadata": {},
   "source": [
    "This notebook covers\n",
    "- How to take input from users\n",
    "- How to display output using the `print()` function\n",
    "- File I/O operations: reading from and writing to files\n",
    "- Handling CSV files with basic file operations\n",
    "- Working with CSV/Excel files using `pandas`"
   ]
  },
  {
   "cell_type": "markdown",
   "id": "683ba2db",
   "metadata": {
    "slideshow": {
     "slide_type": "slide"
    }
   },
   "source": [
    "## 2. Live inputs"
   ]
  },
  {
   "cell_type": "markdown",
   "id": "aac6c3b8",
   "metadata": {
    "slideshow": {
     "slide_type": "slide"
    }
   },
   "source": [
    "### 2.1 The `input()` function"
   ]
  },
  {
   "cell_type": "markdown",
   "id": "eeef92f0",
   "metadata": {},
   "source": [
    "The `input()` function allows the user to provide input to the program while running by returning the input as a `string`."
   ]
  },
  {
   "cell_type": "code",
   "execution_count": 1,
   "id": "28e6bd34",
   "metadata": {},
   "outputs": [
    {
     "name": "stdout",
     "output_type": "stream",
     "text": [
      "What is your name? Tarik\n",
      "Hello, Tarik!\n"
     ]
    }
   ],
   "source": [
    "# Example: Asking for user input\n",
    "name = input(\"What is your name? \")\n",
    "print(\"Hello, \" + name + \"!\")"
   ]
  },
  {
   "cell_type": "markdown",
   "id": "a4ffb96f",
   "metadata": {
    "slideshow": {
     "slide_type": "slide"
    }
   },
   "source": [
    "### 2.2 Casting inputs"
   ]
  },
  {
   "cell_type": "markdown",
   "id": "9af241dc",
   "metadata": {},
   "source": [
    "Results from `input()` can be casted from `string` to other data types (`int`, `float`, etc.)."
   ]
  },
  {
   "cell_type": "code",
   "execution_count": 2,
   "id": "9693ed73",
   "metadata": {},
   "outputs": [
    {
     "name": "stdout",
     "output_type": "stream",
     "text": [
      "How old are you? 35\n",
      "You are 35 years old.\n",
      "You were born in  1989\n"
     ]
    }
   ],
   "source": [
    "# Example: Taking a number as input\n",
    "age = int(input(\"How old are you? \"))  # Convert input to an integer\n",
    "print(\"You are\", age, \"years old.\")\n",
    "print (\"You were born in \", 2024 - age)"
   ]
  },
  {
   "cell_type": "code",
   "execution_count": 3,
   "id": "9592c4c9",
   "metadata": {},
   "outputs": [
    {
     "name": "stdout",
     "output_type": "stream",
     "text": [
      "Enter your account balance: 70\n",
      "Your balance is $ 70.0\n"
     ]
    }
   ],
   "source": [
    "# Example: Taking a float as input\n",
    "balance = float(input(\"Enter your account balance: \"))\n",
    "print(\"Your balance is $\", balance)"
   ]
  },
  {
   "cell_type": "markdown",
   "id": "9990ddfd",
   "metadata": {
    "slideshow": {
     "slide_type": "slide"
    }
   },
   "source": [
    "### 2.3 Multiple inputs"
   ]
  },
  {
   "cell_type": "markdown",
   "id": "0e74611e",
   "metadata": {},
   "source": [
    "When multiple inputs are entered, they are returned in one line. They can be then separated into separate items using `split()`."
   ]
  },
  {
   "cell_type": "code",
   "execution_count": 4,
   "id": "509ae857",
   "metadata": {},
   "outputs": [],
   "source": [
    "string = \"hello my name is tarik\""
   ]
  },
  {
   "cell_type": "code",
   "execution_count": 5,
   "id": "c73d17ce",
   "metadata": {},
   "outputs": [
    {
     "data": {
      "text/plain": [
       "['hello', 'my', 'name', 'is', 'tarik']"
      ]
     },
     "execution_count": 5,
     "metadata": {},
     "output_type": "execute_result"
    }
   ],
   "source": [
    "string.split()"
   ]
  },
  {
   "cell_type": "code",
   "execution_count": 6,
   "id": "3bad3c0a",
   "metadata": {},
   "outputs": [
    {
     "name": "stdout",
     "output_type": "stream",
     "text": [
      "Enter your first and last name: Tarik Roukny\n",
      "Hello, Tarik Roukny\n"
     ]
    }
   ],
   "source": [
    "# Example: Taking multiple inputs\n",
    "first_name, last_name = input(\"Enter your first and last name: \").split()\n",
    "print(\"Hello, \" + first_name + \" \" + last_name)"
   ]
  },
  {
   "cell_type": "markdown",
   "id": "ce232e76",
   "metadata": {
    "slideshow": {
     "slide_type": "slide"
    }
   },
   "source": [
    "## 3. Live output"
   ]
  },
  {
   "cell_type": "markdown",
   "id": "0e38c3c9",
   "metadata": {
    "slideshow": {
     "slide_type": "slide"
    }
   },
   "source": [
    "### 3.1 The `print()` function"
   ]
  },
  {
   "cell_type": "markdown",
   "id": "4cadcea5",
   "metadata": {},
   "source": [
    "The `print()` function displays outputs in the prompt terminal."
   ]
  },
  {
   "cell_type": "code",
   "execution_count": 7,
   "id": "1fc786bf",
   "metadata": {},
   "outputs": [
    {
     "name": "stdout",
     "output_type": "stream",
     "text": [
      "Hello, world!\n"
     ]
    }
   ],
   "source": [
    "# Example: Basic output using print()\n",
    "print(\"Hello, world!\")"
   ]
  },
  {
   "cell_type": "markdown",
   "id": "2ea22f0b",
   "metadata": {
    "slideshow": {
     "slide_type": "slide"
    }
   },
   "source": [
    "### 3.2 Printing variables and expressions"
   ]
  },
  {
   "cell_type": "markdown",
   "id": "e86a3c0d",
   "metadata": {},
   "source": [
    "The `print()` handles variables and expressions."
   ]
  },
  {
   "cell_type": "code",
   "execution_count": 8,
   "id": "c899ee69",
   "metadata": {},
   "outputs": [
    {
     "name": "stdout",
     "output_type": "stream",
     "text": [
      "Name: Alice Age: 25\n"
     ]
    }
   ],
   "source": [
    "# Example: Printing variables\n",
    "name = \"Alice\"\n",
    "age = 25\n",
    "print(\"Name:\", name, \"Age:\", age)"
   ]
  },
  {
   "cell_type": "markdown",
   "id": "b277dd3c",
   "metadata": {
    "slideshow": {
     "slide_type": "slide"
    }
   },
   "source": [
    "#### String formatting"
   ]
  },
  {
   "cell_type": "markdown",
   "id": "2d4f290a",
   "metadata": {},
   "source": [
    "`Python` provides several ways to format outputs as a combination of strings and variables."
   ]
  },
  {
   "cell_type": "markdown",
   "id": "9f3907fc",
   "metadata": {},
   "source": [
    "- **Using commas:**\n",
    "\n",
    "        print(\"string\", variable, \"string\", etc.)"
   ]
  },
  {
   "cell_type": "code",
   "execution_count": 9,
   "id": "d570eeb6",
   "metadata": {},
   "outputs": [
    {
     "name": "stdout",
     "output_type": "stream",
     "text": [
      "Your balance is 70.0 dollars.\n"
     ]
    }
   ],
   "source": [
    "# Example: Using commas\n",
    "print(\"Your balance is\", balance, \"dollars.\")"
   ]
  },
  {
   "cell_type": "markdown",
   "id": "a9d39d2b",
   "metadata": {
    "slideshow": {
     "slide_type": "slide"
    }
   },
   "source": [
    "- **Using f-strings (available in Python 3.6+):**\n",
    "\n",
    "        print (f\"string {variable}\")"
   ]
  },
  {
   "cell_type": "code",
   "execution_count": 10,
   "id": "27ee82ba",
   "metadata": {},
   "outputs": [
    {
     "name": "stdout",
     "output_type": "stream",
     "text": [
      "Hello, Alice. You are 25 years old.\n"
     ]
    }
   ],
   "source": [
    "# Example: Using f-strings\n",
    "print(f\"Hello, {name}. You are {age} years old.\")"
   ]
  },
  {
   "cell_type": "markdown",
   "id": "48ce8699",
   "metadata": {},
   "source": [
    "- **Using the `format()` method:**\n",
    "\n",
    "        print (\"string {}, {}\".format(variable1, variable2))"
   ]
  },
  {
   "cell_type": "code",
   "execution_count": 11,
   "id": "fceb780f",
   "metadata": {},
   "outputs": [
    {
     "name": "stdout",
     "output_type": "stream",
     "text": [
      "Hello, Alice. You are 25 years old.\n"
     ]
    }
   ],
   "source": [
    "# Example: Using format()\n",
    "print(\"Hello, {}. You are {} years old.\".format(name, age))"
   ]
  },
  {
   "cell_type": "markdown",
   "id": "063fd111",
   "metadata": {
    "slideshow": {
     "slide_type": "slide"
    }
   },
   "source": [
    "## 4. File input and output (File I/O)"
   ]
  },
  {
   "cell_type": "markdown",
   "id": "a6274e7c",
   "metadata": {
    "slideshow": {
     "slide_type": "slide"
    }
   },
   "source": [
    "Programs can **read from** files and **write to** files. "
   ]
  },
  {
   "cell_type": "markdown",
   "id": "27525d31",
   "metadata": {
    "slideshow": {
     "slide_type": "slide"
    }
   },
   "source": [
    "### 4.1 Opening files"
   ]
  },
  {
   "cell_type": "markdown",
   "id": "6f72a1d3",
   "metadata": {},
   "source": [
    "Before reading from or writing to a file, a file object must be created. The `open()` function opens files and creates access in `Python`.\n",
    "\n",
    "```python\n",
    "    open (name, mode)\n",
    "```\n",
    "- The name (or path) of the file\n",
    "- The access mode (e.g., `'r'` for reading, `'w'` for writing, `'a'` for appending)\n",
    "\n",
    "**Note:** opened files must then be closed with `.close()` to clear the access."
   ]
  },
  {
   "cell_type": "code",
   "execution_count": 13,
   "id": "a7ea5428",
   "metadata": {},
   "outputs": [],
   "source": [
    "file_path = \"Data/09/\"\n",
    "file_name = \"example.txt\"\n",
    "file = open(file_path + file_name, \"r\")  # Open the file in read mode"
   ]
  },
  {
   "cell_type": "markdown",
   "id": "263760b5",
   "metadata": {
    "slideshow": {
     "slide_type": "slide"
    }
   },
   "source": [
    "### 4.2 Reading from"
   ]
  },
  {
   "cell_type": "markdown",
   "id": "159dfcef",
   "metadata": {},
   "source": [
    "Several methods exist for reading file contents, such as `.read()`, `.readline()`, and `.readlines()`."
   ]
  },
  {
   "cell_type": "markdown",
   "id": "d0f481c2",
   "metadata": {},
   "source": [
    "- **`read()`**: Reads the entire file."
   ]
  },
  {
   "cell_type": "code",
   "execution_count": 14,
   "id": "80297933",
   "metadata": {},
   "outputs": [
    {
     "name": "stdout",
     "output_type": "stream",
     "text": [
      "This is a first and simple text.\n",
      "This is the second line of the file.\n",
      "This is the third line.\n",
      "This is the end of the file.\n"
     ]
    }
   ],
   "source": [
    "content = file.read()  # Read the entire file\n",
    "print(content)\n",
    "file.close()  # Close the file after reading"
   ]
  },
  {
   "cell_type": "code",
   "execution_count": 15,
   "id": "4b58ebe1",
   "metadata": {},
   "outputs": [
    {
     "data": {
      "text/plain": [
       "'This is a first and simple text.\\nThis is the second line of the file.\\nThis is the third line.\\nThis is the end of the file.'"
      ]
     },
     "execution_count": 15,
     "metadata": {},
     "output_type": "execute_result"
    }
   ],
   "source": [
    "content"
   ]
  },
  {
   "cell_type": "markdown",
   "id": "14febf0b",
   "metadata": {
    "slideshow": {
     "slide_type": "slide"
    }
   },
   "source": [
    "- **`readline()`**: Reads one line at a time."
   ]
  },
  {
   "cell_type": "code",
   "execution_count": 16,
   "id": "dac66293",
   "metadata": {},
   "outputs": [
    {
     "name": "stdout",
     "output_type": "stream",
     "text": [
      "This is a first and simple text.\n",
      "This is the second line of the file.\n",
      "This is the third line.\n",
      "This is the end of the file.\n"
     ]
    }
   ],
   "source": [
    "file = open(file_path + file_name, \"r\")\n",
    "line = file.readline()\n",
    "while line:\n",
    "    print(line.strip())  # Remove newline characters\n",
    "    line = file.readline()\n",
    "file.close()"
   ]
  },
  {
   "cell_type": "markdown",
   "id": "52dcb6d4",
   "metadata": {
    "slideshow": {
     "slide_type": "slide"
    }
   },
   "source": [
    "- **`readlines()`**: Reads all lines and returns them as a list."
   ]
  },
  {
   "cell_type": "code",
   "execution_count": 18,
   "id": "e3fe318b",
   "metadata": {},
   "outputs": [
    {
     "data": {
      "text/plain": [
       "['This is a first and simple text.\\n',\n",
       " 'This is the second line of the file.\\n',\n",
       " 'This is the third line.\\n',\n",
       " 'This is the end of the file.']"
      ]
     },
     "execution_count": 18,
     "metadata": {},
     "output_type": "execute_result"
    }
   ],
   "source": [
    "lines"
   ]
  },
  {
   "cell_type": "code",
   "execution_count": 17,
   "id": "7039a4ec",
   "metadata": {
    "scrolled": true
   },
   "outputs": [
    {
     "name": "stdout",
     "output_type": "stream",
     "text": [
      "This is a first and simple text.\n",
      "This is the second line of the file.\n",
      "This is the third line.\n",
      "This is the end of the file.\n"
     ]
    }
   ],
   "source": [
    "file = open(file_path + file_name, \"r\")\n",
    "lines = file.readlines()\n",
    "for line in lines:\n",
    "    print(line.strip())\n",
    "file.close()"
   ]
  },
  {
   "cell_type": "markdown",
   "id": "47a43afb",
   "metadata": {
    "slideshow": {
     "slide_type": "slide"
    }
   },
   "source": [
    "### 4.3 `with` for file handling"
   ]
  },
  {
   "cell_type": "markdown",
   "id": "56ed0c2f",
   "metadata": {},
   "source": [
    "To avoid misusing file access (opening and closing), the `with` statement handles files more efficiently by automatically closing the file after the block of code is executed."
   ]
  },
  {
   "cell_type": "markdown",
   "id": "1ced6f3d",
   "metadata": {},
   "source": [
    "```python\n",
    "    with expression as variable:\n",
    "        # Code block that uses the resource (e.g., a file or connection)\n",
    "```"
   ]
  },
  {
   "cell_type": "code",
   "execution_count": null,
   "id": "95f94ff9",
   "metadata": {},
   "outputs": [],
   "source": [
    "# Example: Using 'with' to handle files\n",
    "with open(file_path + file_name, \"r\") as file:\n",
    "    content = file.read()\n",
    "    print(content)\n",
    "# No need to explicitly close the file; it is done automatically"
   ]
  },
  {
   "cell_type": "markdown",
   "id": "0c5533f3",
   "metadata": {
    "slideshow": {
     "slide_type": "slide"
    }
   },
   "source": [
    "### 4.4 Writing to"
   ]
  },
  {
   "cell_type": "markdown",
   "id": "4e17c6cb",
   "metadata": {},
   "source": [
    "Writing data to a file is done using the `write()` or `writelines()` methods. \n",
    "- The `'w'` (write) mode overwrites the existing content. \n",
    "- The `'a'` (append) mode writes at the end of the file."
   ]
  },
  {
   "cell_type": "markdown",
   "id": "726dc8e0",
   "metadata": {},
   "source": [
    "- **Write mode `m`:**"
   ]
  },
  {
   "cell_type": "code",
   "execution_count": 21,
   "id": "e7f2d66b",
   "metadata": {},
   "outputs": [],
   "source": [
    "# Example: Writing to a file\n",
    "file_name = \"new_file.txt\"\n",
    "with open(file_path + file_name, \"w\") as file: # Open file in write mode\n",
    "    file.write(\"Student Cleiton.\\n\")\n",
    "    file.write(\"Hopefully understands this.\\n\")"
   ]
  },
  {
   "cell_type": "code",
   "execution_count": 22,
   "id": "d2045dca",
   "metadata": {},
   "outputs": [
    {
     "name": "stdout",
     "output_type": "stream",
     "text": [
      "Student Cleiton.\n",
      "Hopefully understands this.\n",
      "\n"
     ]
    }
   ],
   "source": [
    "# checking\n",
    "with open(file_path + file_name, \"r\") as file: # Open file in write mode\n",
    "    print(file.read())"
   ]
  },
  {
   "cell_type": "markdown",
   "id": "75915814",
   "metadata": {
    "slideshow": {
     "slide_type": "slide"
    }
   },
   "source": [
    "- **Append mode `a`:**"
   ]
  },
  {
   "cell_type": "code",
   "execution_count": 25,
   "id": "1ff53c97",
   "metadata": {},
   "outputs": [],
   "source": [
    "# Example: Writing to a file\n",
    "file_name = \"new_file.txt\"\n",
    "with open(file_path + file_name, \"w\") as file: # Open file in write mode\n",
    "    file.write(\"This is the first line.\\n\")\n",
    "    file.write(\"This is the second line.\\n\")\n",
    "    file.write(\"This is an additional line.\\n\")"
   ]
  },
  {
   "cell_type": "code",
   "execution_count": 26,
   "id": "6c65725c",
   "metadata": {},
   "outputs": [
    {
     "name": "stdout",
     "output_type": "stream",
     "text": [
      "This is the first line.\n",
      "This is the second line.\n",
      "This is an additional line.\n",
      "\n"
     ]
    }
   ],
   "source": [
    "# checking\n",
    "with open(file_path + file_name, \"r\") as file: # Open file in write mode\n",
    "    print(file.read())"
   ]
  },
  {
   "cell_type": "markdown",
   "id": "b69d8e85",
   "metadata": {
    "slideshow": {
     "slide_type": "slide"
    }
   },
   "source": [
    "## 5. `.csv` files"
   ]
  },
  {
   "cell_type": "markdown",
   "id": "2af7d68b",
   "metadata": {
    "slideshow": {
     "slide_type": "slide"
    }
   },
   "source": [
    "`CSV` (Comma-Separated Values) files are the standard storing format for **tabular data**. \n",
    "- The firt line contains the name of columns.\n",
    "- Each line is a row where cells are separated by `,`. \n",
    "\n",
    "**Example**: `\"csv_example.csv\"`\n",
    "\n",
    "```\n",
    "    Name,Age,Balance\n",
    "    Alice,30,1000.50\n",
    "    Bob,25,1500.75\n",
    "    Charlie,35,2000.25\n",
    "    Diana,28,1800.60\n",
    "    Eve,22,1200.00\n",
    "```"
   ]
  },
  {
   "cell_type": "markdown",
   "id": "33ce5fd5",
   "metadata": {
    "slideshow": {
     "slide_type": "slide"
    }
   },
   "source": [
    "### 5.1 with `Python`"
   ]
  },
  {
   "cell_type": "markdown",
   "id": "09939716",
   "metadata": {},
   "source": [
    "Handling `.csv` files from `Python` can be done using the `csv` module."
   ]
  },
  {
   "cell_type": "code",
   "execution_count": 27,
   "id": "917d14b6",
   "metadata": {},
   "outputs": [],
   "source": [
    "import csv"
   ]
  },
  {
   "cell_type": "markdown",
   "id": "c4034276",
   "metadata": {
    "slideshow": {
     "slide_type": "slide"
    }
   },
   "source": [
    "#### Reading from"
   ]
  },
  {
   "cell_type": "markdown",
   "id": "e391b198",
   "metadata": {},
   "source": [
    "Reading a `csv` file is done using the `csv.reader()` method."
   ]
  },
  {
   "cell_type": "code",
   "execution_count": 29,
   "id": "a24a3f44",
   "metadata": {},
   "outputs": [
    {
     "data": {
      "text/plain": [
       "<_csv.reader at 0x7f8b587fd3c0>"
      ]
     },
     "execution_count": 29,
     "metadata": {},
     "output_type": "execute_result"
    }
   ],
   "source": [
    "csv_reader"
   ]
  },
  {
   "cell_type": "code",
   "execution_count": 28,
   "id": "d1cc452f",
   "metadata": {},
   "outputs": [
    {
     "name": "stdout",
     "output_type": "stream",
     "text": [
      "['Name', 'Age', 'Balance']\n",
      "['Alice', '30', '1000.50']\n",
      "['Bob', '25', '1500.75']\n",
      "['Charlie', '35', '2000.25']\n",
      "['Diana', '28', '1800.60']\n",
      "['Eve', '22', '1200.00']\n"
     ]
    }
   ],
   "source": [
    "import csv\n",
    "# Example: Reading a CSV file\n",
    "csv_file_name = 'csv_example.csv'\n",
    "with open(file_path + csv_file_name, 'r') as file:\n",
    "    csv_reader = csv.reader(file)\n",
    "    for row in csv_reader:\n",
    "        print(row)"
   ]
  },
  {
   "cell_type": "markdown",
   "id": "1a2923ad",
   "metadata": {
    "slideshow": {
     "slide_type": "slide"
    }
   },
   "source": [
    "`csv` files can also be directly read as `dict` objects using the `csv.DictRead()` method."
   ]
  },
  {
   "cell_type": "code",
   "execution_count": 30,
   "id": "527d0a69",
   "metadata": {},
   "outputs": [
    {
     "name": "stdout",
     "output_type": "stream",
     "text": [
      "Alice is 30 years old.\n",
      "Bob is 25 years old.\n",
      "Charlie is 35 years old.\n",
      "Diana is 28 years old.\n",
      "Eve is 22 years old.\n"
     ]
    }
   ],
   "source": [
    "# Example: Reading a CSV file with headers\n",
    "with open(file_path + csv_file_name, 'r') as file:\n",
    "    csv_reader = csv.DictReader(file)\n",
    "    for row in csv_reader:\n",
    "        print(f\"{row['Name']} is {row['Age']} years old.\")"
   ]
  },
  {
   "cell_type": "markdown",
   "id": "d099ad98",
   "metadata": {
    "slideshow": {
     "slide_type": "slide"
    }
   },
   "source": [
    "#### Writing to"
   ]
  },
  {
   "cell_type": "markdown",
   "id": "8c214c6d",
   "metadata": {},
   "source": [
    "Writing data to a `csv` file is done by \n",
    "1. Creating a `csv.writer()` object with the output file.\n",
    "2. Inserting rows with `.writerow()`"
   ]
  },
  {
   "cell_type": "markdown",
   "id": "785a182d",
   "metadata": {
    "slideshow": {
     "slide_type": "slide"
    }
   },
   "source": [
    "- `w` mode"
   ]
  },
  {
   "cell_type": "code",
   "execution_count": null,
   "id": "5e2c46bd",
   "metadata": {},
   "outputs": [],
   "source": [
    "# Example: Writing to a CSV file\n",
    "csv_output_file_name = 'csv_output_example.csv'\n",
    "with open(file_path + csv_output_file_name, 'w', newline='') as file:\n",
    "    csv_writer = csv.writer(file)\n",
    "    csv_writer.writerow(['Name', 'Age', 'Balance'])\n",
    "    csv_writer.writerow(['Alice', '30', '1000.50'])\n",
    "    csv_writer.writerow(['Bob', '25', '1500.75'])"
   ]
  },
  {
   "cell_type": "markdown",
   "id": "b260d1e0",
   "metadata": {
    "slideshow": {
     "slide_type": "slide"
    }
   },
   "source": [
    "- `a` mode"
   ]
  },
  {
   "cell_type": "code",
   "execution_count": null,
   "id": "96f60257",
   "metadata": {},
   "outputs": [],
   "source": [
    "csv_output_file_name = 'csv_output_example.csv'\n",
    "with open(file_path + csv_output_file_name, 'a', newline='') as file:\n",
    "    csv_writer = csv.writer(file)\n",
    "    csv_writer.writerow(['Name', 'Age', 'Balance'])\n",
    "    csv_writer.writerow(['Charlie', '35', '2000.25'])\n",
    "    csv_writer.writerow(['Eve', '22', '1200.00'])"
   ]
  },
  {
   "cell_type": "code",
   "execution_count": null,
   "id": "ae04f69d",
   "metadata": {},
   "outputs": [],
   "source": [
    "with open(file_path + csv_output_file_name, 'r') as file:\n",
    "    csv_reader = csv.DictReader(file)\n",
    "    for row in csv_reader:\n",
    "        print(f\"{row['Name']} is {row['Age']} years old.\")"
   ]
  },
  {
   "cell_type": "markdown",
   "id": "bdfe1310",
   "metadata": {
    "slideshow": {
     "slide_type": "slide"
    }
   },
   "source": [
    "### 5.2 with `pandas`"
   ]
  },
  {
   "cell_type": "markdown",
   "id": "fd0724e5",
   "metadata": {},
   "source": [
    "`Pandas` simplifies reading, writing, and analyzing data, especially with `csv` files. "
   ]
  },
  {
   "cell_type": "code",
   "execution_count": 31,
   "id": "0717471c",
   "metadata": {},
   "outputs": [
    {
     "name": "stderr",
     "output_type": "stream",
     "text": [
      "/Users/tarikrouknyornia/opt/anaconda3/lib/python3.9/site-packages/pandas/core/computation/expressions.py:21: UserWarning: Pandas requires version '2.8.4' or newer of 'numexpr' (version '2.8.1' currently installed).\n",
      "  from pandas.core.computation.check import NUMEXPR_INSTALLED\n",
      "/Users/tarikrouknyornia/opt/anaconda3/lib/python3.9/site-packages/pandas/core/arrays/masked.py:60: UserWarning: Pandas requires version '1.3.6' or newer of 'bottleneck' (version '1.3.4' currently installed).\n",
      "  from pandas.core import (\n"
     ]
    }
   ],
   "source": [
    "import pandas as pd"
   ]
  },
  {
   "cell_type": "markdown",
   "id": "14408fd8",
   "metadata": {
    "slideshow": {
     "slide_type": "slide"
    }
   },
   "source": [
    "#### Reading from"
   ]
  },
  {
   "cell_type": "markdown",
   "id": "282084a4",
   "metadata": {},
   "source": [
    "Reading a `csv` file is done using the `pd.read_csv()` method."
   ]
  },
  {
   "cell_type": "markdown",
   "id": "5e130c84",
   "metadata": {},
   "source": [
    "```python\n",
    "    pd.read_csv(...)\n",
    "```\n",
    "Check method documentation (huge!).\n",
    "\n",
    "Key parameters:\n",
    "- `filepath_or_buffer`: The path to the file you want to read.\n",
    "- `delimiter` or `sep`: The character that separates values (default is a comma).\n",
    "- `header`: Row number to use as the column names.\n",
    "- `names`: A list of column names to use.\n",
    "- `index_col`: Column(s) to set as index.\n",
    "- `skiprows`: Number of rows to skip at the start of the file."
   ]
  },
  {
   "cell_type": "code",
   "execution_count": 32,
   "id": "38a3954f",
   "metadata": {
    "slideshow": {
     "slide_type": "slide"
    }
   },
   "outputs": [
    {
     "data": {
      "text/html": [
       "<div>\n",
       "<style scoped>\n",
       "    .dataframe tbody tr th:only-of-type {\n",
       "        vertical-align: middle;\n",
       "    }\n",
       "\n",
       "    .dataframe tbody tr th {\n",
       "        vertical-align: top;\n",
       "    }\n",
       "\n",
       "    .dataframe thead th {\n",
       "        text-align: right;\n",
       "    }\n",
       "</style>\n",
       "<table border=\"1\" class=\"dataframe\">\n",
       "  <thead>\n",
       "    <tr style=\"text-align: right;\">\n",
       "      <th></th>\n",
       "      <th>Name</th>\n",
       "      <th>Age</th>\n",
       "      <th>Balance</th>\n",
       "    </tr>\n",
       "  </thead>\n",
       "  <tbody>\n",
       "    <tr>\n",
       "      <th>0</th>\n",
       "      <td>Alice</td>\n",
       "      <td>30</td>\n",
       "      <td>1000.50</td>\n",
       "    </tr>\n",
       "    <tr>\n",
       "      <th>1</th>\n",
       "      <td>Bob</td>\n",
       "      <td>25</td>\n",
       "      <td>1500.75</td>\n",
       "    </tr>\n",
       "    <tr>\n",
       "      <th>2</th>\n",
       "      <td>Charlie</td>\n",
       "      <td>35</td>\n",
       "      <td>2000.25</td>\n",
       "    </tr>\n",
       "    <tr>\n",
       "      <th>3</th>\n",
       "      <td>Diana</td>\n",
       "      <td>28</td>\n",
       "      <td>1800.60</td>\n",
       "    </tr>\n",
       "    <tr>\n",
       "      <th>4</th>\n",
       "      <td>Eve</td>\n",
       "      <td>22</td>\n",
       "      <td>1200.00</td>\n",
       "    </tr>\n",
       "  </tbody>\n",
       "</table>\n",
       "</div>"
      ],
      "text/plain": [
       "      Name  Age  Balance\n",
       "0    Alice   30  1000.50\n",
       "1      Bob   25  1500.75\n",
       "2  Charlie   35  2000.25\n",
       "3    Diana   28  1800.60\n",
       "4      Eve   22  1200.00"
      ]
     },
     "execution_count": 32,
     "metadata": {},
     "output_type": "execute_result"
    }
   ],
   "source": [
    "csv_file_name = 'csv_example.csv'\n",
    "df = pd.read_csv(file_path + csv_file_name)\n",
    "df"
   ]
  },
  {
   "cell_type": "markdown",
   "id": "e651f72d",
   "metadata": {
    "slideshow": {
     "slide_type": "slide"
    }
   },
   "source": [
    "**Example with Parameters**"
   ]
  },
  {
   "cell_type": "code",
   "execution_count": 33,
   "id": "1ed1373b",
   "metadata": {},
   "outputs": [
    {
     "data": {
      "text/html": [
       "<div>\n",
       "<style scoped>\n",
       "    .dataframe tbody tr th:only-of-type {\n",
       "        vertical-align: middle;\n",
       "    }\n",
       "\n",
       "    .dataframe tbody tr th {\n",
       "        vertical-align: top;\n",
       "    }\n",
       "\n",
       "    .dataframe thead th {\n",
       "        text-align: right;\n",
       "    }\n",
       "</style>\n",
       "<table border=\"1\" class=\"dataframe\">\n",
       "  <thead>\n",
       "    <tr style=\"text-align: right;\">\n",
       "      <th></th>\n",
       "      <th>Age</th>\n",
       "      <th>Balance</th>\n",
       "    </tr>\n",
       "    <tr>\n",
       "      <th>Name</th>\n",
       "      <th></th>\n",
       "      <th></th>\n",
       "    </tr>\n",
       "  </thead>\n",
       "  <tbody>\n",
       "    <tr>\n",
       "      <th>Alice</th>\n",
       "      <td>30</td>\n",
       "      <td>1000.50</td>\n",
       "    </tr>\n",
       "    <tr>\n",
       "      <th>Bob</th>\n",
       "      <td>25</td>\n",
       "      <td>1500.75</td>\n",
       "    </tr>\n",
       "    <tr>\n",
       "      <th>Charlie</th>\n",
       "      <td>35</td>\n",
       "      <td>2000.25</td>\n",
       "    </tr>\n",
       "    <tr>\n",
       "      <th>Diana</th>\n",
       "      <td>28</td>\n",
       "      <td>1800.60</td>\n",
       "    </tr>\n",
       "    <tr>\n",
       "      <th>Eve</th>\n",
       "      <td>22</td>\n",
       "      <td>1200.00</td>\n",
       "    </tr>\n",
       "  </tbody>\n",
       "</table>\n",
       "</div>"
      ],
      "text/plain": [
       "         Age  Balance\n",
       "Name                 \n",
       "Alice     30  1000.50\n",
       "Bob       25  1500.75\n",
       "Charlie   35  2000.25\n",
       "Diana     28  1800.60\n",
       "Eve       22  1200.00"
      ]
     },
     "execution_count": 33,
     "metadata": {},
     "output_type": "execute_result"
    }
   ],
   "source": [
    "# Customizing CSV reading\n",
    "df = pd.read_csv(file_path + csv_file_name, delimiter=\",\", header=0, index_col=\"Name\")\n",
    "df.head()"
   ]
  },
  {
   "cell_type": "markdown",
   "id": "2558f73c",
   "metadata": {
    "slideshow": {
     "slide_type": "slide"
    }
   },
   "source": [
    "#### Writing to"
   ]
  },
  {
   "cell_type": "markdown",
   "id": "b83af023",
   "metadata": {},
   "source": [
    "Saving a `DataFrame` to a `csv` file is done using the `df.to_csv()` method."
   ]
  },
  {
   "cell_type": "code",
   "execution_count": 34,
   "id": "6c6c345f",
   "metadata": {},
   "outputs": [],
   "source": [
    "# Example: Writing DataFrame to a CSV file\n",
    "df_file_name = 'df_output_example.csv'\n",
    "df.to_csv(file_path + df_file_name, index=False)  # `index=False` to exclude row indices"
   ]
  },
  {
   "cell_type": "markdown",
   "id": "29981dca",
   "metadata": {
    "slideshow": {
     "slide_type": "slide"
    }
   },
   "source": [
    "## 6. Excel files"
   ]
  },
  {
   "cell_type": "markdown",
   "id": "9d8f88ff",
   "metadata": {
    "slideshow": {
     "slide_type": "slide"
    }
   },
   "source": [
    "**Excel files** are commonly used for data storage and transfer. `Pandas` makes it easy to write and read these files."
   ]
  },
  {
   "cell_type": "markdown",
   "id": "e98cc140",
   "metadata": {
    "slideshow": {
     "slide_type": "slide"
    }
   },
   "source": [
    "### 6.1 Writing to "
   ]
  },
  {
   "cell_type": "markdown",
   "id": "e71b4a39",
   "metadata": {},
   "source": [
    "`Pandas` writes `DataFrames` to Excel files using the `to_excel()` method."
   ]
  },
  {
   "cell_type": "markdown",
   "id": "9ddafe1e",
   "metadata": {},
   "source": [
    "```python\n",
    "    pd.to_excel(...)\n",
    "```\n",
    "Check method documentation (huge!).\n",
    "\n",
    "Key parameters:\n",
    "- `excel_writer`: This is the path to the Excel file (\"output.xlsx\") or an `ExcelWriter` object if saving multiple sheets to a single file.\n",
    "- `sheet_name`: The name of the sheet where the `DataFrame` will be saved. Default is \"Sheet1\".\n",
    "- `na_rep`: Defines how missing values (`NaN`) should appear in the Excel file (e.g., na_rep=\"N/A\").\n",
    "- `columns`: List of column names to write; writes all columns by default.\n",
    "- `header`: If `True`, includes column headers; set to `False` to exclude.\n",
    "- `index`: If `True`, includes the `DataFrame`’s index; if `False`, omits it.\n",
    "- `startrow` and `startcol`: Define the starting cell (row and column) for writing data."
   ]
  },
  {
   "cell_type": "markdown",
   "id": "39ad799d",
   "metadata": {
    "slideshow": {
     "slide_type": "slide"
    }
   },
   "source": [
    "#### Basic example of writing to Excel"
   ]
  },
  {
   "cell_type": "markdown",
   "id": "15131187",
   "metadata": {},
   "source": [
    "**Note:** The `to_excel()` method requires the `openpyxl` library for `.xlsx` files (install with pip install openpyxl if necessary)."
   ]
  },
  {
   "cell_type": "code",
   "execution_count": 35,
   "id": "9d2143f6",
   "metadata": {},
   "outputs": [
    {
     "name": "stderr",
     "output_type": "stream",
     "text": [
      "/var/folders/9m/57jm238n7yvg6p3srhy10dhw0000gn/T/ipykernel_7573/3618820734.py:13: UserWarning: Pandas requires version '3.0.5' or newer of 'xlsxwriter' (version '3.0.3' currently installed).\n",
      "  df.to_excel(file_path + excel_output_name, index=False)  # `index=False` excludes row indices\n"
     ]
    }
   ],
   "source": [
    "import pandas as pd\n",
    "\n",
    "# Sample DataFrame\n",
    "data = {\n",
    "    \"Name\": [\"Alice\", \"Bob\", \"Charlie\"],\n",
    "    \"Age\": [25, 30, 35],\n",
    "    \"Balance\": [1000.50, 1500.75, 1200.30]\n",
    "}\n",
    "df = pd.DataFrame(data)\n",
    "\n",
    "# Writing the DataFrame to an Excel file\n",
    "excel_output_name = \"excel_output_example.xlsx\"\n",
    "df.to_excel(file_path + excel_output_name, index=False)  # `index=False` excludes row indices"
   ]
  },
  {
   "cell_type": "markdown",
   "id": "43bc62d5",
   "metadata": {
    "slideshow": {
     "slide_type": "slide"
    }
   },
   "source": [
    "#### Writing multiple sheets to an Excel File"
   ]
  },
  {
   "cell_type": "markdown",
   "id": "8019482b",
   "metadata": {},
   "source": [
    "The `ExcelWriter` class allows to save multiple DataFrames to different sheets within the same Excel file."
   ]
  },
  {
   "cell_type": "code",
   "execution_count": 36,
   "id": "c15b0a6d",
   "metadata": {},
   "outputs": [
    {
     "name": "stderr",
     "output_type": "stream",
     "text": [
      "/var/folders/9m/57jm238n7yvg6p3srhy10dhw0000gn/T/ipykernel_7573/364171437.py:8: UserWarning: Pandas requires version '3.0.5' or newer of 'xlsxwriter' (version '3.0.3' currently installed).\n",
      "  with pd.ExcelWriter(file_path + excel_output_name) as writer:\n"
     ]
    }
   ],
   "source": [
    "# Create additional sample DataFrames\n",
    "data2 = {\n",
    "    \"Product\": [\"Widget A\", \"Widget B\", \"Widget C\"],\n",
    "    \"Price\": [20.5, 45.3, 30.0]\n",
    "}\n",
    "df2 = pd.DataFrame(data2)\n",
    "\n",
    "with pd.ExcelWriter(file_path + excel_output_name) as writer:\n",
    "    df.to_excel(writer, sheet_name=\"Customer Data\", index=False)\n",
    "    df2.to_excel(writer, sheet_name=\"Product Data\", index=False)"
   ]
  },
  {
   "cell_type": "markdown",
   "id": "42a0c730",
   "metadata": {
    "slideshow": {
     "slide_type": "slide"
    }
   },
   "source": [
    "#### Specifying columns and formatting"
   ]
  },
  {
   "cell_type": "markdown",
   "id": "58dabbdf",
   "metadata": {},
   "source": [
    "Customizing which columns to write and add formatting options like `headers` are also possible."
   ]
  },
  {
   "cell_type": "code",
   "execution_count": null,
   "id": "0a405e21",
   "metadata": {},
   "outputs": [],
   "source": [
    "# Writing selected columns only\n",
    "excel_output_2_name = \"excel_output_selected_columns.xlsx\"\n",
    "df.to_excel(file_path + excel_output_2_name, columns=[\"Name\", \"Balance\"], index=False, header=True)"
   ]
  },
  {
   "cell_type": "markdown",
   "id": "19073370",
   "metadata": {
    "slideshow": {
     "slide_type": "slide"
    }
   },
   "source": [
    "### 6.2 Reading from an Excel file"
   ]
  },
  {
   "cell_type": "markdown",
   "id": "d5bf3fc4",
   "metadata": {},
   "source": [
    "Reading a `xlsx` file is done using the `pd.read_excel()` method."
   ]
  },
  {
   "cell_type": "markdown",
   "id": "22a4e91f",
   "metadata": {},
   "source": [
    "```python\n",
    "    pd.read_excel()\n",
    "```\n",
    "\n",
    "Check method documentation (huge!)\n",
    "- `sheet_name`: Name or index of the sheet to read.\n",
    "- `header`, `names`, `index_col`: Similar to read_csv().\n",
    "- `usecols`: Specifies columns to load."
   ]
  },
  {
   "cell_type": "code",
   "execution_count": 37,
   "id": "d2c2756d",
   "metadata": {
    "slideshow": {
     "slide_type": "slide"
    }
   },
   "outputs": [
    {
     "ename": "ImportError",
     "evalue": "Pandas requires version '3.1.0' or newer of 'openpyxl' (version '3.0.9' currently installed).",
     "output_type": "error",
     "traceback": [
      "\u001b[0;31m---------------------------------------------------------------------------\u001b[0m",
      "\u001b[0;31mImportError\u001b[0m                               Traceback (most recent call last)",
      "Input \u001b[0;32mIn [37]\u001b[0m, in \u001b[0;36m<cell line: 2>\u001b[0;34m()\u001b[0m\n\u001b[1;32m      1\u001b[0m \u001b[38;5;66;03m# Reading an Excel file\u001b[39;00m\n\u001b[0;32m----> 2\u001b[0m df \u001b[38;5;241m=\u001b[39m \u001b[43mpd\u001b[49m\u001b[38;5;241;43m.\u001b[39;49m\u001b[43mread_excel\u001b[49m\u001b[43m(\u001b[49m\u001b[43mfile_path\u001b[49m\u001b[43m \u001b[49m\u001b[38;5;241;43m+\u001b[39;49m\u001b[43m \u001b[49m\u001b[43mexcel_output_name\u001b[49m\u001b[43m,\u001b[49m\u001b[43m \u001b[49m\u001b[43msheet_name\u001b[49m\u001b[38;5;241;43m=\u001b[39;49m\u001b[38;5;124;43m\"\u001b[39;49m\u001b[38;5;124;43mCustomer Data\u001b[39;49m\u001b[38;5;124;43m\"\u001b[39;49m\u001b[43m)\u001b[49m\n\u001b[1;32m      3\u001b[0m df\u001b[38;5;241m.\u001b[39mhead()\n",
      "File \u001b[0;32m~/opt/anaconda3/lib/python3.9/site-packages/pandas/io/excel/_base.py:495\u001b[0m, in \u001b[0;36mread_excel\u001b[0;34m(io, sheet_name, header, names, index_col, usecols, dtype, engine, converters, true_values, false_values, skiprows, nrows, na_values, keep_default_na, na_filter, verbose, parse_dates, date_parser, date_format, thousands, decimal, comment, skipfooter, storage_options, dtype_backend, engine_kwargs)\u001b[0m\n\u001b[1;32m    493\u001b[0m \u001b[38;5;28;01mif\u001b[39;00m \u001b[38;5;129;01mnot\u001b[39;00m \u001b[38;5;28misinstance\u001b[39m(io, ExcelFile):\n\u001b[1;32m    494\u001b[0m     should_close \u001b[38;5;241m=\u001b[39m \u001b[38;5;28;01mTrue\u001b[39;00m\n\u001b[0;32m--> 495\u001b[0m     io \u001b[38;5;241m=\u001b[39m \u001b[43mExcelFile\u001b[49m\u001b[43m(\u001b[49m\n\u001b[1;32m    496\u001b[0m \u001b[43m        \u001b[49m\u001b[43mio\u001b[49m\u001b[43m,\u001b[49m\n\u001b[1;32m    497\u001b[0m \u001b[43m        \u001b[49m\u001b[43mstorage_options\u001b[49m\u001b[38;5;241;43m=\u001b[39;49m\u001b[43mstorage_options\u001b[49m\u001b[43m,\u001b[49m\n\u001b[1;32m    498\u001b[0m \u001b[43m        \u001b[49m\u001b[43mengine\u001b[49m\u001b[38;5;241;43m=\u001b[39;49m\u001b[43mengine\u001b[49m\u001b[43m,\u001b[49m\n\u001b[1;32m    499\u001b[0m \u001b[43m        \u001b[49m\u001b[43mengine_kwargs\u001b[49m\u001b[38;5;241;43m=\u001b[39;49m\u001b[43mengine_kwargs\u001b[49m\u001b[43m,\u001b[49m\n\u001b[1;32m    500\u001b[0m \u001b[43m    \u001b[49m\u001b[43m)\u001b[49m\n\u001b[1;32m    501\u001b[0m \u001b[38;5;28;01melif\u001b[39;00m engine \u001b[38;5;129;01mand\u001b[39;00m engine \u001b[38;5;241m!=\u001b[39m io\u001b[38;5;241m.\u001b[39mengine:\n\u001b[1;32m    502\u001b[0m     \u001b[38;5;28;01mraise\u001b[39;00m \u001b[38;5;167;01mValueError\u001b[39;00m(\n\u001b[1;32m    503\u001b[0m         \u001b[38;5;124m\"\u001b[39m\u001b[38;5;124mEngine should not be specified when passing \u001b[39m\u001b[38;5;124m\"\u001b[39m\n\u001b[1;32m    504\u001b[0m         \u001b[38;5;124m\"\u001b[39m\u001b[38;5;124man ExcelFile - ExcelFile already has the engine set\u001b[39m\u001b[38;5;124m\"\u001b[39m\n\u001b[1;32m    505\u001b[0m     )\n",
      "File \u001b[0;32m~/opt/anaconda3/lib/python3.9/site-packages/pandas/io/excel/_base.py:1567\u001b[0m, in \u001b[0;36mExcelFile.__init__\u001b[0;34m(self, path_or_buffer, engine, storage_options, engine_kwargs)\u001b[0m\n\u001b[1;32m   1564\u001b[0m \u001b[38;5;28mself\u001b[39m\u001b[38;5;241m.\u001b[39mengine \u001b[38;5;241m=\u001b[39m engine\n\u001b[1;32m   1565\u001b[0m \u001b[38;5;28mself\u001b[39m\u001b[38;5;241m.\u001b[39mstorage_options \u001b[38;5;241m=\u001b[39m storage_options\n\u001b[0;32m-> 1567\u001b[0m \u001b[38;5;28mself\u001b[39m\u001b[38;5;241m.\u001b[39m_reader \u001b[38;5;241m=\u001b[39m \u001b[38;5;28;43mself\u001b[39;49m\u001b[38;5;241;43m.\u001b[39;49m\u001b[43m_engines\u001b[49m\u001b[43m[\u001b[49m\u001b[43mengine\u001b[49m\u001b[43m]\u001b[49m\u001b[43m(\u001b[49m\n\u001b[1;32m   1568\u001b[0m \u001b[43m    \u001b[49m\u001b[38;5;28;43mself\u001b[39;49m\u001b[38;5;241;43m.\u001b[39;49m\u001b[43m_io\u001b[49m\u001b[43m,\u001b[49m\n\u001b[1;32m   1569\u001b[0m \u001b[43m    \u001b[49m\u001b[43mstorage_options\u001b[49m\u001b[38;5;241;43m=\u001b[39;49m\u001b[43mstorage_options\u001b[49m\u001b[43m,\u001b[49m\n\u001b[1;32m   1570\u001b[0m \u001b[43m    \u001b[49m\u001b[43mengine_kwargs\u001b[49m\u001b[38;5;241;43m=\u001b[39;49m\u001b[43mengine_kwargs\u001b[49m\u001b[43m,\u001b[49m\n\u001b[1;32m   1571\u001b[0m \u001b[43m\u001b[49m\u001b[43m)\u001b[49m\n",
      "File \u001b[0;32m~/opt/anaconda3/lib/python3.9/site-packages/pandas/io/excel/_openpyxl.py:552\u001b[0m, in \u001b[0;36mOpenpyxlReader.__init__\u001b[0;34m(self, filepath_or_buffer, storage_options, engine_kwargs)\u001b[0m\n\u001b[1;32m    534\u001b[0m \u001b[38;5;129m@doc\u001b[39m(storage_options\u001b[38;5;241m=\u001b[39m_shared_docs[\u001b[38;5;124m\"\u001b[39m\u001b[38;5;124mstorage_options\u001b[39m\u001b[38;5;124m\"\u001b[39m])\n\u001b[1;32m    535\u001b[0m \u001b[38;5;28;01mdef\u001b[39;00m \u001b[38;5;21m__init__\u001b[39m(\n\u001b[1;32m    536\u001b[0m     \u001b[38;5;28mself\u001b[39m,\n\u001b[0;32m   (...)\u001b[0m\n\u001b[1;32m    539\u001b[0m     engine_kwargs: \u001b[38;5;28mdict\u001b[39m \u001b[38;5;241m|\u001b[39m \u001b[38;5;28;01mNone\u001b[39;00m \u001b[38;5;241m=\u001b[39m \u001b[38;5;28;01mNone\u001b[39;00m,\n\u001b[1;32m    540\u001b[0m ) \u001b[38;5;241m-\u001b[39m\u001b[38;5;241m>\u001b[39m \u001b[38;5;28;01mNone\u001b[39;00m:\n\u001b[1;32m    541\u001b[0m     \u001b[38;5;124;03m\"\"\"\u001b[39;00m\n\u001b[1;32m    542\u001b[0m \u001b[38;5;124;03m    Reader using openpyxl engine.\u001b[39;00m\n\u001b[1;32m    543\u001b[0m \n\u001b[0;32m   (...)\u001b[0m\n\u001b[1;32m    550\u001b[0m \u001b[38;5;124;03m        Arbitrary keyword arguments passed to excel engine.\u001b[39;00m\n\u001b[1;32m    551\u001b[0m \u001b[38;5;124;03m    \"\"\"\u001b[39;00m\n\u001b[0;32m--> 552\u001b[0m     \u001b[43mimport_optional_dependency\u001b[49m\u001b[43m(\u001b[49m\u001b[38;5;124;43m\"\u001b[39;49m\u001b[38;5;124;43mopenpyxl\u001b[39;49m\u001b[38;5;124;43m\"\u001b[39;49m\u001b[43m)\u001b[49m\n\u001b[1;32m    553\u001b[0m     \u001b[38;5;28msuper\u001b[39m()\u001b[38;5;241m.\u001b[39m\u001b[38;5;21m__init__\u001b[39m(\n\u001b[1;32m    554\u001b[0m         filepath_or_buffer,\n\u001b[1;32m    555\u001b[0m         storage_options\u001b[38;5;241m=\u001b[39mstorage_options,\n\u001b[1;32m    556\u001b[0m         engine_kwargs\u001b[38;5;241m=\u001b[39mengine_kwargs,\n\u001b[1;32m    557\u001b[0m     )\n",
      "File \u001b[0;32m~/opt/anaconda3/lib/python3.9/site-packages/pandas/compat/_optional.py:164\u001b[0m, in \u001b[0;36mimport_optional_dependency\u001b[0;34m(name, extra, errors, min_version)\u001b[0m\n\u001b[1;32m    162\u001b[0m     \u001b[38;5;28;01mreturn\u001b[39;00m \u001b[38;5;28;01mNone\u001b[39;00m\n\u001b[1;32m    163\u001b[0m \u001b[38;5;28;01melif\u001b[39;00m errors \u001b[38;5;241m==\u001b[39m \u001b[38;5;124m\"\u001b[39m\u001b[38;5;124mraise\u001b[39m\u001b[38;5;124m\"\u001b[39m:\n\u001b[0;32m--> 164\u001b[0m     \u001b[38;5;28;01mraise\u001b[39;00m \u001b[38;5;167;01mImportError\u001b[39;00m(msg)\n\u001b[1;32m    165\u001b[0m \u001b[38;5;28;01melse\u001b[39;00m:\n\u001b[1;32m    166\u001b[0m     \u001b[38;5;28;01mreturn\u001b[39;00m \u001b[38;5;28;01mNone\u001b[39;00m\n",
      "\u001b[0;31mImportError\u001b[0m: Pandas requires version '3.1.0' or newer of 'openpyxl' (version '3.0.9' currently installed)."
     ]
    }
   ],
   "source": [
    "# Reading an Excel file\n",
    "df = pd.read_excel(file_path + excel_output_name, sheet_name=\"Customer Data\")\n",
    "df.head()"
   ]
  },
  {
   "cell_type": "markdown",
   "id": "812e8097",
   "metadata": {
    "slideshow": {
     "slide_type": "slide"
    }
   },
   "source": [
    "**Example: Reading a specific sheet with column selection**"
   ]
  },
  {
   "cell_type": "code",
   "execution_count": 38,
   "id": "33457043",
   "metadata": {},
   "outputs": [
    {
     "ename": "ImportError",
     "evalue": "Pandas requires version '3.1.0' or newer of 'openpyxl' (version '3.0.9' currently installed).",
     "output_type": "error",
     "traceback": [
      "\u001b[0;31m---------------------------------------------------------------------------\u001b[0m",
      "\u001b[0;31mImportError\u001b[0m                               Traceback (most recent call last)",
      "Input \u001b[0;32mIn [38]\u001b[0m, in \u001b[0;36m<cell line: 2>\u001b[0;34m()\u001b[0m\n\u001b[1;32m      1\u001b[0m \u001b[38;5;66;03m# Reading specific columns from an Excel sheet\u001b[39;00m\n\u001b[0;32m----> 2\u001b[0m df \u001b[38;5;241m=\u001b[39m \u001b[43mpd\u001b[49m\u001b[38;5;241;43m.\u001b[39;49m\u001b[43mread_excel\u001b[49m\u001b[43m(\u001b[49m\u001b[43mfile_path\u001b[49m\u001b[43m \u001b[49m\u001b[38;5;241;43m+\u001b[39;49m\u001b[43m \u001b[49m\u001b[43mexcel_output_name\u001b[49m\u001b[43m,\u001b[49m\u001b[43m \u001b[49m\u001b[43msheet_name\u001b[49m\u001b[38;5;241;43m=\u001b[39;49m\u001b[38;5;124;43m\"\u001b[39;49m\u001b[38;5;124;43mProduct Data\u001b[39;49m\u001b[38;5;124;43m\"\u001b[39;49m\u001b[43m,\u001b[49m\u001b[43m \u001b[49m\u001b[43musecols\u001b[49m\u001b[38;5;241;43m=\u001b[39;49m\u001b[43m[\u001b[49m\u001b[38;5;124;43m'\u001b[39;49m\u001b[38;5;124;43mProduct\u001b[39;49m\u001b[38;5;124;43m'\u001b[39;49m\u001b[43m]\u001b[49m\u001b[43m)\u001b[49m\n\u001b[1;32m      3\u001b[0m df\u001b[38;5;241m.\u001b[39mhead()\n",
      "File \u001b[0;32m~/opt/anaconda3/lib/python3.9/site-packages/pandas/io/excel/_base.py:495\u001b[0m, in \u001b[0;36mread_excel\u001b[0;34m(io, sheet_name, header, names, index_col, usecols, dtype, engine, converters, true_values, false_values, skiprows, nrows, na_values, keep_default_na, na_filter, verbose, parse_dates, date_parser, date_format, thousands, decimal, comment, skipfooter, storage_options, dtype_backend, engine_kwargs)\u001b[0m\n\u001b[1;32m    493\u001b[0m \u001b[38;5;28;01mif\u001b[39;00m \u001b[38;5;129;01mnot\u001b[39;00m \u001b[38;5;28misinstance\u001b[39m(io, ExcelFile):\n\u001b[1;32m    494\u001b[0m     should_close \u001b[38;5;241m=\u001b[39m \u001b[38;5;28;01mTrue\u001b[39;00m\n\u001b[0;32m--> 495\u001b[0m     io \u001b[38;5;241m=\u001b[39m \u001b[43mExcelFile\u001b[49m\u001b[43m(\u001b[49m\n\u001b[1;32m    496\u001b[0m \u001b[43m        \u001b[49m\u001b[43mio\u001b[49m\u001b[43m,\u001b[49m\n\u001b[1;32m    497\u001b[0m \u001b[43m        \u001b[49m\u001b[43mstorage_options\u001b[49m\u001b[38;5;241;43m=\u001b[39;49m\u001b[43mstorage_options\u001b[49m\u001b[43m,\u001b[49m\n\u001b[1;32m    498\u001b[0m \u001b[43m        \u001b[49m\u001b[43mengine\u001b[49m\u001b[38;5;241;43m=\u001b[39;49m\u001b[43mengine\u001b[49m\u001b[43m,\u001b[49m\n\u001b[1;32m    499\u001b[0m \u001b[43m        \u001b[49m\u001b[43mengine_kwargs\u001b[49m\u001b[38;5;241;43m=\u001b[39;49m\u001b[43mengine_kwargs\u001b[49m\u001b[43m,\u001b[49m\n\u001b[1;32m    500\u001b[0m \u001b[43m    \u001b[49m\u001b[43m)\u001b[49m\n\u001b[1;32m    501\u001b[0m \u001b[38;5;28;01melif\u001b[39;00m engine \u001b[38;5;129;01mand\u001b[39;00m engine \u001b[38;5;241m!=\u001b[39m io\u001b[38;5;241m.\u001b[39mengine:\n\u001b[1;32m    502\u001b[0m     \u001b[38;5;28;01mraise\u001b[39;00m \u001b[38;5;167;01mValueError\u001b[39;00m(\n\u001b[1;32m    503\u001b[0m         \u001b[38;5;124m\"\u001b[39m\u001b[38;5;124mEngine should not be specified when passing \u001b[39m\u001b[38;5;124m\"\u001b[39m\n\u001b[1;32m    504\u001b[0m         \u001b[38;5;124m\"\u001b[39m\u001b[38;5;124man ExcelFile - ExcelFile already has the engine set\u001b[39m\u001b[38;5;124m\"\u001b[39m\n\u001b[1;32m    505\u001b[0m     )\n",
      "File \u001b[0;32m~/opt/anaconda3/lib/python3.9/site-packages/pandas/io/excel/_base.py:1567\u001b[0m, in \u001b[0;36mExcelFile.__init__\u001b[0;34m(self, path_or_buffer, engine, storage_options, engine_kwargs)\u001b[0m\n\u001b[1;32m   1564\u001b[0m \u001b[38;5;28mself\u001b[39m\u001b[38;5;241m.\u001b[39mengine \u001b[38;5;241m=\u001b[39m engine\n\u001b[1;32m   1565\u001b[0m \u001b[38;5;28mself\u001b[39m\u001b[38;5;241m.\u001b[39mstorage_options \u001b[38;5;241m=\u001b[39m storage_options\n\u001b[0;32m-> 1567\u001b[0m \u001b[38;5;28mself\u001b[39m\u001b[38;5;241m.\u001b[39m_reader \u001b[38;5;241m=\u001b[39m \u001b[38;5;28;43mself\u001b[39;49m\u001b[38;5;241;43m.\u001b[39;49m\u001b[43m_engines\u001b[49m\u001b[43m[\u001b[49m\u001b[43mengine\u001b[49m\u001b[43m]\u001b[49m\u001b[43m(\u001b[49m\n\u001b[1;32m   1568\u001b[0m \u001b[43m    \u001b[49m\u001b[38;5;28;43mself\u001b[39;49m\u001b[38;5;241;43m.\u001b[39;49m\u001b[43m_io\u001b[49m\u001b[43m,\u001b[49m\n\u001b[1;32m   1569\u001b[0m \u001b[43m    \u001b[49m\u001b[43mstorage_options\u001b[49m\u001b[38;5;241;43m=\u001b[39;49m\u001b[43mstorage_options\u001b[49m\u001b[43m,\u001b[49m\n\u001b[1;32m   1570\u001b[0m \u001b[43m    \u001b[49m\u001b[43mengine_kwargs\u001b[49m\u001b[38;5;241;43m=\u001b[39;49m\u001b[43mengine_kwargs\u001b[49m\u001b[43m,\u001b[49m\n\u001b[1;32m   1571\u001b[0m \u001b[43m\u001b[49m\u001b[43m)\u001b[49m\n",
      "File \u001b[0;32m~/opt/anaconda3/lib/python3.9/site-packages/pandas/io/excel/_openpyxl.py:552\u001b[0m, in \u001b[0;36mOpenpyxlReader.__init__\u001b[0;34m(self, filepath_or_buffer, storage_options, engine_kwargs)\u001b[0m\n\u001b[1;32m    534\u001b[0m \u001b[38;5;129m@doc\u001b[39m(storage_options\u001b[38;5;241m=\u001b[39m_shared_docs[\u001b[38;5;124m\"\u001b[39m\u001b[38;5;124mstorage_options\u001b[39m\u001b[38;5;124m\"\u001b[39m])\n\u001b[1;32m    535\u001b[0m \u001b[38;5;28;01mdef\u001b[39;00m \u001b[38;5;21m__init__\u001b[39m(\n\u001b[1;32m    536\u001b[0m     \u001b[38;5;28mself\u001b[39m,\n\u001b[0;32m   (...)\u001b[0m\n\u001b[1;32m    539\u001b[0m     engine_kwargs: \u001b[38;5;28mdict\u001b[39m \u001b[38;5;241m|\u001b[39m \u001b[38;5;28;01mNone\u001b[39;00m \u001b[38;5;241m=\u001b[39m \u001b[38;5;28;01mNone\u001b[39;00m,\n\u001b[1;32m    540\u001b[0m ) \u001b[38;5;241m-\u001b[39m\u001b[38;5;241m>\u001b[39m \u001b[38;5;28;01mNone\u001b[39;00m:\n\u001b[1;32m    541\u001b[0m     \u001b[38;5;124;03m\"\"\"\u001b[39;00m\n\u001b[1;32m    542\u001b[0m \u001b[38;5;124;03m    Reader using openpyxl engine.\u001b[39;00m\n\u001b[1;32m    543\u001b[0m \n\u001b[0;32m   (...)\u001b[0m\n\u001b[1;32m    550\u001b[0m \u001b[38;5;124;03m        Arbitrary keyword arguments passed to excel engine.\u001b[39;00m\n\u001b[1;32m    551\u001b[0m \u001b[38;5;124;03m    \"\"\"\u001b[39;00m\n\u001b[0;32m--> 552\u001b[0m     \u001b[43mimport_optional_dependency\u001b[49m\u001b[43m(\u001b[49m\u001b[38;5;124;43m\"\u001b[39;49m\u001b[38;5;124;43mopenpyxl\u001b[39;49m\u001b[38;5;124;43m\"\u001b[39;49m\u001b[43m)\u001b[49m\n\u001b[1;32m    553\u001b[0m     \u001b[38;5;28msuper\u001b[39m()\u001b[38;5;241m.\u001b[39m\u001b[38;5;21m__init__\u001b[39m(\n\u001b[1;32m    554\u001b[0m         filepath_or_buffer,\n\u001b[1;32m    555\u001b[0m         storage_options\u001b[38;5;241m=\u001b[39mstorage_options,\n\u001b[1;32m    556\u001b[0m         engine_kwargs\u001b[38;5;241m=\u001b[39mengine_kwargs,\n\u001b[1;32m    557\u001b[0m     )\n",
      "File \u001b[0;32m~/opt/anaconda3/lib/python3.9/site-packages/pandas/compat/_optional.py:164\u001b[0m, in \u001b[0;36mimport_optional_dependency\u001b[0;34m(name, extra, errors, min_version)\u001b[0m\n\u001b[1;32m    162\u001b[0m     \u001b[38;5;28;01mreturn\u001b[39;00m \u001b[38;5;28;01mNone\u001b[39;00m\n\u001b[1;32m    163\u001b[0m \u001b[38;5;28;01melif\u001b[39;00m errors \u001b[38;5;241m==\u001b[39m \u001b[38;5;124m\"\u001b[39m\u001b[38;5;124mraise\u001b[39m\u001b[38;5;124m\"\u001b[39m:\n\u001b[0;32m--> 164\u001b[0m     \u001b[38;5;28;01mraise\u001b[39;00m \u001b[38;5;167;01mImportError\u001b[39;00m(msg)\n\u001b[1;32m    165\u001b[0m \u001b[38;5;28;01melse\u001b[39;00m:\n\u001b[1;32m    166\u001b[0m     \u001b[38;5;28;01mreturn\u001b[39;00m \u001b[38;5;28;01mNone\u001b[39;00m\n",
      "\u001b[0;31mImportError\u001b[0m: Pandas requires version '3.1.0' or newer of 'openpyxl' (version '3.0.9' currently installed)."
     ]
    }
   ],
   "source": [
    "# Reading specific columns from an Excel sheet\n",
    "df = pd.read_excel(file_path + excel_output_name, sheet_name=\"Product Data\", usecols=['Product'])\n",
    "df.head()"
   ]
  },
  {
   "cell_type": "markdown",
   "id": "a9ab1058",
   "metadata": {
    "slideshow": {
     "slide_type": "slide"
    }
   },
   "source": [
    "## 🚦Checkpoint "
   ]
  },
  {
   "cell_type": "markdown",
   "id": "e13ee4ae",
   "metadata": {
    "slideshow": {
     "slide_type": "slide"
    }
   },
   "source": [
    "### Reading, Manipulating, and Saving Data with `pandas`\n",
    "\n",
    "**Goal:** In this exercise, you'll read the CSV file, manipulate the data using `pandas`, and save the modified data back to a CSV file.\n",
    "\n",
    "```python\n",
    "    file_name = \"checkpoint_stock_data_large.csv\"\n",
    "```\n",
    "\n",
    "- Import data and inspect in `DataFrame`\n",
    "- **Task 1:** Filter out all rows where the stock price is greater than USD 2000.\n",
    "- **Task 2:** Add a new column called `Value` which is calculated as `Price * Volume`.\n",
    "- **Task 3:** Group the data by the `Stock` column and calculate the average price for each stock.\n",
    "- Save the manipulated DataFrame to a new CSV file."
   ]
  },
  {
   "cell_type": "code",
   "execution_count": 40,
   "id": "50bede97",
   "metadata": {},
   "outputs": [
    {
     "data": {
      "text/html": [
       "<div>\n",
       "<style scoped>\n",
       "    .dataframe tbody tr th:only-of-type {\n",
       "        vertical-align: middle;\n",
       "    }\n",
       "\n",
       "    .dataframe tbody tr th {\n",
       "        vertical-align: top;\n",
       "    }\n",
       "\n",
       "    .dataframe thead th {\n",
       "        text-align: right;\n",
       "    }\n",
       "</style>\n",
       "<table border=\"1\" class=\"dataframe\">\n",
       "  <thead>\n",
       "    <tr style=\"text-align: right;\">\n",
       "      <th></th>\n",
       "      <th>Stock</th>\n",
       "      <th>Price</th>\n",
       "      <th>Volume</th>\n",
       "    </tr>\n",
       "  </thead>\n",
       "  <tbody>\n",
       "    <tr>\n",
       "      <th>0</th>\n",
       "      <td>TSLA</td>\n",
       "      <td>2199.737274</td>\n",
       "      <td>45149</td>\n",
       "    </tr>\n",
       "    <tr>\n",
       "      <th>1</th>\n",
       "      <td>META</td>\n",
       "      <td>2753.174671</td>\n",
       "      <td>5602</td>\n",
       "    </tr>\n",
       "    <tr>\n",
       "      <th>2</th>\n",
       "      <td>AAPL</td>\n",
       "      <td>2049.712705</td>\n",
       "      <td>99497</td>\n",
       "    </tr>\n",
       "    <tr>\n",
       "      <th>3</th>\n",
       "      <td>AMZN</td>\n",
       "      <td>620.443155</td>\n",
       "      <td>54160</td>\n",
       "    </tr>\n",
       "    <tr>\n",
       "      <th>4</th>\n",
       "      <td>AMZN</td>\n",
       "      <td>1318.229794</td>\n",
       "      <td>90032</td>\n",
       "    </tr>\n",
       "  </tbody>\n",
       "</table>\n",
       "</div>"
      ],
      "text/plain": [
       "  Stock        Price  Volume\n",
       "0  TSLA  2199.737274   45149\n",
       "1  META  2753.174671    5602\n",
       "2  AAPL  2049.712705   99497\n",
       "3  AMZN   620.443155   54160\n",
       "4  AMZN  1318.229794   90032"
      ]
     },
     "execution_count": 40,
     "metadata": {},
     "output_type": "execute_result"
    }
   ],
   "source": [
    "df.head()"
   ]
  },
  {
   "cell_type": "code",
   "execution_count": 42,
   "id": "0114bb93",
   "metadata": {},
   "outputs": [
    {
     "data": {
      "text/plain": [
       "Stock         6\n",
       "Price     10000\n",
       "Volume     9521\n",
       "dtype: int64"
      ]
     },
     "execution_count": 42,
     "metadata": {},
     "output_type": "execute_result"
    }
   ],
   "source": [
    "df.nunique()"
   ]
  },
  {
   "cell_type": "code",
   "execution_count": 41,
   "id": "bf7694ed",
   "metadata": {},
   "outputs": [
    {
     "data": {
      "text/html": [
       "<div>\n",
       "<style scoped>\n",
       "    .dataframe tbody tr th:only-of-type {\n",
       "        vertical-align: middle;\n",
       "    }\n",
       "\n",
       "    .dataframe tbody tr th {\n",
       "        vertical-align: top;\n",
       "    }\n",
       "\n",
       "    .dataframe thead th {\n",
       "        text-align: right;\n",
       "    }\n",
       "</style>\n",
       "<table border=\"1\" class=\"dataframe\">\n",
       "  <thead>\n",
       "    <tr style=\"text-align: right;\">\n",
       "      <th></th>\n",
       "      <th>Price</th>\n",
       "      <th>Volume</th>\n",
       "    </tr>\n",
       "  </thead>\n",
       "  <tbody>\n",
       "    <tr>\n",
       "      <th>count</th>\n",
       "      <td>10000.000000</td>\n",
       "      <td>10000.000000</td>\n",
       "    </tr>\n",
       "    <tr>\n",
       "      <th>mean</th>\n",
       "      <td>1538.226869</td>\n",
       "      <td>50909.136300</td>\n",
       "    </tr>\n",
       "    <tr>\n",
       "      <th>std</th>\n",
       "      <td>832.300907</td>\n",
       "      <td>28529.285528</td>\n",
       "    </tr>\n",
       "    <tr>\n",
       "      <th>min</th>\n",
       "      <td>100.011634</td>\n",
       "      <td>1007.000000</td>\n",
       "    </tr>\n",
       "    <tr>\n",
       "      <th>25%</th>\n",
       "      <td>818.584255</td>\n",
       "      <td>25970.250000</td>\n",
       "    </tr>\n",
       "    <tr>\n",
       "      <th>50%</th>\n",
       "      <td>1533.136254</td>\n",
       "      <td>51040.500000</td>\n",
       "    </tr>\n",
       "    <tr>\n",
       "      <th>75%</th>\n",
       "      <td>2252.630194</td>\n",
       "      <td>75713.250000</td>\n",
       "    </tr>\n",
       "    <tr>\n",
       "      <th>max</th>\n",
       "      <td>2999.915744</td>\n",
       "      <td>99992.000000</td>\n",
       "    </tr>\n",
       "  </tbody>\n",
       "</table>\n",
       "</div>"
      ],
      "text/plain": [
       "              Price        Volume\n",
       "count  10000.000000  10000.000000\n",
       "mean    1538.226869  50909.136300\n",
       "std      832.300907  28529.285528\n",
       "min      100.011634   1007.000000\n",
       "25%      818.584255  25970.250000\n",
       "50%     1533.136254  51040.500000\n",
       "75%     2252.630194  75713.250000\n",
       "max     2999.915744  99992.000000"
      ]
     },
     "execution_count": 41,
     "metadata": {},
     "output_type": "execute_result"
    }
   ],
   "source": [
    "df.describe()"
   ]
  },
  {
   "cell_type": "code",
   "execution_count": 43,
   "id": "9823ec56",
   "metadata": {},
   "outputs": [],
   "source": [
    "df = df[df['Price']<=2000]"
   ]
  },
  {
   "cell_type": "code",
   "execution_count": 44,
   "id": "083e2563",
   "metadata": {},
   "outputs": [
    {
     "data": {
      "text/html": [
       "<div>\n",
       "<style scoped>\n",
       "    .dataframe tbody tr th:only-of-type {\n",
       "        vertical-align: middle;\n",
       "    }\n",
       "\n",
       "    .dataframe tbody tr th {\n",
       "        vertical-align: top;\n",
       "    }\n",
       "\n",
       "    .dataframe thead th {\n",
       "        text-align: right;\n",
       "    }\n",
       "</style>\n",
       "<table border=\"1\" class=\"dataframe\">\n",
       "  <thead>\n",
       "    <tr style=\"text-align: right;\">\n",
       "      <th></th>\n",
       "      <th>Stock</th>\n",
       "      <th>Price</th>\n",
       "      <th>Volume</th>\n",
       "    </tr>\n",
       "  </thead>\n",
       "  <tbody>\n",
       "    <tr>\n",
       "      <th>3</th>\n",
       "      <td>AMZN</td>\n",
       "      <td>620.443155</td>\n",
       "      <td>54160</td>\n",
       "    </tr>\n",
       "    <tr>\n",
       "      <th>4</th>\n",
       "      <td>AMZN</td>\n",
       "      <td>1318.229794</td>\n",
       "      <td>90032</td>\n",
       "    </tr>\n",
       "    <tr>\n",
       "      <th>5</th>\n",
       "      <td>AMZN</td>\n",
       "      <td>892.336241</td>\n",
       "      <td>28612</td>\n",
       "    </tr>\n",
       "    <tr>\n",
       "      <th>6</th>\n",
       "      <td>MSFT</td>\n",
       "      <td>295.571932</td>\n",
       "      <td>90380</td>\n",
       "    </tr>\n",
       "    <tr>\n",
       "      <th>8</th>\n",
       "      <td>META</td>\n",
       "      <td>1096.238389</td>\n",
       "      <td>80329</td>\n",
       "    </tr>\n",
       "  </tbody>\n",
       "</table>\n",
       "</div>"
      ],
      "text/plain": [
       "  Stock        Price  Volume\n",
       "3  AMZN   620.443155   54160\n",
       "4  AMZN  1318.229794   90032\n",
       "5  AMZN   892.336241   28612\n",
       "6  MSFT   295.571932   90380\n",
       "8  META  1096.238389   80329"
      ]
     },
     "execution_count": 44,
     "metadata": {},
     "output_type": "execute_result"
    }
   ],
   "source": [
    "df.head()"
   ]
  },
  {
   "cell_type": "code",
   "execution_count": 49,
   "id": "0ec533e9",
   "metadata": {},
   "outputs": [],
   "source": [
    "df['Value'] = df['Price']*df['Volume']"
   ]
  },
  {
   "cell_type": "code",
   "execution_count": 50,
   "id": "f75f7d7d",
   "metadata": {},
   "outputs": [
    {
     "data": {
      "text/html": [
       "<div>\n",
       "<style scoped>\n",
       "    .dataframe tbody tr th:only-of-type {\n",
       "        vertical-align: middle;\n",
       "    }\n",
       "\n",
       "    .dataframe tbody tr th {\n",
       "        vertical-align: top;\n",
       "    }\n",
       "\n",
       "    .dataframe thead th {\n",
       "        text-align: right;\n",
       "    }\n",
       "</style>\n",
       "<table border=\"1\" class=\"dataframe\">\n",
       "  <thead>\n",
       "    <tr style=\"text-align: right;\">\n",
       "      <th></th>\n",
       "      <th>Stock</th>\n",
       "      <th>Price</th>\n",
       "      <th>Volume</th>\n",
       "      <th>Value</th>\n",
       "    </tr>\n",
       "  </thead>\n",
       "  <tbody>\n",
       "    <tr>\n",
       "      <th>0</th>\n",
       "      <td>TSLA</td>\n",
       "      <td>2199.737274</td>\n",
       "      <td>45149</td>\n",
       "      <td>9.931594e+07</td>\n",
       "    </tr>\n",
       "    <tr>\n",
       "      <th>1</th>\n",
       "      <td>META</td>\n",
       "      <td>2753.174671</td>\n",
       "      <td>5602</td>\n",
       "      <td>1.542328e+07</td>\n",
       "    </tr>\n",
       "    <tr>\n",
       "      <th>2</th>\n",
       "      <td>AAPL</td>\n",
       "      <td>2049.712705</td>\n",
       "      <td>99497</td>\n",
       "      <td>2.039403e+08</td>\n",
       "    </tr>\n",
       "    <tr>\n",
       "      <th>3</th>\n",
       "      <td>AMZN</td>\n",
       "      <td>620.443155</td>\n",
       "      <td>54160</td>\n",
       "      <td>3.360320e+07</td>\n",
       "    </tr>\n",
       "    <tr>\n",
       "      <th>4</th>\n",
       "      <td>AMZN</td>\n",
       "      <td>1318.229794</td>\n",
       "      <td>90032</td>\n",
       "      <td>1.186829e+08</td>\n",
       "    </tr>\n",
       "  </tbody>\n",
       "</table>\n",
       "</div>"
      ],
      "text/plain": [
       "  Stock        Price  Volume         Value\n",
       "0  TSLA  2199.737274   45149  9.931594e+07\n",
       "1  META  2753.174671    5602  1.542328e+07\n",
       "2  AAPL  2049.712705   99497  2.039403e+08\n",
       "3  AMZN   620.443155   54160  3.360320e+07\n",
       "4  AMZN  1318.229794   90032  1.186829e+08"
      ]
     },
     "execution_count": 50,
     "metadata": {},
     "output_type": "execute_result"
    }
   ],
   "source": [
    "df.head()"
   ]
  },
  {
   "cell_type": "code",
   "execution_count": 51,
   "id": "2aae059f",
   "metadata": {},
   "outputs": [],
   "source": [
    "avg_stock = df.groupby('Stock')['Price'].mean()"
   ]
  },
  {
   "cell_type": "code",
   "execution_count": 52,
   "id": "a32878cd",
   "metadata": {},
   "outputs": [
    {
     "data": {
      "text/plain": [
       "Stock\n",
       "AAPL     1536.266259\n",
       "AMZN     1577.560543\n",
       "GOOGL    1495.717279\n",
       "META     1531.635889\n",
       "MSFT     1508.892144\n",
       "TSLA     1578.032684\n",
       "Name: Price, dtype: float64"
      ]
     },
     "execution_count": 52,
     "metadata": {},
     "output_type": "execute_result"
    }
   ],
   "source": [
    "avg_stock"
   ]
  },
  {
   "cell_type": "code",
   "execution_count": 48,
   "id": "a80838c3",
   "metadata": {
    "slideshow": {
     "slide_type": "slide"
    }
   },
   "outputs": [],
   "source": [
    "file_name = \"checkpoint_stock_data_large.csv\"\n",
    "df = pd.read_csv(file_path+file_name)"
   ]
  },
  {
   "cell_type": "code",
   "execution_count": 53,
   "id": "b00ce948",
   "metadata": {},
   "outputs": [],
   "source": [
    "df.to_csv(file_path + \"new_csv.csv\", index = False)"
   ]
  },
  {
   "cell_type": "code",
   "execution_count": null,
   "id": "481fc870",
   "metadata": {},
   "outputs": [],
   "source": []
  }
 ],
 "metadata": {
  "celltoolbar": "Slideshow",
  "kernelspec": {
   "display_name": "Python 3 (ipykernel)",
   "language": "python",
   "name": "python3"
  },
  "language_info": {
   "codemirror_mode": {
    "name": "ipython",
    "version": 3
   },
   "file_extension": ".py",
   "mimetype": "text/x-python",
   "name": "python",
   "nbconvert_exporter": "python",
   "pygments_lexer": "ipython3",
   "version": "3.9.12"
  }
 },
 "nbformat": 4,
 "nbformat_minor": 5
}
