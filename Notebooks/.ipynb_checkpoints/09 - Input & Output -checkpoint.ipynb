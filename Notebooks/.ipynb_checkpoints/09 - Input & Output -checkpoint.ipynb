{
 "cells": [
  {
   "cell_type": "markdown",
   "id": "9afa4df2",
   "metadata": {},
   "source": [
    "# Lecture 09 - Input and Output (I/O) Operations"
   ]
  },
  {
   "cell_type": "markdown",
   "id": "1327b793",
   "metadata": {
    "heading_collapsed": true
   },
   "source": [
    "## 1. Overview"
   ]
  },
  {
   "cell_type": "markdown",
   "id": "c508327c",
   "metadata": {
    "hidden": true
   },
   "source": [
    "**Input and output operations** (I/O) are essential in programming. \n",
    "\n",
    "They allow programs to \n",
    "- **Interact** live with users\n",
    "- Take data as **input**\n",
    "- Display or save the results as **output**"
   ]
  },
  {
   "cell_type": "markdown",
   "id": "2e80f02f",
   "metadata": {
    "hidden": true
   },
   "source": [
    "This notebook covers\n",
    "- How to take input from users\n",
    "- How to display output using the `print()` function\n",
    "- File I/O operations: reading from and writing to files\n",
    "- Handling CSV files with basic file operations\n",
    "- Working with CSV files using `pandas`"
   ]
  },
  {
   "cell_type": "markdown",
   "id": "683ba2db",
   "metadata": {
    "heading_collapsed": true
   },
   "source": [
    "## 2. Live inputs"
   ]
  },
  {
   "cell_type": "markdown",
   "id": "aac6c3b8",
   "metadata": {
    "heading_collapsed": true,
    "hidden": true
   },
   "source": [
    "### 2.1 The `input()` function"
   ]
  },
  {
   "cell_type": "markdown",
   "id": "eeef92f0",
   "metadata": {
    "hidden": true
   },
   "source": [
    "The `input()` function allows the user to provide input to the program by returning the input as a `string`."
   ]
  },
  {
   "cell_type": "code",
   "execution_count": 1,
   "id": "28e6bd34",
   "metadata": {
    "hidden": true
   },
   "outputs": [
    {
     "name": "stdout",
     "output_type": "stream",
     "text": [
      "What is your name? Tarik\n",
      "Hello, Tarik!\n"
     ]
    }
   ],
   "source": [
    "# Example: Asking for user input\n",
    "name = input(\"What is your name? \")\n",
    "print(\"Hello, \" + name + \"!\")"
   ]
  },
  {
   "cell_type": "markdown",
   "id": "a4ffb96f",
   "metadata": {
    "heading_collapsed": true,
    "hidden": true
   },
   "source": [
    "### 2.2 Casting inputs"
   ]
  },
  {
   "cell_type": "markdown",
   "id": "9af241dc",
   "metadata": {
    "hidden": true
   },
   "source": [
    "Results from `input()` can be casted from `string` to other data types (`int`, `float`, etc.)."
   ]
  },
  {
   "cell_type": "code",
   "execution_count": 3,
   "id": "9693ed73",
   "metadata": {
    "hidden": true
   },
   "outputs": [
    {
     "name": "stdout",
     "output_type": "stream",
     "text": [
      "How old are you? 36\n",
      "You are 36 years old.\n",
      "You were born in  1988\n"
     ]
    }
   ],
   "source": [
    "# Example: Taking a number as input\n",
    "age = int(input(\"How old are you? \"))  # Convert input to an integer\n",
    "print(\"You are\", age, \"years old.\")\n",
    "print (\"You were born in \", 2024 - age)"
   ]
  },
  {
   "cell_type": "code",
   "execution_count": 4,
   "id": "9592c4c9",
   "metadata": {
    "hidden": true
   },
   "outputs": [
    {
     "name": "stdout",
     "output_type": "stream",
     "text": [
      "Enter your account balance: 12\n",
      "Your balance is $ 12.0\n"
     ]
    }
   ],
   "source": [
    "# Example: Taking a float as input\n",
    "balance = float(input(\"Enter your account balance: \"))\n",
    "print(\"Your balance is $\", balance)"
   ]
  },
  {
   "cell_type": "markdown",
   "id": "9990ddfd",
   "metadata": {
    "heading_collapsed": true,
    "hidden": true
   },
   "source": [
    "### 2.3 Multiple inputs"
   ]
  },
  {
   "cell_type": "markdown",
   "id": "0e74611e",
   "metadata": {
    "hidden": true
   },
   "source": [
    "When multiple inputs are entered, they are returned in one line. They can be then split into separate items using `split()`."
   ]
  },
  {
   "cell_type": "code",
   "execution_count": 5,
   "id": "3bad3c0a",
   "metadata": {
    "hidden": true
   },
   "outputs": [
    {
     "name": "stdout",
     "output_type": "stream",
     "text": [
      "Enter your first and last name: Tarik Ro9ukny\n",
      "Hello, Tarik Ro9ukny\n"
     ]
    }
   ],
   "source": [
    "# Example: Taking multiple inputs\n",
    "first_name, last_name = input(\"Enter your first and last name: \").split()\n",
    "print(\"Hello, \" + first_name + \" \" + last_name)"
   ]
  },
  {
   "cell_type": "markdown",
   "id": "ce232e76",
   "metadata": {
    "heading_collapsed": true
   },
   "source": [
    "## 3. Live output"
   ]
  },
  {
   "cell_type": "markdown",
   "id": "0e38c3c9",
   "metadata": {
    "heading_collapsed": true,
    "hidden": true
   },
   "source": [
    "### 3.1 The `print()` function"
   ]
  },
  {
   "cell_type": "markdown",
   "id": "4cadcea5",
   "metadata": {
    "hidden": true
   },
   "source": [
    "The `print()` function displays outputs in the prompt terminal."
   ]
  },
  {
   "cell_type": "code",
   "execution_count": 6,
   "id": "1fc786bf",
   "metadata": {
    "hidden": true
   },
   "outputs": [
    {
     "name": "stdout",
     "output_type": "stream",
     "text": [
      "Hello, world!\n"
     ]
    }
   ],
   "source": [
    "# Example: Basic output using print()\n",
    "print(\"Hello, world!\")"
   ]
  },
  {
   "cell_type": "markdown",
   "id": "2ea22f0b",
   "metadata": {
    "heading_collapsed": true,
    "hidden": true
   },
   "source": [
    "### 3.2 Printing variables and expressions"
   ]
  },
  {
   "cell_type": "markdown",
   "id": "e86a3c0d",
   "metadata": {
    "hidden": true
   },
   "source": [
    "The `print()` handles variables and expressions."
   ]
  },
  {
   "cell_type": "code",
   "execution_count": 7,
   "id": "c899ee69",
   "metadata": {
    "hidden": true
   },
   "outputs": [
    {
     "name": "stdout",
     "output_type": "stream",
     "text": [
      "Name: Alice Age: 25\n"
     ]
    }
   ],
   "source": [
    "# Example: Printing variables\n",
    "name = \"Alice\"\n",
    "age = 25\n",
    "print(\"Name:\", name, \"Age:\", age)"
   ]
  },
  {
   "cell_type": "markdown",
   "id": "b277dd3c",
   "metadata": {
    "hidden": true
   },
   "source": [
    "#### String formatting"
   ]
  },
  {
   "cell_type": "markdown",
   "id": "2d4f290a",
   "metadata": {
    "hidden": true
   },
   "source": [
    "`Python` provides several ways to format outputs as a combination of strings and variables."
   ]
  },
  {
   "cell_type": "markdown",
   "id": "9f3907fc",
   "metadata": {
    "hidden": true
   },
   "source": [
    "- **Using commas:**\n",
    "\n",
    "        print(\"string\", variable, \"string\", etc.)"
   ]
  },
  {
   "cell_type": "code",
   "execution_count": 8,
   "id": "d570eeb6",
   "metadata": {
    "hidden": true
   },
   "outputs": [
    {
     "name": "stdout",
     "output_type": "stream",
     "text": [
      "Your balance is 123.0 dollars.\n"
     ]
    }
   ],
   "source": [
    "# Example: Using commas\n",
    "print(\"Your balance is\", balance, \"dollars.\")"
   ]
  },
  {
   "cell_type": "markdown",
   "id": "a9d39d2b",
   "metadata": {
    "hidden": true
   },
   "source": [
    "- **Using f-strings (available in Python 3.6+):**\n",
    "\n",
    "        print (f\"string {variable}\")"
   ]
  },
  {
   "cell_type": "code",
   "execution_count": null,
   "id": "27ee82ba",
   "metadata": {
    "hidden": true
   },
   "outputs": [],
   "source": [
    "# Example: Using f-strings\n",
    "print(f\"Hello, {name}. You are {age} years old.\")"
   ]
  },
  {
   "cell_type": "markdown",
   "id": "48ce8699",
   "metadata": {
    "hidden": true
   },
   "source": [
    "- **Using the `format()` method:**\n",
    "\n",
    "        print (\"string {}, {}\".format(variable1, variable2))"
   ]
  },
  {
   "cell_type": "code",
   "execution_count": null,
   "id": "fceb780f",
   "metadata": {
    "hidden": true
   },
   "outputs": [],
   "source": [
    "# Example: Using format()\n",
    "print(\"Hello, {}. You are {} years old.\".format(name, age))"
   ]
  },
  {
   "cell_type": "markdown",
   "id": "b1dada9c",
   "metadata": {
    "heading_collapsed": true
   },
   "source": [
    "## 🚦Checkpoint - live prompts [TODO]"
   ]
  },
  {
   "cell_type": "markdown",
   "id": "063fd111",
   "metadata": {
    "heading_collapsed": true
   },
   "source": [
    "## 4. File input and output (File I/O)"
   ]
  },
  {
   "cell_type": "markdown",
   "id": "a6274e7c",
   "metadata": {
    "hidden": true
   },
   "source": [
    "Programs can **read from** files and **write to** files. "
   ]
  },
  {
   "cell_type": "markdown",
   "id": "27525d31",
   "metadata": {
    "heading_collapsed": true,
    "hidden": true
   },
   "source": [
    "### 4.1 Opening files"
   ]
  },
  {
   "cell_type": "markdown",
   "id": "6f72a1d3",
   "metadata": {
    "hidden": true
   },
   "source": [
    "Before reading from or writing to a file, a file object need to be created. The `open()` function opens files and create access in `Python`.\n",
    "\n",
    "```python\n",
    "    open (name, mode)\n",
    "```\n",
    "- The name (or path) of the file\n",
    "- The access mode (e.g., `'r'` for reading, `'w'` for writing, `'a'` for appending)"
   ]
  },
  {
   "cell_type": "code",
   "execution_count": 26,
   "id": "a7ea5428",
   "metadata": {
    "hidden": true
   },
   "outputs": [],
   "source": [
    "file_path = \"Data/09/\"\n",
    "file_name = \"example.txt\"\n",
    "file = open(file_path + file_name, \"r\")  # Open the file in read mode"
   ]
  },
  {
   "cell_type": "markdown",
   "id": "263760b5",
   "metadata": {
    "heading_collapsed": true,
    "hidden": true
   },
   "source": [
    "### 4.2 Reading from"
   ]
  },
  {
   "cell_type": "markdown",
   "id": "159dfcef",
   "metadata": {
    "hidden": true
   },
   "source": [
    "Several methods exist for reading file contents, such as `.read()`, `.readline()`, and `.readlines()`.\n",
    "\n",
    "Having read (imported) the data from the file, the function `.close()` closes the access to the file."
   ]
  },
  {
   "cell_type": "markdown",
   "id": "d0f481c2",
   "metadata": {
    "hidden": true
   },
   "source": [
    "- **`read()`**: Reads the entire file."
   ]
  },
  {
   "cell_type": "code",
   "execution_count": 22,
   "id": "80297933",
   "metadata": {
    "hidden": true
   },
   "outputs": [
    {
     "name": "stdout",
     "output_type": "stream",
     "text": [
      "This is a first and simple text.\n",
      "This is the second line of the file.\n",
      "This is the third line.\n",
      "This is the end of the file.\n"
     ]
    }
   ],
   "source": [
    "content = file.read()  # Read the entire file\n",
    "print(content)\n",
    "file.close()  # Close the file after reading"
   ]
  },
  {
   "cell_type": "code",
   "execution_count": 23,
   "id": "4b58ebe1",
   "metadata": {
    "hidden": true
   },
   "outputs": [
    {
     "data": {
      "text/plain": [
       "'This is a first and simple text.\\nThis is the second line of the file.\\nThis is the third line.\\nThis is the end of the file.'"
      ]
     },
     "execution_count": 23,
     "metadata": {},
     "output_type": "execute_result"
    }
   ],
   "source": [
    "content"
   ]
  },
  {
   "cell_type": "markdown",
   "id": "14febf0b",
   "metadata": {
    "hidden": true
   },
   "source": [
    "- **`readline()`**: Reads one line at a time."
   ]
  },
  {
   "cell_type": "code",
   "execution_count": 31,
   "id": "dac66293",
   "metadata": {
    "hidden": true
   },
   "outputs": [
    {
     "name": "stdout",
     "output_type": "stream",
     "text": [
      "This is a first and simple text.\n",
      "This is the second line of the file.\n",
      "This is the third line.\n",
      "This is the end of the file.\n"
     ]
    }
   ],
   "source": [
    "file = open(file_path + file_name, \"r\")\n",
    "line = file.readline()\n",
    "while line:\n",
    "    print(line.strip())  # Remove newline characters\n",
    "    line = file.readline()\n",
    "file.close()"
   ]
  },
  {
   "cell_type": "markdown",
   "id": "52dcb6d4",
   "metadata": {
    "hidden": true
   },
   "source": [
    "- **`readlines()`**: Reads all lines and returns them as a list."
   ]
  },
  {
   "cell_type": "code",
   "execution_count": 33,
   "id": "7039a4ec",
   "metadata": {
    "hidden": true,
    "scrolled": true
   },
   "outputs": [
    {
     "name": "stdout",
     "output_type": "stream",
     "text": [
      "This is a first and simple text.\n",
      "This is the second line of the file.\n",
      "This is the third line.\n",
      "This is the end of the file.\n"
     ]
    }
   ],
   "source": [
    "file = open(file_path + file_name, \"r\")\n",
    "lines = file.readlines()\n",
    "for line in lines:\n",
    "    print(line.strip())\n",
    "file.close()"
   ]
  },
  {
   "cell_type": "markdown",
   "id": "47a43afb",
   "metadata": {
    "heading_collapsed": true,
    "hidden": true
   },
   "source": [
    "### 4.3 `with` for file handling"
   ]
  },
  {
   "cell_type": "markdown",
   "id": "56ed0c2f",
   "metadata": {
    "hidden": true
   },
   "source": [
    "To avoid misusing file access, the `with` statement handles files more efficiently by automatically closing the file after the block of code is executed."
   ]
  },
  {
   "cell_type": "markdown",
   "id": "1ced6f3d",
   "metadata": {
    "hidden": true
   },
   "source": [
    "```python\n",
    "    with expression as variable:\n",
    "        # Code block that uses the resource (e.g., a file or connection)\n",
    "```"
   ]
  },
  {
   "cell_type": "code",
   "execution_count": 34,
   "id": "95f94ff9",
   "metadata": {
    "hidden": true
   },
   "outputs": [
    {
     "name": "stdout",
     "output_type": "stream",
     "text": [
      "This is a first and simple text.\n",
      "This is the second line of the file.\n",
      "This is the third line.\n",
      "This is the end of the file.\n"
     ]
    }
   ],
   "source": [
    "# Example: Using 'with' to handle files\n",
    "with open(file_path + file_name, \"r\") as file:\n",
    "    content = file.read()\n",
    "    print(content)\n",
    "# No need to explicitly close the file; it is done automatically"
   ]
  },
  {
   "cell_type": "markdown",
   "id": "0c5533f3",
   "metadata": {
    "heading_collapsed": true,
    "hidden": true
   },
   "source": [
    "### 4.4 Writing to"
   ]
  },
  {
   "cell_type": "markdown",
   "id": "4e17c6cb",
   "metadata": {
    "hidden": true
   },
   "source": [
    "Writing data to a file is done using the `write()` or `writelines()` methods. When opening a file in `'w'` (write) mode, it will overwrite the existing content. The `'a'` (append) mode writes at the end of the file."
   ]
  },
  {
   "cell_type": "markdown",
   "id": "726dc8e0",
   "metadata": {
    "hidden": true
   },
   "source": [
    "- **Write mode `m`:**"
   ]
  },
  {
   "cell_type": "code",
   "execution_count": 36,
   "id": "e7f2d66b",
   "metadata": {
    "hidden": true
   },
   "outputs": [],
   "source": [
    "# Example: Writing to a file\n",
    "file_name = \"new_file.txt\"\n",
    "with open(file_path + file_name, \"w\") as file: # Open file in write mode\n",
    "    file.write(\"This is the first line.\\n\")\n",
    "    file.write(\"This is the second line.\\n\")"
   ]
  },
  {
   "cell_type": "code",
   "execution_count": 39,
   "id": "d2045dca",
   "metadata": {
    "hidden": true
   },
   "outputs": [
    {
     "name": "stdout",
     "output_type": "stream",
     "text": [
      "This is the first line.\n",
      "This is the second line.\n",
      "This is the first line.\n",
      "This is the second line.\n",
      "This is the first line.\n",
      "This is the second line.\n",
      "This is an additional line.\n",
      "\n"
     ]
    }
   ],
   "source": [
    "# checking\n",
    "with open(file_path + file_name, \"r\") as file: # Open file in write mode\n",
    "    print(file.read())"
   ]
  },
  {
   "cell_type": "markdown",
   "id": "75915814",
   "metadata": {
    "hidden": true
   },
   "source": [
    "- **Append mode `a`:**"
   ]
  },
  {
   "cell_type": "code",
   "execution_count": 40,
   "id": "1ff53c97",
   "metadata": {
    "hidden": true
   },
   "outputs": [],
   "source": [
    "# Example: Writing to a file\n",
    "file_name = \"new_file.txt\"\n",
    "with open(file_path + file_name, \"a\") as file: # Open file in write mode\n",
    "    file.write(\"This is the first line.\\n\")\n",
    "    file.write(\"This is the second line.\\n\")\n",
    "    file.write(\"This is an additional line.\\n\")"
   ]
  },
  {
   "cell_type": "code",
   "execution_count": 41,
   "id": "6c65725c",
   "metadata": {
    "hidden": true
   },
   "outputs": [
    {
     "name": "stdout",
     "output_type": "stream",
     "text": [
      "This is the first line.\n",
      "This is the second line.\n",
      "This is the first line.\n",
      "This is the second line.\n",
      "This is the first line.\n",
      "This is the second line.\n",
      "This is an additional line.\n",
      "This is the first line.\n",
      "This is the second line.\n",
      "This is an additional line.\n",
      "\n"
     ]
    }
   ],
   "source": [
    "# checking\n",
    "with open(file_path + file_name, \"r\") as file: # Open file in write mode\n",
    "    print(file.read())"
   ]
  },
  {
   "cell_type": "markdown",
   "id": "27669989",
   "metadata": {
    "heading_collapsed": true
   },
   "source": [
    "## 🚦Checkpoint - file i/o [TODO]"
   ]
  },
  {
   "cell_type": "markdown",
   "id": "b69d8e85",
   "metadata": {
    "heading_collapsed": true
   },
   "source": [
    "## 5. `.csv` files"
   ]
  },
  {
   "cell_type": "markdown",
   "id": "2af7d68b",
   "metadata": {
    "hidden": true
   },
   "source": [
    "`CSV` (Comma-Separated Values) files are the standard for **storing tabular data**. Each line is a row where cells are separated by `,`. The firt line contains the name of columns.\n",
    "\n",
    "**Example**: `\"csv_example.csv\"`\n",
    "\n",
    "```\n",
    "    Name,Age,Balance\n",
    "    Alice,30,1000.50\n",
    "    Bob,25,1500.75\n",
    "    Charlie,35,2000.25\n",
    "    Diana,28,1800.60\n",
    "    Eve,22,1200.00\n",
    "```"
   ]
  },
  {
   "cell_type": "markdown",
   "id": "33ce5fd5",
   "metadata": {
    "heading_collapsed": true,
    "hidden": true
   },
   "source": [
    "### 5.1 with `Python`"
   ]
  },
  {
   "cell_type": "markdown",
   "id": "09939716",
   "metadata": {
    "hidden": true
   },
   "source": [
    "Handling `.csv` files from `Python` can be done using the `csv` module."
   ]
  },
  {
   "cell_type": "code",
   "execution_count": 42,
   "id": "917d14b6",
   "metadata": {
    "hidden": true
   },
   "outputs": [],
   "source": [
    "import csv"
   ]
  },
  {
   "cell_type": "markdown",
   "id": "c4034276",
   "metadata": {
    "heading_collapsed": true,
    "hidden": true
   },
   "source": [
    "#### Reading from"
   ]
  },
  {
   "cell_type": "markdown",
   "id": "e391b198",
   "metadata": {
    "hidden": true
   },
   "source": [
    "Reading a `csv` file is done using the `csv.reader()` method."
   ]
  },
  {
   "cell_type": "code",
   "execution_count": 43,
   "id": "d1cc452f",
   "metadata": {
    "hidden": true
   },
   "outputs": [
    {
     "name": "stdout",
     "output_type": "stream",
     "text": [
      "['Name', 'Age', 'Balance']\n",
      "['Alice', '30', '1000.50']\n",
      "['Bob', '25', '1500.75']\n",
      "['Charlie', '35', '2000.25']\n",
      "['Diana', '28', '1800.60']\n",
      "['Eve', '22', '1200.00']\n"
     ]
    }
   ],
   "source": [
    "import csv\n",
    "# Example: Reading a CSV file\n",
    "csv_file_name = 'csv_example.csv'\n",
    "with open(file_path + csv_file_name, 'r') as file:\n",
    "    csv_reader = csv.reader(file)\n",
    "    for row in csv_reader:\n",
    "        print(row)"
   ]
  },
  {
   "cell_type": "markdown",
   "id": "1a2923ad",
   "metadata": {
    "hidden": true
   },
   "source": [
    "`csv` files can also be directly read as `dict` objects using the `csv.DictRead()` method."
   ]
  },
  {
   "cell_type": "code",
   "execution_count": 45,
   "id": "527d0a69",
   "metadata": {
    "hidden": true
   },
   "outputs": [
    {
     "name": "stdout",
     "output_type": "stream",
     "text": [
      "Alice is 30 years old.\n",
      "Bob is 25 years old.\n",
      "Charlie is 35 years old.\n",
      "Diana is 28 years old.\n",
      "Eve is 22 years old.\n"
     ]
    }
   ],
   "source": [
    "# Example: Reading a CSV file with headers\n",
    "with open(file_path + csv_file_name, 'r') as file:\n",
    "    csv_reader = csv.DictReader(file)\n",
    "    for row in csv_reader:\n",
    "        print(f\"{row['Name']} is {row['Age']} years old.\")"
   ]
  },
  {
   "cell_type": "markdown",
   "id": "d099ad98",
   "metadata": {
    "heading_collapsed": true,
    "hidden": true
   },
   "source": [
    "#### Writing to"
   ]
  },
  {
   "cell_type": "markdown",
   "id": "8c214c6d",
   "metadata": {
    "hidden": true
   },
   "source": [
    "Writing data to a `csv` file is done by \n",
    "- Creating a `csv.writer()` object with the output file.\n",
    "- Inserting rows with `.writerow()`"
   ]
  },
  {
   "cell_type": "code",
   "execution_count": 48,
   "id": "5e2c46bd",
   "metadata": {
    "hidden": true
   },
   "outputs": [],
   "source": [
    "# Example: Writing to a CSV file\n",
    "csv_output_file_name = 'csv_output_example.csv'\n",
    "with open(file_path + csv_output_file_name, 'w', newline='') as file:\n",
    "    csv_writer = csv.writer(file)\n",
    "    csv_writer.writerow(['Name', 'Age', 'Balance'])\n",
    "    csv_writer.writerow(['Alice', '30', '1000.50'])\n",
    "    csv_writer.writerow(['Bob', '25', '1500.75'])"
   ]
  },
  {
   "cell_type": "code",
   "execution_count": 50,
   "id": "96f60257",
   "metadata": {
    "hidden": true
   },
   "outputs": [],
   "source": [
    "csv_output_file_name = 'csv_output_example.csv'\n",
    "with open(file_path + csv_output_file_name, 'a', newline='') as file:\n",
    "    csv_writer = csv.writer(file)\n",
    "    csv_writer.writerow(['Name', 'Age', 'Balance'])\n",
    "    csv_writer.writerow(['Charlie', '35', '2000.25'])\n",
    "    csv_writer.writerow(['Eve', '22', '1200.00'])"
   ]
  },
  {
   "cell_type": "code",
   "execution_count": 52,
   "id": "ae04f69d",
   "metadata": {
    "hidden": true
   },
   "outputs": [
    {
     "name": "stdout",
     "output_type": "stream",
     "text": [
      "Alice is 30 years old.\n",
      "Bob is 25 years old.\n",
      "Name is Age years old.\n",
      "Alice is 30 years old.\n",
      "Bob is 25 years old.\n",
      "Name is Age years old.\n",
      "Charlie is 35 years old.\n",
      "Eve is 22 years old.\n"
     ]
    }
   ],
   "source": [
    "with open(file_path + csv_output_file_name, 'r') as file:\n",
    "    csv_reader = csv.DictReader(file)\n",
    "    for row in csv_reader:\n",
    "        print(f\"{row['Name']} is {row['Age']} years old.\")"
   ]
  },
  {
   "cell_type": "markdown",
   "id": "bdfe1310",
   "metadata": {
    "heading_collapsed": true,
    "hidden": true
   },
   "source": [
    "### 5.2 with `pandas`"
   ]
  },
  {
   "cell_type": "markdown",
   "id": "fd0724e5",
   "metadata": {
    "hidden": true
   },
   "source": [
    "`Pandas` simplifies reading, writing, and analyzing data, especially with `csv` files. "
   ]
  },
  {
   "cell_type": "code",
   "execution_count": 53,
   "id": "0717471c",
   "metadata": {
    "hidden": true
   },
   "outputs": [],
   "source": [
    "import pandas as pd"
   ]
  },
  {
   "cell_type": "markdown",
   "id": "14408fd8",
   "metadata": {
    "heading_collapsed": true,
    "hidden": true
   },
   "source": [
    "#### Reading from"
   ]
  },
  {
   "cell_type": "markdown",
   "id": "282084a4",
   "metadata": {
    "hidden": true
   },
   "source": [
    "Reading a `csv` file is done using the `pd.read_csv()` method."
   ]
  },
  {
   "cell_type": "markdown",
   "id": "5e130c84",
   "metadata": {
    "hidden": true
   },
   "source": [
    "```python\n",
    "    pd.read_csv(...)\n",
    "```\n",
    "Check method documentation (huge!).\n",
    "\n",
    "Key parameters:\n",
    "- `filepath_or_buffer`: The path to the file you want to read.\n",
    "- `delimiter or sep`: The character that separates values (default is a comma).\n",
    "- `header`: Row number to use as the column names.\n",
    "- `names`: A list of column names to use.\n",
    "- `index_col`: Column(s) to set as index.\n",
    "- `skiprows`: Number of rows to skip at the start of the file."
   ]
  },
  {
   "cell_type": "code",
   "execution_count": 55,
   "id": "38a3954f",
   "metadata": {
    "hidden": true
   },
   "outputs": [
    {
     "data": {
      "text/html": [
       "<div>\n",
       "<style scoped>\n",
       "    .dataframe tbody tr th:only-of-type {\n",
       "        vertical-align: middle;\n",
       "    }\n",
       "\n",
       "    .dataframe tbody tr th {\n",
       "        vertical-align: top;\n",
       "    }\n",
       "\n",
       "    .dataframe thead th {\n",
       "        text-align: right;\n",
       "    }\n",
       "</style>\n",
       "<table border=\"1\" class=\"dataframe\">\n",
       "  <thead>\n",
       "    <tr style=\"text-align: right;\">\n",
       "      <th></th>\n",
       "      <th>Name</th>\n",
       "      <th>Age</th>\n",
       "      <th>Balance</th>\n",
       "    </tr>\n",
       "  </thead>\n",
       "  <tbody>\n",
       "    <tr>\n",
       "      <th>0</th>\n",
       "      <td>Alice</td>\n",
       "      <td>30</td>\n",
       "      <td>1000.50</td>\n",
       "    </tr>\n",
       "    <tr>\n",
       "      <th>1</th>\n",
       "      <td>Bob</td>\n",
       "      <td>25</td>\n",
       "      <td>1500.75</td>\n",
       "    </tr>\n",
       "    <tr>\n",
       "      <th>2</th>\n",
       "      <td>Charlie</td>\n",
       "      <td>35</td>\n",
       "      <td>2000.25</td>\n",
       "    </tr>\n",
       "    <tr>\n",
       "      <th>3</th>\n",
       "      <td>Diana</td>\n",
       "      <td>28</td>\n",
       "      <td>1800.60</td>\n",
       "    </tr>\n",
       "    <tr>\n",
       "      <th>4</th>\n",
       "      <td>Eve</td>\n",
       "      <td>22</td>\n",
       "      <td>1200.00</td>\n",
       "    </tr>\n",
       "  </tbody>\n",
       "</table>\n",
       "</div>"
      ],
      "text/plain": [
       "      Name  Age  Balance\n",
       "0    Alice   30  1000.50\n",
       "1      Bob   25  1500.75\n",
       "2  Charlie   35  2000.25\n",
       "3    Diana   28  1800.60\n",
       "4      Eve   22  1200.00"
      ]
     },
     "execution_count": 55,
     "metadata": {},
     "output_type": "execute_result"
    }
   ],
   "source": [
    "csv_file_name = 'csv_example.csv'\n",
    "df = pd.read_csv(file_path + csv_file_name)\n",
    "df"
   ]
  },
  {
   "cell_type": "markdown",
   "id": "e651f72d",
   "metadata": {
    "hidden": true
   },
   "source": [
    "**Example with Parameters**"
   ]
  },
  {
   "cell_type": "code",
   "execution_count": 58,
   "id": "1ed1373b",
   "metadata": {
    "hidden": true
   },
   "outputs": [
    {
     "data": {
      "text/html": [
       "<div>\n",
       "<style scoped>\n",
       "    .dataframe tbody tr th:only-of-type {\n",
       "        vertical-align: middle;\n",
       "    }\n",
       "\n",
       "    .dataframe tbody tr th {\n",
       "        vertical-align: top;\n",
       "    }\n",
       "\n",
       "    .dataframe thead th {\n",
       "        text-align: right;\n",
       "    }\n",
       "</style>\n",
       "<table border=\"1\" class=\"dataframe\">\n",
       "  <thead>\n",
       "    <tr style=\"text-align: right;\">\n",
       "      <th></th>\n",
       "      <th>Age</th>\n",
       "      <th>Balance</th>\n",
       "    </tr>\n",
       "    <tr>\n",
       "      <th>Name</th>\n",
       "      <th></th>\n",
       "      <th></th>\n",
       "    </tr>\n",
       "  </thead>\n",
       "  <tbody>\n",
       "    <tr>\n",
       "      <th>Alice</th>\n",
       "      <td>30</td>\n",
       "      <td>1000.50</td>\n",
       "    </tr>\n",
       "    <tr>\n",
       "      <th>Bob</th>\n",
       "      <td>25</td>\n",
       "      <td>1500.75</td>\n",
       "    </tr>\n",
       "    <tr>\n",
       "      <th>Charlie</th>\n",
       "      <td>35</td>\n",
       "      <td>2000.25</td>\n",
       "    </tr>\n",
       "    <tr>\n",
       "      <th>Diana</th>\n",
       "      <td>28</td>\n",
       "      <td>1800.60</td>\n",
       "    </tr>\n",
       "    <tr>\n",
       "      <th>Eve</th>\n",
       "      <td>22</td>\n",
       "      <td>1200.00</td>\n",
       "    </tr>\n",
       "  </tbody>\n",
       "</table>\n",
       "</div>"
      ],
      "text/plain": [
       "         Age  Balance\n",
       "Name                 \n",
       "Alice     30  1000.50\n",
       "Bob       25  1500.75\n",
       "Charlie   35  2000.25\n",
       "Diana     28  1800.60\n",
       "Eve       22  1200.00"
      ]
     },
     "execution_count": 58,
     "metadata": {},
     "output_type": "execute_result"
    }
   ],
   "source": [
    "# Customizing CSV reading\n",
    "df = pd.read_csv(file_path + csv_file_name, delimiter=\",\", header=0, index_col=\"Name\")\n",
    "df.head()"
   ]
  },
  {
   "cell_type": "markdown",
   "id": "2558f73c",
   "metadata": {
    "heading_collapsed": true,
    "hidden": true
   },
   "source": [
    "#### Writing to"
   ]
  },
  {
   "cell_type": "markdown",
   "id": "b83af023",
   "metadata": {
    "hidden": true
   },
   "source": [
    "Saving a `DataFrame` to a `csv` file is done using the `pd.to_csv()` method."
   ]
  },
  {
   "cell_type": "code",
   "execution_count": 56,
   "id": "6c6c345f",
   "metadata": {
    "hidden": true
   },
   "outputs": [],
   "source": [
    "# Example: Writing DataFrame to a CSV file\n",
    "df_file_name = 'df_output_example.csv'\n",
    "df.to_csv(file_path + df_file_name, index=False)  # `index=False` to exclude row indices"
   ]
  },
  {
   "cell_type": "markdown",
   "id": "001e5d79",
   "metadata": {
    "heading_collapsed": true
   },
   "source": [
    "## 🚦Checkpoint - csv [TODO]"
   ]
  },
  {
   "cell_type": "markdown",
   "id": "29981dca",
   "metadata": {},
   "source": [
    "## 6. Excel files"
   ]
  },
  {
   "cell_type": "markdown",
   "id": "9d8f88ff",
   "metadata": {},
   "source": [
    "Excel files are commonly used for data storage and transfer. `Pandas` makes it easy to write and read these files."
   ]
  },
  {
   "cell_type": "markdown",
   "id": "e98cc140",
   "metadata": {
    "heading_collapsed": true
   },
   "source": [
    "### 6.1 Writing to "
   ]
  },
  {
   "cell_type": "markdown",
   "id": "e71b4a39",
   "metadata": {
    "hidden": true
   },
   "source": [
    "`Pandas` writes `DataFrames` to Excel files using the `to_excel()` method."
   ]
  },
  {
   "cell_type": "markdown",
   "id": "9ddafe1e",
   "metadata": {
    "hidden": true
   },
   "source": [
    "```python\n",
    "    pd.to_excel(...)\n",
    "```\n",
    "Check method documentation (huge!).\n",
    "\n",
    "Key parameters:\n",
    "- `excel_writer`: This is the path to the Excel file (\"output.xlsx\") or an `ExcelWriter` object if saving multiple sheets to a single file.\n",
    "- `sheet_name`: The name of the sheet where the `DataFrame` will be saved. Default is \"Sheet1\".\n",
    "- `na_rep`: Defines how missing values (`NaN`) should appear in the Excel file (e.g., na_rep=\"N/A\").\n",
    "- `columns`: List of column names to write; writes all columns by default.\n",
    "- `header`: If `True`, includes column headers; set to `False` to exclude.\n",
    "- `index`: If `True`, includes the `DataFrame`’s index; if `False`, omits it.\n",
    "- `startrow` and `startcol`: Define the starting cell (row and column) for writing data."
   ]
  },
  {
   "cell_type": "markdown",
   "id": "39ad799d",
   "metadata": {
    "heading_collapsed": true,
    "hidden": true
   },
   "source": [
    "#### Basic Example of Writing to Excel"
   ]
  },
  {
   "cell_type": "markdown",
   "id": "15131187",
   "metadata": {
    "hidden": true
   },
   "source": [
    "**Note:** The `to_excel()` method requires the `openpyxl` library for `.xlsx` files (install with pip install openpyxl if necessary)."
   ]
  },
  {
   "cell_type": "code",
   "execution_count": 59,
   "id": "9d2143f6",
   "metadata": {
    "hidden": true
   },
   "outputs": [],
   "source": [
    "import pandas as pd\n",
    "\n",
    "# Sample DataFrame\n",
    "data = {\n",
    "    \"Name\": [\"Alice\", \"Bob\", \"Charlie\"],\n",
    "    \"Age\": [25, 30, 35],\n",
    "    \"Balance\": [1000.50, 1500.75, 1200.30]\n",
    "}\n",
    "df = pd.DataFrame(data)\n",
    "\n",
    "# Writing the DataFrame to an Excel file\n",
    "excel_output_name = \"excel_output_example.xlsx\"\n",
    "df.to_excel(file_path + excel_output_name, index=False)  # `index=False` excludes row indices"
   ]
  },
  {
   "cell_type": "markdown",
   "id": "43bc62d5",
   "metadata": {
    "heading_collapsed": true,
    "hidden": true
   },
   "source": [
    "#### Writing Multiple Sheets to an Excel File"
   ]
  },
  {
   "cell_type": "markdown",
   "id": "8019482b",
   "metadata": {
    "hidden": true
   },
   "source": [
    "The `ExcelWriter` class allows to save multiple DataFrames to different sheets within the same Excel file."
   ]
  },
  {
   "cell_type": "code",
   "execution_count": 60,
   "id": "c15b0a6d",
   "metadata": {
    "hidden": true
   },
   "outputs": [],
   "source": [
    "# Create additional sample DataFrames\n",
    "data2 = {\n",
    "    \"Product\": [\"Widget A\", \"Widget B\", \"Widget C\"],\n",
    "    \"Price\": [20.5, 45.3, 30.0]\n",
    "}\n",
    "df2 = pd.DataFrame(data2)\n",
    "\n",
    "with pd.ExcelWriter(file_path + excel_output_name) as writer:\n",
    "    df.to_excel(writer, sheet_name=\"Customer Data\", index=False)\n",
    "    df2.to_excel(writer, sheet_name=\"Product Data\", index=False)"
   ]
  },
  {
   "cell_type": "markdown",
   "id": "42a0c730",
   "metadata": {
    "heading_collapsed": true,
    "hidden": true
   },
   "source": [
    "#### Specifying Columns and Formatting"
   ]
  },
  {
   "cell_type": "markdown",
   "id": "58dabbdf",
   "metadata": {
    "hidden": true
   },
   "source": [
    "Customizing which columns to write and add formatting options like `headers` are also possible."
   ]
  },
  {
   "cell_type": "code",
   "execution_count": 61,
   "id": "0a405e21",
   "metadata": {
    "hidden": true
   },
   "outputs": [],
   "source": [
    "# Writing selected columns only\n",
    "excel_output_2_name = \"excel_output_selected_columns.xlsx\"\n",
    "df.to_excel(file_path + excel_output_2_name, columns=[\"Name\", \"Balance\"], index=False, header=True)"
   ]
  },
  {
   "cell_type": "markdown",
   "id": "19073370",
   "metadata": {},
   "source": [
    "### 6.1 Reading an Excel File"
   ]
  },
  {
   "cell_type": "markdown",
   "id": "d5bf3fc4",
   "metadata": {},
   "source": [
    "Reading a `xlsx` file is done using the `pd.read_excel()` method."
   ]
  },
  {
   "cell_type": "markdown",
   "id": "22a4e91f",
   "metadata": {},
   "source": [
    "```python\n",
    "    pd.read_excel()\n",
    "```\n",
    "\n",
    "Check method documentation (huge!)\n",
    "- `sheet_name`: Name or index of the sheet to read.\n",
    "- `header`, `names`, `index_col`: Similar to read_csv().\n",
    "- `usecols`: Specifies columns to load."
   ]
  },
  {
   "cell_type": "code",
   "execution_count": 72,
   "id": "d2c2756d",
   "metadata": {},
   "outputs": [
    {
     "data": {
      "text/html": [
       "<div>\n",
       "<style scoped>\n",
       "    .dataframe tbody tr th:only-of-type {\n",
       "        vertical-align: middle;\n",
       "    }\n",
       "\n",
       "    .dataframe tbody tr th {\n",
       "        vertical-align: top;\n",
       "    }\n",
       "\n",
       "    .dataframe thead th {\n",
       "        text-align: right;\n",
       "    }\n",
       "</style>\n",
       "<table border=\"1\" class=\"dataframe\">\n",
       "  <thead>\n",
       "    <tr style=\"text-align: right;\">\n",
       "      <th></th>\n",
       "      <th>Product</th>\n",
       "      <th>Price</th>\n",
       "    </tr>\n",
       "  </thead>\n",
       "  <tbody>\n",
       "    <tr>\n",
       "      <th>0</th>\n",
       "      <td>Widget A</td>\n",
       "      <td>20.5</td>\n",
       "    </tr>\n",
       "    <tr>\n",
       "      <th>1</th>\n",
       "      <td>Widget B</td>\n",
       "      <td>45.3</td>\n",
       "    </tr>\n",
       "    <tr>\n",
       "      <th>2</th>\n",
       "      <td>Widget C</td>\n",
       "      <td>30.0</td>\n",
       "    </tr>\n",
       "  </tbody>\n",
       "</table>\n",
       "</div>"
      ],
      "text/plain": [
       "    Product  Price\n",
       "0  Widget A   20.5\n",
       "1  Widget B   45.3\n",
       "2  Widget C   30.0"
      ]
     },
     "execution_count": 72,
     "metadata": {},
     "output_type": "execute_result"
    }
   ],
   "source": [
    "# Reading an Excel file\n",
    "df = pd.read_excel(file_path + excel_output_name, sheet_name=\"Customer Data\")\n",
    "df.head()"
   ]
  },
  {
   "cell_type": "markdown",
   "id": "812e8097",
   "metadata": {},
   "source": [
    "**Example: Reading a Specific Sheet with Column Selection**"
   ]
  },
  {
   "cell_type": "code",
   "execution_count": 73,
   "id": "33457043",
   "metadata": {},
   "outputs": [
    {
     "data": {
      "text/html": [
       "<div>\n",
       "<style scoped>\n",
       "    .dataframe tbody tr th:only-of-type {\n",
       "        vertical-align: middle;\n",
       "    }\n",
       "\n",
       "    .dataframe tbody tr th {\n",
       "        vertical-align: top;\n",
       "    }\n",
       "\n",
       "    .dataframe thead th {\n",
       "        text-align: right;\n",
       "    }\n",
       "</style>\n",
       "<table border=\"1\" class=\"dataframe\">\n",
       "  <thead>\n",
       "    <tr style=\"text-align: right;\">\n",
       "      <th></th>\n",
       "      <th>Product</th>\n",
       "    </tr>\n",
       "  </thead>\n",
       "  <tbody>\n",
       "    <tr>\n",
       "      <th>0</th>\n",
       "      <td>Widget A</td>\n",
       "    </tr>\n",
       "    <tr>\n",
       "      <th>1</th>\n",
       "      <td>Widget B</td>\n",
       "    </tr>\n",
       "    <tr>\n",
       "      <th>2</th>\n",
       "      <td>Widget C</td>\n",
       "    </tr>\n",
       "  </tbody>\n",
       "</table>\n",
       "</div>"
      ],
      "text/plain": [
       "    Product\n",
       "0  Widget A\n",
       "1  Widget B\n",
       "2  Widget C"
      ]
     },
     "execution_count": 73,
     "metadata": {},
     "output_type": "execute_result"
    }
   ],
   "source": [
    "# Reading specific columns from an Excel sheet\n",
    "df = pd.read_excel(file_path + excel_output_name, sheet_name=\"Product Data\", usecols=['Product'])\n",
    "df.head()"
   ]
  },
  {
   "cell_type": "markdown",
   "id": "6012f6b7",
   "metadata": {},
   "source": [
    "---"
   ]
  }
 ],
 "metadata": {
  "kernelspec": {
   "display_name": "Python 3 (ipykernel)",
   "language": "python",
   "name": "python3"
  },
  "language_info": {
   "codemirror_mode": {
    "name": "ipython",
    "version": 3
   },
   "file_extension": ".py",
   "mimetype": "text/x-python",
   "name": "python",
   "nbconvert_exporter": "python",
   "pygments_lexer": "ipython3",
   "version": "3.9.12"
  }
 },
 "nbformat": 4,
 "nbformat_minor": 5
}
