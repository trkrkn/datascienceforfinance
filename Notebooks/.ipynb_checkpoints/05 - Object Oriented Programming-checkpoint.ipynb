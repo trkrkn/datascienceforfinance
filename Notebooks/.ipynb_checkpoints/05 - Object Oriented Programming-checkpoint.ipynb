{
 "cells": [
  {
   "cell_type": "markdown",
   "id": "623d85b2",
   "metadata": {
    "slideshow": {
     "slide_type": "slide"
    }
   },
   "source": [
    "# Lecture 05 - Object-Oriented Programming "
   ]
  },
  {
   "cell_type": "markdown",
   "id": "ec07d8c4",
   "metadata": {
    "slideshow": {
     "slide_type": "slide"
    }
   },
   "source": [
    "## Overview"
   ]
  },
  {
   "cell_type": "markdown",
   "id": "77b395a6",
   "metadata": {
    "slideshow": {
     "slide_type": "slide"
    }
   },
   "source": [
    "**Object-Oriented Programming (OOP)** is a programming paradigm based on the concept of \"**objects**,\" which can contain data (attributes) and code (methods). "
   ]
  },
  {
   "cell_type": "markdown",
   "id": "078ea696",
   "metadata": {
    "slideshow": {
     "slide_type": "slide"
    }
   },
   "source": [
    "**Why does OOP matter?**\n",
    "\n",
    "OOP allows for organizing complex programs into manageable, modular components, making the code more:\n",
    "- **Reusable**: Once a class is created, it can be used across different parts of your program without rewriting.\n",
    "- **Scalable**: You can build on existing structures without rewriting them.\n",
    "- **Maintainable**: Since the code is organized into discrete components, fixing bugs and adding new features is easier."
   ]
  },
  {
   "cell_type": "markdown",
   "id": "601da004",
   "metadata": {
    "slideshow": {
     "slide_type": "slide"
    }
   },
   "source": [
    "This notebook covers:\n",
    "- The basics of OOP: **classes** and **objects**\n",
    "- **Defining** classes and **creating** objects\n",
    "- **Attributes** and **methods**\n",
    "- **Inheritance** and **polymorphism**"
   ]
  },
  {
   "cell_type": "markdown",
   "id": "3f55c77a",
   "metadata": {
    "slideshow": {
     "slide_type": "slide"
    }
   },
   "source": [
    "## 1. The Basics of OOP: Classes and Objects"
   ]
  },
  {
   "cell_type": "markdown",
   "id": "88db9656",
   "metadata": {
    "slideshow": {
     "slide_type": "slide"
    }
   },
   "source": [
    "### 1.1 Definitions"
   ]
  },
  {
   "cell_type": "markdown",
   "id": "3349e260",
   "metadata": {
    "slideshow": {
     "slide_type": "slide"
    }
   },
   "source": [
    "**What is a Class?** \n",
    "\n",
    "A class is like a **blueprint** or **template** for creating objects. It defines the attributes (variables) and methods (functions) that objects created from the class will have."
   ]
  },
  {
   "cell_type": "markdown",
   "id": "7ea22ebb",
   "metadata": {
    "slideshow": {
     "slide_type": "slide"
    }
   },
   "source": [
    "**What is an Object?**\n",
    "\n",
    "An object is an **instance** of a class. It has its own specific values for the attributes defined by the class."
   ]
  },
  {
   "cell_type": "markdown",
   "id": "84772580",
   "metadata": {
    "slideshow": {
     "slide_type": "slide"
    }
   },
   "source": [
    "**Why use Classes and Objects?**\n",
    "\n",
    "Classes are like cookie cutters and objects are the actual cookies. The class defines the shape and structure, while each object is an independent instance that can have different values but shares the same structure."
   ]
  },
  {
   "cell_type": "markdown",
   "id": "6dbae760",
   "metadata": {
    "slideshow": {
     "slide_type": "slide"
    }
   },
   "source": [
    "### 1.2 Syntax"
   ]
  },
  {
   "cell_type": "markdown",
   "id": "c9b39a34",
   "metadata": {
    "slideshow": {
     "slide_type": "slide"
    }
   },
   "source": [
    "#### General"
   ]
  },
  {
   "cell_type": "markdown",
   "id": "67685996",
   "metadata": {
    "slideshow": {
     "slide_type": "slide"
    }
   },
   "source": [
    "In general, a `class` is alway defined by a **constructor** and a set of **methods and attributes**."
   ]
  },
  {
   "cell_type": "markdown",
   "id": "c9b77525",
   "metadata": {},
   "source": [
    "```bash\n",
    "    class NAME:\n",
    "        CONSTRUCTOR\n",
    "        OTHER METHODS\n",
    "        ATTRIBUTES\n",
    "```"
   ]
  },
  {
   "cell_type": "markdown",
   "id": "e04e6d62",
   "metadata": {
    "slideshow": {
     "slide_type": "slide"
    }
   },
   "source": [
    "- The **Constructor** sets up initial values for attributes when an object is created. This ensures that each object starts in a well-defined state.\n",
    "- The **Methods** are callable functions within and outside the class object\n",
    "- The **Attributes** are callable variables withing and outside the class object"
   ]
  },
  {
   "cell_type": "markdown",
   "id": "8624e724",
   "metadata": {
    "slideshow": {
     "slide_type": "slide"
    }
   },
   "source": [
    "#### In Python"
   ]
  },
  {
   "cell_type": "markdown",
   "id": "fdbe6b41",
   "metadata": {
    "slideshow": {
     "slide_type": "slide"
    }
   },
   "source": [
    "```bash\n",
    "    class NAME:\n",
    "        def __init__(self, ...):\n",
    "            ACTIONS\n",
    "            \n",
    "        def METHODS:\n",
    "            ACTIONS\n",
    "        \n",
    "        self.ATTRIBUTES\n",
    "```"
   ]
  },
  {
   "cell_type": "markdown",
   "id": "b142cb60",
   "metadata": {
    "slideshow": {
     "slide_type": "slide"
    }
   },
   "source": [
    "- Constructor is defined by the function `init()` where `self` is a reference to the class object itself.\n",
    "- Methods are defined like standard functions.\n",
    "- Reference to attributes that belong to the current class object in the constructor and methods are specified using the prefix `self.`"
   ]
  },
  {
   "cell_type": "markdown",
   "id": "0a09dd6b",
   "metadata": {
    "slideshow": {
     "slide_type": "slide"
    }
   },
   "source": [
    "### 1.3 Example: Defining a Bank Account Class"
   ]
  },
  {
   "cell_type": "markdown",
   "id": "89a4a029",
   "metadata": {
    "slideshow": {
     "slide_type": "slide"
    }
   },
   "source": [
    "Consider a simple example of a **bank account**. Each bank account will have:\n",
    "1. An **account holder**.\n",
    "2. A **balance** that tracks the amount of money in the account.\n"
   ]
  },
  {
   "cell_type": "code",
   "execution_count": null,
   "id": "b970a66b",
   "metadata": {
    "slideshow": {
     "slide_type": "slide"
    }
   },
   "outputs": [],
   "source": [
    "# Defining a simple BankAccount class\n",
    "class BankAccount:\n",
    "    # __init__ is a special method called a constructor\n",
    "    def __init__(self, account_holder, balance=0):\n",
    "        # self is a reference to the current object\n",
    "        self.account_holder = account_holder  # Assigning account holder name\n",
    "        self.balance = balance  # Setting initial balance (default is 0)"
   ]
  },
  {
   "cell_type": "code",
   "execution_count": null,
   "id": "ed642c80",
   "metadata": {
    "slideshow": {
     "slide_type": "slide"
    }
   },
   "outputs": [],
   "source": [
    "# Creating an instance of BankAccount\n",
    "account1 = BankAccount(\"John Doe\", 500)"
   ]
  },
  {
   "cell_type": "code",
   "execution_count": null,
   "id": "955e23f6",
   "metadata": {},
   "outputs": [],
   "source": [
    "# Accessing attributes of the object\n",
    "print(f\"Account Holder: {account1.account_holder}\")  # Output: John Doe\n",
    "print(f\"Balance: {account1.balance}\")  # Output: 500"
   ]
  },
  {
   "cell_type": "markdown",
   "id": "3074ecbb",
   "metadata": {
    "slideshow": {
     "slide_type": "slide"
    }
   },
   "source": [
    "\n",
    "### **Step-by-step Explanation:**\n",
    "\n",
    "1. **Class Definition:** We define the `BankAccount` class.\n",
    "2. **Constructor (`__init__` method):** This method initializes the attributes `account_holder` and `balance` when a new `BankAccount` object is created.\n",
    "3. **Creating an Object:** We create an object `account1` of the `BankAccount` class.\n",
    "4. **Accessing Object Attributes:** We print the values of the object's attributes using the dot notation (e.g., `account1.balance`)."
   ]
  },
  {
   "cell_type": "markdown",
   "id": "e2f249c7",
   "metadata": {
    "slideshow": {
     "slide_type": "slide"
    }
   },
   "source": [
    "## **2. Attributes and Methods**"
   ]
  },
  {
   "cell_type": "markdown",
   "id": "7d857eb2",
   "metadata": {
    "slideshow": {
     "slide_type": "slide"
    }
   },
   "source": [
    "### **2.1 Attributes**"
   ]
  },
  {
   "cell_type": "markdown",
   "id": "6302c88e",
   "metadata": {
    "slideshow": {
     "slide_type": "slide"
    }
   },
   "source": [
    "**Attributes** are variables that hold data specific to an object. They are defined within a class and belong to each instance of that class."
   ]
  },
  {
   "cell_type": "markdown",
   "id": "4f3c0b86",
   "metadata": {
    "slideshow": {
     "slide_type": "slide"
    }
   },
   "source": [
    "**Why are attributes important?**\n",
    "\n",
    "Attributes store the **state** of the object. \n",
    "\n",
    "In the bank account example, the balance attribute holds the current state of the account."
   ]
  },
  {
   "cell_type": "markdown",
   "id": "33739320",
   "metadata": {
    "slideshow": {
     "slide_type": "slide"
    }
   },
   "source": [
    "### **2.2 Methods**"
   ]
  },
  {
   "cell_type": "markdown",
   "id": "e45a1e84",
   "metadata": {
    "slideshow": {
     "slide_type": "slide"
    }
   },
   "source": [
    "**Methods** are functions defined inside a class that operate on objects of that class. Methods can read or modify the object's attributes."
   ]
  },
  {
   "cell_type": "markdown",
   "id": "b701926e",
   "metadata": {
    "slideshow": {
     "slide_type": "slide"
    }
   },
   "source": [
    "**Why Use Methods?**\n",
    "\n",
    "Methods define behaviors specific to the class. "
   ]
  },
  {
   "cell_type": "markdown",
   "id": "f8e8cb75",
   "metadata": {
    "slideshow": {
     "slide_type": "slide"
    }
   },
   "source": [
    "### 2.3 Example: Adding Methods to the BankAccount Class"
   ]
  },
  {
   "cell_type": "markdown",
   "id": "f02f60e5",
   "metadata": {
    "slideshow": {
     "slide_type": "slide"
    }
   },
   "source": [
    "Let's add some functionality to our `BankAccount` class. We want to be able to:\n",
    "1. **Deposit** money into the account.\n",
    "2. **Withdraw** money from the account."
   ]
  },
  {
   "cell_type": "code",
   "execution_count": null,
   "id": "10de011d",
   "metadata": {
    "slideshow": {
     "slide_type": "slide"
    }
   },
   "outputs": [],
   "source": [
    "# Enhanced BankAccount class with methods\n",
    "class BankAccount:\n",
    "    def __init__(self, account_holder, balance=0):\n",
    "        self.account_holder = account_holder\n",
    "        self.balance = balance\n",
    "\n",
    "    # Method for depositing money\n",
    "    def deposit(self, amount):\n",
    "        self.balance += amount\n",
    "        print(f\"Deposited {amount}. New balance is {self.balance}\")\n",
    "\n",
    "    # Method for withdrawing money\n",
    "    def withdraw(self, amount):\n",
    "        if amount > self.balance:\n",
    "            print(\"Insufficient funds.\")\n",
    "        else:\n",
    "            self.balance -= amount\n",
    "            print(f\"Withdrew {amount}. New balance is {self.balance}\")"
   ]
  },
  {
   "cell_type": "code",
   "execution_count": null,
   "id": "61d1884f",
   "metadata": {
    "slideshow": {
     "slide_type": "slide"
    }
   },
   "outputs": [],
   "source": [
    "# Creating a new BankAccount object\n",
    "account2 = BankAccount(\"Jane Doe\", 1000)\n",
    "account2.deposit(200)  # Depositing 200\n",
    "account2.withdraw(300)  # Withdrawing 300"
   ]
  },
  {
   "cell_type": "markdown",
   "id": "2c652202",
   "metadata": {
    "slideshow": {
     "slide_type": "slide"
    }
   },
   "source": [
    "### 2.4 Additional examples"
   ]
  },
  {
   "cell_type": "markdown",
   "id": "b473280d",
   "metadata": {
    "slideshow": {
     "slide_type": "slide"
    }
   },
   "source": [
    "**Define a `Student` class** with the following attributes:\n",
    "- `name`\n",
    "- `student_id`\n",
    "- `grade`\n",
    "\n",
    "Add methods to:\n",
    "1. Update the grade.\n",
    "2. Print a summary of the student’s information."
   ]
  },
  {
   "cell_type": "code",
   "execution_count": null,
   "id": "8245a1f8",
   "metadata": {
    "slideshow": {
     "slide_type": "slide"
    }
   },
   "outputs": [],
   "source": [
    "# Defining the Student class\n",
    "class Student:\n",
    "    # Constructor to initialize the attributes of the class\n",
    "    def __init__(self, name, student_id, grade):\n",
    "        self.name = name            # Student's name\n",
    "        self.student_id = student_id  # Unique student ID\n",
    "        self.grade = grade          # Current grade of the student\n",
    "\n",
    "    # Method to update the student's grade\n",
    "    def update_grade(self, new_grade):\n",
    "        self.grade = new_grade\n",
    "        print(f\"Grade updated to: {self.grade}\")\n",
    "\n",
    "    # Method to print a summary of the student's information\n",
    "    def print_summary(self):\n",
    "        print(f\"Student Name: {self.name}\")\n",
    "        print(f\"Student ID: {self.student_id}\")\n",
    "        print(f\"Current Grade: {self.grade}\")"
   ]
  },
  {
   "cell_type": "code",
   "execution_count": null,
   "id": "05af79fe",
   "metadata": {
    "slideshow": {
     "slide_type": "slide"
    }
   },
   "outputs": [],
   "source": [
    "# Creating an instance of the Student class\n",
    "student1 = Student(\"Alice\", 12345, \"80\")"
   ]
  },
  {
   "cell_type": "code",
   "execution_count": null,
   "id": "4686e012",
   "metadata": {},
   "outputs": [],
   "source": [
    "# Calling the methods to test the functionality\n",
    "student1.print_summary()  # Printing the initial student details"
   ]
  },
  {
   "cell_type": "code",
   "execution_count": null,
   "id": "ee3d5ddb",
   "metadata": {},
   "outputs": [],
   "source": [
    "# Updating the grade and printing the updated details\n",
    "student1.update_grade(\"90\")\n",
    "student1.print_summary()  # Should show the updated grade"
   ]
  },
  {
   "cell_type": "markdown",
   "id": "8828c9e7",
   "metadata": {
    "slideshow": {
     "slide_type": "slide"
    }
   },
   "source": [
    "**Additional methods to implement**\n",
    "- `has_failed()`\n",
    "- `can_retake()` -- cannot fail more than twice"
   ]
  },
  {
   "cell_type": "code",
   "execution_count": null,
   "id": "96286b04",
   "metadata": {},
   "outputs": [],
   "source": [
    "# Your code"
   ]
  },
  {
   "cell_type": "markdown",
   "id": "3954a4a1",
   "metadata": {
    "slideshow": {
     "slide_type": "slide"
    }
   },
   "source": [
    "**Global exercise**\n",
    "\n",
    "From a list of objects student, order students from highest to lowest grade"
   ]
  },
  {
   "cell_type": "code",
   "execution_count": null,
   "id": "69d72af2",
   "metadata": {
    "slideshow": {
     "slide_type": "slide"
    }
   },
   "outputs": [],
   "source": [
    "# Creating a list of multiple Student objects with varying grades\n",
    "students = [\n",
    "    Student(\"Alice\", 12345, \"80\"),\n",
    "    Student(\"Bob\", 67890, \"40\"),\n",
    "    Student(\"Charlie\", 54321, \"60\"),\n",
    "    Student(\"David\", 98765, \"99\"),\n",
    "    Student(\"Eve\", 45678, \"21\")\n",
    "]\n",
    "\n",
    "# Function to sort the list of students by their grades\n",
    "def sort_students_by_grade(student_list):\n",
    "    # Sort by grade in ascending order (A > B > C)\n",
    "    sorted_students = sorted(student_list, key=lambda student: student.grade)\n",
    "    return sorted_students\n",
    "\n",
    "# Sorting the students and printing the result\n",
    "sorted_students = sort_students_by_grade(students)\n",
    "\n",
    "# Displaying the sorted list of students\n",
    "print(\"Students sorted by grades:\")\n",
    "for student in sorted_students:\n",
    "    student.print_summary()"
   ]
  },
  {
   "cell_type": "markdown",
   "id": "953bddab",
   "metadata": {
    "slideshow": {
     "slide_type": "slide"
    }
   },
   "source": [
    "## 3. Inheritance"
   ]
  },
  {
   "cell_type": "markdown",
   "id": "8e80af87",
   "metadata": {
    "slideshow": {
     "slide_type": "slide"
    }
   },
   "source": [
    "**Inheritance** is a fundamental concept in object-oriented programming that allows a new class to **inherit attributes and methods** from an existing class. \n",
    "\n",
    "This existing class is known as the **parent class** (or base class), while the new class is referred to as the **child class** (or derived class)."
   ]
  },
  {
   "cell_type": "markdown",
   "id": "80c7e27c",
   "metadata": {
    "slideshow": {
     "slide_type": "slide"
    }
   },
   "source": [
    "**Why use inheritance?**\n",
    "\n",
    "1. **Code Reusability**: Inheritance helps reduce code duplication by allowing new classes to use the features of existing classes.\n",
    "2. **Logical Hierarchies**: It allows you to model real-world relationships, such as “A Car is-a Vehicle.”\n",
    "3.\t**Extendability**: You can add new features to the child class without modifying the parent class, making it easier to maintain the code."
   ]
  },
  {
   "cell_type": "markdown",
   "id": "79f7fbde",
   "metadata": {
    "slideshow": {
     "slide_type": "slide"
    }
   },
   "source": [
    "**How it works**\n",
    "\n",
    "When creating a child class, the class **automatically inherits** all the attributes and methods of the parent class. \n",
    "\n",
    "However, the functionality of the parent class can also be **extended** or **overridden** within the child class .\n"
   ]
  },
  {
   "cell_type": "markdown",
   "id": "0b91e9df",
   "metadata": {
    "slideshow": {
     "slide_type": "slide"
    }
   },
   "source": [
    "#### 3.1 Syntax"
   ]
  },
  {
   "cell_type": "markdown",
   "id": "5687eb02",
   "metadata": {
    "slideshow": {
     "slide_type": "slide"
    }
   },
   "source": [
    "```bash\n",
    "    class CHILD (PARENT):\n",
    "        def __init__(self,...):\n",
    "            super().__init__(...):\n",
    "            self....\n",
    "```"
   ]
  },
  {
   "cell_type": "markdown",
   "id": "485d0d3b",
   "metadata": {
    "slideshow": {
     "slide_type": "slide"
    }
   },
   "source": [
    "#### 3.2 Example: Simple inheritance"
   ]
  },
  {
   "cell_type": "markdown",
   "id": "8bb6e3a7",
   "metadata": {},
   "source": [
    "Let’s go through a step-by-step example:"
   ]
  },
  {
   "cell_type": "markdown",
   "id": "a10177fb",
   "metadata": {
    "slideshow": {
     "slide_type": "slide"
    }
   },
   "source": [
    "**Step 1: Create a parent class**\n",
    "\n",
    "Start with a `Person` class that has basic attributes like `name` and `age`, and a method to print a summary."
   ]
  },
  {
   "cell_type": "code",
   "execution_count": null,
   "id": "a14789e4",
   "metadata": {
    "slideshow": {
     "slide_type": "slide"
    }
   },
   "outputs": [],
   "source": [
    "class Person:\n",
    "    def __init__(self, name, age):\n",
    "        self.name = name\n",
    "        self.age = age\n",
    "\n",
    "    def display(self):\n",
    "        print(f\"Name: {self.name}, Age: {self.age}\")"
   ]
  },
  {
   "cell_type": "markdown",
   "id": "65e12a99",
   "metadata": {
    "slideshow": {
     "slide_type": "slide"
    }
   },
   "source": [
    "   - The `Person` class has two attributes: `name` and `age`.\n",
    "   - It includes a method `display()` that prints the name and age."
   ]
  },
  {
   "cell_type": "markdown",
   "id": "7cbf11cf",
   "metadata": {
    "slideshow": {
     "slide_type": "slide"
    }
   },
   "source": [
    "**Step 2: Create a child class that inherits from `Person`**"
   ]
  },
  {
   "cell_type": "markdown",
   "id": "39c0e1ea",
   "metadata": {
    "slideshow": {
     "slide_type": "slide"
    }
   },
   "source": [
    "Now let’s create a `Student` class that **inherits** from the `Person` class. The `Student` class will have an additional attribute `grade` and its own method to print details specific to students."
   ]
  },
  {
   "cell_type": "code",
   "execution_count": null,
   "id": "a501de0b",
   "metadata": {
    "slideshow": {
     "slide_type": "slide"
    }
   },
   "outputs": [],
   "source": [
    "class Student(Person):\n",
    "    def __init__(self, name, age, grade):\n",
    "        # Call the constructor of the parent class\n",
    "        super().__init__(name, age)  \n",
    "        self.grade = grade  # New attribute specific to Student\n",
    "\n",
    "    def display_student(self):\n",
    "        print(f\"Student Name: {self.name}, Age: {self.age}, Grade: {self.grade}\")"
   ]
  },
  {
   "cell_type": "markdown",
   "id": "0abcdc0e",
   "metadata": {
    "slideshow": {
     "slide_type": "slide"
    }
   },
   "source": [
    "   - The `Student` class **inherits** from the `Person` class using `class Student(Person):`.\n",
    "   - The `Student` class has its own constructor (`__init__`) that **calls the constructor of the parent class** using `super().__init__(name, age)`. This is necessary to properly initialize attributes from the parent class.\n",
    "   - The `Student` class has a new attribute `grade` and a new method `display_student()`."
   ]
  },
  {
   "cell_type": "markdown",
   "id": "68439e27",
   "metadata": {
    "slideshow": {
     "slide_type": "slide"
    }
   },
   "source": [
    "**Step 3: Creating objects and using inheritance**"
   ]
  },
  {
   "cell_type": "markdown",
   "id": "5b9ada61",
   "metadata": {
    "slideshow": {
     "slide_type": "slide"
    }
   },
   "source": [
    "Now that we have both classes, let’s create a `Student` object and use the inherited and new methods."
   ]
  },
  {
   "cell_type": "code",
   "execution_count": null,
   "id": "50f1dc17",
   "metadata": {
    "slideshow": {
     "slide_type": "slide"
    }
   },
   "outputs": [],
   "source": [
    "# Creating an instance of the Student class\n",
    "student1 = Student(\"Alice\", 20, \"A\")\n",
    "\n",
    "# Calling methods\n",
    "student1.display()  # Inherited method from Person class\n",
    "student1.display_student()  # Method specific to Student class"
   ]
  },
  {
   "cell_type": "markdown",
   "id": "4d18c982",
   "metadata": {
    "slideshow": {
     "slide_type": "slide"
    }
   },
   "source": [
    "   - The `student1.display()` call demonstrates **inherited behavior**: `display()` is defined in `Person`, but `student1` (an instance of `Student`) can use it because `Student` inherits from `Person`.\n",
    "   - The `student1.display_student()` call demonstrates **extended behavior**: `display_student()` is defined only in the `Student` class."
   ]
  },
  {
   "cell_type": "markdown",
   "id": "b8be3426",
   "metadata": {
    "slideshow": {
     "slide_type": "slide"
    }
   },
   "source": [
    "#### 3.3 Example: Defining a `SavingsAccount` class using inheritance"
   ]
  },
  {
   "cell_type": "markdown",
   "id": "dbd0b863",
   "metadata": {
    "slideshow": {
     "slide_type": "slide"
    }
   },
   "source": [
    "Let’s create a new class called `SavingsAccount` that inherits from `BankAccount`. \n",
    "\n",
    "A savings account might have an **interest rate** and a method to apply interest."
   ]
  },
  {
   "cell_type": "code",
   "execution_count": null,
   "id": "5d45dc6a",
   "metadata": {
    "slideshow": {
     "slide_type": "slide"
    }
   },
   "outputs": [],
   "source": [
    "# Inheriting from BankAccount class\n",
    "class SavingsAccount(BankAccount):\n",
    "    def __init__(self, account_holder, balance=0, interest_rate=0.02):\n",
    "        # Call the parent class constructor\n",
    "        super().__init__(account_holder, balance)\n",
    "        self.interest_rate = interest_rate  # Additional attribute for interest rate\n",
    "\n",
    "    # New method to apply interest\n",
    "    def apply_interest(self):\n",
    "        interest = self.balance * self.interest_rate\n",
    "        self.deposit(interest)  # Use deposit method to add interest\n",
    "        print(f\"Interest applied. New balance: {self.balance}\")"
   ]
  },
  {
   "cell_type": "code",
   "execution_count": null,
   "id": "e4f9b7f7",
   "metadata": {
    "slideshow": {
     "slide_type": "slide"
    }
   },
   "outputs": [],
   "source": [
    "# Creating a SavingsAccount object\n",
    "savings = SavingsAccount(\"Alice\", 2000)\n",
    "savings.apply_interest()"
   ]
  },
  {
   "cell_type": "markdown",
   "id": "b21af6de",
   "metadata": {
    "slideshow": {
     "slide_type": "slide"
    }
   },
   "source": [
    "## 4. Method Overriding and Polymorphism"
   ]
  },
  {
   "cell_type": "markdown",
   "id": "15069ce9",
   "metadata": {
    "slideshow": {
     "slide_type": "slide"
    }
   },
   "source": [
    "### 4.1 Method Overriding"
   ]
  },
  {
   "cell_type": "markdown",
   "id": "88de7bf2",
   "metadata": {
    "slideshow": {
     "slide_type": "slide"
    }
   },
   "source": [
    "**Method overriding** occurs when a **child class** provides a **specific implementation** for a method that is already defined in **its parent class**. This allows the child class to define its own behavior for the inherited method."
   ]
  },
  {
   "cell_type": "markdown",
   "id": "45e53fc2",
   "metadata": {
    "slideshow": {
     "slide_type": "slide"
    }
   },
   "source": [
    "- **Purpose**: To **customize** or **extend** the behavior of a method in the child class.\n",
    "- **Syntax**: A method in the child class has the **same name, parameters**, and **return type** as a method in the parent class."
   ]
  },
  {
   "cell_type": "code",
   "execution_count": null,
   "id": "6f52a47e",
   "metadata": {
    "slideshow": {
     "slide_type": "slide"
    }
   },
   "outputs": [],
   "source": [
    "# Parent class\n",
    "class Vehicle:\n",
    "    def move(self):\n",
    "        print(\"The vehicle is moving\")\n",
    "\n",
    "# Child class overriding the move method\n",
    "class Car(Vehicle):\n",
    "    def move(self):\n",
    "        print(\"The car is driving on the road\")\n",
    "\n",
    "# Creating instances\n",
    "v = Vehicle()\n",
    "c = Car()\n",
    "\n",
    "# Calling the move method\n",
    "v.move()  \n",
    "c.move()  "
   ]
  },
  {
   "cell_type": "markdown",
   "id": "2a56ca51",
   "metadata": {
    "slideshow": {
     "slide_type": "slide"
    }
   },
   "source": [
    "#### Example: Overriding the `display()` method in `Student` class"
   ]
  },
  {
   "cell_type": "markdown",
   "id": "611975b3",
   "metadata": {
    "slideshow": {
     "slide_type": "slide"
    }
   },
   "source": [
    "Let’s override the `display()` method in the `Student` class to show the grade as well:"
   ]
  },
  {
   "cell_type": "code",
   "execution_count": null,
   "id": "412b6c37",
   "metadata": {
    "slideshow": {
     "slide_type": "slide"
    }
   },
   "outputs": [],
   "source": [
    "class Student(Person):\n",
    "    def __init__(self, name, age, grade):\n",
    "        super().__init__(name, age)\n",
    "        self.grade = grade\n",
    "\n",
    "    # Overriding the display method from Person class\n",
    "    def display(self):\n",
    "        print(f\"Name: {self.name}, Age: {self.age}, Grade: {self.grade}\")"
   ]
  },
  {
   "cell_type": "code",
   "execution_count": null,
   "id": "8b351b2c",
   "metadata": {},
   "outputs": [],
   "source": [
    "student1 = Student(\"Bob\", 21, \"B\")\n",
    "student1.display()  "
   ]
  },
  {
   "cell_type": "markdown",
   "id": "aa89006e",
   "metadata": {
    "slideshow": {
     "slide_type": "slide"
    }
   },
   "source": [
    "#### Example: Overriding the `withdraw()` method from `BankAccount` to `SavingsAccount`\n",
    "\n",
    "If a `SavingsAccount` has different withdrawal rules (e.g., no withdrawals below a minimum balance), we can override the `withdraw` method."
   ]
  },
  {
   "cell_type": "code",
   "execution_count": null,
   "id": "09a98108",
   "metadata": {
    "slideshow": {
     "slide_type": "slide"
    }
   },
   "outputs": [],
   "source": [
    "class SavingsAccount(BankAccount):\n",
    "    def __init__(self, account_holder, balance=0, interest_rate=0.02):\n",
    "        super().__init__(account_holder, balance)\n",
    "        self.interest_rate = interest_rate\n",
    "\n",
    "    def withdraw(self, amount):\n",
    "        if self.balance - amount < 500:  # Minimum balance of 500\n",
    "            print(\"Withdrawal denied: Balance cannot go below 500.\")\n",
    "        else:\n",
    "            super().withdraw(amount)  # Call the parent class method"
   ]
  },
  {
   "cell_type": "markdown",
   "id": "4a2a235a",
   "metadata": {
    "slideshow": {
     "slide_type": "slide"
    }
   },
   "source": [
    "### 4.2 Polymorphism"
   ]
  },
  {
   "cell_type": "markdown",
   "id": "7ee9da19",
   "metadata": {
    "slideshow": {
     "slide_type": "slide"
    }
   },
   "source": [
    "**Polymorphism** means \"many forms\" and refers to the ability of different classes to **respond to the same method call in different ways**. \n",
    "\n",
    "It allows the same method name to be used for different types of objects.\n",
    "\n",
    "- **Purpose**: To enable objects of different classes to be treated as objects of a **common parent class**."
   ]
  },
  {
   "cell_type": "code",
   "execution_count": null,
   "id": "fe387e72",
   "metadata": {
    "slideshow": {
     "slide_type": "slide"
    }
   },
   "outputs": [],
   "source": [
    "# Parent class\n",
    "class Animal:\n",
    "    def sound(self):\n",
    "        raise NotImplementedError(\"Subclasses must implement this method\")\n",
    "\n",
    "# Child classes\n",
    "class Dog(Animal):\n",
    "    def sound(self):\n",
    "        return \"Bark\"\n",
    "\n",
    "class Cat(Animal):\n",
    "    def sound(self):\n",
    "        return \"Meow\"\n",
    "\n",
    "# Polymorphism: List of different objects\n",
    "animals = [Dog(), Cat()]\n",
    "\n",
    "# Using polymorphism to call the same method\n",
    "for animal in animals:\n",
    "    print(animal.sound())  # Output: Bark, Meow"
   ]
  },
  {
   "cell_type": "markdown",
   "id": "3c8ee6aa",
   "metadata": {
    "slideshow": {
     "slide_type": "slide"
    }
   },
   "source": [
    "In the above example:\n",
    "1. Both `Dog` and `Cat` classes override the `sound()` method of the `Animal` parent class.\n",
    "2. When we call `sound()` on each object, **polymorphism** ensures that the correct implementation is executed based on the type of the object (`Dog` or `Cat`)."
   ]
  },
  {
   "cell_type": "markdown",
   "id": "6f824f20",
   "metadata": {
    "slideshow": {
     "slide_type": "slide"
    }
   },
   "source": [
    "### 4.3 Take-away"
   ]
  },
  {
   "cell_type": "markdown",
   "id": "2ffb72e9",
   "metadata": {
    "slideshow": {
     "slide_type": "slide"
    }
   },
   "source": [
    "- **Method overriding** is a technique that allows **polymorphism** to occur. \n",
    "    - When a child class overrides a method, it enables polymorphism because objects of different classes can respond to the same method call in their own unique way.\n",
    "- **Polymorphism** is a broader concept that encompasses method overriding as a way to implement it."
   ]
  },
  {
   "cell_type": "markdown",
   "id": "a68d8286",
   "metadata": {
    "slideshow": {
     "slide_type": "slide"
    }
   },
   "source": [
    "**Visual Analogy:**\n",
    "\n",
    "- **Method Overriding**: Think of it as customizing a basic recipe. If the parent class provides a recipe for a \"generic cake,\" the child class can **override** this recipe to make a \"chocolate cake.\"\n",
    "- **Polymorphism**: Polymorphism is the ability to treat both the \"generic cake\" and \"chocolate cake\" as simply \"cakes\" when needed. You can call `bake()` on both and get the right result, even if the recipes are different."
   ]
  },
  {
   "cell_type": "markdown",
   "id": "dba13e64",
   "metadata": {
    "slideshow": {
     "slide_type": "slide"
    }
   },
   "source": [
    "---"
   ]
  }
 ],
 "metadata": {
  "celltoolbar": "Slideshow",
  "kernelspec": {
   "display_name": "Python 3 (ipykernel)",
   "language": "python",
   "name": "python3"
  },
  "language_info": {
   "codemirror_mode": {
    "name": "ipython",
    "version": 3
   },
   "file_extension": ".py",
   "mimetype": "text/x-python",
   "name": "python",
   "nbconvert_exporter": "python",
   "pygments_lexer": "ipython3",
   "version": "3.9.12"
  }
 },
 "nbformat": 4,
 "nbformat_minor": 5
}
