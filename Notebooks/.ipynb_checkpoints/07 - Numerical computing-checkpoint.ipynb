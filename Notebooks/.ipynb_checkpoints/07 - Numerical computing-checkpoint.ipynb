{
 "cells": [
  {
   "cell_type": "markdown",
   "id": "008f3ce2",
   "metadata": {
    "slideshow": {
     "slide_type": "slide"
    }
   },
   "source": [
    "# Lecture 07 - Numerical Computing (NumPy)"
   ]
  },
  {
   "cell_type": "markdown",
   "id": "f365c008",
   "metadata": {
    "slideshow": {
     "slide_type": "slide"
    }
   },
   "source": [
    "## Overview"
   ]
  },
  {
   "cell_type": "markdown",
   "id": "d930ec6c",
   "metadata": {
    "slideshow": {
     "slide_type": "slide"
    }
   },
   "source": [
    "`NumPy` (Numerical Python) is a fundamental library for scientific computing in Python. It provides support for arrays, matrices, and many mathematical functions that operate on these data structures. \n",
    "\n",
    "This notebook covers:\n",
    "- Creating and manipulating `NumPy` arrays\n",
    "- Basic mathematical operations with `NumPy`\n",
    "- Statistic calculations using `NumPy`"
   ]
  },
  {
   "cell_type": "markdown",
   "id": "ab1a233e",
   "metadata": {
    "slideshow": {
     "slide_type": "slide"
    }
   },
   "source": [
    "**Why Use NumPy?**\n",
    "\n",
    "`NumPy` offers significant advantages when working with numerical data:\n",
    "- **Performance:** `NumPy` is much faster than traditional Python lists for numerical operations.\n",
    "- **Functionality:** It provides a wide range of mathematical functions and operations.\n",
    "- **Convenience:** `NumPy` arrays are more convenient to work with, especially for large datasets."
   ]
  },
  {
   "cell_type": "markdown",
   "id": "817d28dd",
   "metadata": {
    "slideshow": {
     "slide_type": "slide"
    }
   },
   "source": [
    "## 1. Arrays of data"
   ]
  },
  {
   "cell_type": "markdown",
   "id": "342b82b2",
   "metadata": {
    "slideshow": {
     "slide_type": "slide"
    }
   },
   "source": [
    "### 1.1 Definitions"
   ]
  },
  {
   "cell_type": "markdown",
   "id": "30ceaaca",
   "metadata": {
    "slideshow": {
     "slide_type": "slide"
    }
   },
   "source": [
    "General data structures in `Python`, especially `list`, are **flexible** but can be **inefficient** in terms of memory and performance. \n",
    "\n",
    "For scientific and financial applications that demand high-performance operations on specialized data structures, `arrays` are crucial. "
   ]
  },
  {
   "cell_type": "markdown",
   "id": "da5ef52a",
   "metadata": {
    "slideshow": {
     "slide_type": "slide"
    }
   },
   "source": [
    "**What are Arrays?**\n",
    "\n",
    "**`Arrays`** organize elements of the same data type in **rows** and **columns**, typically representing numbers like real values. \n",
    "\n",
    "- A one-dimensional array represents a **vector**\n",
    "- A multi-dimensional array forms **matrices**, **cubes**, etc. \n",
    "\n",
    "To efficiently handle arrays, the `Python` library `NumPy`, with its `ndarray` class, provides powerful and specialized functionality."
   ]
  },
  {
   "cell_type": "markdown",
   "id": "044500c1",
   "metadata": {
    "slideshow": {
     "slide_type": "slide"
    }
   },
   "source": [
    "### 1.2 Using `list` to handle arrays"
   ]
  },
  {
   "cell_type": "markdown",
   "id": "c8c77761",
   "metadata": {
    "slideshow": {
     "slide_type": "slide"
    }
   },
   "source": [
    "#### Dimensionality"
   ]
  },
  {
   "cell_type": "markdown",
   "id": "f171047f",
   "metadata": {},
   "source": [
    "Python `list` can be of multiple dimensions: vector, matrices, cubes"
   ]
  },
  {
   "cell_type": "code",
   "execution_count": null,
   "id": "0c9b3f43",
   "metadata": {},
   "outputs": [],
   "source": [
    "# 1-dimension list\n",
    "v = [0.5, 0.75, 1.0, 1.5, 2.0]\n",
    "\n",
    "# 2-dimensions list = matrix\n",
    "m = [v, v, v]"
   ]
  },
  {
   "cell_type": "markdown",
   "id": "1fd72539",
   "metadata": {
    "slideshow": {
     "slide_type": "slide"
    }
   },
   "source": [
    "#### Indexing"
   ]
  },
  {
   "cell_type": "markdown",
   "id": "d4cd7076",
   "metadata": {},
   "source": [
    "*Reminder*: `list` are indexed from 0 for each of their dimensions "
   ]
  },
  {
   "cell_type": "code",
   "execution_count": null,
   "id": "29dfa767",
   "metadata": {},
   "outputs": [],
   "source": [
    "m[1]"
   ]
  },
  {
   "cell_type": "code",
   "execution_count": null,
   "id": "2c3c2692",
   "metadata": {},
   "outputs": [],
   "source": [
    "m[1][0]"
   ]
  },
  {
   "cell_type": "markdown",
   "id": "a9ecc8a4",
   "metadata": {
    "slideshow": {
     "slide_type": "slide"
    }
   },
   "source": [
    "#### *n*-dimensions & deep copies"
   ]
  },
  {
   "cell_type": "markdown",
   "id": "aff2de60",
   "metadata": {},
   "source": [
    "`list` of *n*-dimensions can be constructed as vectors of other lists."
   ]
  },
  {
   "cell_type": "code",
   "execution_count": null,
   "id": "b28b1368",
   "metadata": {},
   "outputs": [],
   "source": [
    "v1 = [0.5, 1.5]\n",
    "v2 = [1, 2]\n",
    "m = [v1, v2]\n",
    "c = [m, m]\n",
    "c"
   ]
  },
  {
   "cell_type": "markdown",
   "id": "1ae29b82",
   "metadata": {
    "hidePrompt": true,
    "slideshow": {
     "slide_type": "slide"
    }
   },
   "source": [
    "However, such construction leads to dependencies in terms of references and memory.\n",
    "\n",
    "By default, a copy of a vector in a `list` points to the same original values. Operations on the copy therefore also apply to the origin."
   ]
  },
  {
   "cell_type": "code",
   "execution_count": 1,
   "id": "709999ff",
   "metadata": {},
   "outputs": [
    {
     "data": {
      "text/plain": [
       "[['Python', 0.75, 1.0, 1.5, 2.0],\n",
       " ['Python', 0.75, 1.0, 1.5, 2.0],\n",
       " ['Python', 0.75, 1.0, 1.5, 2.0]]"
      ]
     },
     "execution_count": 1,
     "metadata": {},
     "output_type": "execute_result"
    }
   ],
   "source": [
    "v = [0.5, 0.75, 1.0, 1.5, 2.0]\n",
    "m = [v, v, v]\n",
    "v[0] = 'Python'\n",
    "m"
   ]
  },
  {
   "cell_type": "markdown",
   "id": "74d17b50",
   "metadata": {
    "slideshow": {
     "slide_type": "slide"
    }
   },
   "source": [
    "**Deep copies** allow to decouple origins and copies by creating different references in the memory."
   ]
  },
  {
   "cell_type": "code",
   "execution_count": 2,
   "id": "01bad2dd",
   "metadata": {},
   "outputs": [
    {
     "data": {
      "text/plain": [
       "[[0.5, 0.75, 1.0, 1.5, 2.0],\n",
       " [0.5, 0.75, 1.0, 1.5, 2.0],\n",
       " [0.5, 0.75, 1.0, 1.5, 2.0]]"
      ]
     },
     "execution_count": 2,
     "metadata": {},
     "output_type": "execute_result"
    }
   ],
   "source": [
    "from copy import deepcopy\n",
    "v = [0.5, 0.75, 1.0, 1.5, 2.0]\n",
    "m = 3 * [deepcopy(v)]\n",
    "m"
   ]
  },
  {
   "cell_type": "code",
   "execution_count": 3,
   "id": "314cc2a0",
   "metadata": {},
   "outputs": [
    {
     "data": {
      "text/plain": [
       "[[0.5, 0.75, 1.0, 1.5, 2.0],\n",
       " [0.5, 0.75, 1.0, 1.5, 2.0],\n",
       " [0.5, 0.75, 1.0, 1.5, 2.0]]"
      ]
     },
     "execution_count": 3,
     "metadata": {},
     "output_type": "execute_result"
    }
   ],
   "source": [
    "v[0] = 'Python'\n",
    "m"
   ]
  },
  {
   "cell_type": "code",
   "execution_count": null,
   "id": "9a47f4f7",
   "metadata": {},
   "outputs": [],
   "source": [
    "v"
   ]
  },
  {
   "cell_type": "markdown",
   "id": "cdf07d37",
   "metadata": {
    "slideshow": {
     "slide_type": "slide"
    }
   },
   "source": [
    "## 2. Regular NumPy arrays"
   ]
  },
  {
   "cell_type": "markdown",
   "id": "1f6119e9",
   "metadata": {
    "slideshow": {
     "slide_type": "slide"
    }
   },
   "source": [
    "### 2.1 The basics"
   ]
  },
  {
   "cell_type": "markdown",
   "id": "8f206dab",
   "metadata": {},
   "source": [
    "Using `list` objects to compose array structures is possible, but **not very convenient** since the list class is designed for **broader, general purposes**. \n",
    "\n",
    "A truly dedicated class for handling array-type structures is far more beneficial. \n",
    "\n",
    "`numpy.array` is such a class, built with the specific goal of handling *n*-dimensional arrays both conveniently and efficiently."
   ]
  },
  {
   "cell_type": "code",
   "execution_count": 4,
   "id": "f94408f8",
   "metadata": {
    "slideshow": {
     "slide_type": "slide"
    }
   },
   "outputs": [
    {
     "data": {
      "text/plain": [
       "array([0. , 0.5, 1. , 1.5, 2. ])"
      ]
     },
     "execution_count": 4,
     "metadata": {},
     "output_type": "execute_result"
    }
   ],
   "source": [
    "import numpy as np\n",
    "a = np.array([0, 0.5, 1.0, 1.5, 2.0])\n",
    "a"
   ]
  },
  {
   "cell_type": "code",
   "execution_count": 5,
   "id": "72d6d474",
   "metadata": {},
   "outputs": [
    {
     "data": {
      "text/plain": [
       "numpy.ndarray"
      ]
     },
     "execution_count": 5,
     "metadata": {},
     "output_type": "execute_result"
    }
   ],
   "source": [
    "type(a)"
   ]
  },
  {
   "cell_type": "code",
   "execution_count": 6,
   "id": "17cb741b",
   "metadata": {},
   "outputs": [
    {
     "data": {
      "text/plain": [
       "array(['a', 'b', 'c'], dtype='<U1')"
      ]
     },
     "execution_count": 6,
     "metadata": {},
     "output_type": "execute_result"
    }
   ],
   "source": [
    "a = np.array(['a', 'b', 'c'])\n",
    "a"
   ]
  },
  {
   "cell_type": "markdown",
   "id": "52f5a5e5",
   "metadata": {
    "slideshow": {
     "slide_type": "slide"
    }
   },
   "source": [
    "#### `arange()`"
   ]
  },
  {
   "cell_type": "markdown",
   "id": "ec6b1bf9",
   "metadata": {
    "slideshow": {
     "slide_type": "slide"
    }
   },
   "source": [
    "Similar to the `range` function"
   ]
  },
  {
   "cell_type": "code",
   "execution_count": 7,
   "id": "f8ee0e27",
   "metadata": {},
   "outputs": [
    {
     "data": {
      "text/plain": [
       "array([ 2,  4,  6,  8, 10, 12, 14, 16, 18])"
      ]
     },
     "execution_count": 7,
     "metadata": {},
     "output_type": "execute_result"
    }
   ],
   "source": [
    "a = np.arange(2, 20, 2)\n",
    "a"
   ]
  },
  {
   "cell_type": "code",
   "execution_count": 8,
   "id": "4aeb4e14",
   "metadata": {},
   "outputs": [
    {
     "data": {
      "text/plain": [
       "array([0., 1., 2., 3., 4., 5., 6., 7.])"
      ]
     },
     "execution_count": 8,
     "metadata": {},
     "output_type": "execute_result"
    }
   ],
   "source": [
    "a = np.arange(8, dtype=float)\n",
    "a"
   ]
  },
  {
   "cell_type": "markdown",
   "id": "3cea4fcf",
   "metadata": {
    "slideshow": {
     "slide_type": "slide"
    }
   },
   "source": [
    "#### Indexing"
   ]
  },
  {
   "cell_type": "markdown",
   "id": "2e00cb45",
   "metadata": {
    "slideshow": {
     "slide_type": "slide"
    }
   },
   "source": [
    "Indexing works like in `list`."
   ]
  },
  {
   "cell_type": "code",
   "execution_count": null,
   "id": "4f6af0a4",
   "metadata": {},
   "outputs": [],
   "source": [
    "a[5:]"
   ]
  },
  {
   "cell_type": "code",
   "execution_count": null,
   "id": "2034bea6",
   "metadata": {},
   "outputs": [],
   "source": [
    "a[:2]"
   ]
  },
  {
   "cell_type": "markdown",
   "id": "f20dee9e",
   "metadata": {
    "slideshow": {
     "slide_type": "slide"
    }
   },
   "source": [
    "#### `ndarray` built-in methods"
   ]
  },
  {
   "cell_type": "code",
   "execution_count": 9,
   "id": "90e39cc1",
   "metadata": {
    "slideshow": {
     "slide_type": "slide"
    }
   },
   "outputs": [
    {
     "data": {
      "text/plain": [
       "28.0"
      ]
     },
     "execution_count": 9,
     "metadata": {},
     "output_type": "execute_result"
    }
   ],
   "source": [
    "a.sum()"
   ]
  },
  {
   "cell_type": "code",
   "execution_count": 10,
   "id": "71a4b914",
   "metadata": {},
   "outputs": [
    {
     "data": {
      "text/plain": [
       "2.29128784747792"
      ]
     },
     "execution_count": 10,
     "metadata": {},
     "output_type": "execute_result"
    }
   ],
   "source": [
    "a.std()"
   ]
  },
  {
   "cell_type": "code",
   "execution_count": 11,
   "id": "796d19c7",
   "metadata": {},
   "outputs": [
    {
     "data": {
      "text/plain": [
       "array([ 0.,  1.,  3.,  6., 10., 15., 21., 28.])"
      ]
     },
     "execution_count": 11,
     "metadata": {},
     "output_type": "execute_result"
    }
   ],
   "source": [
    "a.cumsum()"
   ]
  },
  {
   "cell_type": "markdown",
   "id": "188ea16f",
   "metadata": {
    "slideshow": {
     "slide_type": "slide"
    }
   },
   "source": [
    "**(Vectorized) Math operations**"
   ]
  },
  {
   "cell_type": "code",
   "execution_count": 12,
   "id": "273c3caa",
   "metadata": {
    "slideshow": {
     "slide_type": "slide"
    }
   },
   "outputs": [
    {
     "data": {
      "text/plain": [
       "[0.0, 0.5, 1.5, 3.0, 5.0, 0.0, 0.5, 1.5, 3.0, 5.0]"
      ]
     },
     "execution_count": 12,
     "metadata": {},
     "output_type": "execute_result"
    }
   ],
   "source": [
    "# with python list\n",
    "l = [0., 0.5, 1.5, 3., 5.]\n",
    "2 * l"
   ]
  },
  {
   "cell_type": "code",
   "execution_count": 13,
   "id": "d0adddfa",
   "metadata": {},
   "outputs": [
    {
     "data": {
      "text/plain": [
       "array([ 0.,  2.,  4.,  6.,  8., 10., 12., 14.])"
      ]
     },
     "execution_count": 13,
     "metadata": {},
     "output_type": "execute_result"
    }
   ],
   "source": [
    "# with NumPy\n",
    "2 * a"
   ]
  },
  {
   "cell_type": "code",
   "execution_count": 14,
   "id": "fa7bc23e",
   "metadata": {},
   "outputs": [
    {
     "data": {
      "text/plain": [
       "array([ 0.,  1.,  4.,  9., 16., 25., 36., 49.])"
      ]
     },
     "execution_count": 14,
     "metadata": {},
     "output_type": "execute_result"
    }
   ],
   "source": [
    "a ** 2"
   ]
  },
  {
   "cell_type": "code",
   "execution_count": 15,
   "id": "c98a4e01",
   "metadata": {},
   "outputs": [
    {
     "data": {
      "text/plain": [
       "array([1.00000e+00, 1.00000e+00, 4.00000e+00, 2.70000e+01, 2.56000e+02,\n",
       "       3.12500e+03, 4.66560e+04, 8.23543e+05])"
      ]
     },
     "execution_count": 15,
     "metadata": {},
     "output_type": "execute_result"
    }
   ],
   "source": [
    "a ** a"
   ]
  },
  {
   "cell_type": "markdown",
   "id": "f1b6fbda",
   "metadata": {
    "slideshow": {
     "slide_type": "slide"
    }
   },
   "source": [
    "**Universal functions**\n",
    "\n",
    "“Universal” because they operate on `ndarray` objects as well as on basic Python data types."
   ]
  },
  {
   "cell_type": "code",
   "execution_count": 16,
   "id": "21d6750f",
   "metadata": {
    "slideshow": {
     "slide_type": "slide"
    }
   },
   "outputs": [
    {
     "data": {
      "text/plain": [
       "array([1.00000000e+00, 2.71828183e+00, 7.38905610e+00, 2.00855369e+01,\n",
       "       5.45981500e+01, 1.48413159e+02, 4.03428793e+02, 1.09663316e+03])"
      ]
     },
     "execution_count": 16,
     "metadata": {},
     "output_type": "execute_result"
    }
   ],
   "source": [
    "np.exp(a)"
   ]
  },
  {
   "cell_type": "code",
   "execution_count": 17,
   "id": "f5781a8c",
   "metadata": {},
   "outputs": [
    {
     "data": {
      "text/plain": [
       "array([0.        , 1.        , 1.41421356, 1.73205081, 2.        ,\n",
       "       2.23606798, 2.44948974, 2.64575131])"
      ]
     },
     "execution_count": 17,
     "metadata": {},
     "output_type": "execute_result"
    }
   ],
   "source": [
    "np.sqrt(a)"
   ]
  },
  {
   "cell_type": "code",
   "execution_count": 18,
   "id": "7df890a8",
   "metadata": {},
   "outputs": [
    {
     "data": {
      "text/plain": [
       "1.5811388300841898"
      ]
     },
     "execution_count": 18,
     "metadata": {},
     "output_type": "execute_result"
    }
   ],
   "source": [
    "np.sqrt(2.5)"
   ]
  },
  {
   "cell_type": "markdown",
   "id": "45a16143",
   "metadata": {
    "slideshow": {
     "slide_type": "slide"
    }
   },
   "source": [
    "#### Matrices"
   ]
  },
  {
   "cell_type": "code",
   "execution_count": 19,
   "id": "45f44fcf",
   "metadata": {},
   "outputs": [
    {
     "data": {
      "text/plain": [
       "array([[ 0.,  1.,  2.,  3.,  4.,  5.,  6.,  7.],\n",
       "       [ 0.,  2.,  4.,  6.,  8., 10., 12., 14.]])"
      ]
     },
     "execution_count": 19,
     "metadata": {},
     "output_type": "execute_result"
    }
   ],
   "source": [
    "b = np.array([a, a * 2])\n",
    "b"
   ]
  },
  {
   "cell_type": "code",
   "execution_count": 20,
   "id": "00d24f64",
   "metadata": {},
   "outputs": [
    {
     "data": {
      "text/plain": [
       "array([0., 1., 2., 3., 4., 5., 6., 7.])"
      ]
     },
     "execution_count": 20,
     "metadata": {},
     "output_type": "execute_result"
    }
   ],
   "source": [
    "b[0]"
   ]
  },
  {
   "cell_type": "code",
   "execution_count": 21,
   "id": "339262ae",
   "metadata": {},
   "outputs": [
    {
     "data": {
      "text/plain": [
       "2.0"
      ]
     },
     "execution_count": 21,
     "metadata": {},
     "output_type": "execute_result"
    }
   ],
   "source": [
    "b[0,2]"
   ]
  },
  {
   "cell_type": "code",
   "execution_count": 22,
   "id": "8120d3f9",
   "metadata": {},
   "outputs": [
    {
     "data": {
      "text/plain": [
       "array([1., 2.])"
      ]
     },
     "execution_count": 22,
     "metadata": {},
     "output_type": "execute_result"
    }
   ],
   "source": [
    "b[:,1]"
   ]
  },
  {
   "cell_type": "code",
   "execution_count": 23,
   "id": "af33538c",
   "metadata": {
    "slideshow": {
     "slide_type": "slide"
    }
   },
   "outputs": [
    {
     "data": {
      "text/plain": [
       "84.0"
      ]
     },
     "execution_count": 23,
     "metadata": {},
     "output_type": "execute_result"
    }
   ],
   "source": [
    "b.sum()"
   ]
  },
  {
   "cell_type": "code",
   "execution_count": 24,
   "id": "2b1dff28",
   "metadata": {},
   "outputs": [
    {
     "data": {
      "text/plain": [
       "array([ 0.,  3.,  6.,  9., 12., 15., 18., 21.])"
      ]
     },
     "execution_count": 24,
     "metadata": {},
     "output_type": "execute_result"
    }
   ],
   "source": [
    "# column-wise operation\n",
    "b.sum(axis = 0)"
   ]
  },
  {
   "cell_type": "code",
   "execution_count": 25,
   "id": "20dc87e8",
   "metadata": {},
   "outputs": [
    {
     "data": {
      "text/plain": [
       "array([28., 56.])"
      ]
     },
     "execution_count": 25,
     "metadata": {},
     "output_type": "execute_result"
    }
   ],
   "source": [
    "# row-wise operation\n",
    "b.sum(axis = 1)"
   ]
  },
  {
   "cell_type": "markdown",
   "id": "b085ce47",
   "metadata": {
    "slideshow": {
     "slide_type": "slide"
    }
   },
   "source": [
    "### 2.2 Initialization"
   ]
  },
  {
   "cell_type": "markdown",
   "id": "6a41c180",
   "metadata": {
    "slideshow": {
     "slide_type": "slide"
    }
   },
   "source": [
    "**Initialization functions** allow to construct *n*-dimensional arrays with pre-instructed procedures to fill each data point:\n",
    "- `np.zeros()`, `np.zeros_like()`\n",
    "- `np.ones()`, `np.ones_like()`\n",
    "- `np.empty()`, `np.empty_like()`\n",
    "- `np.eye()`\n",
    "- `np.linspace()`"
   ]
  },
  {
   "cell_type": "markdown",
   "id": "8cfdd5e9",
   "metadata": {
    "slideshow": {
     "slide_type": "slide"
    }
   },
   "source": [
    "For initialization functions, one can provide the following parameters:\n",
    "- `shape`: Either an `int`, a sequence of `int` objects, or a reference to another `ndarray`\n",
    "- `dtype` (*optional*): A `dtype`—these are `NumPy`-specific data types for `ndarray` objects"
   ]
  },
  {
   "cell_type": "markdown",
   "id": "516703dd",
   "metadata": {
    "slideshow": {
     "slide_type": "slide"
    }
   },
   "source": [
    "|dtype | Description|\n",
    "| --- | ---- |\n",
    "| ? | Boolean| \n",
    "| i | Signed integer |\n",
    "| u | Unsigned integer |\n",
    "| f | Floating point |\n",
    "| c | Complex floating point |\n",
    "| m | timedelta |\n",
    "| M | datetime |\n",
    "| O | Object |\n",
    "| U | Unicode |\n",
    "| V | Raw data (void)|"
   ]
  },
  {
   "cell_type": "markdown",
   "id": "55d56f50",
   "metadata": {
    "slideshow": {
     "slide_type": "slide"
    }
   },
   "source": [
    "#### `np.zeros()`"
   ]
  },
  {
   "cell_type": "markdown",
   "id": "f1f8682a",
   "metadata": {
    "slideshow": {
     "slide_type": "-"
    }
   },
   "source": [
    "The `np.zeros()` function creates a 2-dimensional array of zeros with specific characteristics."
   ]
  },
  {
   "cell_type": "code",
   "execution_count": 26,
   "id": "b3957b25",
   "metadata": {
    "slideshow": {
     "slide_type": "slide"
    }
   },
   "outputs": [
    {
     "data": {
      "text/plain": [
       "array([[0, 0, 0],\n",
       "       [0, 0, 0]], dtype=int32)"
      ]
     },
     "execution_count": 26,
     "metadata": {},
     "output_type": "execute_result"
    }
   ],
   "source": [
    "c = np.zeros((2, 3), dtype='i')\n",
    "c"
   ]
  },
  {
   "cell_type": "code",
   "execution_count": 27,
   "id": "6a36f969",
   "metadata": {},
   "outputs": [
    {
     "data": {
      "text/plain": [
       "array([[0., 0., 0.],\n",
       "       [0., 0., 0.]], dtype=float32)"
      ]
     },
     "execution_count": 27,
     "metadata": {},
     "output_type": "execute_result"
    }
   ],
   "source": [
    "d = np.zeros_like(c, dtype='f')\n",
    "d"
   ]
  },
  {
   "cell_type": "markdown",
   "id": "9f9a6947",
   "metadata": {
    "slideshow": {
     "slide_type": "slide"
    }
   },
   "source": [
    "#### `np.ones()`"
   ]
  },
  {
   "cell_type": "markdown",
   "id": "a88ea720",
   "metadata": {
    "slideshow": {
     "slide_type": "-"
    }
   },
   "source": [
    "The `np.ones()` function creates a 2-dimensional array of ones with specific characteristics."
   ]
  },
  {
   "cell_type": "code",
   "execution_count": 28,
   "id": "78eedd8f",
   "metadata": {
    "slideshow": {
     "slide_type": "slide"
    }
   },
   "outputs": [
    {
     "data": {
      "text/plain": [
       "array([[[1, 1, 1, 1],\n",
       "        [1, 1, 1, 1],\n",
       "        [1, 1, 1, 1]],\n",
       "\n",
       "       [[1, 1, 1, 1],\n",
       "        [1, 1, 1, 1],\n",
       "        [1, 1, 1, 1]]], dtype=int32)"
      ]
     },
     "execution_count": 28,
     "metadata": {},
     "output_type": "execute_result"
    }
   ],
   "source": [
    "c = np.ones((2, 3, 4), dtype='i')\n",
    "c"
   ]
  },
  {
   "cell_type": "markdown",
   "id": "8ae1ce8d",
   "metadata": {
    "slideshow": {
     "slide_type": "slide"
    }
   },
   "source": [
    "This example generates an array filled with ones. The shape of the array is (2, 3, 4), which means it will have:\n",
    "- 2 blocks (first dimension),\n",
    "- each block contains 3 rows (second dimension),\n",
    "- and each row contains 4 elements (third dimension).\n",
    "\n",
    "The result is a 3D array like:\n",
    "```python\n",
    "[\n",
    "  [[1, 1, 1, 1], [1, 1, 1, 1], [1, 1, 1, 1]],  # First block (2x3x4)\n",
    "  [[1, 1, 1, 1], [1, 1, 1, 1], [1, 1, 1, 1]]   # Second block (2x3x4)\n",
    "]\n",
    "```"
   ]
  },
  {
   "cell_type": "code",
   "execution_count": 29,
   "id": "22434478",
   "metadata": {
    "slideshow": {
     "slide_type": "slide"
    }
   },
   "outputs": [
    {
     "data": {
      "text/plain": [
       "array([[[1., 1., 1., 1.],\n",
       "        [1., 1., 1., 1.],\n",
       "        [1., 1., 1., 1.]],\n",
       "\n",
       "       [[1., 1., 1., 1.],\n",
       "        [1., 1., 1., 1.],\n",
       "        [1., 1., 1., 1.]]], dtype=float32)"
      ]
     },
     "execution_count": 29,
     "metadata": {},
     "output_type": "execute_result"
    }
   ],
   "source": [
    "d = np.ones_like(c, dtype='f')\n",
    "d"
   ]
  },
  {
   "cell_type": "markdown",
   "id": "02dfc287",
   "metadata": {
    "slideshow": {
     "slide_type": "slide"
    }
   },
   "source": [
    "#### `np.empty()`"
   ]
  },
  {
   "cell_type": "markdown",
   "id": "cf723f1b",
   "metadata": {
    "slideshow": {
     "slide_type": "-"
    }
   },
   "source": [
    "Unlike `np.ones()` or `np.zeros()`, `np.empty()` does not initialize the array with any specific values like 1 or 0. \n",
    "\n",
    "Instead, it leaves the array filled with whatever data is already in memory at that location. This means the array will have arbitrary values, often referred to as “garbage” values. This makes np.empty() faster than functions that initialize the array with specific values because it skips that step.\n",
    "\n",
    "**Empty view**\n",
    "\n",
    "```python\n",
    "[\n",
    "  [[?, ?], [?, ?], [?, ?]],  # First block (2x3x2)\n",
    "  [[?, ?], [?, ?], [?, ?]]   # Second block (2x3x2)\n",
    "]\n",
    "```\n",
    "\n",
    "Where the `?` symbols represent random or garbage values, because the array is uninitialized."
   ]
  },
  {
   "cell_type": "code",
   "execution_count": 31,
   "id": "8157e4f6",
   "metadata": {
    "slideshow": {
     "slide_type": "slide"
    }
   },
   "outputs": [
    {
     "data": {
      "text/plain": [
       "array([[[0.0078125, 0.0078125],\n",
       "        [0.0078125, 0.0078125],\n",
       "        [0.0078125, 0.0078125]],\n",
       "\n",
       "       [[0.0078125, 0.0078125],\n",
       "        [0.0078125, 0.0078125],\n",
       "        [0.0078125, 0.0078125]]])"
      ]
     },
     "execution_count": 31,
     "metadata": {},
     "output_type": "execute_result"
    }
   ],
   "source": [
    "e = np.empty((2, 3, 2))\n",
    "e"
   ]
  },
  {
   "cell_type": "code",
   "execution_count": 32,
   "id": "2319690d",
   "metadata": {},
   "outputs": [
    {
     "data": {
      "text/plain": [
       "array([[[1065353216, 1065353216, 1065353216, 1065353216],\n",
       "        [1065353216, 1065353216, 1065353216, 1065353216],\n",
       "        [1065353216, 1065353216, 1065353216, 1065353216]],\n",
       "\n",
       "       [[1065353216, 1065353216, 1065353216, 1065353216],\n",
       "        [1065353216, 1065353216, 1065353216, 1065353216],\n",
       "        [1065353216, 1065353216, 1065353216, 1065353216]]], dtype=int32)"
      ]
     },
     "execution_count": 32,
     "metadata": {},
     "output_type": "execute_result"
    }
   ],
   "source": [
    "f = np.empty_like(c)\n",
    "f"
   ]
  },
  {
   "cell_type": "markdown",
   "id": "fd54de69",
   "metadata": {
    "slideshow": {
     "slide_type": "slide"
    }
   },
   "source": [
    "#### `np.eye()`"
   ]
  },
  {
   "cell_type": "markdown",
   "id": "5be7d5e6",
   "metadata": {
    "slideshow": {
     "slide_type": "-"
    }
   },
   "source": [
    "The `np.eye(n)` function creates a 2D identity matrix of size nxn"
   ]
  },
  {
   "cell_type": "code",
   "execution_count": 33,
   "id": "37530ddd",
   "metadata": {
    "slideshow": {
     "slide_type": "slide"
    }
   },
   "outputs": [
    {
     "data": {
      "text/plain": [
       "array([[1., 0., 0., 0., 0.],\n",
       "       [0., 1., 0., 0., 0.],\n",
       "       [0., 0., 1., 0., 0.],\n",
       "       [0., 0., 0., 1., 0.],\n",
       "       [0., 0., 0., 0., 1.]])"
      ]
     },
     "execution_count": 33,
     "metadata": {},
     "output_type": "execute_result"
    }
   ],
   "source": [
    "np.eye(5)"
   ]
  },
  {
   "cell_type": "markdown",
   "id": "58128315",
   "metadata": {
    "slideshow": {
     "slide_type": "slide"
    }
   },
   "source": [
    "#### `np.linspace()`"
   ]
  },
  {
   "cell_type": "markdown",
   "id": "8f0331e8",
   "metadata": {
    "slideshow": {
     "slide_type": "-"
    }
   },
   "source": [
    "The `np.linspace()` function creates a 1-dimensional array of evenly spaced numbers."
   ]
  },
  {
   "cell_type": "code",
   "execution_count": 34,
   "id": "eec0260c",
   "metadata": {
    "slideshow": {
     "slide_type": "slide"
    }
   },
   "outputs": [
    {
     "data": {
      "text/plain": [
       "array([ 5.        ,  5.90909091,  6.81818182,  7.72727273,  8.63636364,\n",
       "        9.54545455, 10.45454545, 11.36363636, 12.27272727, 13.18181818,\n",
       "       14.09090909, 15.        ])"
      ]
     },
     "execution_count": 34,
     "metadata": {},
     "output_type": "execute_result"
    }
   ],
   "source": [
    "g = np.linspace(5, 15, 12)\n",
    "g"
   ]
  },
  {
   "cell_type": "markdown",
   "id": "5558a8c9",
   "metadata": {
    "slideshow": {
     "slide_type": "slide"
    }
   },
   "source": [
    "### 2.3 Metainformation"
   ]
  },
  {
   "cell_type": "markdown",
   "id": "4e9e6f1d",
   "metadata": {
    "slideshow": {
     "slide_type": "-"
    }
   },
   "source": [
    "Arrays deliver several meta-information."
   ]
  },
  {
   "cell_type": "markdown",
   "id": "9f7c1dcd",
   "metadata": {
    "slideshow": {
     "slide_type": "slide"
    }
   },
   "source": [
    "- `size` returns the total number of elements in the array"
   ]
  },
  {
   "cell_type": "code",
   "execution_count": 36,
   "id": "c30d17f6",
   "metadata": {},
   "outputs": [
    {
     "data": {
      "text/plain": [
       "array([ 5.        ,  5.90909091,  6.81818182,  7.72727273,  8.63636364,\n",
       "        9.54545455, 10.45454545, 11.36363636, 12.27272727, 13.18181818,\n",
       "       14.09090909, 15.        ])"
      ]
     },
     "execution_count": 36,
     "metadata": {},
     "output_type": "execute_result"
    }
   ],
   "source": [
    "g"
   ]
  },
  {
   "cell_type": "code",
   "execution_count": 35,
   "id": "2c189f54",
   "metadata": {},
   "outputs": [
    {
     "data": {
      "text/plain": [
       "12"
      ]
     },
     "execution_count": 35,
     "metadata": {},
     "output_type": "execute_result"
    }
   ],
   "source": [
    "g.size"
   ]
  },
  {
   "cell_type": "markdown",
   "id": "a81ae87d",
   "metadata": {
    "slideshow": {
     "slide_type": "slide"
    }
   },
   "source": [
    "- `itemsize` returns the size (in bytes) of each element in the array"
   ]
  },
  {
   "cell_type": "code",
   "execution_count": 37,
   "id": "b0c83a54",
   "metadata": {},
   "outputs": [
    {
     "data": {
      "text/plain": [
       "8"
      ]
     },
     "execution_count": 37,
     "metadata": {},
     "output_type": "execute_result"
    }
   ],
   "source": [
    "g.itemsize"
   ]
  },
  {
   "cell_type": "markdown",
   "id": "e35f14b5",
   "metadata": {
    "slideshow": {
     "slide_type": "slide"
    }
   },
   "source": [
    "- `ndim` returns the number of dimensions of the array"
   ]
  },
  {
   "cell_type": "code",
   "execution_count": 38,
   "id": "05cd684e",
   "metadata": {},
   "outputs": [
    {
     "data": {
      "text/plain": [
       "1"
      ]
     },
     "execution_count": 38,
     "metadata": {},
     "output_type": "execute_result"
    }
   ],
   "source": [
    "g.ndim"
   ]
  },
  {
   "cell_type": "markdown",
   "id": "f797fb76",
   "metadata": {
    "slideshow": {
     "slide_type": "slide"
    }
   },
   "source": [
    "- `shape` returns the shape of the array"
   ]
  },
  {
   "cell_type": "code",
   "execution_count": 39,
   "id": "81bb9a84",
   "metadata": {},
   "outputs": [
    {
     "data": {
      "text/plain": [
       "(12,)"
      ]
     },
     "execution_count": 39,
     "metadata": {},
     "output_type": "execute_result"
    }
   ],
   "source": [
    "g.shape"
   ]
  },
  {
   "cell_type": "markdown",
   "id": "ca2cdac8",
   "metadata": {
    "slideshow": {
     "slide_type": "slide"
    }
   },
   "source": [
    "- `dtype` returns the data type of the elements in the array"
   ]
  },
  {
   "cell_type": "code",
   "execution_count": 40,
   "id": "cccc9991",
   "metadata": {},
   "outputs": [
    {
     "data": {
      "text/plain": [
       "dtype('float64')"
      ]
     },
     "execution_count": 40,
     "metadata": {},
     "output_type": "execute_result"
    }
   ],
   "source": [
    "g.dtype"
   ]
  },
  {
   "cell_type": "markdown",
   "id": "88b59334",
   "metadata": {
    "slideshow": {
     "slide_type": "slide"
    }
   },
   "source": [
    "- `nbytes` returns the total number of bytes consumed by the elements of the array"
   ]
  },
  {
   "cell_type": "code",
   "execution_count": null,
   "id": "f1f2a706",
   "metadata": {},
   "outputs": [],
   "source": [
    "g.nbytes"
   ]
  },
  {
   "cell_type": "markdown",
   "id": "e6fb5dcd",
   "metadata": {
    "slideshow": {
     "slide_type": "slide"
    }
   },
   "source": [
    "### 2.4 Structural operations"
   ]
  },
  {
   "cell_type": "code",
   "execution_count": 41,
   "id": "c26ff356",
   "metadata": {
    "slideshow": {
     "slide_type": "slide"
    }
   },
   "outputs": [
    {
     "name": "stdout",
     "output_type": "stream",
     "text": [
      "[ 0  1  2  3  4  5  6  7  8  9 10 11 12 13 14]\n",
      "(15,)\n",
      "(15,)\n"
     ]
    }
   ],
   "source": [
    "# Initialise an array\n",
    "g = np.arange(15)\n",
    "print (g)\n",
    "print (g.shape)\n",
    "print (np.shape(g))"
   ]
  },
  {
   "cell_type": "markdown",
   "id": "ccf34b30",
   "metadata": {
    "slideshow": {
     "slide_type": "slide"
    }
   },
   "source": [
    "#### Reshaping"
   ]
  },
  {
   "cell_type": "markdown",
   "id": "d681be77",
   "metadata": {
    "slideshow": {
     "slide_type": "-"
    }
   },
   "source": [
    "Reshaping provides another view on the same data. During a reshaping operation, the total number of elements in the ndarray object is unchanged.\n",
    "- `np.shape(a, newshape)`\n",
    "- `np.reshape(a, newshape)`"
   ]
  },
  {
   "cell_type": "code",
   "execution_count": 42,
   "id": "1a4e6a46",
   "metadata": {
    "scrolled": true,
    "slideshow": {
     "slide_type": "slide"
    }
   },
   "outputs": [
    {
     "data": {
      "text/plain": [
       "array([[ 0,  1,  2,  3,  4],\n",
       "       [ 5,  6,  7,  8,  9],\n",
       "       [10, 11, 12, 13, 14]])"
      ]
     },
     "execution_count": 42,
     "metadata": {},
     "output_type": "execute_result"
    }
   ],
   "source": [
    "g.reshape((3,5))"
   ]
  },
  {
   "cell_type": "code",
   "execution_count": 43,
   "id": "e94be42c",
   "metadata": {
    "scrolled": true
   },
   "outputs": [
    {
     "data": {
      "text/plain": [
       "array([[ 0,  1,  2],\n",
       "       [ 3,  4,  5],\n",
       "       [ 6,  7,  8],\n",
       "       [ 9, 10, 11],\n",
       "       [12, 13, 14]])"
      ]
     },
     "execution_count": 43,
     "metadata": {},
     "output_type": "execute_result"
    }
   ],
   "source": [
    "h = g.reshape((5,3))\n",
    "h"
   ]
  },
  {
   "cell_type": "markdown",
   "id": "dbed627b",
   "metadata": {
    "slideshow": {
     "slide_type": "slide"
    }
   },
   "source": [
    "#### Transposing"
   ]
  },
  {
   "cell_type": "markdown",
   "id": "2be52118",
   "metadata": {
    "slideshow": {
     "slide_type": "-"
    }
   },
   "source": [
    "Transposing creates a view of the original array (i.e., it does not create a new object unless explicitly copied). The dimensions (axes) of the `ndarray` object are swapped. For 2D arrays, this means rows become columns and columns become rows. For higher-dimensional arrays, the axes are reordered according to the shape.\n",
    "\n",
    "- `a.transpose(*axes)`\n",
    "- `np.transpose(a, axes)`"
   ]
  },
  {
   "cell_type": "code",
   "execution_count": 44,
   "id": "5bcaedd0",
   "metadata": {
    "scrolled": false,
    "slideshow": {
     "slide_type": "slide"
    }
   },
   "outputs": [
    {
     "data": {
      "text/plain": [
       "array([[ 0,  3,  6,  9, 12],\n",
       "       [ 1,  4,  7, 10, 13],\n",
       "       [ 2,  5,  8, 11, 14]])"
      ]
     },
     "execution_count": 44,
     "metadata": {},
     "output_type": "execute_result"
    }
   ],
   "source": [
    "h.transpose()"
   ]
  },
  {
   "cell_type": "code",
   "execution_count": 45,
   "id": "edc6c127",
   "metadata": {
    "scrolled": true
   },
   "outputs": [
    {
     "data": {
      "text/plain": [
       "array([[ 0,  3,  6,  9, 12],\n",
       "       [ 1,  4,  7, 10, 13],\n",
       "       [ 2,  5,  8, 11, 14]])"
      ]
     },
     "execution_count": 45,
     "metadata": {},
     "output_type": "execute_result"
    }
   ],
   "source": [
    "h.T"
   ]
  },
  {
   "cell_type": "markdown",
   "id": "0337a206",
   "metadata": {
    "slideshow": {
     "slide_type": "slide"
    }
   },
   "source": [
    "#### Resizing "
   ]
  },
  {
   "cell_type": "markdown",
   "id": "2e83e690",
   "metadata": {
    "slideshow": {
     "slide_type": "-"
    }
   },
   "source": [
    "Resizing creates a new (temporary) object. \n",
    "\n",
    "During a resizing operation, the total number of elements in the `ndarray` object changes: it either decreases (“down-sizing”) or increases (“up-sizing”).\n",
    "- `resize(a, newshape)`\n",
    "- `np.resize(a, newshape)`"
   ]
  },
  {
   "cell_type": "code",
   "execution_count": 46,
   "id": "c926244e",
   "metadata": {
    "slideshow": {
     "slide_type": "slide"
    }
   },
   "outputs": [
    {
     "data": {
      "text/plain": [
       "array([[0],\n",
       "       [1],\n",
       "       [2]])"
      ]
     },
     "execution_count": 46,
     "metadata": {},
     "output_type": "execute_result"
    }
   ],
   "source": [
    "np.resize(g,(3,1))"
   ]
  },
  {
   "cell_type": "code",
   "execution_count": 47,
   "id": "ff735f46",
   "metadata": {},
   "outputs": [
    {
     "data": {
      "text/plain": [
       "array([[0, 1, 2, 3, 4]])"
      ]
     },
     "execution_count": 47,
     "metadata": {},
     "output_type": "execute_result"
    }
   ],
   "source": [
    "np.resize(g, (1, 5))"
   ]
  },
  {
   "cell_type": "code",
   "execution_count": 48,
   "id": "7483bb51",
   "metadata": {},
   "outputs": [
    {
     "data": {
      "text/plain": [
       "array([[0, 1, 2, 3, 4],\n",
       "       [5, 6, 7, 8, 9]])"
      ]
     },
     "execution_count": 48,
     "metadata": {},
     "output_type": "execute_result"
    }
   ],
   "source": [
    "np.resize(g, (2, 5))"
   ]
  },
  {
   "cell_type": "code",
   "execution_count": 49,
   "id": "8cbf3559",
   "metadata": {},
   "outputs": [
    {
     "data": {
      "text/plain": [
       "array([[ 0,  1,  2,  3],\n",
       "       [ 4,  5,  6,  7],\n",
       "       [ 8,  9, 10, 11],\n",
       "       [12, 13, 14,  0],\n",
       "       [ 1,  2,  3,  4]])"
      ]
     },
     "execution_count": 49,
     "metadata": {},
     "output_type": "execute_result"
    }
   ],
   "source": [
    "n = np.resize(g, (5, 4))\n",
    "n"
   ]
  },
  {
   "cell_type": "markdown",
   "id": "926fbe16",
   "metadata": {
    "slideshow": {
     "slide_type": "slide"
    }
   },
   "source": [
    "#### Stacking"
   ]
  },
  {
   "cell_type": "markdown",
   "id": "af4955d6",
   "metadata": {
    "slideshow": {
     "slide_type": "-"
    }
   },
   "source": [
    "Stacking joins a sequence of arrays along a new axis. This is used to combine arrays into a single array with a new dimension. The arrays must have the same shape, except along the axis being stacked.\n",
    "\n",
    "- `np.stack(arrays, axis=0)`\n",
    "- `np.hstack(tup)` (for horizontal stacking)\n",
    "- `np.vstack(tup)` (for vertical stacking)"
   ]
  },
  {
   "cell_type": "code",
   "execution_count": 50,
   "id": "361c4c2e",
   "metadata": {
    "slideshow": {
     "slide_type": "slide"
    }
   },
   "outputs": [],
   "source": [
    "a = np.array([1, 2])\n",
    "b = np.array([3, 4])"
   ]
  },
  {
   "cell_type": "code",
   "execution_count": 51,
   "id": "a11860bf",
   "metadata": {},
   "outputs": [
    {
     "data": {
      "text/plain": [
       "array([[1, 2],\n",
       "       [3, 4]])"
      ]
     },
     "execution_count": 51,
     "metadata": {},
     "output_type": "execute_result"
    }
   ],
   "source": [
    "# Stacking along a new axis\n",
    "np.stack((a, b), axis=0)"
   ]
  },
  {
   "cell_type": "code",
   "execution_count": 52,
   "id": "4c6f2714",
   "metadata": {},
   "outputs": [
    {
     "data": {
      "text/plain": [
       "array([[1, 3],\n",
       "       [2, 4]])"
      ]
     },
     "execution_count": 52,
     "metadata": {},
     "output_type": "execute_result"
    }
   ],
   "source": [
    "np.stack((a, b), axis=1)  "
   ]
  },
  {
   "cell_type": "code",
   "execution_count": 53,
   "id": "eb44a315",
   "metadata": {},
   "outputs": [
    {
     "data": {
      "text/plain": [
       "array([1, 2, 3, 4])"
      ]
     },
     "execution_count": 53,
     "metadata": {},
     "output_type": "execute_result"
    }
   ],
   "source": [
    "# Horizontal and vertical stacking\n",
    "np.hstack((a, b))"
   ]
  },
  {
   "cell_type": "code",
   "execution_count": 54,
   "id": "d2b11475",
   "metadata": {},
   "outputs": [
    {
     "data": {
      "text/plain": [
       "array([[1, 2],\n",
       "       [3, 4]])"
      ]
     },
     "execution_count": 54,
     "metadata": {},
     "output_type": "execute_result"
    }
   ],
   "source": [
    "np.vstack((a, b)) "
   ]
  },
  {
   "cell_type": "code",
   "execution_count": null,
   "id": "da9d1443",
   "metadata": {
    "slideshow": {
     "slide_type": "slide"
    }
   },
   "outputs": [],
   "source": [
    "h"
   ]
  },
  {
   "cell_type": "code",
   "execution_count": null,
   "id": "3ebf795e",
   "metadata": {},
   "outputs": [],
   "source": [
    "# horizontal stacking\n",
    "np.hstack((h,2*h))"
   ]
  },
  {
   "cell_type": "code",
   "execution_count": null,
   "id": "fd2929f9",
   "metadata": {},
   "outputs": [],
   "source": [
    "# vertical stacking\n",
    "np.vstack((h, 0.5 * h))"
   ]
  },
  {
   "cell_type": "markdown",
   "id": "3c411dfe",
   "metadata": {
    "slideshow": {
     "slide_type": "slide"
    }
   },
   "source": [
    "#### Flattening"
   ]
  },
  {
   "cell_type": "markdown",
   "id": "cb21ef81",
   "metadata": {
    "slideshow": {
     "slide_type": "-"
    }
   },
   "source": [
    "Flattening refers to converting a multi-dimensional array into a 1-dimensional array. This is useful when processing the array as a sequence of elements, regardless of its original shape.\n",
    "- `a.flatten()`\n",
    "- `np.ravel(a)`"
   ]
  },
  {
   "cell_type": "code",
   "execution_count": 55,
   "id": "2264988f",
   "metadata": {
    "slideshow": {
     "slide_type": "slide"
    }
   },
   "outputs": [
    {
     "data": {
      "text/plain": [
       "array([1, 2, 3, 4])"
      ]
     },
     "execution_count": 55,
     "metadata": {},
     "output_type": "execute_result"
    }
   ],
   "source": [
    "a = np.array([[1, 2], [3, 4]])\n",
    "\n",
    "# Flattening the array\n",
    "a.flatten()"
   ]
  },
  {
   "cell_type": "code",
   "execution_count": 56,
   "id": "2c33b95d",
   "metadata": {},
   "outputs": [
    {
     "data": {
      "text/plain": [
       "array([1, 2, 3, 4])"
      ]
     },
     "execution_count": 56,
     "metadata": {},
     "output_type": "execute_result"
    }
   ],
   "source": [
    "np.ravel(a)"
   ]
  },
  {
   "cell_type": "code",
   "execution_count": null,
   "id": "7b817ed2",
   "metadata": {
    "slideshow": {
     "slide_type": "slide"
    }
   },
   "outputs": [],
   "source": [
    "h"
   ]
  },
  {
   "cell_type": "code",
   "execution_count": null,
   "id": "6588f00d",
   "metadata": {},
   "outputs": [],
   "source": [
    "h.flatten()"
   ]
  },
  {
   "cell_type": "code",
   "execution_count": null,
   "id": "acb63ccf",
   "metadata": {},
   "outputs": [],
   "source": [
    "for i in h.flat:\n",
    "    print(i, end=',')"
   ]
  },
  {
   "cell_type": "markdown",
   "id": "334e5f68",
   "metadata": {
    "slideshow": {
     "slide_type": "slide"
    }
   },
   "source": [
    "### 2.5 Boolean arrays"
   ]
  },
  {
   "cell_type": "markdown",
   "id": "5caa0401",
   "metadata": {
    "slideshow": {
     "slide_type": "slide"
    }
   },
   "source": [
    "Logical operations work on `ndarray` objects the same way, element-wise, as on standard Python data types. "
   ]
  },
  {
   "cell_type": "code",
   "execution_count": 57,
   "id": "c0844a57",
   "metadata": {
    "slideshow": {
     "slide_type": "slide"
    }
   },
   "outputs": [
    {
     "data": {
      "text/plain": [
       "array([[ 0,  1,  2],\n",
       "       [ 3,  4,  5],\n",
       "       [ 6,  7,  8],\n",
       "       [ 9, 10, 11],\n",
       "       [12, 13, 14]])"
      ]
     },
     "execution_count": 57,
     "metadata": {},
     "output_type": "execute_result"
    }
   ],
   "source": [
    "h"
   ]
  },
  {
   "cell_type": "markdown",
   "id": "a8192701",
   "metadata": {
    "slideshow": {
     "slide_type": "slide"
    }
   },
   "source": [
    "#### Basics"
   ]
  },
  {
   "cell_type": "code",
   "execution_count": 58,
   "id": "b648e169",
   "metadata": {
    "slideshow": {
     "slide_type": "-"
    }
   },
   "outputs": [
    {
     "data": {
      "text/plain": [
       "array([[False, False, False],\n",
       "       [False, False, False],\n",
       "       [False, False, False],\n",
       "       [ True,  True,  True],\n",
       "       [ True,  True,  True]])"
      ]
     },
     "execution_count": 58,
     "metadata": {},
     "output_type": "execute_result"
    }
   ],
   "source": [
    "h > 8"
   ]
  },
  {
   "cell_type": "code",
   "execution_count": 59,
   "id": "4e1f376b",
   "metadata": {},
   "outputs": [
    {
     "data": {
      "text/plain": [
       "array([[ True,  True,  True],\n",
       "       [ True,  True,  True],\n",
       "       [ True,  True, False],\n",
       "       [False, False, False],\n",
       "       [False, False, False]])"
      ]
     },
     "execution_count": 59,
     "metadata": {},
     "output_type": "execute_result"
    }
   ],
   "source": [
    "h <= 7"
   ]
  },
  {
   "cell_type": "code",
   "execution_count": 60,
   "id": "e3d73707",
   "metadata": {},
   "outputs": [
    {
     "data": {
      "text/plain": [
       "array([[False, False, False],\n",
       "       [False, False,  True],\n",
       "       [False, False, False],\n",
       "       [False, False, False],\n",
       "       [False, False, False]])"
      ]
     },
     "execution_count": 60,
     "metadata": {},
     "output_type": "execute_result"
    }
   ],
   "source": [
    "h == 5"
   ]
  },
  {
   "cell_type": "code",
   "execution_count": 61,
   "id": "6fc300a0",
   "metadata": {
    "slideshow": {
     "slide_type": "slide"
    }
   },
   "outputs": [
    {
     "data": {
      "text/plain": [
       "array([[0, 0, 0],\n",
       "       [0, 0, 1],\n",
       "       [0, 0, 0],\n",
       "       [0, 0, 0],\n",
       "       [0, 0, 0]])"
      ]
     },
     "execution_count": 61,
     "metadata": {},
     "output_type": "execute_result"
    }
   ],
   "source": [
    "(h == 5).astype(int)"
   ]
  },
  {
   "cell_type": "code",
   "execution_count": 62,
   "id": "745afaf8",
   "metadata": {},
   "outputs": [
    {
     "data": {
      "text/plain": [
       "array([[False, False, False],\n",
       "       [False, False,  True],\n",
       "       [ True,  True,  True],\n",
       "       [ True,  True,  True],\n",
       "       [ True, False, False]])"
      ]
     },
     "execution_count": 62,
     "metadata": {},
     "output_type": "execute_result"
    }
   ],
   "source": [
    "(h > 4 ) & (h <= 12)"
   ]
  },
  {
   "cell_type": "markdown",
   "id": "eccda263",
   "metadata": {
    "slideshow": {
     "slide_type": "slide"
    }
   },
   "source": [
    "#### Boolean filtering"
   ]
  },
  {
   "cell_type": "code",
   "execution_count": 64,
   "id": "e3a5c70e",
   "metadata": {
    "slideshow": {
     "slide_type": "-"
    }
   },
   "outputs": [
    {
     "data": {
      "text/plain": [
       "array([ 9, 10, 11, 12, 13, 14])"
      ]
     },
     "execution_count": 64,
     "metadata": {},
     "output_type": "execute_result"
    }
   ],
   "source": [
    "h[h > 8]"
   ]
  },
  {
   "cell_type": "code",
   "execution_count": 65,
   "id": "a7d86bea",
   "metadata": {},
   "outputs": [
    {
     "data": {
      "text/plain": [
       "array([ 5,  6,  7,  8,  9, 10, 11, 12])"
      ]
     },
     "execution_count": 65,
     "metadata": {},
     "output_type": "execute_result"
    }
   ],
   "source": [
    "h[(h > 4) & (h <= 12)]"
   ]
  },
  {
   "cell_type": "code",
   "execution_count": 66,
   "id": "c00f8860",
   "metadata": {},
   "outputs": [
    {
     "data": {
      "text/plain": [
       "array([ 0,  1,  2,  3, 12, 13, 14])"
      ]
     },
     "execution_count": 66,
     "metadata": {},
     "output_type": "execute_result"
    }
   ],
   "source": [
    "h[(h < 4) | (h >= 12)]"
   ]
  },
  {
   "cell_type": "markdown",
   "id": "7ab7c075",
   "metadata": {
    "slideshow": {
     "slide_type": "slide"
    }
   },
   "source": [
    "**`np.where()`** returns the indices of elements in an input array that satisfy a given condition. It can also be used to return values from one of two arrays, depending on a condition (conditional selection).\n",
    "- `np.where(condition, [x, y])`:\n",
    "    - If only `condition` is provided, `np.where()` returns the indices where the condition is `True`.\n",
    "    - If `x` and `y` are also provided, `np.where()` returns elements from `x` where the condition is `True`, and from `y` where the condition is `False`."
   ]
  },
  {
   "cell_type": "code",
   "execution_count": 67,
   "id": "0845a3dc",
   "metadata": {
    "slideshow": {
     "slide_type": "slide"
    }
   },
   "outputs": [
    {
     "data": {
      "text/plain": [
       "(array([3, 4]),)"
      ]
     },
     "execution_count": 67,
     "metadata": {},
     "output_type": "execute_result"
    }
   ],
   "source": [
    "a = np.array([1, 2, 3, 4, 5])\n",
    "np.where(a > 3)"
   ]
  },
  {
   "cell_type": "code",
   "execution_count": 68,
   "id": "fc1b388a",
   "metadata": {},
   "outputs": [
    {
     "data": {
      "text/plain": [
       "(array([0, 1, 2, 3, 4, 5, 6, 7, 8, 9]), array([0, 1, 2, 3, 4, 5, 6, 7, 8, 9]))"
      ]
     },
     "execution_count": 68,
     "metadata": {},
     "output_type": "execute_result"
    }
   ],
   "source": [
    "np.where(np.eye(10)>0)"
   ]
  },
  {
   "cell_type": "code",
   "execution_count": 69,
   "id": "6f4b9cae",
   "metadata": {},
   "outputs": [
    {
     "data": {
      "text/plain": [
       "array([[0, 0, 0],\n",
       "       [0, 0, 0],\n",
       "       [0, 0, 1],\n",
       "       [1, 1, 1],\n",
       "       [1, 1, 1]])"
      ]
     },
     "execution_count": 69,
     "metadata": {},
     "output_type": "execute_result"
    }
   ],
   "source": [
    "# use the np.where() function\n",
    "np.where(h > 7, 1, 0)"
   ]
  },
  {
   "cell_type": "code",
   "execution_count": 71,
   "id": "16bf89e4",
   "metadata": {
    "slideshow": {
     "slide_type": "slide"
    }
   },
   "outputs": [
    {
     "data": {
      "text/plain": [
       "array([['even', 'odd', 'even'],\n",
       "       ['odd', 'even', 'odd'],\n",
       "       ['even', 'odd', 'even'],\n",
       "       ['odd', 'even', 'odd'],\n",
       "       ['even', 'odd', 'even']], dtype='<U4')"
      ]
     },
     "execution_count": 71,
     "metadata": {},
     "output_type": "execute_result"
    }
   ],
   "source": [
    "np.where(h % 2 == 0, 'even', 'odd')"
   ]
  },
  {
   "cell_type": "code",
   "execution_count": 72,
   "id": "461f4b1e",
   "metadata": {},
   "outputs": [
    {
     "data": {
      "text/plain": [
       "array([[ 0. ,  2. ,  4. ],\n",
       "       [ 6. ,  8. , 10. ],\n",
       "       [12. , 14. ,  4. ],\n",
       "       [ 4.5,  5. ,  5.5],\n",
       "       [ 6. ,  6.5,  7. ]])"
      ]
     },
     "execution_count": 72,
     "metadata": {},
     "output_type": "execute_result"
    }
   ],
   "source": [
    "np.where(h <= 7, h * 2, h / 2)"
   ]
  },
  {
   "cell_type": "markdown",
   "id": "c0479e5e",
   "metadata": {
    "slideshow": {
     "slide_type": "slide"
    }
   },
   "source": [
    "## 3. Structured NumPy arrays"
   ]
  },
  {
   "cell_type": "markdown",
   "id": "ed43c562",
   "metadata": {
    "slideshow": {
     "slide_type": "slide"
    }
   },
   "source": [
    "Structured `ndarray` objects allow to have a different `dtype` per column.\n",
    "\n",
    "The construction is similar to the operation for initializing tables in a database (e.g., SQL): one has column names and column data types, with maybe some additional information (e.g., maximum number of characters per str object)."
   ]
  },
  {
   "cell_type": "code",
   "execution_count": null,
   "id": "fa145a69",
   "metadata": {
    "slideshow": {
     "slide_type": "slide"
    }
   },
   "outputs": [],
   "source": [
    "dt = np.dtype([('Name', 'S10'), ('Age', 'i'),\n",
    "                             ('Height', 'f'), ('Children/Pets', 'i', 2)])\n",
    "dt"
   ]
  },
  {
   "cell_type": "code",
   "execution_count": null,
   "id": "a993ead5",
   "metadata": {},
   "outputs": [],
   "source": [
    "# alternative\n",
    "dt = np.dtype({'names': ['Name', 'Age', 'Height', 'Children/Pets'],\n",
    "                       'formats':'O int float int,int'.split()})\n",
    "dt"
   ]
  },
  {
   "cell_type": "code",
   "execution_count": null,
   "id": "fc3ebe75",
   "metadata": {},
   "outputs": [],
   "source": [
    "s = np.array([('Smith', 45, 1.83, (0, 1)),\n",
    "                        ('Jones', 53, 1.72, (2, 2))], dtype=dt)\n",
    "s"
   ]
  },
  {
   "cell_type": "code",
   "execution_count": null,
   "id": "25e78618",
   "metadata": {},
   "outputs": [],
   "source": [
    "type(s)"
   ]
  },
  {
   "cell_type": "markdown",
   "id": "09751b91",
   "metadata": {
    "slideshow": {
     "slide_type": "slide"
    }
   },
   "source": [
    "**Indexing**\n",
    "\n",
    "The single columns can now be easily accessed by their names and the rows by their index values."
   ]
  },
  {
   "cell_type": "code",
   "execution_count": null,
   "id": "126d4384",
   "metadata": {
    "slideshow": {
     "slide_type": "slide"
    }
   },
   "outputs": [],
   "source": [
    "s['Name']"
   ]
  },
  {
   "cell_type": "code",
   "execution_count": null,
   "id": "d0fe6f18",
   "metadata": {},
   "outputs": [],
   "source": [
    "s['Height'].mean()"
   ]
  },
  {
   "cell_type": "code",
   "execution_count": null,
   "id": "7f6f5a4c",
   "metadata": {},
   "outputs": [],
   "source": [
    "s[0]"
   ]
  },
  {
   "cell_type": "code",
   "execution_count": null,
   "id": "ec0f8433",
   "metadata": {},
   "outputs": [],
   "source": [
    "s[1]['Age']"
   ]
  },
  {
   "cell_type": "markdown",
   "id": "962e5855",
   "metadata": {
    "slideshow": {
     "slide_type": "slide"
    }
   },
   "source": [
    "## 4. Vectorized programming"
   ]
  },
  {
   "cell_type": "markdown",
   "id": "bb97ae4b",
   "metadata": {
    "slideshow": {
     "slide_type": "slide"
    }
   },
   "source": [
    "**Vectorization** is a strategy to get **more compact code** that is possibly executed **faster** by simplifying the treatment and operations over `array` (vector) objects. \n",
    "\n",
    "The fundamental idea is to conduct an operation on or to apply a function to a complex `array` object “**at once**” and **not by looping** over the single elements of the object. \n",
    "\n",
    "`NumPy` has vectorization built in deep down in its core."
   ]
  },
  {
   "cell_type": "markdown",
   "id": "5f5f60ae",
   "metadata": {
    "slideshow": {
     "slide_type": "slide"
    }
   },
   "source": [
    "#### Operations"
   ]
  },
  {
   "cell_type": "code",
   "execution_count": 73,
   "id": "bc08d93a",
   "metadata": {
    "slideshow": {
     "slide_type": "-"
    }
   },
   "outputs": [],
   "source": [
    "r = np.arange(12).reshape((4, 3))\n",
    "s = np.arange(12).reshape((4, 3)) * 0.5"
   ]
  },
  {
   "cell_type": "code",
   "execution_count": 74,
   "id": "9c0531f0",
   "metadata": {},
   "outputs": [
    {
     "data": {
      "text/plain": [
       "array([[ 0,  1,  2],\n",
       "       [ 3,  4,  5],\n",
       "       [ 6,  7,  8],\n",
       "       [ 9, 10, 11]])"
      ]
     },
     "execution_count": 74,
     "metadata": {},
     "output_type": "execute_result"
    }
   ],
   "source": [
    "r"
   ]
  },
  {
   "cell_type": "code",
   "execution_count": 75,
   "id": "d461c7e6",
   "metadata": {},
   "outputs": [
    {
     "data": {
      "text/plain": [
       "array([[0. , 0.5, 1. ],\n",
       "       [1.5, 2. , 2.5],\n",
       "       [3. , 3.5, 4. ],\n",
       "       [4.5, 5. , 5.5]])"
      ]
     },
     "execution_count": 75,
     "metadata": {},
     "output_type": "execute_result"
    }
   ],
   "source": [
    "s"
   ]
  },
  {
   "cell_type": "code",
   "execution_count": 76,
   "id": "ba28a1b9",
   "metadata": {},
   "outputs": [
    {
     "data": {
      "text/plain": [
       "array([[ 0. ,  1.5,  3. ],\n",
       "       [ 4.5,  6. ,  7.5],\n",
       "       [ 9. , 10.5, 12. ],\n",
       "       [13.5, 15. , 16.5]])"
      ]
     },
     "execution_count": 76,
     "metadata": {},
     "output_type": "execute_result"
    }
   ],
   "source": [
    "r + s"
   ]
  },
  {
   "cell_type": "code",
   "execution_count": 77,
   "id": "5749a83e",
   "metadata": {
    "slideshow": {
     "slide_type": "slide"
    }
   },
   "outputs": [
    {
     "data": {
      "text/plain": [
       "array([[ 3,  4,  5],\n",
       "       [ 6,  7,  8],\n",
       "       [ 9, 10, 11],\n",
       "       [12, 13, 14]])"
      ]
     },
     "execution_count": 77,
     "metadata": {},
     "output_type": "execute_result"
    }
   ],
   "source": [
    "r + 3"
   ]
  },
  {
   "cell_type": "code",
   "execution_count": 78,
   "id": "d730bfc6",
   "metadata": {},
   "outputs": [
    {
     "data": {
      "text/plain": [
       "array([[ 0,  2,  4],\n",
       "       [ 6,  8, 10],\n",
       "       [12, 14, 16],\n",
       "       [18, 20, 22]])"
      ]
     },
     "execution_count": 78,
     "metadata": {},
     "output_type": "execute_result"
    }
   ],
   "source": [
    "2 * r"
   ]
  },
  {
   "cell_type": "code",
   "execution_count": 79,
   "id": "ea59a6be",
   "metadata": {},
   "outputs": [
    {
     "data": {
      "text/plain": [
       "array([[ 3,  5,  7],\n",
       "       [ 9, 11, 13],\n",
       "       [15, 17, 19],\n",
       "       [21, 23, 25]])"
      ]
     },
     "execution_count": 79,
     "metadata": {},
     "output_type": "execute_result"
    }
   ],
   "source": [
    "2 * r + 3"
   ]
  },
  {
   "cell_type": "markdown",
   "id": "cf90a229",
   "metadata": {
    "slideshow": {
     "slide_type": "slide"
    }
   },
   "source": [
    "#### Role of  shapes"
   ]
  },
  {
   "cell_type": "code",
   "execution_count": 80,
   "id": "494e77e0",
   "metadata": {
    "slideshow": {
     "slide_type": "-"
    }
   },
   "outputs": [
    {
     "data": {
      "text/plain": [
       "(4, 3)"
      ]
     },
     "execution_count": 80,
     "metadata": {},
     "output_type": "execute_result"
    }
   ],
   "source": [
    "r.shape"
   ]
  },
  {
   "cell_type": "code",
   "execution_count": 81,
   "id": "1396fd98",
   "metadata": {
    "hideOutput": true
   },
   "outputs": [
    {
     "data": {
      "text/plain": [
       "array([[ 0,  1,  2],\n",
       "       [ 3,  4,  5],\n",
       "       [ 6,  7,  8],\n",
       "       [ 9, 10, 11]])"
      ]
     },
     "execution_count": 81,
     "metadata": {},
     "output_type": "execute_result"
    }
   ],
   "source": [
    "r"
   ]
  },
  {
   "cell_type": "code",
   "execution_count": 82,
   "id": "34aae90d",
   "metadata": {},
   "outputs": [
    {
     "data": {
      "text/plain": [
       "array([0, 4, 8])"
      ]
     },
     "execution_count": 82,
     "metadata": {},
     "output_type": "execute_result"
    }
   ],
   "source": [
    "s = np.arange(0, 12, 4)\n",
    "s"
   ]
  },
  {
   "cell_type": "code",
   "execution_count": 83,
   "id": "f5e0d276",
   "metadata": {},
   "outputs": [
    {
     "data": {
      "text/plain": [
       "array([[ 0,  5, 10],\n",
       "       [ 3,  8, 13],\n",
       "       [ 6, 11, 16],\n",
       "       [ 9, 14, 19]])"
      ]
     },
     "execution_count": 83,
     "metadata": {},
     "output_type": "execute_result"
    }
   ],
   "source": [
    "r + s"
   ]
  },
  {
   "cell_type": "code",
   "execution_count": 84,
   "id": "32dbe9ad",
   "metadata": {
    "slideshow": {
     "slide_type": "slide"
    }
   },
   "outputs": [],
   "source": [
    "s = np.arange(0, 12, 3)"
   ]
  },
  {
   "cell_type": "code",
   "execution_count": 89,
   "id": "740b43d5",
   "metadata": {},
   "outputs": [
    {
     "data": {
      "text/plain": [
       "(4, 3)"
      ]
     },
     "execution_count": 89,
     "metadata": {},
     "output_type": "execute_result"
    }
   ],
   "source": [
    "r.shape"
   ]
  },
  {
   "cell_type": "code",
   "execution_count": 87,
   "id": "95523228",
   "metadata": {},
   "outputs": [
    {
     "data": {
      "text/plain": [
       "(4,)"
      ]
     },
     "execution_count": 87,
     "metadata": {},
     "output_type": "execute_result"
    }
   ],
   "source": [
    "s.shape"
   ]
  },
  {
   "cell_type": "code",
   "execution_count": 88,
   "id": "45ca0f62",
   "metadata": {},
   "outputs": [
    {
     "ename": "ValueError",
     "evalue": "operands could not be broadcast together with shapes (4,3) (4,) ",
     "output_type": "error",
     "traceback": [
      "\u001b[0;31m---------------------------------------------------------------------------\u001b[0m",
      "\u001b[0;31mValueError\u001b[0m                                Traceback (most recent call last)",
      "Input \u001b[0;32mIn [88]\u001b[0m, in \u001b[0;36m<cell line: 1>\u001b[0;34m()\u001b[0m\n\u001b[0;32m----> 1\u001b[0m \u001b[43mr\u001b[49m\u001b[43m \u001b[49m\u001b[38;5;241;43m+\u001b[39;49m\u001b[43m \u001b[49m\u001b[43ms\u001b[49m\n",
      "\u001b[0;31mValueError\u001b[0m: operands could not be broadcast together with shapes (4,3) (4,) "
     ]
    }
   ],
   "source": [
    "r + s"
   ]
  },
  {
   "cell_type": "code",
   "execution_count": 90,
   "id": "dd44d55b",
   "metadata": {},
   "outputs": [
    {
     "data": {
      "text/plain": [
       "array([[ 0,  6, 12, 18],\n",
       "       [ 1,  7, 13, 19],\n",
       "       [ 2,  8, 14, 20]])"
      ]
     },
     "execution_count": 90,
     "metadata": {},
     "output_type": "execute_result"
    }
   ],
   "source": [
    "r.transpose() + s"
   ]
  },
  {
   "cell_type": "markdown",
   "id": "7f123539",
   "metadata": {
    "slideshow": {
     "slide_type": "slide"
    }
   },
   "source": [
    "#### Applying functions"
   ]
  },
  {
   "cell_type": "code",
   "execution_count": 91,
   "id": "1d475658",
   "metadata": {
    "slideshow": {
     "slide_type": "-"
    }
   },
   "outputs": [],
   "source": [
    "def f(x):\n",
    "    return 3 * x + 5"
   ]
  },
  {
   "cell_type": "code",
   "execution_count": 92,
   "id": "b91c2c71",
   "metadata": {},
   "outputs": [
    {
     "data": {
      "text/plain": [
       "6.5"
      ]
     },
     "execution_count": 92,
     "metadata": {},
     "output_type": "execute_result"
    }
   ],
   "source": [
    "f(0.5)"
   ]
  },
  {
   "cell_type": "code",
   "execution_count": 93,
   "id": "fe204358",
   "metadata": {},
   "outputs": [
    {
     "data": {
      "text/plain": [
       "array([[ 5,  8, 11],\n",
       "       [14, 17, 20],\n",
       "       [23, 26, 29],\n",
       "       [32, 35, 38]])"
      ]
     },
     "execution_count": 93,
     "metadata": {},
     "output_type": "execute_result"
    }
   ],
   "source": [
    "f(r)"
   ]
  },
  {
   "cell_type": "markdown",
   "id": "4adaf864",
   "metadata": {
    "slideshow": {
     "slide_type": "slide"
    }
   },
   "source": [
    "## 5. Random number generation "
   ]
  },
  {
   "cell_type": "markdown",
   "id": "e6846f38",
   "metadata": {
    "slideshow": {
     "slide_type": "slide"
    }
   },
   "source": [
    "Random number generation is often essential, particularly in simulations like Monte Carlo methods. `NumPy` provides a convenient and powerful way to generate random numbers through the `np.random` module."
   ]
  },
  {
   "cell_type": "markdown",
   "id": "0b2feee3",
   "metadata": {
    "slideshow": {
     "slide_type": "slide"
    }
   },
   "source": [
    "- `rand()`: generates numbers between 0 and 1."
   ]
  },
  {
   "cell_type": "code",
   "execution_count": 94,
   "id": "d6394fa8",
   "metadata": {},
   "outputs": [
    {
     "data": {
      "text/plain": [
       "array([0.03127638, 0.28131084, 0.66172568, 0.72319454, 0.95931816])"
      ]
     },
     "execution_count": 94,
     "metadata": {},
     "output_type": "execute_result"
    }
   ],
   "source": [
    "np.random.rand(5)"
   ]
  },
  {
   "cell_type": "markdown",
   "id": "610f6034",
   "metadata": {
    "slideshow": {
     "slide_type": "slide"
    }
   },
   "source": [
    "- `randn()`: generates numbers with a mean of 0 and a standard deviation of 1 by default."
   ]
  },
  {
   "cell_type": "code",
   "execution_count": 95,
   "id": "fc900d30",
   "metadata": {},
   "outputs": [
    {
     "data": {
      "text/plain": [
       "array([ 0.51251094,  0.64656556, -1.24006954,  1.39375336,  0.19554576])"
      ]
     },
     "execution_count": 95,
     "metadata": {},
     "output_type": "execute_result"
    }
   ],
   "source": [
    "np.random.randn(5)"
   ]
  },
  {
   "cell_type": "markdown",
   "id": "6495e311",
   "metadata": {
    "slideshow": {
     "slide_type": "slide"
    }
   },
   "source": [
    "- `normal(mean, std, n)`: generates random *n* numbers from a normal distribution with mean and std"
   ]
  },
  {
   "cell_type": "code",
   "execution_count": 96,
   "id": "09194cd5",
   "metadata": {},
   "outputs": [
    {
     "data": {
      "text/plain": [
       "array([-0.00729926,  0.01036268, -0.01837981,  0.02278975, -0.00692906,\n",
       "        0.03042495,  0.00932301,  0.0215726 ,  0.00913402, -0.00011082])"
      ]
     },
     "execution_count": 96,
     "metadata": {},
     "output_type": "execute_result"
    }
   ],
   "source": [
    "# Simulate 10 days of daily returns with a mean of 0.001 and std deviation of 0.02\n",
    "daily_returns = np.random.normal(0.001, 0.02, 10)\n",
    "daily_returns"
   ]
  },
  {
   "cell_type": "markdown",
   "id": "7fc00bb4",
   "metadata": {
    "slideshow": {
     "slide_type": "slide"
    }
   },
   "source": [
    "- `randint()`: generates random integers"
   ]
  },
  {
   "cell_type": "code",
   "execution_count": 97,
   "id": "240abaca",
   "metadata": {},
   "outputs": [
    {
     "data": {
      "text/plain": [
       "array([ 3, 61,  6, 82, 84])"
      ]
     },
     "execution_count": 97,
     "metadata": {},
     "output_type": "execute_result"
    }
   ],
   "source": [
    "np.random.randint(1, 100, 5)"
   ]
  },
  {
   "cell_type": "markdown",
   "id": "6c5f722c",
   "metadata": {
    "slideshow": {
     "slide_type": "slide"
    }
   },
   "source": [
    "## 6. Applications"
   ]
  },
  {
   "cell_type": "markdown",
   "id": "9f854344",
   "metadata": {
    "slideshow": {
     "slide_type": "slide"
    }
   },
   "source": [
    "### 6.1 Stock price simulations"
   ]
  },
  {
   "cell_type": "markdown",
   "id": "a6e866e5",
   "metadata": {
    "slideshow": {
     "slide_type": "slide"
    }
   },
   "source": [
    "#### Geometric brownian motion "
   ]
  },
  {
   "cell_type": "markdown",
   "id": "d84ae882",
   "metadata": {
    "slideshow": {
     "slide_type": "-"
    }
   },
   "source": [
    "In finance, the Geometric Brownian Motion model is commonly used to simulate the future path of stock prices. The model is represented by the following equation:\n",
    "\n",
    "$$\n",
    "S_{t+1} = S_t \\times e^{(\\mu - 0.5 \\times \\sigma^2) \\Delta t + \\sigma \\times \\epsilon \\times \\sqrt{\\Delta t}}\n",
    "$$\n",
    "\n",
    "Where:\n",
    "- $ S_t $ is the stock price at time $ t $\n",
    "- $ \\mu $ is the expected return (mean)\n",
    "- $ \\sigma $ is the volatility (standard deviation)\n",
    "- $ \\Delta t $ is the time step (in days, for example)\n",
    "- $ \\epsilon $ is a random variable from a normal distribution"
   ]
  },
  {
   "cell_type": "markdown",
   "id": "b9a988cc",
   "metadata": {
    "slideshow": {
     "slide_type": "slide"
    }
   },
   "source": [
    "#### Simulating daily returns with `NumPy`"
   ]
  },
  {
   "cell_type": "markdown",
   "id": "cbde912d",
   "metadata": {
    "slideshow": {
     "slide_type": "-"
    }
   },
   "source": [
    "Let’s simulate daily stock price returns over a one-year period (252 trading days). Using `NumPy`, we can generate random normal values for the stock price fluctuations and compute the simulated prices."
   ]
  },
  {
   "cell_type": "code",
   "execution_count": 98,
   "id": "fae57665",
   "metadata": {
    "slideshow": {
     "slide_type": "slide"
    }
   },
   "outputs": [],
   "source": [
    "import numpy as np\n",
    "\n",
    "# Parameters\n",
    "S0 = 100  # Initial stock price\n",
    "mu = 0.05  # Expected annual return\n",
    "sigma = 0.2  # Annual volatility\n",
    "T = 1  # Time horizon (in years)\n",
    "N = 252  # Number of trading days\n",
    "dt = T / N  # Time step (1 day)\n",
    "\n",
    "# Simulate random daily returns\n",
    "daily_returns = np.random.normal((mu - 0.5 * sigma**2) * dt, sigma * np.sqrt(dt), N)\n",
    "\n",
    "# Simulate stock prices\n",
    "prices = S0 * np.exp(np.cumsum(daily_returns))"
   ]
  },
  {
   "cell_type": "markdown",
   "id": "8d366c48",
   "metadata": {
    "slideshow": {
     "slide_type": "slide"
    }
   },
   "source": [
    "```python\n",
    "daily_returns = np.random.normal((mu - 0.5 * sigma**2) * dt, sigma * np.sqrt(dt), N)\n",
    "```\n",
    "This line generates random daily returns based on a normal distribution. \n",
    "- The mean of the distribution is adjusted by the term  $\\mu - 0.5 \\sigma^2$  to account for the fact that stock prices follow a geometric Brownian motion.\n",
    "- The standard deviation of the returns is  $\\sigma \\sqrt{dt}$ , which scales the annual volatility to daily volatility."
   ]
  },
  {
   "cell_type": "markdown",
   "id": "ad3a5df6",
   "metadata": {
    "slideshow": {
     "slide_type": "slide"
    }
   },
   "source": [
    "```python\n",
    "prices = S0 * np.exp(np.cumsum(daily_returns))\n",
    "```\n",
    "This line calculates the simulated stock prices using the exponential function. \n",
    "\n",
    "It does this by:\n",
    "- Using `np.cumsum(daily_returns)` to get the cumulative returns over time. The cumulative sum allows for the aggregation of daily returns into total returns.\n",
    "- The `np.exp(`) function then exponentiates these cumulative returns, which translates them into price levels.\n",
    "- Finally, the initial stock price `S0` is multiplied by the exponentiated cumulative returns to get the actual stock prices.\n"
   ]
  },
  {
   "cell_type": "code",
   "execution_count": 100,
   "id": "d439e21d",
   "metadata": {
    "slideshow": {
     "slide_type": "slide"
    }
   },
   "outputs": [
    {
     "data": {
      "image/png": "[encoded data removed]",
      "text/plain": [
       "<Figure size 432x288 with 1 Axes>"
      ]
     },
     "metadata": {
      "needs_background": "light"
     },
     "output_type": "display_data"
    }
   ],
   "source": [
    "# Plot the simulated stock prices\n",
    "import matplotlib.pyplot as plt\n",
    "plt.plot(prices)\n",
    "plt.title('Simulated Stock Price Using Geometric Brownian Motion')\n",
    "plt.xlabel('Day')\n",
    "plt.ylabel('Price')\n",
    "plt.show()"
   ]
  },
  {
   "cell_type": "markdown",
   "id": "397e5a0b",
   "metadata": {
    "slideshow": {
     "slide_type": "slide"
    }
   },
   "source": [
    "### 6.2 Portfolio optimization"
   ]
  },
  {
   "cell_type": "markdown",
   "id": "fd3f9039",
   "metadata": {
    "slideshow": {
     "slide_type": "slide"
    }
   },
   "source": [
    "In portfolio management, finance professionals must calculate the returns, risks, and correlations of assets to construct optimal portfolios. `NumPy` makes this task efficient and straightforward by offering matrix operations and linear algebra functions."
   ]
  },
  {
   "cell_type": "markdown",
   "id": "5129d4c8",
   "metadata": {},
   "source": [
    "Let’s assume you have a portfolio with three assets. You can calculate the expected portfolio return and risk using `NumPy`.\n",
    "\n",
    "- The function `np.dot()` returns the product of matrices."
   ]
  },
  {
   "cell_type": "code",
   "execution_count": 101,
   "id": "8a9e7d53",
   "metadata": {
    "slideshow": {
     "slide_type": "slide"
    }
   },
   "outputs": [
    {
     "name": "stdout",
     "output_type": "stream",
     "text": [
      "Expected Portfolio Return: 11.30%\n",
      "Portfolio Risk (Standard Deviation): 5.47%\n"
     ]
    }
   ],
   "source": [
    "# Asset returns (annualized)\n",
    "asset_returns = np.array([0.08, 0.12, 0.15])\n",
    "\n",
    "# Covariance matrix of asset returns\n",
    "cov_matrix = np.array([[0.005, -0.002, 0.004],\n",
    "                       [-0.002, 0.010, -0.003],\n",
    "                       [0.004, -0.003, 0.015]])\n",
    "\n",
    "# Portfolio weights\n",
    "weights = np.array([0.4, 0.3, 0.3])\n",
    "\n",
    "# Calculate portfolio return\n",
    "portfolio_return = np.dot(weights, asset_returns)\n",
    "\n",
    "# Calculate portfolio risk (standard deviation)\n",
    "portfolio_risk = np.sqrt(np.dot(weights.T, np.dot(cov_matrix, weights)))\n",
    "\n",
    "print(f\"Expected Portfolio Return: {portfolio_return:.2%}\")\n",
    "print(f\"Portfolio Risk (Standard Deviation): {portfolio_risk:.2%}\")"
   ]
  },
  {
   "cell_type": "markdown",
   "id": "8ffc8d37",
   "metadata": {
    "slideshow": {
     "slide_type": "slide"
    }
   },
   "source": [
    "```python\n",
    "portfolio_return = np.dot(weights, asset_returns)\n",
    "```\n",
    "The expected portfolio return is calculated using the dot product of the portfolio weights and the asset returns. This calculation effectively gives the weighted average return of the assets in the portfolio. \n",
    "\n",
    "The formula is:\n",
    "\n",
    "$$\\text{Portfolio Return} = w_1 \\cdot r_1 + w_2 \\cdot r_2 + w_3 \\cdot r_3$$\n",
    "\n",
    "In this case:\n",
    "\n",
    "$$\\text{Portfolio Return} = (0.4 \\times 0.08) + (0.3 \\times 0.12) + (0.3 \\times 0.15) = 0.104 \\text{ or } 10.4\\%$$\n"
   ]
  },
  {
   "cell_type": "markdown",
   "id": "ecfd1140",
   "metadata": {
    "slideshow": {
     "slide_type": "slide"
    }
   },
   "source": [
    "```python\n",
    "portfolio_risk = np.sqrt(np.dot(weights.T, np.dot(cov_matrix, weights)))\n",
    "```\n",
    "\n",
    "The portfolio risk is calculated using the covariance matrix and the portfolio weights. This formula computes the standard deviation of the portfolio, reflecting its total risk:\n",
    "\n",
    "$$\\text{Portfolio Risk} = \\sqrt{W^T \\Sigma W}$$\n",
    "\n",
    "where:\n",
    "- $W$ is the vector of weights.\n",
    "- $\\Sigma$  is the covariance matrix.\n",
    "- The inner product `np.dot(cov_matrix, weights)` calculates the weighted covariance for each asset, and then the outer product with `weights.T` provides the total variance of the portfolio. The square root of this value gives the standard deviation."
   ]
  },
  {
   "cell_type": "markdown",
   "id": "74f35dc7",
   "metadata": {
    "slideshow": {
     "slide_type": "slide"
    }
   },
   "source": [
    "### 6.3 Risk analysis"
   ]
  },
  {
   "cell_type": "markdown",
   "id": "d567e6ce",
   "metadata": {
    "slideshow": {
     "slide_type": "slide"
    }
   },
   "source": [
    "**Monte Carlo** simulations are widely used in finance to model the probability of different outcomes in uncertain environments. Let’s use `NumPy` to run a Monte Carlo simulation for portfolio returns."
   ]
  },
  {
   "cell_type": "code",
   "execution_count": 102,
   "id": "e4306835",
   "metadata": {
    "slideshow": {
     "slide_type": "slide"
    }
   },
   "outputs": [],
   "source": [
    "# Parameters for simulation\n",
    "n_simulations = 10000  # Number of simulations\n",
    "n_days = 252  # One year of trading days\n",
    "mean_return = 0.001  # Mean daily return\n",
    "std_dev = 0.02  # Daily standard deviation\n",
    "\n",
    "# Simulate random daily returns for one year\n",
    "simulated_returns = np.random.normal(mean_return, std_dev, (n_simulations, n_days))\n",
    "\n",
    "# Calculate cumulative returns for each simulation\n",
    "cumulative_returns = np.cumprod(1 + simulated_returns, axis=1)\n",
    "\n",
    "# Final value of each simulation\n",
    "final_values = cumulative_returns[:, -1]"
   ]
  },
  {
   "cell_type": "markdown",
   "id": "7c84ffc3",
   "metadata": {
    "slideshow": {
     "slide_type": "slide"
    }
   },
   "source": [
    "```python\n",
    "simulated_returns = np.random.normal(mean_return, std_dev, (n_simulations, n_days))\n",
    "```\n",
    "This line generates a 2D array of random daily returns using a normal distribution.\n",
    "- Each row represents a separate simulation (one potential outcome for the year), and each column represents the daily returns for that simulation across 252 trading days.\n",
    "- The `np.random.normal` function takes the mean and standard deviation, generating random returns for each day in each simulation."
   ]
  },
  {
   "cell_type": "markdown",
   "id": "1d0340ae",
   "metadata": {
    "slideshow": {
     "slide_type": "slide"
    }
   },
   "source": [
    "```python\n",
    "cumulative_returns = np.cumprod(1 + simulated_returns, axis=1)\n",
    "```\n",
    "The cumulative returns are calculated by taking the product of the daily returns over time.\n",
    "- The expression `1 + simulated_returns` adjusts the returns to represent growth factors (e.g., if the return is 0.01, the growth factor is 1.01).\n",
    "- The `np.cumprod` function computes the cumulative product along the specified axis (here, `axis=1`, which means across each simulation)."
   ]
  },
  {
   "cell_type": "markdown",
   "id": "39d4ca76",
   "metadata": {
    "slideshow": {
     "slide_type": "slide"
    }
   },
   "source": [
    "```python\n",
    "final_values = cumulative_returns[:, -1]\n",
    "```\n",
    "This line extracts the final value of the portfolio at the end of the simulation period (after 252 days) for each of the 10,000 simulations.\n",
    "- `cumulative_returns[:, -1]` retrieves the last column of the cumulative returns matrix, representing the portfolio value after one year of trading."
   ]
  },
  {
   "cell_type": "code",
   "execution_count": 106,
   "id": "1890c9e6",
   "metadata": {
    "slideshow": {
     "slide_type": "slide"
    }
   },
   "outputs": [
    {
     "data": {
      "image/png": "[encoded data removed]",
      "text/plain": [
       "<Figure size 432x288 with 1 Axes>"
      ]
     },
     "metadata": {
      "needs_background": "light"
     },
     "output_type": "display_data"
    }
   ],
   "source": [
    "# Plot distribution of final values\n",
    "plt.hist(final_values, bins=50, edgecolor='k')\n",
    "plt.title('Monte Carlo Simulation of Portfolio Returns')\n",
    "plt.xlabel('Final Portfolio Value')\n",
    "plt.ylabel('Frequency')\n",
    "plt.show()"
   ]
  },
  {
   "cell_type": "markdown",
   "id": "a0e2d68e",
   "metadata": {
    "slideshow": {
     "slide_type": "slide"
    }
   },
   "source": [
    "---"
   ]
  }
 ],
 "metadata": {
  "celltoolbar": "Slideshow",
  "kernelspec": {
   "display_name": "Python 3 (ipykernel)",
   "language": "python",
   "name": "python3"
  },
  "language_info": {
   "codemirror_mode": {
    "name": "ipython",
    "version": 3
   },
   "file_extension": ".py",
   "mimetype": "text/x-python",
   "name": "python",
   "nbconvert_exporter": "python",
   "pygments_lexer": "ipython3",
   "version": "3.9.12"
  }
 },
 "nbformat": 4,
 "nbformat_minor": 5
}
