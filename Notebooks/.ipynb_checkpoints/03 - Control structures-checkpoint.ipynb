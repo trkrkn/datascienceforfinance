{
 "cells": [
  {
   "cell_type": "markdown",
   "id": "94f2e5c0",
   "metadata": {
    "slideshow": {
     "slide_type": "slide"
    }
   },
   "source": [
    "# Lecture 03 - Control Structures"
   ]
  },
  {
   "cell_type": "markdown",
   "id": "a8ee2e35",
   "metadata": {
    "slideshow": {
     "slide_type": "slide"
    }
   },
   "source": [
    "## Overview"
   ]
  },
  {
   "cell_type": "markdown",
   "id": "170c0fd5",
   "metadata": {},
   "source": [
    "**Control structures** are essential in programming: they allow to control the flow of the code. \n",
    "\n",
    "In Python, the primary control structures are `if`, `while`, and `for` loops. These structures are crucial in decision-making processes and repetitive tasks.\n",
    "\n",
    "This notebook covers:\n",
    "- `if` statements \n",
    "- `while` loops for repeated execution based on a condition\n",
    "- `for` loops for iterating over sequences\n",
    "    - **counter-based loops**\n",
    "    - **list comprehension**\n"
   ]
  },
  {
   "cell_type": "markdown",
   "id": "16d9854c",
   "metadata": {
    "slideshow": {
     "slide_type": "slide"
    }
   },
   "source": [
    "## 1. The `if` Statement"
   ]
  },
  {
   "cell_type": "markdown",
   "id": "702f4932",
   "metadata": {},
   "source": [
    "The `if` statement executes a block of code only if a certain condition is `True`. Such **conditional statements** consider the specific value of a variable at the time of execution and determine the outcome based on a logical operation. "
   ]
  },
  {
   "cell_type": "markdown",
   "id": "acd5ce94",
   "metadata": {
    "slideshow": {
     "slide_type": "slide"
    }
   },
   "source": [
    "### 2.1 Structure"
   ]
  },
  {
   "cell_type": "markdown",
   "id": "be2356e4",
   "metadata": {
    "slideshow": {
     "slide_type": "-"
    }
   },
   "source": [
    "```bash\n",
    "    If CONDITON HOLDS:\n",
    "        OUTCOME 1\n",
    "    Elif OTHER CONDITION HOLDS:\n",
    "        OUTCOME 2\n",
    "    Else:\n",
    "        OUTCOME 3\n",
    "```\n",
    "**Note:** check the `tabs`"
   ]
  },
  {
   "cell_type": "code",
   "execution_count": null,
   "id": "d1ff4b69",
   "metadata": {
    "slideshow": {
     "slide_type": "slide"
    }
   },
   "outputs": [],
   "source": [
    "# Example: withdrawal\n",
    "balance = 500\n",
    "withdrawal_amount = 200\n",
    "\n",
    "if balance >= withdrawal_amount:\n",
    "    balance -= withdrawal_amount\n",
    "    print(f\"Withdrawal successful! New balance: {balance}\")\n",
    "else:\n",
    "    print(\"Insufficient funds.\")   "
   ]
  },
  {
   "cell_type": "code",
   "execution_count": null,
   "id": "8cdb2019",
   "metadata": {
    "slideshow": {
     "slide_type": "slide"
    }
   },
   "outputs": [],
   "source": [
    "# Input values\n",
    "savings = float(input(\"Enter your savings amount in dollars: \"))\n",
    "monthly_income = float(input(\"Enter your monthly income in dollars: \"))\n",
    "debt = float(input(\"Enter your debt amount in dollars: \"))\n",
    "\n",
    "# Applying the conditions using if, elif, and else statements\n",
    "if savings > 50000 and debt == 0:\n",
    "    print(\"You should invest in stocks.\")\n",
    "elif debt > 0 and savings > 20000 and monthly_income > 4000:\n",
    "    print(\"You should pay off debt aggressively.\")\n",
    "elif savings < 20000 and debt > 10000:\n",
    "    print(\"You should save more and minimize spending.\")\n",
    "else:\n",
    "    print(\"You should create a budget and build an emergency fund.\")"
   ]
  },
  {
   "cell_type": "markdown",
   "id": "6c0fe6c3",
   "metadata": {
    "slideshow": {
     "slide_type": "slide"
    }
   },
   "source": [
    "## 2. The `while` Loop"
   ]
  },
  {
   "cell_type": "markdown",
   "id": "5b76fb66",
   "metadata": {},
   "source": [
    "The `while` loop repeats a block of code as long as a specified condition is true. "
   ]
  },
  {
   "cell_type": "markdown",
   "id": "be96f9cd",
   "metadata": {
    "slideshow": {
     "slide_type": "slide"
    }
   },
   "source": [
    "### 2.1 Structure"
   ]
  },
  {
   "cell_type": "markdown",
   "id": "fd705844",
   "metadata": {
    "slideshow": {
     "slide_type": "-"
    }
   },
   "source": [
    "```bash\n",
    "    While CONDITION HOLDS:\n",
    "        ACTION(s)\n",
    "```"
   ]
  },
  {
   "cell_type": "code",
   "execution_count": null,
   "id": "9f58b1be",
   "metadata": {
    "slideshow": {
     "slide_type": "slide"
    }
   },
   "outputs": [],
   "source": [
    "# Example: Simulating a simple ATM withdrawal process\n",
    "balance = 1000\n",
    "withdrawal_attempts = 0\n",
    "\n",
    "while balance > 0 and withdrawal_attempts < 3:\n",
    "    withdrawal_amount = 200\n",
    "    if balance >= withdrawal_amount:\n",
    "        balance -= withdrawal_amount\n",
    "        print(f\"Withdrawal successful! New balance: {balance}\")\n",
    "    else:\n",
    "        print(\"Insufficient funds.\")\n",
    "    withdrawal_attempts += 1"
   ]
  },
  {
   "cell_type": "markdown",
   "id": "02598254",
   "metadata": {
    "slideshow": {
     "slide_type": "slide"
    }
   },
   "source": [
    "### 2.2 When using a `while` loop:"
   ]
  },
  {
   "cell_type": "markdown",
   "id": "14412747",
   "metadata": {
    "slideshow": {
     "slide_type": "slide"
    }
   },
   "source": [
    "1. **Loop Condition and Termination**: Ensure the loop has a valid exit condition that will eventually become `False`.\n",
    "\n",
    "**Example:**"
   ]
  },
  {
   "cell_type": "code",
   "execution_count": null,
   "id": "63b142d9",
   "metadata": {},
   "outputs": [],
   "source": [
    "count = 0\n",
    "while count < 5:  # Loop will terminate when count reaches 5\n",
    "    print(f\"Count is {count}\")\n",
    "    count += 1"
   ]
  },
  {
   "cell_type": "markdown",
   "id": "c0f84567",
   "metadata": {},
   "source": [
    "*If the loop condition (e.g., `count < 5`) is never met, the loop will stop naturally.*"
   ]
  },
  {
   "cell_type": "markdown",
   "id": "a43d355d",
   "metadata": {
    "slideshow": {
     "slide_type": "slide"
    }
   },
   "source": [
    "2. **Update Loop Variable**: Ensure the variable controlling the loop is updated to prevent infinite loops.\n",
    "\n",
    "**Example:**"
   ]
  },
  {
   "cell_type": "code",
   "execution_count": null,
   "id": "a354817c",
   "metadata": {},
   "outputs": [],
   "source": [
    "balance = 1000\n",
    "monthly_payment = 200\n",
    "\n",
    "while balance > 0:\n",
    "    balance -= monthly_payment  # Update balance each iteration\n",
    "    print(f\"Remaining balance: ${balance}\")"
   ]
  },
  {
   "cell_type": "markdown",
   "id": "2166c293",
   "metadata": {},
   "source": [
    "*The balance is reduced each time until it reaches zero, terminating the loop.*"
   ]
  },
  {
   "cell_type": "markdown",
   "id": "f80d065a",
   "metadata": {
    "slideshow": {
     "slide_type": "slide"
    }
   },
   "source": [
    "3. **Break and Exit Conditions**: Use `break` to exit early when certain conditions are met.\n",
    "\n",
    "**Example:**"
   ]
  },
  {
   "cell_type": "code",
   "execution_count": null,
   "id": "1bda4d34",
   "metadata": {},
   "outputs": [],
   "source": [
    "while True:\n",
    "    user_input = input(\"Type 'exit' to stop: \")\n",
    "    if user_input == 'exit':\n",
    "        print(\"Exiting the loop.\")\n",
    "        break"
   ]
  },
  {
   "cell_type": "markdown",
   "id": "545ad7a8",
   "metadata": {},
   "source": [
    "*The loop terminates immediately when the user types `'exit'`.*"
   ]
  },
  {
   "cell_type": "markdown",
   "id": "304937c3",
   "metadata": {
    "slideshow": {
     "slide_type": "slide"
    }
   },
   "source": [
    "4. **Efficiency and Performance**: Avoid heavy computations inside the loop to maintain performance.\n",
    "\n",
    "**Example:**"
   ]
  },
  {
   "cell_type": "code",
   "execution_count": null,
   "id": "9607d1d9",
   "metadata": {},
   "outputs": [],
   "source": [
    "n = 1000000\n",
    "i = 0\n",
    "while i < n:\n",
    "    i += 1  # Efficient loop, only counting\n",
    "# Avoid putting expensive operations here\n",
    "print(f\"Loop completed {n} iterations.\")"
   ]
  },
  {
   "cell_type": "markdown",
   "id": "9f44355a",
   "metadata": {},
   "source": [
    "*The loop is efficient and avoids unnecessary complex calculations inside.*"
   ]
  },
  {
   "cell_type": "markdown",
   "id": "ae4a9137",
   "metadata": {
    "slideshow": {
     "slide_type": "slide"
    }
   },
   "source": [
    "5. **Edge Case Handling**: Plan for edge cases by adding safety conditions, such as a maximum number of iterations.\n",
    "\n",
    "**Example:**"
   ]
  },
  {
   "cell_type": "code",
   "execution_count": null,
   "id": "cbcef74b",
   "metadata": {},
   "outputs": [],
   "source": [
    "loan_balance = 5000\n",
    "monthly_payment = 300\n",
    "max_months = 60  # Safety condition to prevent infinite loop\n",
    "months = 0\n",
    "\n",
    "while loan_balance > 0 and months < max_months:\n",
    "    loan_balance -= monthly_payment\n",
    "    months += 1\n",
    "    if loan_balance < 0:\n",
    "        loan_balance = 0\n",
    "        break\n",
    "\n",
    "print(f\"Loan repaid in {months} months.\")"
   ]
  },
  {
   "cell_type": "markdown",
   "id": "3b37fd98",
   "metadata": {},
   "source": [
    "*The loop stops if either the loan is repaid or the maximum number of months is reached.*"
   ]
  },
  {
   "cell_type": "markdown",
   "id": "f1f8d253",
   "metadata": {
    "slideshow": {
     "slide_type": "slide"
    }
   },
   "source": [
    "### 2.3 Full example: Loan Repayment Simulation"
   ]
  },
  {
   "cell_type": "markdown",
   "id": "187d11cb",
   "metadata": {
    "slideshow": {
     "slide_type": "slide"
    }
   },
   "source": [
    "**Problem:** A user takes out a loan of $\\$ 100,000$ with an annual interest rate of 5\\%. The user makes fixed monthly payments of $\\$ 1,500$. \n",
    "\n",
    "We need to:\n",
    "\n",
    "1. Calculate how many months it will take to pay off the loan.\n",
    "2. Track how much total interest is paid by the time the loan is fully repaid."
   ]
  },
  {
   "cell_type": "markdown",
   "id": "fc168a06",
   "metadata": {
    "slideshow": {
     "slide_type": "slide"
    }
   },
   "source": [
    "**To consider:** In this example, we simulate the process of repaying a loan with monthly payments. \n",
    "\n",
    "The goal is to calculate how long it will take to fully repay the loan, considering:\n",
    "\n",
    "- A principal loan amount.\n",
    "- A fixed monthly payment.\n",
    "- A monthly interest rate (compound interest).\n",
    "\n",
    "Use a `while` loop to simulate the monthly loan repayment process until the loan is fully repaid. The loop keeps running as long as the loan balance is greater than zero."
   ]
  },
  {
   "cell_type": "code",
   "execution_count": null,
   "id": "693ae3ca",
   "metadata": {
    "slideshow": {
     "slide_type": "slide"
    }
   },
   "outputs": [],
   "source": [
    "# While Loop for Loan Repayment Simulation\n",
    "\n",
    "# Loan parameters\n",
    "principal = 100000  # Initial loan amount in dollars\n",
    "annual_interest_rate = 0.05  # 5% annual interest\n",
    "monthly_payment = 1500  # Monthly payment in dollars"
   ]
  },
  {
   "cell_type": "code",
   "execution_count": null,
   "id": "bd5b9218",
   "metadata": {
    "slideshow": {
     "slide_type": "slide"
    }
   },
   "outputs": [],
   "source": [
    "# Calculated monthly interest rate\n",
    "monthly_interest_rate = annual_interest_rate / 12"
   ]
  },
  {
   "cell_type": "code",
   "execution_count": null,
   "id": "523af1da",
   "metadata": {
    "slideshow": {
     "slide_type": "slide"
    }
   },
   "outputs": [],
   "source": [
    "# Initialize variables\n",
    "loan_balance = principal  # Remaining loan balance starts as the principal\n",
    "total_interest_paid = 0  # Track the total interest paid\n",
    "months = 0  # Track the number of months needed to repay the loan"
   ]
  },
  {
   "cell_type": "code",
   "execution_count": null,
   "id": "3f71b933",
   "metadata": {
    "slideshow": {
     "slide_type": "slide"
    }
   },
   "outputs": [],
   "source": [
    "# Loop until the loan is repaid\n",
    "while loan_balance > 0:\n",
    "    # Calculate interest for the current month\n",
    "    monthly_interest = loan_balance * monthly_interest_rate\n",
    "    total_interest_paid += monthly_interest\n",
    "\n",
    "    # Update loan balance by subtracting the monthly payment (minus the interest portion)\n",
    "    loan_balance = loan_balance + monthly_interest - monthly_payment\n",
    "\n",
    "    # Increment the number of months\n",
    "    months += 1\n",
    "\n",
    "    # If the loan balance becomes less than the monthly payment in the final month,\n",
    "    # pay off the remaining balance and break the loop\n",
    "    if loan_balance < monthly_payment:\n",
    "        total_interest_paid += loan_balance * monthly_interest_rate  # Final month's interest\n",
    "        loan_balance = 0  # Set the balance to 0\n",
    "        months += 1  # Add the final month"
   ]
  },
  {
   "cell_type": "code",
   "execution_count": null,
   "id": "bbfebcbf",
   "metadata": {
    "slideshow": {
     "slide_type": "slide"
    }
   },
   "outputs": [],
   "source": [
    "# Output the result\n",
    "print(f\"It will take {months} months to repay the loan.\")\n",
    "print(f\"Total interest paid over the life of the loan: ${total_interest_paid:.2f}\")"
   ]
  },
  {
   "cell_type": "markdown",
   "id": "5de7f6da",
   "metadata": {
    "slideshow": {
     "slide_type": "slide"
    }
   },
   "source": [
    "## 3. The `for` Loop\n",
    "\n",
    "The `for` loop is used to iterate over a sequence (like a `list`, `tuple`, `string`, etc.) and execute a block of code for each item in the sequence. "
   ]
  },
  {
   "cell_type": "markdown",
   "id": "1727c908",
   "metadata": {
    "slideshow": {
     "slide_type": "slide"
    }
   },
   "source": [
    "### 3.1 Structure"
   ]
  },
  {
   "cell_type": "markdown",
   "id": "54d35d86",
   "metadata": {
    "slideshow": {
     "slide_type": "-"
    }
   },
   "source": [
    "```bash\n",
    "    For ITEM in ITERABLE:\n",
    "        ACTION(s)\n",
    "```"
   ]
  },
  {
   "cell_type": "markdown",
   "id": "1caabfcc",
   "metadata": {
    "slideshow": {
     "slide_type": "fragment"
    }
   },
   "source": [
    "- `item`: This is a variable that takes the value of each element in the sequence on every iteration.\n",
    "- `iterable`: This is any Python object that can return one item at a time, like lists, tuples, strings, ranges, etc."
   ]
  },
  {
   "cell_type": "markdown",
   "id": "163077e4",
   "metadata": {
    "slideshow": {
     "slide_type": "fragment"
    }
   },
   "source": [
    "**How It Works**\n",
    "- The `for` loop goes through each item in the iterable one by one.\n",
    "- On each iteration, the item variable is assigned the next value in the sequence, and the block of code inside the loop is executed.\n",
    "- This continues until all items in the iterable have been processed."
   ]
  },
  {
   "cell_type": "code",
   "execution_count": null,
   "id": "0b095e12",
   "metadata": {
    "slideshow": {
     "slide_type": "slide"
    }
   },
   "outputs": [],
   "source": [
    "fruits = ['apple', 'banana', 'cherry']\n",
    "\n",
    "for fruit in fruits:\n",
    "    print(fruit)"
   ]
  },
  {
   "cell_type": "markdown",
   "id": "e586f80d",
   "metadata": {
    "slideshow": {
     "slide_type": "slide"
    }
   },
   "source": [
    "### 3.2 Looping over lists, dictionnaries and strings"
   ]
  },
  {
   "cell_type": "code",
   "execution_count": null,
   "id": "0481672c",
   "metadata": {
    "slideshow": {
     "slide_type": "slide"
    }
   },
   "outputs": [],
   "source": [
    "for element in l[2:5]:\n",
    "    print (element ** 2)"
   ]
  },
  {
   "cell_type": "code",
   "execution_count": null,
   "id": "db7ebdcc",
   "metadata": {},
   "outputs": [],
   "source": [
    "for item in d.items():\n",
    "    print (item)"
   ]
  },
  {
   "cell_type": "code",
   "execution_count": null,
   "id": "7fb2121e",
   "metadata": {
    "scrolled": true
   },
   "outputs": [],
   "source": [
    "for value in d.values():\n",
    "    print (type(value))"
   ]
  },
  {
   "cell_type": "code",
   "execution_count": null,
   "id": "b91b4a1e",
   "metadata": {
    "slideshow": {
     "slide_type": "slide"
    }
   },
   "outputs": [],
   "source": [
    "# Example: Calculating the total balance from a list of transactions\n",
    "transactions = [100, -50, 200, -75, 150]\n",
    "total_balance = 0\n",
    "\n",
    "for transaction in transactions:\n",
    "    total_balance += transaction\n",
    "\n",
    "print(\"Total balance after all transactions:\", total_balance)"
   ]
  },
  {
   "cell_type": "code",
   "execution_count": null,
   "id": "bec83454",
   "metadata": {
    "slideshow": {
     "slide_type": "slide"
    }
   },
   "outputs": [],
   "source": [
    "# Looping over strings\n",
    "message = \"Hello\"\n",
    "\n",
    "for char in message:\n",
    "    print(char)"
   ]
  },
  {
   "cell_type": "markdown",
   "id": "65b494db",
   "metadata": {
    "slideshow": {
     "slide_type": "slide"
    }
   },
   "source": [
    "### 3.3 Counter-based looping"
   ]
  },
  {
   "cell_type": "markdown",
   "id": "56e29ea5",
   "metadata": {},
   "source": [
    "The `range()` function is often used in `for` loops when you need to loop a specific number of times or generate a sequence of numbers."
   ]
  },
  {
   "cell_type": "code",
   "execution_count": null,
   "id": "ad96f28a",
   "metadata": {
    "slideshow": {
     "slide_type": "slide"
    }
   },
   "outputs": [],
   "source": [
    "r = range(0, 8, 1)\n",
    "r"
   ]
  },
  {
   "cell_type": "code",
   "execution_count": null,
   "id": "29b58dac",
   "metadata": {},
   "outputs": [],
   "source": [
    "type (r)"
   ]
  },
  {
   "cell_type": "code",
   "execution_count": null,
   "id": "9047acbe",
   "metadata": {
    "slideshow": {
     "slide_type": "slide"
    }
   },
   "outputs": [],
   "source": [
    "for i in range(5):\n",
    "    print(i)"
   ]
  },
  {
   "cell_type": "markdown",
   "id": "36c47904",
   "metadata": {},
   "source": [
    "- `range(5)` generates a sequence of numbers from 0 to 4.\n",
    "- On each iteration, the variable i takes the value of the next number in the range."
   ]
  },
  {
   "cell_type": "code",
   "execution_count": null,
   "id": "8d5c5dc7",
   "metadata": {
    "scrolled": true,
    "slideshow": {
     "slide_type": "slide"
    }
   },
   "outputs": [],
   "source": [
    "for i in range(2,5):\n",
    "    print (l[i] ** 2)"
   ]
  },
  {
   "cell_type": "markdown",
   "id": "d217cd5f",
   "metadata": {
    "slideshow": {
     "slide_type": "slide"
    }
   },
   "source": [
    "### 3.4 Nested `for` loops"
   ]
  },
  {
   "cell_type": "markdown",
   "id": "267cf3e1",
   "metadata": {},
   "source": [
    "`for` loops can be nested to iterate over multi-dimensional data structures like lists of lists or matrices:"
   ]
  },
  {
   "cell_type": "code",
   "execution_count": null,
   "id": "f678144b",
   "metadata": {
    "slideshow": {
     "slide_type": "slide"
    }
   },
   "outputs": [],
   "source": [
    "matrix = [[1, 2, 3], [4, 5, 6], [7, 8, 9]]\n",
    "\n",
    "for row in matrix:\n",
    "    for item in row:\n",
    "        print(item, end=\" \")\n",
    "    print()  # Newline after each row"
   ]
  },
  {
   "cell_type": "markdown",
   "id": "6d318adc",
   "metadata": {
    "slideshow": {
     "slide_type": "slide"
    }
   },
   "source": [
    "### 3.5 `break` and `continue` and `else`"
   ]
  },
  {
   "cell_type": "markdown",
   "id": "c7a91598",
   "metadata": {},
   "source": [
    "- `break`: Exits the loop prematurely when a certain condition is met.\n",
    "- `continue`: Skips the current iteration and moves on to the next iteration.\n",
    "- `else`: Executes after the loop completes normally (i.e., when the loop is not terminated by a break statement)."
   ]
  },
  {
   "cell_type": "code",
   "execution_count": null,
   "id": "af246481",
   "metadata": {
    "slideshow": {
     "slide_type": "slide"
    }
   },
   "outputs": [],
   "source": [
    "for num in range(1, 10):\n",
    "    if num == 5:\n",
    "        break  # Exit the loop when num equals 5\n",
    "    print(num)"
   ]
  },
  {
   "cell_type": "code",
   "execution_count": null,
   "id": "3c242080",
   "metadata": {},
   "outputs": [],
   "source": [
    "for num in range(1, 6):\n",
    "    if num == 3:\n",
    "        continue  # Skip the iteration when num equals 3\n",
    "    print(num)"
   ]
  },
  {
   "cell_type": "code",
   "execution_count": null,
   "id": "b632876a",
   "metadata": {
    "slideshow": {
     "slide_type": "slide"
    }
   },
   "outputs": [],
   "source": [
    "for num in range(1, 5):\n",
    "    print(num)\n",
    "else:\n",
    "    print(\"Loop completed.\")"
   ]
  },
  {
   "cell_type": "code",
   "execution_count": null,
   "id": "ac2ccf19",
   "metadata": {},
   "outputs": [],
   "source": [
    "# If the loop is interrupted by a break, the else block is not executed:\n",
    "for num in range(1, 5):\n",
    "    if num == 3:\n",
    "        break\n",
    "    print(num)\n",
    "else:\n",
    "    print(\"Loop completed.\")"
   ]
  },
  {
   "cell_type": "markdown",
   "id": "8c023447",
   "metadata": {
    "slideshow": {
     "slide_type": "slide"
    }
   },
   "source": [
    "### 3.6 Looping and conditioning"
   ]
  },
  {
   "cell_type": "code",
   "execution_count": null,
   "id": "2ee4ed94",
   "metadata": {
    "slideshow": {
     "slide_type": "slide"
    }
   },
   "outputs": [],
   "source": [
    "for i in range (1,10):\n",
    "    if i % 2 == 0:\n",
    "        print (i, 'is even')\n",
    "    elif i % 3 == 0:\n",
    "        print (i, 'is a multiple of 3')\n",
    "    else:\n",
    "        print (i, 'is odd')"
   ]
  },
  {
   "cell_type": "markdown",
   "id": "a2278bf3",
   "metadata": {
    "slideshow": {
     "slide_type": "slide"
    }
   },
   "source": [
    "### 3.7 List comprehension"
   ]
  },
  {
   "cell_type": "markdown",
   "id": "2a4857e2",
   "metadata": {},
   "source": [
    "**List comprehension** is a concise way to create lists in Python. It combines a `for` loop and optional conditions into a single line of code, allowing to generate `lists` quickly and efficiently. \n",
    "\n",
    "It is not only shorter but often more readable and **efficient computationally** than traditional `for` loops when dealing with list generation."
   ]
  },
  {
   "cell_type": "markdown",
   "id": "98d2ab1f",
   "metadata": {
    "slideshow": {
     "slide_type": "slide"
    }
   },
   "source": [
    "#### Basic Syntax of List Comprehension"
   ]
  },
  {
   "cell_type": "markdown",
   "id": "54e11e54",
   "metadata": {},
   "source": [
    "```python\n",
    "new_list = [expression for item in iterable if condition]\n",
    "```\n",
    "\n",
    "- **`expression`**: The value to append to the new list. It can be a simple value or a more complex transformation of `item`.\n",
    "- **`item`**: The variable representing each element in the iterable (e.g., list, string, or range).\n",
    "- **`iterable`**: Any sequence or collection you’re iterating over (e.g., a list, tuple, string, or range).\n",
    "- **`condition`**: (Optional) A filter that includes only certain elements from the iterable. The condition is an `if` statement."
   ]
  },
  {
   "cell_type": "code",
   "execution_count": null,
   "id": "ba593549",
   "metadata": {
    "slideshow": {
     "slide_type": "slide"
    }
   },
   "outputs": [],
   "source": [
    "#  Traditional `for` Loop:\n",
    "numbers = [1, 2, 3, 4, 5]\n",
    "squares = []\n",
    "\n",
    "for number in numbers:\n",
    "    squares.append(number ** 2)\n",
    "\n",
    "print(squares)"
   ]
  },
  {
   "cell_type": "code",
   "execution_count": null,
   "id": "ddbae834",
   "metadata": {
    "slideshow": {
     "slide_type": "slide"
    }
   },
   "outputs": [],
   "source": [
    "# Equivalent List Comprehension:\n",
    "squares = [number ** 2 for number in [1, 2, 3, 4, 5]]\n",
    "print(squares)"
   ]
  },
  {
   "cell_type": "markdown",
   "id": "d619878f",
   "metadata": {},
   "source": [
    "In this case:\n",
    "- The `for number in [1, 2, 3, 4, 5]` part is the iteration.\n",
    "- The `number ** 2` part is the expression that generates the square of each number."
   ]
  },
  {
   "cell_type": "markdown",
   "id": "16480dab",
   "metadata": {
    "slideshow": {
     "slide_type": "slide"
    }
   },
   "source": [
    "#### List comprehesions with condition"
   ]
  },
  {
   "cell_type": "markdown",
   "id": "2c510176",
   "metadata": {},
   "source": [
    "`if` statement can be included in a list comprehension to filter elements."
   ]
  },
  {
   "cell_type": "code",
   "execution_count": null,
   "id": "6e58f25c",
   "metadata": {
    "slideshow": {
     "slide_type": "slide"
    }
   },
   "outputs": [],
   "source": [
    "# Traditional `for` Loop with Condition:\n",
    "numbers = [1, 2, 3, 4, 5, 6]\n",
    "evens = []\n",
    "\n",
    "for number in numbers:\n",
    "    if number % 2 == 0:\n",
    "        evens.append(number)\n",
    "\n",
    "print(evens)"
   ]
  },
  {
   "cell_type": "code",
   "execution_count": null,
   "id": "40cc0f67",
   "metadata": {
    "slideshow": {
     "slide_type": "slide"
    }
   },
   "outputs": [],
   "source": [
    "# Equivalent list comprehension with condition:\n",
    "evens = [number for number in [1, 2, 3, 4, 5, 6] if number % 2 == 0]\n",
    "print(evens)"
   ]
  },
  {
   "cell_type": "markdown",
   "id": "27d382a7",
   "metadata": {
    "slideshow": {
     "slide_type": "fragment"
    }
   },
   "source": [
    "In this case:\n",
    "- The first `for row in [[1, 2], [3, 4], [5, 6]]` iterates over each row of the matrix.\n",
    "- The second `for item in row` iterates over each item in the row.\n",
    "- The `item` expression adds the individual elements to the new list."
   ]
  },
  {
   "cell_type": "code",
   "execution_count": null,
   "id": "58f3fdb0",
   "metadata": {
    "slideshow": {
     "slide_type": "slide"
    }
   },
   "outputs": [],
   "source": [
    "# List comprehension with multiple conditions\n",
    "filtered_numbers = [number for number in range(1, 21) if number % 2 == 0 and number % 3 == 0]\n",
    "print(filtered_numbers)"
   ]
  },
  {
   "cell_type": "markdown",
   "id": "bf4b76e3",
   "metadata": {
    "slideshow": {
     "slide_type": "slide"
    }
   },
   "source": [
    "#### List comprehension with function calls"
   ]
  },
  {
   "cell_type": "markdown",
   "id": "bc032285",
   "metadata": {},
   "source": [
    "Function calls can be used in the expression part of a list comprehension."
   ]
  },
  {
   "cell_type": "code",
   "execution_count": null,
   "id": "f7c24ab6",
   "metadata": {
    "slideshow": {
     "slide_type": "slide"
    }
   },
   "outputs": [],
   "source": [
    "def square(number):\n",
    "    return number ** 2"
   ]
  },
  {
   "cell_type": "code",
   "execution_count": null,
   "id": "79d5d917",
   "metadata": {},
   "outputs": [],
   "source": [
    "numbers = [1, 2, 3, 4, 5]\n",
    "squares = [square(number) for number in numbers]"
   ]
  },
  {
   "cell_type": "markdown",
   "id": "79e2304d",
   "metadata": {
    "slideshow": {
     "slide_type": "slide"
    }
   },
   "source": [
    "#### Dictionary with list comprehension"
   ]
  },
  {
   "cell_type": "markdown",
   "id": "a556d772",
   "metadata": {},
   "source": [
    "List comprehensions can be used to create dictionaries using the `dict()` constructor."
   ]
  },
  {
   "cell_type": "code",
   "execution_count": null,
   "id": "e1e092e7",
   "metadata": {
    "slideshow": {
     "slide_type": "slide"
    }
   },
   "outputs": [],
   "source": [
    "names = ['Alice', 'Bob', 'Charlie']\n",
    "name_length_dict = {name: len(name) for name in names}\n",
    "\n",
    "print(name_length_dict)"
   ]
  },
  {
   "cell_type": "markdown",
   "id": "f8c365c4",
   "metadata": {
    "slideshow": {
     "slide_type": "slide"
    }
   },
   "source": [
    "#### When to use list comprehensions"
   ]
  },
  {
   "cell_type": "markdown",
   "id": "d778b139",
   "metadata": {},
   "source": [
    "- **Conciseness**: Generate lists quickly and concisely.\n",
    "- **Readability**: For simple iterations, list comprehension is often more readable than multiple lines of `for` loops.\n",
    "- **Efficiency**: List comprehensions are more efficient than traditional loops due to optimizations in Python’s internal implementation."
   ]
  },
  {
   "cell_type": "markdown",
   "id": "5c13825c",
   "metadata": {
    "slideshow": {
     "slide_type": "slide"
    }
   },
   "source": [
    "#### When Not to Use List Comprehension"
   ]
  },
  {
   "cell_type": "markdown",
   "id": "627acd23",
   "metadata": {},
   "source": [
    "- **Complex Logic**: If the logic inside the list comprehension becomes too complex (e.g., multiple `if` conditions, nested loops), it may become less readable. In such cases, traditional loops may be clearer.\n",
    "- **Side Effects**: List comprehensions should not be used if the logic involves side effects (e.g., modifying external variables or data structures), as they are primarily designed for list generation, not process flow control."
   ]
  },
  {
   "cell_type": "markdown",
   "id": "2c91a214",
   "metadata": {
    "slideshow": {
     "slide_type": "slide"
    }
   },
   "source": [
    "---"
   ]
  }
 ],
 "metadata": {
  "celltoolbar": "Slideshow",
  "kernelspec": {
   "display_name": "Python 3 (ipykernel)",
   "language": "python",
   "name": "python3"
  },
  "language_info": {
   "codemirror_mode": {
    "name": "ipython",
    "version": 3
   },
   "file_extension": ".py",
   "mimetype": "text/x-python",
   "name": "python",
   "nbconvert_exporter": "python",
   "pygments_lexer": "ipython3",
   "version": "3.9.12"
  }
 },
 "nbformat": 4,
 "nbformat_minor": 5
}
