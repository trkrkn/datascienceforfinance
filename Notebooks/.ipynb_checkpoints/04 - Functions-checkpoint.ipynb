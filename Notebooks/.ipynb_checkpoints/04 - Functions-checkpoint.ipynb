{
 "cells": [
  {
   "cell_type": "markdown",
   "id": "8500ea54",
   "metadata": {
    "slideshow": {
     "slide_type": "slide"
    }
   },
   "source": [
    "# Lecture 04 - Functions"
   ]
  },
  {
   "cell_type": "markdown",
   "id": "d2d2bd73",
   "metadata": {
    "slideshow": {
     "slide_type": "slide"
    }
   },
   "source": [
    "## Overview"
   ]
  },
  {
   "cell_type": "markdown",
   "id": "3b34ba96",
   "metadata": {},
   "source": [
    "**Functions** are a key concept in programming that allow to reuse code, make programs more modular, and simplify complex tasks. In Python, functions are defined using the `def` keyword. \n",
    "\n",
    "This notebook covers:\n",
    "- **Definition** and **calls**\n",
    "- **Parameters** and **arguments**\n",
    "- **Return values**\n",
    "- **Scope** of variables\n",
    "- **Built-in** vs. **user-defined** functions\n",
    "- **Functional** and **anonymous** programming"
   ]
  },
  {
   "cell_type": "markdown",
   "id": "398209f8",
   "metadata": {
    "slideshow": {
     "slide_type": "slide"
    }
   },
   "source": [
    "## 1. Basics of Functions"
   ]
  },
  {
   "cell_type": "markdown",
   "id": "19fc6cee",
   "metadata": {
    "slideshow": {
     "slide_type": "slide"
    }
   },
   "source": [
    "### 1.1 Definition and calls"
   ]
  },
  {
   "cell_type": "markdown",
   "id": "6ca5c2ce",
   "metadata": {},
   "source": [
    "In Python, a function is **defined** using the `def` keyword followed by the function name and parentheses `()`. Once implemented, the function is called using the name and parantheses. As long as the function is not called, nothing happens (no output)."
   ]
  },
  {
   "cell_type": "code",
   "execution_count": 1,
   "id": "a56fb9b6",
   "metadata": {
    "slideshow": {
     "slide_type": "slide"
    }
   },
   "outputs": [],
   "source": [
    "# Example of a simple function\n",
    "def greet_bank_customer():\n",
    "    print(\"Welcome to ABC Bank!\")"
   ]
  },
  {
   "cell_type": "code",
   "execution_count": 2,
   "id": "a23d95ad",
   "metadata": {},
   "outputs": [
    {
     "name": "stdout",
     "output_type": "stream",
     "text": [
      "Welcome to ABC Bank!\n"
     ]
    }
   ],
   "source": [
    "# Call the function\n",
    "greet_bank_customer()"
   ]
  },
  {
   "cell_type": "markdown",
   "id": "b82702dd",
   "metadata": {
    "slideshow": {
     "slide_type": "slide"
    }
   },
   "source": [
    "### 1.2 Arguments"
   ]
  },
  {
   "cell_type": "markdown",
   "id": "8c6bf2a6",
   "metadata": {},
   "source": [
    "Functions can accept **inputs**, known as **arguments** or **parameters**, which are passed into the function using the parentheses."
   ]
  },
  {
   "cell_type": "code",
   "execution_count": 3,
   "id": "0471d26c",
   "metadata": {
    "slideshow": {
     "slide_type": "slide"
    }
   },
   "outputs": [],
   "source": [
    "# Function to calculate simple interest\n",
    "def calculate_simple_interest(principal, rate, time):\n",
    "    interest = principal * rate * time / 100\n",
    "    print(f\"The interest is: {interest}\")"
   ]
  },
  {
   "cell_type": "code",
   "execution_count": 4,
   "id": "990c270c",
   "metadata": {},
   "outputs": [
    {
     "name": "stdout",
     "output_type": "stream",
     "text": [
      "The interest is: 100.0\n"
     ]
    }
   ],
   "source": [
    "# Call the function with arguments\n",
    "x = input()\n",
    "b = input()\n",
    "a = input()\n",
    "calculate_simple_interest(x, b, a)  # Principal = 1000, Rate = 5%, Time = 2 years"
   ]
  },
  {
   "cell_type": "markdown",
   "id": "a9480415",
   "metadata": {
    "slideshow": {
     "slide_type": "slide"
    }
   },
   "source": [
    "### 1.3 Return Values"
   ]
  },
  {
   "cell_type": "markdown",
   "id": "0a04cc6b",
   "metadata": {},
   "source": [
    "Functions can **return** a value which can be assigned to an external variable. This obtains from the `return` statement."
   ]
  },
  {
   "cell_type": "code",
   "execution_count": 5,
   "id": "ddd3470a",
   "metadata": {
    "slideshow": {
     "slide_type": "slide"
    }
   },
   "outputs": [],
   "source": [
    "# Function to calculate and return compound interest\n",
    "def calculate_compound_interest(principal, rate, time):\n",
    "    amount = principal * (1 + rate/100)**time\n",
    "    interest = amount - principal\n",
    "    return interest"
   ]
  },
  {
   "cell_type": "code",
   "execution_count": 12,
   "id": "b7d0ccb6",
   "metadata": {},
   "outputs": [
    {
     "name": "stdout",
     "output_type": "stream",
     "text": [
      "The compound interest is: 102.5\n"
     ]
    }
   ],
   "source": [
    "# Call the function and store the result\n",
    "compound_interest = calculate_compound_interest(1000, 5, 2)\n",
    "print(\"The compound interest is:\", compound_interest)"
   ]
  },
  {
   "cell_type": "markdown",
   "id": "78a6b4c4",
   "metadata": {
    "slideshow": {
     "slide_type": "slide"
    }
   },
   "source": [
    "### 1.4 Variable Scope"
   ]
  },
  {
   "cell_type": "markdown",
   "id": "42249d24",
   "metadata": {},
   "source": [
    "**Variables** defined inside a function are **local** to that function and cannot be accessed outside of it. This is called the **scope of a variable**."
   ]
  },
  {
   "cell_type": "code",
   "execution_count": 7,
   "id": "8781db10",
   "metadata": {
    "slideshow": {
     "slide_type": "slide"
    }
   },
   "outputs": [],
   "source": [
    "def calculate_balance():\n",
    "    balance = 5000  # Local variable\n",
    "    print(\"Balance inside the function:\", balance)"
   ]
  },
  {
   "cell_type": "code",
   "execution_count": 8,
   "id": "9db33a78",
   "metadata": {},
   "outputs": [
    {
     "name": "stdout",
     "output_type": "stream",
     "text": [
      "Balance inside the function: 5000\n"
     ]
    }
   ],
   "source": [
    "calculate_balance()"
   ]
  },
  {
   "cell_type": "code",
   "execution_count": 9,
   "id": "e6288e65",
   "metadata": {},
   "outputs": [
    {
     "ename": "NameError",
     "evalue": "name 'balance' is not defined",
     "output_type": "error",
     "traceback": [
      "\u001b[0;31m---------------------------------------------------------------------------\u001b[0m",
      "\u001b[0;31mNameError\u001b[0m                                 Traceback (most recent call last)",
      "Input \u001b[0;32mIn [9]\u001b[0m, in \u001b[0;36m<cell line: 1>\u001b[0;34m()\u001b[0m\n\u001b[0;32m----> 1\u001b[0m \u001b[38;5;28mprint\u001b[39m(\u001b[43mbalance\u001b[49m)\n",
      "\u001b[0;31mNameError\u001b[0m: name 'balance' is not defined"
     ]
    }
   ],
   "source": [
    "print(balance)  # This will raise an error because balance is not accessible outside the function"
   ]
  },
  {
   "cell_type": "markdown",
   "id": "b987e273",
   "metadata": {
    "slideshow": {
     "slide_type": "slide"
    }
   },
   "source": [
    "### 1.5 Built-in vs. User-defined Functions"
   ]
  },
  {
   "cell_type": "markdown",
   "id": "6437c7d5",
   "metadata": {},
   "source": [
    "Python provides many built-in functions like `print()`, `len()`, `sum()`, etc. \n",
    "\n",
    "User-defined functions can also be used to extend and improve such functions."
   ]
  },
  {
   "cell_type": "code",
   "execution_count": 13,
   "id": "2c889c94",
   "metadata": {
    "slideshow": {
     "slide_type": "slide"
    }
   },
   "outputs": [
    {
     "name": "stdout",
     "output_type": "stream",
     "text": [
      "Total balance after transactions: 150\n"
     ]
    }
   ],
   "source": [
    "# Using the built-in sum function to add numbers in a list\n",
    "transactions = [100, -50, 200, -100]\n",
    "total = sum(transactions)\n",
    "print(\"Total balance after transactions:\", total)"
   ]
  },
  {
   "cell_type": "code",
   "execution_count": 14,
   "id": "b8d952b0",
   "metadata": {},
   "outputs": [
    {
     "name": "stdout",
     "output_type": "stream",
     "text": [
      "Net Present Value: 209.02029602108263\n"
     ]
    }
   ],
   "source": [
    "# User-defined function to calculate the net present value (NPV)\n",
    "def calculate_npv(cash_flows, discount_rate):\n",
    "    npv = sum(cf / (1 + discount_rate) ** t for t, cf in enumerate(cash_flows, 1))\n",
    "    return npv\n",
    "\n",
    "cash_flows = [-1000, 200, 300, 400, 500]\n",
    "print(\"Net Present Value:\", calculate_npv(cash_flows, 0.05))"
   ]
  },
  {
   "cell_type": "markdown",
   "id": "12d8a68f",
   "metadata": {
    "slideshow": {
     "slide_type": "slide"
    }
   },
   "source": [
    "## 2. Functional programming"
   ]
  },
  {
   "cell_type": "markdown",
   "id": "7bce7d18",
   "metadata": {},
   "source": [
    "**Functional programming** is a programming paradigm that treats computation as the evaluation of mathematical functions and avoids changing state and mutable data. It focuses on writing **pure functions**, avoiding side effects, and using **higher-order functions** that take other functions as arguments or return them as results. \n",
    "\n",
    "Python supports functional programming features, making it easy to apply functional programming techniques.\n",
    "\n",
    "🌼 *good practice*: avoid loops as much as possible. Make full use of list comprehensions and functional programming techniques."
   ]
  },
  {
   "cell_type": "markdown",
   "id": "c9f0a860",
   "metadata": {
    "slideshow": {
     "slide_type": "slide"
    }
   },
   "source": [
    "#### Pure function"
   ]
  },
  {
   "cell_type": "markdown",
   "id": "43218912",
   "metadata": {},
   "source": [
    "A **pure function** is a function that:\n",
    "- Always produces the same output given the same input.\n",
    "- Has no side effects (e.g., modifying external variables, changing mutable data, etc.)."
   ]
  },
  {
   "cell_type": "markdown",
   "id": "c2e21c56",
   "metadata": {
    "slideshow": {
     "slide_type": "slide"
    }
   },
   "source": [
    "**Example of a Pure Function:**"
   ]
  },
  {
   "cell_type": "code",
   "execution_count": null,
   "id": "098c330a",
   "metadata": {},
   "outputs": [],
   "source": [
    "def add(a, b):\n",
    "    return a + b"
   ]
  },
  {
   "cell_type": "markdown",
   "id": "1389c3ad",
   "metadata": {},
   "source": [
    "This function always returns the sum of `a` and `b` without modifying anything outside the function."
   ]
  },
  {
   "cell_type": "markdown",
   "id": "5f576dd1",
   "metadata": {
    "slideshow": {
     "slide_type": "slide"
    }
   },
   "source": [
    "**Non-Pure Function (with side effects):**"
   ]
  },
  {
   "cell_type": "code",
   "execution_count": null,
   "id": "35d745cb",
   "metadata": {},
   "outputs": [],
   "source": [
    "total = 0\n",
    "\n",
    "def add_to_total(amount):\n",
    "    global total\n",
    "    total += amount\n",
    "    return total"
   ]
  },
  {
   "cell_type": "markdown",
   "id": "c6c80f4b",
   "metadata": {},
   "source": [
    "This function modifies the global variable `total`, which is considered a side effect and makes it a non-pure function."
   ]
  },
  {
   "cell_type": "markdown",
   "id": "f4ec5b87",
   "metadata": {
    "slideshow": {
     "slide_type": "slide"
    }
   },
   "source": [
    "#### Higher-order function"
   ]
  },
  {
   "cell_type": "markdown",
   "id": "6917377d",
   "metadata": {},
   "source": [
    "A **higher-order function** is a function that takes one or more functions as arguments or returns a function as its result."
   ]
  },
  {
   "cell_type": "markdown",
   "id": "f3c23f34",
   "metadata": {},
   "source": [
    "**Example of a Higher-Order Function:**"
   ]
  },
  {
   "cell_type": "code",
   "execution_count": null,
   "id": "09843372",
   "metadata": {},
   "outputs": [],
   "source": [
    "def apply_twice(func, value):\n",
    "    return func(func(value))\n",
    "\n",
    "def double(x):\n",
    "    return x * 2\n",
    "\n",
    "print(apply_twice(double, 5))"
   ]
  },
  {
   "cell_type": "markdown",
   "id": "471edb6f",
   "metadata": {
    "slideshow": {
     "slide_type": "slide"
    }
   },
   "source": [
    "### 2.3 Anonymous Functions (Lambdas)"
   ]
  },
  {
   "cell_type": "markdown",
   "id": "68267c3b",
   "metadata": {},
   "source": [
    "In Python, **lambda functions** are **anonymous functions** that can have any number of arguments but only one expression. Lambdas are useful for short functions without explicit definitions.\n",
    "\n",
    "**Lambda Function Syntax:**\n",
    "```python\n",
    "lambda arguments: expression\n",
    "```"
   ]
  },
  {
   "cell_type": "code",
   "execution_count": 15,
   "id": "81887575",
   "metadata": {
    "slideshow": {
     "slide_type": "slide"
    }
   },
   "outputs": [
    {
     "name": "stdout",
     "output_type": "stream",
     "text": [
      "7\n"
     ]
    }
   ],
   "source": [
    "add = lambda a, b: a + b\n",
    "print(add(3, 4))  # Output: 7"
   ]
  },
  {
   "cell_type": "code",
   "execution_count": 16,
   "id": "cb2fe29c",
   "metadata": {},
   "outputs": [
    {
     "name": "stdout",
     "output_type": "stream",
     "text": [
      "8\n"
     ]
    }
   ],
   "source": [
    "# Lambda function for multiplication\n",
    "multiply = lambda x, y: x * y\n",
    "print(multiply(4, 2))  # Output: 8"
   ]
  },
  {
   "cell_type": "code",
   "execution_count": null,
   "id": "c9868ea4",
   "metadata": {
    "slideshow": {
     "slide_type": "slide"
    }
   },
   "outputs": [],
   "source": [
    "# Lambda function with if-else to check if a number is even or odd\n",
    "even_or_odd = lambda x: 'even' if x % 2 == 0 else 'odd'\n",
    "print(even_or_odd(4))  # Output: even\n",
    "print(even_or_odd(7))  # Output: odd"
   ]
  },
  {
   "cell_type": "code",
   "execution_count": 17,
   "id": "4137233d",
   "metadata": {
    "slideshow": {
     "slide_type": "slide"
    }
   },
   "outputs": [
    {
     "name": "stdout",
     "output_type": "stream",
     "text": [
      "HELLO\n"
     ]
    }
   ],
   "source": [
    "# Convert a string to uppercase using lambda\n",
    "to_upper = lambda s: s.upper()\n",
    "print(to_upper('hello'))  # Output: HELLO"
   ]
  },
  {
   "cell_type": "code",
   "execution_count": null,
   "id": "49c788fe",
   "metadata": {
    "slideshow": {
     "slide_type": "slide"
    }
   },
   "outputs": [],
   "source": [
    "# Lambda function to calculate the maximum of three numbers\n",
    "max_of_three = lambda a, b, c: a if (a > b and a > c) else (b if b > c else c)\n",
    "print(max_of_three(10, 20, 15))  # Output: 20"
   ]
  },
  {
   "cell_type": "markdown",
   "id": "eda0194d",
   "metadata": {
    "slideshow": {
     "slide_type": "slide"
    }
   },
   "source": [
    "### 2.2 Functional Programming Tools in Python"
   ]
  },
  {
   "cell_type": "markdown",
   "id": "eb76a372",
   "metadata": {},
   "source": [
    "Python provides several built-in functions that are useful in functional programming"
   ]
  },
  {
   "cell_type": "markdown",
   "id": "95ab2b2a",
   "metadata": {
    "slideshow": {
     "slide_type": "slide"
    }
   },
   "source": [
    "#### **`map()`**"
   ]
  },
  {
   "cell_type": "markdown",
   "id": "b8692b99",
   "metadata": {},
   "source": [
    "Applies a given function to each item of an iterable (like a `list`) and returns a `map` object."
   ]
  },
  {
   "cell_type": "code",
   "execution_count": 18,
   "id": "09285ce0",
   "metadata": {},
   "outputs": [
    {
     "name": "stdout",
     "output_type": "stream",
     "text": [
      "[1, 4, 9, 16, 25]\n",
      "<map object at 0x7f82f94e7190>\n"
     ]
    }
   ],
   "source": [
    "numbers = [1, 2, 3, 4, 5]\n",
    "squared_map = map(lambda x: x ** 2, numbers)\n",
    "squared = list(squared_map)\n",
    "print(squared)  \n",
    "print (squared_map)"
   ]
  },
  {
   "cell_type": "markdown",
   "id": "c8a765a6",
   "metadata": {
    "slideshow": {
     "slide_type": "slide"
    }
   },
   "source": [
    "#### **`filter()`**"
   ]
  },
  {
   "cell_type": "markdown",
   "id": "d5da1d9a",
   "metadata": {},
   "source": [
    "Filters items in an iterable based on a given function and returns an `iterator`."
   ]
  },
  {
   "cell_type": "code",
   "execution_count": 19,
   "id": "51828aa7",
   "metadata": {},
   "outputs": [
    {
     "name": "stdout",
     "output_type": "stream",
     "text": [
      "[2, 4, 6]\n",
      "<filter object at 0x7f82f94b4be0>\n"
     ]
    }
   ],
   "source": [
    "numbers = [1, 2, 3, 4, 5, 6]\n",
    "evens_iterator = filter(lambda x: x % 2 == 0, numbers)\n",
    "evens = list(evens_iterator)\n",
    "print(evens) \n",
    "print(evens_iterator)"
   ]
  },
  {
   "cell_type": "markdown",
   "id": "1777227a",
   "metadata": {},
   "source": [
    "**Note:** `iterators` in Python are exhausted after one use. Once converted to a list using `list(evens_iterator)`, the iterator is consumed and cannot be used again."
   ]
  },
  {
   "cell_type": "markdown",
   "id": "8367fd5d",
   "metadata": {
    "slideshow": {
     "slide_type": "slide"
    }
   },
   "source": [
    "#### **`reduce()`**"
   ]
  },
  {
   "cell_type": "markdown",
   "id": "8a4e1007",
   "metadata": {},
   "source": [
    "Performs a rolling computation to sequential pairs of values in a `list`. It requires importing from the `functools` module."
   ]
  },
  {
   "cell_type": "code",
   "execution_count": null,
   "id": "58430a77",
   "metadata": {},
   "outputs": [],
   "source": [
    "from functools import reduce\n",
    "\n",
    "numbers = [1, 2, 3, 4]\n",
    "result = reduce(lambda a, b: a * b, numbers)\n",
    "# Step 1: 1 * 2 = 2\n",
    "# Step 2: 2 * 3 = 6\n",
    "# Step 3: 6 * 4 = 24\n",
    "# Final Result: 24\n",
    "print(result)  "
   ]
  },
  {
   "cell_type": "markdown",
   "id": "33da6c23",
   "metadata": {
    "slideshow": {
     "slide_type": "slide"
    }
   },
   "source": [
    "#### **`zip()`**"
   ]
  },
  {
   "cell_type": "markdown",
   "id": "412106b3",
   "metadata": {},
   "source": [
    "Combines two or more iterables into a single iterable of `tuples`."
   ]
  },
  {
   "cell_type": "code",
   "execution_count": null,
   "id": "73bfee7c",
   "metadata": {},
   "outputs": [],
   "source": [
    "names = ['Alice', 'Bob', 'Charlie']\n",
    "scores = [85, 90, 95]\n",
    "\n",
    "zipped = list(zip(names, scores))\n",
    "print(zipped)  # Output: [('Alice', 85), ('Bob', 90), ('Charlie', 95)]"
   ]
  },
  {
   "cell_type": "markdown",
   "id": "01df9d2f",
   "metadata": {
    "slideshow": {
     "slide_type": "slide"
    }
   },
   "source": [
    "#### `sorted()`"
   ]
  },
  {
   "cell_type": "markdown",
   "id": "f6d9963b",
   "metadata": {},
   "source": [
    "Lambda functions can be used to define custom sorting behavior when using `sorted()`."
   ]
  },
  {
   "cell_type": "code",
   "execution_count": 20,
   "id": "ee1b2ce6",
   "metadata": {},
   "outputs": [
    {
     "name": "stdout",
     "output_type": "stream",
     "text": [
      "[(4, 'four'), (1, 'one'), (3, 'three'), (2, 'two')]\n"
     ]
    }
   ],
   "source": [
    "# Sort a list of tuples based on the second element (using lambda)\n",
    "pairs = [(1, 'one'), (2, 'two'), (3, 'three'), (4, 'four')]\n",
    "sorted_pairs = sorted(pairs, key=lambda pair: pair[1])\n",
    "print(sorted_pairs)\n",
    "# Output: [(4, 'four'), (1, 'one'), (3, 'three'), (2, 'two')]"
   ]
  },
  {
   "cell_type": "markdown",
   "id": "9d49894b",
   "metadata": {
    "slideshow": {
     "slide_type": "slide"
    }
   },
   "source": [
    "#### **List Comprehension**"
   ]
  },
  {
   "cell_type": "markdown",
   "id": "4de9356a",
   "metadata": {},
   "source": [
    "Although list comprehension is not purely functional, it is closely aligned with functional programming ideas as it allows to create new lists in a concise way."
   ]
  },
  {
   "cell_type": "code",
   "execution_count": null,
   "id": "47dd5db1",
   "metadata": {},
   "outputs": [],
   "source": [
    "squares = [x ** 2 for x in range(5)]\n",
    "print(squares)  # Output: [0, 1, 4, 9, 16]"
   ]
  },
  {
   "cell_type": "markdown",
   "id": "1772e5a9",
   "metadata": {
    "slideshow": {
     "slide_type": "slide"
    }
   },
   "source": [
    "#### Dictionaries"
   ]
  },
  {
   "cell_type": "markdown",
   "id": "5c980cac",
   "metadata": {},
   "source": [
    "Lambda functions can be used to get custom behavior when working with dictionaries, like finding the maximum or minimum key."
   ]
  },
  {
   "cell_type": "code",
   "execution_count": 21,
   "id": "5be2068e",
   "metadata": {},
   "outputs": [
    {
     "name": "stdout",
     "output_type": "stream",
     "text": [
      "Bob\n"
     ]
    }
   ],
   "source": [
    "# Find the key with the highest value in a dictionary\n",
    "scores = {'Alice': 85, 'Bob': 90, 'Charlie': 88}\n",
    "highest_scorer = max(scores, key=lambda k: scores[k])\n",
    "print(highest_scorer)  # Output: Bob"
   ]
  },
  {
   "cell_type": "code",
   "execution_count": 24,
   "id": "d40684a8",
   "metadata": {},
   "outputs": [
    {
     "data": {
      "text/plain": [
       "'Bob'"
      ]
     },
     "execution_count": 24,
     "metadata": {},
     "output_type": "execute_result"
    }
   ],
   "source": [
    "max(scores, key = lambda k: scores[k])"
   ]
  },
  {
   "cell_type": "markdown",
   "id": "5a3ac6ec",
   "metadata": {
    "slideshow": {
     "slide_type": "slide"
    }
   },
   "source": [
    "**Note:** `max()` and `dict`\n",
    "\n",
    "1.\t`max(scores)`: Finds the maximum key (default behavior).\n",
    "2.\t`max(scores.values())`: Finds the maximum value.\n",
    "3.\t`max(scores, key=lambda k: scores[k])`: Finds the key corresponding to the maximum value."
   ]
  },
  {
   "cell_type": "markdown",
   "id": "0c6536e5",
   "metadata": {
    "slideshow": {
     "slide_type": "slide"
    }
   },
   "source": [
    "---"
   ]
  }
 ],
 "metadata": {
  "kernelspec": {
   "display_name": "Python 3 (ipykernel)",
   "language": "python",
   "name": "python3"
  },
  "language_info": {
   "codemirror_mode": {
    "name": "ipython",
    "version": 3
   },
   "file_extension": ".py",
   "mimetype": "text/x-python",
   "name": "python",
   "nbconvert_exporter": "python",
   "pygments_lexer": "ipython3",
   "version": "3.9.12"
  }
 },
 "nbformat": 4,
 "nbformat_minor": 5
}
