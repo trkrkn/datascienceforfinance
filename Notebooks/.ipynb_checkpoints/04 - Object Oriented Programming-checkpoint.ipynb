{
 "cells": [
  {
   "cell_type": "markdown",
   "id": "e98d4045",
   "metadata": {},
   "source": [
    "# Object-Oriented Programming (OOP) \n",
    "\n",
    "## Overview\n",
    "Object-Oriented Programming (OOP) is a programming paradigm based on the concept of \"objects,\" which can contain data (attributes) and code (methods). OOP allows for organizing complex programs into manageable, modular components, making your code more reusable, scalable, and easier to maintain.\n",
    "\n",
    "In this notebook, you'll learn about:\n",
    "- The basics of OOP: classes and objects\n",
    "- Defining classes and creating objects\n",
    "- Attributes and methods\n",
    "- Inheritance and polymorphism\n",
    "- How these concepts can be applied in banking and finance"
   ]
  },
  {
   "cell_type": "markdown",
   "id": "990a11c7",
   "metadata": {},
   "source": [
    "## 1. The Basics of OOP: Classes and Objects\n",
    "\n",
    "### 1.1 What is a Class?\n",
    "\n",
    "A class is a blueprint for creating objects. It defines the attributes and methods that the objects created from the class will have.\n",
    "\n",
    "### 1.2 What is an Object?\n",
    "\n",
    "An object is an instance of a class. When you create an object, you are creating an instance of a class with specific values for its attributes.\n",
    "\n",
    "#### Example: Defining a Bank Account Class\n",
    "\n",
    "```python\n",
    "# Example: Defining a simple BankAccount class\n",
    "class BankAccount:\n",
    "    def __init__(self, account_holder, balance=0):\n",
    "        self.account_holder = account_holder\n",
    "        self.balance = balance\n",
    "\n",
    "    def deposit(self, amount):\n",
    "        self.balance += amount\n",
    "        print(f\"{amount} deposited. New balance: {self.balance}\")\n",
    "\n",
    "    def withdraw(self, amount):\n",
    "        if amount > self.balance:\n",
    "            print(\"Insufficient funds.\")\n",
    "        else:\n",
    "            self.balance -= amount\n",
    "            print(f\"{amount} withdrawn. New balance: {self.balance}\")\n",
    "\n",
    "# Creating an object of the BankAccount class\n",
    "account = BankAccount(\"John Doe\", 500)\n",
    "print(account.account_holder)\n",
    "print(account.balance)"
   ]
  },
  {
   "cell_type": "code",
   "execution_count": null,
   "id": "0ebc80a7",
   "metadata": {},
   "outputs": [],
   "source": []
  }
 ],
 "metadata": {
  "kernelspec": {
   "display_name": "Python 3 (ipykernel)",
   "language": "python",
   "name": "python3"
  },
  "language_info": {
   "codemirror_mode": {
    "name": "ipython",
    "version": 3
   },
   "file_extension": ".py",
   "mimetype": "text/x-python",
   "name": "python",
   "nbconvert_exporter": "python",
   "pygments_lexer": "ipython3",
   "version": "3.9.12"
  }
 },
 "nbformat": 4,
 "nbformat_minor": 5
}
