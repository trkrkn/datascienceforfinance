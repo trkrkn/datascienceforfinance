{
 "cells": [
  {
   "cell_type": "markdown",
   "id": "e89dc6e6",
   "metadata": {},
   "source": [
    "# Lecture 08 - Data Manipulation (Pandas)\n"
   ]
  },
  {
   "cell_type": "markdown",
   "id": "44c3d01c",
   "metadata": {},
   "source": [
    "## Overview "
   ]
  },
  {
   "cell_type": "markdown",
   "id": "9a13faa5",
   "metadata": {},
   "source": [
    "**What is `pandas`?**\n",
    "\n",
    "- `Pandas` is a powerful Python library used for **data manipulation** and **analysis**.\n",
    "- It provides two main data structures: `Series` (1D) and `DataFrame` (2D), which are ideal for working with structured data, similar to Excel spreadsheets or SQL tables."
   ]
  },
  {
   "cell_type": "markdown",
   "id": "de7fe956",
   "metadata": {},
   "source": [
    "**Why `pandas` for Finance?**\n",
    "\n",
    "- **Exploratory Data Analysis** (EDA): In finance, large and structured datasets that require cleaning, manipulation, and analysis.\n",
    "- **Efficiency**: `Pandas` can handle millions of rows of financial data efficiently.\n",
    "- **Integration with Data Science**: `Pandas` works seamlessly with other libraries like `NumPy` and `matplotlib` for numerical operations and visualization, essential for financial modeling."
   ]
  },
  {
   "cell_type": "code",
   "execution_count": 15,
   "id": "433442e9",
   "metadata": {},
   "outputs": [],
   "source": [
    "import pandas as pd\n",
    "import numpy as np "
   ]
  },
  {
   "cell_type": "markdown",
   "id": "6e88534e",
   "metadata": {
    "heading_collapsed": true
   },
   "source": [
    "## 1. The `DataFrame` Class"
   ]
  },
  {
   "cell_type": "markdown",
   "id": "dae96cd2",
   "metadata": {
    "hidden": true
   },
   "source": [
    "At the core of `Pandas` is the `DataFrame`, a class designed to **efficiently handle data in tabular form** —i.e., data characterized by a columnar organization. "
   ]
  },
  {
   "cell_type": "markdown",
   "id": "f363d886",
   "metadata": {
    "hidden": true
   },
   "source": [
    "- A `DataFrame` in `pandas` is a **two-dimensional**, **labeled data structure** that organizes and manipulates structured data\n",
    "- `DataFrames` consist of **rows** and **columns**, where each column can contain different types of data (`integers`, `floats`, `strings`, etc.).\n",
    "    - Like a table in a relational database or an Excel sheet. \n"
   ]
  },
  {
   "cell_type": "markdown",
   "id": "6f1b242c",
   "metadata": {
    "hidden": true
   },
   "source": [
    "### 1.1 Creating a `DataFrame`"
   ]
  },
  {
   "cell_type": "markdown",
   "id": "bc40b8c7",
   "metadata": {
    "hidden": true
   },
   "source": [
    "The `pd.DataFrame()` function in `pandas` is creates `DataFrames`."
   ]
  },
  {
   "cell_type": "markdown",
   "id": "b929d0c0",
   "metadata": {
    "hidden": true
   },
   "source": [
    "```\n",
    "pd.DataFrame(data=None, index=None, columns=None, dtype=None, copy=False)\n",
    "```"
   ]
  },
  {
   "cell_type": "markdown",
   "id": "9ed68f72",
   "metadata": {
    "hidden": true
   },
   "source": [
    "- `data`: Data to populate the `DataFrame`\n",
    "- `index`: Index labels for the rows (optional).\n",
    "- `columns`: Column labels (optional).\n",
    "- `dtype`: Data type for the elements (optional).\n",
    "- `copy`: Whether to copy the input data (optional)."
   ]
  },
  {
   "cell_type": "markdown",
   "id": "d60b39e9",
   "metadata": {
    "hidden": true
   },
   "source": [
    "There are several ways to create a `DataFrame`. \n",
    "- from **scratc**h using `lists` or `dictionaries`\n",
    "- from **reading** external files (CSV, Excel, SQL databases). "
   ]
  },
  {
   "cell_type": "markdown",
   "id": "1567167b",
   "metadata": {
    "hidden": true
   },
   "source": [
    "#### From a `list`:"
   ]
  },
  {
   "cell_type": "code",
   "execution_count": 3,
   "id": "595bdc55",
   "metadata": {
    "hidden": true
   },
   "outputs": [],
   "source": [
    "# Creating a DataFrame from a list\n",
    "data = [10, 20, 30, 40]\n",
    "df = pd.DataFrame(data, columns=['numbers'], index=['a', 'b', 'c', 'd'])"
   ]
  },
  {
   "cell_type": "code",
   "execution_count": 4,
   "id": "5ec950c6",
   "metadata": {
    "hidden": true
   },
   "outputs": [
    {
     "name": "stdout",
     "output_type": "stream",
     "text": [
      "   numbers\n",
      "a       10\n",
      "b       20\n",
      "c       30\n",
      "d       40\n"
     ]
    }
   ],
   "source": [
    "# Displaying the DataFrame\n",
    "print(df)"
   ]
  },
  {
   "cell_type": "markdown",
   "id": "91d58e7b",
   "metadata": {
    "hidden": true
   },
   "source": [
    "In this example:\n",
    "\n",
    "- The `data` list contains values for a single column.\n",
    "- The `columns` parameter labels the column, and the `index` parameter sets row labels."
   ]
  },
  {
   "cell_type": "code",
   "execution_count": null,
   "id": "2c011ddf",
   "metadata": {
    "hidden": true
   },
   "outputs": [],
   "source": [
    "df.index"
   ]
  },
  {
   "cell_type": "code",
   "execution_count": null,
   "id": "2216990c",
   "metadata": {
    "hidden": true
   },
   "outputs": [],
   "source": [
    "df.columns"
   ]
  },
  {
   "cell_type": "markdown",
   "id": "ccb62320",
   "metadata": {
    "heading_collapsed": true,
    "hidden": true
   },
   "source": [
    "#### From a `dictionary`"
   ]
  },
  {
   "cell_type": "markdown",
   "id": "d18ffb94",
   "metadata": {
    "hidden": true
   },
   "source": [
    "A more powerful way to create a `DataFrame` is from a `dictionary`, where `keys` are column `names` and values are lists of column data."
   ]
  },
  {
   "cell_type": "code",
   "execution_count": 5,
   "id": "f342b3f8",
   "metadata": {
    "hidden": true
   },
   "outputs": [
    {
     "name": "stdout",
     "output_type": "stream",
     "text": [
      "  Product  Price  Stock\n",
      "0       A    100     50\n",
      "1       B    150     60\n",
      "2       C    200     70\n",
      "3       D    250     80\n"
     ]
    }
   ],
   "source": [
    "data = {\n",
    "    'Product': ['A', 'B', 'C', 'D'],\n",
    "    'Price': [100, 150, 200, 250],\n",
    "    'Stock': [50, 60, 70, 80]\n",
    "}\n",
    "\n",
    "df = pd.DataFrame(data)\n",
    "\n",
    "# Displaying the DataFrame\n",
    "print(df)"
   ]
  },
  {
   "cell_type": "markdown",
   "id": "d83efd49",
   "metadata": {
    "hidden": true
   },
   "source": [
    "Here, each `key` in the `dictionary` becomes a column, and the associated list values become the rows of the `DataFrame`."
   ]
  },
  {
   "cell_type": "markdown",
   "id": "04d68d17",
   "metadata": {
    "heading_collapsed": true,
    "hidden": true
   },
   "source": [
    "#### From external sources"
   ]
  },
  {
   "cell_type": "markdown",
   "id": "a815e52f",
   "metadata": {
    "hidden": true
   },
   "source": [
    "`DataFrames` can be created by reading data from files such as CSVs, Excel files, or databases.\n",
    "\n",
    "```python\n",
    "# Reading from a CSV file\n",
    "df = pd.read_csv('file.csv')\n",
    "\n",
    "# Reading from an Excel file\n",
    "df = pd.read_excel('file.xlsx')\n",
    "```\n",
    "\n",
    "(More on this in next lecture)"
   ]
  },
  {
   "cell_type": "markdown",
   "id": "75a55308",
   "metadata": {
    "hidden": true
   },
   "source": [
    "### 1.2 Accessing a `DataFrame`"
   ]
  },
  {
   "cell_type": "markdown",
   "id": "3c196c02",
   "metadata": {
    "hidden": true
   },
   "source": [
    "Once a `DataFrame` is created, one can access specific rows, columns, or subsets of data using various methods."
   ]
  },
  {
   "cell_type": "markdown",
   "id": "700aacf2",
   "metadata": {
    "heading_collapsed": true,
    "hidden": true
   },
   "source": [
    "#### Accessing columns"
   ]
  },
  {
   "cell_type": "markdown",
   "id": "9577faa5",
   "metadata": {
    "hidden": true
   },
   "source": [
    "Access to columns can be done **directly** by referring the column like in a `dictionary`."
   ]
  },
  {
   "cell_type": "code",
   "execution_count": 6,
   "id": "fd672a61",
   "metadata": {
    "hidden": true
   },
   "outputs": [
    {
     "data": {
      "text/plain": [
       "0    A\n",
       "1    B\n",
       "2    C\n",
       "3    D\n",
       "Name: Product, dtype: object"
      ]
     },
     "execution_count": 6,
     "metadata": {},
     "output_type": "execute_result"
    }
   ],
   "source": [
    "# Accessing a single column\n",
    "df['Product']"
   ]
  },
  {
   "cell_type": "code",
   "execution_count": 7,
   "id": "bcb94f75",
   "metadata": {
    "hidden": true
   },
   "outputs": [
    {
     "data": {
      "text/html": [
       "<div>\n",
       "<style scoped>\n",
       "    .dataframe tbody tr th:only-of-type {\n",
       "        vertical-align: middle;\n",
       "    }\n",
       "\n",
       "    .dataframe tbody tr th {\n",
       "        vertical-align: top;\n",
       "    }\n",
       "\n",
       "    .dataframe thead th {\n",
       "        text-align: right;\n",
       "    }\n",
       "</style>\n",
       "<table border=\"1\" class=\"dataframe\">\n",
       "  <thead>\n",
       "    <tr style=\"text-align: right;\">\n",
       "      <th></th>\n",
       "      <th>Product</th>\n",
       "      <th>Price</th>\n",
       "    </tr>\n",
       "  </thead>\n",
       "  <tbody>\n",
       "    <tr>\n",
       "      <th>0</th>\n",
       "      <td>A</td>\n",
       "      <td>100</td>\n",
       "    </tr>\n",
       "    <tr>\n",
       "      <th>1</th>\n",
       "      <td>B</td>\n",
       "      <td>150</td>\n",
       "    </tr>\n",
       "    <tr>\n",
       "      <th>2</th>\n",
       "      <td>C</td>\n",
       "      <td>200</td>\n",
       "    </tr>\n",
       "    <tr>\n",
       "      <th>3</th>\n",
       "      <td>D</td>\n",
       "      <td>250</td>\n",
       "    </tr>\n",
       "  </tbody>\n",
       "</table>\n",
       "</div>"
      ],
      "text/plain": [
       "  Product  Price\n",
       "0       A    100\n",
       "1       B    150\n",
       "2       C    200\n",
       "3       D    250"
      ]
     },
     "execution_count": 7,
     "metadata": {},
     "output_type": "execute_result"
    }
   ],
   "source": [
    "# Accessing multiple columns\n",
    "df[['Product', 'Price']]"
   ]
  },
  {
   "cell_type": "markdown",
   "id": "31bfea72",
   "metadata": {
    "heading_collapsed": true,
    "hidden": true
   },
   "source": [
    "#### Accessing rows by index"
   ]
  },
  {
   "cell_type": "markdown",
   "id": "ba23bd5b",
   "metadata": {
    "hidden": true
   },
   "source": [
    "Access to rows can be done by index (`.loc[]`) or position (`.iloc[]`)"
   ]
  },
  {
   "cell_type": "code",
   "execution_count": 8,
   "id": "4668e61d",
   "metadata": {
    "hidden": true
   },
   "outputs": [
    {
     "data": {
      "text/plain": [
       "Product      B\n",
       "Price      150\n",
       "Stock       60\n",
       "Name: 1, dtype: object"
      ]
     },
     "execution_count": 8,
     "metadata": {},
     "output_type": "execute_result"
    }
   ],
   "source": [
    "# Accessing by label\n",
    "df.loc[1]  # Retrieves the row with index 1"
   ]
  },
  {
   "cell_type": "code",
   "execution_count": 9,
   "id": "f2614c26",
   "metadata": {
    "hidden": true
   },
   "outputs": [
    {
     "data": {
      "text/plain": [
       "Product      C\n",
       "Price      200\n",
       "Stock       70\n",
       "Name: 2, dtype: object"
      ]
     },
     "execution_count": 9,
     "metadata": {},
     "output_type": "execute_result"
    }
   ],
   "source": [
    "# Accessing by position\n",
    "df.iloc[2]  # Retrieves the third row (index 2)"
   ]
  },
  {
   "cell_type": "markdown",
   "id": "5a31f3f8",
   "metadata": {
    "heading_collapsed": true,
    "hidden": true
   },
   "source": [
    "#### Selecting multiple rows"
   ]
  },
  {
   "cell_type": "markdown",
   "id": "1543d3b1",
   "metadata": {
    "hidden": true
   },
   "source": [
    "A range of rows or a specific set of rows can be selected by combining `.loc[]` or `.iloc[]` with slicing or `lists`."
   ]
  },
  {
   "cell_type": "code",
   "execution_count": 10,
   "id": "db014dff",
   "metadata": {
    "hidden": true
   },
   "outputs": [
    {
     "data": {
      "text/html": [
       "<div>\n",
       "<style scoped>\n",
       "    .dataframe tbody tr th:only-of-type {\n",
       "        vertical-align: middle;\n",
       "    }\n",
       "\n",
       "    .dataframe tbody tr th {\n",
       "        vertical-align: top;\n",
       "    }\n",
       "\n",
       "    .dataframe thead th {\n",
       "        text-align: right;\n",
       "    }\n",
       "</style>\n",
       "<table border=\"1\" class=\"dataframe\">\n",
       "  <thead>\n",
       "    <tr style=\"text-align: right;\">\n",
       "      <th></th>\n",
       "      <th>Product</th>\n",
       "      <th>Price</th>\n",
       "      <th>Stock</th>\n",
       "    </tr>\n",
       "  </thead>\n",
       "  <tbody>\n",
       "    <tr>\n",
       "      <th>1</th>\n",
       "      <td>B</td>\n",
       "      <td>150</td>\n",
       "      <td>60</td>\n",
       "    </tr>\n",
       "    <tr>\n",
       "      <th>2</th>\n",
       "      <td>C</td>\n",
       "      <td>200</td>\n",
       "      <td>70</td>\n",
       "    </tr>\n",
       "    <tr>\n",
       "      <th>3</th>\n",
       "      <td>D</td>\n",
       "      <td>250</td>\n",
       "      <td>80</td>\n",
       "    </tr>\n",
       "  </tbody>\n",
       "</table>\n",
       "</div>"
      ],
      "text/plain": [
       "  Product  Price  Stock\n",
       "1       B    150     60\n",
       "2       C    200     70\n",
       "3       D    250     80"
      ]
     },
     "execution_count": 10,
     "metadata": {},
     "output_type": "execute_result"
    }
   ],
   "source": [
    "# Accessing multiple rows by label\n",
    "df.loc[1:3]"
   ]
  },
  {
   "cell_type": "code",
   "execution_count": 11,
   "id": "d52b5a8d",
   "metadata": {
    "hidden": true
   },
   "outputs": [
    {
     "data": {
      "text/html": [
       "<div>\n",
       "<style scoped>\n",
       "    .dataframe tbody tr th:only-of-type {\n",
       "        vertical-align: middle;\n",
       "    }\n",
       "\n",
       "    .dataframe tbody tr th {\n",
       "        vertical-align: top;\n",
       "    }\n",
       "\n",
       "    .dataframe thead th {\n",
       "        text-align: right;\n",
       "    }\n",
       "</style>\n",
       "<table border=\"1\" class=\"dataframe\">\n",
       "  <thead>\n",
       "    <tr style=\"text-align: right;\">\n",
       "      <th></th>\n",
       "      <th>Product</th>\n",
       "      <th>Price</th>\n",
       "      <th>Stock</th>\n",
       "    </tr>\n",
       "  </thead>\n",
       "  <tbody>\n",
       "    <tr>\n",
       "      <th>0</th>\n",
       "      <td>A</td>\n",
       "      <td>100</td>\n",
       "      <td>50</td>\n",
       "    </tr>\n",
       "    <tr>\n",
       "      <th>1</th>\n",
       "      <td>B</td>\n",
       "      <td>150</td>\n",
       "      <td>60</td>\n",
       "    </tr>\n",
       "  </tbody>\n",
       "</table>\n",
       "</div>"
      ],
      "text/plain": [
       "  Product  Price  Stock\n",
       "0       A    100     50\n",
       "1       B    150     60"
      ]
     },
     "execution_count": 11,
     "metadata": {},
     "output_type": "execute_result"
    }
   ],
   "source": [
    "# Accessing multiple rows by position\n",
    "df.iloc[0:2]  "
   ]
  },
  {
   "cell_type": "code",
   "execution_count": 12,
   "id": "dea66582",
   "metadata": {
    "hidden": true
   },
   "outputs": [
    {
     "data": {
      "text/html": [
       "<div>\n",
       "<style scoped>\n",
       "    .dataframe tbody tr th:only-of-type {\n",
       "        vertical-align: middle;\n",
       "    }\n",
       "\n",
       "    .dataframe tbody tr th {\n",
       "        vertical-align: top;\n",
       "    }\n",
       "\n",
       "    .dataframe thead th {\n",
       "        text-align: right;\n",
       "    }\n",
       "</style>\n",
       "<table border=\"1\" class=\"dataframe\">\n",
       "  <thead>\n",
       "    <tr style=\"text-align: right;\">\n",
       "      <th></th>\n",
       "      <th>Product</th>\n",
       "      <th>Price</th>\n",
       "      <th>Stock</th>\n",
       "    </tr>\n",
       "  </thead>\n",
       "  <tbody>\n",
       "    <tr>\n",
       "      <th>1</th>\n",
       "      <td>B</td>\n",
       "      <td>150</td>\n",
       "      <td>60</td>\n",
       "    </tr>\n",
       "    <tr>\n",
       "      <th>3</th>\n",
       "      <td>D</td>\n",
       "      <td>250</td>\n",
       "      <td>80</td>\n",
       "    </tr>\n",
       "  </tbody>\n",
       "</table>\n",
       "</div>"
      ],
      "text/plain": [
       "  Product  Price  Stock\n",
       "1       B    150     60\n",
       "3       D    250     80"
      ]
     },
     "execution_count": 12,
     "metadata": {},
     "output_type": "execute_result"
    }
   ],
   "source": [
    "# Accessing multiple rows by list\n",
    "indeces = [1,3]\n",
    "df.loc[indeces]"
   ]
  },
  {
   "cell_type": "markdown",
   "id": "d5867de4",
   "metadata": {
    "hidden": true
   },
   "source": [
    "### 1.3 Editing a `DataFrame`"
   ]
  },
  {
   "cell_type": "markdown",
   "id": "e188b184",
   "metadata": {
    "hidden": true
   },
   "source": [
    "`DataFrames` allow for adding, deleting or modifying elements (columns or rows) on the fly."
   ]
  },
  {
   "cell_type": "code",
   "execution_count": 14,
   "id": "e511dd22",
   "metadata": {
    "hidden": true
   },
   "outputs": [],
   "source": [
    "data = {\n",
    "    'Product': ['A', 'B', 'C', 'D'],\n",
    "    'Price': [110, 160, 210, 260],\n",
    "    'Stock': [50, 60, 70, 80],\n",
    "}\n",
    "df = pd.DataFrame(data)"
   ]
  },
  {
   "cell_type": "markdown",
   "id": "54e729b7",
   "metadata": {
    "hidden": true
   },
   "source": [
    "#### Columns"
   ]
  },
  {
   "cell_type": "markdown",
   "id": "b003802d",
   "metadata": {
    "hidden": true
   },
   "source": [
    "##### Adding"
   ]
  },
  {
   "cell_type": "markdown",
   "id": "320ac582",
   "metadata": {
    "hidden": true
   },
   "source": [
    "###### Internal product"
   ]
  },
  {
   "cell_type": "code",
   "execution_count": null,
   "id": "c35ef254",
   "metadata": {
    "hidden": true
   },
   "outputs": [],
   "source": [
    "# Adding a new column\n",
    "df['Price_Squared'] = df['Price'].apply(lambda x: x ** 2)\n",
    "print(df)"
   ]
  },
  {
   "cell_type": "code",
   "execution_count": null,
   "id": "12be7f79",
   "metadata": {
    "hidden": true
   },
   "outputs": [],
   "source": [
    "# Adding a new column\n",
    "df['Discounted_Price'] = df['Price'] * 0.9\n",
    "print(df)"
   ]
  },
  {
   "cell_type": "markdown",
   "id": "d514985b",
   "metadata": {
    "hidden": true
   },
   "source": [
    "###### from `list`"
   ]
  },
  {
   "cell_type": "markdown",
   "id": "c570323a",
   "metadata": {
    "hidden": true
   },
   "source": [
    "One can also add new columns to a `DataFrame` by directly assigning a `list` to the column label. The length of the list should match the number of rows in the `DataFrame`."
   ]
  },
  {
   "cell_type": "code",
   "execution_count": null,
   "id": "a672b321",
   "metadata": {
    "hidden": true
   },
   "outputs": [],
   "source": [
    "# Adding a new column 'Tax' using a list\n",
    "df['Tax'] = [10.5, 15.0, 19.5, 24.0]\n",
    "print(df)"
   ]
  },
  {
   "cell_type": "code",
   "execution_count": null,
   "id": "47599c38",
   "metadata": {
    "hidden": true
   },
   "outputs": [],
   "source": [
    "# Displaying the 'Tax' column\n",
    "print(df['Tax'])"
   ]
  },
  {
   "cell_type": "markdown",
   "id": "85b0c609",
   "metadata": {
    "hidden": true
   },
   "source": [
    "###### from `dataframe`"
   ]
  },
  {
   "cell_type": "markdown",
   "id": "91e301ff",
   "metadata": {
    "hidden": true
   },
   "source": [
    "One can also enlarge a `DataFrame` by adding a column from another `DataFrame`. It’s important to ensure that the indices match between the original `DataFrame` and the new column."
   ]
  },
  {
   "cell_type": "code",
   "execution_count": null,
   "id": "2c2d6d47",
   "metadata": {
    "hidden": true
   },
   "outputs": [],
   "source": [
    "# Adding a new column 'Supplier' based on another DataFrame\n",
    "df['Supplier'] = pd.DataFrame(['Supplier1', 'Supplier2', 'Supplier3', 'Supplier4'], \n",
    "                              index=[0, 1, 2, 3])\n",
    "print(df)"
   ]
  },
  {
   "cell_type": "markdown",
   "id": "59658f69",
   "metadata": {
    "hidden": true
   },
   "source": [
    "After enlarging a `DataFrame`, it’s also essential to check the data types of each column to ensure everything is in order."
   ]
  },
  {
   "cell_type": "code",
   "execution_count": null,
   "id": "876a6a38",
   "metadata": {
    "hidden": true
   },
   "outputs": [],
   "source": [
    "# Checking the data types of the DataFrame columns\n",
    "print(df.dtypes)"
   ]
  },
  {
   "cell_type": "markdown",
   "id": "36702376",
   "metadata": {
    "hidden": true
   },
   "source": [
    "##### Modifying"
   ]
  },
  {
   "cell_type": "code",
   "execution_count": null,
   "id": "d783baa3",
   "metadata": {
    "hidden": true
   },
   "outputs": [],
   "source": [
    "# Modifying an existing column\n",
    "df['Price'] = df['Price'] + 10\n",
    "print(df)"
   ]
  },
  {
   "cell_type": "markdown",
   "id": "3a967961",
   "metadata": {
    "hidden": true
   },
   "source": [
    "##### Deleting"
   ]
  },
  {
   "cell_type": "markdown",
   "id": "ed7ef8c6",
   "metadata": {
    "hidden": true
   },
   "source": [
    "Removing columns can be done using the `.drop()` method."
   ]
  },
  {
   "cell_type": "code",
   "execution_count": null,
   "id": "9aa6992e",
   "metadata": {
    "hidden": true
   },
   "outputs": [],
   "source": [
    "# Dropping the 'Price_Squared' column\n",
    "df = df.drop(columns=['Price_Squared'])\n",
    "print(df)"
   ]
  },
  {
   "cell_type": "markdown",
   "id": "a417ac86",
   "metadata": {
    "heading_collapsed": true,
    "hidden": true
   },
   "source": [
    "#### Rows"
   ]
  },
  {
   "cell_type": "markdown",
   "id": "261c51d2",
   "metadata": {
    "heading_collapsed": true,
    "hidden": true
   },
   "source": [
    "##### `append()`"
   ]
  },
  {
   "cell_type": "markdown",
   "id": "4b85f922",
   "metadata": {
    "hidden": true
   },
   "source": [
    "One can append new rows to the `DataFrame` using the `append()` method. "
   ]
  },
  {
   "cell_type": "code",
   "execution_count": null,
   "id": "8faa33c4",
   "metadata": {
    "hidden": true
   },
   "outputs": [],
   "source": [
    "# Appending a new row to the DataFrame\n",
    "df = df.append({'Product': 'E', 'Price': 300, 'Stock': 90, 'Price_Squared': 90000, \n",
    "                'Discounted_Price': 270.0, 'Tax': 30.0, 'Supplier': 'Supplier5'}, \n",
    "               ignore_index=True)\n",
    "print(df)"
   ]
  },
  {
   "cell_type": "markdown",
   "id": "e8963e58",
   "metadata": {
    "hidden": true
   },
   "source": [
    "However, note that `append()` is deprecated, and should be replaced using `pd.concat()` instead in future `pandas` versions."
   ]
  },
  {
   "cell_type": "markdown",
   "id": "c29d1bab",
   "metadata": {
    "heading_collapsed": true,
    "hidden": true
   },
   "source": [
    "##### `concat()`"
   ]
  },
  {
   "cell_type": "code",
   "execution_count": null,
   "id": "7c764d26",
   "metadata": {
    "hidden": true
   },
   "outputs": [],
   "source": [
    "# New row as a DataFrame\n",
    "new_row = pd.DataFrame({\n",
    "    'Product': ['E'],\n",
    "    'Price': [300],\n",
    "    'Stock': [90],\n",
    "    'Price_Squared': [90000],\n",
    "    'Discounted_Price': [270.0],\n",
    "    'Tax': [30.0],\n",
    "    'Supplier': ['Supplier5']\n",
    "})\n",
    "\n",
    "# Using pd.concat() to append the new row\n",
    "df = pd.concat([df, new_row], ignore_index=True)\n",
    "\n",
    "# Display the updated DataFrame\n",
    "print(df)"
   ]
  },
  {
   "cell_type": "markdown",
   "id": "549d9f99",
   "metadata": {
    "hidden": true
   },
   "source": [
    "More on `concat()` in section [6. Concatenation, Join, Merge](#6.-Concatenation,-Join,-Merge)"
   ]
  },
  {
   "cell_type": "markdown",
   "id": "7b074b05",
   "metadata": {
    "heading_collapsed": true,
    "hidden": true
   },
   "source": [
    "##### Indexing "
   ]
  },
  {
   "cell_type": "markdown",
   "id": "68a80781",
   "metadata": {
    "hidden": true
   },
   "source": [
    "When appending rows to a `DataFrame`, it’s important to pay attention to the indices. If not managed properly, one could end up with unexpected results."
   ]
  },
  {
   "cell_type": "markdown",
   "id": "a9a899d3",
   "metadata": {
    "heading_collapsed": true,
    "hidden": true
   },
   "source": [
    "###### with `concat()`"
   ]
  },
  {
   "cell_type": "markdown",
   "id": "cb7d7e16",
   "metadata": {
    "hidden": true
   },
   "source": [
    "When concatenating two or more `DataFrames`, the default behavior is to retain the original index of the DataFrames, which can lead to duplicate indices. \n",
    "\n",
    "Let’s concatenate a new DataFrame with the existing one."
   ]
  },
  {
   "cell_type": "code",
   "execution_count": null,
   "id": "86e12581",
   "metadata": {
    "hidden": true
   },
   "outputs": [],
   "source": [
    "# New DataFrame to concatenate\n",
    "df_new = pd.DataFrame({\n",
    "    'Product': ['F', 'G'],\n",
    "    'Price': [350, 400],\n",
    "    'Stock': [95, 100],\n",
    "    'Price_Squared': [122500, 160000],\n",
    "    'Discounted_Price': [315.0, 360.0],\n",
    "    'Tax': [35.0, 40.0],\n",
    "    'Supplier': ['Supplier6', 'Supplier7']\n",
    "})"
   ]
  },
  {
   "cell_type": "code",
   "execution_count": null,
   "id": "013a396f",
   "metadata": {
    "hidden": true
   },
   "outputs": [],
   "source": [
    "# Concatenating the two DataFrames without resetting the index\n",
    "df_concat = pd.concat([df, df_new])\n",
    "print(df_concat)"
   ]
  },
  {
   "cell_type": "markdown",
   "id": "bb24c827",
   "metadata": {
    "hidden": true
   },
   "source": [
    "Indices are duplicated (0 and 1 appear twice). This can lead to confusion or errors when referencing rows by index later on."
   ]
  },
  {
   "cell_type": "markdown",
   "id": "4147df59",
   "metadata": {
    "hidden": true
   },
   "source": [
    "To avoid duplicate indices, you can use the `ignore_index=True` parameter. This resets the index for the concatenated `DataFrame` and ensures a clean, continuous sequence."
   ]
  },
  {
   "cell_type": "code",
   "execution_count": null,
   "id": "5d6f03b1",
   "metadata": {
    "hidden": true
   },
   "outputs": [],
   "source": [
    "# Concatenating with index reset\n",
    "df_concat_reset = pd.concat([df, df_new], ignore_index=True)\n",
    "print(df_concat_reset)"
   ]
  },
  {
   "cell_type": "markdown",
   "id": "ee40f889",
   "metadata": {
    "heading_collapsed": true,
    "hidden": true
   },
   "source": [
    "###### with `append()`"
   ]
  },
  {
   "cell_type": "markdown",
   "id": "c534456f",
   "metadata": {
    "hidden": true
   },
   "source": [
    "Appending a new row to a `DataFrame` works similarly to concatenation. However, when appending, the new row will adopt the next available index unless you explicitly reset it."
   ]
  },
  {
   "cell_type": "code",
   "execution_count": null,
   "id": "fb526b46",
   "metadata": {
    "hidden": true
   },
   "outputs": [],
   "source": [
    "# Appending a single row with a new product\n",
    "df_appended = pd.concat([df, pd.DataFrame({\n",
    "    'Product': ['H'], \n",
    "    'Price': [450], \n",
    "    'Stock': [105], \n",
    "    'Price_Squared': [202500], \n",
    "    'Discounted_Price': [405.0], \n",
    "    'Tax': [45.0], \n",
    "    'Supplier': ['Supplier8']\n",
    "})], ignore_index=True)\n",
    "\n",
    "print(df_appended)"
   ]
  },
  {
   "cell_type": "markdown",
   "id": "9506cf90",
   "metadata": {
    "heading_collapsed": true,
    "hidden": true
   },
   "source": [
    "### 1.5 Handling missing data"
   ]
  },
  {
   "cell_type": "markdown",
   "id": "ab98c404",
   "metadata": {
    "hidden": true
   },
   "source": [
    "Missing data is common in real-world datasets, and `pandas` provides tools to handle them."
   ]
  },
  {
   "cell_type": "code",
   "execution_count": null,
   "id": "cb1a6a4c",
   "metadata": {
    "hidden": true
   },
   "outputs": [],
   "source": [
    "# Adding missing values (NaN) to some cells\n",
    "df.loc[1, 'Price'] = np.nan  # Missing price for product B\n",
    "df.loc[2, 'Discounted_Price'] = np.nan  # Missing discounted price for product C\n",
    "df.loc[3, 'Stock'] = np.nan  # Missing stock for product D"
   ]
  },
  {
   "cell_type": "markdown",
   "id": "42563c81",
   "metadata": {
    "heading_collapsed": true,
    "hidden": true
   },
   "source": [
    "#### `df.isna()`"
   ]
  },
  {
   "cell_type": "markdown",
   "id": "48968618",
   "metadata": {
    "hidden": true
   },
   "source": [
    "Detects missing values"
   ]
  },
  {
   "cell_type": "code",
   "execution_count": null,
   "id": "567abc55",
   "metadata": {
    "hidden": true
   },
   "outputs": [],
   "source": [
    "df.isna()"
   ]
  },
  {
   "cell_type": "markdown",
   "id": "d0177e8b",
   "metadata": {
    "heading_collapsed": true,
    "hidden": true
   },
   "source": [
    "#### `df.fillna(a)`"
   ]
  },
  {
   "cell_type": "markdown",
   "id": "a5a50959",
   "metadata": {
    "hidden": true
   },
   "source": [
    "Fils missing values with a default"
   ]
  },
  {
   "cell_type": "code",
   "execution_count": null,
   "id": "60513e4f",
   "metadata": {
    "hidden": true
   },
   "outputs": [],
   "source": [
    "df.fillna(0)"
   ]
  },
  {
   "cell_type": "markdown",
   "id": "c7a89f50",
   "metadata": {
    "heading_collapsed": true,
    "hidden": true
   },
   "source": [
    "#### `df.dropna()`"
   ]
  },
  {
   "cell_type": "markdown",
   "id": "6916637d",
   "metadata": {
    "hidden": true
   },
   "source": [
    "Drops rows with missing values"
   ]
  },
  {
   "cell_type": "code",
   "execution_count": null,
   "id": "a49cf633",
   "metadata": {
    "hidden": true
   },
   "outputs": [],
   "source": [
    "df.dropna()"
   ]
  },
  {
   "cell_type": "markdown",
   "id": "c135c73e",
   "metadata": {
    "heading_collapsed": true,
    "hidden": true
   },
   "source": [
    "#### Operations with missing data"
   ]
  },
  {
   "cell_type": "markdown",
   "id": "05f3ff53",
   "metadata": {
    "hidden": true
   },
   "source": [
    "Although there are now missing values, the majority of method calls will still work"
   ]
  },
  {
   "cell_type": "code",
   "execution_count": null,
   "id": "8600b748",
   "metadata": {
    "hidden": true
   },
   "outputs": [],
   "source": [
    "df[['Price', 'Stock']].mean()"
   ]
  },
  {
   "cell_type": "code",
   "execution_count": null,
   "id": "d89dee33",
   "metadata": {
    "hidden": true
   },
   "outputs": [],
   "source": [
    "df[['Price', 'Stock']].std()"
   ]
  },
  {
   "cell_type": "markdown",
   "id": "0edd6805",
   "metadata": {
    "hidden": true
   },
   "source": [
    "### 1.6 Sorting Data"
   ]
  },
  {
   "cell_type": "markdown",
   "id": "07d7f393",
   "metadata": {
    "hidden": true
   },
   "source": [
    "`DataFrame` can be sorted based on any column using the `.sort_values()` method."
   ]
  },
  {
   "cell_type": "code",
   "execution_count": null,
   "id": "a70fb101",
   "metadata": {
    "hidden": true
   },
   "outputs": [],
   "source": [
    "# Sorting by 'Price' in ascending order\n",
    "df_sorted = df.sort_values(by='Price')"
   ]
  },
  {
   "cell_type": "code",
   "execution_count": null,
   "id": "c4e01837",
   "metadata": {
    "hidden": true
   },
   "outputs": [],
   "source": [
    "print (df_sorted)"
   ]
  },
  {
   "cell_type": "code",
   "execution_count": null,
   "id": "1fd34b17",
   "metadata": {
    "hidden": true
   },
   "outputs": [],
   "source": [
    "# Sorting by multiple columns\n",
    "df_sorted = df.sort_values(by=['Stock', 'Price'], ascending=[False, True])"
   ]
  },
  {
   "cell_type": "code",
   "execution_count": null,
   "id": "2e2467e5",
   "metadata": {
    "hidden": true
   },
   "outputs": [],
   "source": [
    "print (df_sorted)"
   ]
  },
  {
   "cell_type": "markdown",
   "id": "2ba1af5f",
   "metadata": {
    "hidden": true
   },
   "source": [
    "### 1.7 Class integration"
   ]
  },
  {
   "cell_type": "markdown",
   "id": "6240e462",
   "metadata": {
    "hidden": true
   },
   "source": [
    "`Pandas` integrates the manipulation of objects from other classes such as `numpy` and `datetime` objects."
   ]
  },
  {
   "cell_type": "markdown",
   "id": "fc3a4767",
   "metadata": {
    "hidden": true
   },
   "source": [
    "#### `NumPy`"
   ]
  },
  {
   "cell_type": "markdown",
   "id": "cb9a6c7d",
   "metadata": {
    "hidden": true
   },
   "source": [
    "`DataFrames` naturally handle `ndarrays` objects from `NumPy`."
   ]
  },
  {
   "cell_type": "code",
   "execution_count": null,
   "id": "e9be72fa",
   "metadata": {
    "hidden": true
   },
   "outputs": [],
   "source": [
    "import numpy as np\n",
    "np.random.seed(100)\n",
    "a = np.random.standard_normal((9,4))\n",
    "a"
   ]
  },
  {
   "cell_type": "code",
   "execution_count": null,
   "id": "f2d71767",
   "metadata": {
    "hidden": true
   },
   "outputs": [],
   "source": [
    "df = pd.DataFrame(a)\n",
    "df.columns = ['No1', 'No2', 'No3', 'No4']\n",
    "df"
   ]
  },
  {
   "cell_type": "code",
   "execution_count": null,
   "id": "d11f3d38",
   "metadata": {
    "hidden": true
   },
   "outputs": [],
   "source": [
    "df['No2'].mean()"
   ]
  },
  {
   "cell_type": "markdown",
   "id": "54d76e14",
   "metadata": {
    "hidden": true
   },
   "source": [
    "#### `DateTime`"
   ]
  },
  {
   "cell_type": "markdown",
   "id": "ca253451",
   "metadata": {
    "hidden": true
   },
   "source": [
    "`DataFrames` naturally handle `date` objects from `DateTime`."
   ]
  },
  {
   "cell_type": "code",
   "execution_count": null,
   "id": "803dd445",
   "metadata": {
    "hidden": true
   },
   "outputs": [],
   "source": [
    "dates = pd.date_range('2019-1-1', periods = 9, freq = 'M')\n",
    "dates"
   ]
  },
  {
   "cell_type": "code",
   "execution_count": null,
   "id": "28df7f1a",
   "metadata": {
    "hidden": true
   },
   "outputs": [],
   "source": [
    "df.index = dates\n",
    "df"
   ]
  },
  {
   "cell_type": "code",
   "execution_count": null,
   "id": "048e59ad",
   "metadata": {
    "hidden": true,
    "scrolled": true
   },
   "outputs": [],
   "source": [
    "df.values"
   ]
  },
  {
   "cell_type": "markdown",
   "id": "0a7f00db",
   "metadata": {
    "heading_collapsed": true
   },
   "source": [
    "## 2. Basic Analytics"
   ]
  },
  {
   "cell_type": "markdown",
   "id": "1b7a2bc9",
   "metadata": {
    "hidden": true
   },
   "source": [
    "When working with data in `pandas`, the library provides several built-in methods that make data exploration and analysis efficient. \n",
    "\n",
    "These methods help summarize and describe data, making it easy to inspect and perform common operations without writing custom code."
   ]
  },
  {
   "cell_type": "markdown",
   "id": "89dbf66f",
   "metadata": {
    "hidden": true
   },
   "source": [
    "### 2.1 Inspection and summary"
   ]
  },
  {
   "cell_type": "markdown",
   "id": "a2b6fb6b",
   "metadata": {
    "hidden": true
   },
   "source": [
    "#### `df.info()`"
   ]
  },
  {
   "cell_type": "markdown",
   "id": "c000e21b",
   "metadata": {
    "hidden": true
   },
   "source": [
    "Provides a concise summary of the `DataFrame`, including the number of entries, column names, data types, and memory usage. "
   ]
  },
  {
   "cell_type": "code",
   "execution_count": null,
   "id": "8bf81dcc",
   "metadata": {
    "hidden": true
   },
   "outputs": [],
   "source": [
    "df.info()"
   ]
  },
  {
   "cell_type": "markdown",
   "id": "31f09933",
   "metadata": {
    "hidden": true
   },
   "source": [
    "#### `df.head()`"
   ]
  },
  {
   "cell_type": "markdown",
   "id": "1feacca5",
   "metadata": {
    "hidden": true
   },
   "source": [
    "Returns the first few rows of the `DataFrame` (by default, the first 5 rows)."
   ]
  },
  {
   "cell_type": "code",
   "execution_count": null,
   "id": "3746dbbd",
   "metadata": {
    "hidden": true
   },
   "outputs": [],
   "source": [
    "df.head()  # By default, displays the first 5 rows"
   ]
  },
  {
   "cell_type": "code",
   "execution_count": null,
   "id": "550a6b49",
   "metadata": {
    "hidden": true
   },
   "outputs": [],
   "source": [
    "df.head(10)  # Displays the first 10 rows"
   ]
  },
  {
   "cell_type": "markdown",
   "id": "7a8acfb1",
   "metadata": {
    "hidden": true
   },
   "source": [
    "#### `df.tail()`"
   ]
  },
  {
   "cell_type": "markdown",
   "id": "334b4f12",
   "metadata": {
    "hidden": true
   },
   "source": [
    "Similar to `df.head()`, but returns the last few rows of the DataFrame."
   ]
  },
  {
   "cell_type": "code",
   "execution_count": null,
   "id": "b7d15537",
   "metadata": {
    "hidden": true
   },
   "outputs": [],
   "source": [
    "df.tail()  # By default, displays the last 5 rows"
   ]
  },
  {
   "cell_type": "markdown",
   "id": "3828c0e7",
   "metadata": {
    "hidden": true
   },
   "source": [
    "#### `df.describe()`"
   ]
  },
  {
   "cell_type": "markdown",
   "id": "3ab205a2",
   "metadata": {
    "hidden": true
   },
   "source": [
    "Generates descriptive statistics for numerical columns, including count, mean, standard deviation, minimum, and maximum values, as well as the 25th, 50th, and 75th percentiles."
   ]
  },
  {
   "cell_type": "code",
   "execution_count": null,
   "id": "a7e41eba",
   "metadata": {
    "hidden": true
   },
   "outputs": [],
   "source": [
    "df.describe()"
   ]
  },
  {
   "cell_type": "markdown",
   "id": "12facd0e",
   "metadata": {
    "hidden": true
   },
   "source": [
    "### 2.2 Statistics and operations"
   ]
  },
  {
   "cell_type": "markdown",
   "id": "35563868",
   "metadata": {
    "hidden": true
   },
   "source": [
    "#### `df.sum()` "
   ]
  },
  {
   "cell_type": "markdown",
   "id": "56550ccb",
   "metadata": {
    "hidden": true
   },
   "source": [
    "Computes the sum of each column in the DataFrame."
   ]
  },
  {
   "cell_type": "markdown",
   "id": "c3c2b278",
   "metadata": {
    "hidden": true
   },
   "source": [
    "df.sum()"
   ]
  },
  {
   "cell_type": "markdown",
   "id": "f32a1097",
   "metadata": {
    "hidden": true
   },
   "source": [
    "#### `df.mean()`"
   ]
  },
  {
   "cell_type": "markdown",
   "id": "1272ce45",
   "metadata": {
    "hidden": true
   },
   "source": [
    "Returns the mean of each column (or row, if specified) in the DataFrame."
   ]
  },
  {
   "cell_type": "code",
   "execution_count": null,
   "id": "d5c49502",
   "metadata": {
    "hidden": true
   },
   "outputs": [],
   "source": [
    "df.mean()  # By default, computes the mean of each column"
   ]
  },
  {
   "cell_type": "code",
   "execution_count": null,
   "id": "be665bad",
   "metadata": {
    "hidden": true
   },
   "outputs": [],
   "source": [
    "df.mean(axis=0)  # Mean across columns (default behavior)"
   ]
  },
  {
   "cell_type": "code",
   "execution_count": null,
   "id": "cdf72be5",
   "metadata": {
    "hidden": true
   },
   "outputs": [],
   "source": [
    "df.mean(axis=1)  # Mean across rows"
   ]
  },
  {
   "cell_type": "markdown",
   "id": "21ccb588",
   "metadata": {
    "hidden": true
   },
   "source": [
    "#### `df.cumsum()`"
   ]
  },
  {
   "cell_type": "markdown",
   "id": "fc3c1dfd",
   "metadata": {
    "hidden": true
   },
   "source": [
    "Returns the cumulative sum of the values in each column."
   ]
  },
  {
   "cell_type": "code",
   "execution_count": null,
   "id": "45658ad3",
   "metadata": {
    "hidden": true
   },
   "outputs": [],
   "source": [
    "df.cumsum()"
   ]
  },
  {
   "cell_type": "markdown",
   "id": "cbff5d25",
   "metadata": {
    "hidden": true
   },
   "source": [
    "#### `df.apply()`"
   ]
  },
  {
   "cell_type": "markdown",
   "id": "ce47fe12",
   "metadata": {
    "hidden": true
   },
   "source": [
    "Custom functions can be applied to columns or rows using the `.apply()` method."
   ]
  },
  {
   "cell_type": "code",
   "execution_count": null,
   "id": "0cd840ad",
   "metadata": {
    "hidden": true
   },
   "outputs": [],
   "source": [
    "# Applying a lambda function to square the values in 'Price' column\n",
    "df['Price'].apply(lambda x: x ** 2)"
   ]
  },
  {
   "cell_type": "markdown",
   "id": "b8ca8368",
   "metadata": {
    "heading_collapsed": true,
    "hidden": true
   },
   "source": [
    "### 2.3 Integrated `NumPy` Functions"
   ]
  },
  {
   "cell_type": "markdown",
   "id": "73e36cf3",
   "metadata": {
    "hidden": true
   },
   "source": [
    "`Pandas` integrates with `NumPy`, allowing the use of `NumPy` functions directly on `DataFrames`."
   ]
  },
  {
   "cell_type": "markdown",
   "id": "0cd40aca",
   "metadata": {
    "hidden": true
   },
   "source": [
    "#### `np.mean(df)`"
   ]
  },
  {
   "cell_type": "markdown",
   "id": "cc5a7efb",
   "metadata": {
    "hidden": true
   },
   "source": [
    "Computes the mean of the `DataFrame` using `NumPy`."
   ]
  },
  {
   "cell_type": "code",
   "execution_count": null,
   "id": "9f87146b",
   "metadata": {
    "hidden": true
   },
   "outputs": [],
   "source": [
    "np.mean(df)"
   ]
  },
  {
   "cell_type": "markdown",
   "id": "8c73069a",
   "metadata": {
    "hidden": true
   },
   "source": [
    "#### `np.log(df)`"
   ]
  },
  {
   "cell_type": "markdown",
   "id": "4d9a477e",
   "metadata": {
    "hidden": true
   },
   "source": [
    "Computes the natural logarithm of each element in the `DataFrame`."
   ]
  },
  {
   "cell_type": "markdown",
   "id": "222f58c2",
   "metadata": {
    "hidden": true
   },
   "source": [
    "np.log(df)"
   ]
  },
  {
   "cell_type": "markdown",
   "id": "78aa1772",
   "metadata": {
    "hidden": true
   },
   "source": [
    "#### `np.sqrt(abs(df))`"
   ]
  },
  {
   "cell_type": "markdown",
   "id": "83282487",
   "metadata": {
    "hidden": true
   },
   "source": [
    "Computes the square root of the absolute values in the `DataFrame`."
   ]
  },
  {
   "cell_type": "markdown",
   "id": "6d96d3bb",
   "metadata": {
    "hidden": true
   },
   "source": [
    "np.sqrt(abs(df))"
   ]
  },
  {
   "cell_type": "markdown",
   "id": "07ea153d",
   "metadata": {
    "hidden": true
   },
   "source": [
    "#### `np.sqrt(abs(df)).sum()`"
   ]
  },
  {
   "cell_type": "markdown",
   "id": "8b53f934",
   "metadata": {
    "hidden": true
   },
   "source": [
    "Computes the square root of the absolute values and then sums each column in the `DataFrame`."
   ]
  },
  {
   "cell_type": "code",
   "execution_count": null,
   "id": "1b2689a4",
   "metadata": {
    "hidden": true
   },
   "outputs": [],
   "source": [
    "np.sqrt(abs(df)).sum()"
   ]
  },
  {
   "cell_type": "markdown",
   "id": "70c8562b",
   "metadata": {
    "hidden": true
   },
   "source": [
    "### 2.4 Basic Visualization"
   ]
  },
  {
   "cell_type": "markdown",
   "id": "80aaefde",
   "metadata": {
    "hidden": true
   },
   "source": [
    "Pandas also integrates with visualization libraries like `matplotlib` to enable quick and easy visualizations of data. Below are some basic methods to visualize data in a `DataFrame`."
   ]
  },
  {
   "cell_type": "markdown",
   "id": "6d9661c3",
   "metadata": {
    "hidden": true
   },
   "source": [
    "#### Setting up `Matplotlib` for Visualization"
   ]
  },
  {
   "cell_type": "code",
   "execution_count": 16,
   "id": "e86272b9",
   "metadata": {
    "hidden": true
   },
   "outputs": [],
   "source": [
    "from pylab import plt, mpl\n",
    "\n",
    "# Setting the style to 'seaborn' for better aesthetics\n",
    "plt.style.use('seaborn')\n",
    "\n",
    "# Setting the default font to 'serif' for a clean look\n",
    "mpl.rcParams['font.family'] = 'serif'\n",
    "\n",
    "# Ensure plots are displayed inline in Jupyter notebooks\n",
    "%matplotlib inline"
   ]
  },
  {
   "cell_type": "markdown",
   "id": "b5bfeff6",
   "metadata": {
    "hidden": true
   },
   "source": [
    "#### Examples"
   ]
  },
  {
   "cell_type": "code",
   "execution_count": 17,
   "id": "48d30840",
   "metadata": {
    "hidden": true
   },
   "outputs": [
    {
     "data": {
      "text/plain": [
       "<AxesSubplot:>"
      ]
     },
     "execution_count": 17,
     "metadata": {},
     "output_type": "execute_result"
    },
    {
     "data": {
      "image/png": "[encoded data removed]",
      "text/plain": [
       "<Figure size 720x432 with 1 Axes>"
      ]
     },
     "metadata": {
      "needs_background": "light"
     },
     "output_type": "display_data"
    }
   ],
   "source": [
    "df.cumsum().plot(lw=2.0, figsize=(10, 6))  # Line width set to 2.0 and figure size to 10x6"
   ]
  },
  {
   "cell_type": "code",
   "execution_count": 18,
   "id": "ea0d4cf1",
   "metadata": {
    "hidden": true
   },
   "outputs": [
    {
     "data": {
      "text/plain": [
       "<AxesSubplot:>"
      ]
     },
     "execution_count": 18,
     "metadata": {},
     "output_type": "execute_result"
    },
    {
     "data": {
      "image/png": "[encoded data removed]",
      "text/plain": [
       "<Figure size 720x432 with 1 Axes>"
      ]
     },
     "metadata": {
      "needs_background": "light"
     },
     "output_type": "display_data"
    }
   ],
   "source": [
    "df.plot(kind='bar', figsize=(10, 6))  # Generates a bar plot with a figure size of 10x6"
   ]
  },
  {
   "cell_type": "markdown",
   "id": "6e5676b0",
   "metadata": {},
   "source": [
    "## 3. The `Series` Class"
   ]
  },
  {
   "cell_type": "markdown",
   "id": "809cb939",
   "metadata": {},
   "source": [
    "The `Series` class in `pandas` is a **one-dimensional labeled array** capable of holding any data type. \n",
    "\n",
    "A `Series` is essentially a single column of data, making it a simpler, more specialized version of the `DataFrame` class. It shares many characteristics and methods with DataFrame and adds more specifics techniques."
   ]
  },
  {
   "cell_type": "markdown",
   "id": "d5f62b3a",
   "metadata": {},
   "source": [
    "### 3.1 Creating a `Series`"
   ]
  },
  {
   "cell_type": "markdown",
   "id": "8c80d33b",
   "metadata": {},
   "source": [
    "A `Series` object can be created directly or obtained by selecting a single column from a `DataFrame`."
   ]
  },
  {
   "cell_type": "markdown",
   "id": "129dd26f",
   "metadata": {
    "heading_collapsed": true
   },
   "source": [
    "#### From `list`"
   ]
  },
  {
   "cell_type": "code",
   "execution_count": null,
   "id": "07a55685",
   "metadata": {
    "hidden": true
   },
   "outputs": [],
   "source": [
    "# Creating a Series with evenly spaced numbers between 0 and 15\n",
    "s = pd.Series(np.linspace(0, 15, 7), name='series')\n",
    "print(s)"
   ]
  },
  {
   "cell_type": "code",
   "execution_count": null,
   "id": "c38836c6",
   "metadata": {
    "hidden": true
   },
   "outputs": [],
   "source": [
    "# Checking the type of the Series\n",
    "type(s)"
   ]
  },
  {
   "cell_type": "markdown",
   "id": "d8714e7d",
   "metadata": {
    "heading_collapsed": true
   },
   "source": [
    "#### From `DataFrame`"
   ]
  },
  {
   "cell_type": "markdown",
   "id": "b2d009ac",
   "metadata": {
    "hidden": true
   },
   "source": [
    "Selecting a single column from a `DataFrame` result in a `Series`."
   ]
  },
  {
   "cell_type": "code",
   "execution_count": 20,
   "id": "f900d989",
   "metadata": {
    "hidden": true
   },
   "outputs": [
    {
     "ename": "KeyError",
     "evalue": "'No1'",
     "output_type": "error",
     "traceback": [
      "\u001b[0;31m---------------------------------------------------------------------------\u001b[0m",
      "\u001b[0;31mKeyError\u001b[0m                                  Traceback (most recent call last)",
      "File \u001b[0;32m~/opt/anaconda3/lib/python3.9/site-packages/pandas/core/indexes/base.py:3621\u001b[0m, in \u001b[0;36mIndex.get_loc\u001b[0;34m(self, key, method, tolerance)\u001b[0m\n\u001b[1;32m   3620\u001b[0m \u001b[38;5;28;01mtry\u001b[39;00m:\n\u001b[0;32m-> 3621\u001b[0m     \u001b[38;5;28;01mreturn\u001b[39;00m \u001b[38;5;28;43mself\u001b[39;49m\u001b[38;5;241;43m.\u001b[39;49m\u001b[43m_engine\u001b[49m\u001b[38;5;241;43m.\u001b[39;49m\u001b[43mget_loc\u001b[49m\u001b[43m(\u001b[49m\u001b[43mcasted_key\u001b[49m\u001b[43m)\u001b[49m\n\u001b[1;32m   3622\u001b[0m \u001b[38;5;28;01mexcept\u001b[39;00m \u001b[38;5;167;01mKeyError\u001b[39;00m \u001b[38;5;28;01mas\u001b[39;00m err:\n",
      "File \u001b[0;32m~/opt/anaconda3/lib/python3.9/site-packages/pandas/_libs/index.pyx:136\u001b[0m, in \u001b[0;36mpandas._libs.index.IndexEngine.get_loc\u001b[0;34m()\u001b[0m\n",
      "File \u001b[0;32m~/opt/anaconda3/lib/python3.9/site-packages/pandas/_libs/index.pyx:163\u001b[0m, in \u001b[0;36mpandas._libs.index.IndexEngine.get_loc\u001b[0;34m()\u001b[0m\n",
      "File \u001b[0;32mpandas/_libs/hashtable_class_helper.pxi:5198\u001b[0m, in \u001b[0;36mpandas._libs.hashtable.PyObjectHashTable.get_item\u001b[0;34m()\u001b[0m\n",
      "File \u001b[0;32mpandas/_libs/hashtable_class_helper.pxi:5206\u001b[0m, in \u001b[0;36mpandas._libs.hashtable.PyObjectHashTable.get_item\u001b[0;34m()\u001b[0m\n",
      "\u001b[0;31mKeyError\u001b[0m: 'No1'",
      "\nThe above exception was the direct cause of the following exception:\n",
      "\u001b[0;31mKeyError\u001b[0m                                  Traceback (most recent call last)",
      "Input \u001b[0;32mIn [20]\u001b[0m, in \u001b[0;36m<cell line: 2>\u001b[0;34m()\u001b[0m\n\u001b[1;32m      1\u001b[0m \u001b[38;5;66;03m# Selecting a column from the DataFrame as a Series\u001b[39;00m\n\u001b[0;32m----> 2\u001b[0m s \u001b[38;5;241m=\u001b[39m \u001b[43mdf\u001b[49m\u001b[43m[\u001b[49m\u001b[38;5;124;43m'\u001b[39;49m\u001b[38;5;124;43mNo1\u001b[39;49m\u001b[38;5;124;43m'\u001b[39;49m\u001b[43m]\u001b[49m\n\u001b[1;32m      3\u001b[0m \u001b[38;5;28mprint\u001b[39m(s)\n",
      "File \u001b[0;32m~/opt/anaconda3/lib/python3.9/site-packages/pandas/core/frame.py:3505\u001b[0m, in \u001b[0;36mDataFrame.__getitem__\u001b[0;34m(self, key)\u001b[0m\n\u001b[1;32m   3503\u001b[0m \u001b[38;5;28;01mif\u001b[39;00m \u001b[38;5;28mself\u001b[39m\u001b[38;5;241m.\u001b[39mcolumns\u001b[38;5;241m.\u001b[39mnlevels \u001b[38;5;241m>\u001b[39m \u001b[38;5;241m1\u001b[39m:\n\u001b[1;32m   3504\u001b[0m     \u001b[38;5;28;01mreturn\u001b[39;00m \u001b[38;5;28mself\u001b[39m\u001b[38;5;241m.\u001b[39m_getitem_multilevel(key)\n\u001b[0;32m-> 3505\u001b[0m indexer \u001b[38;5;241m=\u001b[39m \u001b[38;5;28;43mself\u001b[39;49m\u001b[38;5;241;43m.\u001b[39;49m\u001b[43mcolumns\u001b[49m\u001b[38;5;241;43m.\u001b[39;49m\u001b[43mget_loc\u001b[49m\u001b[43m(\u001b[49m\u001b[43mkey\u001b[49m\u001b[43m)\u001b[49m\n\u001b[1;32m   3506\u001b[0m \u001b[38;5;28;01mif\u001b[39;00m is_integer(indexer):\n\u001b[1;32m   3507\u001b[0m     indexer \u001b[38;5;241m=\u001b[39m [indexer]\n",
      "File \u001b[0;32m~/opt/anaconda3/lib/python3.9/site-packages/pandas/core/indexes/base.py:3623\u001b[0m, in \u001b[0;36mIndex.get_loc\u001b[0;34m(self, key, method, tolerance)\u001b[0m\n\u001b[1;32m   3621\u001b[0m     \u001b[38;5;28;01mreturn\u001b[39;00m \u001b[38;5;28mself\u001b[39m\u001b[38;5;241m.\u001b[39m_engine\u001b[38;5;241m.\u001b[39mget_loc(casted_key)\n\u001b[1;32m   3622\u001b[0m \u001b[38;5;28;01mexcept\u001b[39;00m \u001b[38;5;167;01mKeyError\u001b[39;00m \u001b[38;5;28;01mas\u001b[39;00m err:\n\u001b[0;32m-> 3623\u001b[0m     \u001b[38;5;28;01mraise\u001b[39;00m \u001b[38;5;167;01mKeyError\u001b[39;00m(key) \u001b[38;5;28;01mfrom\u001b[39;00m \u001b[38;5;21;01merr\u001b[39;00m\n\u001b[1;32m   3624\u001b[0m \u001b[38;5;28;01mexcept\u001b[39;00m \u001b[38;5;167;01mTypeError\u001b[39;00m:\n\u001b[1;32m   3625\u001b[0m     \u001b[38;5;66;03m# If we have a listlike key, _check_indexing_error will raise\u001b[39;00m\n\u001b[1;32m   3626\u001b[0m     \u001b[38;5;66;03m#  InvalidIndexError. Otherwise we fall through and re-raise\u001b[39;00m\n\u001b[1;32m   3627\u001b[0m     \u001b[38;5;66;03m#  the TypeError.\u001b[39;00m\n\u001b[1;32m   3628\u001b[0m     \u001b[38;5;28mself\u001b[39m\u001b[38;5;241m.\u001b[39m_check_indexing_error(key)\n",
      "\u001b[0;31mKeyError\u001b[0m: 'No1'"
     ]
    }
   ],
   "source": [
    "# Selecting a column from the DataFrame as a Series\n",
    "s = df['No1']\n",
    "print(s)"
   ]
  },
  {
   "cell_type": "code",
   "execution_count": null,
   "id": "6a179c41",
   "metadata": {
    "hidden": true
   },
   "outputs": [],
   "source": [
    "# Checking the type\n",
    "type(s)"
   ]
  },
  {
   "cell_type": "markdown",
   "id": "b95b334b",
   "metadata": {
    "heading_collapsed": true
   },
   "source": [
    "### 3.2 Methods for `Series`"
   ]
  },
  {
   "cell_type": "markdown",
   "id": "ecb04714",
   "metadata": {
    "heading_collapsed": true,
    "hidden": true
   },
   "source": [
    "#### Inherited methods"
   ]
  },
  {
   "cell_type": "markdown",
   "id": "a219d8c0",
   "metadata": {
    "hidden": true
   },
   "source": [
    "Most of the methods available for `DataFrame` are also available for `Series`, such as `mean()`, or `plot()`."
   ]
  },
  {
   "cell_type": "code",
   "execution_count": null,
   "id": "fb0671b9",
   "metadata": {
    "hidden": true
   },
   "outputs": [],
   "source": [
    "# Calculating the mean of the Series\n",
    "s.mean()"
   ]
  },
  {
   "cell_type": "code",
   "execution_count": 19,
   "id": "e680eab6",
   "metadata": {
    "hidden": true
   },
   "outputs": [
    {
     "ename": "NameError",
     "evalue": "name 's' is not defined",
     "output_type": "error",
     "traceback": [
      "\u001b[0;31m---------------------------------------------------------------------------\u001b[0m",
      "\u001b[0;31mNameError\u001b[0m                                 Traceback (most recent call last)",
      "Input \u001b[0;32mIn [19]\u001b[0m, in \u001b[0;36m<cell line: 2>\u001b[0;34m()\u001b[0m\n\u001b[1;32m      1\u001b[0m \u001b[38;5;66;03m# Plotting the Series\u001b[39;00m\n\u001b[0;32m----> 2\u001b[0m \u001b[43ms\u001b[49m\u001b[38;5;241m.\u001b[39mplot(lw\u001b[38;5;241m=\u001b[39m\u001b[38;5;241m2.0\u001b[39m, figsize\u001b[38;5;241m=\u001b[39m(\u001b[38;5;241m10\u001b[39m, \u001b[38;5;241m6\u001b[39m))\n",
      "\u001b[0;31mNameError\u001b[0m: name 's' is not defined"
     ]
    }
   ],
   "source": [
    "# Plotting the Series\n",
    "s.plot(lw=2.0, figsize=(10, 6))  # Line width set to 2.0 and figure size to 10x6"
   ]
  },
  {
   "cell_type": "markdown",
   "id": "932fc1af",
   "metadata": {
    "heading_collapsed": true,
    "hidden": true
   },
   "source": [
    "#### `Series` specific methods"
   ]
  },
  {
   "cell_type": "markdown",
   "id": "71fd08e0",
   "metadata": {
    "hidden": true
   },
   "source": [
    "There are several methods that are specific to `Series` objects. These methods are designed to leverage the ***one-dimensional** nature of a `Series` and simplify certain operations that are less intuitive or applicable in a two-dimensional `DataFrame`."
   ]
  },
  {
   "cell_type": "markdown",
   "id": "f5acc72b",
   "metadata": {
    "heading_collapsed": true,
    "hidden": true
   },
   "source": [
    "##### `Series.value_counts()`"
   ]
  },
  {
   "cell_type": "markdown",
   "id": "70bfbb4d",
   "metadata": {
    "hidden": true
   },
   "source": [
    "Returns the count of unique values in a `Series`. \n",
    "- Useful when working with categorical data or needing to understand the frequency of certain values."
   ]
  },
  {
   "cell_type": "code",
   "execution_count": null,
   "id": "31c89fe7",
   "metadata": {
    "hidden": true
   },
   "outputs": [],
   "source": [
    "# Example of value_counts\n",
    "s = pd.Series(['A', 'B', 'A', 'C', 'B', 'A'])\n",
    "s.value_counts()"
   ]
  },
  {
   "cell_type": "markdown",
   "id": "f782fd3c",
   "metadata": {
    "heading_collapsed": true,
    "hidden": true
   },
   "source": [
    "##### `Series.unique()`"
   ]
  },
  {
   "cell_type": "markdown",
   "id": "3e43758f",
   "metadata": {
    "hidden": true
   },
   "source": [
    "Returns an array of the unique values in a `Series`. It helps identify distinct values in a column of data."
   ]
  },
  {
   "cell_type": "code",
   "execution_count": null,
   "id": "b5a07abc",
   "metadata": {
    "hidden": true
   },
   "outputs": [],
   "source": [
    "# Example of unique\n",
    "s = pd.Series([1, 2, 2, 3, 4, 4, 4])\n",
    "s.unique()"
   ]
  },
  {
   "cell_type": "markdown",
   "id": "3a84859a",
   "metadata": {
    "heading_collapsed": true,
    "hidden": true
   },
   "source": [
    "##### `Series.nunique()`"
   ]
  },
  {
   "cell_type": "markdown",
   "id": "cf4228b5",
   "metadata": {
    "hidden": true
   },
   "source": [
    "Returns the number of unique values in a `Series`. \n",
    "- Similar to `value_counts()` but only provides the total number of unique elements, not their frequency."
   ]
  },
  {
   "cell_type": "code",
   "execution_count": null,
   "id": "f7cc82d2",
   "metadata": {
    "hidden": true
   },
   "outputs": [],
   "source": [
    "# Example of nunique\n",
    "s = pd.Series([1, 2, 2, 3, 4, 4, 4])\n",
    "s.nunique()"
   ]
  },
  {
   "cell_type": "markdown",
   "id": "87a0209e",
   "metadata": {
    "heading_collapsed": true,
    "hidden": true
   },
   "source": [
    "##### `Series.str` accessor"
   ]
  },
  {
   "cell_type": "markdown",
   "id": "71bc77b4",
   "metadata": {
    "hidden": true
   },
   "source": [
    "When working with a `Series` of `strings`, the `.str` accessor performs string operations. \n",
    "- This feature is unique to Series and makes it easy to manipulate text data in bulk.\n",
    "- These include `.str.upper()`, `.str.contains()`, `.str.replace()`, and `.str.len()`"
   ]
  },
  {
   "cell_type": "code",
   "execution_count": null,
   "id": "2ae001ad",
   "metadata": {
    "hidden": true
   },
   "outputs": [],
   "source": [
    "# Sample Series of strings\n",
    "s = pd.Series(['apple', 'banana', 'pear'])"
   ]
  },
  {
   "cell_type": "code",
   "execution_count": null,
   "id": "98fcd45d",
   "metadata": {
    "hidden": true
   },
   "outputs": [],
   "source": [
    "# Convert all strings to uppercase\n",
    "s_upper = s.str.upper()\n",
    "print(s_upper)"
   ]
  },
  {
   "cell_type": "code",
   "execution_count": null,
   "id": "90a24b9f",
   "metadata": {
    "hidden": true
   },
   "outputs": [],
   "source": [
    "# Check if each string contains the letter 'a'\n",
    "s_contains = s.str.contains('a')\n",
    "print(s_contains)"
   ]
  },
  {
   "cell_type": "code",
   "execution_count": null,
   "id": "71f23320",
   "metadata": {
    "hidden": true
   },
   "outputs": [],
   "source": [
    "# Replace 'a' with 'o' in each string\n",
    "s_replace = s.str.replace('a', 'o')\n",
    "print(s_replace)"
   ]
  },
  {
   "cell_type": "code",
   "execution_count": null,
   "id": "dae37641",
   "metadata": {
    "hidden": true
   },
   "outputs": [],
   "source": [
    "# Get the length of each string\n",
    "s_len = s.str.len()\n",
    "print(s_len)"
   ]
  },
  {
   "cell_type": "markdown",
   "id": "4fb8565b",
   "metadata": {
    "heading_collapsed": true,
    "hidden": true
   },
   "source": [
    "##### `Series.dt` accessor"
   ]
  },
  {
   "cell_type": "markdown",
   "id": "ba571a46",
   "metadata": {
    "hidden": true
   },
   "source": [
    "For `Series` with `datetime` data, the `.dt` accessor performs datetime-specific operations. \n",
    "- This makes it easy to extract year, month, day, or other components from a datetime Series.\n",
    "- These include `dt.day`, `.dt.year`, `.dt.month`, and `.dt.weekday`."
   ]
  },
  {
   "cell_type": "code",
   "execution_count": null,
   "id": "ea26e851",
   "metadata": {
    "hidden": true
   },
   "outputs": [],
   "source": [
    "# Example of dt accessor\n",
    "s = pd.Series(pd.date_range('2023-01-01', periods=3, freq='D'))\n",
    "s.dt.day  # Extract the day from the datetime"
   ]
  },
  {
   "cell_type": "markdown",
   "id": "4f39f0ae",
   "metadata": {
    "heading_collapsed": true,
    "hidden": true
   },
   "source": [
    "##### `Series.isin()`"
   ]
  },
  {
   "cell_type": "markdown",
   "id": "bb1f1bc5",
   "metadata": {
    "hidden": true
   },
   "source": [
    "Checks whether each element of the `Series` is in a given list of values and returns a boolean `Series`."
   ]
  },
  {
   "cell_type": "code",
   "execution_count": null,
   "id": "9db744f0",
   "metadata": {
    "hidden": true
   },
   "outputs": [],
   "source": [
    "# Example of isin\n",
    "s = pd.Series(['A', 'B', 'C', 'D'])\n",
    "s.isin(['B', 'C', 'E'])"
   ]
  },
  {
   "cell_type": "markdown",
   "id": "a97f744b",
   "metadata": {
    "heading_collapsed": true,
    "hidden": true
   },
   "source": [
    "##### `Series.idxmax()` and `Series.idxmin()`"
   ]
  },
  {
   "cell_type": "markdown",
   "id": "7c6b2574",
   "metadata": {
    "hidden": true
   },
   "source": [
    "Return the index of the maximum or minimum value in the `Series`, respectively. "
   ]
  },
  {
   "cell_type": "code",
   "execution_count": null,
   "id": "4dd4b731",
   "metadata": {
    "hidden": true
   },
   "outputs": [],
   "source": [
    "# Example of idxmax and idxmin\n",
    "s = pd.Series([1, 5, 3, 9, 2])\n",
    "s.idxmax()  # Index of the maximum value\n",
    "s.idxmin()  # Index of the minimum value"
   ]
  },
  {
   "cell_type": "markdown",
   "id": "c351155c",
   "metadata": {
    "heading_collapsed": true
   },
   "source": [
    "## 4. `GroupBy` Operations"
   ]
  },
  {
   "cell_type": "markdown",
   "id": "7953af88",
   "metadata": {
    "hidden": true
   },
   "source": [
    "`Pandas` provides powerful and flexible **grouping** capabilities that function similarly to SQL groupings and pivot tables in Excel. \n",
    "\n",
    "Grouping is often used when performing **aggregations** or **applying specific operations** to subsets of data."
   ]
  },
  {
   "cell_type": "markdown",
   "id": "728ed51c",
   "metadata": {
    "heading_collapsed": true,
    "hidden": true
   },
   "source": [
    "###### Initialization"
   ]
  },
  {
   "cell_type": "code",
   "execution_count": 21,
   "id": "33553edc",
   "metadata": {
    "hidden": true
   },
   "outputs": [
    {
     "data": {
      "text/html": [
       "<div>\n",
       "<style scoped>\n",
       "    .dataframe tbody tr th:only-of-type {\n",
       "        vertical-align: middle;\n",
       "    }\n",
       "\n",
       "    .dataframe tbody tr th {\n",
       "        vertical-align: top;\n",
       "    }\n",
       "\n",
       "    .dataframe thead th {\n",
       "        text-align: right;\n",
       "    }\n",
       "</style>\n",
       "<table border=\"1\" class=\"dataframe\">\n",
       "  <thead>\n",
       "    <tr style=\"text-align: right;\">\n",
       "      <th></th>\n",
       "      <th>Stock</th>\n",
       "      <th>Quarter</th>\n",
       "      <th>Price</th>\n",
       "      <th>Volume</th>\n",
       "      <th>Market_Cap</th>\n",
       "    </tr>\n",
       "  </thead>\n",
       "  <tbody>\n",
       "    <tr>\n",
       "      <th>0</th>\n",
       "      <td>AAPL</td>\n",
       "      <td>Q1</td>\n",
       "      <td>150.25</td>\n",
       "      <td>1000</td>\n",
       "      <td>2.410000e+12</td>\n",
       "    </tr>\n",
       "    <tr>\n",
       "      <th>1</th>\n",
       "      <td>AAPL</td>\n",
       "      <td>Q1</td>\n",
       "      <td>153.50</td>\n",
       "      <td>1100</td>\n",
       "      <td>2.450000e+12</td>\n",
       "    </tr>\n",
       "    <tr>\n",
       "      <th>2</th>\n",
       "      <td>GOOGL</td>\n",
       "      <td>Q1</td>\n",
       "      <td>2800.50</td>\n",
       "      <td>1500</td>\n",
       "      <td>1.780000e+12</td>\n",
       "    </tr>\n",
       "    <tr>\n",
       "      <th>3</th>\n",
       "      <td>GOOGL</td>\n",
       "      <td>Q2</td>\n",
       "      <td>2830.75</td>\n",
       "      <td>1600</td>\n",
       "      <td>1.820000e+12</td>\n",
       "    </tr>\n",
       "    <tr>\n",
       "      <th>4</th>\n",
       "      <td>AMZN</td>\n",
       "      <td>Q2</td>\n",
       "      <td>3400.00</td>\n",
       "      <td>1700</td>\n",
       "      <td>1.710000e+12</td>\n",
       "    </tr>\n",
       "    <tr>\n",
       "      <th>5</th>\n",
       "      <td>AMZN</td>\n",
       "      <td>Q2</td>\n",
       "      <td>3450.50</td>\n",
       "      <td>1800</td>\n",
       "      <td>1.750000e+12</td>\n",
       "    </tr>\n",
       "    <tr>\n",
       "      <th>6</th>\n",
       "      <td>AAPL</td>\n",
       "      <td>Q3</td>\n",
       "      <td>155.30</td>\n",
       "      <td>1200</td>\n",
       "      <td>2.500000e+12</td>\n",
       "    </tr>\n",
       "    <tr>\n",
       "      <th>7</th>\n",
       "      <td>GOOGL</td>\n",
       "      <td>Q3</td>\n",
       "      <td>2900.75</td>\n",
       "      <td>1700</td>\n",
       "      <td>1.850000e+12</td>\n",
       "    </tr>\n",
       "    <tr>\n",
       "      <th>8</th>\n",
       "      <td>AMZN</td>\n",
       "      <td>Q3</td>\n",
       "      <td>3500.75</td>\n",
       "      <td>2000</td>\n",
       "      <td>1.800000e+12</td>\n",
       "    </tr>\n",
       "  </tbody>\n",
       "</table>\n",
       "</div>"
      ],
      "text/plain": [
       "   Stock Quarter    Price  Volume    Market_Cap\n",
       "0   AAPL      Q1   150.25    1000  2.410000e+12\n",
       "1   AAPL      Q1   153.50    1100  2.450000e+12\n",
       "2  GOOGL      Q1  2800.50    1500  1.780000e+12\n",
       "3  GOOGL      Q2  2830.75    1600  1.820000e+12\n",
       "4   AMZN      Q2  3400.00    1700  1.710000e+12\n",
       "5   AMZN      Q2  3450.50    1800  1.750000e+12\n",
       "6   AAPL      Q3   155.30    1200  2.500000e+12\n",
       "7  GOOGL      Q3  2900.75    1700  1.850000e+12\n",
       "8   AMZN      Q3  3500.75    2000  1.800000e+12"
      ]
     },
     "execution_count": 21,
     "metadata": {},
     "output_type": "execute_result"
    }
   ],
   "source": [
    "# Creating a sample financial DataFrame\n",
    "data = {\n",
    "    'Stock': ['AAPL', 'AAPL', 'GOOGL', 'GOOGL', 'AMZN', 'AMZN', 'AAPL', 'GOOGL', 'AMZN'],\n",
    "    'Quarter': ['Q1', 'Q1', 'Q1', 'Q2', 'Q2', 'Q2', 'Q3', 'Q3', 'Q3'],\n",
    "    'Price': [150.25, 153.50, 2800.50, 2830.75, 3400.00, 3450.50, 155.30, 2900.75, 3500.75],\n",
    "    'Volume': [1000, 1100, 1500, 1600, 1700, 1800, 1200, 1700, 2000],\n",
    "    'Market_Cap': [2.41e12, 2.45e12, 1.78e12, 1.82e12, 1.71e12, 1.75e12, 2.50e12, 1.85e12, 1.80e12]\n",
    "}\n",
    "\n",
    "df = pd.DataFrame(data)\n",
    "df"
   ]
  },
  {
   "cell_type": "markdown",
   "id": "77ec91f4",
   "metadata": {
    "heading_collapsed": true,
    "hidden": true
   },
   "source": [
    "### 4.1 Simple grouping"
   ]
  },
  {
   "cell_type": "markdown",
   "id": "a748854c",
   "metadata": {
    "hidden": true
   },
   "source": [
    "Simple grouping of a DataFrame using `.groupby()` is done on a specific column which then allows to perform basic operations on each group. \n",
    "\n",
    "From the data, let’s start by grouping the data by the `Quarter` column. This is useful for comparing stock performance within the same time period across different companies."
   ]
  },
  {
   "cell_type": "code",
   "execution_count": null,
   "id": "bd561ae5",
   "metadata": {
    "hidden": true
   },
   "outputs": [],
   "source": [
    "groups = df.groupby('Quarter')"
   ]
  },
  {
   "cell_type": "markdown",
   "id": "a4df5365",
   "metadata": {
    "heading_collapsed": true,
    "hidden": true
   },
   "source": [
    "#### Inspection"
   ]
  },
  {
   "cell_type": "markdown",
   "id": "b9fac06b",
   "metadata": {
    "hidden": true
   },
   "source": [
    "- `.size()`: checks how many records belong to each group"
   ]
  },
  {
   "cell_type": "code",
   "execution_count": null,
   "id": "1b41e74f",
   "metadata": {
    "hidden": true
   },
   "outputs": [],
   "source": [
    "groups.size()"
   ]
  },
  {
   "cell_type": "markdown",
   "id": "bb3d6d83",
   "metadata": {
    "heading_collapsed": true,
    "hidden": true
   },
   "source": [
    "#### Basic Operations on Groups"
   ]
  },
  {
   "cell_type": "markdown",
   "id": "ac1372ce",
   "metadata": {
    "hidden": true
   },
   "source": [
    "Groups can perform simple aggregate functions\n",
    "- `.mean()[cols]`: compute the average value of given columns for each group."
   ]
  },
  {
   "cell_type": "code",
   "execution_count": null,
   "id": "cb83bf3d",
   "metadata": {
    "hidden": true
   },
   "outputs": [],
   "source": [
    "groups.mean()[['Price', 'Volume']]"
   ]
  },
  {
   "cell_type": "markdown",
   "id": "f02b5624",
   "metadata": {
    "hidden": true
   },
   "source": [
    "- `groups.max()[cols]`: shows the maximum for given columns for each group."
   ]
  },
  {
   "cell_type": "code",
   "execution_count": null,
   "id": "2e7060a2",
   "metadata": {
    "hidden": true
   },
   "outputs": [],
   "source": [
    "groups.max()[['Price', 'Volume']]"
   ]
  },
  {
   "cell_type": "markdown",
   "id": "bb92063c",
   "metadata": {
    "heading_collapsed": true,
    "hidden": true
   },
   "source": [
    "#### Aggregating Multiple Functions at Once"
   ]
  },
  {
   "cell_type": "markdown",
   "id": "675696ee",
   "metadata": {
    "hidden": true
   },
   "source": [
    "The `.aggreagte()` methods obtains multiple aggregate functions to summarize data. "
   ]
  },
  {
   "cell_type": "code",
   "execution_count": null,
   "id": "0875338d",
   "metadata": {
    "hidden": true
   },
   "outputs": [],
   "source": [
    "groups[['Price', 'Volume']].aggregate([min, max]).round(2)"
   ]
  },
  {
   "cell_type": "markdown",
   "id": "74ecb449",
   "metadata": {
    "heading_collapsed": true,
    "hidden": true
   },
   "source": [
    "### 4.2 Grouping by multiple columns"
   ]
  },
  {
   "cell_type": "code",
   "execution_count": null,
   "id": "c5246b52",
   "metadata": {
    "hidden": true
   },
   "outputs": [],
   "source": [
    "groups = df.groupby(['Quarter', 'Stock'])"
   ]
  },
  {
   "cell_type": "code",
   "execution_count": null,
   "id": "ec464954",
   "metadata": {
    "hidden": true
   },
   "outputs": [],
   "source": [
    "groups.size()"
   ]
  },
  {
   "cell_type": "markdown",
   "id": "b4a54846",
   "metadata": {
    "heading_collapsed": true,
    "hidden": true
   },
   "source": [
    "### 4.3 Advanced grouping example"
   ]
  },
  {
   "cell_type": "markdown",
   "id": "484f32c1",
   "metadata": {
    "heading_collapsed": true,
    "hidden": true
   },
   "source": [
    "#### Aggregations on Multiple Groups"
   ]
  },
  {
   "cell_type": "markdown",
   "id": "16e991fb",
   "metadata": {
    "hidden": true
   },
   "source": [
    "After grouping by multiple column, one can perform multiple operations, such as summing and calculating the mean for specific column"
   ]
  },
  {
   "cell_type": "code",
   "execution_count": null,
   "id": "d1b5a7fb",
   "metadata": {
    "hidden": true
   },
   "outputs": [],
   "source": [
    "groups[['Price', 'Volume']].aggregate([sum, 'mean'])"
   ]
  },
  {
   "cell_type": "markdown",
   "id": "768b7cc0",
   "metadata": {
    "heading_collapsed": true,
    "hidden": true
   },
   "source": [
    "#### Calculating market share"
   ]
  },
  {
   "cell_type": "markdown",
   "id": "4f37c68e",
   "metadata": {
    "hidden": true
   },
   "source": [
    "In financial analysis, it might be useful to calculate each stock’s market share in a specific quarter. We can compute the market share of each stock by dividing its market cap by the total market cap of all stocks in that quarter:"
   ]
  },
  {
   "cell_type": "code",
   "execution_count": null,
   "id": "30f2c254",
   "metadata": {
    "hidden": true
   },
   "outputs": [],
   "source": [
    "df['Market_Share'] = df.groupby('Quarter')['Market_Cap'].apply(lambda x: x / x.sum())\n",
    "df[['Stock', 'Quarter', 'Market_Share']]"
   ]
  },
  {
   "cell_type": "markdown",
   "id": "de0cda4c",
   "metadata": {
    "heading_collapsed": true,
    "hidden": true
   },
   "source": [
    "##### Step by step"
   ]
  },
  {
   "cell_type": "markdown",
   "id": "53b1706e",
   "metadata": {
    "hidden": true
   },
   "source": [
    "- Step 1: Grouping by Quarter\n",
    "\n",
    "We are using the `groupby()` function to group the data by the Quarter column:\n",
    "\n",
    "```python\n",
    "df.groupby('Quarter')\n",
    "```\n",
    "This groups the rows in the DataFrame based on the values in the Quarter column. This means that all stocks from the same quarter will be grouped together."
   ]
  },
  {
   "cell_type": "markdown",
   "id": "5acf207c",
   "metadata": {
    "hidden": true
   },
   "source": [
    "- Step 2: Applying the Aggregation\n",
    "\n",
    "Next, we focus on the Market_Cap column within each quarter. This is done using:\n",
    "```python\n",
    "df.groupby('Quarter')['Market_Cap']\n",
    "```\n",
    "Here, we are selecting the Market_Cap values for each group (each quarter). We now want to calculate the market share for each stock within its respective quarter."
   ]
  },
  {
   "cell_type": "markdown",
   "id": "1d9549b0",
   "metadata": {
    "hidden": true
   },
   "source": [
    "- Step 3: Calculating Market Share with apply()\n",
    "\n",
    "We use the apply() function to apply a custom operation to each group. In this case, the custom operation is a lambda function that computes the market share:\n",
    "```python\n",
    "lambda x: x / x.sum()\n",
    "```\n",
    "This lambda function divides each stock’s market capitalization (x) by the total market capitalization of all stocks in the same quarter (x.sum()).\n",
    "- x represents the Market_Cap values for the group (all stocks in a given quarter).\n",
    "- x.sum() calculates the total market capitalization for that quarter.\n",
    "- The lambda function then divides each stock’s market capitalization by the total, which gives us the proportion (or market share) of that stock relative to the total market capitalization in the quarter."
   ]
  },
  {
   "cell_type": "markdown",
   "id": "1533021d",
   "metadata": {
    "hidden": true
   },
   "source": [
    "- Step 4: Assigning the Market Share to a New Column\n",
    "\n",
    "The result of this operation is assigned to a new column in the DataFrame called Market_Share:\n",
    "\n",
    "```python\n",
    "df['Market_Share'] = ...\n",
    "```\n",
    "Now, each row in the DataFrame will have a Market_Share value representing the percentage of the total market capitalization that each stock holds within its respective quarter."
   ]
  },
  {
   "cell_type": "markdown",
   "id": "c19abc57",
   "metadata": {
    "heading_collapsed": true
   },
   "source": [
    "## 5. Complex Selection"
   ]
  },
  {
   "cell_type": "markdown",
   "id": "38fada55",
   "metadata": {
    "hidden": true
   },
   "source": [
    "In `pandas`, data selection often involves formulating conditions based on column values and combining multiple conditions logically. "
   ]
  },
  {
   "cell_type": "markdown",
   "id": "abd87bbf",
   "metadata": {
    "heading_collapsed": true,
    "hidden": true
   },
   "source": [
    "##### Initialization"
   ]
  },
  {
   "cell_type": "code",
   "execution_count": null,
   "id": "98407a09",
   "metadata": {
    "hidden": true
   },
   "outputs": [],
   "source": [
    "import numpy as np\n",
    "\n",
    "# Creating a DataFrame with random financial data\n",
    "data = {\n",
    "    'Transaction_Amount': np.random.uniform(-500, 1500, 10),  # Random transaction amounts between -500 and 1500\n",
    "    'Interest_Rate': np.random.uniform(0.01, 0.15, 10),       # Random interest rates between 1% and 15%\n",
    "    'Loan_Amount': np.random.uniform(1000, 20000, 10),         # Random loan amounts between 1000 and 20000\n",
    "}\n",
    "\n",
    "df = pd.DataFrame(data)"
   ]
  },
  {
   "cell_type": "code",
   "execution_count": null,
   "id": "c77e611c",
   "metadata": {
    "hidden": true
   },
   "outputs": [],
   "source": [
    "df.info()  # Display information about the DataFrame"
   ]
  },
  {
   "cell_type": "code",
   "execution_count": null,
   "id": "3aec1de3",
   "metadata": {
    "hidden": true
   },
   "outputs": [],
   "source": [
    "df.head()  # Display the first few rows"
   ]
  },
  {
   "cell_type": "markdown",
   "id": "04257fe4",
   "metadata": {
    "heading_collapsed": true,
    "hidden": true
   },
   "source": [
    "### 5.1 Conditions"
   ]
  },
  {
   "cell_type": "markdown",
   "id": "889dd47d",
   "metadata": {
    "hidden": true
   },
   "source": [
    "We can create conditions based on the values in the `DataFrame` columns:"
   ]
  },
  {
   "cell_type": "markdown",
   "id": "dd720ab3",
   "metadata": {
    "hidden": true
   },
   "source": [
    "1. **Single Condition**: Selecting transactions greater than a specified amount:"
   ]
  },
  {
   "cell_type": "code",
   "execution_count": null,
   "id": "92511097",
   "metadata": {
    "hidden": true
   },
   "outputs": [],
   "source": [
    "condition1 = df['Transaction_Amount'] > 0"
   ]
  },
  {
   "cell_type": "markdown",
   "id": "40c4ff65",
   "metadata": {
    "hidden": true
   },
   "source": [
    "2. **Multiple Conditions**: Using logical operators to combine conditions:\n",
    "- **AND** Condition: Selecting rows where the transaction amount is positive and the interest rate is less than 0.1:"
   ]
  },
  {
   "cell_type": "code",
   "execution_count": null,
   "id": "7853380b",
   "metadata": {
    "hidden": true
   },
   "outputs": [],
   "source": [
    "condition2 = (df['Transaction_Amount'] > 0) & (df['Interest_Rate'] < 0.1)"
   ]
  },
  {
   "cell_type": "markdown",
   "id": "6614468b",
   "metadata": {
    "hidden": true
   },
   "source": [
    "- **OR** Condition: Selecting rows where the transaction amount is positive or the interest rate is less than 0.05:"
   ]
  },
  {
   "cell_type": "code",
   "execution_count": null,
   "id": "6ffcb6bb",
   "metadata": {
    "hidden": true
   },
   "outputs": [],
   "source": [
    "condition3 = (df['Transaction_Amount'] > 0) | (df['Interest_Rate'] < 0.05)"
   ]
  },
  {
   "cell_type": "markdown",
   "id": "599862c0",
   "metadata": {
    "hidden": true
   },
   "source": [
    "3. **Condition on All Values**: Checking for all positive values in the DataFrame:"
   ]
  },
  {
   "cell_type": "code",
   "execution_count": null,
   "id": "6405b326",
   "metadata": {
    "hidden": true
   },
   "outputs": [],
   "source": [
    "condition4 = df > 0"
   ]
  },
  {
   "cell_type": "markdown",
   "id": "8cbef882",
   "metadata": {
    "heading_collapsed": true,
    "hidden": true
   },
   "source": [
    "### 5.2 Conditional Selection"
   ]
  },
  {
   "cell_type": "markdown",
   "id": "a2244038",
   "metadata": {
    "hidden": true
   },
   "source": [
    "Once we have defined our conditions, we can use them to select data from the DataFrame."
   ]
  },
  {
   "cell_type": "markdown",
   "id": "0a226f6b",
   "metadata": {
    "hidden": true
   },
   "source": [
    "- **Select rows where `Transaction_Amount` is greater than 0**:"
   ]
  },
  {
   "cell_type": "code",
   "execution_count": null,
   "id": "6757d605",
   "metadata": {
    "hidden": true
   },
   "outputs": [],
   "source": [
    "positive_transactions = df[df['Transaction_Amount'] > 0]\n",
    "print (positive_transactions)"
   ]
  },
  {
   "cell_type": "code",
   "execution_count": null,
   "id": "840a0896",
   "metadata": {
    "hidden": true
   },
   "outputs": [],
   "source": [
    "df[condition1]"
   ]
  },
  {
   "cell_type": "markdown",
   "id": "669ec1e4",
   "metadata": {
    "hidden": true
   },
   "source": [
    "- **Select rows where `Transaction_Amount` is positive and `Interest_Rate` is less than 0.1**:"
   ]
  },
  {
   "cell_type": "code",
   "execution_count": null,
   "id": "172081bd",
   "metadata": {
    "hidden": true
   },
   "outputs": [],
   "source": [
    "filtered_transactions = df[(df['Transaction_Amount'] > 0) & (df['Interest_Rate'] < 0.1)]\n",
    "print (filtered_transactions)"
   ]
  },
  {
   "cell_type": "code",
   "execution_count": null,
   "id": "9b13f72c",
   "metadata": {
    "hidden": true
   },
   "outputs": [],
   "source": [
    "df[condition2]"
   ]
  },
  {
   "cell_type": "markdown",
   "id": "0de2b0a5",
   "metadata": {
    "hidden": true
   },
   "source": [
    "- **Select rows where either `Transaction_Amount` is positive or `Interest_Rate` is less than 0.05**:"
   ]
  },
  {
   "cell_type": "code",
   "execution_count": null,
   "id": "b714499f",
   "metadata": {
    "hidden": true
   },
   "outputs": [],
   "source": [
    "selected_transactions = df[(df['Transaction_Amount'] > 0) | (df['Interest_Rate'] < 0.05)]"
   ]
  },
  {
   "cell_type": "markdown",
   "id": "43036d40",
   "metadata": {
    "hidden": true
   },
   "source": [
    "- **Select all positive values from the DataFrame**:"
   ]
  },
  {
   "cell_type": "code",
   "execution_count": null,
   "id": "5e266e49",
   "metadata": {
    "hidden": true
   },
   "outputs": [],
   "source": [
    "positive_values = df[df > 0]"
   ]
  },
  {
   "cell_type": "markdown",
   "id": "aeb94986",
   "metadata": {
    "heading_collapsed": true
   },
   "source": [
    "## 6. Concatenation, Join, Merge"
   ]
  },
  {
   "cell_type": "markdown",
   "id": "4467ec57",
   "metadata": {
    "hidden": true
   },
   "source": [
    "Data manipulation often involves the need to **combine multiple datasets**. "
   ]
  },
  {
   "cell_type": "markdown",
   "id": "7aa6a258",
   "metadata": {
    "heading_collapsed": true,
    "hidden": true
   },
   "source": [
    "#### Initialization"
   ]
  },
  {
   "cell_type": "code",
   "execution_count": null,
   "id": "6753ac46",
   "metadata": {
    "hidden": true
   },
   "outputs": [],
   "source": [
    "loan_data = pd.DataFrame({\n",
    "    'Customer_ID': ['A001', 'A002', 'A003', 'A004'],\n",
    "    'Loan_Amount': [10000, 20000, 15000, 25000]\n",
    "})\n",
    "\n",
    "credit_scores = pd.DataFrame({\n",
    "    'Customer_ID': ['A002', 'A004', 'A005'],\n",
    "    'Credit_Score': [720, 680, 710]\n",
    "})"
   ]
  },
  {
   "cell_type": "code",
   "execution_count": null,
   "id": "df4d8690",
   "metadata": {
    "hidden": true
   },
   "outputs": [],
   "source": [
    "loan_data"
   ]
  },
  {
   "cell_type": "code",
   "execution_count": null,
   "id": "f83bb5c9",
   "metadata": {
    "hidden": true
   },
   "outputs": [],
   "source": [
    "credit_scores"
   ]
  },
  {
   "cell_type": "markdown",
   "id": "54c74417",
   "metadata": {
    "heading_collapsed": true,
    "hidden": true
   },
   "source": [
    "### 6.1 Concatenation"
   ]
  },
  {
   "cell_type": "markdown",
   "id": "bcc5d032",
   "metadata": {
    "hidden": true
   },
   "source": [
    "Concatenation or appending means adding rows from one DataFrame to another. "
   ]
  },
  {
   "cell_type": "code",
   "execution_count": null,
   "id": "8e96ffcc",
   "metadata": {
    "hidden": true
   },
   "outputs": [],
   "source": [
    "# Concatenating the DataFrames\n",
    "pd.concat([loan_data, credit_scores], sort=False)"
   ]
  },
  {
   "cell_type": "markdown",
   "id": "b2bfbd7f",
   "metadata": {
    "hidden": true
   },
   "source": [
    "- Notice that when concatenating, the index values are maintained unless specified otherwise. They can be reset `ignore_index=True`."
   ]
  },
  {
   "cell_type": "code",
   "execution_count": null,
   "id": "eb58607c",
   "metadata": {
    "hidden": true
   },
   "outputs": [],
   "source": [
    "pd.concat([loan_data, credit_scores], ignore_index=True, sort=False)"
   ]
  },
  {
   "cell_type": "markdown",
   "id": "516e693b",
   "metadata": {
    "heading_collapsed": true,
    "hidden": true
   },
   "source": [
    "### 6.2 Join"
   ]
  },
  {
   "cell_type": "markdown",
   "id": "4dcd6285",
   "metadata": {
    "hidden": true
   },
   "source": [
    "Joining allows to combine two DataFrames based on their indices. It is similar to SQL joins and can be useful when combining datasets with matching shared keys."
   ]
  },
  {
   "cell_type": "markdown",
   "id": "07dd2b2a",
   "metadata": {
    "hidden": true
   },
   "source": [
    "Let’s join the `loan_data` and `credit_scores` using `Customer_ID`."
   ]
  },
  {
   "cell_type": "code",
   "execution_count": null,
   "id": "772eca41",
   "metadata": {
    "hidden": true
   },
   "outputs": [],
   "source": [
    "# Setting the 'Customer_ID' column as index for join\n",
    "loan_data.set_index('Customer_ID', inplace=True)\n",
    "credit_scores.set_index('Customer_ID', inplace=True)"
   ]
  },
  {
   "cell_type": "code",
   "execution_count": null,
   "id": "b7182511",
   "metadata": {
    "hidden": true
   },
   "outputs": [],
   "source": [
    "# Performing a left join\n",
    "loan_data.join(credit_scores, how='left')"
   ]
  },
  {
   "cell_type": "markdown",
   "id": "cfe5f29d",
   "metadata": {
    "hidden": true
   },
   "source": [
    "The result includes all rows from `loan_data` and only matching rows from `credit_scores`.\n",
    "\n",
    "In general there are 4 different join methods available, each leading to a different behavior with regard to how index values and the corresponding data rows are handled:\n",
    "\n",
    "- `left`: preserves index values from left dataframe.\n",
    "- `right`: preserves index values from right dataframe.\n",
    "- `inner`: preserves index values found in both indices.\n",
    "- `outer`: preserves all index values from both indices."
   ]
  },
  {
   "cell_type": "code",
   "execution_count": null,
   "id": "a3576d39",
   "metadata": {
    "hidden": true
   },
   "outputs": [],
   "source": [
    "# Different types of joins\n",
    "loan_data.join(credit_scores, how='right')"
   ]
  },
  {
   "cell_type": "code",
   "execution_count": null,
   "id": "ddd5bb91",
   "metadata": {
    "hidden": true
   },
   "outputs": [],
   "source": [
    "loan_data.join(credit_scores, how='inner')"
   ]
  },
  {
   "cell_type": "code",
   "execution_count": null,
   "id": "1465aa46",
   "metadata": {
    "hidden": true
   },
   "outputs": [],
   "source": [
    "loan_data.join(credit_scores, how='outer')"
   ]
  },
  {
   "cell_type": "markdown",
   "id": "7f2dffb2",
   "metadata": {
    "heading_collapsed": true,
    "hidden": true
   },
   "source": [
    "### 6.3 Merge"
   ]
  },
  {
   "cell_type": "markdown",
   "id": "168a4461",
   "metadata": {
    "hidden": true
   },
   "source": [
    "Merging `DataFrames` is more flexible than joining because it allows merging on specific columns instead of just the index. \n",
    "\n",
    "This is useful in situations where financial datasets have overlapping columns."
   ]
  },
  {
   "cell_type": "code",
   "execution_count": null,
   "id": "fbc26598",
   "metadata": {
    "hidden": true
   },
   "outputs": [],
   "source": [
    "# Resetting index for merging\n",
    "loan_data.reset_index(inplace=True)\n",
    "credit_scores.reset_index(inplace=True)"
   ]
  },
  {
   "cell_type": "code",
   "execution_count": null,
   "id": "5d04dcec",
   "metadata": {
    "hidden": true
   },
   "outputs": [],
   "source": [
    "# Merging based on the 'Customer_ID' column\n",
    "pd.merge(loan_data, credit_scores, on='Customer_ID', how='inner')"
   ]
  },
  {
   "cell_type": "markdown",
   "id": "96fe7022",
   "metadata": {
    "hidden": true
   },
   "source": [
    "Just like joins, merges can be done with different options (left, right, inner and outer)"
   ]
  },
  {
   "cell_type": "code",
   "execution_count": null,
   "id": "a3e9a672",
   "metadata": {
    "hidden": true
   },
   "outputs": [],
   "source": [
    "# Merge with outer join\n",
    "pd.merge(loan_data, credit_scores, on='Customer_ID', how='outer')"
   ]
  },
  {
   "cell_type": "code",
   "execution_count": null,
   "id": "d6b020ca",
   "metadata": {
    "hidden": true
   },
   "outputs": [],
   "source": [
    "# Merge using different columns from each DataFrame\n",
    "loan_data['Branch'] = ['Branch_1', 'Branch_2', 'Branch_3', 'Branch_4']\n",
    "credit_scores['Branch'] = ['Branch_2', 'Branch_4', 'Branch_5']\n",
    "\n",
    "pd.merge(loan_data, credit_scores, left_on='Branch', right_on='Branch', how='outer')"
   ]
  },
  {
   "cell_type": "markdown",
   "id": "a655d26d",
   "metadata": {
    "hidden": true
   },
   "source": [
    "---"
   ]
  }
 ],
 "metadata": {
  "kernelspec": {
   "display_name": "Python 3 (ipykernel)",
   "language": "python",
   "name": "python3"
  },
  "language_info": {
   "codemirror_mode": {
    "name": "ipython",
    "version": 3
   },
   "file_extension": ".py",
   "mimetype": "text/x-python",
   "name": "python",
   "nbconvert_exporter": "python",
   "pygments_lexer": "ipython3",
   "version": "3.9.12"
  }
 },
 "nbformat": 4,
 "nbformat_minor": 5
}
