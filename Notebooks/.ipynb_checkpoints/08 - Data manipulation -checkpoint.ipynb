{
 "cells": [
  {
   "cell_type": "markdown",
   "id": "e89dc6e6",
   "metadata": {
    "slideshow": {
     "slide_type": "slide"
    }
   },
   "source": [
    "# Lecture 08 - Data Manipulation (`Pandas`)\n"
   ]
  },
  {
   "cell_type": "markdown",
   "id": "44c3d01c",
   "metadata": {
    "slideshow": {
     "slide_type": "slide"
    }
   },
   "source": [
    "## Overview "
   ]
  },
  {
   "cell_type": "markdown",
   "id": "9a13faa5",
   "metadata": {
    "slideshow": {
     "slide_type": "slide"
    }
   },
   "source": [
    "**What is `pandas`?**\n",
    "\n",
    "- `Pandas` is a powerful Python library used for **data manipulation** and **analysis**.\n",
    "- It provides two main data structures: `Series` (1D) and `DataFrame` (2D), which are ideal for working with structured data, similar to Excel spreadsheets or SQL tables."
   ]
  },
  {
   "cell_type": "markdown",
   "id": "de7fe956",
   "metadata": {},
   "source": [
    "**Why `pandas` for Finance?**\n",
    "\n",
    "- **Exploratory Data Analysis** (EDA): In finance, large and structured datasets that require cleaning, manipulation, and analysis.\n",
    "- **Efficiency**: `Pandas` can handle millions of rows of financial data efficiently.\n",
    "- **Integration with Data Science**: `Pandas` works seamlessly with other libraries like `NumPy` and `matplotlib` for numerical operations and visualization, essential for financial modeling."
   ]
  },
  {
   "cell_type": "markdown",
   "id": "fc74327d",
   "metadata": {},
   "source": [
    "This notebook covers:\n",
    "- `DataFrame` and `Series` classes\n",
    "- Basic operations with `Pandas`\n",
    "- `GroupBy`, complex selection and data combinations"
   ]
  },
  {
   "cell_type": "code",
   "execution_count": 1,
   "id": "433442e9",
   "metadata": {
    "slideshow": {
     "slide_type": "slide"
    }
   },
   "outputs": [],
   "source": [
    "import pandas as pd\n",
    "import numpy as np "
   ]
  },
  {
   "cell_type": "markdown",
   "id": "6e88534e",
   "metadata": {
    "slideshow": {
     "slide_type": "slide"
    }
   },
   "source": [
    "## 1. The `DataFrame` Class"
   ]
  },
  {
   "cell_type": "markdown",
   "id": "dae96cd2",
   "metadata": {
    "slideshow": {
     "slide_type": "slide"
    }
   },
   "source": [
    "At the core of `Pandas` is the `DataFrame`, a class designed to **efficiently handle data in tabular form** —i.e., data characterized by a columnar organization. "
   ]
  },
  {
   "cell_type": "markdown",
   "id": "f363d886",
   "metadata": {
    "slideshow": {
     "slide_type": "-"
    }
   },
   "source": [
    "- A `DataFrame` in `pandas` is a **two-dimensional**, **labeled data structure** that organizes and manipulates structured data\n",
    "- `DataFrames` consist of **rows** and **columns**, where each column can contain different types of data (`integers`, `floats`, `strings`, etc.).\n",
    "    - Like a table in a relational database or an Excel sheet. \n"
   ]
  },
  {
   "cell_type": "markdown",
   "id": "6f1b242c",
   "metadata": {
    "slideshow": {
     "slide_type": "slide"
    }
   },
   "source": [
    "### 1.1 Creating a `DataFrame`"
   ]
  },
  {
   "cell_type": "markdown",
   "id": "bc40b8c7",
   "metadata": {
    "slideshow": {
     "slide_type": "slide"
    }
   },
   "source": [
    "The `pd.DataFrame()` function in `pandas` creates `DataFrames`."
   ]
  },
  {
   "cell_type": "markdown",
   "id": "b929d0c0",
   "metadata": {},
   "source": [
    "```\n",
    "pd.DataFrame(data=None, index=None, columns=None, dtype=None, copy=False)\n",
    "```"
   ]
  },
  {
   "cell_type": "markdown",
   "id": "9ed68f72",
   "metadata": {},
   "source": [
    "- `data`: Data to populate the `DataFrame`\n",
    "- `index`: Index labels for the rows (optional).\n",
    "- `columns`: Column labels (optional).\n",
    "- `dtype`: Data type for the elements (optional).\n",
    "- `copy`: Whether to copy the input data (optional)."
   ]
  },
  {
   "cell_type": "markdown",
   "id": "d60b39e9",
   "metadata": {
    "slideshow": {
     "slide_type": "slide"
    }
   },
   "source": [
    "There are several ways to create a `DataFrame`. \n",
    "- from **scratc**h using `lists` or `dictionaries`\n",
    "- from **reading** external files (CSV, Excel, SQL databases). "
   ]
  },
  {
   "cell_type": "markdown",
   "id": "1567167b",
   "metadata": {
    "slideshow": {
     "slide_type": "slide"
    }
   },
   "source": [
    "#### From a `list`"
   ]
  },
  {
   "cell_type": "code",
   "execution_count": 2,
   "id": "595bdc55",
   "metadata": {},
   "outputs": [],
   "source": [
    "# Creating a DataFrame from a list\n",
    "data = [10, 20, 30, 40]\n",
    "df = pd.DataFrame(data, columns=['numbers'], index=['a', 'b', 'c', 'd'])"
   ]
  },
  {
   "cell_type": "code",
   "execution_count": 3,
   "id": "5ec950c6",
   "metadata": {},
   "outputs": [
    {
     "name": "stdout",
     "output_type": "stream",
     "text": [
      "   numbers\n",
      "a       10\n",
      "b       20\n",
      "c       30\n",
      "d       40\n"
     ]
    }
   ],
   "source": [
    "# Displaying the DataFrame\n",
    "print(df)"
   ]
  },
  {
   "cell_type": "markdown",
   "id": "91d58e7b",
   "metadata": {},
   "source": [
    "In this example:\n",
    "\n",
    "- The `data` list contains values for a single column.\n",
    "- The `columns` parameter labels the column, and the `index` parameter sets row labels."
   ]
  },
  {
   "cell_type": "markdown",
   "id": "852c6a75",
   "metadata": {
    "slideshow": {
     "slide_type": "slide"
    }
   },
   "source": [
    "Once a `DataFrame` is instantiated, one can observe its meta structure."
   ]
  },
  {
   "cell_type": "code",
   "execution_count": 6,
   "id": "2c011ddf",
   "metadata": {},
   "outputs": [
    {
     "data": {
      "text/plain": [
       "['a', 'b', 'c', 'd']"
      ]
     },
     "execution_count": 6,
     "metadata": {},
     "output_type": "execute_result"
    }
   ],
   "source": [
    "df.index"
   ]
  },
  {
   "cell_type": "code",
   "execution_count": 5,
   "id": "2216990c",
   "metadata": {},
   "outputs": [
    {
     "data": {
      "text/plain": [
       "Index(['numbers'], dtype='object')"
      ]
     },
     "execution_count": 5,
     "metadata": {},
     "output_type": "execute_result"
    }
   ],
   "source": [
    "df.columns"
   ]
  },
  {
   "cell_type": "markdown",
   "id": "ccb62320",
   "metadata": {
    "slideshow": {
     "slide_type": "slide"
    }
   },
   "source": [
    "#### From a `dictionary`"
   ]
  },
  {
   "cell_type": "markdown",
   "id": "d18ffb94",
   "metadata": {},
   "source": [
    "A `DataFrame` can be sourced from a `dictionary`, where `keys` are column `names` and values are lists of column data."
   ]
  },
  {
   "cell_type": "code",
   "execution_count": 7,
   "id": "f342b3f8",
   "metadata": {},
   "outputs": [
    {
     "name": "stdout",
     "output_type": "stream",
     "text": [
      "  Product  Price  Stock\n",
      "0       A    100     50\n",
      "1       B    150     60\n",
      "2       C    200     70\n",
      "3       D    250     80\n"
     ]
    }
   ],
   "source": [
    "data = {\n",
    "    'Product': ['A', 'B', 'C', 'D'],\n",
    "    'Price': [100, 150, 200, 250],\n",
    "    'Stock': [50, 60, 70, 80]\n",
    "}\n",
    "\n",
    "df = pd.DataFrame(data)\n",
    "\n",
    "# Displaying the DataFrame\n",
    "print(df)"
   ]
  },
  {
   "cell_type": "markdown",
   "id": "04d68d17",
   "metadata": {
    "slideshow": {
     "slide_type": "slide"
    }
   },
   "source": [
    "#### From external sources"
   ]
  },
  {
   "cell_type": "markdown",
   "id": "a815e52f",
   "metadata": {},
   "source": [
    "`DataFrames` can also be created by reading data from **external files** such as CSVs, Excel files, or databases.\n",
    "\n",
    "```python\n",
    "# Reading from a CSV file\n",
    "df = pd.read_csv('file.csv')\n",
    "\n",
    "# Reading from an Excel file\n",
    "df = pd.read_excel('file.xlsx')\n",
    "```\n",
    "\n",
    "*More on this in next lecture...*"
   ]
  },
  {
   "cell_type": "markdown",
   "id": "75a55308",
   "metadata": {
    "slideshow": {
     "slide_type": "slide"
    }
   },
   "source": [
    "### 1.2 Accessing a `DataFrame`"
   ]
  },
  {
   "cell_type": "markdown",
   "id": "3c196c02",
   "metadata": {
    "slideshow": {
     "slide_type": "slide"
    }
   },
   "source": [
    "Once a `DataFrame` is created, one can access  \n",
    "- columns\n",
    "- rows \n",
    "- specifics subsets of data"
   ]
  },
  {
   "cell_type": "markdown",
   "id": "700aacf2",
   "metadata": {
    "slideshow": {
     "slide_type": "slide"
    }
   },
   "source": [
    "#### Accessing columns"
   ]
  },
  {
   "cell_type": "markdown",
   "id": "9577faa5",
   "metadata": {},
   "source": [
    "Access to columns can be done **directly** by referring the column like in a `dictionary`."
   ]
  },
  {
   "cell_type": "code",
   "execution_count": 8,
   "id": "fd672a61",
   "metadata": {},
   "outputs": [
    {
     "data": {
      "text/plain": [
       "0    A\n",
       "1    B\n",
       "2    C\n",
       "3    D\n",
       "Name: Product, dtype: object"
      ]
     },
     "execution_count": 8,
     "metadata": {},
     "output_type": "execute_result"
    }
   ],
   "source": [
    "# Accessing a single column\n",
    "df['Product']"
   ]
  },
  {
   "cell_type": "code",
   "execution_count": 9,
   "id": "bcb94f75",
   "metadata": {},
   "outputs": [
    {
     "data": {
      "text/html": [
       "<div>\n",
       "<style scoped>\n",
       "    .dataframe tbody tr th:only-of-type {\n",
       "        vertical-align: middle;\n",
       "    }\n",
       "\n",
       "    .dataframe tbody tr th {\n",
       "        vertical-align: top;\n",
       "    }\n",
       "\n",
       "    .dataframe thead th {\n",
       "        text-align: right;\n",
       "    }\n",
       "</style>\n",
       "<table border=\"1\" class=\"dataframe\">\n",
       "  <thead>\n",
       "    <tr style=\"text-align: right;\">\n",
       "      <th></th>\n",
       "      <th>Product</th>\n",
       "      <th>Price</th>\n",
       "    </tr>\n",
       "  </thead>\n",
       "  <tbody>\n",
       "    <tr>\n",
       "      <th>0</th>\n",
       "      <td>A</td>\n",
       "      <td>100</td>\n",
       "    </tr>\n",
       "    <tr>\n",
       "      <th>1</th>\n",
       "      <td>B</td>\n",
       "      <td>150</td>\n",
       "    </tr>\n",
       "    <tr>\n",
       "      <th>2</th>\n",
       "      <td>C</td>\n",
       "      <td>200</td>\n",
       "    </tr>\n",
       "    <tr>\n",
       "      <th>3</th>\n",
       "      <td>D</td>\n",
       "      <td>250</td>\n",
       "    </tr>\n",
       "  </tbody>\n",
       "</table>\n",
       "</div>"
      ],
      "text/plain": [
       "  Product  Price\n",
       "0       A    100\n",
       "1       B    150\n",
       "2       C    200\n",
       "3       D    250"
      ]
     },
     "execution_count": 9,
     "metadata": {},
     "output_type": "execute_result"
    }
   ],
   "source": [
    "# Accessing multiple columns\n",
    "df[['Product', 'Price']]"
   ]
  },
  {
   "cell_type": "markdown",
   "id": "31bfea72",
   "metadata": {
    "slideshow": {
     "slide_type": "slide"
    }
   },
   "source": [
    "#### Accessing rows"
   ]
  },
  {
   "cell_type": "markdown",
   "id": "ba23bd5b",
   "metadata": {},
   "source": [
    "Access to rows can be done by index (`.loc[]`) or position (`.iloc[]`)"
   ]
  },
  {
   "cell_type": "code",
   "execution_count": 10,
   "id": "7b0e8f67",
   "metadata": {},
   "outputs": [
    {
     "data": {
      "text/html": [
       "<div>\n",
       "<style scoped>\n",
       "    .dataframe tbody tr th:only-of-type {\n",
       "        vertical-align: middle;\n",
       "    }\n",
       "\n",
       "    .dataframe tbody tr th {\n",
       "        vertical-align: top;\n",
       "    }\n",
       "\n",
       "    .dataframe thead th {\n",
       "        text-align: right;\n",
       "    }\n",
       "</style>\n",
       "<table border=\"1\" class=\"dataframe\">\n",
       "  <thead>\n",
       "    <tr style=\"text-align: right;\">\n",
       "      <th></th>\n",
       "      <th>Product</th>\n",
       "      <th>Price</th>\n",
       "      <th>Stock</th>\n",
       "    </tr>\n",
       "  </thead>\n",
       "  <tbody>\n",
       "    <tr>\n",
       "      <th>0</th>\n",
       "      <td>A</td>\n",
       "      <td>100</td>\n",
       "      <td>50</td>\n",
       "    </tr>\n",
       "    <tr>\n",
       "      <th>1</th>\n",
       "      <td>B</td>\n",
       "      <td>150</td>\n",
       "      <td>60</td>\n",
       "    </tr>\n",
       "    <tr>\n",
       "      <th>2</th>\n",
       "      <td>C</td>\n",
       "      <td>200</td>\n",
       "      <td>70</td>\n",
       "    </tr>\n",
       "    <tr>\n",
       "      <th>3</th>\n",
       "      <td>D</td>\n",
       "      <td>250</td>\n",
       "      <td>80</td>\n",
       "    </tr>\n",
       "  </tbody>\n",
       "</table>\n",
       "</div>"
      ],
      "text/plain": [
       "  Product  Price  Stock\n",
       "0       A    100     50\n",
       "1       B    150     60\n",
       "2       C    200     70\n",
       "3       D    250     80"
      ]
     },
     "execution_count": 10,
     "metadata": {},
     "output_type": "execute_result"
    }
   ],
   "source": [
    "df"
   ]
  },
  {
   "cell_type": "code",
   "execution_count": 11,
   "id": "4668e61d",
   "metadata": {},
   "outputs": [
    {
     "data": {
      "text/plain": [
       "Product      B\n",
       "Price      150\n",
       "Stock       60\n",
       "Name: 1, dtype: object"
      ]
     },
     "execution_count": 11,
     "metadata": {},
     "output_type": "execute_result"
    }
   ],
   "source": [
    "# Accessing by label\n",
    "df.loc[1]  # Retrieves the row with index 1"
   ]
  },
  {
   "cell_type": "code",
   "execution_count": 12,
   "id": "f2614c26",
   "metadata": {},
   "outputs": [
    {
     "data": {
      "text/plain": [
       "Product      C\n",
       "Price      200\n",
       "Stock       70\n",
       "Name: 2, dtype: object"
      ]
     },
     "execution_count": 12,
     "metadata": {},
     "output_type": "execute_result"
    }
   ],
   "source": [
    "# Accessing by position\n",
    "df.iloc[2]  # Retrieves the third row (index 2)"
   ]
  },
  {
   "cell_type": "markdown",
   "id": "5a31f3f8",
   "metadata": {
    "slideshow": {
     "slide_type": "slide"
    }
   },
   "source": [
    "#### Selecting multiple rows"
   ]
  },
  {
   "cell_type": "markdown",
   "id": "1543d3b1",
   "metadata": {},
   "source": [
    "A range of rows or a specific set of rows can be selected by combining `.loc[]` or `.iloc[]` with slicing or `lists`."
   ]
  },
  {
   "cell_type": "code",
   "execution_count": 13,
   "id": "db014dff",
   "metadata": {},
   "outputs": [
    {
     "data": {
      "text/html": [
       "<div>\n",
       "<style scoped>\n",
       "    .dataframe tbody tr th:only-of-type {\n",
       "        vertical-align: middle;\n",
       "    }\n",
       "\n",
       "    .dataframe tbody tr th {\n",
       "        vertical-align: top;\n",
       "    }\n",
       "\n",
       "    .dataframe thead th {\n",
       "        text-align: right;\n",
       "    }\n",
       "</style>\n",
       "<table border=\"1\" class=\"dataframe\">\n",
       "  <thead>\n",
       "    <tr style=\"text-align: right;\">\n",
       "      <th></th>\n",
       "      <th>Product</th>\n",
       "      <th>Price</th>\n",
       "      <th>Stock</th>\n",
       "    </tr>\n",
       "  </thead>\n",
       "  <tbody>\n",
       "    <tr>\n",
       "      <th>1</th>\n",
       "      <td>B</td>\n",
       "      <td>150</td>\n",
       "      <td>60</td>\n",
       "    </tr>\n",
       "    <tr>\n",
       "      <th>2</th>\n",
       "      <td>C</td>\n",
       "      <td>200</td>\n",
       "      <td>70</td>\n",
       "    </tr>\n",
       "    <tr>\n",
       "      <th>3</th>\n",
       "      <td>D</td>\n",
       "      <td>250</td>\n",
       "      <td>80</td>\n",
       "    </tr>\n",
       "  </tbody>\n",
       "</table>\n",
       "</div>"
      ],
      "text/plain": [
       "  Product  Price  Stock\n",
       "1       B    150     60\n",
       "2       C    200     70\n",
       "3       D    250     80"
      ]
     },
     "execution_count": 13,
     "metadata": {},
     "output_type": "execute_result"
    }
   ],
   "source": [
    "# Accessing multiple rows by label\n",
    "df.loc[1:3]"
   ]
  },
  {
   "cell_type": "code",
   "execution_count": 14,
   "id": "d52b5a8d",
   "metadata": {},
   "outputs": [
    {
     "data": {
      "text/html": [
       "<div>\n",
       "<style scoped>\n",
       "    .dataframe tbody tr th:only-of-type {\n",
       "        vertical-align: middle;\n",
       "    }\n",
       "\n",
       "    .dataframe tbody tr th {\n",
       "        vertical-align: top;\n",
       "    }\n",
       "\n",
       "    .dataframe thead th {\n",
       "        text-align: right;\n",
       "    }\n",
       "</style>\n",
       "<table border=\"1\" class=\"dataframe\">\n",
       "  <thead>\n",
       "    <tr style=\"text-align: right;\">\n",
       "      <th></th>\n",
       "      <th>Product</th>\n",
       "      <th>Price</th>\n",
       "      <th>Stock</th>\n",
       "    </tr>\n",
       "  </thead>\n",
       "  <tbody>\n",
       "    <tr>\n",
       "      <th>0</th>\n",
       "      <td>A</td>\n",
       "      <td>100</td>\n",
       "      <td>50</td>\n",
       "    </tr>\n",
       "    <tr>\n",
       "      <th>1</th>\n",
       "      <td>B</td>\n",
       "      <td>150</td>\n",
       "      <td>60</td>\n",
       "    </tr>\n",
       "  </tbody>\n",
       "</table>\n",
       "</div>"
      ],
      "text/plain": [
       "  Product  Price  Stock\n",
       "0       A    100     50\n",
       "1       B    150     60"
      ]
     },
     "execution_count": 14,
     "metadata": {},
     "output_type": "execute_result"
    }
   ],
   "source": [
    "# Accessing multiple rows by position\n",
    "df.iloc[0:2]  "
   ]
  },
  {
   "cell_type": "code",
   "execution_count": 15,
   "id": "dea66582",
   "metadata": {},
   "outputs": [
    {
     "data": {
      "text/html": [
       "<div>\n",
       "<style scoped>\n",
       "    .dataframe tbody tr th:only-of-type {\n",
       "        vertical-align: middle;\n",
       "    }\n",
       "\n",
       "    .dataframe tbody tr th {\n",
       "        vertical-align: top;\n",
       "    }\n",
       "\n",
       "    .dataframe thead th {\n",
       "        text-align: right;\n",
       "    }\n",
       "</style>\n",
       "<table border=\"1\" class=\"dataframe\">\n",
       "  <thead>\n",
       "    <tr style=\"text-align: right;\">\n",
       "      <th></th>\n",
       "      <th>Product</th>\n",
       "      <th>Price</th>\n",
       "      <th>Stock</th>\n",
       "    </tr>\n",
       "  </thead>\n",
       "  <tbody>\n",
       "    <tr>\n",
       "      <th>1</th>\n",
       "      <td>B</td>\n",
       "      <td>150</td>\n",
       "      <td>60</td>\n",
       "    </tr>\n",
       "    <tr>\n",
       "      <th>3</th>\n",
       "      <td>D</td>\n",
       "      <td>250</td>\n",
       "      <td>80</td>\n",
       "    </tr>\n",
       "  </tbody>\n",
       "</table>\n",
       "</div>"
      ],
      "text/plain": [
       "  Product  Price  Stock\n",
       "1       B    150     60\n",
       "3       D    250     80"
      ]
     },
     "execution_count": 15,
     "metadata": {},
     "output_type": "execute_result"
    }
   ],
   "source": [
    "# Accessing multiple rows by list\n",
    "indeces = [1,3]\n",
    "df.loc[indeces]"
   ]
  },
  {
   "cell_type": "markdown",
   "id": "d5867de4",
   "metadata": {
    "slideshow": {
     "slide_type": "slide"
    }
   },
   "source": [
    "### 1.3 Editing a `DataFrame`"
   ]
  },
  {
   "cell_type": "markdown",
   "id": "e188b184",
   "metadata": {
    "slideshow": {
     "slide_type": "slide"
    }
   },
   "source": [
    "`DataFrames` are live objects which allow for adding, deleting or modifying data (columns or rows) on the fly."
   ]
  },
  {
   "cell_type": "markdown",
   "id": "728ed51c",
   "metadata": {
    "slideshow": {
     "slide_type": "slide"
    }
   },
   "source": [
    "###### Initialization"
   ]
  },
  {
   "cell_type": "code",
   "execution_count": 16,
   "id": "e511dd22",
   "metadata": {},
   "outputs": [],
   "source": [
    "data = {\n",
    "    'Product': ['A', 'B', 'C', 'D'],\n",
    "    'Price': [110, 160, 210, 260],\n",
    "    'Stock': [50, 60, 70, 80],\n",
    "}\n",
    "df = pd.DataFrame(data)"
   ]
  },
  {
   "cell_type": "markdown",
   "id": "54e729b7",
   "metadata": {
    "slideshow": {
     "slide_type": "slide"
    }
   },
   "source": [
    "#### Editing columns"
   ]
  },
  {
   "cell_type": "markdown",
   "id": "12e16b26",
   "metadata": {},
   "source": [
    "- Adding\n",
    "- Modifying\n",
    "- Deleting"
   ]
  },
  {
   "cell_type": "markdown",
   "id": "b003802d",
   "metadata": {
    "slideshow": {
     "slide_type": "slide"
    }
   },
   "source": [
    "##### Adding columns"
   ]
  },
  {
   "cell_type": "markdown",
   "id": "320ac582",
   "metadata": {},
   "source": [
    "- **Internal product**"
   ]
  },
  {
   "cell_type": "code",
   "execution_count": 24,
   "id": "12be7f79",
   "metadata": {},
   "outputs": [
    {
     "name": "stdout",
     "output_type": "stream",
     "text": [
      "  Product  Price  Stock  Discounted_Price   Tax   Supplier\n",
      "0       A    120     50              99.0  10.5  Supplier1\n",
      "1       B    170     60             144.0  15.0  Supplier2\n",
      "2       C    220     70             189.0  19.5  Supplier3\n",
      "3       D    270     80             234.0  24.0  Supplier4\n",
      "  Product  Price  Stock  Discounted_Price   Tax   Supplier\n",
      "0       A    120     50             108.0  10.5  Supplier1\n",
      "1       B    170     60             153.0  15.0  Supplier2\n",
      "2       C    220     70             198.0  19.5  Supplier3\n",
      "3       D    270     80             243.0  24.0  Supplier4\n"
     ]
    }
   ],
   "source": [
    "# Adding a new column\n",
    "print(df)\n",
    "df['Discounted_Price'] = df['Price'] * 0.9\n",
    "print(df)"
   ]
  },
  {
   "cell_type": "markdown",
   "id": "d514985b",
   "metadata": {
    "slideshow": {
     "slide_type": "-"
    }
   },
   "source": [
    "- **from `list`**\n",
    "    - The length of the list should match the number of rows in the `DataFrame`."
   ]
  },
  {
   "cell_type": "code",
   "execution_count": 19,
   "id": "a672b321",
   "metadata": {},
   "outputs": [
    {
     "name": "stdout",
     "output_type": "stream",
     "text": [
      "  Product  Price  Stock  Discounted_Price   Tax\n",
      "0       A    110     50              99.0  10.5\n",
      "1       B    160     60             144.0  15.0\n",
      "2       C    210     70             189.0  19.5\n",
      "3       D    260     80             234.0  24.0\n"
     ]
    }
   ],
   "source": [
    "# Adding a new column 'Tax' using a list\n",
    "df['Tax'] = [10.5, 15.0, 19.5, 24.0]\n",
    "print(df)"
   ]
  },
  {
   "cell_type": "code",
   "execution_count": 20,
   "id": "47599c38",
   "metadata": {},
   "outputs": [
    {
     "name": "stdout",
     "output_type": "stream",
     "text": [
      "0    10.5\n",
      "1    15.0\n",
      "2    19.5\n",
      "3    24.0\n",
      "Name: Tax, dtype: float64\n"
     ]
    }
   ],
   "source": [
    "# Displaying the 'Tax' column\n",
    "print(df['Tax'])"
   ]
  },
  {
   "cell_type": "markdown",
   "id": "85b0c609",
   "metadata": {
    "slideshow": {
     "slide_type": "-"
    }
   },
   "source": [
    "- **from `DataFrame`**\n",
    "    - Indices must match between the original `DataFrame` and the new column."
   ]
  },
  {
   "cell_type": "code",
   "execution_count": 21,
   "id": "2c2d6d47",
   "metadata": {},
   "outputs": [
    {
     "name": "stdout",
     "output_type": "stream",
     "text": [
      "  Product  Price  Stock  Discounted_Price   Tax   Supplier\n",
      "0       A    110     50              99.0  10.5  Supplier1\n",
      "1       B    160     60             144.0  15.0  Supplier2\n",
      "2       C    210     70             189.0  19.5  Supplier3\n",
      "3       D    260     80             234.0  24.0  Supplier4\n"
     ]
    }
   ],
   "source": [
    "# Adding a new column 'Supplier' based on another DataFrame\n",
    "df['Supplier'] = pd.DataFrame(['Supplier1', 'Supplier2', 'Supplier3', 'Supplier4'], \n",
    "                              index=[0, 1, 2, 3])\n",
    "print(df)"
   ]
  },
  {
   "cell_type": "markdown",
   "id": "59658f69",
   "metadata": {
    "slideshow": {
     "slide_type": "slide"
    }
   },
   "source": [
    "After enlarging a `DataFrame`, it’s also essential to check the data types of each column to ensure everything is in order."
   ]
  },
  {
   "cell_type": "code",
   "execution_count": 22,
   "id": "876a6a38",
   "metadata": {},
   "outputs": [
    {
     "name": "stdout",
     "output_type": "stream",
     "text": [
      "Product              object\n",
      "Price                 int64\n",
      "Stock                 int64\n",
      "Discounted_Price    float64\n",
      "Tax                 float64\n",
      "Supplier             object\n",
      "dtype: object\n"
     ]
    }
   ],
   "source": [
    "# Checking the data types of the DataFrame columns\n",
    "print(df.dtypes)"
   ]
  },
  {
   "cell_type": "markdown",
   "id": "36702376",
   "metadata": {
    "slideshow": {
     "slide_type": "slide"
    }
   },
   "source": [
    "##### Modifying columns"
   ]
  },
  {
   "cell_type": "code",
   "execution_count": 23,
   "id": "d783baa3",
   "metadata": {},
   "outputs": [
    {
     "name": "stdout",
     "output_type": "stream",
     "text": [
      "  Product  Price  Stock  Discounted_Price   Tax   Supplier\n",
      "0       A    120     50              99.0  10.5  Supplier1\n",
      "1       B    170     60             144.0  15.0  Supplier2\n",
      "2       C    220     70             189.0  19.5  Supplier3\n",
      "3       D    270     80             234.0  24.0  Supplier4\n"
     ]
    }
   ],
   "source": [
    "# Modifying an existing column\n",
    "df['Price'] = df['Price'] + 10\n",
    "print(df)"
   ]
  },
  {
   "cell_type": "markdown",
   "id": "3a967961",
   "metadata": {
    "slideshow": {
     "slide_type": "slide"
    }
   },
   "source": [
    "##### Deleting columns"
   ]
  },
  {
   "cell_type": "markdown",
   "id": "ed7ef8c6",
   "metadata": {},
   "source": [
    "Removing columns can be done using the `.drop()` method."
   ]
  },
  {
   "cell_type": "code",
   "execution_count": 26,
   "id": "03b0a13a",
   "metadata": {},
   "outputs": [
    {
     "data": {
      "text/html": [
       "<div>\n",
       "<style scoped>\n",
       "    .dataframe tbody tr th:only-of-type {\n",
       "        vertical-align: middle;\n",
       "    }\n",
       "\n",
       "    .dataframe tbody tr th {\n",
       "        vertical-align: top;\n",
       "    }\n",
       "\n",
       "    .dataframe thead th {\n",
       "        text-align: right;\n",
       "    }\n",
       "</style>\n",
       "<table border=\"1\" class=\"dataframe\">\n",
       "  <thead>\n",
       "    <tr style=\"text-align: right;\">\n",
       "      <th></th>\n",
       "      <th>Product</th>\n",
       "      <th>Price</th>\n",
       "      <th>Stock</th>\n",
       "      <th>Discounted_Price</th>\n",
       "      <th>Tax</th>\n",
       "      <th>Supplier</th>\n",
       "    </tr>\n",
       "  </thead>\n",
       "  <tbody>\n",
       "    <tr>\n",
       "      <th>0</th>\n",
       "      <td>A</td>\n",
       "      <td>120</td>\n",
       "      <td>50</td>\n",
       "      <td>108.0</td>\n",
       "      <td>10.5</td>\n",
       "      <td>Supplier1</td>\n",
       "    </tr>\n",
       "    <tr>\n",
       "      <th>1</th>\n",
       "      <td>B</td>\n",
       "      <td>170</td>\n",
       "      <td>60</td>\n",
       "      <td>153.0</td>\n",
       "      <td>15.0</td>\n",
       "      <td>Supplier2</td>\n",
       "    </tr>\n",
       "    <tr>\n",
       "      <th>2</th>\n",
       "      <td>C</td>\n",
       "      <td>220</td>\n",
       "      <td>70</td>\n",
       "      <td>198.0</td>\n",
       "      <td>19.5</td>\n",
       "      <td>Supplier3</td>\n",
       "    </tr>\n",
       "    <tr>\n",
       "      <th>3</th>\n",
       "      <td>D</td>\n",
       "      <td>270</td>\n",
       "      <td>80</td>\n",
       "      <td>243.0</td>\n",
       "      <td>24.0</td>\n",
       "      <td>Supplier4</td>\n",
       "    </tr>\n",
       "  </tbody>\n",
       "</table>\n",
       "</div>"
      ],
      "text/plain": [
       "  Product  Price  Stock  Discounted_Price   Tax   Supplier\n",
       "0       A    120     50             108.0  10.5  Supplier1\n",
       "1       B    170     60             153.0  15.0  Supplier2\n",
       "2       C    220     70             198.0  19.5  Supplier3\n",
       "3       D    270     80             243.0  24.0  Supplier4"
      ]
     },
     "execution_count": 26,
     "metadata": {},
     "output_type": "execute_result"
    }
   ],
   "source": [
    "df"
   ]
  },
  {
   "cell_type": "code",
   "execution_count": 27,
   "id": "9aa6992e",
   "metadata": {},
   "outputs": [
    {
     "name": "stdout",
     "output_type": "stream",
     "text": [
      "  Product  Price  Stock   Tax   Supplier\n",
      "0       A    120     50  10.5  Supplier1\n",
      "1       B    170     60  15.0  Supplier2\n",
      "2       C    220     70  19.5  Supplier3\n",
      "3       D    270     80  24.0  Supplier4\n"
     ]
    }
   ],
   "source": [
    "# Dropping the 'Discounted_Price' column\n",
    "df_dropped = df.drop(columns=['Discounted_Price'])\n",
    "print(df_dropped)"
   ]
  },
  {
   "cell_type": "markdown",
   "id": "a417ac86",
   "metadata": {
    "slideshow": {
     "slide_type": "slide"
    }
   },
   "source": [
    "#### Editing rows"
   ]
  },
  {
   "cell_type": "markdown",
   "id": "7022a118",
   "metadata": {},
   "source": [
    "- Adding\n",
    "- Modifying\n",
    "- Deleting"
   ]
  },
  {
   "cell_type": "markdown",
   "id": "bf47d0a4",
   "metadata": {
    "slideshow": {
     "slide_type": "slide"
    }
   },
   "source": [
    "##### Adding rows"
   ]
  },
  {
   "cell_type": "markdown",
   "id": "261c51d2",
   "metadata": {
    "slideshow": {
     "slide_type": "-"
    }
   },
   "source": [
    "- `append()`\n",
    "    - Single row\n",
    "    - However, note that `append()` is deprecated, and should be replaced using `pd.concat()` instead in future `pandas` versions."
   ]
  },
  {
   "cell_type": "code",
   "execution_count": 28,
   "id": "8faa33c4",
   "metadata": {},
   "outputs": [
    {
     "name": "stdout",
     "output_type": "stream",
     "text": [
      "  Product  Price  Stock  Discounted_Price   Tax   Supplier\n",
      "0       A    120     50             108.0  10.5  Supplier1\n",
      "1       B    170     60             153.0  15.0  Supplier2\n",
      "2       C    220     70             198.0  19.5  Supplier3\n",
      "3       D    270     80             243.0  24.0  Supplier4\n",
      "4       E    300     90             270.0  30.0  Supplier5\n"
     ]
    },
    {
     "name": "stderr",
     "output_type": "stream",
     "text": [
      "/var/folders/9m/57jm238n7yvg6p3srhy10dhw0000gn/T/ipykernel_37026/2130640640.py:2: FutureWarning: The frame.append method is deprecated and will be removed from pandas in a future version. Use pandas.concat instead.\n",
      "  df_appended = df.append({'Product': 'E', 'Price': 300, 'Stock': 90,\n"
     ]
    }
   ],
   "source": [
    "# Appending a new row to the DataFrame\n",
    "df_appended = df.append({'Product': 'E', 'Price': 300, 'Stock': 90, \n",
    "                'Discounted_Price': 270.0, 'Tax': 30.0, 'Supplier': 'Supplier5'}, \n",
    "               ignore_index=True)\n",
    "print(df_appended)"
   ]
  },
  {
   "cell_type": "markdown",
   "id": "c29d1bab",
   "metadata": {
    "slideshow": {
     "slide_type": "slide"
    }
   },
   "source": [
    "- `concat()`"
   ]
  },
  {
   "cell_type": "code",
   "execution_count": 29,
   "id": "7c764d26",
   "metadata": {},
   "outputs": [
    {
     "name": "stdout",
     "output_type": "stream",
     "text": [
      "  Product  Price  Stock  Discounted_Price   Tax   Supplier\n",
      "0       A    120     50             108.0  10.5  Supplier1\n",
      "1       B    170     60             153.0  15.0  Supplier2\n",
      "2       C    220     70             198.0  19.5  Supplier3\n",
      "3       D    270     80             243.0  24.0  Supplier4\n",
      "4       E    300     90             270.0  30.0  Supplier5\n"
     ]
    }
   ],
   "source": [
    "# New row as a DataFrame\n",
    "new_row = pd.DataFrame({\n",
    "    'Product': ['E'],\n",
    "    'Price': [300],\n",
    "    'Stock': [90],\n",
    "    'Discounted_Price': [270.0],\n",
    "    'Tax': [30.0],\n",
    "    'Supplier': ['Supplier5']\n",
    "})\n",
    "\n",
    "# Using pd.concat() to append the new row\n",
    "df_concated = pd.concat([df, new_row], ignore_index=True)\n",
    "\n",
    "# Display the updated DataFrame\n",
    "print(df_concated)"
   ]
  },
  {
   "cell_type": "markdown",
   "id": "549d9f99",
   "metadata": {},
   "source": [
    "More on `concat()` in section [6. Concatenation, Join, Merge](#6.-Concatenation,-Join,-Merge) and on below on [indexing](#Indexing)"
   ]
  },
  {
   "cell_type": "markdown",
   "id": "48aaca74",
   "metadata": {
    "slideshow": {
     "slide_type": "slide"
    }
   },
   "source": [
    "##### Modifying rows"
   ]
  },
  {
   "cell_type": "code",
   "execution_count": 30,
   "id": "5c6021f0",
   "metadata": {},
   "outputs": [],
   "source": [
    "# Modifying an existing row\n",
    "df.loc[1, 'Price'] = 180\n",
    "df.loc[1, 'Stock'] = 200"
   ]
  },
  {
   "cell_type": "code",
   "execution_count": 31,
   "id": "3006bd7b",
   "metadata": {},
   "outputs": [
    {
     "name": "stdout",
     "output_type": "stream",
     "text": [
      "  Product  Price  Stock  Discounted_Price   Tax   Supplier\n",
      "0       A    120     50             108.0  10.5  Supplier1\n",
      "1       B    180    200             153.0  15.0  Supplier2\n",
      "2       C    220     70             198.0  19.5  Supplier3\n",
      "3       D    270     80             243.0  24.0  Supplier4\n"
     ]
    }
   ],
   "source": [
    "print(df)"
   ]
  },
  {
   "cell_type": "markdown",
   "id": "64e14666",
   "metadata": {
    "slideshow": {
     "slide_type": "slide"
    }
   },
   "source": [
    "##### Deleting rows"
   ]
  },
  {
   "cell_type": "markdown",
   "id": "64b858e3",
   "metadata": {},
   "source": [
    "- Rows can be removed from a DataFrame using the `.drop()` method either by index or by condition."
   ]
  },
  {
   "cell_type": "code",
   "execution_count": 32,
   "id": "e53b8c38",
   "metadata": {},
   "outputs": [
    {
     "name": "stdout",
     "output_type": "stream",
     "text": [
      "  Product  Price  Stock  Discounted_Price   Tax   Supplier\n",
      "0       A    120     50             108.0  10.5  Supplier1\n",
      "1       B    180    200             153.0  15.0  Supplier2\n",
      "3       D    270     80             243.0  24.0  Supplier4\n"
     ]
    }
   ],
   "source": [
    "# Dropping a row by index\n",
    "df_dropped = df.drop(index=2)  # Dropping the row with index 2 (Product C)\n",
    "print(df_dropped)"
   ]
  },
  {
   "cell_type": "code",
   "execution_count": 33,
   "id": "1f799be7",
   "metadata": {},
   "outputs": [
    {
     "data": {
      "text/plain": [
       "0     True\n",
       "1    False\n",
       "2     True\n",
       "3     True\n",
       "Name: Stock, dtype: bool"
      ]
     },
     "execution_count": 33,
     "metadata": {},
     "output_type": "execute_result"
    }
   ],
   "source": [
    "df['Stock'] <= 80"
   ]
  },
  {
   "cell_type": "code",
   "execution_count": 37,
   "id": "9fe561e1",
   "metadata": {},
   "outputs": [
    {
     "data": {
      "text/html": [
       "<div>\n",
       "<style scoped>\n",
       "    .dataframe tbody tr th:only-of-type {\n",
       "        vertical-align: middle;\n",
       "    }\n",
       "\n",
       "    .dataframe tbody tr th {\n",
       "        vertical-align: top;\n",
       "    }\n",
       "\n",
       "    .dataframe thead th {\n",
       "        text-align: right;\n",
       "    }\n",
       "</style>\n",
       "<table border=\"1\" class=\"dataframe\">\n",
       "  <thead>\n",
       "    <tr style=\"text-align: right;\">\n",
       "      <th></th>\n",
       "      <th>Product</th>\n",
       "      <th>Price</th>\n",
       "      <th>Stock</th>\n",
       "      <th>Discounted_Price</th>\n",
       "      <th>Tax</th>\n",
       "      <th>Supplier</th>\n",
       "    </tr>\n",
       "  </thead>\n",
       "  <tbody>\n",
       "    <tr>\n",
       "      <th>0</th>\n",
       "      <td>A</td>\n",
       "      <td>120</td>\n",
       "      <td>50</td>\n",
       "      <td>108.0</td>\n",
       "      <td>10.5</td>\n",
       "      <td>Supplier1</td>\n",
       "    </tr>\n",
       "    <tr>\n",
       "      <th>2</th>\n",
       "      <td>C</td>\n",
       "      <td>220</td>\n",
       "      <td>70</td>\n",
       "      <td>198.0</td>\n",
       "      <td>19.5</td>\n",
       "      <td>Supplier3</td>\n",
       "    </tr>\n",
       "    <tr>\n",
       "      <th>3</th>\n",
       "      <td>D</td>\n",
       "      <td>270</td>\n",
       "      <td>80</td>\n",
       "      <td>243.0</td>\n",
       "      <td>24.0</td>\n",
       "      <td>Supplier4</td>\n",
       "    </tr>\n",
       "  </tbody>\n",
       "</table>\n",
       "</div>"
      ],
      "text/plain": [
       "  Product  Price  Stock  Discounted_Price   Tax   Supplier\n",
       "0       A    120     50             108.0  10.5  Supplier1\n",
       "2       C    220     70             198.0  19.5  Supplier3\n",
       "3       D    270     80             243.0  24.0  Supplier4"
      ]
     },
     "execution_count": 37,
     "metadata": {},
     "output_type": "execute_result"
    }
   ],
   "source": [
    "df[df['Stock']<=80]"
   ]
  },
  {
   "cell_type": "code",
   "execution_count": null,
   "id": "f716617d",
   "metadata": {},
   "outputs": [],
   "source": [
    "# Dropping rows where Stock is greater than 80\n",
    "df_dropped = df[df['Stock'] <= 80]\n",
    "print(df_dropped)"
   ]
  },
  {
   "cell_type": "markdown",
   "id": "7b074b05",
   "metadata": {
    "slideshow": {
     "slide_type": "slide"
    }
   },
   "source": [
    "#### Indexing "
   ]
  },
  {
   "cell_type": "markdown",
   "id": "68a80781",
   "metadata": {},
   "source": [
    "When appending rows to a `DataFrame`, it’s important to pay attention to the treatment of **indices**. "
   ]
  },
  {
   "cell_type": "markdown",
   "id": "a9a899d3",
   "metadata": {
    "slideshow": {
     "slide_type": "slide"
    }
   },
   "source": [
    "- **Indexing with `concat()`**\n",
    "    - When concatenating two or more `DataFrames`, the default behavior is to **retain the original index** of the `DataFrames`, which can lead to duplicate indices. \n",
    "    - The `ignore_index=True` parameter resets the index for the concatenated `DataFrame` to ensure a continuous sequence."
   ]
  },
  {
   "cell_type": "code",
   "execution_count": 38,
   "id": "86e12581",
   "metadata": {},
   "outputs": [],
   "source": [
    "# New DataFrame to concatenate\n",
    "df_new = pd.DataFrame({\n",
    "    'Product': ['F', 'G'],\n",
    "    'Price': [350, 400],\n",
    "    'Stock': [95, 100],\n",
    "    'Discounted_Price': [315.0, 360.0],\n",
    "    'Tax': [35.0, 40.0],\n",
    "    'Supplier': ['Supplier6', 'Supplier7']\n",
    "})"
   ]
  },
  {
   "cell_type": "code",
   "execution_count": 44,
   "id": "ee99a512",
   "metadata": {},
   "outputs": [
    {
     "data": {
      "text/plain": [
       "Product                     A\n",
       "Price                     120\n",
       "Stock                      50\n",
       "Discounted_Price        108.0\n",
       "Tax                      10.5\n",
       "Supplier            Supplier1\n",
       "Name: 0, dtype: object"
      ]
     },
     "execution_count": 44,
     "metadata": {},
     "output_type": "execute_result"
    }
   ],
   "source": [
    "df_concat_reset.loc[0]"
   ]
  },
  {
   "cell_type": "code",
   "execution_count": 39,
   "id": "013a396f",
   "metadata": {},
   "outputs": [
    {
     "name": "stdout",
     "output_type": "stream",
     "text": [
      "  Product  Price  Stock  Discounted_Price   Tax   Supplier\n",
      "0       A    120     50             108.0  10.5  Supplier1\n",
      "1       B    180    200             153.0  15.0  Supplier2\n",
      "2       C    220     70             198.0  19.5  Supplier3\n",
      "3       D    270     80             243.0  24.0  Supplier4\n",
      "0       F    350     95             315.0  35.0  Supplier6\n",
      "1       G    400    100             360.0  40.0  Supplier7\n"
     ]
    }
   ],
   "source": [
    "# Concatenating the two DataFrames without resetting the index\n",
    "df_concat = pd.concat([df, df_new])\n",
    "print(df_concat)"
   ]
  },
  {
   "cell_type": "code",
   "execution_count": 40,
   "id": "5d6f03b1",
   "metadata": {},
   "outputs": [
    {
     "name": "stdout",
     "output_type": "stream",
     "text": [
      "  Product  Price  Stock  Discounted_Price   Tax   Supplier\n",
      "0       A    120     50             108.0  10.5  Supplier1\n",
      "1       B    180    200             153.0  15.0  Supplier2\n",
      "2       C    220     70             198.0  19.5  Supplier3\n",
      "3       D    270     80             243.0  24.0  Supplier4\n",
      "4       F    350     95             315.0  35.0  Supplier6\n",
      "5       G    400    100             360.0  40.0  Supplier7\n"
     ]
    }
   ],
   "source": [
    "# Concatenating with index reset\n",
    "df_concat_reset = pd.concat([df, df_new], ignore_index=True)\n",
    "print(df_concat_reset)"
   ]
  },
  {
   "cell_type": "markdown",
   "id": "ee40f889",
   "metadata": {
    "slideshow": {
     "slide_type": "slide"
    }
   },
   "source": [
    "- **Indexing with `append()`**\n",
    "    - When appending, the new row needs to adopt the next available index by default (`ignore_index = True`), else does not proceed."
   ]
  },
  {
   "cell_type": "code",
   "execution_count": null,
   "id": "5676c80b",
   "metadata": {},
   "outputs": [],
   "source": [
    "# Appending a single row with a new product using append()\n",
    "new_row = {\n",
    "    'Product': 'H', \n",
    "    'Price': 450, \n",
    "    'Stock': 105, \n",
    "    'Price_Squared': 202500, \n",
    "    'Discounted_Price': 405.0, \n",
    "    'Tax': 45.0, \n",
    "    'Supplier': 'Supplier8'\n",
    "}\n",
    "\n",
    "df_appended = df.append(new_row, ignore_index = True)\n",
    "\n",
    "print(df_appended)"
   ]
  },
  {
   "cell_type": "markdown",
   "id": "9506cf90",
   "metadata": {
    "slideshow": {
     "slide_type": "slide"
    }
   },
   "source": [
    "### 1.4 Handling missing data"
   ]
  },
  {
   "cell_type": "markdown",
   "id": "ab98c404",
   "metadata": {
    "slideshow": {
     "slide_type": "slide"
    }
   },
   "source": [
    "Missing data is common in real-world datasets, and `pandas` provides tools to handle them."
   ]
  },
  {
   "cell_type": "code",
   "execution_count": 45,
   "id": "43ee4cfb",
   "metadata": {},
   "outputs": [
    {
     "data": {
      "text/html": [
       "<div>\n",
       "<style scoped>\n",
       "    .dataframe tbody tr th:only-of-type {\n",
       "        vertical-align: middle;\n",
       "    }\n",
       "\n",
       "    .dataframe tbody tr th {\n",
       "        vertical-align: top;\n",
       "    }\n",
       "\n",
       "    .dataframe thead th {\n",
       "        text-align: right;\n",
       "    }\n",
       "</style>\n",
       "<table border=\"1\" class=\"dataframe\">\n",
       "  <thead>\n",
       "    <tr style=\"text-align: right;\">\n",
       "      <th></th>\n",
       "      <th>Product</th>\n",
       "      <th>Price</th>\n",
       "      <th>Stock</th>\n",
       "      <th>Discounted_Price</th>\n",
       "      <th>Tax</th>\n",
       "      <th>Supplier</th>\n",
       "    </tr>\n",
       "  </thead>\n",
       "  <tbody>\n",
       "    <tr>\n",
       "      <th>0</th>\n",
       "      <td>A</td>\n",
       "      <td>120</td>\n",
       "      <td>50</td>\n",
       "      <td>108.0</td>\n",
       "      <td>10.5</td>\n",
       "      <td>Supplier1</td>\n",
       "    </tr>\n",
       "    <tr>\n",
       "      <th>1</th>\n",
       "      <td>B</td>\n",
       "      <td>180</td>\n",
       "      <td>200</td>\n",
       "      <td>153.0</td>\n",
       "      <td>15.0</td>\n",
       "      <td>Supplier2</td>\n",
       "    </tr>\n",
       "    <tr>\n",
       "      <th>2</th>\n",
       "      <td>C</td>\n",
       "      <td>220</td>\n",
       "      <td>70</td>\n",
       "      <td>198.0</td>\n",
       "      <td>19.5</td>\n",
       "      <td>Supplier3</td>\n",
       "    </tr>\n",
       "    <tr>\n",
       "      <th>3</th>\n",
       "      <td>D</td>\n",
       "      <td>270</td>\n",
       "      <td>80</td>\n",
       "      <td>243.0</td>\n",
       "      <td>24.0</td>\n",
       "      <td>Supplier4</td>\n",
       "    </tr>\n",
       "  </tbody>\n",
       "</table>\n",
       "</div>"
      ],
      "text/plain": [
       "  Product  Price  Stock  Discounted_Price   Tax   Supplier\n",
       "0       A    120     50             108.0  10.5  Supplier1\n",
       "1       B    180    200             153.0  15.0  Supplier2\n",
       "2       C    220     70             198.0  19.5  Supplier3\n",
       "3       D    270     80             243.0  24.0  Supplier4"
      ]
     },
     "execution_count": 45,
     "metadata": {},
     "output_type": "execute_result"
    }
   ],
   "source": [
    "df"
   ]
  },
  {
   "cell_type": "code",
   "execution_count": 46,
   "id": "cb1a6a4c",
   "metadata": {},
   "outputs": [],
   "source": [
    "# Adding missing values (NaN) to some cells\n",
    "df.loc[1, 'Price'] = np.nan  # Missing price for product B\n",
    "df.loc[2, 'Discounted_Price'] = np.nan  # Missing discounted price for product C\n",
    "df.loc[3, 'Stock'] = np.nan  # Missing stock for product D"
   ]
  },
  {
   "cell_type": "code",
   "execution_count": 48,
   "id": "61ed4f83",
   "metadata": {},
   "outputs": [
    {
     "data": {
      "text/html": [
       "<div>\n",
       "<style scoped>\n",
       "    .dataframe tbody tr th:only-of-type {\n",
       "        vertical-align: middle;\n",
       "    }\n",
       "\n",
       "    .dataframe tbody tr th {\n",
       "        vertical-align: top;\n",
       "    }\n",
       "\n",
       "    .dataframe thead th {\n",
       "        text-align: right;\n",
       "    }\n",
       "</style>\n",
       "<table border=\"1\" class=\"dataframe\">\n",
       "  <thead>\n",
       "    <tr style=\"text-align: right;\">\n",
       "      <th></th>\n",
       "      <th>Product</th>\n",
       "      <th>Price</th>\n",
       "      <th>Stock</th>\n",
       "      <th>Discounted_Price</th>\n",
       "      <th>Tax</th>\n",
       "      <th>Supplier</th>\n",
       "    </tr>\n",
       "  </thead>\n",
       "  <tbody>\n",
       "    <tr>\n",
       "      <th>0</th>\n",
       "      <td>A</td>\n",
       "      <td>120.0</td>\n",
       "      <td>50.0</td>\n",
       "      <td>108.0</td>\n",
       "      <td>10.5</td>\n",
       "      <td>Supplier1</td>\n",
       "    </tr>\n",
       "    <tr>\n",
       "      <th>1</th>\n",
       "      <td>B</td>\n",
       "      <td>NaN</td>\n",
       "      <td>200.0</td>\n",
       "      <td>153.0</td>\n",
       "      <td>15.0</td>\n",
       "      <td>Supplier2</td>\n",
       "    </tr>\n",
       "    <tr>\n",
       "      <th>2</th>\n",
       "      <td>C</td>\n",
       "      <td>220.0</td>\n",
       "      <td>70.0</td>\n",
       "      <td>NaN</td>\n",
       "      <td>19.5</td>\n",
       "      <td>Supplier3</td>\n",
       "    </tr>\n",
       "    <tr>\n",
       "      <th>3</th>\n",
       "      <td>D</td>\n",
       "      <td>270.0</td>\n",
       "      <td>NaN</td>\n",
       "      <td>243.0</td>\n",
       "      <td>24.0</td>\n",
       "      <td>Supplier4</td>\n",
       "    </tr>\n",
       "  </tbody>\n",
       "</table>\n",
       "</div>"
      ],
      "text/plain": [
       "  Product  Price  Stock  Discounted_Price   Tax   Supplier\n",
       "0       A  120.0   50.0             108.0  10.5  Supplier1\n",
       "1       B    NaN  200.0             153.0  15.0  Supplier2\n",
       "2       C  220.0   70.0               NaN  19.5  Supplier3\n",
       "3       D  270.0    NaN             243.0  24.0  Supplier4"
      ]
     },
     "execution_count": 48,
     "metadata": {},
     "output_type": "execute_result"
    }
   ],
   "source": [
    "df"
   ]
  },
  {
   "cell_type": "markdown",
   "id": "42563c81",
   "metadata": {
    "slideshow": {
     "slide_type": "slide"
    }
   },
   "source": [
    "- **`df.isna()`:** Detects missing values"
   ]
  },
  {
   "cell_type": "code",
   "execution_count": 49,
   "id": "567abc55",
   "metadata": {},
   "outputs": [
    {
     "data": {
      "text/html": [
       "<div>\n",
       "<style scoped>\n",
       "    .dataframe tbody tr th:only-of-type {\n",
       "        vertical-align: middle;\n",
       "    }\n",
       "\n",
       "    .dataframe tbody tr th {\n",
       "        vertical-align: top;\n",
       "    }\n",
       "\n",
       "    .dataframe thead th {\n",
       "        text-align: right;\n",
       "    }\n",
       "</style>\n",
       "<table border=\"1\" class=\"dataframe\">\n",
       "  <thead>\n",
       "    <tr style=\"text-align: right;\">\n",
       "      <th></th>\n",
       "      <th>Product</th>\n",
       "      <th>Price</th>\n",
       "      <th>Stock</th>\n",
       "      <th>Discounted_Price</th>\n",
       "      <th>Tax</th>\n",
       "      <th>Supplier</th>\n",
       "    </tr>\n",
       "  </thead>\n",
       "  <tbody>\n",
       "    <tr>\n",
       "      <th>0</th>\n",
       "      <td>False</td>\n",
       "      <td>False</td>\n",
       "      <td>False</td>\n",
       "      <td>False</td>\n",
       "      <td>False</td>\n",
       "      <td>False</td>\n",
       "    </tr>\n",
       "    <tr>\n",
       "      <th>1</th>\n",
       "      <td>False</td>\n",
       "      <td>True</td>\n",
       "      <td>False</td>\n",
       "      <td>False</td>\n",
       "      <td>False</td>\n",
       "      <td>False</td>\n",
       "    </tr>\n",
       "    <tr>\n",
       "      <th>2</th>\n",
       "      <td>False</td>\n",
       "      <td>False</td>\n",
       "      <td>False</td>\n",
       "      <td>True</td>\n",
       "      <td>False</td>\n",
       "      <td>False</td>\n",
       "    </tr>\n",
       "    <tr>\n",
       "      <th>3</th>\n",
       "      <td>False</td>\n",
       "      <td>False</td>\n",
       "      <td>True</td>\n",
       "      <td>False</td>\n",
       "      <td>False</td>\n",
       "      <td>False</td>\n",
       "    </tr>\n",
       "  </tbody>\n",
       "</table>\n",
       "</div>"
      ],
      "text/plain": [
       "   Product  Price  Stock  Discounted_Price    Tax  Supplier\n",
       "0    False  False  False             False  False     False\n",
       "1    False   True  False             False  False     False\n",
       "2    False  False  False              True  False     False\n",
       "3    False  False   True             False  False     False"
      ]
     },
     "execution_count": 49,
     "metadata": {},
     "output_type": "execute_result"
    }
   ],
   "source": [
    "df.isna()"
   ]
  },
  {
   "cell_type": "markdown",
   "id": "d0177e8b",
   "metadata": {},
   "source": [
    "- **`df.fillna(a)`:** Fils missing values with a default"
   ]
  },
  {
   "cell_type": "code",
   "execution_count": 57,
   "id": "60513e4f",
   "metadata": {},
   "outputs": [],
   "source": [
    "df_fillna = df.fillna(0)"
   ]
  },
  {
   "cell_type": "markdown",
   "id": "c7a89f50",
   "metadata": {},
   "source": [
    "- **`df.dropna()`**: Drops rows with missing values"
   ]
  },
  {
   "cell_type": "code",
   "execution_count": 51,
   "id": "a49cf633",
   "metadata": {},
   "outputs": [
    {
     "data": {
      "text/html": [
       "<div>\n",
       "<style scoped>\n",
       "    .dataframe tbody tr th:only-of-type {\n",
       "        vertical-align: middle;\n",
       "    }\n",
       "\n",
       "    .dataframe tbody tr th {\n",
       "        vertical-align: top;\n",
       "    }\n",
       "\n",
       "    .dataframe thead th {\n",
       "        text-align: right;\n",
       "    }\n",
       "</style>\n",
       "<table border=\"1\" class=\"dataframe\">\n",
       "  <thead>\n",
       "    <tr style=\"text-align: right;\">\n",
       "      <th></th>\n",
       "      <th>Product</th>\n",
       "      <th>Price</th>\n",
       "      <th>Stock</th>\n",
       "      <th>Discounted_Price</th>\n",
       "      <th>Tax</th>\n",
       "      <th>Supplier</th>\n",
       "    </tr>\n",
       "  </thead>\n",
       "  <tbody>\n",
       "    <tr>\n",
       "      <th>0</th>\n",
       "      <td>A</td>\n",
       "      <td>120.0</td>\n",
       "      <td>50.0</td>\n",
       "      <td>108.0</td>\n",
       "      <td>10.5</td>\n",
       "      <td>Supplier1</td>\n",
       "    </tr>\n",
       "  </tbody>\n",
       "</table>\n",
       "</div>"
      ],
      "text/plain": [
       "  Product  Price  Stock  Discounted_Price   Tax   Supplier\n",
       "0       A  120.0   50.0             108.0  10.5  Supplier1"
      ]
     },
     "execution_count": 51,
     "metadata": {},
     "output_type": "execute_result"
    }
   ],
   "source": [
    "df.dropna()"
   ]
  },
  {
   "cell_type": "markdown",
   "id": "c135c73e",
   "metadata": {
    "slideshow": {
     "slide_type": "slide"
    }
   },
   "source": [
    "#### Operations with missing data"
   ]
  },
  {
   "cell_type": "markdown",
   "id": "05f3ff53",
   "metadata": {},
   "source": [
    "`Pandas` method calls handle missing data"
   ]
  },
  {
   "cell_type": "code",
   "execution_count": 58,
   "id": "3cf1a336",
   "metadata": {},
   "outputs": [
    {
     "data": {
      "text/plain": [
       "Price    152.5\n",
       "Stock     80.0\n",
       "dtype: float64"
      ]
     },
     "execution_count": 58,
     "metadata": {},
     "output_type": "execute_result"
    }
   ],
   "source": [
    "df_fillna[['Price', 'Stock']].mean()"
   ]
  },
  {
   "cell_type": "code",
   "execution_count": 59,
   "id": "8600b748",
   "metadata": {},
   "outputs": [
    {
     "data": {
      "text/plain": [
       "Price    203.333333\n",
       "Stock    106.666667\n",
       "dtype: float64"
      ]
     },
     "execution_count": 59,
     "metadata": {},
     "output_type": "execute_result"
    }
   ],
   "source": [
    "df[['Price', 'Stock']].mean()"
   ]
  },
  {
   "cell_type": "code",
   "execution_count": 53,
   "id": "d89dee33",
   "metadata": {},
   "outputs": [
    {
     "data": {
      "text/plain": [
       "Price    76.376262\n",
       "Stock    81.445278\n",
       "dtype: float64"
      ]
     },
     "execution_count": 53,
     "metadata": {},
     "output_type": "execute_result"
    }
   ],
   "source": [
    "df[['Price', 'Stock']].std()"
   ]
  },
  {
   "cell_type": "markdown",
   "id": "0edd6805",
   "metadata": {
    "slideshow": {
     "slide_type": "slide"
    }
   },
   "source": [
    "### 1.5 Sorting Data"
   ]
  },
  {
   "cell_type": "markdown",
   "id": "07d7f393",
   "metadata": {
    "slideshow": {
     "slide_type": "slide"
    }
   },
   "source": [
    "`DataFrame` can be sorted based on any column using the `.sort_values()` method."
   ]
  },
  {
   "cell_type": "code",
   "execution_count": 54,
   "id": "a70fb101",
   "metadata": {},
   "outputs": [],
   "source": [
    "# Sorting by 'Price' in ascending order\n",
    "df_sorted = df.sort_values(by='Price')"
   ]
  },
  {
   "cell_type": "code",
   "execution_count": 55,
   "id": "c4e01837",
   "metadata": {},
   "outputs": [
    {
     "name": "stdout",
     "output_type": "stream",
     "text": [
      "  Product  Price  Stock  Discounted_Price   Tax   Supplier\n",
      "0       A  120.0   50.0             108.0  10.5  Supplier1\n",
      "2       C  220.0   70.0               NaN  19.5  Supplier3\n",
      "3       D  270.0    NaN             243.0  24.0  Supplier4\n",
      "1       B    NaN  200.0             153.0  15.0  Supplier2\n"
     ]
    }
   ],
   "source": [
    "print (df_sorted)"
   ]
  },
  {
   "cell_type": "code",
   "execution_count": 61,
   "id": "3337ed7e",
   "metadata": {},
   "outputs": [],
   "source": [
    "# Sorting by sequence of multiple columns: first stock, than price\n",
    "df.loc[3,'Stock'] = df.loc[2,'Stock']"
   ]
  },
  {
   "cell_type": "code",
   "execution_count": 62,
   "id": "283da0dc",
   "metadata": {},
   "outputs": [
    {
     "data": {
      "text/html": [
       "<div>\n",
       "<style scoped>\n",
       "    .dataframe tbody tr th:only-of-type {\n",
       "        vertical-align: middle;\n",
       "    }\n",
       "\n",
       "    .dataframe tbody tr th {\n",
       "        vertical-align: top;\n",
       "    }\n",
       "\n",
       "    .dataframe thead th {\n",
       "        text-align: right;\n",
       "    }\n",
       "</style>\n",
       "<table border=\"1\" class=\"dataframe\">\n",
       "  <thead>\n",
       "    <tr style=\"text-align: right;\">\n",
       "      <th></th>\n",
       "      <th>Product</th>\n",
       "      <th>Price</th>\n",
       "      <th>Stock</th>\n",
       "      <th>Discounted_Price</th>\n",
       "      <th>Tax</th>\n",
       "      <th>Supplier</th>\n",
       "    </tr>\n",
       "  </thead>\n",
       "  <tbody>\n",
       "    <tr>\n",
       "      <th>0</th>\n",
       "      <td>A</td>\n",
       "      <td>120.0</td>\n",
       "      <td>50.0</td>\n",
       "      <td>108.0</td>\n",
       "      <td>10.5</td>\n",
       "      <td>Supplier1</td>\n",
       "    </tr>\n",
       "    <tr>\n",
       "      <th>1</th>\n",
       "      <td>B</td>\n",
       "      <td>NaN</td>\n",
       "      <td>200.0</td>\n",
       "      <td>153.0</td>\n",
       "      <td>15.0</td>\n",
       "      <td>Supplier2</td>\n",
       "    </tr>\n",
       "    <tr>\n",
       "      <th>2</th>\n",
       "      <td>C</td>\n",
       "      <td>220.0</td>\n",
       "      <td>70.0</td>\n",
       "      <td>NaN</td>\n",
       "      <td>19.5</td>\n",
       "      <td>Supplier3</td>\n",
       "    </tr>\n",
       "    <tr>\n",
       "      <th>3</th>\n",
       "      <td>D</td>\n",
       "      <td>270.0</td>\n",
       "      <td>70.0</td>\n",
       "      <td>243.0</td>\n",
       "      <td>24.0</td>\n",
       "      <td>Supplier4</td>\n",
       "    </tr>\n",
       "  </tbody>\n",
       "</table>\n",
       "</div>"
      ],
      "text/plain": [
       "  Product  Price  Stock  Discounted_Price   Tax   Supplier\n",
       "0       A  120.0   50.0             108.0  10.5  Supplier1\n",
       "1       B    NaN  200.0             153.0  15.0  Supplier2\n",
       "2       C  220.0   70.0               NaN  19.5  Supplier3\n",
       "3       D  270.0   70.0             243.0  24.0  Supplier4"
      ]
     },
     "execution_count": 62,
     "metadata": {},
     "output_type": "execute_result"
    }
   ],
   "source": [
    "df"
   ]
  },
  {
   "cell_type": "code",
   "execution_count": 63,
   "id": "1fd34b17",
   "metadata": {},
   "outputs": [],
   "source": [
    "df_sorted = df.sort_values(by=['Stock', 'Price'], ascending=[False, True])"
   ]
  },
  {
   "cell_type": "code",
   "execution_count": 65,
   "id": "2e2467e5",
   "metadata": {},
   "outputs": [
    {
     "data": {
      "text/html": [
       "<div>\n",
       "<style scoped>\n",
       "    .dataframe tbody tr th:only-of-type {\n",
       "        vertical-align: middle;\n",
       "    }\n",
       "\n",
       "    .dataframe tbody tr th {\n",
       "        vertical-align: top;\n",
       "    }\n",
       "\n",
       "    .dataframe thead th {\n",
       "        text-align: right;\n",
       "    }\n",
       "</style>\n",
       "<table border=\"1\" class=\"dataframe\">\n",
       "  <thead>\n",
       "    <tr style=\"text-align: right;\">\n",
       "      <th></th>\n",
       "      <th>Product</th>\n",
       "      <th>Price</th>\n",
       "      <th>Stock</th>\n",
       "      <th>Discounted_Price</th>\n",
       "      <th>Tax</th>\n",
       "      <th>Supplier</th>\n",
       "    </tr>\n",
       "  </thead>\n",
       "  <tbody>\n",
       "    <tr>\n",
       "      <th>1</th>\n",
       "      <td>B</td>\n",
       "      <td>NaN</td>\n",
       "      <td>200.0</td>\n",
       "      <td>153.0</td>\n",
       "      <td>15.0</td>\n",
       "      <td>Supplier2</td>\n",
       "    </tr>\n",
       "    <tr>\n",
       "      <th>2</th>\n",
       "      <td>C</td>\n",
       "      <td>220.0</td>\n",
       "      <td>70.0</td>\n",
       "      <td>NaN</td>\n",
       "      <td>19.5</td>\n",
       "      <td>Supplier3</td>\n",
       "    </tr>\n",
       "    <tr>\n",
       "      <th>3</th>\n",
       "      <td>D</td>\n",
       "      <td>270.0</td>\n",
       "      <td>70.0</td>\n",
       "      <td>243.0</td>\n",
       "      <td>24.0</td>\n",
       "      <td>Supplier4</td>\n",
       "    </tr>\n",
       "    <tr>\n",
       "      <th>0</th>\n",
       "      <td>A</td>\n",
       "      <td>120.0</td>\n",
       "      <td>50.0</td>\n",
       "      <td>108.0</td>\n",
       "      <td>10.5</td>\n",
       "      <td>Supplier1</td>\n",
       "    </tr>\n",
       "  </tbody>\n",
       "</table>\n",
       "</div>"
      ],
      "text/plain": [
       "  Product  Price  Stock  Discounted_Price   Tax   Supplier\n",
       "1       B    NaN  200.0             153.0  15.0  Supplier2\n",
       "2       C  220.0   70.0               NaN  19.5  Supplier3\n",
       "3       D  270.0   70.0             243.0  24.0  Supplier4\n",
       "0       A  120.0   50.0             108.0  10.5  Supplier1"
      ]
     },
     "execution_count": 65,
     "metadata": {},
     "output_type": "execute_result"
    }
   ],
   "source": [
    "df_sorted"
   ]
  },
  {
   "cell_type": "markdown",
   "id": "2ba1af5f",
   "metadata": {
    "slideshow": {
     "slide_type": "slide"
    }
   },
   "source": [
    "### 1.6 Libraries integration"
   ]
  },
  {
   "cell_type": "markdown",
   "id": "6240e462",
   "metadata": {
    "slideshow": {
     "slide_type": "slide"
    }
   },
   "source": [
    "`Pandas` integrates the manipulation of objects from other classes such as `numpy` and `datetime` objects."
   ]
  },
  {
   "cell_type": "markdown",
   "id": "fc3a4767",
   "metadata": {
    "slideshow": {
     "slide_type": "slide"
    }
   },
   "source": [
    "- **`NumPy`**"
   ]
  },
  {
   "cell_type": "code",
   "execution_count": 70,
   "id": "e9be72fa",
   "metadata": {},
   "outputs": [
    {
     "data": {
      "text/plain": [
       "array([[-1.74976547,  0.3426804 ,  1.1530358 , -0.25243604],\n",
       "       [ 0.98132079,  0.51421884,  0.22117967, -1.07004333],\n",
       "       [-0.18949583,  0.25500144, -0.45802699,  0.43516349],\n",
       "       [-0.58359505,  0.81684707,  0.67272081, -0.10441114],\n",
       "       [-0.53128038,  1.02973269, -0.43813562, -1.11831825],\n",
       "       [ 1.61898166,  1.54160517, -0.25187914, -0.84243574],\n",
       "       [ 0.18451869,  0.9370822 ,  0.73100034,  1.36155613],\n",
       "       [-0.32623806,  0.05567601,  0.22239961, -1.443217  ],\n",
       "       [-0.75635231,  0.81645401,  0.75044476, -0.45594693]])"
      ]
     },
     "execution_count": 70,
     "metadata": {},
     "output_type": "execute_result"
    }
   ],
   "source": [
    "import numpy as np\n",
    "np.random.seed(100)\n",
    "a = np.random.standard_normal((9,4))\n",
    "a"
   ]
  },
  {
   "cell_type": "code",
   "execution_count": 67,
   "id": "f2d71767",
   "metadata": {},
   "outputs": [
    {
     "data": {
      "text/html": [
       "<div>\n",
       "<style scoped>\n",
       "    .dataframe tbody tr th:only-of-type {\n",
       "        vertical-align: middle;\n",
       "    }\n",
       "\n",
       "    .dataframe tbody tr th {\n",
       "        vertical-align: top;\n",
       "    }\n",
       "\n",
       "    .dataframe thead th {\n",
       "        text-align: right;\n",
       "    }\n",
       "</style>\n",
       "<table border=\"1\" class=\"dataframe\">\n",
       "  <thead>\n",
       "    <tr style=\"text-align: right;\">\n",
       "      <th></th>\n",
       "      <th>No1</th>\n",
       "      <th>No2</th>\n",
       "      <th>No3</th>\n",
       "      <th>No4</th>\n",
       "    </tr>\n",
       "  </thead>\n",
       "  <tbody>\n",
       "    <tr>\n",
       "      <th>0</th>\n",
       "      <td>-1.749765</td>\n",
       "      <td>0.342680</td>\n",
       "      <td>1.153036</td>\n",
       "      <td>-0.252436</td>\n",
       "    </tr>\n",
       "    <tr>\n",
       "      <th>1</th>\n",
       "      <td>0.981321</td>\n",
       "      <td>0.514219</td>\n",
       "      <td>0.221180</td>\n",
       "      <td>-1.070043</td>\n",
       "    </tr>\n",
       "    <tr>\n",
       "      <th>2</th>\n",
       "      <td>-0.189496</td>\n",
       "      <td>0.255001</td>\n",
       "      <td>-0.458027</td>\n",
       "      <td>0.435163</td>\n",
       "    </tr>\n",
       "    <tr>\n",
       "      <th>3</th>\n",
       "      <td>-0.583595</td>\n",
       "      <td>0.816847</td>\n",
       "      <td>0.672721</td>\n",
       "      <td>-0.104411</td>\n",
       "    </tr>\n",
       "    <tr>\n",
       "      <th>4</th>\n",
       "      <td>-0.531280</td>\n",
       "      <td>1.029733</td>\n",
       "      <td>-0.438136</td>\n",
       "      <td>-1.118318</td>\n",
       "    </tr>\n",
       "    <tr>\n",
       "      <th>5</th>\n",
       "      <td>1.618982</td>\n",
       "      <td>1.541605</td>\n",
       "      <td>-0.251879</td>\n",
       "      <td>-0.842436</td>\n",
       "    </tr>\n",
       "    <tr>\n",
       "      <th>6</th>\n",
       "      <td>0.184519</td>\n",
       "      <td>0.937082</td>\n",
       "      <td>0.731000</td>\n",
       "      <td>1.361556</td>\n",
       "    </tr>\n",
       "    <tr>\n",
       "      <th>7</th>\n",
       "      <td>-0.326238</td>\n",
       "      <td>0.055676</td>\n",
       "      <td>0.222400</td>\n",
       "      <td>-1.443217</td>\n",
       "    </tr>\n",
       "    <tr>\n",
       "      <th>8</th>\n",
       "      <td>-0.756352</td>\n",
       "      <td>0.816454</td>\n",
       "      <td>0.750445</td>\n",
       "      <td>-0.455947</td>\n",
       "    </tr>\n",
       "  </tbody>\n",
       "</table>\n",
       "</div>"
      ],
      "text/plain": [
       "        No1       No2       No3       No4\n",
       "0 -1.749765  0.342680  1.153036 -0.252436\n",
       "1  0.981321  0.514219  0.221180 -1.070043\n",
       "2 -0.189496  0.255001 -0.458027  0.435163\n",
       "3 -0.583595  0.816847  0.672721 -0.104411\n",
       "4 -0.531280  1.029733 -0.438136 -1.118318\n",
       "5  1.618982  1.541605 -0.251879 -0.842436\n",
       "6  0.184519  0.937082  0.731000  1.361556\n",
       "7 -0.326238  0.055676  0.222400 -1.443217\n",
       "8 -0.756352  0.816454  0.750445 -0.455947"
      ]
     },
     "execution_count": 67,
     "metadata": {},
     "output_type": "execute_result"
    }
   ],
   "source": [
    "df_n = pd.DataFrame(a)\n",
    "df_n.columns = ['No1', 'No2', 'No3', 'No4']\n",
    "df_n"
   ]
  },
  {
   "cell_type": "code",
   "execution_count": 68,
   "id": "d11f3d38",
   "metadata": {},
   "outputs": [
    {
     "data": {
      "text/plain": [
       "0.701033094145646"
      ]
     },
     "execution_count": 68,
     "metadata": {},
     "output_type": "execute_result"
    }
   ],
   "source": [
    "df_n['No2'].mean()"
   ]
  },
  {
   "cell_type": "markdown",
   "id": "54d76e14",
   "metadata": {
    "slideshow": {
     "slide_type": "slide"
    }
   },
   "source": [
    "- **`DateTime`**"
   ]
  },
  {
   "cell_type": "code",
   "execution_count": 71,
   "id": "803dd445",
   "metadata": {},
   "outputs": [
    {
     "data": {
      "text/plain": [
       "DatetimeIndex(['2019-01-31', '2019-02-28', '2019-03-31', '2019-04-30',\n",
       "               '2019-05-31', '2019-06-30', '2019-07-31', '2019-08-31',\n",
       "               '2019-09-30'],\n",
       "              dtype='datetime64[ns]', freq='M')"
      ]
     },
     "execution_count": 71,
     "metadata": {},
     "output_type": "execute_result"
    }
   ],
   "source": [
    "dates = pd.date_range('2019-1-1', periods = 9, freq = 'M')\n",
    "dates"
   ]
  },
  {
   "cell_type": "code",
   "execution_count": 72,
   "id": "28df7f1a",
   "metadata": {},
   "outputs": [
    {
     "data": {
      "text/html": [
       "<div>\n",
       "<style scoped>\n",
       "    .dataframe tbody tr th:only-of-type {\n",
       "        vertical-align: middle;\n",
       "    }\n",
       "\n",
       "    .dataframe tbody tr th {\n",
       "        vertical-align: top;\n",
       "    }\n",
       "\n",
       "    .dataframe thead th {\n",
       "        text-align: right;\n",
       "    }\n",
       "</style>\n",
       "<table border=\"1\" class=\"dataframe\">\n",
       "  <thead>\n",
       "    <tr style=\"text-align: right;\">\n",
       "      <th></th>\n",
       "      <th>No1</th>\n",
       "      <th>No2</th>\n",
       "      <th>No3</th>\n",
       "      <th>No4</th>\n",
       "    </tr>\n",
       "  </thead>\n",
       "  <tbody>\n",
       "    <tr>\n",
       "      <th>2019-01-31</th>\n",
       "      <td>-1.749765</td>\n",
       "      <td>0.342680</td>\n",
       "      <td>1.153036</td>\n",
       "      <td>-0.252436</td>\n",
       "    </tr>\n",
       "    <tr>\n",
       "      <th>2019-02-28</th>\n",
       "      <td>0.981321</td>\n",
       "      <td>0.514219</td>\n",
       "      <td>0.221180</td>\n",
       "      <td>-1.070043</td>\n",
       "    </tr>\n",
       "    <tr>\n",
       "      <th>2019-03-31</th>\n",
       "      <td>-0.189496</td>\n",
       "      <td>0.255001</td>\n",
       "      <td>-0.458027</td>\n",
       "      <td>0.435163</td>\n",
       "    </tr>\n",
       "    <tr>\n",
       "      <th>2019-04-30</th>\n",
       "      <td>-0.583595</td>\n",
       "      <td>0.816847</td>\n",
       "      <td>0.672721</td>\n",
       "      <td>-0.104411</td>\n",
       "    </tr>\n",
       "    <tr>\n",
       "      <th>2019-05-31</th>\n",
       "      <td>-0.531280</td>\n",
       "      <td>1.029733</td>\n",
       "      <td>-0.438136</td>\n",
       "      <td>-1.118318</td>\n",
       "    </tr>\n",
       "    <tr>\n",
       "      <th>2019-06-30</th>\n",
       "      <td>1.618982</td>\n",
       "      <td>1.541605</td>\n",
       "      <td>-0.251879</td>\n",
       "      <td>-0.842436</td>\n",
       "    </tr>\n",
       "    <tr>\n",
       "      <th>2019-07-31</th>\n",
       "      <td>0.184519</td>\n",
       "      <td>0.937082</td>\n",
       "      <td>0.731000</td>\n",
       "      <td>1.361556</td>\n",
       "    </tr>\n",
       "    <tr>\n",
       "      <th>2019-08-31</th>\n",
       "      <td>-0.326238</td>\n",
       "      <td>0.055676</td>\n",
       "      <td>0.222400</td>\n",
       "      <td>-1.443217</td>\n",
       "    </tr>\n",
       "    <tr>\n",
       "      <th>2019-09-30</th>\n",
       "      <td>-0.756352</td>\n",
       "      <td>0.816454</td>\n",
       "      <td>0.750445</td>\n",
       "      <td>-0.455947</td>\n",
       "    </tr>\n",
       "  </tbody>\n",
       "</table>\n",
       "</div>"
      ],
      "text/plain": [
       "                 No1       No2       No3       No4\n",
       "2019-01-31 -1.749765  0.342680  1.153036 -0.252436\n",
       "2019-02-28  0.981321  0.514219  0.221180 -1.070043\n",
       "2019-03-31 -0.189496  0.255001 -0.458027  0.435163\n",
       "2019-04-30 -0.583595  0.816847  0.672721 -0.104411\n",
       "2019-05-31 -0.531280  1.029733 -0.438136 -1.118318\n",
       "2019-06-30  1.618982  1.541605 -0.251879 -0.842436\n",
       "2019-07-31  0.184519  0.937082  0.731000  1.361556\n",
       "2019-08-31 -0.326238  0.055676  0.222400 -1.443217\n",
       "2019-09-30 -0.756352  0.816454  0.750445 -0.455947"
      ]
     },
     "execution_count": 72,
     "metadata": {},
     "output_type": "execute_result"
    }
   ],
   "source": [
    "df_n.index = dates\n",
    "df_n"
   ]
  },
  {
   "cell_type": "code",
   "execution_count": 73,
   "id": "048e59ad",
   "metadata": {
    "scrolled": true
   },
   "outputs": [
    {
     "data": {
      "text/plain": [
       "array([[-1.74976547,  0.3426804 ,  1.1530358 , -0.25243604],\n",
       "       [ 0.98132079,  0.51421884,  0.22117967, -1.07004333],\n",
       "       [-0.18949583,  0.25500144, -0.45802699,  0.43516349],\n",
       "       [-0.58359505,  0.81684707,  0.67272081, -0.10441114],\n",
       "       [-0.53128038,  1.02973269, -0.43813562, -1.11831825],\n",
       "       [ 1.61898166,  1.54160517, -0.25187914, -0.84243574],\n",
       "       [ 0.18451869,  0.9370822 ,  0.73100034,  1.36155613],\n",
       "       [-0.32623806,  0.05567601,  0.22239961, -1.443217  ],\n",
       "       [-0.75635231,  0.81645401,  0.75044476, -0.45594693]])"
      ]
     },
     "execution_count": 73,
     "metadata": {},
     "output_type": "execute_result"
    }
   ],
   "source": [
    "df_n.values"
   ]
  },
  {
   "cell_type": "markdown",
   "id": "b50db5f4",
   "metadata": {
    "slideshow": {
     "slide_type": "slide"
    }
   },
   "source": [
    "## 🚦Checkpoint "
   ]
  },
  {
   "cell_type": "markdown",
   "id": "09984855",
   "metadata": {},
   "source": [
    "**Task:**\n",
    "1. Create a `DataFrame` with the following columns: `Item`, `Price`, `Quantity` using the following dictionary\n",
    "```python\n",
    "    data = {\n",
    "    'Item': ['Apple', 'Banana', 'Orange'],\n",
    "    'Price': [1.0, 0.5, 0.75],\n",
    "    'Quantity': [10, 5, 8]\n",
    "        }\n",
    "```\n",
    "2. Add a new column `Total` that calculates the total price by multiplying `Price` and `Quantity`.\n",
    "3. Add a column called `Discount` with values `[0.1, 0.05, 0.2]` to the existing DataFrame.\n",
    "4. Update the `Total` column to apply the discount to the total price."
   ]
  },
  {
   "cell_type": "code",
   "execution_count": 74,
   "id": "fd808693",
   "metadata": {},
   "outputs": [],
   "source": [
    "data = {\n",
    "    'Item': ['Apple', 'Banana', 'Orange'],\n",
    "    'Price': [1.0, 0.5, 0.75],\n",
    "    'Quantity': [10, 5, 8]\n",
    "}\n",
    "df = pd.DataFrame(data)"
   ]
  },
  {
   "cell_type": "code",
   "execution_count": 85,
   "id": "58accd4c",
   "metadata": {},
   "outputs": [
    {
     "data": {
      "text/html": [
       "<div>\n",
       "<style scoped>\n",
       "    .dataframe tbody tr th:only-of-type {\n",
       "        vertical-align: middle;\n",
       "    }\n",
       "\n",
       "    .dataframe tbody tr th {\n",
       "        vertical-align: top;\n",
       "    }\n",
       "\n",
       "    .dataframe thead th {\n",
       "        text-align: right;\n",
       "    }\n",
       "</style>\n",
       "<table border=\"1\" class=\"dataframe\">\n",
       "  <thead>\n",
       "    <tr style=\"text-align: right;\">\n",
       "      <th></th>\n",
       "      <th>Item</th>\n",
       "      <th>Price</th>\n",
       "      <th>Quantity</th>\n",
       "      <th>Discounted Total</th>\n",
       "      <th>Discount</th>\n",
       "    </tr>\n",
       "  </thead>\n",
       "  <tbody>\n",
       "    <tr>\n",
       "      <th>0</th>\n",
       "      <td>Apple</td>\n",
       "      <td>1.00</td>\n",
       "      <td>10</td>\n",
       "      <td>9.000</td>\n",
       "      <td>0.10</td>\n",
       "    </tr>\n",
       "    <tr>\n",
       "      <th>1</th>\n",
       "      <td>Banana</td>\n",
       "      <td>0.50</td>\n",
       "      <td>5</td>\n",
       "      <td>2.375</td>\n",
       "      <td>0.05</td>\n",
       "    </tr>\n",
       "    <tr>\n",
       "      <th>2</th>\n",
       "      <td>Orange</td>\n",
       "      <td>0.75</td>\n",
       "      <td>8</td>\n",
       "      <td>4.800</td>\n",
       "      <td>0.20</td>\n",
       "    </tr>\n",
       "  </tbody>\n",
       "</table>\n",
       "</div>"
      ],
      "text/plain": [
       "     Item  Price  Quantity  Discounted Total  Discount\n",
       "0   Apple   1.00        10             9.000      0.10\n",
       "1  Banana   0.50         5             2.375      0.05\n",
       "2  Orange   0.75         8             4.800      0.20"
      ]
     },
     "execution_count": 85,
     "metadata": {},
     "output_type": "execute_result"
    }
   ],
   "source": [
    "df"
   ]
  },
  {
   "cell_type": "code",
   "execution_count": 84,
   "id": "43feee76",
   "metadata": {},
   "outputs": [],
   "source": [
    "df.columns = ['Item', 'Price', 'Quantity', 'Discounted Total', 'Discount']"
   ]
  },
  {
   "cell_type": "code",
   "execution_count": 76,
   "id": "c5dda0d4",
   "metadata": {},
   "outputs": [],
   "source": [
    "# column Total\n",
    "df['Total'] = df['Price']*df['Quantity']"
   ]
  },
  {
   "cell_type": "code",
   "execution_count": 78,
   "id": "9bf9003d",
   "metadata": {},
   "outputs": [],
   "source": [
    "df['Discount'] = [0.1, 0.05, 0.2]"
   ]
  },
  {
   "cell_type": "code",
   "execution_count": 81,
   "id": "b30c0d08",
   "metadata": {
    "slideshow": {
     "slide_type": "slide"
    }
   },
   "outputs": [],
   "source": [
    "df['Total'] = df['Total'] * (1-df['Discount'])\n"
   ]
  },
  {
   "cell_type": "markdown",
   "id": "0a7f00db",
   "metadata": {
    "slideshow": {
     "slide_type": "slide"
    }
   },
   "source": [
    "## 2. Basic Analytics"
   ]
  },
  {
   "cell_type": "markdown",
   "id": "1b7a2bc9",
   "metadata": {
    "slideshow": {
     "slide_type": "slide"
    }
   },
   "source": [
    "When working with data in `pandas`, the library provides several **built-in methods** that make data exploration and analysis efficient. \n",
    "\n",
    "These methods help with\n",
    "- Inspection\n",
    "- Summaries\n",
    "- Statistics\n",
    "- Data operations\n",
    "- Visualization "
   ]
  },
  {
   "cell_type": "markdown",
   "id": "89dbf66f",
   "metadata": {
    "slideshow": {
     "slide_type": "slide"
    }
   },
   "source": [
    "### 2.1 Inspection and summary"
   ]
  },
  {
   "cell_type": "markdown",
   "id": "a2b6fb6b",
   "metadata": {},
   "source": [
    "- **`df.info()`**: Provides a concise summary of the `DataFrame`, including the number of entries, column names, data types, and memory usage. "
   ]
  },
  {
   "cell_type": "code",
   "execution_count": 86,
   "id": "8bf81dcc",
   "metadata": {},
   "outputs": [
    {
     "name": "stdout",
     "output_type": "stream",
     "text": [
      "<class 'pandas.core.frame.DataFrame'>\n",
      "RangeIndex: 3 entries, 0 to 2\n",
      "Data columns (total 5 columns):\n",
      " #   Column            Non-Null Count  Dtype  \n",
      "---  ------            --------------  -----  \n",
      " 0   Item              3 non-null      object \n",
      " 1   Price             3 non-null      float64\n",
      " 2   Quantity          3 non-null      int64  \n",
      " 3   Discounted Total  3 non-null      float64\n",
      " 4   Discount          3 non-null      float64\n",
      "dtypes: float64(3), int64(1), object(1)\n",
      "memory usage: 248.0+ bytes\n"
     ]
    }
   ],
   "source": [
    "df.info()"
   ]
  },
  {
   "cell_type": "markdown",
   "id": "31f09933",
   "metadata": {
    "slideshow": {
     "slide_type": "slide"
    }
   },
   "source": [
    "- **`df.head()`:** Returns the first few rows of the `DataFrame` (by default, the first 5 rows)."
   ]
  },
  {
   "cell_type": "code",
   "execution_count": 87,
   "id": "3746dbbd",
   "metadata": {},
   "outputs": [
    {
     "data": {
      "text/html": [
       "<div>\n",
       "<style scoped>\n",
       "    .dataframe tbody tr th:only-of-type {\n",
       "        vertical-align: middle;\n",
       "    }\n",
       "\n",
       "    .dataframe tbody tr th {\n",
       "        vertical-align: top;\n",
       "    }\n",
       "\n",
       "    .dataframe thead th {\n",
       "        text-align: right;\n",
       "    }\n",
       "</style>\n",
       "<table border=\"1\" class=\"dataframe\">\n",
       "  <thead>\n",
       "    <tr style=\"text-align: right;\">\n",
       "      <th></th>\n",
       "      <th>Item</th>\n",
       "      <th>Price</th>\n",
       "      <th>Quantity</th>\n",
       "      <th>Discounted Total</th>\n",
       "      <th>Discount</th>\n",
       "    </tr>\n",
       "  </thead>\n",
       "  <tbody>\n",
       "    <tr>\n",
       "      <th>0</th>\n",
       "      <td>Apple</td>\n",
       "      <td>1.00</td>\n",
       "      <td>10</td>\n",
       "      <td>9.000</td>\n",
       "      <td>0.10</td>\n",
       "    </tr>\n",
       "    <tr>\n",
       "      <th>1</th>\n",
       "      <td>Banana</td>\n",
       "      <td>0.50</td>\n",
       "      <td>5</td>\n",
       "      <td>2.375</td>\n",
       "      <td>0.05</td>\n",
       "    </tr>\n",
       "    <tr>\n",
       "      <th>2</th>\n",
       "      <td>Orange</td>\n",
       "      <td>0.75</td>\n",
       "      <td>8</td>\n",
       "      <td>4.800</td>\n",
       "      <td>0.20</td>\n",
       "    </tr>\n",
       "  </tbody>\n",
       "</table>\n",
       "</div>"
      ],
      "text/plain": [
       "     Item  Price  Quantity  Discounted Total  Discount\n",
       "0   Apple   1.00        10             9.000      0.10\n",
       "1  Banana   0.50         5             2.375      0.05\n",
       "2  Orange   0.75         8             4.800      0.20"
      ]
     },
     "execution_count": 87,
     "metadata": {},
     "output_type": "execute_result"
    }
   ],
   "source": [
    "df.head()  # By default, displays the first 5 rows"
   ]
  },
  {
   "cell_type": "code",
   "execution_count": null,
   "id": "550a6b49",
   "metadata": {},
   "outputs": [],
   "source": [
    "df.head(10)  # Displays the first 10 rows"
   ]
  },
  {
   "cell_type": "markdown",
   "id": "7a8acfb1",
   "metadata": {
    "slideshow": {
     "slide_type": "slide"
    }
   },
   "source": [
    "- **`df.tail()`:** Similar to `df.head()`, but returns the last few rows of the DataFrame."
   ]
  },
  {
   "cell_type": "code",
   "execution_count": 88,
   "id": "b7d15537",
   "metadata": {},
   "outputs": [
    {
     "data": {
      "text/html": [
       "<div>\n",
       "<style scoped>\n",
       "    .dataframe tbody tr th:only-of-type {\n",
       "        vertical-align: middle;\n",
       "    }\n",
       "\n",
       "    .dataframe tbody tr th {\n",
       "        vertical-align: top;\n",
       "    }\n",
       "\n",
       "    .dataframe thead th {\n",
       "        text-align: right;\n",
       "    }\n",
       "</style>\n",
       "<table border=\"1\" class=\"dataframe\">\n",
       "  <thead>\n",
       "    <tr style=\"text-align: right;\">\n",
       "      <th></th>\n",
       "      <th>Item</th>\n",
       "      <th>Price</th>\n",
       "      <th>Quantity</th>\n",
       "      <th>Discounted Total</th>\n",
       "      <th>Discount</th>\n",
       "    </tr>\n",
       "  </thead>\n",
       "  <tbody>\n",
       "    <tr>\n",
       "      <th>0</th>\n",
       "      <td>Apple</td>\n",
       "      <td>1.00</td>\n",
       "      <td>10</td>\n",
       "      <td>9.000</td>\n",
       "      <td>0.10</td>\n",
       "    </tr>\n",
       "    <tr>\n",
       "      <th>1</th>\n",
       "      <td>Banana</td>\n",
       "      <td>0.50</td>\n",
       "      <td>5</td>\n",
       "      <td>2.375</td>\n",
       "      <td>0.05</td>\n",
       "    </tr>\n",
       "    <tr>\n",
       "      <th>2</th>\n",
       "      <td>Orange</td>\n",
       "      <td>0.75</td>\n",
       "      <td>8</td>\n",
       "      <td>4.800</td>\n",
       "      <td>0.20</td>\n",
       "    </tr>\n",
       "  </tbody>\n",
       "</table>\n",
       "</div>"
      ],
      "text/plain": [
       "     Item  Price  Quantity  Discounted Total  Discount\n",
       "0   Apple   1.00        10             9.000      0.10\n",
       "1  Banana   0.50         5             2.375      0.05\n",
       "2  Orange   0.75         8             4.800      0.20"
      ]
     },
     "execution_count": 88,
     "metadata": {},
     "output_type": "execute_result"
    }
   ],
   "source": [
    "df.tail()  # By default, displays the last 5 rows"
   ]
  },
  {
   "cell_type": "markdown",
   "id": "3828c0e7",
   "metadata": {
    "slideshow": {
     "slide_type": "slide"
    }
   },
   "source": [
    "- **`df.describe()`:** Generates descriptive statistics for numerical columns, including count, mean, standard deviation, minimum, and maximum values, as well as the 25th, 50th, and 75th percentiles."
   ]
  },
  {
   "cell_type": "code",
   "execution_count": 89,
   "id": "a7e41eba",
   "metadata": {},
   "outputs": [
    {
     "data": {
      "text/html": [
       "<div>\n",
       "<style scoped>\n",
       "    .dataframe tbody tr th:only-of-type {\n",
       "        vertical-align: middle;\n",
       "    }\n",
       "\n",
       "    .dataframe tbody tr th {\n",
       "        vertical-align: top;\n",
       "    }\n",
       "\n",
       "    .dataframe thead th {\n",
       "        text-align: right;\n",
       "    }\n",
       "</style>\n",
       "<table border=\"1\" class=\"dataframe\">\n",
       "  <thead>\n",
       "    <tr style=\"text-align: right;\">\n",
       "      <th></th>\n",
       "      <th>Price</th>\n",
       "      <th>Quantity</th>\n",
       "      <th>Discounted Total</th>\n",
       "      <th>Discount</th>\n",
       "    </tr>\n",
       "  </thead>\n",
       "  <tbody>\n",
       "    <tr>\n",
       "      <th>count</th>\n",
       "      <td>3.000</td>\n",
       "      <td>3.000000</td>\n",
       "      <td>3.000000</td>\n",
       "      <td>3.000000</td>\n",
       "    </tr>\n",
       "    <tr>\n",
       "      <th>mean</th>\n",
       "      <td>0.750</td>\n",
       "      <td>7.666667</td>\n",
       "      <td>5.391667</td>\n",
       "      <td>0.116667</td>\n",
       "    </tr>\n",
       "    <tr>\n",
       "      <th>std</th>\n",
       "      <td>0.250</td>\n",
       "      <td>2.516611</td>\n",
       "      <td>3.351896</td>\n",
       "      <td>0.076376</td>\n",
       "    </tr>\n",
       "    <tr>\n",
       "      <th>min</th>\n",
       "      <td>0.500</td>\n",
       "      <td>5.000000</td>\n",
       "      <td>2.375000</td>\n",
       "      <td>0.050000</td>\n",
       "    </tr>\n",
       "    <tr>\n",
       "      <th>25%</th>\n",
       "      <td>0.625</td>\n",
       "      <td>6.500000</td>\n",
       "      <td>3.587500</td>\n",
       "      <td>0.075000</td>\n",
       "    </tr>\n",
       "    <tr>\n",
       "      <th>50%</th>\n",
       "      <td>0.750</td>\n",
       "      <td>8.000000</td>\n",
       "      <td>4.800000</td>\n",
       "      <td>0.100000</td>\n",
       "    </tr>\n",
       "    <tr>\n",
       "      <th>75%</th>\n",
       "      <td>0.875</td>\n",
       "      <td>9.000000</td>\n",
       "      <td>6.900000</td>\n",
       "      <td>0.150000</td>\n",
       "    </tr>\n",
       "    <tr>\n",
       "      <th>max</th>\n",
       "      <td>1.000</td>\n",
       "      <td>10.000000</td>\n",
       "      <td>9.000000</td>\n",
       "      <td>0.200000</td>\n",
       "    </tr>\n",
       "  </tbody>\n",
       "</table>\n",
       "</div>"
      ],
      "text/plain": [
       "       Price   Quantity  Discounted Total  Discount\n",
       "count  3.000   3.000000          3.000000  3.000000\n",
       "mean   0.750   7.666667          5.391667  0.116667\n",
       "std    0.250   2.516611          3.351896  0.076376\n",
       "min    0.500   5.000000          2.375000  0.050000\n",
       "25%    0.625   6.500000          3.587500  0.075000\n",
       "50%    0.750   8.000000          4.800000  0.100000\n",
       "75%    0.875   9.000000          6.900000  0.150000\n",
       "max    1.000  10.000000          9.000000  0.200000"
      ]
     },
     "execution_count": 89,
     "metadata": {},
     "output_type": "execute_result"
    }
   ],
   "source": [
    "df.describe()"
   ]
  },
  {
   "cell_type": "markdown",
   "id": "12facd0e",
   "metadata": {
    "slideshow": {
     "slide_type": "slide"
    }
   },
   "source": [
    "### 2.2 Statistics and operations"
   ]
  },
  {
   "cell_type": "markdown",
   "id": "35563868",
   "metadata": {},
   "source": [
    "- **`df.sum()`**"
   ]
  },
  {
   "cell_type": "code",
   "execution_count": 90,
   "id": "4cd02bed",
   "metadata": {},
   "outputs": [
    {
     "data": {
      "text/plain": [
       "Item                AppleBananaOrange\n",
       "Price                            2.25\n",
       "Quantity                           23\n",
       "Discounted Total               16.175\n",
       "Discount                         0.35\n",
       "dtype: object"
      ]
     },
     "execution_count": 90,
     "metadata": {},
     "output_type": "execute_result"
    }
   ],
   "source": [
    "df.sum()"
   ]
  },
  {
   "cell_type": "markdown",
   "id": "f32a1097",
   "metadata": {},
   "source": [
    "- **`df.mean()`**"
   ]
  },
  {
   "cell_type": "code",
   "execution_count": 91,
   "id": "d5c49502",
   "metadata": {},
   "outputs": [
    {
     "name": "stderr",
     "output_type": "stream",
     "text": [
      "/var/folders/9m/57jm238n7yvg6p3srhy10dhw0000gn/T/ipykernel_37026/3595479586.py:1: FutureWarning: Dropping of nuisance columns in DataFrame reductions (with 'numeric_only=None') is deprecated; in a future version this will raise TypeError.  Select only valid columns before calling the reduction.\n",
      "  df.mean()  # By default, computes the mean of each column\n"
     ]
    },
    {
     "data": {
      "text/plain": [
       "Price               0.750000\n",
       "Quantity            7.666667\n",
       "Discounted Total    5.391667\n",
       "Discount            0.116667\n",
       "dtype: float64"
      ]
     },
     "execution_count": 91,
     "metadata": {},
     "output_type": "execute_result"
    }
   ],
   "source": [
    "df.mean()  # By default, computes the mean of each column"
   ]
  },
  {
   "cell_type": "code",
   "execution_count": 92,
   "id": "be665bad",
   "metadata": {},
   "outputs": [
    {
     "name": "stderr",
     "output_type": "stream",
     "text": [
      "/var/folders/9m/57jm238n7yvg6p3srhy10dhw0000gn/T/ipykernel_37026/3321140826.py:1: FutureWarning: Dropping of nuisance columns in DataFrame reductions (with 'numeric_only=None') is deprecated; in a future version this will raise TypeError.  Select only valid columns before calling the reduction.\n",
      "  df.mean(axis=0)  # Mean across columns (default behavior)\n"
     ]
    },
    {
     "data": {
      "text/plain": [
       "Price               0.750000\n",
       "Quantity            7.666667\n",
       "Discounted Total    5.391667\n",
       "Discount            0.116667\n",
       "dtype: float64"
      ]
     },
     "execution_count": 92,
     "metadata": {},
     "output_type": "execute_result"
    }
   ],
   "source": [
    "df.mean(axis=0)  # Mean across columns (default behavior)"
   ]
  },
  {
   "cell_type": "code",
   "execution_count": 93,
   "id": "cdf72be5",
   "metadata": {},
   "outputs": [
    {
     "name": "stderr",
     "output_type": "stream",
     "text": [
      "/var/folders/9m/57jm238n7yvg6p3srhy10dhw0000gn/T/ipykernel_37026/1301805828.py:1: FutureWarning: Dropping of nuisance columns in DataFrame reductions (with 'numeric_only=None') is deprecated; in a future version this will raise TypeError.  Select only valid columns before calling the reduction.\n",
      "  df.mean(axis=1)  # Mean across rows\n"
     ]
    },
    {
     "data": {
      "text/plain": [
       "0    5.02500\n",
       "1    1.98125\n",
       "2    3.43750\n",
       "dtype: float64"
      ]
     },
     "execution_count": 93,
     "metadata": {},
     "output_type": "execute_result"
    }
   ],
   "source": [
    "df.mean(axis=1)  # Mean across rows"
   ]
  },
  {
   "cell_type": "markdown",
   "id": "21ccb588",
   "metadata": {},
   "source": [
    "- **`df.cumsum()`**"
   ]
  },
  {
   "cell_type": "code",
   "execution_count": 94,
   "id": "45658ad3",
   "metadata": {},
   "outputs": [
    {
     "data": {
      "text/html": [
       "<div>\n",
       "<style scoped>\n",
       "    .dataframe tbody tr th:only-of-type {\n",
       "        vertical-align: middle;\n",
       "    }\n",
       "\n",
       "    .dataframe tbody tr th {\n",
       "        vertical-align: top;\n",
       "    }\n",
       "\n",
       "    .dataframe thead th {\n",
       "        text-align: right;\n",
       "    }\n",
       "</style>\n",
       "<table border=\"1\" class=\"dataframe\">\n",
       "  <thead>\n",
       "    <tr style=\"text-align: right;\">\n",
       "      <th></th>\n",
       "      <th>Item</th>\n",
       "      <th>Price</th>\n",
       "      <th>Quantity</th>\n",
       "      <th>Discounted Total</th>\n",
       "      <th>Discount</th>\n",
       "    </tr>\n",
       "  </thead>\n",
       "  <tbody>\n",
       "    <tr>\n",
       "      <th>0</th>\n",
       "      <td>Apple</td>\n",
       "      <td>1.00</td>\n",
       "      <td>10</td>\n",
       "      <td>9.000</td>\n",
       "      <td>0.10</td>\n",
       "    </tr>\n",
       "    <tr>\n",
       "      <th>1</th>\n",
       "      <td>AppleBanana</td>\n",
       "      <td>1.50</td>\n",
       "      <td>15</td>\n",
       "      <td>11.375</td>\n",
       "      <td>0.15</td>\n",
       "    </tr>\n",
       "    <tr>\n",
       "      <th>2</th>\n",
       "      <td>AppleBananaOrange</td>\n",
       "      <td>2.25</td>\n",
       "      <td>23</td>\n",
       "      <td>16.175</td>\n",
       "      <td>0.35</td>\n",
       "    </tr>\n",
       "  </tbody>\n",
       "</table>\n",
       "</div>"
      ],
      "text/plain": [
       "                Item  Price  Quantity  Discounted Total  Discount\n",
       "0              Apple   1.00        10             9.000      0.10\n",
       "1        AppleBanana   1.50        15            11.375      0.15\n",
       "2  AppleBananaOrange   2.25        23            16.175      0.35"
      ]
     },
     "execution_count": 94,
     "metadata": {},
     "output_type": "execute_result"
    }
   ],
   "source": [
    "df.cumsum()"
   ]
  },
  {
   "cell_type": "markdown",
   "id": "cbff5d25",
   "metadata": {
    "slideshow": {
     "slide_type": "slide"
    }
   },
   "source": [
    "- **`df.apply()`:** Custom functions can be applied to columns or rows using the `.apply()` method."
   ]
  },
  {
   "cell_type": "code",
   "execution_count": 95,
   "id": "0cd840ad",
   "metadata": {},
   "outputs": [
    {
     "data": {
      "text/plain": [
       "0    1.0000\n",
       "1    0.2500\n",
       "2    0.5625\n",
       "Name: Price, dtype: float64"
      ]
     },
     "execution_count": 95,
     "metadata": {},
     "output_type": "execute_result"
    }
   ],
   "source": [
    "# Applying a lambda function to square the values in 'Price' column\n",
    "df['Price'].apply(lambda x: x ** 2)"
   ]
  },
  {
   "cell_type": "markdown",
   "id": "b8ca8368",
   "metadata": {
    "slideshow": {
     "slide_type": "slide"
    }
   },
   "source": [
    "### 2.3 Integrated `NumPy` Functions"
   ]
  },
  {
   "cell_type": "markdown",
   "id": "73e36cf3",
   "metadata": {},
   "source": [
    "`Pandas` integrates with `NumPy`, allowing the use of `NumPy` functions directly on `DataFrames`."
   ]
  },
  {
   "cell_type": "markdown",
   "id": "0cd40aca",
   "metadata": {},
   "source": [
    "- **`np.mean(df)`**"
   ]
  },
  {
   "cell_type": "code",
   "execution_count": 97,
   "id": "9f87146b",
   "metadata": {},
   "outputs": [
    {
     "data": {
      "text/plain": [
       "0.75"
      ]
     },
     "execution_count": 97,
     "metadata": {},
     "output_type": "execute_result"
    }
   ],
   "source": [
    "np.mean(df['Price'])"
   ]
  },
  {
   "cell_type": "markdown",
   "id": "8c73069a",
   "metadata": {},
   "source": [
    "- **`np.log(df)`**"
   ]
  },
  {
   "cell_type": "code",
   "execution_count": 101,
   "id": "9bd3606b",
   "metadata": {},
   "outputs": [
    {
     "data": {
      "text/plain": [
       "0    0.000000\n",
       "1   -0.693147\n",
       "2   -0.287682\n",
       "Name: Price, dtype: float64"
      ]
     },
     "execution_count": 101,
     "metadata": {},
     "output_type": "execute_result"
    }
   ],
   "source": [
    "np.log(df['Price'])"
   ]
  },
  {
   "cell_type": "markdown",
   "id": "78aa1772",
   "metadata": {},
   "source": [
    "- **`np.sqrt(abs(df))`**"
   ]
  },
  {
   "cell_type": "code",
   "execution_count": 103,
   "id": "0db9a25c",
   "metadata": {},
   "outputs": [
    {
     "data": {
      "text/plain": [
       "0    1.000000\n",
       "1    0.707107\n",
       "2    0.866025\n",
       "Name: Price, dtype: float64"
      ]
     },
     "execution_count": 103,
     "metadata": {},
     "output_type": "execute_result"
    }
   ],
   "source": [
    "np.sqrt(abs(df['Price']))"
   ]
  },
  {
   "cell_type": "code",
   "execution_count": 102,
   "id": "1b2689a4",
   "metadata": {},
   "outputs": [
    {
     "data": {
      "text/plain": [
       "2.5731321849709863"
      ]
     },
     "execution_count": 102,
     "metadata": {},
     "output_type": "execute_result"
    }
   ],
   "source": [
    "np.sqrt(abs(df['Price'])).sum()"
   ]
  },
  {
   "cell_type": "markdown",
   "id": "70c8562b",
   "metadata": {
    "slideshow": {
     "slide_type": "slide"
    }
   },
   "source": [
    "### 2.4 Basic Visualization"
   ]
  },
  {
   "cell_type": "markdown",
   "id": "80aaefde",
   "metadata": {
    "slideshow": {
     "slide_type": "-"
    }
   },
   "source": [
    "`Pandas` integrates with visualization libraries like `matplotlib` to enable quick visualizations of data. "
   ]
  },
  {
   "cell_type": "markdown",
   "id": "6d9661c3",
   "metadata": {
    "slideshow": {
     "slide_type": "slide"
    }
   },
   "source": [
    "#### Setting up `Matplotlib` for Visualization"
   ]
  },
  {
   "cell_type": "code",
   "execution_count": 104,
   "id": "e86272b9",
   "metadata": {},
   "outputs": [],
   "source": [
    "from pylab import plt, mpl\n",
    "\n",
    "# Setting the style to 'seaborn' for better aesthetics\n",
    "plt.style.use('seaborn')\n",
    "\n",
    "# Setting the default font to 'serif' for a clean look\n",
    "mpl.rcParams['font.family'] = 'serif'\n",
    "\n",
    "# Ensure plots are displayed inline in Jupyter notebooks\n",
    "%matplotlib inline"
   ]
  },
  {
   "cell_type": "markdown",
   "id": "b5bfeff6",
   "metadata": {
    "slideshow": {
     "slide_type": "slide"
    }
   },
   "source": [
    "#### Examples"
   ]
  },
  {
   "cell_type": "code",
   "execution_count": 105,
   "id": "48d30840",
   "metadata": {},
   "outputs": [
    {
     "data": {
      "text/plain": [
       "<AxesSubplot:>"
      ]
     },
     "execution_count": 105,
     "metadata": {},
     "output_type": "execute_result"
    },
    {
     "data": {
      "image/png": "[encoded data removed]",
      "text/plain": [
       "<Figure size 720x432 with 1 Axes>"
      ]
     },
     "metadata": {
      "needs_background": "light"
     },
     "output_type": "display_data"
    }
   ],
   "source": [
    "df.cumsum().plot(lw=2.0, figsize=(10, 6))  # Line width set to 2.0 and figure size to 10x6"
   ]
  },
  {
   "cell_type": "code",
   "execution_count": 106,
   "id": "ea0d4cf1",
   "metadata": {
    "slideshow": {
     "slide_type": "slide"
    }
   },
   "outputs": [
    {
     "data": {
      "text/plain": [
       "<AxesSubplot:>"
      ]
     },
     "execution_count": 106,
     "metadata": {},
     "output_type": "execute_result"
    },
    {
     "data": {
      "image/png": "[encoded data removed]",
      "text/plain": [
       "<Figure size 720x432 with 1 Axes>"
      ]
     },
     "metadata": {
      "needs_background": "light"
     },
     "output_type": "display_data"
    }
   ],
   "source": [
    "df.plot(kind='bar', figsize=(10, 6))  # Generates a bar plot with a figure size of 10x6"
   ]
  },
  {
   "cell_type": "markdown",
   "id": "6e5676b0",
   "metadata": {
    "slideshow": {
     "slide_type": "slide"
    }
   },
   "source": [
    "## 3. The `Series` Class"
   ]
  },
  {
   "cell_type": "markdown",
   "id": "809cb939",
   "metadata": {
    "slideshow": {
     "slide_type": "slide"
    }
   },
   "source": [
    "The `Series` class in `pandas` is a **one-dimensional labeled array** capable of holding any data type. \n",
    "\n",
    "A `Series` is essentially a single column of data, making it a simpler, more specialized version of the `DataFrame` class. It shares many characteristics and methods with DataFrame and adds more specifics techniques."
   ]
  },
  {
   "cell_type": "markdown",
   "id": "d5f62b3a",
   "metadata": {
    "slideshow": {
     "slide_type": "slide"
    }
   },
   "source": [
    "### 3.1 Creating a `Series`"
   ]
  },
  {
   "cell_type": "markdown",
   "id": "8c80d33b",
   "metadata": {
    "slideshow": {
     "slide_type": "slide"
    }
   },
   "source": [
    "A `Series` object can be created directly or obtained by selecting a single column from a `DataFrame`."
   ]
  },
  {
   "cell_type": "markdown",
   "id": "129dd26f",
   "metadata": {},
   "source": [
    "- **From `list`**"
   ]
  },
  {
   "cell_type": "code",
   "execution_count": 107,
   "id": "07a55685",
   "metadata": {},
   "outputs": [
    {
     "name": "stdout",
     "output_type": "stream",
     "text": [
      "0     0.0\n",
      "1     2.5\n",
      "2     5.0\n",
      "3     7.5\n",
      "4    10.0\n",
      "5    12.5\n",
      "6    15.0\n",
      "Name: series, dtype: float64\n"
     ]
    }
   ],
   "source": [
    "# Creating a Series with evenly spaced numbers between 0 and 15\n",
    "s = pd.Series(np.linspace(0, 15, 7), name='series')\n",
    "print(s)"
   ]
  },
  {
   "cell_type": "code",
   "execution_count": 108,
   "id": "c38836c6",
   "metadata": {},
   "outputs": [
    {
     "data": {
      "text/plain": [
       "pandas.core.series.Series"
      ]
     },
     "execution_count": 108,
     "metadata": {},
     "output_type": "execute_result"
    }
   ],
   "source": [
    "# Checking the type of the Series\n",
    "type(s)"
   ]
  },
  {
   "cell_type": "markdown",
   "id": "d8714e7d",
   "metadata": {
    "slideshow": {
     "slide_type": "slide"
    }
   },
   "source": [
    "- **From `DataFrame`**"
   ]
  },
  {
   "cell_type": "markdown",
   "id": "b2d009ac",
   "metadata": {},
   "source": [
    "Selecting a single column from a `DataFrame` result in a `Series`."
   ]
  },
  {
   "cell_type": "code",
   "execution_count": 109,
   "id": "f900d989",
   "metadata": {},
   "outputs": [
    {
     "name": "stdout",
     "output_type": "stream",
     "text": [
      "2019-01-31   -1.749765\n",
      "2019-02-28    0.981321\n",
      "2019-03-31   -0.189496\n",
      "2019-04-30   -0.583595\n",
      "2019-05-31   -0.531280\n",
      "2019-06-30    1.618982\n",
      "2019-07-31    0.184519\n",
      "2019-08-31   -0.326238\n",
      "2019-09-30   -0.756352\n",
      "Freq: M, Name: No1, dtype: float64\n"
     ]
    }
   ],
   "source": [
    "# Selecting a column from the DataFrame as a Series\n",
    "s = df_n['No1']\n",
    "print(s)"
   ]
  },
  {
   "cell_type": "code",
   "execution_count": 110,
   "id": "6a179c41",
   "metadata": {},
   "outputs": [
    {
     "data": {
      "text/plain": [
       "pandas.core.series.Series"
      ]
     },
     "execution_count": 110,
     "metadata": {},
     "output_type": "execute_result"
    }
   ],
   "source": [
    "# Checking the type\n",
    "type(s)"
   ]
  },
  {
   "cell_type": "markdown",
   "id": "b95b334b",
   "metadata": {
    "slideshow": {
     "slide_type": "slide"
    }
   },
   "source": [
    "### 3.2 Methods for `Series`"
   ]
  },
  {
   "cell_type": "markdown",
   "id": "ecb04714",
   "metadata": {
    "slideshow": {
     "slide_type": "slide"
    }
   },
   "source": [
    "#### Inherited methods"
   ]
  },
  {
   "cell_type": "markdown",
   "id": "a219d8c0",
   "metadata": {},
   "source": [
    "Most of the methods available for `DataFrame` are also available for `Series`, such as `mean()`, or `plot()`."
   ]
  },
  {
   "cell_type": "code",
   "execution_count": 111,
   "id": "fb0671b9",
   "metadata": {},
   "outputs": [
    {
     "data": {
      "text/plain": [
       "-0.15021177307319458"
      ]
     },
     "execution_count": 111,
     "metadata": {},
     "output_type": "execute_result"
    }
   ],
   "source": [
    "# Calculating the mean of the Series\n",
    "s.mean()"
   ]
  },
  {
   "cell_type": "code",
   "execution_count": 112,
   "id": "e680eab6",
   "metadata": {},
   "outputs": [
    {
     "data": {
      "text/plain": [
       "<AxesSubplot:>"
      ]
     },
     "execution_count": 112,
     "metadata": {},
     "output_type": "execute_result"
    },
    {
     "data": {
      "image/png": "[encoded data removed]",
      "text/plain": [
       "<Figure size 720x432 with 1 Axes>"
      ]
     },
     "metadata": {
      "needs_background": "light"
     },
     "output_type": "display_data"
    }
   ],
   "source": [
    "# Plotting the Series\n",
    "s.plot(lw=2.0, figsize=(10, 6))  # Line width set to 2.0 and figure size to 10x6"
   ]
  },
  {
   "cell_type": "markdown",
   "id": "932fc1af",
   "metadata": {
    "slideshow": {
     "slide_type": "slide"
    }
   },
   "source": [
    "#### `Series` specific methods"
   ]
  },
  {
   "cell_type": "markdown",
   "id": "71fd08e0",
   "metadata": {},
   "source": [
    "There are several methods that are specific to `Series` objects. \n",
    "\n",
    "These methods are designed to leverage the **one-dimensional** nature of a `Series` and simplify certain operations that are less intuitive or applicable in a two-dimensional `DataFrame`."
   ]
  },
  {
   "cell_type": "markdown",
   "id": "f5acc72b",
   "metadata": {},
   "source": [
    "- **`Series.value_counts()`:** Returns the count of unique values in a `Series`. \n",
    "    - Useful when working with categorical data or needing to understand the frequency of certain values."
   ]
  },
  {
   "cell_type": "code",
   "execution_count": 113,
   "id": "31c89fe7",
   "metadata": {},
   "outputs": [
    {
     "data": {
      "text/plain": [
       "A    3\n",
       "B    2\n",
       "C    1\n",
       "dtype: int64"
      ]
     },
     "execution_count": 113,
     "metadata": {},
     "output_type": "execute_result"
    }
   ],
   "source": [
    "# Example of value_counts\n",
    "s = pd.Series(['A', 'B', 'A', 'C', 'B', 'A'])\n",
    "s.value_counts()"
   ]
  },
  {
   "cell_type": "markdown",
   "id": "f782fd3c",
   "metadata": {
    "slideshow": {
     "slide_type": "slide"
    }
   },
   "source": [
    "- **`Series.unique()`**: Returns an array of the unique values in a `Series`. \n",
    "    - It helps identify distinct values in a column of data."
   ]
  },
  {
   "cell_type": "code",
   "execution_count": 114,
   "id": "b5a07abc",
   "metadata": {},
   "outputs": [
    {
     "data": {
      "text/plain": [
       "array([1, 2, 3, 4])"
      ]
     },
     "execution_count": 114,
     "metadata": {},
     "output_type": "execute_result"
    }
   ],
   "source": [
    "# Example of unique\n",
    "s = pd.Series([1, 2, 2, 3, 4, 4, 4])\n",
    "s.unique()"
   ]
  },
  {
   "cell_type": "markdown",
   "id": "3a84859a",
   "metadata": {
    "slideshow": {
     "slide_type": "slide"
    }
   },
   "source": [
    "- **`Series.nunique()`:** Returns the number of unique values in a `Series`. \n",
    "    - Similar to `value_counts()` but only provides the total number of unique elements, not their frequency."
   ]
  },
  {
   "cell_type": "code",
   "execution_count": 115,
   "id": "f7cc82d2",
   "metadata": {},
   "outputs": [
    {
     "data": {
      "text/plain": [
       "4"
      ]
     },
     "execution_count": 115,
     "metadata": {},
     "output_type": "execute_result"
    }
   ],
   "source": [
    "# Example of nunique\n",
    "s = pd.Series([1, 2, 2, 3, 4, 4, 4])\n",
    "s.nunique()"
   ]
  },
  {
   "cell_type": "markdown",
   "id": "87a0209e",
   "metadata": {
    "slideshow": {
     "slide_type": "slide"
    }
   },
   "source": [
    "- **`Series.str` accessor:** performs string operations. \n",
    "    - This feature is unique to Series and makes it easy to manipulate text data in bulk.\n",
    "    - These include `.str.upper()`, `.str.contains()`, `.str.replace()`, and `.str.len()`"
   ]
  },
  {
   "cell_type": "code",
   "execution_count": 116,
   "id": "2ae001ad",
   "metadata": {},
   "outputs": [],
   "source": [
    "# Sample Series of strings\n",
    "s = pd.Series(['apple', 'banana', 'pear'])"
   ]
  },
  {
   "cell_type": "code",
   "execution_count": 117,
   "id": "c68534bc",
   "metadata": {},
   "outputs": [
    {
     "data": {
      "text/plain": [
       "0     apple\n",
       "1    banana\n",
       "2      pear\n",
       "dtype: object"
      ]
     },
     "execution_count": 117,
     "metadata": {},
     "output_type": "execute_result"
    }
   ],
   "source": [
    "s"
   ]
  },
  {
   "cell_type": "code",
   "execution_count": 118,
   "id": "98fcd45d",
   "metadata": {},
   "outputs": [
    {
     "name": "stdout",
     "output_type": "stream",
     "text": [
      "0     APPLE\n",
      "1    BANANA\n",
      "2      PEAR\n",
      "dtype: object\n"
     ]
    }
   ],
   "source": [
    "# Convert all strings to uppercase\n",
    "s_upper = s.str.upper()\n",
    "print(s_upper)"
   ]
  },
  {
   "cell_type": "code",
   "execution_count": 119,
   "id": "90a24b9f",
   "metadata": {},
   "outputs": [
    {
     "name": "stdout",
     "output_type": "stream",
     "text": [
      "0    True\n",
      "1    True\n",
      "2    True\n",
      "dtype: bool\n"
     ]
    }
   ],
   "source": [
    "# Check if each string contains the letter 'a'\n",
    "s_contains = s.str.contains('a')\n",
    "print(s_contains)"
   ]
  },
  {
   "cell_type": "code",
   "execution_count": 120,
   "id": "71f23320",
   "metadata": {},
   "outputs": [
    {
     "name": "stdout",
     "output_type": "stream",
     "text": [
      "0     opple\n",
      "1    bonono\n",
      "2      peor\n",
      "dtype: object\n"
     ]
    }
   ],
   "source": [
    "# Replace 'a' with 'o' in each string\n",
    "s_replace = s.str.replace('a', 'o')\n",
    "print(s_replace)"
   ]
  },
  {
   "cell_type": "code",
   "execution_count": 121,
   "id": "dae37641",
   "metadata": {},
   "outputs": [
    {
     "name": "stdout",
     "output_type": "stream",
     "text": [
      "0    5\n",
      "1    6\n",
      "2    4\n",
      "dtype: int64\n"
     ]
    }
   ],
   "source": [
    "# Get the length of each string\n",
    "s_len = s.str.len()\n",
    "print(s_len)"
   ]
  },
  {
   "cell_type": "markdown",
   "id": "4fb8565b",
   "metadata": {
    "slideshow": {
     "slide_type": "slide"
    }
   },
   "source": [
    "- **`Series.dt` accessor:** performs datetime-specific operations. \n",
    "    - This makes it easy to extract year, month, day, or other components from a datetime Series.\n",
    "    - These include `dt.day`, `.dt.year`, `.dt.month`, and `.dt.weekday`."
   ]
  },
  {
   "cell_type": "code",
   "execution_count": 123,
   "id": "0111cbd7",
   "metadata": {},
   "outputs": [],
   "source": [
    "# Example of dt accessor\n",
    "s = pd.Series(pd.date_range('2023-01-01', periods=3, freq='D'))"
   ]
  },
  {
   "cell_type": "code",
   "execution_count": 124,
   "id": "677012a0",
   "metadata": {},
   "outputs": [
    {
     "data": {
      "text/plain": [
       "0   2023-01-01\n",
       "1   2023-01-02\n",
       "2   2023-01-03\n",
       "dtype: datetime64[ns]"
      ]
     },
     "execution_count": 124,
     "metadata": {},
     "output_type": "execute_result"
    }
   ],
   "source": [
    "s"
   ]
  },
  {
   "cell_type": "code",
   "execution_count": 125,
   "id": "ea26e851",
   "metadata": {},
   "outputs": [
    {
     "data": {
      "text/plain": [
       "0    1\n",
       "1    2\n",
       "2    3\n",
       "dtype: int64"
      ]
     },
     "execution_count": 125,
     "metadata": {},
     "output_type": "execute_result"
    }
   ],
   "source": [
    "s.dt.day  # Extract the day from the datetime"
   ]
  },
  {
   "cell_type": "markdown",
   "id": "4f39f0ae",
   "metadata": {
    "slideshow": {
     "slide_type": "slide"
    }
   },
   "source": [
    "- **`Series.isin()`:** Checks whether each element of the `Series` is in a given list of values and returns a boolean `Series`."
   ]
  },
  {
   "cell_type": "code",
   "execution_count": 126,
   "id": "9db744f0",
   "metadata": {},
   "outputs": [
    {
     "data": {
      "text/plain": [
       "0    False\n",
       "1     True\n",
       "2     True\n",
       "3    False\n",
       "dtype: bool"
      ]
     },
     "execution_count": 126,
     "metadata": {},
     "output_type": "execute_result"
    }
   ],
   "source": [
    "# Example of isin\n",
    "s = pd.Series(['A', 'B', 'C', 'D'])\n",
    "s.isin(['B', 'C', 'E'])"
   ]
  },
  {
   "cell_type": "markdown",
   "id": "a97f744b",
   "metadata": {
    "slideshow": {
     "slide_type": "slide"
    }
   },
   "source": [
    "- **`Series.idxmax()`** and **`Series.idxmin()`:** Return the index of the maximum or minimum value in the `Series`, respectively. "
   ]
  },
  {
   "cell_type": "code",
   "execution_count": 127,
   "id": "4dd4b731",
   "metadata": {},
   "outputs": [
    {
     "name": "stdout",
     "output_type": "stream",
     "text": [
      "3\n",
      "0\n"
     ]
    }
   ],
   "source": [
    "# Example of idxmax and idxmin\n",
    "s = pd.Series([1, 5, 3, 9, 2])\n",
    "print(s.idxmax())  # Index of the maximum value\n",
    "print(s.idxmin())  # Index of the minimum value"
   ]
  },
  {
   "cell_type": "markdown",
   "id": "2a834d47",
   "metadata": {
    "slideshow": {
     "slide_type": "slide"
    }
   },
   "source": [
    "## 🚦Checkpoint "
   ]
  },
  {
   "cell_type": "markdown",
   "id": "ac16fdd4",
   "metadata": {},
   "source": [
    "**Task:**\n",
    "1. Create a `pandas` Series from a list of stock prices: `[150.25, 153.50, 2800.50, 2830.75, 3400.00, 3450.50]` and name the Series `Stock_Prices`.\n",
    "\n",
    "2. Using the `Stock_Prices` series:\n",
    "   - Find the maximum price in the series.\n",
    "   - Find the minimum price in the series.\n",
    "   - Calculate the mean (average) price.\n",
    "   - Find how many stock prices are above the mean.\n",
    "   - Create a new Series where each stock price is increased by 5%.\n",
    "   - Normalize the Series so that all values are between 0 and 1 (i.e., subtract the minimum and divide by the range).\n",
    "\n",
    "3. Create another `pandas` Series from the list `[0.05, 0.03, 0.02, 0.04, 0.01, 0.06]` and name it `Stock_Changes`.  \n",
    "   This series represents the daily percentage changes for each stock (assume all changes are positive and range between 0.01 to 0.10). \n",
    "   - Multiply the `Stock_Prices` by the `Stock_Changes` Series.\n",
    "   - Create a new Series called `Updated_Prices` which contains the new stock prices after applying the percentage changes.\n",
    "\n",
    "4. Create a new `Series` that categorizes stock prices in `Updated_Prices` as either \"High\" if the price is above 3000, or \"Low\" if the price is below 3000.\n",
    "\n",
    "5. Check if any of the original `Stock_Prices` are in this list: `[153.50, 2830.75, 5000.00]` and return a boolean Series indicating whether each price is present in this list.\n",
    "\n",
    "6. Count how many times each category (\"High\" or \"Low\") appears in the `price_categories` Series from step 4.\n"
   ]
  },
  {
   "cell_type": "code",
   "execution_count": 129,
   "id": "92b6f818",
   "metadata": {
    "slideshow": {
     "slide_type": "slide"
    }
   },
   "outputs": [],
   "source": [
    "prices = [150.25, 153.50, 2800.50, 2830.75, 3400.00, 3450.50]"
   ]
  },
  {
   "cell_type": "code",
   "execution_count": 130,
   "id": "953ada92",
   "metadata": {},
   "outputs": [],
   "source": [
    "stock_prices = pd.Series(prices)"
   ]
  },
  {
   "cell_type": "code",
   "execution_count": 133,
   "id": "fb25bede",
   "metadata": {},
   "outputs": [
    {
     "name": "stdout",
     "output_type": "stream",
     "text": [
      "2130.9166666666665\n"
     ]
    }
   ],
   "source": [
    "print(stock_prices.mean())"
   ]
  },
  {
   "cell_type": "code",
   "execution_count": null,
   "id": "8f92496c",
   "metadata": {},
   "outputs": [],
   "source": [
    "stock_prices[stock_prices>stock_prices.mean()].count()"
   ]
  },
  {
   "cell_type": "code",
   "execution_count": 141,
   "id": "25fb0c69",
   "metadata": {},
   "outputs": [],
   "source": [
    "new_stock_prices = stock_prices*1.05"
   ]
  },
  {
   "cell_type": "code",
   "execution_count": 142,
   "id": "81de1c60",
   "metadata": {},
   "outputs": [
    {
     "data": {
      "text/plain": [
       "0    0.000000\n",
       "1    0.000985\n",
       "2    0.803045\n",
       "3    0.812211\n",
       "4    0.984698\n",
       "5    1.000000\n",
       "dtype: float64"
      ]
     },
     "execution_count": 142,
     "metadata": {},
     "output_type": "execute_result"
    }
   ],
   "source": [
    "(stock_prices - stock_prices.min())/ (stock_prices.max() - stock_prices.min())"
   ]
  },
  {
   "cell_type": "code",
   "execution_count": 143,
   "id": "d8e449ac",
   "metadata": {
    "slideshow": {
     "slide_type": "slide"
    }
   },
   "outputs": [],
   "source": [
    "stock_changes = pd.Series([0.05, 0.03, 0.02, 0.04, 0.01, 0.06])"
   ]
  },
  {
   "cell_type": "code",
   "execution_count": 146,
   "id": "87a7b2d8",
   "metadata": {},
   "outputs": [
    {
     "data": {
      "text/plain": [
       "0    1.05\n",
       "1    1.03\n",
       "2    1.02\n",
       "3    1.04\n",
       "4    1.01\n",
       "5    1.06\n",
       "dtype: float64"
      ]
     },
     "execution_count": 146,
     "metadata": {},
     "output_type": "execute_result"
    }
   ],
   "source": [
    "stock_changes = stock_changes + 1"
   ]
  },
  {
   "cell_type": "code",
   "execution_count": null,
   "id": "bb64e790",
   "metadata": {},
   "outputs": [],
   "source": [
    "price_changes = stock_prices * stock_changes\n",
    "print (price_changes)"
   ]
  },
  {
   "cell_type": "code",
   "execution_count": 145,
   "id": "beb923b8",
   "metadata": {},
   "outputs": [],
   "source": [
    "updated_prices = price_changes + stock_prices"
   ]
  },
  {
   "cell_type": "code",
   "execution_count": null,
   "id": "3ab8c7b8",
   "metadata": {},
   "outputs": [],
   "source": [
    "price_categories = updated_prices[updated_prices >= 3000]"
   ]
  },
  {
   "cell_type": "code",
   "execution_count": 148,
   "id": "2e0250b5",
   "metadata": {
    "collapsed": true
   },
   "outputs": [
    {
     "ename": "AttributeError",
     "evalue": "Can only use .str accessor with string values!",
     "output_type": "error",
     "traceback": [
      "\u001b[0;31m---------------------------------------------------------------------------\u001b[0m",
      "\u001b[0;31mAttributeError\u001b[0m                            Traceback (most recent call last)",
      "Input \u001b[0;32mIn [148]\u001b[0m, in \u001b[0;36m<cell line: 1>\u001b[0;34m()\u001b[0m\n\u001b[0;32m----> 1\u001b[0m \u001b[43mprice_categories\u001b[49m\u001b[38;5;241;43m.\u001b[39;49m\u001b[43mstr\u001b[49m\u001b[38;5;241m.\u001b[39mreplace(\u001b[38;5;124m'\u001b[39m\u001b[38;5;124mTrue\u001b[39m\u001b[38;5;124m'\u001b[39m,\u001b[38;5;124m'\u001b[39m\u001b[38;5;124mHigh\u001b[39m\u001b[38;5;124m'\u001b[39m)\n",
      "File \u001b[0;32m~/opt/anaconda3/lib/python3.9/site-packages/pandas/core/generic.py:5575\u001b[0m, in \u001b[0;36mNDFrame.__getattr__\u001b[0;34m(self, name)\u001b[0m\n\u001b[1;32m   5568\u001b[0m \u001b[38;5;28;01mif\u001b[39;00m (\n\u001b[1;32m   5569\u001b[0m     name \u001b[38;5;129;01mnot\u001b[39;00m \u001b[38;5;129;01min\u001b[39;00m \u001b[38;5;28mself\u001b[39m\u001b[38;5;241m.\u001b[39m_internal_names_set\n\u001b[1;32m   5570\u001b[0m     \u001b[38;5;129;01mand\u001b[39;00m name \u001b[38;5;129;01mnot\u001b[39;00m \u001b[38;5;129;01min\u001b[39;00m \u001b[38;5;28mself\u001b[39m\u001b[38;5;241m.\u001b[39m_metadata\n\u001b[1;32m   5571\u001b[0m     \u001b[38;5;129;01mand\u001b[39;00m name \u001b[38;5;129;01mnot\u001b[39;00m \u001b[38;5;129;01min\u001b[39;00m \u001b[38;5;28mself\u001b[39m\u001b[38;5;241m.\u001b[39m_accessors\n\u001b[1;32m   5572\u001b[0m     \u001b[38;5;129;01mand\u001b[39;00m \u001b[38;5;28mself\u001b[39m\u001b[38;5;241m.\u001b[39m_info_axis\u001b[38;5;241m.\u001b[39m_can_hold_identifiers_and_holds_name(name)\n\u001b[1;32m   5573\u001b[0m ):\n\u001b[1;32m   5574\u001b[0m     \u001b[38;5;28;01mreturn\u001b[39;00m \u001b[38;5;28mself\u001b[39m[name]\n\u001b[0;32m-> 5575\u001b[0m \u001b[38;5;28;01mreturn\u001b[39;00m \u001b[38;5;28;43mobject\u001b[39;49m\u001b[38;5;241;43m.\u001b[39;49m\u001b[38;5;21;43m__getattribute__\u001b[39;49m\u001b[43m(\u001b[49m\u001b[38;5;28;43mself\u001b[39;49m\u001b[43m,\u001b[49m\u001b[43m \u001b[49m\u001b[43mname\u001b[49m\u001b[43m)\u001b[49m\n",
      "File \u001b[0;32m~/opt/anaconda3/lib/python3.9/site-packages/pandas/core/accessor.py:182\u001b[0m, in \u001b[0;36mCachedAccessor.__get__\u001b[0;34m(self, obj, cls)\u001b[0m\n\u001b[1;32m    179\u001b[0m \u001b[38;5;28;01mif\u001b[39;00m obj \u001b[38;5;129;01mis\u001b[39;00m \u001b[38;5;28;01mNone\u001b[39;00m:\n\u001b[1;32m    180\u001b[0m     \u001b[38;5;66;03m# we're accessing the attribute of the class, i.e., Dataset.geo\u001b[39;00m\n\u001b[1;32m    181\u001b[0m     \u001b[38;5;28;01mreturn\u001b[39;00m \u001b[38;5;28mself\u001b[39m\u001b[38;5;241m.\u001b[39m_accessor\n\u001b[0;32m--> 182\u001b[0m accessor_obj \u001b[38;5;241m=\u001b[39m \u001b[38;5;28;43mself\u001b[39;49m\u001b[38;5;241;43m.\u001b[39;49m\u001b[43m_accessor\u001b[49m\u001b[43m(\u001b[49m\u001b[43mobj\u001b[49m\u001b[43m)\u001b[49m\n\u001b[1;32m    183\u001b[0m \u001b[38;5;66;03m# Replace the property with the accessor object. Inspired by:\u001b[39;00m\n\u001b[1;32m    184\u001b[0m \u001b[38;5;66;03m# https://www.pydanny.com/cached-property.html\u001b[39;00m\n\u001b[1;32m    185\u001b[0m \u001b[38;5;66;03m# We need to use object.__setattr__ because we overwrite __setattr__ on\u001b[39;00m\n\u001b[1;32m    186\u001b[0m \u001b[38;5;66;03m# NDFrame\u001b[39;00m\n\u001b[1;32m    187\u001b[0m \u001b[38;5;28mobject\u001b[39m\u001b[38;5;241m.\u001b[39m\u001b[38;5;21m__setattr__\u001b[39m(obj, \u001b[38;5;28mself\u001b[39m\u001b[38;5;241m.\u001b[39m_name, accessor_obj)\n",
      "File \u001b[0;32m~/opt/anaconda3/lib/python3.9/site-packages/pandas/core/strings/accessor.py:177\u001b[0m, in \u001b[0;36mStringMethods.__init__\u001b[0;34m(self, data)\u001b[0m\n\u001b[1;32m    174\u001b[0m \u001b[38;5;28;01mdef\u001b[39;00m \u001b[38;5;21m__init__\u001b[39m(\u001b[38;5;28mself\u001b[39m, data):\n\u001b[1;32m    175\u001b[0m     \u001b[38;5;28;01mfrom\u001b[39;00m \u001b[38;5;21;01mpandas\u001b[39;00m\u001b[38;5;21;01m.\u001b[39;00m\u001b[38;5;21;01mcore\u001b[39;00m\u001b[38;5;21;01m.\u001b[39;00m\u001b[38;5;21;01marrays\u001b[39;00m\u001b[38;5;21;01m.\u001b[39;00m\u001b[38;5;21;01mstring_\u001b[39;00m \u001b[38;5;28;01mimport\u001b[39;00m StringDtype\n\u001b[0;32m--> 177\u001b[0m     \u001b[38;5;28mself\u001b[39m\u001b[38;5;241m.\u001b[39m_inferred_dtype \u001b[38;5;241m=\u001b[39m \u001b[38;5;28;43mself\u001b[39;49m\u001b[38;5;241;43m.\u001b[39;49m\u001b[43m_validate\u001b[49m\u001b[43m(\u001b[49m\u001b[43mdata\u001b[49m\u001b[43m)\u001b[49m\n\u001b[1;32m    178\u001b[0m     \u001b[38;5;28mself\u001b[39m\u001b[38;5;241m.\u001b[39m_is_categorical \u001b[38;5;241m=\u001b[39m is_categorical_dtype(data\u001b[38;5;241m.\u001b[39mdtype)\n\u001b[1;32m    179\u001b[0m     \u001b[38;5;28mself\u001b[39m\u001b[38;5;241m.\u001b[39m_is_string \u001b[38;5;241m=\u001b[39m \u001b[38;5;28misinstance\u001b[39m(data\u001b[38;5;241m.\u001b[39mdtype, StringDtype)\n",
      "File \u001b[0;32m~/opt/anaconda3/lib/python3.9/site-packages/pandas/core/strings/accessor.py:231\u001b[0m, in \u001b[0;36mStringMethods._validate\u001b[0;34m(data)\u001b[0m\n\u001b[1;32m    228\u001b[0m inferred_dtype \u001b[38;5;241m=\u001b[39m lib\u001b[38;5;241m.\u001b[39minfer_dtype(values, skipna\u001b[38;5;241m=\u001b[39m\u001b[38;5;28;01mTrue\u001b[39;00m)\n\u001b[1;32m    230\u001b[0m \u001b[38;5;28;01mif\u001b[39;00m inferred_dtype \u001b[38;5;129;01mnot\u001b[39;00m \u001b[38;5;129;01min\u001b[39;00m allowed_types:\n\u001b[0;32m--> 231\u001b[0m     \u001b[38;5;28;01mraise\u001b[39;00m \u001b[38;5;167;01mAttributeError\u001b[39;00m(\u001b[38;5;124m\"\u001b[39m\u001b[38;5;124mCan only use .str accessor with string values!\u001b[39m\u001b[38;5;124m\"\u001b[39m)\n\u001b[1;32m    232\u001b[0m \u001b[38;5;28;01mreturn\u001b[39;00m inferred_dtype\n",
      "\u001b[0;31mAttributeError\u001b[0m: Can only use .str accessor with string values!"
     ]
    }
   ],
   "source": [
    "price_categories.str.replace('True','High')"
   ]
  },
  {
   "cell_type": "code",
   "execution_count": 154,
   "id": "f9546039",
   "metadata": {},
   "outputs": [],
   "source": [
    "price_categories_clemens = updated_prices.apply(lambda x: 'High' if x > 3000 else 'Low')"
   ]
  },
  {
   "cell_type": "code",
   "execution_count": 149,
   "id": "94623188",
   "metadata": {},
   "outputs": [
    {
     "data": {
      "text/plain": [
       "0     low\n",
       "1     low\n",
       "2     low\n",
       "3     low\n",
       "4    high\n",
       "5    high\n",
       "dtype: object"
      ]
     },
     "execution_count": 149,
     "metadata": {},
     "output_type": "execute_result"
    }
   ],
   "source": [
    "# price_categories_john = \n",
    "pd.Series(['high' if price > 3000 else 'low' for price in updated_prices])"
   ]
  },
  {
   "cell_type": "code",
   "execution_count": 152,
   "id": "a19d00fe",
   "metadata": {
    "slideshow": {
     "slide_type": "slide"
    }
   },
   "outputs": [],
   "source": [
    "l = [153.50, 2850.75, 5000.00]"
   ]
  },
  {
   "cell_type": "code",
   "execution_count": 153,
   "id": "cb3832ac",
   "metadata": {},
   "outputs": [
    {
     "data": {
      "text/plain": [
       "0    False\n",
       "1     True\n",
       "2    False\n",
       "3    False\n",
       "4    False\n",
       "5    False\n",
       "dtype: bool"
      ]
     },
     "execution_count": 153,
     "metadata": {},
     "output_type": "execute_result"
    }
   ],
   "source": [
    "stock_prices.isin(l)"
   ]
  },
  {
   "cell_type": "code",
   "execution_count": 155,
   "id": "ee9224ce",
   "metadata": {
    "slideshow": {
     "slide_type": "slide"
    }
   },
   "outputs": [
    {
     "data": {
      "text/plain": [
       "Low     4\n",
       "High    2\n",
       "dtype: int64"
      ]
     },
     "execution_count": 155,
     "metadata": {},
     "output_type": "execute_result"
    }
   ],
   "source": [
    "price_categories_clemens.value_counts()"
   ]
  },
  {
   "cell_type": "code",
   "execution_count": null,
   "id": "6efe5ed0",
   "metadata": {},
   "outputs": [],
   "source": []
  },
  {
   "cell_type": "code",
   "execution_count": null,
   "id": "9dc41b92",
   "metadata": {},
   "outputs": [],
   "source": []
  },
  {
   "cell_type": "markdown",
   "id": "c351155c",
   "metadata": {
    "slideshow": {
     "slide_type": "slide"
    }
   },
   "source": [
    "## 4. `GroupBy` Operations"
   ]
  },
  {
   "cell_type": "markdown",
   "id": "7953af88",
   "metadata": {
    "slideshow": {
     "slide_type": "slide"
    }
   },
   "source": [
    "`Pandas` provides powerful and flexible **grouping** capabilities that function similarly to SQL groupings and pivot tables in Excel. \n",
    "\n",
    "Grouping is often used when performing **aggregations** or **applying specific operations** to subsets of data."
   ]
  },
  {
   "cell_type": "markdown",
   "id": "d4393708",
   "metadata": {
    "slideshow": {
     "slide_type": "slide"
    }
   },
   "source": [
    "###### Initialization"
   ]
  },
  {
   "cell_type": "code",
   "execution_count": 156,
   "id": "33553edc",
   "metadata": {},
   "outputs": [
    {
     "data": {
      "text/html": [
       "<div>\n",
       "<style scoped>\n",
       "    .dataframe tbody tr th:only-of-type {\n",
       "        vertical-align: middle;\n",
       "    }\n",
       "\n",
       "    .dataframe tbody tr th {\n",
       "        vertical-align: top;\n",
       "    }\n",
       "\n",
       "    .dataframe thead th {\n",
       "        text-align: right;\n",
       "    }\n",
       "</style>\n",
       "<table border=\"1\" class=\"dataframe\">\n",
       "  <thead>\n",
       "    <tr style=\"text-align: right;\">\n",
       "      <th></th>\n",
       "      <th>Stock</th>\n",
       "      <th>Quarter</th>\n",
       "      <th>Price</th>\n",
       "      <th>Volume</th>\n",
       "      <th>Market_Cap</th>\n",
       "    </tr>\n",
       "  </thead>\n",
       "  <tbody>\n",
       "    <tr>\n",
       "      <th>0</th>\n",
       "      <td>AAPL</td>\n",
       "      <td>Q1</td>\n",
       "      <td>150.25</td>\n",
       "      <td>1000</td>\n",
       "      <td>2.410000e+12</td>\n",
       "    </tr>\n",
       "    <tr>\n",
       "      <th>1</th>\n",
       "      <td>AAPL</td>\n",
       "      <td>Q1</td>\n",
       "      <td>153.50</td>\n",
       "      <td>1100</td>\n",
       "      <td>2.450000e+12</td>\n",
       "    </tr>\n",
       "    <tr>\n",
       "      <th>2</th>\n",
       "      <td>GOOGL</td>\n",
       "      <td>Q1</td>\n",
       "      <td>2800.50</td>\n",
       "      <td>1500</td>\n",
       "      <td>1.780000e+12</td>\n",
       "    </tr>\n",
       "    <tr>\n",
       "      <th>3</th>\n",
       "      <td>GOOGL</td>\n",
       "      <td>Q2</td>\n",
       "      <td>2830.75</td>\n",
       "      <td>1600</td>\n",
       "      <td>1.820000e+12</td>\n",
       "    </tr>\n",
       "    <tr>\n",
       "      <th>4</th>\n",
       "      <td>AMZN</td>\n",
       "      <td>Q2</td>\n",
       "      <td>3400.00</td>\n",
       "      <td>1700</td>\n",
       "      <td>1.710000e+12</td>\n",
       "    </tr>\n",
       "    <tr>\n",
       "      <th>5</th>\n",
       "      <td>AMZN</td>\n",
       "      <td>Q2</td>\n",
       "      <td>3450.50</td>\n",
       "      <td>1800</td>\n",
       "      <td>1.750000e+12</td>\n",
       "    </tr>\n",
       "    <tr>\n",
       "      <th>6</th>\n",
       "      <td>AAPL</td>\n",
       "      <td>Q3</td>\n",
       "      <td>155.30</td>\n",
       "      <td>1200</td>\n",
       "      <td>2.500000e+12</td>\n",
       "    </tr>\n",
       "    <tr>\n",
       "      <th>7</th>\n",
       "      <td>GOOGL</td>\n",
       "      <td>Q3</td>\n",
       "      <td>2900.75</td>\n",
       "      <td>1700</td>\n",
       "      <td>1.850000e+12</td>\n",
       "    </tr>\n",
       "    <tr>\n",
       "      <th>8</th>\n",
       "      <td>AMZN</td>\n",
       "      <td>Q3</td>\n",
       "      <td>3500.75</td>\n",
       "      <td>2000</td>\n",
       "      <td>1.800000e+12</td>\n",
       "    </tr>\n",
       "  </tbody>\n",
       "</table>\n",
       "</div>"
      ],
      "text/plain": [
       "   Stock Quarter    Price  Volume    Market_Cap\n",
       "0   AAPL      Q1   150.25    1000  2.410000e+12\n",
       "1   AAPL      Q1   153.50    1100  2.450000e+12\n",
       "2  GOOGL      Q1  2800.50    1500  1.780000e+12\n",
       "3  GOOGL      Q2  2830.75    1600  1.820000e+12\n",
       "4   AMZN      Q2  3400.00    1700  1.710000e+12\n",
       "5   AMZN      Q2  3450.50    1800  1.750000e+12\n",
       "6   AAPL      Q3   155.30    1200  2.500000e+12\n",
       "7  GOOGL      Q3  2900.75    1700  1.850000e+12\n",
       "8   AMZN      Q3  3500.75    2000  1.800000e+12"
      ]
     },
     "execution_count": 156,
     "metadata": {},
     "output_type": "execute_result"
    }
   ],
   "source": [
    "# Creating a sample financial DataFrame\n",
    "data = {\n",
    "    'Stock': ['AAPL', 'AAPL', 'GOOGL', 'GOOGL', 'AMZN', 'AMZN', 'AAPL', 'GOOGL', 'AMZN'],\n",
    "    'Quarter': ['Q1', 'Q1', 'Q1', 'Q2', 'Q2', 'Q2', 'Q3', 'Q3', 'Q3'],\n",
    "    'Price': [150.25, 153.50, 2800.50, 2830.75, 3400.00, 3450.50, 155.30, 2900.75, 3500.75],\n",
    "    'Volume': [1000, 1100, 1500, 1600, 1700, 1800, 1200, 1700, 2000],\n",
    "    'Market_Cap': [2.41e12, 2.45e12, 1.78e12, 1.82e12, 1.71e12, 1.75e12, 2.50e12, 1.85e12, 1.80e12]\n",
    "}\n",
    "\n",
    "df = pd.DataFrame(data)\n",
    "df"
   ]
  },
  {
   "cell_type": "markdown",
   "id": "77ec91f4",
   "metadata": {
    "slideshow": {
     "slide_type": "slide"
    }
   },
   "source": [
    "### 4.1 Simple grouping"
   ]
  },
  {
   "cell_type": "markdown",
   "id": "a748854c",
   "metadata": {
    "slideshow": {
     "slide_type": "slide"
    }
   },
   "source": [
    "Simple grouping of a DataFrame using `.groupby()` is done on a specific column which then allows to perform basic operations on each group. "
   ]
  },
  {
   "cell_type": "code",
   "execution_count": 157,
   "id": "bd561ae5",
   "metadata": {},
   "outputs": [],
   "source": [
    "groups = df.groupby('Quarter')"
   ]
  },
  {
   "cell_type": "markdown",
   "id": "a4df5365",
   "metadata": {
    "slideshow": {
     "slide_type": "slide"
    }
   },
   "source": [
    "#### Inspection"
   ]
  },
  {
   "cell_type": "markdown",
   "id": "b9fac06b",
   "metadata": {},
   "source": [
    "- `.size()`: checks how many records belong to each group"
   ]
  },
  {
   "cell_type": "code",
   "execution_count": 158,
   "id": "1b41e74f",
   "metadata": {},
   "outputs": [
    {
     "data": {
      "text/plain": [
       "Quarter\n",
       "Q1    3\n",
       "Q2    3\n",
       "Q3    3\n",
       "dtype: int64"
      ]
     },
     "execution_count": 158,
     "metadata": {},
     "output_type": "execute_result"
    }
   ],
   "source": [
    "groups.size()"
   ]
  },
  {
   "cell_type": "markdown",
   "id": "bb3d6d83",
   "metadata": {
    "slideshow": {
     "slide_type": "slide"
    }
   },
   "source": [
    "#### Basic Operations on Groups"
   ]
  },
  {
   "cell_type": "markdown",
   "id": "ac1372ce",
   "metadata": {},
   "source": [
    "Groups can perform simple aggregate functions\n",
    "- `.mean()[cols]`: compute the average value of given columns for each group."
   ]
  },
  {
   "cell_type": "code",
   "execution_count": 160,
   "id": "cb83bf3d",
   "metadata": {},
   "outputs": [
    {
     "data": {
      "text/html": [
       "<div>\n",
       "<style scoped>\n",
       "    .dataframe tbody tr th:only-of-type {\n",
       "        vertical-align: middle;\n",
       "    }\n",
       "\n",
       "    .dataframe tbody tr th {\n",
       "        vertical-align: top;\n",
       "    }\n",
       "\n",
       "    .dataframe thead th {\n",
       "        text-align: right;\n",
       "    }\n",
       "</style>\n",
       "<table border=\"1\" class=\"dataframe\">\n",
       "  <thead>\n",
       "    <tr style=\"text-align: right;\">\n",
       "      <th></th>\n",
       "      <th>Price</th>\n",
       "      <th>Volume</th>\n",
       "    </tr>\n",
       "    <tr>\n",
       "      <th>Quarter</th>\n",
       "      <th></th>\n",
       "      <th></th>\n",
       "    </tr>\n",
       "  </thead>\n",
       "  <tbody>\n",
       "    <tr>\n",
       "      <th>Q1</th>\n",
       "      <td>1034.750000</td>\n",
       "      <td>1200.000000</td>\n",
       "    </tr>\n",
       "    <tr>\n",
       "      <th>Q2</th>\n",
       "      <td>3227.083333</td>\n",
       "      <td>1700.000000</td>\n",
       "    </tr>\n",
       "    <tr>\n",
       "      <th>Q3</th>\n",
       "      <td>2185.600000</td>\n",
       "      <td>1633.333333</td>\n",
       "    </tr>\n",
       "  </tbody>\n",
       "</table>\n",
       "</div>"
      ],
      "text/plain": [
       "               Price       Volume\n",
       "Quarter                          \n",
       "Q1       1034.750000  1200.000000\n",
       "Q2       3227.083333  1700.000000\n",
       "Q3       2185.600000  1633.333333"
      ]
     },
     "execution_count": 160,
     "metadata": {},
     "output_type": "execute_result"
    }
   ],
   "source": [
    "groups.mean()[['Price', 'Volume']]"
   ]
  },
  {
   "cell_type": "markdown",
   "id": "f02b5624",
   "metadata": {},
   "source": [
    "- `groups.max()[cols]`: shows the maximum for given columns for each group."
   ]
  },
  {
   "cell_type": "code",
   "execution_count": 161,
   "id": "2e7060a2",
   "metadata": {},
   "outputs": [
    {
     "data": {
      "text/html": [
       "<div>\n",
       "<style scoped>\n",
       "    .dataframe tbody tr th:only-of-type {\n",
       "        vertical-align: middle;\n",
       "    }\n",
       "\n",
       "    .dataframe tbody tr th {\n",
       "        vertical-align: top;\n",
       "    }\n",
       "\n",
       "    .dataframe thead th {\n",
       "        text-align: right;\n",
       "    }\n",
       "</style>\n",
       "<table border=\"1\" class=\"dataframe\">\n",
       "  <thead>\n",
       "    <tr style=\"text-align: right;\">\n",
       "      <th></th>\n",
       "      <th>Price</th>\n",
       "      <th>Volume</th>\n",
       "    </tr>\n",
       "    <tr>\n",
       "      <th>Quarter</th>\n",
       "      <th></th>\n",
       "      <th></th>\n",
       "    </tr>\n",
       "  </thead>\n",
       "  <tbody>\n",
       "    <tr>\n",
       "      <th>Q1</th>\n",
       "      <td>2800.50</td>\n",
       "      <td>1500</td>\n",
       "    </tr>\n",
       "    <tr>\n",
       "      <th>Q2</th>\n",
       "      <td>3450.50</td>\n",
       "      <td>1800</td>\n",
       "    </tr>\n",
       "    <tr>\n",
       "      <th>Q3</th>\n",
       "      <td>3500.75</td>\n",
       "      <td>2000</td>\n",
       "    </tr>\n",
       "  </tbody>\n",
       "</table>\n",
       "</div>"
      ],
      "text/plain": [
       "           Price  Volume\n",
       "Quarter                 \n",
       "Q1       2800.50    1500\n",
       "Q2       3450.50    1800\n",
       "Q3       3500.75    2000"
      ]
     },
     "execution_count": 161,
     "metadata": {},
     "output_type": "execute_result"
    }
   ],
   "source": [
    "groups.max()[['Price', 'Volume']]"
   ]
  },
  {
   "cell_type": "markdown",
   "id": "bb92063c",
   "metadata": {
    "slideshow": {
     "slide_type": "slide"
    }
   },
   "source": [
    "#### Aggregating Multiple Functions at Once"
   ]
  },
  {
   "cell_type": "markdown",
   "id": "675696ee",
   "metadata": {},
   "source": [
    "The `.aggreagte()` methods obtains multiple aggregate functions to summarize data. "
   ]
  },
  {
   "cell_type": "code",
   "execution_count": 166,
   "id": "0875338d",
   "metadata": {},
   "outputs": [
    {
     "data": {
      "text/html": [
       "<div>\n",
       "<style scoped>\n",
       "    .dataframe tbody tr th:only-of-type {\n",
       "        vertical-align: middle;\n",
       "    }\n",
       "\n",
       "    .dataframe tbody tr th {\n",
       "        vertical-align: top;\n",
       "    }\n",
       "\n",
       "    .dataframe thead tr th {\n",
       "        text-align: left;\n",
       "    }\n",
       "\n",
       "    .dataframe thead tr:last-of-type th {\n",
       "        text-align: right;\n",
       "    }\n",
       "</style>\n",
       "<table border=\"1\" class=\"dataframe\">\n",
       "  <thead>\n",
       "    <tr>\n",
       "      <th></th>\n",
       "      <th colspan=\"2\" halign=\"left\">Price</th>\n",
       "      <th colspan=\"2\" halign=\"left\">Volume</th>\n",
       "    </tr>\n",
       "    <tr>\n",
       "      <th></th>\n",
       "      <th>min</th>\n",
       "      <th>max</th>\n",
       "      <th>min</th>\n",
       "      <th>max</th>\n",
       "    </tr>\n",
       "    <tr>\n",
       "      <th>Quarter</th>\n",
       "      <th></th>\n",
       "      <th></th>\n",
       "      <th></th>\n",
       "      <th></th>\n",
       "    </tr>\n",
       "  </thead>\n",
       "  <tbody>\n",
       "    <tr>\n",
       "      <th>Q1</th>\n",
       "      <td>150.25</td>\n",
       "      <td>2800.50</td>\n",
       "      <td>1000</td>\n",
       "      <td>1500</td>\n",
       "    </tr>\n",
       "    <tr>\n",
       "      <th>Q2</th>\n",
       "      <td>2830.75</td>\n",
       "      <td>3450.50</td>\n",
       "      <td>1600</td>\n",
       "      <td>1800</td>\n",
       "    </tr>\n",
       "    <tr>\n",
       "      <th>Q3</th>\n",
       "      <td>155.30</td>\n",
       "      <td>3500.75</td>\n",
       "      <td>1200</td>\n",
       "      <td>2000</td>\n",
       "    </tr>\n",
       "  </tbody>\n",
       "</table>\n",
       "</div>"
      ],
      "text/plain": [
       "           Price          Volume      \n",
       "             min      max    min   max\n",
       "Quarter                               \n",
       "Q1        150.25  2800.50   1000  1500\n",
       "Q2       2830.75  3450.50   1600  1800\n",
       "Q3        155.30  3500.75   1200  2000"
      ]
     },
     "execution_count": 166,
     "metadata": {},
     "output_type": "execute_result"
    }
   ],
   "source": [
    "groups[['Price', 'Volume']].aggregate(['min', 'max']).round(2)"
   ]
  },
  {
   "cell_type": "markdown",
   "id": "74ecb449",
   "metadata": {
    "slideshow": {
     "slide_type": "slide"
    }
   },
   "source": [
    "### 4.2 Grouping by multiple columns"
   ]
  },
  {
   "cell_type": "code",
   "execution_count": 167,
   "id": "c5246b52",
   "metadata": {
    "slideshow": {
     "slide_type": "slide"
    }
   },
   "outputs": [],
   "source": [
    "groups = df.groupby(['Quarter', 'Stock'])"
   ]
  },
  {
   "cell_type": "code",
   "execution_count": 168,
   "id": "ec464954",
   "metadata": {},
   "outputs": [
    {
     "data": {
      "text/plain": [
       "Quarter  Stock\n",
       "Q1       AAPL     2\n",
       "         GOOGL    1\n",
       "Q2       AMZN     2\n",
       "         GOOGL    1\n",
       "Q3       AAPL     1\n",
       "         AMZN     1\n",
       "         GOOGL    1\n",
       "dtype: int64"
      ]
     },
     "execution_count": 168,
     "metadata": {},
     "output_type": "execute_result"
    }
   ],
   "source": [
    "groups.size()"
   ]
  },
  {
   "cell_type": "markdown",
   "id": "b4a54846",
   "metadata": {
    "slideshow": {
     "slide_type": "slide"
    }
   },
   "source": [
    "### 4.3 Advanced grouping example"
   ]
  },
  {
   "cell_type": "markdown",
   "id": "484f32c1",
   "metadata": {
    "slideshow": {
     "slide_type": "slide"
    }
   },
   "source": [
    "#### Aggregations on Multiple Groups"
   ]
  },
  {
   "cell_type": "markdown",
   "id": "16e991fb",
   "metadata": {},
   "source": [
    "After grouping by multiple column, one can perform multiple operations, such as summing and calculating the mean for specific columns"
   ]
  },
  {
   "cell_type": "code",
   "execution_count": 169,
   "id": "d1b5a7fb",
   "metadata": {},
   "outputs": [
    {
     "data": {
      "text/html": [
       "<div>\n",
       "<style scoped>\n",
       "    .dataframe tbody tr th:only-of-type {\n",
       "        vertical-align: middle;\n",
       "    }\n",
       "\n",
       "    .dataframe tbody tr th {\n",
       "        vertical-align: top;\n",
       "    }\n",
       "\n",
       "    .dataframe thead tr th {\n",
       "        text-align: left;\n",
       "    }\n",
       "\n",
       "    .dataframe thead tr:last-of-type th {\n",
       "        text-align: right;\n",
       "    }\n",
       "</style>\n",
       "<table border=\"1\" class=\"dataframe\">\n",
       "  <thead>\n",
       "    <tr>\n",
       "      <th></th>\n",
       "      <th></th>\n",
       "      <th colspan=\"2\" halign=\"left\">Price</th>\n",
       "      <th colspan=\"2\" halign=\"left\">Volume</th>\n",
       "    </tr>\n",
       "    <tr>\n",
       "      <th></th>\n",
       "      <th></th>\n",
       "      <th>sum</th>\n",
       "      <th>mean</th>\n",
       "      <th>sum</th>\n",
       "      <th>mean</th>\n",
       "    </tr>\n",
       "    <tr>\n",
       "      <th>Quarter</th>\n",
       "      <th>Stock</th>\n",
       "      <th></th>\n",
       "      <th></th>\n",
       "      <th></th>\n",
       "      <th></th>\n",
       "    </tr>\n",
       "  </thead>\n",
       "  <tbody>\n",
       "    <tr>\n",
       "      <th rowspan=\"2\" valign=\"top\">Q1</th>\n",
       "      <th>AAPL</th>\n",
       "      <td>303.75</td>\n",
       "      <td>151.875</td>\n",
       "      <td>2100</td>\n",
       "      <td>1050.0</td>\n",
       "    </tr>\n",
       "    <tr>\n",
       "      <th>GOOGL</th>\n",
       "      <td>2800.50</td>\n",
       "      <td>2800.500</td>\n",
       "      <td>1500</td>\n",
       "      <td>1500.0</td>\n",
       "    </tr>\n",
       "    <tr>\n",
       "      <th rowspan=\"2\" valign=\"top\">Q2</th>\n",
       "      <th>AMZN</th>\n",
       "      <td>6850.50</td>\n",
       "      <td>3425.250</td>\n",
       "      <td>3500</td>\n",
       "      <td>1750.0</td>\n",
       "    </tr>\n",
       "    <tr>\n",
       "      <th>GOOGL</th>\n",
       "      <td>2830.75</td>\n",
       "      <td>2830.750</td>\n",
       "      <td>1600</td>\n",
       "      <td>1600.0</td>\n",
       "    </tr>\n",
       "    <tr>\n",
       "      <th rowspan=\"3\" valign=\"top\">Q3</th>\n",
       "      <th>AAPL</th>\n",
       "      <td>155.30</td>\n",
       "      <td>155.300</td>\n",
       "      <td>1200</td>\n",
       "      <td>1200.0</td>\n",
       "    </tr>\n",
       "    <tr>\n",
       "      <th>AMZN</th>\n",
       "      <td>3500.75</td>\n",
       "      <td>3500.750</td>\n",
       "      <td>2000</td>\n",
       "      <td>2000.0</td>\n",
       "    </tr>\n",
       "    <tr>\n",
       "      <th>GOOGL</th>\n",
       "      <td>2900.75</td>\n",
       "      <td>2900.750</td>\n",
       "      <td>1700</td>\n",
       "      <td>1700.0</td>\n",
       "    </tr>\n",
       "  </tbody>\n",
       "</table>\n",
       "</div>"
      ],
      "text/plain": [
       "                 Price           Volume        \n",
       "                   sum      mean    sum    mean\n",
       "Quarter Stock                                  \n",
       "Q1      AAPL    303.75   151.875   2100  1050.0\n",
       "        GOOGL  2800.50  2800.500   1500  1500.0\n",
       "Q2      AMZN   6850.50  3425.250   3500  1750.0\n",
       "        GOOGL  2830.75  2830.750   1600  1600.0\n",
       "Q3      AAPL    155.30   155.300   1200  1200.0\n",
       "        AMZN   3500.75  3500.750   2000  2000.0\n",
       "        GOOGL  2900.75  2900.750   1700  1700.0"
      ]
     },
     "execution_count": 169,
     "metadata": {},
     "output_type": "execute_result"
    }
   ],
   "source": [
    "groups[['Price', 'Volume']].aggregate(['sum', 'mean'])"
   ]
  },
  {
   "cell_type": "markdown",
   "id": "768b7cc0",
   "metadata": {
    "slideshow": {
     "slide_type": "slide"
    }
   },
   "source": [
    "#### Calculating market share"
   ]
  },
  {
   "cell_type": "markdown",
   "id": "4f37c68e",
   "metadata": {},
   "source": [
    "**Goal:** calculate each stock’s market share in a specific quarter. \n",
    "- Compute the market share of each stock by dividing its market cap by the total market cap of all stocks in that quarter."
   ]
  },
  {
   "cell_type": "code",
   "execution_count": 175,
   "id": "30f2c254",
   "metadata": {
    "slideshow": {
     "slide_type": "slide"
    }
   },
   "outputs": [
    {
     "data": {
      "text/html": [
       "<div>\n",
       "<style scoped>\n",
       "    .dataframe tbody tr th:only-of-type {\n",
       "        vertical-align: middle;\n",
       "    }\n",
       "\n",
       "    .dataframe tbody tr th {\n",
       "        vertical-align: top;\n",
       "    }\n",
       "\n",
       "    .dataframe thead th {\n",
       "        text-align: right;\n",
       "    }\n",
       "</style>\n",
       "<table border=\"1\" class=\"dataframe\">\n",
       "  <thead>\n",
       "    <tr style=\"text-align: right;\">\n",
       "      <th></th>\n",
       "      <th>Stock</th>\n",
       "      <th>Quarter</th>\n",
       "      <th>Market_Share</th>\n",
       "    </tr>\n",
       "  </thead>\n",
       "  <tbody>\n",
       "    <tr>\n",
       "      <th>0</th>\n",
       "      <td>AAPL</td>\n",
       "      <td>Q1</td>\n",
       "      <td>0.362952</td>\n",
       "    </tr>\n",
       "    <tr>\n",
       "      <th>1</th>\n",
       "      <td>AAPL</td>\n",
       "      <td>Q1</td>\n",
       "      <td>0.368976</td>\n",
       "    </tr>\n",
       "    <tr>\n",
       "      <th>2</th>\n",
       "      <td>GOOGL</td>\n",
       "      <td>Q1</td>\n",
       "      <td>0.268072</td>\n",
       "    </tr>\n",
       "    <tr>\n",
       "      <th>3</th>\n",
       "      <td>GOOGL</td>\n",
       "      <td>Q2</td>\n",
       "      <td>0.344697</td>\n",
       "    </tr>\n",
       "    <tr>\n",
       "      <th>4</th>\n",
       "      <td>AMZN</td>\n",
       "      <td>Q2</td>\n",
       "      <td>0.323864</td>\n",
       "    </tr>\n",
       "    <tr>\n",
       "      <th>5</th>\n",
       "      <td>AMZN</td>\n",
       "      <td>Q2</td>\n",
       "      <td>0.331439</td>\n",
       "    </tr>\n",
       "    <tr>\n",
       "      <th>6</th>\n",
       "      <td>AAPL</td>\n",
       "      <td>Q3</td>\n",
       "      <td>0.406504</td>\n",
       "    </tr>\n",
       "    <tr>\n",
       "      <th>7</th>\n",
       "      <td>GOOGL</td>\n",
       "      <td>Q3</td>\n",
       "      <td>0.300813</td>\n",
       "    </tr>\n",
       "    <tr>\n",
       "      <th>8</th>\n",
       "      <td>AMZN</td>\n",
       "      <td>Q3</td>\n",
       "      <td>0.292683</td>\n",
       "    </tr>\n",
       "  </tbody>\n",
       "</table>\n",
       "</div>"
      ],
      "text/plain": [
       "   Stock Quarter  Market_Share\n",
       "0   AAPL      Q1      0.362952\n",
       "1   AAPL      Q1      0.368976\n",
       "2  GOOGL      Q1      0.268072\n",
       "3  GOOGL      Q2      0.344697\n",
       "4   AMZN      Q2      0.323864\n",
       "5   AMZN      Q2      0.331439\n",
       "6   AAPL      Q3      0.406504\n",
       "7  GOOGL      Q3      0.300813\n",
       "8   AMZN      Q3      0.292683"
      ]
     },
     "execution_count": 175,
     "metadata": {},
     "output_type": "execute_result"
    }
   ],
   "source": [
    "# df['Market_Share'] = df.groupby('Quarter')['Market_Cap'].apply(lambda x: x / x.sum())\n",
    "df['Market_Share'] = df.groupby('Quarter')['Market_Cap'].transform(lambda x: x / x.sum())\n",
    "df[['Stock', 'Quarter', 'Market_Share']]"
   ]
  },
  {
   "cell_type": "markdown",
   "id": "de0cda4c",
   "metadata": {
    "slideshow": {
     "slide_type": "slide"
    }
   },
   "source": [
    "##### Step by step"
   ]
  },
  {
   "cell_type": "markdown",
   "id": "53b1706e",
   "metadata": {},
   "source": [
    "- Step 1: Grouping by `Quarter`\n",
    "\n",
    "We are using the `groupby()` function to group the data by the `Quarter` column:\n",
    "\n",
    "```python\n",
    "df.groupby('Quarter')\n",
    "```\n",
    "This groups the rows in the `DataFrame` based on the values in the `Quarter` column. This means that all stocks from the same quarter will be grouped together."
   ]
  },
  {
   "cell_type": "markdown",
   "id": "5acf207c",
   "metadata": {
    "slideshow": {
     "slide_type": "slide"
    }
   },
   "source": [
    "- Step 2: Applying the Aggregation\n",
    "\n",
    "Next, we focus on the `Market_Cap` column within each quarter. This is done using:\n",
    "```python\n",
    "df.groupby('Quarter')['Market_Cap']\n",
    "```\n",
    "Here, we are selecting the `Market_Cap` values for each group (each quarter). We now want to calculate the market share for each stock within its respective quarter."
   ]
  },
  {
   "cell_type": "markdown",
   "id": "1d9549b0",
   "metadata": {
    "slideshow": {
     "slide_type": "slide"
    }
   },
   "source": [
    "- Step 3: Calculating Market Share with `apply()`\n",
    "\n",
    "The custom operation is a `lambda` function that computes the market share:\n",
    "```python\n",
    "lambda x: x / x.sum()\n",
    "```\n",
    "This `lambda` function divides each stock’s market capitalization (`x`) by the total market capitalization of all stocks in the same quarter (`x.sum()`).\n",
    "\n",
    "- `x` represents the `Market_Cap` values for the group (all stocks in a given quarter).\n",
    "- `x.sum()` calculates the total market capitalization for that quarter.\n",
    "- The `lambda` function then divides each stock’s market capitalization by the total, which gives the proportion (or market share) of that stock relative to the total market capitalization in the quarter."
   ]
  },
  {
   "cell_type": "markdown",
   "id": "1533021d",
   "metadata": {
    "slideshow": {
     "slide_type": "subslide"
    }
   },
   "source": [
    "- Step 4: Assigning the Market Share to a New Column\n",
    "\n",
    "The result of this operation is assigned to a new column in the DataFrame called Market_Share:\n",
    "\n",
    "```python\n",
    "df['Market_Share'] = ...\n",
    "```\n",
    "Now, each row in the DataFrame will have a Market_Share value representing the percentage of the total market capitalization that each stock holds within its respective quarter."
   ]
  },
  {
   "cell_type": "markdown",
   "id": "3474ca4a",
   "metadata": {
    "slideshow": {
     "slide_type": "slide"
    }
   },
   "source": [
    "## 🚦Checkpoint"
   ]
  },
  {
   "cell_type": "markdown",
   "id": "c69e6d3d",
   "metadata": {},
   "source": [
    "**Task:**\n",
    "1. Create a `DataFrame` with columns: `Employee`, `Department`, `Salary` from\n",
    "```python\n",
    "    data = {\n",
    "    'Employee': ['John', 'Jane', 'Peter', 'Lucy'],\n",
    "    'Department': ['HR', 'HR', 'IT', 'IT'],\n",
    "    'Salary': [50000, 60000, 70000, 80000]\n",
    "    }\n",
    "```\n",
    "2. Calculate the average salary per department."
   ]
  },
  {
   "cell_type": "code",
   "execution_count": 176,
   "id": "cd5c9279",
   "metadata": {
    "slideshow": {
     "slide_type": "slide"
    }
   },
   "outputs": [],
   "source": [
    "df = pd.DataFrame({\n",
    "    'Employee': ['John', 'Jane', 'Peter', 'Lucy'],\n",
    "    'Department': ['HR', 'HR', 'IT', 'IT'],\n",
    "    'Salary': [50000, 60000, 70000, 80000]\n",
    "    })"
   ]
  },
  {
   "cell_type": "code",
   "execution_count": 177,
   "id": "38c5f4a0",
   "metadata": {},
   "outputs": [
    {
     "data": {
      "text/plain": [
       "Department\n",
       "HR    55000.0\n",
       "IT    75000.0\n",
       "Name: Salary, dtype: float64"
      ]
     },
     "execution_count": 177,
     "metadata": {},
     "output_type": "execute_result"
    }
   ],
   "source": [
    "df.groupby('Department')['Salary'].mean()"
   ]
  },
  {
   "cell_type": "markdown",
   "id": "c19abc57",
   "metadata": {
    "slideshow": {
     "slide_type": "slide"
    }
   },
   "source": [
    "## 5. Complex Selection"
   ]
  },
  {
   "cell_type": "markdown",
   "id": "38fada55",
   "metadata": {
    "slideshow": {
     "slide_type": "slide"
    }
   },
   "source": [
    "In `pandas`, **data selection** involves formulating **conditions** based on column values and combining multiple conditions logically. "
   ]
  },
  {
   "cell_type": "markdown",
   "id": "abd87bbf",
   "metadata": {
    "slideshow": {
     "slide_type": "slide"
    }
   },
   "source": [
    "##### Initialization"
   ]
  },
  {
   "cell_type": "code",
   "execution_count": 178,
   "id": "98407a09",
   "metadata": {},
   "outputs": [],
   "source": [
    "import numpy as np\n",
    "\n",
    "# Creating a DataFrame with random financial data\n",
    "data = {\n",
    "    'Transaction_Amount': np.random.uniform(-500, 1500, 10),  # Random transaction amounts between -500 and 1500\n",
    "    'Interest_Rate': np.random.uniform(0.01, 0.15, 10),       # Random interest rates between 1% and 15%\n",
    "    'Loan_Amount': np.random.uniform(1000, 20000, 10),         # Random loan amounts between 1000 and 20000\n",
    "}\n",
    "\n",
    "df = pd.DataFrame(data)"
   ]
  },
  {
   "cell_type": "code",
   "execution_count": 179,
   "id": "c77e611c",
   "metadata": {
    "slideshow": {
     "slide_type": "slide"
    }
   },
   "outputs": [
    {
     "name": "stdout",
     "output_type": "stream",
     "text": [
      "<class 'pandas.core.frame.DataFrame'>\n",
      "RangeIndex: 10 entries, 0 to 9\n",
      "Data columns (total 3 columns):\n",
      " #   Column              Non-Null Count  Dtype  \n",
      "---  ------              --------------  -----  \n",
      " 0   Transaction_Amount  10 non-null     float64\n",
      " 1   Interest_Rate       10 non-null     float64\n",
      " 2   Loan_Amount         10 non-null     float64\n",
      "dtypes: float64(3)\n",
      "memory usage: 368.0 bytes\n"
     ]
    }
   ],
   "source": [
    "df.info()  # Display information about the DataFrame"
   ]
  },
  {
   "cell_type": "code",
   "execution_count": 180,
   "id": "3aec1de3",
   "metadata": {},
   "outputs": [
    {
     "data": {
      "text/html": [
       "<div>\n",
       "<style scoped>\n",
       "    .dataframe tbody tr th:only-of-type {\n",
       "        vertical-align: middle;\n",
       "    }\n",
       "\n",
       "    .dataframe tbody tr th {\n",
       "        vertical-align: top;\n",
       "    }\n",
       "\n",
       "    .dataframe thead th {\n",
       "        text-align: right;\n",
       "    }\n",
       "</style>\n",
       "<table border=\"1\" class=\"dataframe\">\n",
       "  <thead>\n",
       "    <tr style=\"text-align: right;\">\n",
       "      <th></th>\n",
       "      <th>Transaction_Amount</th>\n",
       "      <th>Interest_Rate</th>\n",
       "      <th>Loan_Amount</th>\n",
       "    </tr>\n",
       "  </thead>\n",
       "  <tbody>\n",
       "    <tr>\n",
       "      <th>0</th>\n",
       "      <td>1450.012987</td>\n",
       "      <td>0.062675</td>\n",
       "      <td>6258.536167</td>\n",
       "    </tr>\n",
       "    <tr>\n",
       "      <th>1</th>\n",
       "      <td>1269.706587</td>\n",
       "      <td>0.092993</td>\n",
       "      <td>5684.181743</td>\n",
       "    </tr>\n",
       "    <tr>\n",
       "      <th>2</th>\n",
       "      <td>219.015688</td>\n",
       "      <td>0.098192</td>\n",
       "      <td>4298.552033</td>\n",
       "    </tr>\n",
       "    <tr>\n",
       "      <th>3</th>\n",
       "      <td>697.717892</td>\n",
       "      <td>0.029964</td>\n",
       "      <td>19365.584195</td>\n",
       "    </tr>\n",
       "    <tr>\n",
       "      <th>4</th>\n",
       "      <td>209.591223</td>\n",
       "      <td>0.140738</td>\n",
       "      <td>19183.239407</td>\n",
       "    </tr>\n",
       "  </tbody>\n",
       "</table>\n",
       "</div>"
      ],
      "text/plain": [
       "   Transaction_Amount  Interest_Rate   Loan_Amount\n",
       "0         1450.012987       0.062675   6258.536167\n",
       "1         1269.706587       0.092993   5684.181743\n",
       "2          219.015688       0.098192   4298.552033\n",
       "3          697.717892       0.029964  19365.584195\n",
       "4          209.591223       0.140738  19183.239407"
      ]
     },
     "execution_count": 180,
     "metadata": {},
     "output_type": "execute_result"
    }
   ],
   "source": [
    "df.head()  # Display the first few rows"
   ]
  },
  {
   "cell_type": "markdown",
   "id": "04257fe4",
   "metadata": {
    "slideshow": {
     "slide_type": "slide"
    }
   },
   "source": [
    "### 5.1 Conditions"
   ]
  },
  {
   "cell_type": "markdown",
   "id": "889dd47d",
   "metadata": {
    "slideshow": {
     "slide_type": "slide"
    }
   },
   "source": [
    "Conditions based on the values in the `DataFrame` columns:"
   ]
  },
  {
   "cell_type": "markdown",
   "id": "dd720ab3",
   "metadata": {},
   "source": [
    "1. **Single Condition**: Selecting transactions greater than a specified amount:"
   ]
  },
  {
   "cell_type": "code",
   "execution_count": 182,
   "id": "92511097",
   "metadata": {},
   "outputs": [],
   "source": [
    "condition1 = df['Transaction_Amount'] > 0"
   ]
  },
  {
   "cell_type": "markdown",
   "id": "40c4ff65",
   "metadata": {
    "slideshow": {
     "slide_type": "slide"
    }
   },
   "source": [
    "2. **Multiple Conditions**: Using logical operators to combine conditions:\n",
    "- **AND** Condition: Selecting rows where the transaction amount is positive and the interest rate is less than 0.1:"
   ]
  },
  {
   "cell_type": "code",
   "execution_count": 183,
   "id": "7853380b",
   "metadata": {},
   "outputs": [],
   "source": [
    "condition2 = (df['Transaction_Amount'] > 0) & (df['Interest_Rate'] < 0.1)"
   ]
  },
  {
   "cell_type": "markdown",
   "id": "6614468b",
   "metadata": {},
   "source": [
    "- **OR** Condition: Selecting rows where the transaction amount is positive or the interest rate is less than 0.05:"
   ]
  },
  {
   "cell_type": "code",
   "execution_count": 184,
   "id": "6ffcb6bb",
   "metadata": {},
   "outputs": [],
   "source": [
    "condition3 = (df['Transaction_Amount'] > 0) | (df['Interest_Rate'] < 0.05)"
   ]
  },
  {
   "cell_type": "markdown",
   "id": "599862c0",
   "metadata": {
    "slideshow": {
     "slide_type": "slide"
    }
   },
   "source": [
    "3. **Condition on All Values**: Checking for all positive values in the DataFrame:"
   ]
  },
  {
   "cell_type": "code",
   "execution_count": 186,
   "id": "6405b326",
   "metadata": {},
   "outputs": [],
   "source": [
    "condition4 = df > 0"
   ]
  },
  {
   "cell_type": "markdown",
   "id": "8cbef882",
   "metadata": {
    "slideshow": {
     "slide_type": "slide"
    }
   },
   "source": [
    "### 5.2 Conditional Selection"
   ]
  },
  {
   "cell_type": "markdown",
   "id": "a2244038",
   "metadata": {
    "slideshow": {
     "slide_type": "slide"
    }
   },
   "source": [
    "Condition-based selection of data from the DataFrame."
   ]
  },
  {
   "cell_type": "markdown",
   "id": "0a226f6b",
   "metadata": {},
   "source": [
    "- **Select rows where `Transaction_Amount` is greater than 0**:"
   ]
  },
  {
   "cell_type": "code",
   "execution_count": 187,
   "id": "6757d605",
   "metadata": {},
   "outputs": [
    {
     "name": "stdout",
     "output_type": "stream",
     "text": [
      "   Transaction_Amount  Interest_Rate   Loan_Amount\n",
      "0         1450.012987       0.062675   6258.536167\n",
      "1         1269.706587       0.092993   5684.181743\n",
      "2          219.015688       0.098192   4298.552033\n",
      "3          697.717892       0.029964  19365.584195\n",
      "4          209.591223       0.140738  19183.239407\n",
      "5          180.380431       0.142493  12361.500002\n",
      "9          510.862859       0.038608   9806.462360\n"
     ]
    }
   ],
   "source": [
    "positive_transactions = df[df['Transaction_Amount'] > 0]\n",
    "print (positive_transactions)"
   ]
  },
  {
   "cell_type": "code",
   "execution_count": 188,
   "id": "840a0896",
   "metadata": {},
   "outputs": [
    {
     "data": {
      "text/html": [
       "<div>\n",
       "<style scoped>\n",
       "    .dataframe tbody tr th:only-of-type {\n",
       "        vertical-align: middle;\n",
       "    }\n",
       "\n",
       "    .dataframe tbody tr th {\n",
       "        vertical-align: top;\n",
       "    }\n",
       "\n",
       "    .dataframe thead th {\n",
       "        text-align: right;\n",
       "    }\n",
       "</style>\n",
       "<table border=\"1\" class=\"dataframe\">\n",
       "  <thead>\n",
       "    <tr style=\"text-align: right;\">\n",
       "      <th></th>\n",
       "      <th>Transaction_Amount</th>\n",
       "      <th>Interest_Rate</th>\n",
       "      <th>Loan_Amount</th>\n",
       "    </tr>\n",
       "  </thead>\n",
       "  <tbody>\n",
       "    <tr>\n",
       "      <th>0</th>\n",
       "      <td>1450.012987</td>\n",
       "      <td>0.062675</td>\n",
       "      <td>6258.536167</td>\n",
       "    </tr>\n",
       "    <tr>\n",
       "      <th>1</th>\n",
       "      <td>1269.706587</td>\n",
       "      <td>0.092993</td>\n",
       "      <td>5684.181743</td>\n",
       "    </tr>\n",
       "    <tr>\n",
       "      <th>2</th>\n",
       "      <td>219.015688</td>\n",
       "      <td>0.098192</td>\n",
       "      <td>4298.552033</td>\n",
       "    </tr>\n",
       "    <tr>\n",
       "      <th>3</th>\n",
       "      <td>697.717892</td>\n",
       "      <td>0.029964</td>\n",
       "      <td>19365.584195</td>\n",
       "    </tr>\n",
       "    <tr>\n",
       "      <th>4</th>\n",
       "      <td>209.591223</td>\n",
       "      <td>0.140738</td>\n",
       "      <td>19183.239407</td>\n",
       "    </tr>\n",
       "    <tr>\n",
       "      <th>5</th>\n",
       "      <td>180.380431</td>\n",
       "      <td>0.142493</td>\n",
       "      <td>12361.500002</td>\n",
       "    </tr>\n",
       "    <tr>\n",
       "      <th>9</th>\n",
       "      <td>510.862859</td>\n",
       "      <td>0.038608</td>\n",
       "      <td>9806.462360</td>\n",
       "    </tr>\n",
       "  </tbody>\n",
       "</table>\n",
       "</div>"
      ],
      "text/plain": [
       "   Transaction_Amount  Interest_Rate   Loan_Amount\n",
       "0         1450.012987       0.062675   6258.536167\n",
       "1         1269.706587       0.092993   5684.181743\n",
       "2          219.015688       0.098192   4298.552033\n",
       "3          697.717892       0.029964  19365.584195\n",
       "4          209.591223       0.140738  19183.239407\n",
       "5          180.380431       0.142493  12361.500002\n",
       "9          510.862859       0.038608   9806.462360"
      ]
     },
     "execution_count": 188,
     "metadata": {},
     "output_type": "execute_result"
    }
   ],
   "source": [
    "df[condition1]"
   ]
  },
  {
   "cell_type": "markdown",
   "id": "669ec1e4",
   "metadata": {
    "slideshow": {
     "slide_type": "slide"
    }
   },
   "source": [
    "- **Select rows where `Transaction_Amount` is positive and `Interest_Rate` is less than 0.1**:"
   ]
  },
  {
   "cell_type": "code",
   "execution_count": 189,
   "id": "172081bd",
   "metadata": {},
   "outputs": [
    {
     "name": "stdout",
     "output_type": "stream",
     "text": [
      "   Transaction_Amount  Interest_Rate   Loan_Amount\n",
      "0         1450.012987       0.062675   6258.536167\n",
      "1         1269.706587       0.092993   5684.181743\n",
      "2          219.015688       0.098192   4298.552033\n",
      "3          697.717892       0.029964  19365.584195\n",
      "9          510.862859       0.038608   9806.462360\n"
     ]
    }
   ],
   "source": [
    "filtered_transactions = df[(df['Transaction_Amount'] > 0) & (df['Interest_Rate'] < 0.1)]\n",
    "print (filtered_transactions)"
   ]
  },
  {
   "cell_type": "code",
   "execution_count": 190,
   "id": "9b13f72c",
   "metadata": {},
   "outputs": [
    {
     "data": {
      "text/html": [
       "<div>\n",
       "<style scoped>\n",
       "    .dataframe tbody tr th:only-of-type {\n",
       "        vertical-align: middle;\n",
       "    }\n",
       "\n",
       "    .dataframe tbody tr th {\n",
       "        vertical-align: top;\n",
       "    }\n",
       "\n",
       "    .dataframe thead th {\n",
       "        text-align: right;\n",
       "    }\n",
       "</style>\n",
       "<table border=\"1\" class=\"dataframe\">\n",
       "  <thead>\n",
       "    <tr style=\"text-align: right;\">\n",
       "      <th></th>\n",
       "      <th>Transaction_Amount</th>\n",
       "      <th>Interest_Rate</th>\n",
       "      <th>Loan_Amount</th>\n",
       "    </tr>\n",
       "  </thead>\n",
       "  <tbody>\n",
       "    <tr>\n",
       "      <th>0</th>\n",
       "      <td>1450.012987</td>\n",
       "      <td>0.062675</td>\n",
       "      <td>6258.536167</td>\n",
       "    </tr>\n",
       "    <tr>\n",
       "      <th>1</th>\n",
       "      <td>1269.706587</td>\n",
       "      <td>0.092993</td>\n",
       "      <td>5684.181743</td>\n",
       "    </tr>\n",
       "    <tr>\n",
       "      <th>2</th>\n",
       "      <td>219.015688</td>\n",
       "      <td>0.098192</td>\n",
       "      <td>4298.552033</td>\n",
       "    </tr>\n",
       "    <tr>\n",
       "      <th>3</th>\n",
       "      <td>697.717892</td>\n",
       "      <td>0.029964</td>\n",
       "      <td>19365.584195</td>\n",
       "    </tr>\n",
       "    <tr>\n",
       "      <th>9</th>\n",
       "      <td>510.862859</td>\n",
       "      <td>0.038608</td>\n",
       "      <td>9806.462360</td>\n",
       "    </tr>\n",
       "  </tbody>\n",
       "</table>\n",
       "</div>"
      ],
      "text/plain": [
       "   Transaction_Amount  Interest_Rate   Loan_Amount\n",
       "0         1450.012987       0.062675   6258.536167\n",
       "1         1269.706587       0.092993   5684.181743\n",
       "2          219.015688       0.098192   4298.552033\n",
       "3          697.717892       0.029964  19365.584195\n",
       "9          510.862859       0.038608   9806.462360"
      ]
     },
     "execution_count": 190,
     "metadata": {},
     "output_type": "execute_result"
    }
   ],
   "source": [
    "df[condition2]"
   ]
  },
  {
   "cell_type": "markdown",
   "id": "0de2b0a5",
   "metadata": {
    "slideshow": {
     "slide_type": "slide"
    }
   },
   "source": [
    "- **Select rows where either `Transaction_Amount` is positive or `Interest_Rate` is less than 0.05**:"
   ]
  },
  {
   "cell_type": "code",
   "execution_count": 191,
   "id": "b714499f",
   "metadata": {},
   "outputs": [],
   "source": [
    "selected_transactions = df[(df['Transaction_Amount'] > 0) | (df['Interest_Rate'] < 0.05)]"
   ]
  },
  {
   "cell_type": "markdown",
   "id": "43036d40",
   "metadata": {
    "slideshow": {
     "slide_type": "slide"
    }
   },
   "source": [
    "- **Select all positive values from the DataFrame**:"
   ]
  },
  {
   "cell_type": "code",
   "execution_count": 193,
   "id": "bd1ee0a6",
   "metadata": {},
   "outputs": [
    {
     "data": {
      "text/html": [
       "<div>\n",
       "<style scoped>\n",
       "    .dataframe tbody tr th:only-of-type {\n",
       "        vertical-align: middle;\n",
       "    }\n",
       "\n",
       "    .dataframe tbody tr th {\n",
       "        vertical-align: top;\n",
       "    }\n",
       "\n",
       "    .dataframe thead th {\n",
       "        text-align: right;\n",
       "    }\n",
       "</style>\n",
       "<table border=\"1\" class=\"dataframe\">\n",
       "  <thead>\n",
       "    <tr style=\"text-align: right;\">\n",
       "      <th></th>\n",
       "      <th>Transaction_Amount</th>\n",
       "      <th>Interest_Rate</th>\n",
       "      <th>Loan_Amount</th>\n",
       "    </tr>\n",
       "  </thead>\n",
       "  <tbody>\n",
       "    <tr>\n",
       "      <th>0</th>\n",
       "      <td>1450.012987</td>\n",
       "      <td>0.062675</td>\n",
       "      <td>6258.536167</td>\n",
       "    </tr>\n",
       "    <tr>\n",
       "      <th>1</th>\n",
       "      <td>1269.706587</td>\n",
       "      <td>0.092993</td>\n",
       "      <td>5684.181743</td>\n",
       "    </tr>\n",
       "    <tr>\n",
       "      <th>2</th>\n",
       "      <td>219.015688</td>\n",
       "      <td>0.098192</td>\n",
       "      <td>4298.552033</td>\n",
       "    </tr>\n",
       "    <tr>\n",
       "      <th>3</th>\n",
       "      <td>697.717892</td>\n",
       "      <td>0.029964</td>\n",
       "      <td>19365.584195</td>\n",
       "    </tr>\n",
       "    <tr>\n",
       "      <th>4</th>\n",
       "      <td>209.591223</td>\n",
       "      <td>0.140738</td>\n",
       "      <td>19183.239407</td>\n",
       "    </tr>\n",
       "    <tr>\n",
       "      <th>5</th>\n",
       "      <td>180.380431</td>\n",
       "      <td>0.142493</td>\n",
       "      <td>12361.500002</td>\n",
       "    </tr>\n",
       "    <tr>\n",
       "      <th>6</th>\n",
       "      <td>NaN</td>\n",
       "      <td>0.094322</td>\n",
       "      <td>14894.714308</td>\n",
       "    </tr>\n",
       "    <tr>\n",
       "      <th>7</th>\n",
       "      <td>NaN</td>\n",
       "      <td>0.064287</td>\n",
       "      <td>7467.319234</td>\n",
       "    </tr>\n",
       "    <tr>\n",
       "      <th>8</th>\n",
       "      <td>NaN</td>\n",
       "      <td>0.060846</td>\n",
       "      <td>2749.056464</td>\n",
       "    </tr>\n",
       "    <tr>\n",
       "      <th>9</th>\n",
       "      <td>510.862859</td>\n",
       "      <td>0.038608</td>\n",
       "      <td>9806.462360</td>\n",
       "    </tr>\n",
       "  </tbody>\n",
       "</table>\n",
       "</div>"
      ],
      "text/plain": [
       "   Transaction_Amount  Interest_Rate   Loan_Amount\n",
       "0         1450.012987       0.062675   6258.536167\n",
       "1         1269.706587       0.092993   5684.181743\n",
       "2          219.015688       0.098192   4298.552033\n",
       "3          697.717892       0.029964  19365.584195\n",
       "4          209.591223       0.140738  19183.239407\n",
       "5          180.380431       0.142493  12361.500002\n",
       "6                 NaN       0.094322  14894.714308\n",
       "7                 NaN       0.064287   7467.319234\n",
       "8                 NaN       0.060846   2749.056464\n",
       "9          510.862859       0.038608   9806.462360"
      ]
     },
     "execution_count": 193,
     "metadata": {},
     "output_type": "execute_result"
    }
   ],
   "source": [
    "positive_values"
   ]
  },
  {
   "cell_type": "code",
   "execution_count": 192,
   "id": "5e266e49",
   "metadata": {},
   "outputs": [],
   "source": [
    "positive_values = df[df > 0]"
   ]
  },
  {
   "cell_type": "markdown",
   "id": "b1f7d306",
   "metadata": {
    "slideshow": {
     "slide_type": "slide"
    }
   },
   "source": [
    "## 🚦Checkpoint"
   ]
  },
  {
   "cell_type": "markdown",
   "id": "eb5bd01b",
   "metadata": {},
   "source": [
    "**Task:**\n",
    "1. Create a `DataFrame` with columns `Age`, `Income` from\n",
    "```python \n",
    "    data = {\n",
    "        'Age': [25, 35, 45, 50],\n",
    "        'Income': [40000, 60000, 70000, 30000]\n",
    "    }\n",
    "```\n",
    "2. Select rows where `Age > 30` and `Income > 50000`."
   ]
  },
  {
   "cell_type": "code",
   "execution_count": 194,
   "id": "489f9cec",
   "metadata": {
    "slideshow": {
     "slide_type": "slide"
    }
   },
   "outputs": [],
   "source": [
    "df = pd.DataFrame({\n",
    "        'Age': [25, 35, 45, 50],\n",
    "        'Income': [40000, 60000, 70000, 30000]\n",
    "    })"
   ]
  },
  {
   "cell_type": "code",
   "execution_count": 197,
   "id": "eb108421",
   "metadata": {},
   "outputs": [],
   "source": [
    "condition = (df['Age'] > 30) & (df['Income'] > 50000)\n"
   ]
  },
  {
   "cell_type": "code",
   "execution_count": 200,
   "id": "f2eba746",
   "metadata": {},
   "outputs": [
    {
     "data": {
      "text/html": [
       "<div>\n",
       "<style scoped>\n",
       "    .dataframe tbody tr th:only-of-type {\n",
       "        vertical-align: middle;\n",
       "    }\n",
       "\n",
       "    .dataframe tbody tr th {\n",
       "        vertical-align: top;\n",
       "    }\n",
       "\n",
       "    .dataframe thead th {\n",
       "        text-align: right;\n",
       "    }\n",
       "</style>\n",
       "<table border=\"1\" class=\"dataframe\">\n",
       "  <thead>\n",
       "    <tr style=\"text-align: right;\">\n",
       "      <th></th>\n",
       "      <th>Age</th>\n",
       "      <th>Income</th>\n",
       "    </tr>\n",
       "  </thead>\n",
       "  <tbody>\n",
       "    <tr>\n",
       "      <th>1</th>\n",
       "      <td>35</td>\n",
       "      <td>60000</td>\n",
       "    </tr>\n",
       "    <tr>\n",
       "      <th>2</th>\n",
       "      <td>45</td>\n",
       "      <td>70000</td>\n",
       "    </tr>\n",
       "  </tbody>\n",
       "</table>\n",
       "</div>"
      ],
      "text/plain": [
       "   Age  Income\n",
       "1   35   60000\n",
       "2   45   70000"
      ]
     },
     "execution_count": 200,
     "metadata": {},
     "output_type": "execute_result"
    }
   ],
   "source": [
    "df[(df['Age'] > 30) & (df['Income'] > 50000)]"
   ]
  },
  {
   "cell_type": "code",
   "execution_count": 198,
   "id": "c8262e59",
   "metadata": {},
   "outputs": [
    {
     "data": {
      "text/plain": [
       "0    False\n",
       "1     True\n",
       "2     True\n",
       "3    False\n",
       "dtype: bool"
      ]
     },
     "execution_count": 198,
     "metadata": {},
     "output_type": "execute_result"
    }
   ],
   "source": [
    "condition"
   ]
  },
  {
   "cell_type": "code",
   "execution_count": 199,
   "id": "15803c00",
   "metadata": {},
   "outputs": [
    {
     "data": {
      "text/html": [
       "<div>\n",
       "<style scoped>\n",
       "    .dataframe tbody tr th:only-of-type {\n",
       "        vertical-align: middle;\n",
       "    }\n",
       "\n",
       "    .dataframe tbody tr th {\n",
       "        vertical-align: top;\n",
       "    }\n",
       "\n",
       "    .dataframe thead th {\n",
       "        text-align: right;\n",
       "    }\n",
       "</style>\n",
       "<table border=\"1\" class=\"dataframe\">\n",
       "  <thead>\n",
       "    <tr style=\"text-align: right;\">\n",
       "      <th></th>\n",
       "      <th>Age</th>\n",
       "      <th>Income</th>\n",
       "    </tr>\n",
       "  </thead>\n",
       "  <tbody>\n",
       "    <tr>\n",
       "      <th>1</th>\n",
       "      <td>35</td>\n",
       "      <td>60000</td>\n",
       "    </tr>\n",
       "    <tr>\n",
       "      <th>2</th>\n",
       "      <td>45</td>\n",
       "      <td>70000</td>\n",
       "    </tr>\n",
       "  </tbody>\n",
       "</table>\n",
       "</div>"
      ],
      "text/plain": [
       "   Age  Income\n",
       "1   35   60000\n",
       "2   45   70000"
      ]
     },
     "execution_count": 199,
     "metadata": {},
     "output_type": "execute_result"
    }
   ],
   "source": [
    "df[condition]"
   ]
  },
  {
   "cell_type": "markdown",
   "id": "aeb94986",
   "metadata": {
    "slideshow": {
     "slide_type": "slide"
    }
   },
   "source": [
    "## 6. Concatenation, Join, Merge"
   ]
  },
  {
   "cell_type": "markdown",
   "id": "4467ec57",
   "metadata": {
    "slideshow": {
     "slide_type": "slide"
    }
   },
   "source": [
    "Data manipulation often involves the need to **combine multiple datasets**. "
   ]
  },
  {
   "cell_type": "markdown",
   "id": "7aa6a258",
   "metadata": {
    "slideshow": {
     "slide_type": "slide"
    }
   },
   "source": [
    "#### Initialization"
   ]
  },
  {
   "cell_type": "code",
   "execution_count": 201,
   "id": "6753ac46",
   "metadata": {},
   "outputs": [],
   "source": [
    "loan_data = pd.DataFrame({\n",
    "    'Customer_ID': ['A001', 'A002', 'A003', 'A004'],\n",
    "    'Loan_Amount': [10000, 20000, 15000, 25000]\n",
    "})\n",
    "\n",
    "credit_scores = pd.DataFrame({\n",
    "    'Customer_ID': ['A002', 'A004', 'A005'],\n",
    "    'Credit_Score': [720, 680, 710]\n",
    "})"
   ]
  },
  {
   "cell_type": "code",
   "execution_count": 202,
   "id": "df4d8690",
   "metadata": {},
   "outputs": [
    {
     "data": {
      "text/html": [
       "<div>\n",
       "<style scoped>\n",
       "    .dataframe tbody tr th:only-of-type {\n",
       "        vertical-align: middle;\n",
       "    }\n",
       "\n",
       "    .dataframe tbody tr th {\n",
       "        vertical-align: top;\n",
       "    }\n",
       "\n",
       "    .dataframe thead th {\n",
       "        text-align: right;\n",
       "    }\n",
       "</style>\n",
       "<table border=\"1\" class=\"dataframe\">\n",
       "  <thead>\n",
       "    <tr style=\"text-align: right;\">\n",
       "      <th></th>\n",
       "      <th>Customer_ID</th>\n",
       "      <th>Loan_Amount</th>\n",
       "    </tr>\n",
       "  </thead>\n",
       "  <tbody>\n",
       "    <tr>\n",
       "      <th>0</th>\n",
       "      <td>A001</td>\n",
       "      <td>10000</td>\n",
       "    </tr>\n",
       "    <tr>\n",
       "      <th>1</th>\n",
       "      <td>A002</td>\n",
       "      <td>20000</td>\n",
       "    </tr>\n",
       "    <tr>\n",
       "      <th>2</th>\n",
       "      <td>A003</td>\n",
       "      <td>15000</td>\n",
       "    </tr>\n",
       "    <tr>\n",
       "      <th>3</th>\n",
       "      <td>A004</td>\n",
       "      <td>25000</td>\n",
       "    </tr>\n",
       "  </tbody>\n",
       "</table>\n",
       "</div>"
      ],
      "text/plain": [
       "  Customer_ID  Loan_Amount\n",
       "0        A001        10000\n",
       "1        A002        20000\n",
       "2        A003        15000\n",
       "3        A004        25000"
      ]
     },
     "execution_count": 202,
     "metadata": {},
     "output_type": "execute_result"
    }
   ],
   "source": [
    "loan_data"
   ]
  },
  {
   "cell_type": "code",
   "execution_count": 203,
   "id": "f83bb5c9",
   "metadata": {},
   "outputs": [
    {
     "data": {
      "text/html": [
       "<div>\n",
       "<style scoped>\n",
       "    .dataframe tbody tr th:only-of-type {\n",
       "        vertical-align: middle;\n",
       "    }\n",
       "\n",
       "    .dataframe tbody tr th {\n",
       "        vertical-align: top;\n",
       "    }\n",
       "\n",
       "    .dataframe thead th {\n",
       "        text-align: right;\n",
       "    }\n",
       "</style>\n",
       "<table border=\"1\" class=\"dataframe\">\n",
       "  <thead>\n",
       "    <tr style=\"text-align: right;\">\n",
       "      <th></th>\n",
       "      <th>Customer_ID</th>\n",
       "      <th>Credit_Score</th>\n",
       "    </tr>\n",
       "  </thead>\n",
       "  <tbody>\n",
       "    <tr>\n",
       "      <th>0</th>\n",
       "      <td>A002</td>\n",
       "      <td>720</td>\n",
       "    </tr>\n",
       "    <tr>\n",
       "      <th>1</th>\n",
       "      <td>A004</td>\n",
       "      <td>680</td>\n",
       "    </tr>\n",
       "    <tr>\n",
       "      <th>2</th>\n",
       "      <td>A005</td>\n",
       "      <td>710</td>\n",
       "    </tr>\n",
       "  </tbody>\n",
       "</table>\n",
       "</div>"
      ],
      "text/plain": [
       "  Customer_ID  Credit_Score\n",
       "0        A002           720\n",
       "1        A004           680\n",
       "2        A005           710"
      ]
     },
     "execution_count": 203,
     "metadata": {},
     "output_type": "execute_result"
    }
   ],
   "source": [
    "credit_scores"
   ]
  },
  {
   "cell_type": "markdown",
   "id": "54c74417",
   "metadata": {
    "slideshow": {
     "slide_type": "slide"
    }
   },
   "source": [
    "### 6.1 Concatenation"
   ]
  },
  {
   "cell_type": "markdown",
   "id": "bcc5d032",
   "metadata": {
    "slideshow": {
     "slide_type": "slide"
    }
   },
   "source": [
    "**Concatenation** or appending means adding rows from one DataFrame to another. "
   ]
  },
  {
   "cell_type": "code",
   "execution_count": 204,
   "id": "8e96ffcc",
   "metadata": {},
   "outputs": [
    {
     "data": {
      "text/html": [
       "<div>\n",
       "<style scoped>\n",
       "    .dataframe tbody tr th:only-of-type {\n",
       "        vertical-align: middle;\n",
       "    }\n",
       "\n",
       "    .dataframe tbody tr th {\n",
       "        vertical-align: top;\n",
       "    }\n",
       "\n",
       "    .dataframe thead th {\n",
       "        text-align: right;\n",
       "    }\n",
       "</style>\n",
       "<table border=\"1\" class=\"dataframe\">\n",
       "  <thead>\n",
       "    <tr style=\"text-align: right;\">\n",
       "      <th></th>\n",
       "      <th>Customer_ID</th>\n",
       "      <th>Loan_Amount</th>\n",
       "      <th>Credit_Score</th>\n",
       "    </tr>\n",
       "  </thead>\n",
       "  <tbody>\n",
       "    <tr>\n",
       "      <th>0</th>\n",
       "      <td>A001</td>\n",
       "      <td>10000.0</td>\n",
       "      <td>NaN</td>\n",
       "    </tr>\n",
       "    <tr>\n",
       "      <th>1</th>\n",
       "      <td>A002</td>\n",
       "      <td>20000.0</td>\n",
       "      <td>NaN</td>\n",
       "    </tr>\n",
       "    <tr>\n",
       "      <th>2</th>\n",
       "      <td>A003</td>\n",
       "      <td>15000.0</td>\n",
       "      <td>NaN</td>\n",
       "    </tr>\n",
       "    <tr>\n",
       "      <th>3</th>\n",
       "      <td>A004</td>\n",
       "      <td>25000.0</td>\n",
       "      <td>NaN</td>\n",
       "    </tr>\n",
       "    <tr>\n",
       "      <th>0</th>\n",
       "      <td>A002</td>\n",
       "      <td>NaN</td>\n",
       "      <td>720.0</td>\n",
       "    </tr>\n",
       "    <tr>\n",
       "      <th>1</th>\n",
       "      <td>A004</td>\n",
       "      <td>NaN</td>\n",
       "      <td>680.0</td>\n",
       "    </tr>\n",
       "    <tr>\n",
       "      <th>2</th>\n",
       "      <td>A005</td>\n",
       "      <td>NaN</td>\n",
       "      <td>710.0</td>\n",
       "    </tr>\n",
       "  </tbody>\n",
       "</table>\n",
       "</div>"
      ],
      "text/plain": [
       "  Customer_ID  Loan_Amount  Credit_Score\n",
       "0        A001      10000.0           NaN\n",
       "1        A002      20000.0           NaN\n",
       "2        A003      15000.0           NaN\n",
       "3        A004      25000.0           NaN\n",
       "0        A002          NaN         720.0\n",
       "1        A004          NaN         680.0\n",
       "2        A005          NaN         710.0"
      ]
     },
     "execution_count": 204,
     "metadata": {},
     "output_type": "execute_result"
    }
   ],
   "source": [
    "# Concatenating the DataFrames\n",
    "pd.concat([loan_data, credit_scores], sort=False)"
   ]
  },
  {
   "cell_type": "markdown",
   "id": "b2bfbd7f",
   "metadata": {},
   "source": [
    "- Remember that when concatenating, the index values are maintained unless specified otherwise. They can be reset `ignore_index=True` (more on this [here](#Indexing))."
   ]
  },
  {
   "cell_type": "code",
   "execution_count": null,
   "id": "eb58607c",
   "metadata": {},
   "outputs": [],
   "source": [
    "pd.concat([loan_data, credit_scores], ignore_index=True, sort=False)"
   ]
  },
  {
   "cell_type": "markdown",
   "id": "516e693b",
   "metadata": {
    "slideshow": {
     "slide_type": "slide"
    }
   },
   "source": [
    "### 6.2 Join"
   ]
  },
  {
   "cell_type": "markdown",
   "id": "4dcd6285",
   "metadata": {},
   "source": [
    "**Joining** allows to **combine two DataFrames** based on their **indices**. \n",
    "- It is similar to SQL joins \n",
    "- useful when combining datasets with matching shared keys."
   ]
  },
  {
   "cell_type": "markdown",
   "id": "07dd2b2a",
   "metadata": {},
   "source": [
    "Let’s join the `loan_data` and `credit_scores` using `Customer_ID`."
   ]
  },
  {
   "cell_type": "code",
   "execution_count": 206,
   "id": "aca529c7",
   "metadata": {},
   "outputs": [],
   "source": [
    "# Setting the 'Customer_ID' column as index for join\n",
    "loan_data.set_index('Customer_ID', inplace=True)\n",
    "credit_scores.set_index('Customer_ID', inplace=True)"
   ]
  },
  {
   "cell_type": "code",
   "execution_count": 207,
   "id": "1bf7939e",
   "metadata": {},
   "outputs": [
    {
     "data": {
      "text/html": [
       "<div>\n",
       "<style scoped>\n",
       "    .dataframe tbody tr th:only-of-type {\n",
       "        vertical-align: middle;\n",
       "    }\n",
       "\n",
       "    .dataframe tbody tr th {\n",
       "        vertical-align: top;\n",
       "    }\n",
       "\n",
       "    .dataframe thead th {\n",
       "        text-align: right;\n",
       "    }\n",
       "</style>\n",
       "<table border=\"1\" class=\"dataframe\">\n",
       "  <thead>\n",
       "    <tr style=\"text-align: right;\">\n",
       "      <th></th>\n",
       "      <th>Loan_Amount</th>\n",
       "    </tr>\n",
       "    <tr>\n",
       "      <th>Customer_ID</th>\n",
       "      <th></th>\n",
       "    </tr>\n",
       "  </thead>\n",
       "  <tbody>\n",
       "    <tr>\n",
       "      <th>A001</th>\n",
       "      <td>10000</td>\n",
       "    </tr>\n",
       "    <tr>\n",
       "      <th>A002</th>\n",
       "      <td>20000</td>\n",
       "    </tr>\n",
       "    <tr>\n",
       "      <th>A003</th>\n",
       "      <td>15000</td>\n",
       "    </tr>\n",
       "    <tr>\n",
       "      <th>A004</th>\n",
       "      <td>25000</td>\n",
       "    </tr>\n",
       "  </tbody>\n",
       "</table>\n",
       "</div>"
      ],
      "text/plain": [
       "             Loan_Amount\n",
       "Customer_ID             \n",
       "A001               10000\n",
       "A002               20000\n",
       "A003               15000\n",
       "A004               25000"
      ]
     },
     "execution_count": 207,
     "metadata": {},
     "output_type": "execute_result"
    }
   ],
   "source": [
    "loan_data"
   ]
  },
  {
   "cell_type": "code",
   "execution_count": 208,
   "id": "b7182511",
   "metadata": {
    "slideshow": {
     "slide_type": "slide"
    }
   },
   "outputs": [
    {
     "data": {
      "text/html": [
       "<div>\n",
       "<style scoped>\n",
       "    .dataframe tbody tr th:only-of-type {\n",
       "        vertical-align: middle;\n",
       "    }\n",
       "\n",
       "    .dataframe tbody tr th {\n",
       "        vertical-align: top;\n",
       "    }\n",
       "\n",
       "    .dataframe thead th {\n",
       "        text-align: right;\n",
       "    }\n",
       "</style>\n",
       "<table border=\"1\" class=\"dataframe\">\n",
       "  <thead>\n",
       "    <tr style=\"text-align: right;\">\n",
       "      <th></th>\n",
       "      <th>Loan_Amount</th>\n",
       "      <th>Credit_Score</th>\n",
       "    </tr>\n",
       "    <tr>\n",
       "      <th>Customer_ID</th>\n",
       "      <th></th>\n",
       "      <th></th>\n",
       "    </tr>\n",
       "  </thead>\n",
       "  <tbody>\n",
       "    <tr>\n",
       "      <th>A001</th>\n",
       "      <td>10000</td>\n",
       "      <td>NaN</td>\n",
       "    </tr>\n",
       "    <tr>\n",
       "      <th>A002</th>\n",
       "      <td>20000</td>\n",
       "      <td>720.0</td>\n",
       "    </tr>\n",
       "    <tr>\n",
       "      <th>A003</th>\n",
       "      <td>15000</td>\n",
       "      <td>NaN</td>\n",
       "    </tr>\n",
       "    <tr>\n",
       "      <th>A004</th>\n",
       "      <td>25000</td>\n",
       "      <td>680.0</td>\n",
       "    </tr>\n",
       "  </tbody>\n",
       "</table>\n",
       "</div>"
      ],
      "text/plain": [
       "             Loan_Amount  Credit_Score\n",
       "Customer_ID                           \n",
       "A001               10000           NaN\n",
       "A002               20000         720.0\n",
       "A003               15000           NaN\n",
       "A004               25000         680.0"
      ]
     },
     "execution_count": 208,
     "metadata": {},
     "output_type": "execute_result"
    }
   ],
   "source": [
    "# Performing a left join\n",
    "loan_data.join(credit_scores, how='left')"
   ]
  },
  {
   "cell_type": "markdown",
   "id": "cfe5f29d",
   "metadata": {
    "slideshow": {
     "slide_type": "slide"
    }
   },
   "source": [
    "**Join methods**\n",
    "\n",
    "There are **4 different approaches** to join `DataFrames`.\n",
    "\n",
    "Each approach leads to a different behavior with regard to how index values and the corresponding data rows are handled:\n",
    "\n",
    "| Join Method | Description                                             |\n",
    "|-------------|---------------------------------------------------------|\n",
    "| `left`      | Preserves index values from the left DataFrame.         |\n",
    "| `right`     | Preserves index values from the right DataFrame.        |\n",
    "| `inner`     | Preserves index values found in both DataFrames.        |\n",
    "| `outer`     | Preserves all index values from both DataFrames.        |"
   ]
  },
  {
   "cell_type": "code",
   "execution_count": 209,
   "id": "a3576d39",
   "metadata": {
    "slideshow": {
     "slide_type": "slide"
    }
   },
   "outputs": [
    {
     "data": {
      "text/html": [
       "<div>\n",
       "<style scoped>\n",
       "    .dataframe tbody tr th:only-of-type {\n",
       "        vertical-align: middle;\n",
       "    }\n",
       "\n",
       "    .dataframe tbody tr th {\n",
       "        vertical-align: top;\n",
       "    }\n",
       "\n",
       "    .dataframe thead th {\n",
       "        text-align: right;\n",
       "    }\n",
       "</style>\n",
       "<table border=\"1\" class=\"dataframe\">\n",
       "  <thead>\n",
       "    <tr style=\"text-align: right;\">\n",
       "      <th></th>\n",
       "      <th>Loan_Amount</th>\n",
       "      <th>Credit_Score</th>\n",
       "    </tr>\n",
       "    <tr>\n",
       "      <th>Customer_ID</th>\n",
       "      <th></th>\n",
       "      <th></th>\n",
       "    </tr>\n",
       "  </thead>\n",
       "  <tbody>\n",
       "    <tr>\n",
       "      <th>A002</th>\n",
       "      <td>20000.0</td>\n",
       "      <td>720</td>\n",
       "    </tr>\n",
       "    <tr>\n",
       "      <th>A004</th>\n",
       "      <td>25000.0</td>\n",
       "      <td>680</td>\n",
       "    </tr>\n",
       "    <tr>\n",
       "      <th>A005</th>\n",
       "      <td>NaN</td>\n",
       "      <td>710</td>\n",
       "    </tr>\n",
       "  </tbody>\n",
       "</table>\n",
       "</div>"
      ],
      "text/plain": [
       "             Loan_Amount  Credit_Score\n",
       "Customer_ID                           \n",
       "A002             20000.0           720\n",
       "A004             25000.0           680\n",
       "A005                 NaN           710"
      ]
     },
     "execution_count": 209,
     "metadata": {},
     "output_type": "execute_result"
    }
   ],
   "source": [
    "# Different types of joins\n",
    "loan_data.join(credit_scores, how='right')"
   ]
  },
  {
   "cell_type": "code",
   "execution_count": 210,
   "id": "ddd5bb91",
   "metadata": {},
   "outputs": [
    {
     "data": {
      "text/html": [
       "<div>\n",
       "<style scoped>\n",
       "    .dataframe tbody tr th:only-of-type {\n",
       "        vertical-align: middle;\n",
       "    }\n",
       "\n",
       "    .dataframe tbody tr th {\n",
       "        vertical-align: top;\n",
       "    }\n",
       "\n",
       "    .dataframe thead th {\n",
       "        text-align: right;\n",
       "    }\n",
       "</style>\n",
       "<table border=\"1\" class=\"dataframe\">\n",
       "  <thead>\n",
       "    <tr style=\"text-align: right;\">\n",
       "      <th></th>\n",
       "      <th>Loan_Amount</th>\n",
       "      <th>Credit_Score</th>\n",
       "    </tr>\n",
       "    <tr>\n",
       "      <th>Customer_ID</th>\n",
       "      <th></th>\n",
       "      <th></th>\n",
       "    </tr>\n",
       "  </thead>\n",
       "  <tbody>\n",
       "    <tr>\n",
       "      <th>A002</th>\n",
       "      <td>20000</td>\n",
       "      <td>720</td>\n",
       "    </tr>\n",
       "    <tr>\n",
       "      <th>A004</th>\n",
       "      <td>25000</td>\n",
       "      <td>680</td>\n",
       "    </tr>\n",
       "  </tbody>\n",
       "</table>\n",
       "</div>"
      ],
      "text/plain": [
       "             Loan_Amount  Credit_Score\n",
       "Customer_ID                           \n",
       "A002               20000           720\n",
       "A004               25000           680"
      ]
     },
     "execution_count": 210,
     "metadata": {},
     "output_type": "execute_result"
    }
   ],
   "source": [
    "loan_data.join(credit_scores, how='inner')"
   ]
  },
  {
   "cell_type": "code",
   "execution_count": 211,
   "id": "1465aa46",
   "metadata": {},
   "outputs": [
    {
     "data": {
      "text/html": [
       "<div>\n",
       "<style scoped>\n",
       "    .dataframe tbody tr th:only-of-type {\n",
       "        vertical-align: middle;\n",
       "    }\n",
       "\n",
       "    .dataframe tbody tr th {\n",
       "        vertical-align: top;\n",
       "    }\n",
       "\n",
       "    .dataframe thead th {\n",
       "        text-align: right;\n",
       "    }\n",
       "</style>\n",
       "<table border=\"1\" class=\"dataframe\">\n",
       "  <thead>\n",
       "    <tr style=\"text-align: right;\">\n",
       "      <th></th>\n",
       "      <th>Loan_Amount</th>\n",
       "      <th>Credit_Score</th>\n",
       "    </tr>\n",
       "    <tr>\n",
       "      <th>Customer_ID</th>\n",
       "      <th></th>\n",
       "      <th></th>\n",
       "    </tr>\n",
       "  </thead>\n",
       "  <tbody>\n",
       "    <tr>\n",
       "      <th>A001</th>\n",
       "      <td>10000.0</td>\n",
       "      <td>NaN</td>\n",
       "    </tr>\n",
       "    <tr>\n",
       "      <th>A002</th>\n",
       "      <td>20000.0</td>\n",
       "      <td>720.0</td>\n",
       "    </tr>\n",
       "    <tr>\n",
       "      <th>A003</th>\n",
       "      <td>15000.0</td>\n",
       "      <td>NaN</td>\n",
       "    </tr>\n",
       "    <tr>\n",
       "      <th>A004</th>\n",
       "      <td>25000.0</td>\n",
       "      <td>680.0</td>\n",
       "    </tr>\n",
       "    <tr>\n",
       "      <th>A005</th>\n",
       "      <td>NaN</td>\n",
       "      <td>710.0</td>\n",
       "    </tr>\n",
       "  </tbody>\n",
       "</table>\n",
       "</div>"
      ],
      "text/plain": [
       "             Loan_Amount  Credit_Score\n",
       "Customer_ID                           \n",
       "A001             10000.0           NaN\n",
       "A002             20000.0         720.0\n",
       "A003             15000.0           NaN\n",
       "A004             25000.0         680.0\n",
       "A005                 NaN         710.0"
      ]
     },
     "execution_count": 211,
     "metadata": {},
     "output_type": "execute_result"
    }
   ],
   "source": [
    "loan_data.join(credit_scores, how='outer')"
   ]
  },
  {
   "cell_type": "markdown",
   "id": "7f2dffb2",
   "metadata": {
    "slideshow": {
     "slide_type": "slide"
    }
   },
   "source": [
    "### 6.3 Merge"
   ]
  },
  {
   "cell_type": "markdown",
   "id": "168a4461",
   "metadata": {
    "slideshow": {
     "slide_type": "slide"
    }
   },
   "source": [
    "**Merging** `DataFrames` is similar to joining except it can be achieved on specific columns instead of only indeces. \n",
    "- Useful when financial datasets have overlapping columns."
   ]
  },
  {
   "cell_type": "code",
   "execution_count": 212,
   "id": "fbc26598",
   "metadata": {
    "slideshow": {
     "slide_type": "slide"
    }
   },
   "outputs": [],
   "source": [
    "# Resetting index for merging\n",
    "loan_data.reset_index(inplace=True)\n",
    "credit_scores.reset_index(inplace=True)"
   ]
  },
  {
   "cell_type": "code",
   "execution_count": 213,
   "id": "30fe90f6",
   "metadata": {},
   "outputs": [
    {
     "data": {
      "text/html": [
       "<div>\n",
       "<style scoped>\n",
       "    .dataframe tbody tr th:only-of-type {\n",
       "        vertical-align: middle;\n",
       "    }\n",
       "\n",
       "    .dataframe tbody tr th {\n",
       "        vertical-align: top;\n",
       "    }\n",
       "\n",
       "    .dataframe thead th {\n",
       "        text-align: right;\n",
       "    }\n",
       "</style>\n",
       "<table border=\"1\" class=\"dataframe\">\n",
       "  <thead>\n",
       "    <tr style=\"text-align: right;\">\n",
       "      <th></th>\n",
       "      <th>Customer_ID</th>\n",
       "      <th>Loan_Amount</th>\n",
       "    </tr>\n",
       "  </thead>\n",
       "  <tbody>\n",
       "    <tr>\n",
       "      <th>0</th>\n",
       "      <td>A001</td>\n",
       "      <td>10000</td>\n",
       "    </tr>\n",
       "    <tr>\n",
       "      <th>1</th>\n",
       "      <td>A002</td>\n",
       "      <td>20000</td>\n",
       "    </tr>\n",
       "    <tr>\n",
       "      <th>2</th>\n",
       "      <td>A003</td>\n",
       "      <td>15000</td>\n",
       "    </tr>\n",
       "    <tr>\n",
       "      <th>3</th>\n",
       "      <td>A004</td>\n",
       "      <td>25000</td>\n",
       "    </tr>\n",
       "  </tbody>\n",
       "</table>\n",
       "</div>"
      ],
      "text/plain": [
       "  Customer_ID  Loan_Amount\n",
       "0        A001        10000\n",
       "1        A002        20000\n",
       "2        A003        15000\n",
       "3        A004        25000"
      ]
     },
     "execution_count": 213,
     "metadata": {},
     "output_type": "execute_result"
    }
   ],
   "source": [
    "loan_data"
   ]
  },
  {
   "cell_type": "code",
   "execution_count": 214,
   "id": "5d04dcec",
   "metadata": {},
   "outputs": [
    {
     "data": {
      "text/html": [
       "<div>\n",
       "<style scoped>\n",
       "    .dataframe tbody tr th:only-of-type {\n",
       "        vertical-align: middle;\n",
       "    }\n",
       "\n",
       "    .dataframe tbody tr th {\n",
       "        vertical-align: top;\n",
       "    }\n",
       "\n",
       "    .dataframe thead th {\n",
       "        text-align: right;\n",
       "    }\n",
       "</style>\n",
       "<table border=\"1\" class=\"dataframe\">\n",
       "  <thead>\n",
       "    <tr style=\"text-align: right;\">\n",
       "      <th></th>\n",
       "      <th>Customer_ID</th>\n",
       "      <th>Loan_Amount</th>\n",
       "      <th>Credit_Score</th>\n",
       "    </tr>\n",
       "  </thead>\n",
       "  <tbody>\n",
       "    <tr>\n",
       "      <th>0</th>\n",
       "      <td>A002</td>\n",
       "      <td>20000</td>\n",
       "      <td>720</td>\n",
       "    </tr>\n",
       "    <tr>\n",
       "      <th>1</th>\n",
       "      <td>A004</td>\n",
       "      <td>25000</td>\n",
       "      <td>680</td>\n",
       "    </tr>\n",
       "  </tbody>\n",
       "</table>\n",
       "</div>"
      ],
      "text/plain": [
       "  Customer_ID  Loan_Amount  Credit_Score\n",
       "0        A002        20000           720\n",
       "1        A004        25000           680"
      ]
     },
     "execution_count": 214,
     "metadata": {},
     "output_type": "execute_result"
    }
   ],
   "source": [
    "# Merging based on the 'Customer_ID' column\n",
    "pd.merge(loan_data, credit_scores, on='Customer_ID', how='inner')"
   ]
  },
  {
   "cell_type": "markdown",
   "id": "96fe7022",
   "metadata": {
    "slideshow": {
     "slide_type": "slide"
    }
   },
   "source": [
    "As for **joins**, mergers can be done with the four different options:\n",
    "- `left`\n",
    "- `right`\n",
    "- `inner`\n",
    "- `outer`"
   ]
  },
  {
   "cell_type": "code",
   "execution_count": 215,
   "id": "a3e9a672",
   "metadata": {},
   "outputs": [
    {
     "data": {
      "text/html": [
       "<div>\n",
       "<style scoped>\n",
       "    .dataframe tbody tr th:only-of-type {\n",
       "        vertical-align: middle;\n",
       "    }\n",
       "\n",
       "    .dataframe tbody tr th {\n",
       "        vertical-align: top;\n",
       "    }\n",
       "\n",
       "    .dataframe thead th {\n",
       "        text-align: right;\n",
       "    }\n",
       "</style>\n",
       "<table border=\"1\" class=\"dataframe\">\n",
       "  <thead>\n",
       "    <tr style=\"text-align: right;\">\n",
       "      <th></th>\n",
       "      <th>Customer_ID</th>\n",
       "      <th>Loan_Amount</th>\n",
       "      <th>Credit_Score</th>\n",
       "    </tr>\n",
       "  </thead>\n",
       "  <tbody>\n",
       "    <tr>\n",
       "      <th>0</th>\n",
       "      <td>A001</td>\n",
       "      <td>10000.0</td>\n",
       "      <td>NaN</td>\n",
       "    </tr>\n",
       "    <tr>\n",
       "      <th>1</th>\n",
       "      <td>A002</td>\n",
       "      <td>20000.0</td>\n",
       "      <td>720.0</td>\n",
       "    </tr>\n",
       "    <tr>\n",
       "      <th>2</th>\n",
       "      <td>A003</td>\n",
       "      <td>15000.0</td>\n",
       "      <td>NaN</td>\n",
       "    </tr>\n",
       "    <tr>\n",
       "      <th>3</th>\n",
       "      <td>A004</td>\n",
       "      <td>25000.0</td>\n",
       "      <td>680.0</td>\n",
       "    </tr>\n",
       "    <tr>\n",
       "      <th>4</th>\n",
       "      <td>A005</td>\n",
       "      <td>NaN</td>\n",
       "      <td>710.0</td>\n",
       "    </tr>\n",
       "  </tbody>\n",
       "</table>\n",
       "</div>"
      ],
      "text/plain": [
       "  Customer_ID  Loan_Amount  Credit_Score\n",
       "0        A001      10000.0           NaN\n",
       "1        A002      20000.0         720.0\n",
       "2        A003      15000.0           NaN\n",
       "3        A004      25000.0         680.0\n",
       "4        A005          NaN         710.0"
      ]
     },
     "execution_count": 215,
     "metadata": {},
     "output_type": "execute_result"
    }
   ],
   "source": [
    "# Merge with outer join\n",
    "pd.merge(loan_data, credit_scores, on='Customer_ID', how='outer')"
   ]
  },
  {
   "cell_type": "markdown",
   "id": "951291ed",
   "metadata": {
    "slideshow": {
     "slide_type": "slide"
    }
   },
   "source": [
    "**Merging** can also be done using different columns from each `DataFrame`\n",
    "- `left_on`\n",
    "- `right_on`"
   ]
  },
  {
   "cell_type": "code",
   "execution_count": 216,
   "id": "d6b020ca",
   "metadata": {
    "slideshow": {
     "slide_type": "slide"
    }
   },
   "outputs": [
    {
     "name": "stdout",
     "output_type": "stream",
     "text": [
      "  Loan_ID  Amount Branch_ID   Branch_Name Manager    ID\n",
      "0    L001  5000.0      B001   Main Branch    John  B001\n",
      "1    L002  7000.0      B002   East Branch   Sally  B002\n",
      "2    L003  8000.0      B003   West Branch    Mike  B003\n",
      "3    L004  6000.0      B004           NaN     NaN   NaN\n",
      "4     NaN     NaN       NaN  North Branch    Anna  B005\n"
     ]
    }
   ],
   "source": [
    "# Sample DataFrame for loan data\n",
    "loan_data = pd.DataFrame({\n",
    "    'Loan_ID': ['L001', 'L002', 'L003', 'L004'],\n",
    "    'Amount': [5000, 7000, 8000, 6000],\n",
    "    'Branch_ID': ['B001', 'B002', 'B003', 'B004']\n",
    "})\n",
    "\n",
    "# Sample DataFrame for branch data\n",
    "branch_data = pd.DataFrame({\n",
    "    'Branch_Name': ['Main Branch', 'East Branch', 'West Branch', 'North Branch'],\n",
    "    'Manager': ['John', 'Sally', 'Mike', 'Anna'],\n",
    "    'ID': ['B001', 'B002', 'B003', 'B005']  # Different name for Branch_ID column\n",
    "})\n",
    "\n",
    "# Merging using different columns from each DataFrame\n",
    "# Merging on loan_data['Branch_ID'] and branch_data['ID']\n",
    "merged_df = pd.merge(loan_data, branch_data, left_on='Branch_ID', right_on='ID', how='outer')\n",
    "\n",
    "print(merged_df)"
   ]
  },
  {
   "cell_type": "markdown",
   "id": "892a6469",
   "metadata": {
    "slideshow": {
     "slide_type": "slide"
    }
   },
   "source": [
    "## 🚦Checkpoint"
   ]
  },
  {
   "cell_type": "markdown",
   "id": "06dc4067",
   "metadata": {},
   "source": [
    "**Task:**\n",
    "1. Create two `DataFrames`, one with `Customer_ID` and `Loan_Amount` and another with `Customer_ID` and `Credit_Score` from \n",
    "```python \n",
    "    loan_data = pd.DataFrame({\n",
    "    'Customer_ID': ['A001', 'A002', 'A003'],\n",
    "    'Loan_Amount': [10000, 15000, 20000]\n",
    "    })\n",
    "\n",
    "    credit_data = pd.DataFrame({\n",
    "        'Customer_ID': ['A001', 'A002', 'A004'],\n",
    "        'Credit_Score': [720, 650, 700]\n",
    "    })\n",
    "```\n",
    "2. Merge the two `DataFrames`."
   ]
  },
  {
   "cell_type": "markdown",
   "id": "a655d26d",
   "metadata": {},
   "source": [
    "---"
   ]
  }
 ],
 "metadata": {
  "celltoolbar": "Slideshow",
  "kernelspec": {
   "display_name": "Python 3 (ipykernel)",
   "language": "python",
   "name": "python3"
  },
  "language_info": {
   "codemirror_mode": {
    "name": "ipython",
    "version": 3
   },
   "file_extension": ".py",
   "mimetype": "text/x-python",
   "name": "python",
   "nbconvert_exporter": "python",
   "pygments_lexer": "ipython3",
   "version": "3.9.12"
  }
 },
 "nbformat": 4,
 "nbformat_minor": 5
}
