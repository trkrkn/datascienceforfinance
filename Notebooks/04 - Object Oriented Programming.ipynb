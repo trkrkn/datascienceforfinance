{
 "cells": [
  {
   "cell_type": "markdown",
   "id": "1edd1720",
   "metadata": {},
   "source": [
    "# Object-Oriented Programming (OOP) \n",
    "\n",
    "## Overview\n",
    "Object-Oriented Programming (OOP) is a programming paradigm based on the concept of \"objects,\" which can contain data (attributes) and code (methods). OOP allows for organizing complex programs into manageable, modular components, making your code more reusable, scalable, and easier to maintain.\n",
    "\n",
    "In this notebook, you'll learn about:\n",
    "- The basics of OOP: classes and objects\n",
    "- Defining classes and creating objects\n",
    "- Attributes and methods\n",
    "- Inheritance and polymorphism\n",
    "- How these concepts can be applied in banking and finance"
   ]
  },
  {
   "cell_type": "markdown",
   "id": "283b410e",
   "metadata": {},
   "source": [
    "## 1. The Basics of OOP: Classes and Objects\n",
    "\n",
    "### 1.1 What is a Class?\n",
    "\n",
    "A class is a blueprint for creating objects. It defines the attributes and methods that the objects created from the class will have.\n",
    "\n",
    "### 1.2 What is an Object?\n",
    "\n",
    "An object is an instance of a class. When you create an object, you are creating an instance of a class with specific values for its attributes.\n",
    "\n",
    "#### Example: Defining a Bank Account Class"
   ]
  },
  {
   "cell_type": "code",
   "execution_count": 1,
   "id": "898162c2",
   "metadata": {},
   "outputs": [],
   "source": [
    "# Example: Defining a simple BankAccount class\n",
    "class BankAccount:\n",
    "    def __init__(self, account_holder, balance=0):\n",
    "        self.account_holder = account_holder\n",
    "        self.balance = balance\n",
    "\n",
    "    def deposit(self, amount):\n",
    "        self.balance += amount\n",
    "        print(f\"{amount} deposited. New balance: {self.balance}\")\n",
    "\n",
    "    def withdraw(self, amount):\n",
    "        if amount > self.balance:\n",
    "            print(\"Insufficient funds.\")\n",
    "        else:\n",
    "            self.balance -= amount\n",
    "            print(f\"{amount} withdrawn. New balance: {self.balance}\")"
   ]
  },
  {
   "cell_type": "code",
   "execution_count": 2,
   "id": "e79eb8dd",
   "metadata": {},
   "outputs": [
    {
     "name": "stdout",
     "output_type": "stream",
     "text": [
      "John Doe\n",
      "500\n"
     ]
    }
   ],
   "source": [
    "# Creating an object of the BankAccount class\n",
    "account = BankAccount(\"John Doe\", 500)\n",
    "print(account.account_holder)\n",
    "print(account.balance)"
   ]
  },
  {
   "cell_type": "markdown",
   "id": "2a446a66",
   "metadata": {},
   "source": [
    "## 2. Attributes and Methods\n",
    "\n",
    "### 2.1 Attributes\n",
    "\n",
    "Attributes are variables that hold data associated with an object. In the example above, `account_holder` and `balance` are attributes of the `BankAccount` class.\n",
    "\n",
    "### 2.2 Methods\n",
    "\n",
    "Methods are functions defined inside a class that operate on objects of that class. In the `BankAccount` class, `deposit()` and `withdraw()` are methods.\n",
    "\n",
    "**Example: Working with Methods**"
   ]
  },
  {
   "cell_type": "code",
   "execution_count": 3,
   "id": "66c3e908",
   "metadata": {},
   "outputs": [
    {
     "name": "stdout",
     "output_type": "stream",
     "text": [
      "200 deposited. New balance: 700\n",
      "100 withdrawn. New balance: 600\n"
     ]
    }
   ],
   "source": [
    "# Using the deposit and withdraw methods\n",
    "account.deposit(200)\n",
    "account.withdraw(100)"
   ]
  },
  {
   "cell_type": "markdown",
   "id": "bf12432d",
   "metadata": {},
   "source": [
    "## 3. Inheritance and Polymorphism\n",
    "\n",
    "### 3.1 Inheritance\n",
    "\n",
    "Inheritance allows a class to inherit attributes and methods from another class. This promotes code reuse and can be used to model more specific entities.\n",
    "\n",
    "**Example: Defining a SavingsAccount Class**"
   ]
  },
  {
   "cell_type": "code",
   "execution_count": null,
   "id": "849a48e0",
   "metadata": {},
   "outputs": [],
   "source": [
    "# Example: Inheriting from BankAccount class to create a SavingsAccount class\n",
    "class SavingsAccount(BankAccount):\n",
    "    def __init__(self, account_holder, balance=0, interest_rate=0.02):\n",
    "        super().__init__(account_holder, balance)\n",
    "        self.interest_rate = interest_rate\n",
    "\n",
    "    def apply_interest(self):\n",
    "        interest = self.balance * self.interest_rate\n",
    "        self.deposit(interest)\n",
    "        print(f\"Interest applied. New balance: {self.balance}\")"
   ]
  },
  {
   "cell_type": "code",
   "execution_count": 4,
   "id": "4c31de13",
   "metadata": {},
   "outputs": [
    {
     "name": "stdout",
     "output_type": "stream",
     "text": [
      "20.0 deposited. New balance: 1020.0\n",
      "Interest applied. New balance: 1020.0\n"
     ]
    }
   ],
   "source": [
    "# Creating an object of the SavingsAccount class\n",
    "savings_account = SavingsAccount(\"Jane Doe\", 1000)\n",
    "savings_account.apply_interest()"
   ]
  },
  {
   "cell_type": "markdown",
   "id": "74deb961",
   "metadata": {},
   "source": [
    "### 3.2 Polymorphism\n",
    "\n",
    "Polymorphism allows methods to do different things based on the object it is acting upon, even if they share the same name.\n",
    "\n",
    "**Example: Overriding Methods**"
   ]
  },
  {
   "cell_type": "code",
   "execution_count": null,
   "id": "702a475a",
   "metadata": {},
   "outputs": [],
   "source": [
    "# Example: Overriding the withdraw method in SavingsAccount class\n",
    "class SavingsAccount(BankAccount):\n",
    "    def __init__(self, account_holder, balance=0, interest_rate=0.02):\n",
    "        super().__init__(account_holder, balance)\n",
    "        self.interest_rate = interest_rate\n",
    "\n",
    "    def withdraw(self, amount):\n",
    "        if amount > self.balance:\n",
    "            print(\"Insufficient funds.\")\n",
    "        else:\n",
    "            self.balance -= amount\n",
    "            print(f\"{amount} withdrawn with interest. New balance: {self.balance}\")"
   ]
  },
  {
   "cell_type": "code",
   "execution_count": 5,
   "id": "9587c2f2",
   "metadata": {},
   "outputs": [
    {
     "name": "stdout",
     "output_type": "stream",
     "text": [
      "100 withdrawn with interest. New balance: 900\n"
     ]
    }
   ],
   "source": [
    "# Creating an object of the SavingsAccount class and using the overridden method\n",
    "savings_account = SavingsAccount(\"Jane Doe\", 1000)\n",
    "savings_account.withdraw(100)"
   ]
  },
  {
   "cell_type": "markdown",
   "id": "849d612f",
   "metadata": {},
   "source": [
    "---"
   ]
  },
  {
   "cell_type": "markdown",
   "id": "ddb3218e",
   "metadata": {},
   "source": [
    "# Exercises"
   ]
  },
  {
   "cell_type": "markdown",
   "id": "b8980cfc",
   "metadata": {},
   "source": [
    "**Exercise 1: Create a CreditCard Class**\n",
    "\n",
    "Create a `CreditCard` class with attributes for `account_holder`, `balance`, `credit_limit`, and `interest_rate`. Add methods to `charge_card` (which adds to the balance), `make_payment` (which reduces the balance), and `apply_interest` (which applies interest to the balance). Ensure the balance does not exceed the credit limit."
   ]
  },
  {
   "cell_type": "code",
   "execution_count": 6,
   "id": "a25dea81",
   "metadata": {},
   "outputs": [],
   "source": [
    "#Your code here"
   ]
  },
  {
   "cell_type": "markdown",
   "id": "686e183c",
   "metadata": {},
   "source": [
    "**Exercise 2: Create a LoanAccount Class with Inheritance**\n",
    "\n",
    "Create a LoanAccount class that inherits from a base Account class. Add attributes for loan_amount, interest_rate, and term. Add methods to calculate the monthly payment and to make payments toward the loan balance."
   ]
  },
  {
   "cell_type": "code",
   "execution_count": 7,
   "id": "5e6f5fd8",
   "metadata": {},
   "outputs": [],
   "source": [
    "#Your code here"
   ]
  },
  {
   "cell_type": "markdown",
   "id": "2080397c",
   "metadata": {},
   "source": [
    "**Exercise 3: Implement Polymorphism with Different Account Types**\n",
    "\n",
    "Create a base class Account and then derive CheckingAccount, SavingsAccount, and BusinessAccount classes from it. Implement polymorphism by overriding the withdraw method in each derived class to impose different rules or fees for each account type."
   ]
  },
  {
   "cell_type": "code",
   "execution_count": 8,
   "id": "b7ffd10b",
   "metadata": {},
   "outputs": [],
   "source": [
    "#Your code here"
   ]
  },
  {
   "cell_type": "markdown",
   "id": "dc875cb3",
   "metadata": {},
   "source": [
    "**Exercise 4: Create a Portfolio Class**\n",
    "\n",
    "Create a Portfolio class that can hold multiple accounts (of different types). Add methods to calculate the total balance of all accounts, add a new account, and display details of all accounts in the portfolio."
   ]
  },
  {
   "cell_type": "code",
   "execution_count": 9,
   "id": "8b325e49",
   "metadata": {},
   "outputs": [],
   "source": [
    "#Your code here"
   ]
  },
  {
   "cell_type": "code",
   "execution_count": null,
   "id": "654c3127",
   "metadata": {},
   "outputs": [],
   "source": []
  }
 ],
 "metadata": {
  "kernelspec": {
   "display_name": "Python 3 (ipykernel)",
   "language": "python",
   "name": "python3"
  },
  "language_info": {
   "codemirror_mode": {
    "name": "ipython",
    "version": 3
   },
   "file_extension": ".py",
   "mimetype": "text/x-python",
   "name": "python",
   "nbconvert_exporter": "python",
   "pygments_lexer": "ipython3",
   "version": "3.9.12"
  }
 },
 "nbformat": 4,
 "nbformat_minor": 5
}
