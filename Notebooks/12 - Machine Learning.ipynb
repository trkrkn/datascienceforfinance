{
 "cells": [
  {
   "cell_type": "markdown",
   "id": "f0afab17",
   "metadata": {},
   "source": [
    "# Introduction to Machine Learning with Python"
   ]
  },
  {
   "cell_type": "markdown",
   "id": "f9f6cabd",
   "metadata": {},
   "source": [
    "## 1. What is Machine Learning?\n",
    "\n",
    "- Definition: Machine learning (ML) is a branch of artificial intelligence that involves training algorithms to make predictions or decisions based on data, without being explicitly programmed.\n",
    "- Applications:\n",
    "    - Finance: Stock price prediction, fraud detection, risk analysis, customer segmentation, etc.\n",
    "    - Other fields: Image recognition, natural language processing, recommendation systems.\n",
    "    \n",
    "    \n",
    "**Library**: `scikit-learn`: A powerful library for machine learning that provides tools for preprocessing data, training models, and evaluating them. Workflow\n",
    "\n",
    "- Importing the model class\n",
    "- Instantiating a model object\n",
    "- Fitting the model object to some data\n",
    "- Predicting the outcome given the fitted model for some data\n"
   ]
  },
  {
   "cell_type": "markdown",
   "id": "b17e5785",
   "metadata": {
    "heading_collapsed": true
   },
   "source": [
    "### Types of Machine Learning"
   ]
  },
  {
   "cell_type": "markdown",
   "id": "13c1e4c8",
   "metadata": {
    "hidden": true
   },
   "source": [
    "- Supervised Learning: The model learns from labeled data (i.e., input-output pairs). Examples: Regression and classification tasks.\n",
    "- Unsupervised Learning: The model learns from unlabeled data to find hidden patterns or groupings. Example: Clustering.\n",
    "- Reinforcement Learning: The model learns through interactions with an environment and feedback from its actions."
   ]
  },
  {
   "cell_type": "markdown",
   "id": "60c11ca6",
   "metadata": {
    "heading_collapsed": true,
    "hidden": true
   },
   "source": [
    "#### Supervised Learning\n",
    "\n",
    "- Regression: Predicting a continuous value (e.g., stock prices, real estate values).\n",
    "- Classification: Predicting a categorical label (e.g., credit approval, fraud detection)."
   ]
  },
  {
   "cell_type": "markdown",
   "id": "9be16246",
   "metadata": {
    "heading_collapsed": true,
    "hidden": true
   },
   "source": [
    "#### Unsupervised Learning\n",
    "\n",
    "- Clustering: Grouping data points based on similarities (e.g., customer segmentation).\n",
    "- Dimensionality Reduction: Reducing the number of features while preserving the most important information (e.g., PCA)."
   ]
  },
  {
   "cell_type": "markdown",
   "id": "b6ba3281",
   "metadata": {},
   "source": [
    "## 2. Unsupervised Learning"
   ]
  },
  {
   "cell_type": "markdown",
   "id": "40fca6c7",
   "metadata": {},
   "source": [
    "Unsupervised learning embodies the idea that a machine learning algorithm discovers insights from raw data without any further guidance. One such algorithm is the k- means clustering algorithm that clusters a raw data set into a number of subsets and assigns these subsets labels (“cluster 0,” “cluster 1,” etc.). Another one is Gaussian mixture."
   ]
  },
  {
   "cell_type": "markdown",
   "id": "a50d23b5",
   "metadata": {
    "heading_collapsed": true
   },
   "source": [
    "### 2.1 Data"
   ]
  },
  {
   "cell_type": "markdown",
   "id": "ab9b9b09",
   "metadata": {
    "hidden": true
   },
   "source": [
    "`scikit-learn` allows the creation of sample data sets for differ‐ ent types of ML problems. The following creates a sample data set suited to illustrat‐ ing k-means clustering."
   ]
  },
  {
   "cell_type": "code",
   "execution_count": 2,
   "id": "2a936f54",
   "metadata": {
    "hidden": true
   },
   "outputs": [],
   "source": [
    "import numpy as np \n",
    "import pandas as pd\n",
    "import datetime as dt\n",
    "from pylab import mpl, plt"
   ]
  },
  {
   "cell_type": "code",
   "execution_count": 4,
   "id": "16d9d42c",
   "metadata": {
    "hidden": true
   },
   "outputs": [],
   "source": [
    "plt.style.use('seaborn')\n",
    "mpl.rcParams['font.family'] = 'serif'\n",
    "%matplotlib inline"
   ]
  },
  {
   "cell_type": "code",
   "execution_count": 3,
   "id": "28ac56d5",
   "metadata": {
    "hidden": true
   },
   "outputs": [],
   "source": [
    "np.random.seed(1000)\n",
    "np.set_printoptions(suppress=True, precision=4)"
   ]
  },
  {
   "cell_type": "code",
   "execution_count": 8,
   "id": "2e8ac9d5",
   "metadata": {
    "hidden": true
   },
   "outputs": [],
   "source": [
    "from sklearn.datasets import make_blobs"
   ]
  },
  {
   "cell_type": "code",
   "execution_count": 9,
   "id": "9cb68bed",
   "metadata": {
    "hidden": true
   },
   "outputs": [],
   "source": [
    "X, y = make_blobs(n_samples=250, centers=4,\n",
    "                              random_state=500, cluster_std=1.25)"
   ]
  },
  {
   "cell_type": "code",
   "execution_count": 11,
   "id": "9ed4f20e",
   "metadata": {
    "hidden": true
   },
   "outputs": [
    {
     "data": {
      "image/png": "[encoded data removed]",
      "text/plain": [
       "<Figure size 720x432 with 1 Axes>"
      ]
     },
     "metadata": {
      "needs_background": "light"
     },
     "output_type": "display_data"
    }
   ],
   "source": [
    "plt.figure(figsize = (10,6));\n",
    "plt.scatter(X[:,0], X[:,1], s = 50);"
   ]
  },
  {
   "cell_type": "markdown",
   "id": "b551bed9",
   "metadata": {
    "heading_collapsed": true
   },
   "source": [
    "### 2.2. K-means clustering"
   ]
  },
  {
   "cell_type": "markdown",
   "id": "0a24daba",
   "metadata": {
    "hidden": true
   },
   "source": [
    "Background information on K-means clustering techniques [here](http://localhost:8888/notebooks/Extra%20-%20K-means%20clustering.ipynb)"
   ]
  },
  {
   "cell_type": "code",
   "execution_count": 12,
   "id": "4314d926",
   "metadata": {
    "hidden": true
   },
   "outputs": [],
   "source": [
    "from sklearn.cluster import KMeans"
   ]
  },
  {
   "cell_type": "code",
   "execution_count": 13,
   "id": "a9339ab4",
   "metadata": {
    "hidden": true
   },
   "outputs": [],
   "source": [
    "model = KMeans (n_clusters = 4, random_state = 0)"
   ]
  },
  {
   "cell_type": "code",
   "execution_count": 14,
   "id": "e72d9033",
   "metadata": {
    "hidden": true
   },
   "outputs": [
    {
     "data": {
      "text/plain": [
       "KMeans(n_clusters=4, random_state=0)"
      ]
     },
     "execution_count": 14,
     "metadata": {},
     "output_type": "execute_result"
    }
   ],
   "source": [
    "model.fit(X)"
   ]
  },
  {
   "cell_type": "code",
   "execution_count": 15,
   "id": "25503388",
   "metadata": {
    "hidden": true
   },
   "outputs": [],
   "source": [
    "y_kmeans = model.predict(X)"
   ]
  },
  {
   "cell_type": "code",
   "execution_count": 16,
   "id": "bd2276d9",
   "metadata": {
    "hidden": true
   },
   "outputs": [
    {
     "data": {
      "text/plain": [
       "array([1, 1, 0, 3, 0, 1, 3, 3, 3, 0, 2, 2], dtype=int32)"
      ]
     },
     "execution_count": 16,
     "metadata": {},
     "output_type": "execute_result"
    }
   ],
   "source": [
    "y_kmeans[:12]"
   ]
  },
  {
   "cell_type": "code",
   "execution_count": 17,
   "id": "97d0c1a2",
   "metadata": {
    "hidden": true
   },
   "outputs": [
    {
     "data": {
      "image/png": "[encoded data removed]",
      "text/plain": [
       "<Figure size 720x432 with 1 Axes>"
      ]
     },
     "metadata": {
      "needs_background": "light"
     },
     "output_type": "display_data"
    }
   ],
   "source": [
    "plt.figure(figsize=(10, 6))\n",
    "plt.scatter(X[:, 0], X[:, 1], c=y_kmeans, cmap='coolwarm');"
   ]
  },
  {
   "cell_type": "markdown",
   "id": "2f682513",
   "metadata": {},
   "source": [
    "## 3. Supervised Learning"
   ]
  },
  {
   "cell_type": "markdown",
   "id": "a86ebcb8",
   "metadata": {},
   "source": [
    "Supervised learning is machine learning with some guidance in the form of known results or observed data. This means that the raw data already contains what the ML algorithm is supposed to learn.\n",
    "\n",
    "The examples in the previous subsection showed that with unsupervised learning the algorithms come up with their own categorical labels for the clusters identified. With four clusters, the labels are 0, 1, 2, and 3. In supervised learning, such categorical labels are already given, so that the algorithm can learn the relationship between the features and the categories (classes). In other words, during the fitting step, the algo‐ rithm knows the right class for the given feature value combinations."
   ]
  },
  {
   "cell_type": "markdown",
   "id": "df15c551",
   "metadata": {
    "heading_collapsed": true
   },
   "source": [
    "### 3.1 The data"
   ]
  },
  {
   "cell_type": "code",
   "execution_count": 19,
   "id": "6d8c68bd",
   "metadata": {
    "hidden": true
   },
   "outputs": [],
   "source": [
    "from sklearn.datasets import make_classification"
   ]
  },
  {
   "cell_type": "code",
   "execution_count": 20,
   "id": "1d405749",
   "metadata": {
    "hidden": true
   },
   "outputs": [],
   "source": [
    "n_samples = 100\n",
    "X, y = make_classification(n_samples=n_samples, n_features=2,\n",
    "                                         n_informative=2, n_redundant=0,\n",
    "                                         n_repeated=0, random_state=250)"
   ]
  },
  {
   "cell_type": "code",
   "execution_count": 22,
   "id": "b9582038",
   "metadata": {
    "hidden": true
   },
   "outputs": [
    {
     "data": {
      "text/plain": [
       "array([[ 1.6876, -0.7976],\n",
       "       [-0.4312, -0.7606],\n",
       "       [-1.4393, -1.2363],\n",
       "       [ 1.118 , -1.8682],\n",
       "       [ 0.0502,  0.659 ]])"
      ]
     },
     "execution_count": 22,
     "metadata": {},
     "output_type": "execute_result"
    }
   ],
   "source": [
    "X[:5]"
   ]
  },
  {
   "cell_type": "code",
   "execution_count": 23,
   "id": "f787c8aa",
   "metadata": {
    "hidden": true
   },
   "outputs": [
    {
     "data": {
      "text/plain": [
       "(100, 2)"
      ]
     },
     "execution_count": 23,
     "metadata": {},
     "output_type": "execute_result"
    }
   ],
   "source": [
    "X.shape"
   ]
  },
  {
   "cell_type": "code",
   "execution_count": 24,
   "id": "b0c8b485",
   "metadata": {
    "hidden": true
   },
   "outputs": [
    {
     "data": {
      "text/plain": [
       "array([1, 0, 0, 1, 1])"
      ]
     },
     "execution_count": 24,
     "metadata": {},
     "output_type": "execute_result"
    }
   ],
   "source": [
    "y[:5]"
   ]
  },
  {
   "cell_type": "code",
   "execution_count": 25,
   "id": "fe439a25",
   "metadata": {
    "hidden": true
   },
   "outputs": [
    {
     "data": {
      "text/plain": [
       "(100,)"
      ]
     },
     "execution_count": 25,
     "metadata": {},
     "output_type": "execute_result"
    }
   ],
   "source": [
    "y.shape"
   ]
  },
  {
   "cell_type": "code",
   "execution_count": 28,
   "id": "3d768b73",
   "metadata": {
    "hidden": true
   },
   "outputs": [
    {
     "data": {
      "text/plain": [
       "<matplotlib.collections.PathCollection at 0x7fd04003b730>"
      ]
     },
     "execution_count": 28,
     "metadata": {},
     "output_type": "execute_result"
    },
    {
     "data": {
      "image/png": "[encoded data removed]",
      "text/plain": [
       "<Figure size 720x432 with 1 Axes>"
      ]
     },
     "metadata": {
      "needs_background": "light"
     },
     "output_type": "display_data"
    }
   ],
   "source": [
    "plt.figure(figsize = (10,6))\n",
    "plt.scatter(x=X[:, 0], y=X[:, 1], c=y, cmap='coolwarm')"
   ]
  },
  {
   "cell_type": "markdown",
   "id": "7af9c9af",
   "metadata": {
    "heading_collapsed": true
   },
   "source": [
    "### 3.2 Logistic regression"
   ]
  },
  {
   "cell_type": "markdown",
   "id": "72a78130",
   "metadata": {
    "hidden": true
   },
   "source": [
    "Background information on Logistic regression techniques [here](http://localhost:8888/notebooks/12.02%20-%20Logistic%20Regression%20.ipynb)"
   ]
  },
  {
   "cell_type": "code",
   "execution_count": 29,
   "id": "e987e6ee",
   "metadata": {
    "hidden": true
   },
   "outputs": [],
   "source": [
    "from sklearn.linear_model import LogisticRegression"
   ]
  },
  {
   "cell_type": "code",
   "execution_count": 30,
   "id": "75acc77b",
   "metadata": {
    "hidden": true
   },
   "outputs": [],
   "source": [
    "model = LogisticRegression(C = 1, solver = 'lbfgs')"
   ]
  },
  {
   "cell_type": "code",
   "execution_count": 31,
   "id": "7b033b01",
   "metadata": {
    "hidden": true
   },
   "outputs": [
    {
     "data": {
      "text/plain": [
       "LogisticRegression(C=1)"
      ]
     },
     "execution_count": 31,
     "metadata": {},
     "output_type": "execute_result"
    }
   ],
   "source": [
    "model.fit(X,y)"
   ]
  },
  {
   "cell_type": "code",
   "execution_count": 32,
   "id": "7fcc8b44",
   "metadata": {
    "hidden": true
   },
   "outputs": [
    {
     "data": {
      "text/plain": [
       "array([[0.011 , 0.989 ],\n",
       "       [0.7266, 0.2734],\n",
       "       [0.971 , 0.029 ],\n",
       "       [0.04  , 0.96  ],\n",
       "       [0.4843, 0.5157]])"
      ]
     },
     "execution_count": 32,
     "metadata": {},
     "output_type": "execute_result"
    }
   ],
   "source": [
    "model.predict_proba(X).round(4)[:5]"
   ]
  },
  {
   "cell_type": "code",
   "execution_count": 34,
   "id": "69b96181",
   "metadata": {
    "hidden": true
   },
   "outputs": [],
   "source": [
    "pred = model.predict(X)"
   ]
  },
  {
   "cell_type": "code",
   "execution_count": 36,
   "id": "973b066c",
   "metadata": {
    "hidden": true
   },
   "outputs": [],
   "source": [
    "from sklearn.metrics import accuracy_score"
   ]
  },
  {
   "cell_type": "code",
   "execution_count": 37,
   "id": "1259911f",
   "metadata": {
    "hidden": true
   },
   "outputs": [
    {
     "data": {
      "text/plain": [
       "0.9"
      ]
     },
     "execution_count": 37,
     "metadata": {},
     "output_type": "execute_result"
    }
   ],
   "source": [
    "accuracy_score (y,pred)"
   ]
  },
  {
   "cell_type": "code",
   "execution_count": 38,
   "id": "c9f7c484",
   "metadata": {
    "hidden": true
   },
   "outputs": [],
   "source": [
    "Xc = X[y == pred]\n",
    "Xf = X[y != pred]"
   ]
  },
  {
   "cell_type": "code",
   "execution_count": 39,
   "id": "f76bf412",
   "metadata": {
    "hidden": true
   },
   "outputs": [
    {
     "data": {
      "image/png": "[encoded data removed]",
      "text/plain": [
       "<Figure size 720x432 with 1 Axes>"
      ]
     },
     "metadata": {
      "needs_background": "light"
     },
     "output_type": "display_data"
    }
   ],
   "source": [
    "plt.figure(figsize=(10, 6))\n",
    "plt.scatter(x=Xc[:, 0], y=Xc[:, 1], c=y[y == pred],\n",
    "                         marker='o', cmap='coolwarm')\n",
    "plt.scatter(x=Xf[:, 0], y=Xf[:, 1], c=y[y != pred],\n",
    "                         marker='x', cmap='coolwarm');"
   ]
  },
  {
   "cell_type": "markdown",
   "id": "a6ed8d3b",
   "metadata": {
    "heading_collapsed": true
   },
   "source": [
    "### 3.3 Decision trees\n"
   ]
  },
  {
   "cell_type": "markdown",
   "id": "bba7ac85",
   "metadata": {
    "hidden": true
   },
   "source": [
    "Background information on Decision Trees techniques [here](http://localhost:8888/notebooks/12.03%20-%20Decision%20trees.ipynb)\n"
   ]
  },
  {
   "cell_type": "code",
   "execution_count": 42,
   "id": "35967f0e",
   "metadata": {
    "hidden": true
   },
   "outputs": [],
   "source": [
    "from sklearn.tree import DecisionTreeClassifier"
   ]
  },
  {
   "cell_type": "code",
   "execution_count": 43,
   "id": "c487edda",
   "metadata": {
    "hidden": true
   },
   "outputs": [],
   "source": [
    "model = DecisionTreeClassifier(max_depth=1)"
   ]
  },
  {
   "cell_type": "code",
   "execution_count": 44,
   "id": "51ef5d6a",
   "metadata": {
    "hidden": true
   },
   "outputs": [
    {
     "data": {
      "text/plain": [
       "DecisionTreeClassifier(max_depth=1)"
      ]
     },
     "execution_count": 44,
     "metadata": {},
     "output_type": "execute_result"
    }
   ],
   "source": [
    "model.fit(X,y)"
   ]
  },
  {
   "cell_type": "code",
   "execution_count": 45,
   "id": "f568c364",
   "metadata": {
    "hidden": true
   },
   "outputs": [
    {
     "data": {
      "text/plain": [
       "array([[0.08, 0.92],\n",
       "       [0.92, 0.08],\n",
       "       [0.92, 0.08],\n",
       "       [0.08, 0.92],\n",
       "       [0.08, 0.92]])"
      ]
     },
     "execution_count": 45,
     "metadata": {},
     "output_type": "execute_result"
    }
   ],
   "source": [
    "model.predict_proba(X).round(4)[:5]"
   ]
  },
  {
   "cell_type": "code",
   "execution_count": 46,
   "id": "66f2bcad",
   "metadata": {
    "hidden": true
   },
   "outputs": [],
   "source": [
    "pred = model.predict(X)"
   ]
  },
  {
   "cell_type": "code",
   "execution_count": 47,
   "id": "2b2ff289",
   "metadata": {
    "hidden": true
   },
   "outputs": [
    {
     "data": {
      "text/plain": [
       "0.92"
      ]
     },
     "execution_count": 47,
     "metadata": {},
     "output_type": "execute_result"
    }
   ],
   "source": [
    "accuracy_score(y,pred)"
   ]
  },
  {
   "cell_type": "code",
   "execution_count": 48,
   "id": "c684d17c",
   "metadata": {
    "hidden": true
   },
   "outputs": [],
   "source": [
    "Xc = X[y == pred]\n",
    "Xf = X[y != pred]"
   ]
  },
  {
   "cell_type": "code",
   "execution_count": 49,
   "id": "c701f921",
   "metadata": {
    "hidden": true
   },
   "outputs": [
    {
     "data": {
      "image/png": "[encoded data removed]",
      "text/plain": [
       "<Figure size 720x432 with 1 Axes>"
      ]
     },
     "metadata": {
      "needs_background": "light"
     },
     "output_type": "display_data"
    }
   ],
   "source": [
    "plt.figure(figsize=(10, 6))\n",
    "plt.scatter(x=Xc[:, 0], y=Xc[:, 1], c=y[y == pred],\n",
    "                         marker='o', cmap='coolwarm')\n",
    "plt.scatter(x=Xf[:, 0], y=Xf[:, 1], c=y[y != pred],\n",
    "                         marker='x', cmap='coolwarm');"
   ]
  },
  {
   "cell_type": "markdown",
   "id": "f66453cc",
   "metadata": {
    "hidden": true
   },
   "source": [
    "*Increasing maximum depth*"
   ]
  },
  {
   "cell_type": "code",
   "execution_count": 52,
   "id": "e8d90683",
   "metadata": {
    "hidden": true
   },
   "outputs": [
    {
     "name": "stdout",
     "output_type": "stream",
     "text": [
      "   depth | accuracy\n",
      "--------------------\n",
      "       1 |     0.92\n",
      "       2 |     0.92\n",
      "       3 |     0.94\n",
      "       4 |     0.97\n",
      "       5 |     0.99\n",
      "       6 |     1.00\n"
     ]
    }
   ],
   "source": [
    "print('{:>8s} | {:8s}'.format('depth', 'accuracy')) \n",
    "print(20 * '-')\n",
    "for depth in range(1, 7):\n",
    "    model = DecisionTreeClassifier(max_depth=depth) \n",
    "    model.fit(X, y)\n",
    "    acc = accuracy_score(y, model.predict(X)) \n",
    "    print('{:8d} | {:8.2f}'.format(depth, acc))"
   ]
  },
  {
   "cell_type": "markdown",
   "id": "0836f556",
   "metadata": {},
   "source": [
    "### Train-test splits"
   ]
  },
  {
   "cell_type": "markdown",
   "id": "dd8c5924",
   "metadata": {},
   "source": [
    "Here’s a complete example using `train_test_split` with the Random Forest classifier and the Iris dataset from `sklearn.datasets`, along with markdown explanations for each step.\n",
    "\n",
    "---\n",
    "\n",
    "# Example: Train-Test Split with Random Forest Classifier\n",
    "\n",
    "## 1. Loading the Iris Dataset\n",
    "\n",
    "In this example, we’ll use the **Iris dataset**, a classic dataset for classification that contains 150 samples of iris flowers with 4 features: sepal length, sepal width, petal length, and petal width. The target is the species of the iris flower (three classes).\n",
    "\n",
    "```python\n",
    "from sklearn.datasets import load_iris\n",
    "\n",
    "# Load the Iris dataset\n",
    "iris = load_iris()\n",
    "X = iris.data  # Features\n",
    "y = iris.target  # Target variable (class labels)\n",
    "```\n",
    "\n",
    "- **`X`**: Represents the feature matrix containing the 4 features for each sample.\n",
    "- **`y`**: Contains the class labels (0, 1, or 2), which correspond to the different species of iris flowers.\n",
    "\n",
    "---\n",
    "\n",
    "## 2. Splitting the Dataset into Training and Test Sets\n",
    "\n",
    "We will split the dataset into 80% training data and 20% test data using `train_test_split` from `sklearn.model_selection`.\n",
    "\n",
    "```python\n",
    "from sklearn.model_selection import train_test_split\n",
    "\n",
    "# Split the data into training and test sets (80% train, 20% test)\n",
    "X_train, X_test, y_train, y_test = train_test_split(X, y, test_size=0.2, random_state=42)\n",
    "\n",
    "# Output the sizes of the training and test sets\n",
    "print(f\"Training set size: {X_train.shape}\")\n",
    "print(f\"Test set size: {X_test.shape}\")\n",
    "```\n",
    "\n",
    "### Explanation:\n",
    "- **`test_size=0.2`**: 20% of the data is set aside for testing, and 80% is used for training.\n",
    "- **`random_state=42`**: Ensures reproducibility; every time the code is run, the split will be the same.\n",
    "- After splitting, we check the sizes of the training and test sets to confirm that the split was performed correctly.\n",
    "\n",
    "---\n",
    "\n",
    "## 3. Training a Random Forest Classifier\n",
    "\n",
    "We will use a **Random Forest Classifier** from `sklearn.ensemble` to train the model on the training data.\n",
    "\n",
    "```python\n",
    "from sklearn.ensemble import RandomForestClassifier\n",
    "\n",
    "# Initialize the Random Forest classifier\n",
    "clf = RandomForestClassifier(n_estimators=100, random_state=42)\n",
    "\n",
    "# Train the model on the training data\n",
    "clf.fit(X_train, y_train)\n",
    "```\n",
    "\n",
    "### Explanation:\n",
    "- **`RandomForestClassifier`**: This algorithm creates multiple decision trees and combines their results to improve performance and reduce overfitting.\n",
    "- **`n_estimators=100`**: The model will use 100 decision trees.\n",
    "- The model is trained using the **training data** (`X_train`, `y_train`).\n",
    "\n",
    "---\n",
    "\n",
    "## 4. Evaluating the Model on the Test Set\n",
    "\n",
    "After training, we will evaluate the model’s performance on the **test data** (`X_test`, `y_test`).\n",
    "\n",
    "```python\n",
    "from sklearn.metrics import accuracy_score\n",
    "\n",
    "# Predict class labels on the test set\n",
    "y_pred = clf.predict(X_test)\n",
    "\n",
    "# Calculate the accuracy of the model\n",
    "accuracy = accuracy_score(y_test, y_pred)\n",
    "\n",
    "print(f\"Accuracy on the test set: {accuracy:.2f}\")\n",
    "```\n",
    "\n",
    "### Explanation:\n",
    "- **`predict(X_test)`**: The model predicts the class labels for the test data.\n",
    "- **`accuracy_score`**: This function compares the predicted labels (`y_pred`) with the true labels (`y_test`) to compute the accuracy, which is the proportion of correctly classified samples.\n",
    "\n",
    "---\n",
    "\n",
    "## 5. Visualizing Feature Importance (Optional)\n",
    "\n",
    "Random Forests provide a feature importance score, which indicates how useful each feature was in making the predictions.\n",
    "\n",
    "```python\n",
    "import matplotlib.pyplot as plt\n",
    "import numpy as np\n",
    "\n",
    "# Get the feature importances\n",
    "feature_importances = clf.feature_importances_\n",
    "\n",
    "# Plot the feature importances\n",
    "plt.figure(figsize=(8, 6))\n",
    "plt.barh(iris.feature_names, feature_importances)\n",
    "plt.xlabel(\"Feature Importance\")\n",
    "plt.ylabel(\"Feature\")\n",
    "plt.title(\"Feature Importance in Random Forest Classifier\")\n",
    "plt.show()\n",
    "```\n",
    "\n",
    "### Explanation:\n",
    "- **`feature_importances_`**: This attribute provides the importance of each feature in determining the class labels.\n",
    "- The bar plot shows which features (sepal length, sepal width, etc.) were most important in the model’s decisions.\n",
    "\n",
    "---\n",
    "\n",
    "## 6. Full Code Example\n",
    "\n",
    "```python\n",
    "# 1. Load Iris Dataset\n",
    "from sklearn.datasets import load_iris\n",
    "from sklearn.model_selection import train_test_split\n",
    "from sklearn.ensemble import RandomForestClassifier\n",
    "from sklearn.metrics import accuracy_score\n",
    "import matplotlib.pyplot as plt\n",
    "\n",
    "# Load dataset\n",
    "iris = load_iris()\n",
    "X = iris.data\n",
    "y = iris.target\n",
    "\n",
    "# 2. Train-Test Split (80% train, 20% test)\n",
    "X_train, X_test, y_train, y_test = train_test_split(X, y, test_size=0.2, random_state=42)\n",
    "\n",
    "# 3. Train Random Forest Classifier\n",
    "clf = RandomForestClassifier(n_estimators=100, random_state=42)\n",
    "clf.fit(X_train, y_train)\n",
    "\n",
    "# 4. Predict on Test Set\n",
    "y_pred = clf.predict(X_test)\n",
    "\n",
    "# 5. Evaluate Model\n",
    "accuracy = accuracy_score(y_test, y_pred)\n",
    "print(f\"Accuracy on the test set: {accuracy:.2f}\")\n",
    "\n",
    "# 6. Visualize Feature Importance\n",
    "feature_importances = clf.feature_importances_\n",
    "plt.figure(figsize=(8, 6))\n",
    "plt.barh(iris.feature_names, feature_importances)\n",
    "plt.xlabel(\"Feature Importance\")\n",
    "plt.ylabel(\"Feature\")\n",
    "plt.title(\"Feature Importance in Random Forest Classifier\")\n",
    "plt.show()\n",
    "```\n",
    "\n",
    "---\n",
    "\n",
    "## Summary of Steps\n",
    "\n",
    "1. **Load the dataset**: Use the Iris dataset, which is a standard dataset for classification tasks.\n",
    "2. **Split the dataset**: Use `train_test_split` to divide the dataset into training and testing sets (80% train, 20% test).\n",
    "3. **Train the model**: Fit a Random Forest classifier to the training data.\n",
    "4. **Test the model**: Evaluate the model on the test set using accuracy.\n",
    "5. **Feature Importance (Optional)**: Visualize which features were most important in the model's predictions.\n",
    "\n",
    "---\n",
    "\n"
   ]
  },
  {
   "cell_type": "markdown",
   "id": "3e47b87b",
   "metadata": {},
   "source": [
    "---"
   ]
  },
  {
   "cell_type": "code",
   "execution_count": null,
   "id": "e6f144d7",
   "metadata": {},
   "outputs": [],
   "source": []
  },
  {
   "cell_type": "markdown",
   "id": "bb888a8c",
   "metadata": {},
   "source": [
    "### Train-test splits: Support vector machines"
   ]
  },
  {
   "cell_type": "markdown",
   "id": "17ecd36d",
   "metadata": {},
   "source": [
    "Background information on Support Vector Machines [here](http://localhost:8888/notebooks/12.04%20-%20Support%20Vector%20Machines.ipynb)"
   ]
  },
  {
   "cell_type": "markdown",
   "id": "70e42d93",
   "metadata": {},
   "source": [
    "At this point, every seasoned ML researcher and practitioner reading this probably has concerns with regard to the implementations in this section: they all rely on the same data for training, learning, and prediction. The quality of an ML algorithm can of course be better judged when different data (sub)sets are used for training and learning on the one hand and testing on the other hand. This comes closer to a real- world application scenario."
   ]
  },
  {
   "cell_type": "markdown",
   "id": "189282d5",
   "metadata": {},
   "source": [
    "Again, scikit-learn provides a function to accomplish such an approach efficiently. In particular, the train_test_split() function allows the splitting of data sets into training and test data in a randomized, but nevertheless repeatable, fashion.\n"
   ]
  },
  {
   "cell_type": "code",
   "execution_count": 53,
   "id": "da618779",
   "metadata": {},
   "outputs": [],
   "source": [
    "from sklearn.svm import SVC\n",
    "from sklearn.model_selection import train_test_split"
   ]
  },
  {
   "cell_type": "code",
   "execution_count": 54,
   "id": "063aa0f6",
   "metadata": {},
   "outputs": [],
   "source": [
    "train_x, test_x, train_y, test_y = train_test_split(X, y, test_size=0.33,\n",
    "                                                                 random_state=0)"
   ]
  }
 ],
 "metadata": {
  "kernelspec": {
   "display_name": "Python 3 (ipykernel)",
   "language": "python",
   "name": "python3"
  },
  "language_info": {
   "codemirror_mode": {
    "name": "ipython",
    "version": 3
   },
   "file_extension": ".py",
   "mimetype": "text/x-python",
   "name": "python",
   "nbconvert_exporter": "python",
   "pygments_lexer": "ipython3",
   "version": "3.9.12"
  }
 },
 "nbformat": 4,
 "nbformat_minor": 5
}
