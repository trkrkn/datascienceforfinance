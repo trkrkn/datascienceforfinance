{
 "cells": [
  {
   "cell_type": "markdown",
   "id": "9afa4df2",
   "metadata": {},
   "source": [
    "# Input and Output (I/O) Operations"
   ]
  },
  {
   "cell_type": "markdown",
   "id": "1327b793",
   "metadata": {
    "heading_collapsed": true
   },
   "source": [
    "## 1. Overview"
   ]
  },
  {
   "cell_type": "markdown",
   "id": "2e80f02f",
   "metadata": {
    "hidden": true
   },
   "source": [
    "Input and output operations (I/O) are essential in programming. They allow programs to interact with users, take data as input, and display or save the results as output.\n",
    "\n",
    "In this lecture, we will cover:\n",
    "- How to take input from users\n",
    "- How to display output using the `print()` function\n",
    "- File I/O operations: reading from and writing to files\n",
    "- Handling CSV files with basic file operations\n",
    "- Working with CSV files using `pandas`"
   ]
  },
  {
   "cell_type": "markdown",
   "id": "683ba2db",
   "metadata": {
    "heading_collapsed": true
   },
   "source": [
    "## 2. Taking Input from Users"
   ]
  },
  {
   "cell_type": "markdown",
   "id": "eeef92f0",
   "metadata": {
    "hidden": true
   },
   "source": [
    "**The `input()` Function**\n",
    "\n",
    "The `input()` function allows the user to provide input to the program. It always returns the input as a string."
   ]
  },
  {
   "cell_type": "code",
   "execution_count": 3,
   "id": "28e6bd34",
   "metadata": {
    "hidden": true
   },
   "outputs": [
    {
     "name": "stdout",
     "output_type": "stream",
     "text": [
      "What is your name? Tarik\n",
      "Hello, Tarik!\n"
     ]
    }
   ],
   "source": [
    "# Example: Asking for user input\n",
    "name = input(\"What is your name? \")\n",
    "print(\"Hello, \" + name + \"!\")"
   ]
  },
  {
   "cell_type": "markdown",
   "id": "9af241dc",
   "metadata": {
    "hidden": true
   },
   "source": [
    "**Converting Input to Other Data Types**\n",
    "\n",
    "Since `input()` returns a string, you often need to convert the input to other data types like `int`, `float`, etc., depending on the use case."
   ]
  },
  {
   "cell_type": "code",
   "execution_count": 4,
   "id": "9592c4c9",
   "metadata": {
    "hidden": true
   },
   "outputs": [
    {
     "name": "stdout",
     "output_type": "stream",
     "text": [
      "How old are you? 12\n",
      "You are 12 years old.\n",
      "Enter your account balance: 123\n",
      "Your balance is $ 123.0\n"
     ]
    }
   ],
   "source": [
    "# Example: Taking a number as input\n",
    "age = int(input(\"How old are you? \"))  # Convert input to an integer\n",
    "print(\"You are\", age, \"years old.\")\n",
    "\n",
    "# Example: Taking a float as input\n",
    "balance = float(input(\"Enter your account balance: \"))\n",
    "print(\"Your balance is $\", balance)"
   ]
  },
  {
   "cell_type": "markdown",
   "id": "0e74611e",
   "metadata": {
    "hidden": true
   },
   "source": [
    "**Handling Multiple Inputs**\n",
    "\n",
    "You can take multiple inputs in one line and split them into separate variables using `split()`."
   ]
  },
  {
   "cell_type": "code",
   "execution_count": 5,
   "id": "3bad3c0a",
   "metadata": {
    "hidden": true
   },
   "outputs": [
    {
     "name": "stdout",
     "output_type": "stream",
     "text": [
      "Enter your first and last name: Tarik Roukny\n",
      "Hello, Tarik Roukny\n"
     ]
    }
   ],
   "source": [
    "# Example: Taking multiple inputs\n",
    "first_name, last_name = input(\"Enter your first and last name: \").split()\n",
    "print(\"Hello, \" + first_name + \" \" + last_name)"
   ]
  },
  {
   "cell_type": "markdown",
   "id": "ce232e76",
   "metadata": {
    "heading_collapsed": true
   },
   "source": [
    "## 3. Displaying Output with `print()`"
   ]
  },
  {
   "cell_type": "markdown",
   "id": "4cadcea5",
   "metadata": {
    "hidden": true
   },
   "source": [
    "**Basic Output**\n",
    "\n",
    "The `print()` function is used to display information on the screen."
   ]
  },
  {
   "cell_type": "code",
   "execution_count": 6,
   "id": "1fc786bf",
   "metadata": {
    "hidden": true
   },
   "outputs": [
    {
     "name": "stdout",
     "output_type": "stream",
     "text": [
      "Hello, world!\n"
     ]
    }
   ],
   "source": [
    "# Example: Basic output using print()\n",
    "print(\"Hello, world!\")\n"
   ]
  },
  {
   "cell_type": "markdown",
   "id": "e86a3c0d",
   "metadata": {
    "hidden": true
   },
   "source": [
    "**3.2 Printing Variables and Expressions**\n",
    "\n",
    "You can print variables and expressions using the `print()` function."
   ]
  },
  {
   "cell_type": "code",
   "execution_count": 7,
   "id": "c899ee69",
   "metadata": {
    "hidden": true
   },
   "outputs": [
    {
     "name": "stdout",
     "output_type": "stream",
     "text": [
      "Name: Alice Age: 25\n"
     ]
    }
   ],
   "source": [
    "# Example: Printing variables\n",
    "name = \"Alice\"\n",
    "age = 25\n",
    "print(\"Name:\", name, \"Age:\", age)"
   ]
  },
  {
   "cell_type": "markdown",
   "id": "9f3907fc",
   "metadata": {
    "hidden": true
   },
   "source": [
    "**String Formatting**\n",
    "\n",
    "Python provides several ways to format strings when printing. Here are three common methods:\n",
    "\n",
    "- **Using commas:**"
   ]
  },
  {
   "cell_type": "code",
   "execution_count": 8,
   "id": "d570eeb6",
   "metadata": {
    "hidden": true
   },
   "outputs": [
    {
     "name": "stdout",
     "output_type": "stream",
     "text": [
      "Your balance is 123.0 dollars.\n"
     ]
    }
   ],
   "source": [
    "# Example: Using commas\n",
    "print(\"Your balance is\", balance, \"dollars.\")"
   ]
  },
  {
   "cell_type": "markdown",
   "id": "a9d39d2b",
   "metadata": {
    "hidden": true
   },
   "source": [
    "- **Using f-strings (available in Python 3.6+):**"
   ]
  },
  {
   "cell_type": "code",
   "execution_count": null,
   "id": "27ee82ba",
   "metadata": {
    "hidden": true
   },
   "outputs": [],
   "source": [
    "# Example: Using f-strings\n",
    "print(f\"Hello, {name}. You are {age} years old.\")"
   ]
  },
  {
   "cell_type": "markdown",
   "id": "48ce8699",
   "metadata": {
    "hidden": true
   },
   "source": [
    "- **Using the `format()` method:**"
   ]
  },
  {
   "cell_type": "code",
   "execution_count": null,
   "id": "fceb780f",
   "metadata": {
    "hidden": true
   },
   "outputs": [],
   "source": [
    "# Example: Using format()\n",
    "print(\"Hello, {}. You are {} years old.\".format(name, age))"
   ]
  },
  {
   "cell_type": "markdown",
   "id": "063fd111",
   "metadata": {
    "heading_collapsed": true
   },
   "source": [
    "## 4. File Input and Output (File I/O)"
   ]
  },
  {
   "cell_type": "markdown",
   "id": "a6274e7c",
   "metadata": {
    "hidden": true
   },
   "source": [
    "In addition to interacting with users via input and output, programs can read data from files and write data to files. This is useful for handling larger datasets, saving user data, or logging program results."
   ]
  },
  {
   "cell_type": "markdown",
   "id": "27525d31",
   "metadata": {
    "hidden": true
   },
   "source": [
    "### 4.1 Opening a File"
   ]
  },
  {
   "cell_type": "markdown",
   "id": "6f72a1d3",
   "metadata": {
    "hidden": true
   },
   "source": [
    "To work with files in Python, you first need to open a file using the `open()` function. The function takes two arguments:\n",
    "- The name (or path) of the file\n",
    "- The mode (e.g., `'r'` for reading, `'w'` for writing, `'a'` for appending)"
   ]
  },
  {
   "cell_type": "code",
   "execution_count": null,
   "id": "a7ea5428",
   "metadata": {
    "hidden": true
   },
   "outputs": [],
   "source": [
    "# Example: Opening a file\n",
    "file = open(\"example.txt\", \"r\")  # Open the file in read mode"
   ]
  },
  {
   "cell_type": "markdown",
   "id": "263760b5",
   "metadata": {
    "hidden": true
   },
   "source": [
    "### 4.2 Reading from a File\n",
    "🚧 MAKE FILES"
   ]
  },
  {
   "cell_type": "markdown",
   "id": "52dcb6d4",
   "metadata": {
    "hidden": true
   },
   "source": [
    "You can read the contents of a file using several methods:\n",
    "- **`read()`**: Reads the entire file.\n",
    "- **`readline()`**: Reads one line at a time.\n",
    "- **`readlines()`**: Reads all lines and returns them as a list."
   ]
  },
  {
   "cell_type": "code",
   "execution_count": null,
   "id": "80297933",
   "metadata": {
    "hidden": true
   },
   "outputs": [],
   "source": [
    "# Example: Reading a file's content\n",
    "file = open(\"example.txt\", \"r\")\n",
    "content = file.read()  # Read the entire file\n",
    "print(content)\n",
    "file.close()  # Close the file after reading"
   ]
  },
  {
   "cell_type": "markdown",
   "id": "cffa998f",
   "metadata": {
    "hidden": true
   },
   "source": [
    "🚧 **Reading Line by Line** 🚧"
   ]
  },
  {
   "cell_type": "code",
   "execution_count": 11,
   "id": "dac66293",
   "metadata": {
    "hidden": true
   },
   "outputs": [
    {
     "ename": "FileNotFoundError",
     "evalue": "[Errno 2] No such file or directory: 'example.txt'",
     "output_type": "error",
     "traceback": [
      "\u001b[0;31m---------------------------------------------------------------------------\u001b[0m",
      "\u001b[0;31mFileNotFoundError\u001b[0m                         Traceback (most recent call last)",
      "Input \u001b[0;32mIn [11]\u001b[0m, in \u001b[0;36m<cell line: 2>\u001b[0;34m()\u001b[0m\n\u001b[1;32m      1\u001b[0m \u001b[38;5;66;03m# Example: Reading line by line\u001b[39;00m\n\u001b[0;32m----> 2\u001b[0m file \u001b[38;5;241m=\u001b[39m \u001b[38;5;28;43mopen\u001b[39;49m\u001b[43m(\u001b[49m\u001b[38;5;124;43m\"\u001b[39;49m\u001b[38;5;124;43mexample.txt\u001b[39;49m\u001b[38;5;124;43m\"\u001b[39;49m\u001b[43m,\u001b[49m\u001b[43m \u001b[49m\u001b[38;5;124;43m\"\u001b[39;49m\u001b[38;5;124;43mr\u001b[39;49m\u001b[38;5;124;43m\"\u001b[39;49m\u001b[43m)\u001b[49m\n\u001b[1;32m      3\u001b[0m \u001b[38;5;66;03m# need a readlines() command\u001b[39;00m\n\u001b[1;32m      4\u001b[0m \u001b[38;5;28;01mfor\u001b[39;00m line \u001b[38;5;129;01min\u001b[39;00m file:\n",
      "\u001b[0;31mFileNotFoundError\u001b[0m: [Errno 2] No such file or directory: 'example.txt'"
     ]
    }
   ],
   "source": [
    "# Example: Reading line by line\n",
    "file = open(\"example.txt\", \"r\")\n",
    "# need a readlines() command\n",
    "for line in file:\n",
    "    print(line.strip())  # Remove extra newline characters\n",
    "file.close()"
   ]
  },
  {
   "cell_type": "markdown",
   "id": "0c5533f3",
   "metadata": {
    "hidden": true
   },
   "source": [
    "### 4.3 Writing to a File"
   ]
  },
  {
   "cell_type": "markdown",
   "id": "4e17c6cb",
   "metadata": {
    "hidden": true
   },
   "source": [
    "You can write data to a file using the `write()` or `writelines()` methods. When opening a file in `'w'` (write) mode, it will overwrite the existing content. If you want to append to the file, use `'a'` mode."
   ]
  },
  {
   "cell_type": "code",
   "execution_count": null,
   "id": "e7f2d66b",
   "metadata": {
    "hidden": true
   },
   "outputs": [],
   "source": [
    "# Example: Writing to a file\n",
    "file = open(\"example.txt\", \"w\")  # Open file in write mode\n",
    "file.write(\"This is the first line.\\n\")\n",
    "file.write(\"This is the second line.\\n\")\n",
    "file.close()"
   ]
  },
  {
   "cell_type": "markdown",
   "id": "75915814",
   "metadata": {
    "hidden": true
   },
   "source": [
    "**Appending Data to a File**"
   ]
  },
  {
   "cell_type": "code",
   "execution_count": null,
   "id": "e3ab5eb6",
   "metadata": {
    "hidden": true
   },
   "outputs": [],
   "source": [
    "# Example: Appending to a file\n",
    "file = open(\"example.txt\", \"a\")  # Open file in append mode\n",
    "file.write(\"This is an additional line.\\n\")\n",
    "file.close()"
   ]
  },
  {
   "cell_type": "markdown",
   "id": "56ed0c2f",
   "metadata": {
    "hidden": true
   },
   "source": [
    "### 4.4 Using `with` for File Handling\n",
    "\n",
    "The `with` statement is used to handle files more efficiently by automatically closing the file after the block of code is executed."
   ]
  },
  {
   "cell_type": "code",
   "execution_count": null,
   "id": "95f94ff9",
   "metadata": {
    "hidden": true
   },
   "outputs": [],
   "source": [
    "# Example: Using 'with' to handle files\n",
    "with open(\"example.txt\", \"r\") as file:\n",
    "    content = file.read()\n",
    "    print(content)\n",
    "# No need to explicitly close the file; it is done automatically"
   ]
  },
  {
   "cell_type": "markdown",
   "id": "7734ad39",
   "metadata": {
    "hidden": true
   },
   "source": [
    "### 4.5 A simple application of I/O in Finance"
   ]
  },
  {
   "cell_type": "markdown",
   "id": "53aac616",
   "metadata": {
    "hidden": true
   },
   "source": [
    "**Taking User Input for Financial Calculations**\n",
    "\n",
    "You can take user input to calculate things like interest or savings."
   ]
  },
  {
   "cell_type": "code",
   "execution_count": null,
   "id": "b95ab26b",
   "metadata": {
    "hidden": true
   },
   "outputs": [],
   "source": [
    "# Example: Simple interest calculation based on user input\n",
    "principal = float(input(\"Enter the principal amount: \"))\n",
    "rate = float(input(\"Enter the interest rate (as a percentage): \")) / 100\n",
    "time = int(input(\"Enter the time (in years): \"))\n",
    "\n",
    "interest = principal * rate * time\n",
    "print(f\"The interest is: {interest}\")"
   ]
  },
  {
   "cell_type": "markdown",
   "id": "4e51981b",
   "metadata": {
    "hidden": true
   },
   "source": [
    "**5.2 Saving Financial Data to a File**\n",
    "\n",
    "You can write financial data, such as a report or calculation results, to a file."
   ]
  },
  {
   "cell_type": "code",
   "execution_count": null,
   "id": "e911709e",
   "metadata": {
    "hidden": true
   },
   "outputs": [],
   "source": [
    "# Example: Writing financial report to a file\n",
    "with open(\"financial_report.txt\", \"w\") as file:\n",
    "    file.write(f\"Principal: {principal}\\n\")\n",
    "    file.write(f\"Rate: {rate * 100}%\\n\")\n",
    "    file.write(f\"Time: {time} years\\n\")\n",
    "    file.write(f\"Interest: {interest}\\n\")"
   ]
  },
  {
   "cell_type": "markdown",
   "id": "b69d8e85",
   "metadata": {
    "heading_collapsed": true
   },
   "source": [
    "## 5. Working with CSV Files in Python"
   ]
  },
  {
   "cell_type": "markdown",
   "id": "c4034276",
   "metadata": {
    "heading_collapsed": true,
    "hidden": true
   },
   "source": [
    "### 5.1 Reading CSV Files"
   ]
  },
  {
   "cell_type": "markdown",
   "id": "8444c968",
   "metadata": {
    "hidden": true
   },
   "source": [
    "CSV (Comma-Separated Values) files are commonly used for storing tabular data such as financial transactions. You can read CSV files using Python’s built-in `csv` module.\n",
    "\n",
    "**Step 1: Import the `csv` module**"
   ]
  },
  {
   "cell_type": "code",
   "execution_count": null,
   "id": "d1cc452f",
   "metadata": {
    "hidden": true
   },
   "outputs": [],
   "source": [
    "import csv\n",
    "# Example: Reading a CSV file\n",
    "with open('data.csv', 'r') as file:\n",
    "    csv_reader = csv.reader(file)\n",
    "    for row in csv_reader:\n",
    "        print(row)"
   ]
  },
  {
   "cell_type": "code",
   "execution_count": 12,
   "id": "527d0a69",
   "metadata": {
    "hidden": true
   },
   "outputs": [
    {
     "ename": "FileNotFoundError",
     "evalue": "[Errno 2] No such file or directory: 'data.csv'",
     "output_type": "error",
     "traceback": [
      "\u001b[0;31m---------------------------------------------------------------------------\u001b[0m",
      "\u001b[0;31mFileNotFoundError\u001b[0m                         Traceback (most recent call last)",
      "Input \u001b[0;32mIn [12]\u001b[0m, in \u001b[0;36m<cell line: 2>\u001b[0;34m()\u001b[0m\n\u001b[1;32m      1\u001b[0m \u001b[38;5;66;03m# Example: Reading a CSV file with headers\u001b[39;00m\n\u001b[0;32m----> 2\u001b[0m \u001b[38;5;28;01mwith\u001b[39;00m \u001b[38;5;28;43mopen\u001b[39;49m\u001b[43m(\u001b[49m\u001b[38;5;124;43m'\u001b[39;49m\u001b[38;5;124;43mdata.csv\u001b[39;49m\u001b[38;5;124;43m'\u001b[39;49m\u001b[43m,\u001b[49m\u001b[43m \u001b[49m\u001b[38;5;124;43m'\u001b[39;49m\u001b[38;5;124;43mr\u001b[39;49m\u001b[38;5;124;43m'\u001b[39;49m\u001b[43m)\u001b[49m \u001b[38;5;28;01mas\u001b[39;00m file:\n\u001b[1;32m      3\u001b[0m     csv_reader \u001b[38;5;241m=\u001b[39m csv\u001b[38;5;241m.\u001b[39mDictReader(file)\n\u001b[1;32m      4\u001b[0m     \u001b[38;5;28;01mfor\u001b[39;00m row \u001b[38;5;129;01min\u001b[39;00m csv_reader:\n",
      "\u001b[0;31mFileNotFoundError\u001b[0m: [Errno 2] No such file or directory: 'data.csv'"
     ]
    }
   ],
   "source": [
    "# Example: Reading a CSV file with headers\n",
    "with open('data.csv', 'r') as file:\n",
    "    csv_reader = csv.DictReader(file)\n",
    "    for row in csv_reader:\n",
    "        print(f\"{row['Name']} is {row['Age']} years old.\")"
   ]
  },
  {
   "cell_type": "markdown",
   "id": "8c214c6d",
   "metadata": {
    "heading_collapsed": true,
    "hidden": true
   },
   "source": [
    "### 5.2 Writing to a CSV File\n",
    "\n",
    "You can write data to a CSV file using the `csv.writer()` method."
   ]
  },
  {
   "cell_type": "code",
   "execution_count": null,
   "id": "5e2c46bd",
   "metadata": {
    "hidden": true
   },
   "outputs": [],
   "source": [
    "# Example: Writing to a CSV file\n",
    "with open('output.csv', 'w', newline='') as file:\n",
    "    csv_writer = csv.writer(file)\n",
    "    csv_writer.writerow(['Name', 'Age', 'Balance'])\n",
    "    csv_writer.writerow(['Alice', '30', '1000.50'])\n",
    "    csv_writer.writerow(['Bob', '25', '1500.75'])"
   ]
  },
  {
   "cell_type": "markdown",
   "id": "bdfe1310",
   "metadata": {},
   "source": [
    "## 6. Working with CSV Files Using `pandas`"
   ]
  },
  {
   "cell_type": "markdown",
   "id": "fd0724e5",
   "metadata": {},
   "source": [
    "`Pandas` simplifies reading, writing, and analyzing data, especially with CSV files. "
   ]
  },
  {
   "cell_type": "markdown",
   "id": "14408fd8",
   "metadata": {},
   "source": [
    "**Reading Data from a CSV File with `pandas`**"
   ]
  },
  {
   "cell_type": "code",
   "execution_count": 13,
   "id": "38a3954f",
   "metadata": {
    "collapsed": true
   },
   "outputs": [
    {
     "ename": "NameError",
     "evalue": "name 'pd' is not defined",
     "output_type": "error",
     "traceback": [
      "\u001b[0;31m---------------------------------------------------------------------------\u001b[0m",
      "\u001b[0;31mNameError\u001b[0m                                 Traceback (most recent call last)",
      "Input \u001b[0;32mIn [13]\u001b[0m, in \u001b[0;36m<cell line: 2>\u001b[0;34m()\u001b[0m\n\u001b[1;32m      1\u001b[0m \u001b[38;5;66;03m# Example: Reading a CSV file into a DataFrame\u001b[39;00m\n\u001b[0;32m----> 2\u001b[0m df \u001b[38;5;241m=\u001b[39m \u001b[43mpd\u001b[49m\u001b[38;5;241m.\u001b[39mread_csv(\u001b[38;5;124m'\u001b[39m\u001b[38;5;124mdata.csv\u001b[39m\u001b[38;5;124m'\u001b[39m)\n\u001b[1;32m      3\u001b[0m \u001b[38;5;28mprint\u001b[39m(df\u001b[38;5;241m.\u001b[39mhead())\n",
      "\u001b[0;31mNameError\u001b[0m: name 'pd' is not defined"
     ]
    }
   ],
   "source": [
    "# Example: Reading a CSV file into a DataFrame\n",
    "df = pd.read_csv('data.csv')\n",
    "print(df.head())  # Display the first 5 rows"
   ]
  },
  {
   "cell_type": "markdown",
   "id": "b83af023",
   "metadata": {},
   "source": [
    "**Writing Data to a CSV File with `pandas`**\n",
    "\n",
    "You can save a DataFrame to a CSV file using the `to_csv()` method."
   ]
  },
  {
   "cell_type": "code",
   "execution_count": null,
   "id": "6c6c345f",
   "metadata": {},
   "outputs": [],
   "source": [
    "# Example: Writing DataFrame to a CSV file\n",
    "df.to_csv('output.csv', index=False)  # `index=False` to exclude row indices"
   ]
  },
  {
   "cell_type": "markdown",
   "id": "6012f6b7",
   "metadata": {},
   "source": [
    "---"
   ]
  },
  {
   "cell_type": "markdown",
   "id": "f550a716",
   "metadata": {
    "heading_collapsed": true
   },
   "source": [
    "# ---\n"
   ]
  },
  {
   "cell_type": "markdown",
   "id": "3899b003",
   "metadata": {
    "hidden": true
   },
   "source": [
    "I have created a CSV file containing stock data, which you can download from the following link:\n",
    "\n",
    "[Download stock_data.csv](sandbox:/mnt/data/stock_data.csv?_chatgptios_conversationID=e9407df4-c500-4374-8e70-03fc5e3f7f7d&_chatgptios_messageID=bb68c8d1-7640-42ee-87c4-a9280f5a896c)\n",
    "\n",
    "### Extended Exercise: Reading, Manipulating, and Saving Data with `pandas`\n",
    "\n",
    "**Goal:** In this exercise, you'll read the CSV file, manipulate the data using `pandas`, and save the modified data back to a CSV file.\n",
    "\n",
    "#### 1. Reading the CSV file\n",
    "\n",
    "- Use `pandas` to load the CSV file into a DataFrame.\n",
    "\n",
    "```python\n",
    "import pandas as pd\n",
    "\n",
    "# Load the CSV file\n",
    "df = pd.read_csv('stock_data.csv')\n",
    "print(df.head())  # Display the first few rows\n",
    "```\n",
    "\n",
    "#### 2. Data Manipulation Tasks\n",
    "\n",
    "- **Task 1:** Filter out all rows where the stock price is greater than $2000.\n",
    "  \n",
    "```python\n",
    "# Filter rows where the price is greater than $2000\n",
    "filtered_df = df[df['Price'] > 2000]\n",
    "print(filtered_df)\n",
    "```\n",
    "\n",
    "- **Task 2:** Add a new column called `Value` which is calculated as `Price * Volume`.\n",
    "  \n",
    "```python\n",
    "# Add a new column 'Value'\n",
    "df['Value'] = df['Price'] * df['Volume']\n",
    "print(df.head())\n",
    "```\n",
    "\n",
    "- **Task 3:** Group the data by the `Stock` column and calculate the average price for each stock.\n",
    "  \n",
    "```python\n",
    "# Group by 'Stock' and calculate the average price\n",
    "avg_price_per_stock = df.groupby('Stock')['Price'].mean()\n",
    "print(avg_price_per_stock)\n",
    "```\n",
    "\n",
    "#### 3. Saving the Manipulated Data\n",
    "\n",
    "- Save the manipulated DataFrame to a new CSV file.\n",
    "\n",
    "```python\n",
    "# Save the modified DataFrame to a new CSV file\n",
    "df.to_csv('modified_stock_data.csv', index=False)\n",
    "print(\"Modified data saved to 'modified_stock_data.csv'.\")\n",
    "```\n",
    "\n",
    "### Expected Output:\n",
    "By the end of this exercise, you will have:\n",
    "- Loaded the `stock_data.csv` file.\n",
    "- Filtered, calculated, and grouped data using `pandas`.\n",
    "- Saved the modified data to a new CSV file called `modified_stock_data.csv`.\n",
    "\n",
    "This exercise helps reinforce how to handle, manipulate, and save data using `pandas` in Python."
   ]
  },
  {
   "cell_type": "markdown",
   "id": "460d14da",
   "metadata": {
    "heading_collapsed": true
   },
   "source": [
    "# Exercises"
   ]
  },
  {
   "cell_type": "code",
   "execution_count": null,
   "id": "4ace797c",
   "metadata": {
    "hidden": true
   },
   "outputs": [],
   "source": []
  },
  {
   "cell_type": "markdown",
   "id": "8bb398cd",
   "metadata": {
    "hidden": true
   },
   "source": [
    "### Exercise 1: Simple Input and Output\n",
    "\n",
    "Write a program that takes a user's name and age as input, and prints a message with the following format: \"Hello [name], you are [age] years old.\""
   ]
  },
  {
   "cell_type": "markdown",
   "id": "ba8a3a72",
   "metadata": {
    "hidden": true
   },
   "source": [
    "```python\n",
    "# Your code here\n",
    "```"
   ]
  },
  {
   "cell_type": "markdown",
   "id": "e2933ba7",
   "metadata": {
    "hidden": true
   },
   "source": [
    "### Exercise 2: Saving User Information to a File\n",
    "\n",
    "Write a Python program that asks the user for their name, age, and email address. Save this information in a file called `user_info.txt`."
   ]
  },
  {
   "cell_type": "markdown",
   "id": "52e0a08c",
   "metadata": {
    "hidden": true
   },
   "source": [
    "```python\n",
    "# Your code here\n",
    "```"
   ]
  },
  {
   "cell_type": "markdown",
   "id": "2f8a7081",
   "metadata": {
    "hidden": true
   },
   "source": [
    "### Exercise 3: Reading and Writing Financial Data\n",
    "\n",
    "1. Ask the user for financial data: the principal, rate of interest, and time period.\n",
    "2. Calculate the simple interest and display it.\n",
    "3. Save the user's input and the calculated interest to a file called `financial_data.txt`."
   ]
  },
  {
   "cell_type": "markdown",
   "id": "8c86e8cf",
   "metadata": {
    "hidden": true
   },
   "source": [
    "```python\n",
    "# Your code here\n",
    "```"
   ]
  },
  {
   "cell_type": "markdown",
   "id": "bb1b8a16",
   "metadata": {
    "hidden": true
   },
   "source": [
    "### Exercise 4: Reading from a File\n",
    "\n",
    "Write a program that reads from a file called `example.txt` and prints its content line by line."
   ]
  },
  {
   "cell_type": "markdown",
   "id": "ea28f745",
   "metadata": {
    "hidden": true
   },
   "source": [
    "```python\n",
    "# Your code here\n",
    "```"
   ]
  },
  {
   "cell_type": "markdown",
   "id": "60e33586",
   "metadata": {
    "hidden": true
   },
   "source": [
    "### Exercise 5: Append Data to a File\n",
    "\n",
    "Modify Exercise 2 so that the program appends the user's information to the `user_info.txt` file rather than overwriting it."
   ]
  },
  {
   "cell_type": "markdown",
   "id": "b0d304ec",
   "metadata": {
    "hidden": true
   },
   "source": [
    "```python\n",
    "# Your code here\n",
    "```"
   ]
  },
  {
   "cell_type": "markdown",
   "id": "4b99a5b9",
   "metadata": {
    "hidden": true
   },
   "source": [
    "\n",
    "# Introduction to Input and Output (I/O) Operations in Python\n",
    "\n",
    "## 1. Overview\n",
    "\n",
    "Input and output operations (I/O) are essential in programming. They allow programs to interact with users, take data as input, and display or save the results as output.\n",
    "\n",
    "In this lecture, we will cover:\n",
    "- How to take input from users\n",
    "- How to display output using the `print()` function\n",
    "- File I/O operations: reading from and writing to files\n",
    "- Handling CSV files with basic file operations\n",
    "- Working with CSV files using `pandas`\n",
    "\n",
    "---\n",
    "\n",
    "## 2. Taking Input from Users\n",
    "\n",
    "### 2.1 The `input()` Function\n",
    "\n",
    "The `input()` function allows the user to provide input to the program. It always returns the input as a string.\n",
    "\n",
    "```python\n",
    "# Example: Asking for user input\n",
    "name = input(\"What is your name? \")\n",
    "print(\"Hello, \" + name + \"!\")\n",
    "```\n",
    "\n",
    "### 2.2 Converting Input to Other Data Types\n",
    "\n",
    "```python\n",
    "# Example: Taking a number as input\n",
    "age = int(input(\"How old are you? \"))  # Convert input to an integer\n",
    "print(\"You are\", age, \"years old.\")\n",
    "```\n",
    "\n",
    "---\n",
    "\n",
    "## 3. Displaying Output with `print()`\n",
    "\n",
    "### 3.1 Basic Output\n",
    "\n",
    "The `print()` function is used to display information on the screen.\n",
    "\n",
    "```python\n",
    "# Example: Basic output using print()\n",
    "print(\"Hello, world!\")\n",
    "```\n",
    "\n",
    "### 3.2 String Formatting\n",
    "\n",
    "```python\n",
    "# Example: Using f-strings\n",
    "print(f\"Hello, {name}. You are {age} years old.\")\n",
    "```\n",
    "\n",
    "---\n",
    "\n",
    "## 4. File Input and Output (File I/O)\n",
    "\n",
    "### 4.1 Opening and Reading Files\n",
    "\n",
    "You can use the `open()` function to open a file in Python. Use `read()`, `readline()`, or `readlines()` to read data from the file.\n",
    "\n",
    "```python\n",
    "# Example: Reading a file's content\n",
    "file = open(\"example.txt\", \"r\")\n",
    "content = file.read()  # Read the entire file\n",
    "print(content)\n",
    "file.close()  # Close the file after reading\n",
    "```\n",
    "\n",
    "### 4.2 Writing to a File\n",
    "\n",
    "```python\n",
    "# Example: Writing to a file\n",
    "file = open(\"example.txt\", \"w\")\n",
    "file.write(\"This is a new line of text.\\n\")\n",
    "file.close()\n",
    "```\n",
    "\n",
    "---\n",
    "\n",
    "\n",
    "\n",
    "---\n",
    "\n",
    "## 9. Practice Exercises\n",
    "\n",
    "### Exercise 1: Read and Display CSV Data\n",
    "\n",
    "Write a Python program that reads a CSV file containing user information (name, age, balance) and prints each row.\n",
    "\n",
    "```python\n",
    "# Your code here\n",
    "```\n",
    "\n",
    "### Exercise 2: Save Data to CSV\n",
    "\n",
    "Write a program that asks for a user's name, age, and salary, then appends this data to an existing CSV file.\n",
    "\n",
    "```python\n",
    "# Your code here\n",
    "```\n",
    "\n",
    "### Exercise 3: Analyze Stock Prices\n",
    "\n",
    "Create a CSV file with columns for stock names, prices, and volumes. Use `pandas` to:\n",
    "- Read the CSV file into a DataFrame.\n",
    "- Calculate the total trading volume.\n",
    "- Filter and display the stocks with prices above $2000.\n",
    "\n",
    "```python\n",
    "# Your code here\n",
    "```\n",
    "\n",
    "---\n",
    "\n",
    "## 10. Conclusion\n",
    "\n",
    "- **Recap:**\n",
    "  - You learned how to handle input/output operations in Python, including reading from and writing to files.\n",
    "  - You explored CSV file operations using both Python’s `csv` module and the powerful `pandas` library.\n",
    "  - You practiced applying these concepts in the context of finance and data science.\n",
    "\n",
    "- **Next Steps:**\n",
    "  - Continue practicing file I/O and CSV operations using real-world datasets.\n",
    "  - Learn more about data analysis with `pandas` in the next lecture.\n",
    "\n",
    "---\n",
    "\n",
    "This updated lecture outline introduces students to input/output operations, focusing on how to work with CSV files both using basic Python functions and the `pandas` library. The added sections on CSV handling and `pandas` are particularly relevant for data science and finance students, where data often comes in CSV format."
   ]
  }
 ],
 "metadata": {
  "kernelspec": {
   "display_name": "Python 3 (ipykernel)",
   "language": "python",
   "name": "python3"
  },
  "language_info": {
   "codemirror_mode": {
    "name": "ipython",
    "version": 3
   },
   "file_extension": ".py",
   "mimetype": "text/x-python",
   "name": "python",
   "nbconvert_exporter": "python",
   "pygments_lexer": "ipython3",
   "version": "3.9.12"
  }
 },
 "nbformat": 4,
 "nbformat_minor": 5
}
