














import numpy as np 
import pandas as pd
from pylab import mpl, plt 
plt.style.use('seaborn-v0_8-dark') 
mpl.rcParams['font.family'] = 'serif' 
%matplotlib inline

















# Data from the Thomson Reuters (TR) Eikon Data API
file_path = 'Data/11/'
file_name = 'tr_eikon_eod_data.csv'
file = open(file_path + file_name, 'r')


file.readlines()[:5]


file.close()





# index_col = 0: the first column shall be handled as an index.
# parse_dates = True: the index values are of type datetime.
data = pd.read_csv(file_path + file_name, index_col = 0, parse_dates = True)








data.info()


data.head()


data.tail()





data.plot(figsize = (10,12), subplots = True);








instruments = ['Apple Stock', 'Microsoft Stock',
                           'Intel Stock', 'Amazon Stock', 'Goldman Sachs Stock',
                           'SPDR S&P 500 ETF Trust', 'S&P 500 Index',
                           'VIX Volatility Index', 'EUR/USD Exchange Rate',
                           'Gold Price', 'VanEck Vectors Gold Miners ETF',
                           'SPDR Gold Trust']


for ric, name in zip(data.columns, instruments):
    print('{:8s} | {}'.format(ric, name))








data.describe().round(2)


data.mean()





data.aggregate(['min', 'mean', 'std', 'median', 'max']).round(2)














data.diff().head()


data.diff(periods=2)


data.diff().mean()








data.pct_change().round(3).head()


data.pct_change(periods = 7).round(3).head(10)


data.pct_change().mean().plot(kind = 'bar', figsize = (10,6));











rets = np.log(data / data.shift(1))


rets.head().round(2)





rets.cumsum().apply(np.exp).plot(figsize = (10,6));











data.resample('W', label='right').last().head()


# Resample to quarterly data, labeling periods at the start of the quarter
data.resample('QE', label='left').mean().head()


data.resample('1ME', label = 'right').last().head()


rets.cumsum().apply(np.exp).resample('ME', label='right').last().plot(figsize=(10, 6));














# Let's focus on a single financial time series
sym = 'AAPL.O'
data = pd.DataFrame(data[sym]).dropna()
data.tail()


window = 20





data['min'] = data[sym].rolling(window=window).min()


data['max'] = data[sym].rolling(window=window).max()





data['mean'] = data[sym].rolling(window=window).mean()


data['std'] = data[sym].rolling(window=window).std()


data['median'] = data[sym].rolling(window=window).median()





data['ewma'] = data[sym].ewm(halflife=0.5, min_periods=window).mean()


data.head(25)


data.dropna().head()





ax = data[['min', 'mean', 'max']].iloc[-200:].plot(
    figsize = (20,12), style = ['g--', 'r--', 'g--'], lw = 0.8)
data[sym].iloc[-200:].plot(ax = ax, lw = 2.0) ;








data['SMA1'] = data[sym].rolling(window=42).mean()
data['SMA2'] = data[sym].rolling(window=252).mean()


data[[sym, 'SMA1', 'SMA2']].tail()


data[[sym, 'SMA1', 'SMA2']].plot(figsize=(20, 12));





data.dropna(inplace = True)


data['positions'] = np.where(data['SMA1'] > data['SMA2'], 1, -1)


ax = data[[sym, 'SMA1', 'SMA2', 'positions']].plot(
    figsize = (20,12), secondary_y = 'positions')
ax.get_legend().set_bbox_to_anchor((0.25,0.85));











raw = pd.read_csv(file_path + file_name, index_col=0, parse_dates=True)


data = raw[['.SPX', '.VIX']].dropna()


data.tail()





data.plot(subplots=True, figsize=(10, 6));


data.loc[:'2012-12-31'].plot(secondary_y='.VIX', figsize=(10, 6));








rets = np.log(data / data.shift(1))


rets.head()


rets.dropna(inplace=True)





rets.plot(subplots=True, figsize=(10, 6));





pd.plotting.scatter_matrix(rets,
                           alpha=0.2,
                           diagonal='hist',
                           hist_kwds={'bins': 35},
                           figsize=(10, 6));











reg, cov_matrix = np.polyfit(rets['.SPX'], rets['.VIX'], deg=1, cov=True)
print (f"The regression results in: VIX = {reg[0].round(2)} SPX + {reg[1].round(4)}")
# print (cov_matrix)





ax = rets.plot(kind='scatter', x='.SPX', y='.VIX', figsize=(10, 6))
ax.plot(rets['.SPX'], np.polyval(reg, rets['.SPX']), 'r', lw=2);











rets.corr()


ax = rets['.SPX'].rolling(window=252).corr(
    rets['.VIX']).plot(figsize=(10, 6))
ax.axhline(rets.corr().iloc[0, 1], c='r');














file_path = 'Data/11/'
file_name = 'fxcm_eur_usd_tick_data.csv'
file = open(file_path + file_name, 'r')


file.readlines()[:10]


file.close()





tick = pd.read_csv(file_path + file_name,
                   index_col=0, parse_dates=True)


tick.head()


tick.info()








tick['Mid'] = tick.mean(axis = 1)


tick['Mid'].plot(figsize = (10,6));





tick_resam = tick.resample(rule='5min', label='right').last()


tick_resam.head()


tick_resam['Mid'].plot(figsize=(10, 6));



