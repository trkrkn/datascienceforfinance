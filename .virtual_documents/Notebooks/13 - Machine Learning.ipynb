

























































































import numpy as np 
import pandas as pd
import datetime as dt
from pylab import mpl, plt

plt.style.use('seaborn-v0_8-dark') 
mpl.rcParams['font.family'] = 'serif'
%matplotlib inline

np.random.seed(1000)
np.set_printoptions(suppress=True, precision=4)


from sklearn.datasets import make_blobs

X, y = make_blobs(n_samples=250, centers=4,
                              random_state=500, cluster_std=1.25)

plt.figure(figsize = (10,6));
plt.scatter(X[:,0], X[:,1], s = 50);









































from sklearn.cluster import KMeans
model = KMeans (n_clusters = 4, random_state = 0)
model.fit(X)
y_kmeans = model.predict(X)


plt.figure(figsize=(10, 6))
plt.scatter(X[:, 0], X[:, 1], c=y_kmeans, cmap='coolwarm');


























from sklearn.datasets import make_classification


n_samples = 10000
X, y = make_classification(n_samples=n_samples, n_features=20,
                                         n_informative=20, n_redundant=0,
                                         n_repeated=0, random_state=250)


plt.figure(figsize = (10,6))
plt.scatter(x=X[:, 0], y=X[:, 1], c=y, cmap='coolwarm')






































from sklearn.linear_model import LogisticRegression
# model = LogisticRegression(C = 1, solver = 'lbfgs')
model = LogisticRegression()

model.fit(X,y)

pred = model.predict(X)








Xc = X[y == pred]
Xf = X[y != pred]


plt.figure(figsize=(10, 6))
plt.scatter(x=Xc[:, 0], y=Xc[:, 1], c=y[y == pred],
                         marker='o', cmap='coolwarm')
plt.scatter(x=Xf[:, 0], y=Xf[:, 1], c=y[y != pred],
                         marker='x', cmap='coolwarm');





from sklearn.metrics import accuracy_score, precision_score, recall_score, f1_score

accuracy = accuracy_score(y, pred)
precision = precision_score(y, pred)  
recall = recall_score(y, pred)  
f1 = f1_score(y, pred)              

print(f"Accuracy: {accuracy:.2f}")
print(f"Precision: {precision:.2f}")
print(f"Recall: {recall:.2f}")
print(f"F1 Score: {f1:.2f}")





















































from sklearn.model_selection import train_test_split

X_train, X_test, y_train, y_test = train_test_split(X, y, test_size=0.2, random_state=42)

# Output the sizes of the training and test sets
print(f"Training set size: {X_train.shape}")
print(f"Test set size: {X_test.shape}")





from sklearn.tree import DecisionTreeClassifier

model = DecisionTreeClassifier(max_depth=1)


model.fit(X_train,y_train)


y_pred = model.predict(X_test)





from sklearn.metrics import accuracy_score, precision_score, recall_score, f1_score

accuracy = accuracy_score(y_test,y_pred)
precision = precision_score(y_test,y_pred)
recall = recall_score(y_test,y_pred)
f1 = f1_score(y_test,y_pred)

print(f"Accuracy: {accuracy:.2f}")
print(f"Precision: {precision:.2f}")
print(f"Recall: {recall:.2f}")
print(f"F1 Score: {f1:.2f}")


Xc = X_test[y_test == y_pred]
Xf = X_test[y_test != y_pred]


plt.figure(figsize=(10, 6))
plt.scatter(x=Xc[:, 0], y=Xc[:, 1], c=y_test[y_test == y_pred],
                         marker='o', cmap='coolwarm')
plt.scatter(x=Xf[:, 0], y=Xf[:, 1], c=y_test[y_test != y_pred],
                         marker='x', cmap='coolwarm');





print('{:>8s} | {:10s} | {:10s} | {:10s} | {:10s}'.format('depth', 'accuracy', 'precision', 'recall', 'f1')) 
print(60 * '-')
for depth in range(1, 20):
    model = DecisionTreeClassifier(max_depth=depth) 
    model.fit(X_train, y_train)
    acc = accuracy_score(y_test, model.predict(X_test)) 
    # accuracy = accuracy_score(y_test,y_pred)
    prec = precision_score(y_test,model.predict(X_test))
    rec = recall_score(y_test,model.predict(X_test))
    f1 = f1_score(y_test,model.predict(X_test))
    print('{:8d} | {:10.2f} | {:10.2f} | {:10.2f} | {:10.2f}'.format(depth, acc, prec, rec, f1))


print('{:>8s} | {:10s} | {:10s} | {:10s} | {:10s}'.format('depth', 'accuracy', 'precision', 'recall', 'f1')) 
print(60 * '-')
for depth in range(1, 20):
    model = DecisionTreeClassifier(max_depth=depth) 
    model.fit(X, y)
    acc = accuracy_score(y, model.predict(X)) 
    # accuracy = accuracy_score(y_test,y_pred)
    prec = precision_score(y,model.predict(X))
    rec = recall_score(y,model.predict(X))
    f1 = f1_score(y,model.predict(X))
    print('{:8d} | {:10.2f} | {:10.2f} | {:10.2f} | {:10.2f}'.format(depth, acc, prec, rec, f1))
