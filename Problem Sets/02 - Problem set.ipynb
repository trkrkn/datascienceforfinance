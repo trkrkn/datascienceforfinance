{
 "cells": [
  {
   "cell_type": "markdown",
   "id": "50a2f634",
   "metadata": {},
   "source": [
    "# Data Types and Structures - Problem Set"
   ]
  },
  {
   "cell_type": "markdown",
   "id": "dbac5946",
   "metadata": {
    "heading_collapsed": true
   },
   "source": [
    "### Exercise 1: Check Data Types"
   ]
  },
  {
   "cell_type": "markdown",
   "id": "4c4396b2",
   "metadata": {
    "hidden": true
   },
   "source": [
    "Write a Python program that prints the data types of the following variables:\n",
    "```python\n",
    "a = 42\n",
    "b = 3.14\n",
    "c = \"Python\"\n",
    "d = [1, 2, 3]\n",
    "e = (1, 2, 3)\n",
    "f = {'name': 'John', 'age': 30}\n",
    "g = {1, 2, 3}\n",
    "```"
   ]
  },
  {
   "cell_type": "code",
   "execution_count": 6,
   "id": "2c416947",
   "metadata": {
    "hidden": true
   },
   "outputs": [],
   "source": [
    "l = ()\n",
    "l = {}\n",
    "l = dict()\n",
    "l = []"
   ]
  },
  {
   "cell_type": "code",
   "execution_count": 11,
   "id": "bb592af9",
   "metadata": {
    "hidden": true
   },
   "outputs": [],
   "source": [
    "d = dict()\n",
    "d['Age'] = 34"
   ]
  },
  {
   "cell_type": "code",
   "execution_count": 13,
   "id": "0cec4b75",
   "metadata": {
    "hidden": true
   },
   "outputs": [],
   "source": [
    "l = list()"
   ]
  },
  {
   "cell_type": "code",
   "execution_count": 14,
   "id": "2ab69815",
   "metadata": {
    "hidden": true
   },
   "outputs": [
    {
     "data": {
      "text/plain": [
       "[]"
      ]
     },
     "execution_count": 14,
     "metadata": {},
     "output_type": "execute_result"
    }
   ],
   "source": [
    "l"
   ]
  },
  {
   "cell_type": "code",
   "execution_count": 15,
   "id": "0ab59f50",
   "metadata": {
    "hidden": true
   },
   "outputs": [],
   "source": [
    "l.append(2)"
   ]
  },
  {
   "cell_type": "code",
   "execution_count": 16,
   "id": "c278447e",
   "metadata": {
    "hidden": true
   },
   "outputs": [
    {
     "data": {
      "text/plain": [
       "[2]"
      ]
     },
     "execution_count": 16,
     "metadata": {},
     "output_type": "execute_result"
    }
   ],
   "source": [
    "l"
   ]
  },
  {
   "cell_type": "code",
   "execution_count": 12,
   "id": "8be510a8",
   "metadata": {
    "hidden": true
   },
   "outputs": [
    {
     "data": {
      "text/plain": [
       "{'Age': 34}"
      ]
     },
     "execution_count": 12,
     "metadata": {},
     "output_type": "execute_result"
    }
   ],
   "source": [
    "d"
   ]
  },
  {
   "cell_type": "code",
   "execution_count": 1,
   "id": "765dc892",
   "metadata": {
    "hidden": true
   },
   "outputs": [],
   "source": [
    "# Your code\n",
    "a = 42\n",
    "b = 3.14\n",
    "c = \"Python\"\n",
    "d = [1, 2, 3]\n",
    "e = (1, 2, 3)\n",
    "f = {'name': 'John', 'age': 30}\n",
    "g = {1, 2, 3}\n",
    "\n"
   ]
  },
  {
   "cell_type": "code",
   "execution_count": 4,
   "id": "bc9bdcdc",
   "metadata": {
    "hidden": true
   },
   "outputs": [
    {
     "name": "stdout",
     "output_type": "stream",
     "text": [
      "<class 'int'>\n",
      "<class 'float'>\n"
     ]
    }
   ],
   "source": [
    "print(type(a))\n",
    "print(type(b))"
   ]
  },
  {
   "cell_type": "code",
   "execution_count": 9,
   "id": "28e7e72c",
   "metadata": {
    "hidden": true
   },
   "outputs": [],
   "source": [
    "l = [a,b,c,d,e,f,g]"
   ]
  },
  {
   "cell_type": "code",
   "execution_count": 10,
   "id": "66871b8e",
   "metadata": {
    "hidden": true
   },
   "outputs": [
    {
     "name": "stdout",
     "output_type": "stream",
     "text": [
      "<class 'int'>\n",
      "<class 'float'>\n",
      "<class 'str'>\n",
      "<class 'list'>\n",
      "<class 'tuple'>\n",
      "<class 'dict'>\n",
      "<class 'set'>\n"
     ]
    }
   ],
   "source": [
    "for letter in l:\n",
    "    print(type(letter))"
   ]
  },
  {
   "cell_type": "markdown",
   "id": "77eaa71b",
   "metadata": {
    "heading_collapsed": true
   },
   "source": [
    "### Exercise 2: List Operations"
   ]
  },
  {
   "cell_type": "markdown",
   "id": "9dd7587a",
   "metadata": {
    "hidden": true
   },
   "source": [
    "Create a list with the elements `[10, 20, 30, 40, 50]`. Add `60` to the list, remove `30`, and reverse the list."
   ]
  },
  {
   "cell_type": "code",
   "execution_count": 37,
   "id": "2b677d31",
   "metadata": {
    "hidden": true
   },
   "outputs": [],
   "source": [
    "# Your code\n",
    "l = [10, 20, 30, 40 ,50]"
   ]
  },
  {
   "cell_type": "code",
   "execution_count": 36,
   "id": "50e5cfbf",
   "metadata": {
    "hidden": true
   },
   "outputs": [
    {
     "name": "stdout",
     "output_type": "stream",
     "text": [
      "[60, 50, 40, 20, 10]\n"
     ]
    }
   ],
   "source": [
    "l.append(60)\n",
    "l.remove(30)\n",
    "l.reverse()\n",
    "\n",
    "print (l)"
   ]
  },
  {
   "cell_type": "code",
   "execution_count": 38,
   "id": "e350fc15",
   "metadata": {
    "hidden": true
   },
   "outputs": [
    {
     "data": {
      "text/plain": [
       "[10, 20, 30, 40, 50]"
      ]
     },
     "execution_count": 38,
     "metadata": {},
     "output_type": "execute_result"
    }
   ],
   "source": [
    "l"
   ]
  },
  {
   "cell_type": "code",
   "execution_count": 19,
   "id": "38b4614e",
   "metadata": {
    "hidden": true
   },
   "outputs": [],
   "source": [
    "l.extend([60])"
   ]
  },
  {
   "cell_type": "code",
   "execution_count": 34,
   "id": "8f80094f",
   "metadata": {
    "hidden": true
   },
   "outputs": [
    {
     "ename": "ValueError",
     "evalue": "list.remove(x): x not in list",
     "output_type": "error",
     "traceback": [
      "\u001b[0;31m---------------------------------------------------------------------------\u001b[0m",
      "\u001b[0;31mValueError\u001b[0m                                Traceback (most recent call last)",
      "Input \u001b[0;32mIn [34]\u001b[0m, in \u001b[0;36m<cell line: 1>\u001b[0;34m()\u001b[0m\n\u001b[0;32m----> 1\u001b[0m \u001b[43ml\u001b[49m\u001b[38;5;241;43m.\u001b[39;49m\u001b[43mremove\u001b[49m\u001b[43m(\u001b[49m\u001b[43m[\u001b[49m\u001b[38;5;241;43m10\u001b[39;49m\u001b[43m,\u001b[49m\u001b[38;5;241;43m20\u001b[39;49m\u001b[43m]\u001b[49m\u001b[43m)\u001b[49m\n",
      "\u001b[0;31mValueError\u001b[0m: list.remove(x): x not in list"
     ]
    }
   ],
   "source": [
    "l = l[3:]"
   ]
  },
  {
   "cell_type": "code",
   "execution_count": 30,
   "id": "b9cbcd94",
   "metadata": {
    "hidden": true
   },
   "outputs": [],
   "source": [
    "l.append(60)"
   ]
  },
  {
   "cell_type": "code",
   "execution_count": 24,
   "id": "98195f02",
   "metadata": {
    "hidden": true
   },
   "outputs": [
    {
     "data": {
      "text/plain": [
       "[10, 20, 30, 40, 50, 60]"
      ]
     },
     "execution_count": 24,
     "metadata": {},
     "output_type": "execute_result"
    }
   ],
   "source": [
    "l"
   ]
  },
  {
   "cell_type": "code",
   "execution_count": 25,
   "id": "a3ffa289",
   "metadata": {
    "hidden": true
   },
   "outputs": [],
   "source": [
    "l.remove(30)"
   ]
  },
  {
   "cell_type": "code",
   "execution_count": 31,
   "id": "71ba4e1b",
   "metadata": {
    "hidden": true
   },
   "outputs": [
    {
     "data": {
      "text/plain": [
       "30"
      ]
     },
     "execution_count": 31,
     "metadata": {},
     "output_type": "execute_result"
    }
   ],
   "source": [
    "l.pop(2)"
   ]
  },
  {
   "cell_type": "code",
   "execution_count": 32,
   "id": "63923671",
   "metadata": {
    "hidden": true
   },
   "outputs": [
    {
     "data": {
      "text/plain": [
       "[10, 20, 40, 50, 60]"
      ]
     },
     "execution_count": 32,
     "metadata": {},
     "output_type": "execute_result"
    }
   ],
   "source": [
    "l"
   ]
  },
  {
   "cell_type": "code",
   "execution_count": 27,
   "id": "a90c7195",
   "metadata": {
    "hidden": true
   },
   "outputs": [],
   "source": [
    "l.reverse()"
   ]
  },
  {
   "cell_type": "code",
   "execution_count": 28,
   "id": "26c37356",
   "metadata": {
    "hidden": true
   },
   "outputs": [
    {
     "data": {
      "text/plain": [
       "[60, 50, 40, 20, 10]"
      ]
     },
     "execution_count": 28,
     "metadata": {},
     "output_type": "execute_result"
    }
   ],
   "source": [
    "l"
   ]
  },
  {
   "cell_type": "markdown",
   "id": "7a4ab5c3",
   "metadata": {
    "heading_collapsed": true
   },
   "source": [
    "### Exercise 3: Tuple Unpacking"
   ]
  },
  {
   "cell_type": "markdown",
   "id": "ec7d8651",
   "metadata": {
    "hidden": true
   },
   "source": [
    "Given the following tuple, unpack its elements into separate variables and print them:\n",
    "```python\n",
    "my_tuple = (100, 200, 300)\n",
    "```"
   ]
  },
  {
   "cell_type": "code",
   "execution_count": 2,
   "id": "cc4fa218",
   "metadata": {
    "hidden": true
   },
   "outputs": [],
   "source": [
    "# Your code"
   ]
  },
  {
   "cell_type": "markdown",
   "id": "fa94187a",
   "metadata": {
    "heading_collapsed": true
   },
   "source": [
    "### Exercise 4: Dictionary Manipulation"
   ]
  },
  {
   "cell_type": "markdown",
   "id": "a209899d",
   "metadata": {
    "hidden": true
   },
   "source": [
    "Create a dictionary with keys `'name'`, `'age'`, and `'city'`, and values `'Alice'`, `25`, and `'New York'`. Update the age to `26` and add a new key `'profession'` with value `'Engineer'`."
   ]
  },
  {
   "cell_type": "code",
   "execution_count": 3,
   "id": "65d2306b",
   "metadata": {
    "hidden": true
   },
   "outputs": [],
   "source": [
    "# Your code"
   ]
  },
  {
   "cell_type": "markdown",
   "id": "19d9eb3c",
   "metadata": {
    "heading_collapsed": true
   },
   "source": [
    "### Exercise 5: Set Operations"
   ]
  },
  {
   "cell_type": "markdown",
   "id": "4911ba15",
   "metadata": {
    "hidden": true
   },
   "source": [
    "Create two sets, `set1` with elements `{1, 2, 3, 4}` and `set2` with elements `{3, 4, 5, 6}`. Find the union, intersection, and difference between these sets."
   ]
  },
  {
   "cell_type": "code",
   "execution_count": 4,
   "id": "17a1c670",
   "metadata": {
    "hidden": true
   },
   "outputs": [],
   "source": [
    "# Your code"
   ]
  },
  {
   "cell_type": "markdown",
   "id": "9768b7f2",
   "metadata": {
    "heading_collapsed": true
   },
   "source": [
    "### Exercise 6: String Slicing"
   ]
  },
  {
   "cell_type": "markdown",
   "id": "28100404",
   "metadata": {
    "hidden": true
   },
   "source": [
    "Given the string `s = \"Hello, Python!\"`, write code to:\n",
    "1. Extract the substring `\"Python\"`.\n",
    "2. Reverse the entire string."
   ]
  },
  {
   "cell_type": "code",
   "execution_count": 5,
   "id": "6896dbe3",
   "metadata": {
    "hidden": true
   },
   "outputs": [],
   "source": [
    "# Your code"
   ]
  },
  {
   "cell_type": "markdown",
   "id": "0ff56adf",
   "metadata": {
    "heading_collapsed": true
   },
   "source": [
    "### Exercise 7: Boolean Logic"
   ]
  },
  {
   "cell_type": "markdown",
   "id": "f34dfc0f",
   "metadata": {
    "hidden": true
   },
   "source": [
    "You are given three numbers, a, b, and c. Write a Python program that returns True if a is the largest number and b is not equal to c. Otherwise, return False."
   ]
  },
  {
   "cell_type": "code",
   "execution_count": 2,
   "id": "db51c710",
   "metadata": {
    "hidden": true
   },
   "outputs": [],
   "source": [
    "# Input numbers\n",
    "a = 10\n",
    "b = 5\n",
    "c = 5\n",
    "\n",
    "# Your code"
   ]
  },
  {
   "cell_type": "markdown",
   "id": "2f31303f",
   "metadata": {},
   "source": [
    "### Exercise 8: Complex Boolean Logic with Multiple Conditions"
   ]
  },
  {
   "cell_type": "markdown",
   "id": "4deec9c0",
   "metadata": {},
   "source": [
    "Write a Python program that checks the following conditions for three variables x, y, and z:\n",
    "\n",
    "1.\tx is greater than y or y is equal to z.\n",
    "2.\tThe sum of x and y is even.\n",
    "3.\tx, y, and z are all positive numbers.\n",
    "\n",
    "The program should return True only if all three conditions are met."
   ]
  },
  {
   "cell_type": "code",
   "execution_count": 41,
   "id": "6f837029",
   "metadata": {},
   "outputs": [],
   "source": [
    "# Input variables\n",
    "x = 8\n",
    "y = 6\n",
    "z = 6"
   ]
  },
  {
   "cell_type": "code",
   "execution_count": 47,
   "id": "11413710",
   "metadata": {},
   "outputs": [
    {
     "name": "stdout",
     "output_type": "stream",
     "text": [
      "True\n",
      "all conditions are met\n"
     ]
    }
   ],
   "source": [
    "# Your code\n",
    "condition_1 = (x > y) or (y == z)\n",
    "condition_2 = (x+y)%2 != 1\n",
    "condition_3 = (x>0) and (y>0) and (z>0)\n",
    "\n",
    "result = condition_1 and condition_2 and condition_3\n",
    "\n",
    "print (result)\n",
    "\n",
    "if result == True:\n",
    "    print (\"all conditions are met\")\n",
    "else:\n",
    "    print (\"one of the conditions is not met\")"
   ]
  },
  {
   "cell_type": "markdown",
   "id": "f5d9d4ec",
   "metadata": {},
   "source": [
    "if X % 2 == 1 --> Odd"
   ]
  },
  {
   "cell_type": "markdown",
   "id": "2fb97e79",
   "metadata": {
    "heading_collapsed": true
   },
   "source": [
    "### Exercise 9: Checking for Keys in a Dictionary"
   ]
  },
  {
   "cell_type": "markdown",
   "id": "cc016ee9",
   "metadata": {
    "hidden": true
   },
   "source": [
    "Given the dictionary `person = {'name': 'Bob', 'age': 25}`, check if the key `'age'` exists in the dictionary and print a message."
   ]
  },
  {
   "cell_type": "code",
   "execution_count": 8,
   "id": "85f8f38f",
   "metadata": {
    "hidden": true
   },
   "outputs": [],
   "source": [
    "# Your code"
   ]
  },
  {
   "cell_type": "markdown",
   "id": "8e7771b2",
   "metadata": {
    "heading_collapsed": true
   },
   "source": [
    "### Exercise 10: Nested Data Structures"
   ]
  },
  {
   "cell_type": "markdown",
   "id": "f87d8b80",
   "metadata": {
    "hidden": true
   },
   "source": [
    "Create a dictionary `students` where each key is a student's name and each value is a dictionary containing their `'age'` and a list of their `'grades'`. \n",
    "\n",
    "Enter the following data in the dictionary:\n",
    "- Alice is 24 and has grades 88, 92 and 86\n",
    "- Bob is 23 and had grades 75, 80, 89\n",
    "\n",
    "Print Bob’s age and Alice’s grades.\n"
   ]
  },
  {
   "cell_type": "code",
   "execution_count": 9,
   "id": "0c5ad59b",
   "metadata": {
    "hidden": true
   },
   "outputs": [],
   "source": [
    "# Your code"
   ]
  }
 ],
 "metadata": {
  "kernelspec": {
   "display_name": "Python 3 (ipykernel)",
   "language": "python",
   "name": "python3"
  },
  "language_info": {
   "codemirror_mode": {
    "name": "ipython",
    "version": 3
   },
   "file_extension": ".py",
   "mimetype": "text/x-python",
   "name": "python",
   "nbconvert_exporter": "python",
   "pygments_lexer": "ipython3",
   "version": "3.9.12"
  }
 },
 "nbformat": 4,
 "nbformat_minor": 5
}
