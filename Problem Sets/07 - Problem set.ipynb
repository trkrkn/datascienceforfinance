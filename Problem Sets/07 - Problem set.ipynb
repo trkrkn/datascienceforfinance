{
 "cells": [
  {
   "cell_type": "markdown",
   "id": "45dc58cc",
   "metadata": {},
   "source": [
    "# Numerical Computing (NumPy) - Problem set"
   ]
  },
  {
   "cell_type": "markdown",
   "id": "530ffea0",
   "metadata": {
    "slideshow": {
     "slide_type": "slide"
    }
   },
   "source": [
    "## Exercise 1: Manipulating a 3D Array"
   ]
  },
  {
   "cell_type": "markdown",
   "id": "c4c04214",
   "metadata": {},
   "source": [
    "Create a 3D array with dimensions $3 \\times 3 \\times 3$ filled with random integers between 1 and 100. \n",
    "1. Replace all values that are divisible by 3 with -1.\n",
    "2. Calculate the mean value for each of the three 2D layers in the 3D array."
   ]
  },
  {
   "cell_type": "code",
   "execution_count": 5,
   "id": "40346395",
   "metadata": {
    "slideshow": {
     "slide_type": "-"
    }
   },
   "outputs": [
    {
     "data": {
      "text/plain": [
       "array([[[42, 13, 80],\n",
       "        [26, 30, 18],\n",
       "        [74, 85, 89]],\n",
       "\n",
       "       [[54, 60, 20],\n",
       "        [51,  3,  7],\n",
       "        [69, 41, 10]],\n",
       "\n",
       "       [[87, 74, 12],\n",
       "        [ 4, 92, 61],\n",
       "        [66, 12, 68]]])"
      ]
     },
     "execution_count": 5,
     "metadata": {},
     "output_type": "execute_result"
    }
   ],
   "source": [
    "# Your code\n",
    "import numpy as np\n",
    "\n",
    "# a = np.random.randint(1,101, 27).reshape((3,3,3))\n",
    "a = np.random.randint(1,101, size = (3,3,3))\n",
    "a"
   ]
  },
  {
   "cell_type": "code",
   "execution_count": 9,
   "id": "2a87c328",
   "metadata": {
    "slideshow": {
     "slide_type": "-"
    }
   },
   "outputs": [
    {
     "data": {
      "text/plain": [
       "array([[[ True,  True,  True],\n",
       "        [ True,  True,  True],\n",
       "        [ True,  True,  True]],\n",
       "\n",
       "       [[ True,  True,  True],\n",
       "        [ True,  True,  True],\n",
       "        [ True,  True,  True]],\n",
       "\n",
       "       [[ True,  True,  True],\n",
       "        [ True,  True,  True],\n",
       "        [ True,  True,  True]]])"
      ]
     },
     "execution_count": 9,
     "metadata": {},
     "output_type": "execute_result"
    }
   ],
   "source": [
    "a[a%3 == 0] = -1\n",
    "a == np.where(a%3==0, -1, a)"
   ]
  },
  {
   "cell_type": "code",
   "execution_count": 14,
   "id": "9af30ea6",
   "metadata": {},
   "outputs": [
    {
     "data": {
      "text/plain": [
       "array([10.88888889, 33.44444444, 37.        ])"
      ]
     },
     "execution_count": 14,
     "metadata": {},
     "output_type": "execute_result"
    }
   ],
   "source": [
    "a.mean(axis=(0,1))"
   ]
  },
  {
   "cell_type": "code",
   "execution_count": 13,
   "id": "55f21d00",
   "metadata": {},
   "outputs": [
    {
     "data": {
      "text/plain": [
       "40.44444444444444"
      ]
     },
     "execution_count": 13,
     "metadata": {},
     "output_type": "execute_result"
    }
   ],
   "source": [
    "a[0].mean()"
   ]
  },
  {
   "cell_type": "markdown",
   "id": "41d29a32",
   "metadata": {
    "slideshow": {
     "slide_type": "slide"
    }
   },
   "source": [
    "## Exercise 2: Boolean Indexing and Filtering"
   ]
  },
  {
   "cell_type": "markdown",
   "id": "f816af86",
   "metadata": {},
   "source": [
    "Given an array of random integers between 1 and 50 (size 20):\n",
    "1. Identify all elements that are prime numbers.\n",
    "2. Replace all prime numbers with 0."
   ]
  },
  {
   "cell_type": "code",
   "execution_count": 15,
   "id": "200e83ed",
   "metadata": {},
   "outputs": [],
   "source": [
    "# Your code\n",
    "def is_prime(n):\n",
    "    if n < 2:\n",
    "        return False\n",
    "    for i in range(2, int(np.sqrt(n)) + 1):\n",
    "        if n%i == 0:\n",
    "            return False\n",
    "    return True"
   ]
  },
  {
   "cell_type": "code",
   "execution_count": 28,
   "id": "1e59ea01",
   "metadata": {},
   "outputs": [],
   "source": [
    "a_original = np.random.randint(1, 51, 20)"
   ]
  },
  {
   "cell_type": "code",
   "execution_count": 29,
   "id": "46d42749",
   "metadata": {},
   "outputs": [
    {
     "data": {
      "text/plain": [
       "array([25, 14, 33, 21, 15, 22, 46,  9,  5, 47, 18, 45, 37,  4, 36, 12, 19,\n",
       "       49, 34, 15])"
      ]
     },
     "execution_count": 29,
     "metadata": {},
     "output_type": "execute_result"
    }
   ],
   "source": [
    "a_original"
   ]
  },
  {
   "cell_type": "code",
   "execution_count": 22,
   "id": "2ee0de0a",
   "metadata": {},
   "outputs": [
    {
     "data": {
      "text/plain": [
       "array([ True, False, False,  True, False, False, False, False,  True,\n",
       "        True, False,  True, False, False,  True,  True,  True,  True,\n",
       "       False, False])"
      ]
     },
     "execution_count": 22,
     "metadata": {},
     "output_type": "execute_result"
    }
   ],
   "source": [
    "a_prime = np.vectorize(is_prime)(a)"
   ]
  },
  {
   "cell_type": "code",
   "execution_count": 30,
   "id": "c937d969",
   "metadata": {},
   "outputs": [
    {
     "data": {
      "text/plain": [
       "array([25, 14, 33, 21, 15, 22, 46,  9,  0,  0, 18, 45,  0,  4, 36, 12,  0,\n",
       "       49, 34, 15])"
      ]
     },
     "execution_count": 30,
     "metadata": {},
     "output_type": "execute_result"
    }
   ],
   "source": [
    "# a_prime = np.array([is_prime(x) for x in a])\n",
    "a_prime = np.array([0 if is_prime(x) else x for x in a_original])\n",
    "a_prime"
   ]
  },
  {
   "cell_type": "code",
   "execution_count": 23,
   "id": "9c8c6b69",
   "metadata": {},
   "outputs": [
    {
     "data": {
      "text/plain": [
       "array([ 0, 42, 12,  0, 49, 36, 25, 20,  0,  0,  9,  0, 50, 50,  0,  0,  0,\n",
       "        0, 32, 35])"
      ]
     },
     "execution_count": 23,
     "metadata": {},
     "output_type": "execute_result"
    }
   ],
   "source": [
    "np.where(a_prime, 0, a)"
   ]
  },
  {
   "cell_type": "code",
   "execution_count": 25,
   "id": "799e83be",
   "metadata": {},
   "outputs": [
    {
     "data": {
      "text/plain": [
       "array([ 0, 42, 12,  0, 49, 36, 25, 20,  0,  0,  9,  0, 50, 50,  0,  0,  0,\n",
       "        0, 32, 35])"
      ]
     },
     "execution_count": 25,
     "metadata": {},
     "output_type": "execute_result"
    }
   ],
   "source": [
    "a[a_prime] = 0\n",
    "a"
   ]
  },
  {
   "cell_type": "markdown",
   "id": "feb1d90a",
   "metadata": {
    "heading_collapsed": true
   },
   "source": [
    "## Exercise 3: Array Manipulation and Reshaping"
   ]
  },
  {
   "cell_type": "markdown",
   "id": "70630f39",
   "metadata": {
    "hidden": true
   },
   "source": [
    "Create a 1D NumPy array of size 30 filled with random integers between 10 and 100. Perform the following:\n",
    "1. Reshape the array into a $5 \\times 6$ matrix.\n",
    "2. Compute the sum of the values in each row.\n",
    "3. Compute the sum of the values in each column."
   ]
  },
  {
   "cell_type": "code",
   "execution_count": 1,
   "id": "22bf9578",
   "metadata": {
    "hidden": true
   },
   "outputs": [],
   "source": [
    "# Your code"
   ]
  },
  {
   "cell_type": "markdown",
   "id": "af4cc943",
   "metadata": {
    "heading_collapsed": true
   },
   "source": [
    "## Exercise 4: Matrix Determinant and Inverse"
   ]
  },
  {
   "cell_type": "markdown",
   "id": "ca63f526",
   "metadata": {
    "hidden": true
   },
   "source": [
    "Generate a $4 \\times 4$ matrix of random integers between 1 and 10. \n",
    "1. Calculate the **determinant** of the matrix.\n",
    "2. If the determinant is non-zero, compute its **inverse**.\n",
    "3. Verify that the inverse and the original matrix product result in an identity matrix.\n",
    "\n",
    "Use functions:\n",
    "- `np.linalg.det()`\n",
    "- `np.linalg.inv()`\n",
    "- `np.dot()`"
   ]
  },
  {
   "cell_type": "code",
   "execution_count": 1,
   "id": "5cb591cc",
   "metadata": {
    "hidden": true
   },
   "outputs": [],
   "source": [
    "# Your code"
   ]
  },
  {
   "cell_type": "markdown",
   "id": "39401af4",
   "metadata": {},
   "source": [
    "## Exercise 5: Simulating an Ornstein-Uhlenbeck Process"
   ]
  },
  {
   "cell_type": "markdown",
   "id": "228ce7f1",
   "metadata": {},
   "source": [
    "Simulate an **Ornstein-Uhlenbeck** process, which is used in finance to model mean-reverting processes such as interest rates. The formula is given by:\n",
    "\n",
    "$$\n",
    "X_{t+1} = X_t + \\theta (\\mu - X_t) \\Delta t + \\sigma \\sqrt{\\Delta t} \\cdot Z_t\n",
    "$$\n",
    "\n",
    "Where:\n",
    "- $X_t$ is the value of the process at time step $t$.\n",
    "- $\\theta$ is the speed of mean reversion (how fast the process reverts to the mean).\n",
    "- $\\mu$ is the long-term mean to which the process reverts.\n",
    "- $\\sigma$ is the volatility or standard deviation of the process.\n",
    "- $\\Delta t$ is the time step size (in this case, 0.01).\n",
    "- $Z_t$ is a random normal variable ($Z_t \\sim N(0, 1)$), representing the random noise at each time step.\n",
    "\n",
    "**Background information:**\n",
    "1. **Mean-reverting drift**: $\\theta (\\mu - X_t) \\Delta t$\n",
    "   - This term controls how quickly the process moves back towards the mean $\\mu$.\n",
    "   - The strength of this pull towards the mean is determined by $\\theta$, and the distance from the mean is represented by $\\mu - X_t$.\n",
    "\n",
    "2. **Random fluctuation**: $\\sigma \\sqrt{\\Delta t} \\cdot Z_t$\n",
    "   - This term represents the stochastic component of the process, introducing random fluctuations.\n",
    "   - $\\sigma$ controls the magnitude of these fluctuations, while $\\sqrt{\\Delta t}$ ensures the appropriate scaling over time steps.\n",
    "\n",
    "Thus, at each time step $t$, the process evolves according to this combination of mean-reverting behavior and random fluctuation.\n",
    "\n",
    "\n",
    "**Parameter setting for the simulation:**\n",
    "  - $ \\theta = 0.7 $ (mean reversion speed),\n",
    "  - $ \\mu = 0.05 $ (long-term mean),\n",
    "  - $ \\sigma = 0.15 $ (volatility),\n",
    "  - $ dt = 0.01 $ (time step),\n",
    "  - initial value $ X_0 = 0.05 $,\n",
    "  - simulate for 500 time steps."
   ]
  },
  {
   "cell_type": "code",
   "execution_count": 1,
   "id": "b4ec1a5a",
   "metadata": {},
   "outputs": [],
   "source": [
    "# Your code"
   ]
  },
  {
   "cell_type": "markdown",
   "id": "b66c7fd2",
   "metadata": {
    "heading_collapsed": true
   },
   "source": [
    "## Exercise 6: Element-Wise Operations on Multiple Arrays"
   ]
  },
  {
   "cell_type": "markdown",
   "id": "8ac5b2cb",
   "metadata": {
    "hidden": true
   },
   "source": [
    "Create two arrays, `A` and `B`, each of size \\(1000\\), with random values between 1 and 10. Perform the following operations:\n",
    "1. Identify the indices where elements of `A` are larger than the corresponding elements in `B`.\n",
    "2. Compute a new array `C` where `C[i]` equals the value of `A[i]` if `A[i] > B[i]`, otherwise it equals the average of `A[i]` and `B[i]`."
   ]
  },
  {
   "cell_type": "code",
   "execution_count": 1,
   "id": "bbfca922",
   "metadata": {
    "hidden": true
   },
   "outputs": [],
   "source": [
    "# Your code"
   ]
  },
  {
   "cell_type": "markdown",
   "id": "34d4dd99",
   "metadata": {
    "heading_collapsed": true
   },
   "source": [
    "## Exercise 7: Matrix Operations and Transposing"
   ]
  },
  {
   "cell_type": "markdown",
   "id": "ce1ebc76",
   "metadata": {
    "hidden": true
   },
   "source": [
    "Given a $4 \\times 4$ matrix filled with random integers between 1 and 20, perform the following:\n",
    "\n",
    "1. Transpose the matrix.\n",
    "2. Compute the sum of the elements in the original matrix.\n",
    "3. Compute the sum of the elements in the transposed matrix.\n",
    "4. Verify if the sum of elements in the original and transposed matrix are equal."
   ]
  },
  {
   "cell_type": "markdown",
   "id": "2ee6bcf0",
   "metadata": {
    "heading_collapsed": true
   },
   "source": [
    "## Exercise 8: Advanced Matrix Operations and Broadcasting"
   ]
  },
  {
   "cell_type": "markdown",
   "id": "603e143d",
   "metadata": {
    "hidden": true
   },
   "source": [
    "Given two matrices  A  and  B  with dimensions $3 \\times 3$ filled with random integers between 1 and 10:\n",
    "\n",
    "1. Add the two matrices together using broadcasting.\n",
    "2. Multiply the two matrices element-wise.\n",
    "3. Compute the matrix product of  A  and  B  using matrix multiplication.\n",
    "4. Subtract the transpose of matrix  B  from matrix  A ."
   ]
  },
  {
   "cell_type": "markdown",
   "id": "db02a2cc",
   "metadata": {
    "hidden": true
   },
   "source": [
    "---"
   ]
  },
  {
   "cell_type": "markdown",
   "id": "2abdf3b8",
   "metadata": {
    "heading_collapsed": true
   },
   "source": [
    "## Exercise 9: Function Application with Vectorization"
   ]
  },
  {
   "cell_type": "markdown",
   "id": "d02b02b3",
   "metadata": {
    "hidden": true
   },
   "source": [
    "Write a NumPy-based function that calculates the following for each element of a 1D array:\n",
    "\n",
    "\n",
    "$$f(x) = 3x^2 + 2x - 5$$\n",
    "\n",
    "1. Create a 1D array of size 20 with random integers between -10 and 10.\n",
    "2. Apply the function f(x) to each element of the array in a vectorized manner (without using loops).\n",
    "3. Return the resulting array."
   ]
  },
  {
   "cell_type": "markdown",
   "id": "036bda08",
   "metadata": {
    "heading_collapsed": true
   },
   "source": [
    "## Exercise 10: Advanced Broadcasting and Boolean Filtering"
   ]
  },
  {
   "cell_type": "markdown",
   "id": "0ea07376",
   "metadata": {
    "hidden": true
   },
   "source": [
    "Given a $6 \\times 6$ matrix of random integers between 1 and 100:\n",
    "\n",
    "1. Write a function that finds all the elements divisible by both 3 and 5.\n",
    "2. Replace all such elements with -1 using boolean filtering and broadcasting.\n",
    "3. Return the modified matrix."
   ]
  },
  {
   "cell_type": "markdown",
   "id": "33e4bb3f",
   "metadata": {
    "hidden": true
   },
   "source": [
    "---"
   ]
  }
 ],
 "metadata": {
  "kernelspec": {
   "display_name": "Python 3 (ipykernel)",
   "language": "python",
   "name": "python3"
  },
  "language_info": {
   "codemirror_mode": {
    "name": "ipython",
    "version": 3
   },
   "file_extension": ".py",
   "mimetype": "text/x-python",
   "name": "python",
   "nbconvert_exporter": "python",
   "pygments_lexer": "ipython3",
   "version": "3.9.12"
  }
 },
 "nbformat": 4,
 "nbformat_minor": 5
}
