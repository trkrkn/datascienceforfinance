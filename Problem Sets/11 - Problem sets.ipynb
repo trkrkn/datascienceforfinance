{
 "cells": [
  {
   "cell_type": "markdown",
   "id": "9f58253d",
   "metadata": {},
   "source": [
    "# Time Series Analysis - Problem set"
   ]
  },
  {
   "cell_type": "markdown",
   "id": "9f87643b",
   "metadata": {},
   "source": [
    "# Data"
   ]
  },
  {
   "cell_type": "markdown",
   "id": "f1e30153",
   "metadata": {},
   "source": [
    "For this problem, use datasets according to the following format:\n",
    "```python\n",
    "    file_path = \"historical-crypto/\"\n",
    "    file_name = \"coin_***.csv\"\n",
    "```\n",
    "Each dataset contains historical data on listed crypto tokens. "
   ]
  },
  {
   "cell_type": "markdown",
   "id": "5516fa2f",
   "metadata": {},
   "source": [
    "## Problem 1: Basic Data Inspection and Summary Statistics\n",
    "\n",
    "Using the provided datasets, \n",
    "- Assemble a single dataframe close price information across all crypto tokens.\n",
    "- Construct another dataframe where the timeseries coverage is the same for every token.\n",
    "- Conduct a basic data inspection\n",
    "- Display the first and last few rows and generate summary statistics, including mean, median, standard deviation, and min/max values for each time series in the dataset."
   ]
  },
  {
   "cell_type": "markdown",
   "id": "7966fe54",
   "metadata": {},
   "source": [
    "|Date| Token 1 | Token 2 | ... |\n",
    "|---|---|---|---|\n",
    "|date 1| price Token 1 | price Token 2| ... |\n",
    "|date 2| price Token 1 | price Token 2| ... |"
   ]
  },
  {
   "cell_type": "code",
   "execution_count": 15,
   "id": "d48c536c",
   "metadata": {},
   "outputs": [
    {
     "name": "stderr",
     "output_type": "stream",
     "text": [
      "/Users/tarikrouknyornia/opt/anaconda3/lib/python3.9/site-packages/pandas/core/computation/expressions.py:21: UserWarning: Pandas requires version '2.8.4' or newer of 'numexpr' (version '2.8.1' currently installed).\n",
      "  from pandas.core.computation.check import NUMEXPR_INSTALLED\n",
      "/Users/tarikrouknyornia/opt/anaconda3/lib/python3.9/site-packages/pandas/core/arrays/masked.py:60: UserWarning: Pandas requires version '1.3.6' or newer of 'bottleneck' (version '1.3.4' currently installed).\n",
      "  from pandas.core import (\n"
     ]
    }
   ],
   "source": [
    "import pandas as pd\n",
    "import os\n",
    "import glob"
   ]
  },
  {
   "cell_type": "code",
   "execution_count": 34,
   "id": "c951dd3d",
   "metadata": {},
   "outputs": [],
   "source": [
    "path = os.getcwd() + '/Data/historical-crypto/'"
   ]
  },
  {
   "cell_type": "code",
   "execution_count": 38,
   "id": "c7297bfe",
   "metadata": {},
   "outputs": [],
   "source": [
    "file_names = os.listdir(path)"
   ]
  },
  {
   "cell_type": "code",
   "execution_count": 50,
   "id": "715426c2",
   "metadata": {},
   "outputs": [
    {
     "data": {
      "text/plain": [
       "Date\n",
       "2015-04-02 23:59:59    0.000314\n",
       "2015-04-03 23:59:59    0.000310\n",
       "2015-04-04 23:59:59    0.000277\n",
       "2015-04-05 23:59:59    0.000232\n",
       "2015-04-06 23:59:59    0.000289\n",
       "                         ...   \n",
       "2021-07-02 23:59:59    0.131455\n",
       "2021-07-03 23:59:59    0.134756\n",
       "2021-07-04 23:59:59    0.137617\n",
       "2021-07-05 23:59:59    0.130602\n",
       "2021-07-06 23:59:59    0.133591\n",
       "Name: NEM, Length: 2288, dtype: float64"
      ]
     },
     "execution_count": 50,
     "metadata": {},
     "output_type": "execute_result"
    }
   ],
   "source": [
    "coin_name = file_names[0].replace('coin_','').replace('.csv','')\n",
    "df = pd.read_csv(path + file_names[0], index_col = 3, parse_dates=True)\n",
    "df_final = df['Close']\n",
    "df_final.rename(coin_name, inplace = True)\n"
   ]
  },
  {
   "cell_type": "code",
   "execution_count": 49,
   "id": "29ab0957",
   "metadata": {},
   "outputs": [
    {
     "data": {
      "text/plain": [
       "Date\n",
       "2015-04-02 23:59:59    0.000314\n",
       "2015-04-03 23:59:59    0.000310\n",
       "2015-04-04 23:59:59    0.000277\n",
       "2015-04-05 23:59:59    0.000232\n",
       "2015-04-06 23:59:59    0.000289\n",
       "                         ...   \n",
       "2021-07-02 23:59:59    0.131455\n",
       "2021-07-03 23:59:59    0.134756\n",
       "2021-07-04 23:59:59    0.137617\n",
       "2021-07-05 23:59:59    0.130602\n",
       "2021-07-06 23:59:59    0.133591\n",
       "Name: NEM, Length: 2288, dtype: float64"
      ]
     },
     "execution_count": 49,
     "metadata": {},
     "output_type": "execute_result"
    }
   ],
   "source": [
    "for file_name in file_names[1:]:\n",
    "    coin_name = file_name.replace('coin_','').replace('.csv','')\n",
    "    df = pd.read_csv(path + file_name, index_col = 3, parse_dates=True)\n",
    "    "
   ]
  },
  {
   "cell_type": "markdown",
   "id": "1e3c7283",
   "metadata": {},
   "source": [
    "---"
   ]
  },
  {
   "cell_type": "markdown",
   "id": "6b2ef5b8",
   "metadata": {},
   "source": [
    "## Problem 2: Time Series Visualization and Resampling\n",
    "\n",
    "- Create time series plots for each asset in the dataset to observe trends\n",
    "- Resample the data to monthly intervals, displaying only the closing values for each interval. \n",
    "- Plot the resampled data."
   ]
  },
  {
   "cell_type": "code",
   "execution_count": null,
   "id": "18a332df",
   "metadata": {},
   "outputs": [],
   "source": []
  },
  {
   "cell_type": "markdown",
   "id": "30f0695d",
   "metadata": {},
   "source": [
    "## Problem 3: Rolling Statistics Calculation\n",
    "\n",
    "For the 3 assets with highest prices in the dataset:\n",
    "- Calculate a 30-day rolling window for the mean, standard deviation, minimum, and maximum values. \n",
    "- Plot the original time series with these rolling statistics overlaid to observe how the statistics capture trends over time."
   ]
  },
  {
   "cell_type": "code",
   "execution_count": null,
   "id": "fac5cfc8",
   "metadata": {},
   "outputs": [],
   "source": []
  },
  {
   "cell_type": "markdown",
   "id": "d28f39b3",
   "metadata": {},
   "source": [
    "## Problem 4: Simple Moving Averages (SMA) Crossover Strategy\n",
    "\n",
    "- Using a single asset, implement a basic trading strategy using the two Simple Moving Averages (SMAs): a short-term 20-day SMA and a long-term 100-day SMA. \n",
    "- Identify the crossover points and visualize the results. \n",
    "- Determine whether a trading position (long/short) would have been profitable by the end of the time frame."
   ]
  },
  {
   "cell_type": "code",
   "execution_count": null,
   "id": "c32c7db4",
   "metadata": {},
   "outputs": [],
   "source": []
  },
  {
   "cell_type": "markdown",
   "id": "6abf9ade",
   "metadata": {},
   "source": [
    "## Problem 5: Correlation Analysis Between Two Assets\n",
    "\n",
    "Choose two assets in the dataset: \n",
    "- Calculate the daily log returns for each \n",
    "- Generate a scatter plot showing their correlation. \n",
    "- Run an OLS regression and plot the line on top of the scatter plot.\n",
    "- Calculate the Pearson correlation coefficient and interpret the strength and direction of the relationship."
   ]
  },
  {
   "cell_type": "code",
   "execution_count": null,
   "id": "e2820326",
   "metadata": {},
   "outputs": [],
   "source": []
  }
 ],
 "metadata": {
  "kernelspec": {
   "display_name": "Python 3 (ipykernel)",
   "language": "python",
   "name": "python3"
  },
  "language_info": {
   "codemirror_mode": {
    "name": "ipython",
    "version": 3
   },
   "file_extension": ".py",
   "mimetype": "text/x-python",
   "name": "python",
   "nbconvert_exporter": "python",
   "pygments_lexer": "ipython3",
   "version": "3.9.12"
  }
 },
 "nbformat": 4,
 "nbformat_minor": 5
}
