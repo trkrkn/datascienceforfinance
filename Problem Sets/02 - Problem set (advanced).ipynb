{
 "cells": [
  {
   "cell_type": "markdown",
   "id": "7d138c07",
   "metadata": {
    "heading_collapsed": true
   },
   "source": [
    "# Data Types and Structures - Problem sets - Advanced\n"
   ]
  },
  {
   "cell_type": "markdown",
   "id": "d2886ceb",
   "metadata": {
    "hidden": true
   },
   "source": [
    "### Exercise 1: Flatten a Nested List\n",
    "Given a nested list:\n",
    "```python\n",
    "nested_list = [[1, 2, 3], [4, 5], [6, 7, 8, 9]]\n",
    "```\n",
    "Write a Python program to flatten it into a single list: `[1, 2, 3, 4, 5, 6, 7, 8, 9]`."
   ]
  },
  {
   "cell_type": "markdown",
   "id": "b25c11c1",
   "metadata": {
    "hidden": true
   },
   "source": [
    "### Exercise 2: List Comprehension with Conditional Logic\n",
    "Create a list comprehension that generates a list of even numbers between 1 and 20. If the number is odd, multiply it by 2 before adding it to the list."
   ]
  },
  {
   "cell_type": "markdown",
   "id": "28caaf51",
   "metadata": {
    "hidden": true
   },
   "source": [
    "### Exercise 3: Dictionary with Multiple Keys\n",
    "Create a dictionary where each key is a number from 1 to 5, and the value is a list containing the first `n` multiples of that number (where `n` is the key).\n",
    "\n",
    "For example:\n",
    "```python\n",
    "# Output for key 3: [3, 6, 9]\n",
    "```"
   ]
  },
  {
   "cell_type": "markdown",
   "id": "d9dd487e",
   "metadata": {
    "hidden": true
   },
   "source": [
    "### Exercise 4: Merging Two Dictionaries\n",
    "You are given two dictionaries:\n",
    "```python\n",
    "dict1 = {'a': 1, 'b': 2}\n",
    "dict2 = {'b': 3, 'c': 4}\n",
    "```\n",
    "Merge these dictionaries, but if there is a common key, add the values together."
   ]
  },
  {
   "cell_type": "markdown",
   "id": "32acf29c",
   "metadata": {
    "hidden": true
   },
   "source": [
    "### Exercise 5: Filter Dictionary by Value\n",
    "You are given a dictionary:\n",
    "```python\n",
    "scores = {'Alice': 85, 'Bob': 70, 'Charlie': 95, 'David': 60}\n",
    "```\n",
    "Write a Python program to create a new dictionary with only the entries where the score is greater than or equal to 80."
   ]
  },
  {
   "cell_type": "markdown",
   "id": "f0d2b152",
   "metadata": {
    "hidden": true
   },
   "source": [
    "### Exercise 6: List of Tuples to Dictionary\n",
    "Convert a list of tuples into a dictionary:\n",
    "```python\n",
    "tuples = [('name', 'Alice'), ('age', 25), ('city', 'New York')]\n",
    "```"
   ]
  },
  {
   "cell_type": "markdown",
   "id": "fc1682ee",
   "metadata": {
    "hidden": true
   },
   "source": [
    "### Exercise 7: List Comprehension with Nested Loops\n",
    "Write a list comprehension to create a list of all possible pairs `(x, y)` where `x` is from `[1, 2, 3]` and `y` is from `[4, 5]`."
   ]
  },
  {
   "cell_type": "markdown",
   "id": "461680a5",
   "metadata": {
    "hidden": true
   },
   "source": [
    "### Exercise 8: Sorting a List of Dictionaries\n",
    "You are given a list of dictionaries:\n",
    "```python\n",
    "students = [\n",
    "    {'name': 'Alice', 'age': 25},\n",
    "    {'name': 'Bob', 'age': 23},\n",
    "    {'name': 'Charlie', 'age': 27}\n",
    "]\n",
    "```\n",
    "Sort the list by the `'age'` key in ascending order."
   ]
  },
  {
   "cell_type": "markdown",
   "id": "3570a3fd",
   "metadata": {
    "hidden": true
   },
   "source": [
    "### Exercise 9: Find Common Elements in Lists\n",
    "You are given two lists:\n",
    "```python\n",
    "list1 = [1, 2, 3, 4, 5]\n",
    "list2 = [4, 5, 6, 7, 8]\n",
    "```\n",
    "Write a Python program to find the common elements between the two lists without using set operations."
   ]
  },
  {
   "cell_type": "markdown",
   "id": "c1aeca6a",
   "metadata": {
    "hidden": true
   },
   "source": [
    "### Exercise 10: Nested Dictionary Lookup\n",
    "Given the following nested dictionary, write a program to print the `'city'` of the second employee.\n",
    "```python\n",
    "employees = {\n",
    "    'emp1': {'name': 'John', 'age': 28, 'city': 'New York'},\n",
    "    'emp2': {'name': 'Anna', 'age': 24, 'city': 'London'}\n",
    "}\n",
    "```"
   ]
  }
 ],
 "metadata": {
  "kernelspec": {
   "display_name": "Python 3 (ipykernel)",
   "language": "python",
   "name": "python3"
  },
  "language_info": {
   "codemirror_mode": {
    "name": "ipython",
    "version": 3
   },
   "file_extension": ".py",
   "mimetype": "text/x-python",
   "name": "python",
   "nbconvert_exporter": "python",
   "pygments_lexer": "ipython3",
   "version": "3.9.12"
  }
 },
 "nbformat": 4,
 "nbformat_minor": 5
}
