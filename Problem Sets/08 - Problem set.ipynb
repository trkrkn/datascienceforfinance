{
 "cells": [
  {
   "cell_type": "markdown",
   "id": "96bd1447",
   "metadata": {},
   "source": [
    "# Data Manipulation (Pandas) - Problem set"
   ]
  },
  {
   "cell_type": "markdown",
   "id": "5c9b386c",
   "metadata": {},
   "source": [
    "**Exercise 1: Create a DataFrame of Stock Prices and Volume**\n",
    "\n",
    "Create a DataFrame that contains stock data for three different stocks: `AAPL`, `GOOGL`, and `AMZN` over five days. The DataFrame should have the following columns: `Date`, `Stock`, `Price`, and `Volume`. Then, display the DataFrame."
   ]
  },
  {
   "cell_type": "code",
   "execution_count": null,
   "id": "4e0eabe2",
   "metadata": {},
   "outputs": [],
   "source": [
    "# Your code here\n",
    "import pandas as pd\n",
    "\n",
    "# Creating a DataFrame with stock prices and volumes\n",
    "data = {\n",
    "    'Date': ['2023-09-01', '2023-09-02', '2023-09-03', '2023-09-04', '2023-09-05'],\n",
    "    'Stock': ['AAPL', 'AAPL', 'GOOGL', 'GOOGL', 'AMZN'],\n",
    "    'Price': [150.25, 153.50, 2800.50, 2830.75, 3400.00],\n",
    "    'Volume': [1000, 1100, 1200, 1300, 1400]\n",
    "}\n",
    "\n",
    "df = pd.DataFrame(data)\n",
    "print(df)"
   ]
  },
  {
   "cell_type": "markdown",
   "id": "2c57089d",
   "metadata": {},
   "source": [
    "### Exercise 2: Calculate Percentage Change in Stock Prices\n",
    "\n",
    "Using the DataFrame you created in Exercise 1, calculate the daily percentage change in stock prices and add a new column `Pct_Change` to store the results. Display the updated DataFrame."
   ]
  },
  {
   "cell_type": "code",
   "execution_count": null,
   "id": "127ae4a0",
   "metadata": {},
   "outputs": [],
   "source": [
    "# Your code here\n",
    "df['Pct_Change'] = df['Price'].pct_change()\n",
    "print(df)"
   ]
  },
  {
   "cell_type": "markdown",
   "id": "ea191114",
   "metadata": {},
   "source": [
    "### Exercise 3: Filter Stocks Based on Price\n",
    "\n",
    "Filter the DataFrame to display only the rows where the stock price is above $2000. Display the filtered DataFrame."
   ]
  },
  {
   "cell_type": "code",
   "execution_count": null,
   "id": "a474743b",
   "metadata": {},
   "outputs": [],
   "source": [
    "# Your code here\n",
    "filtered_df = df[df['Price'] > 2000]\n",
    "print(filtered_df)"
   ]
  },
  {
   "cell_type": "markdown",
   "id": "cb9a3c9b",
   "metadata": {},
   "source": [
    "### Exercise 4: Add a New Column for Total Value\n",
    "\n",
    "Add a new column to the DataFrame called `Total_Value`, which represents the total value of traded stock for each day (calculated as `Price * Volume`). Then display the updated DataFrame."
   ]
  },
  {
   "cell_type": "code",
   "execution_count": null,
   "id": "e656c16f",
   "metadata": {},
   "outputs": [],
   "source": [
    "# Your code here\n",
    "df['Total_Value'] = df['Price'] * df['Volume']\n",
    "print(df)"
   ]
  },
  {
   "cell_type": "markdown",
   "id": "d198a86a",
   "metadata": {},
   "source": [
    "### Exercise 5: Group Data by Stock and Calculate the Average Price\n",
    "\n",
    "Group the DataFrame by the `Stock` column and calculate the average stock price for each stock. Display the resulting DataFrame with the stock symbol and its average price."
   ]
  },
  {
   "cell_type": "code",
   "execution_count": null,
   "id": "b2d5d289",
   "metadata": {},
   "outputs": [],
   "source": [
    "# Your code here\n",
    "average_price = df.groupby('Stock')['Price'].mean()\n",
    "print(average_price)"
   ]
  },
  {
   "cell_type": "markdown",
   "id": "ee8eb7ee",
   "metadata": {},
   "source": [
    "### Exercise 6: Generate a New DataFrame for Portfolio Analysis\n",
    "\n",
    "Create a new DataFrame that represents a portfolio of investments. The DataFrame should contain the following columns: `Stock`, `Shares`, `Price_Per_Share`, and `Investment_Value` (calculated as `Shares * Price_Per_Share`). Populate the DataFrame with data for three stocks of your choice and display the DataFrame."
   ]
  },
  {
   "cell_type": "code",
   "execution_count": null,
   "id": "958d0b01",
   "metadata": {},
   "outputs": [],
   "source": [
    "# Your code here\n",
    "portfolio_data = {\n",
    "    'Stock': ['AAPL', 'GOOGL', 'AMZN'],\n",
    "    'Shares': [10, 5, 3],\n",
    "    'Price_Per_Share': [150.25, 2800.50, 3400.00]\n",
    "}\n",
    "\n",
    "portfolio_df = pd.DataFrame(portfolio_data)\n",
    "portfolio_df['Investment_Value'] = portfolio_df['Shares'] * portfolio_df['Price_Per_Share']\n",
    "print(portfolio_df)"
   ]
  },
  {
   "cell_type": "markdown",
   "id": "f40f316a",
   "metadata": {},
   "source": [
    "### Exercise 7: Sort Stocks by Price\n",
    "\n",
    "Sort the original DataFrame (from Exercise 1) by the `Price` column in descending order and display the sorted DataFrame."
   ]
  },
  {
   "cell_type": "code",
   "execution_count": null,
   "id": "a8f07ca7",
   "metadata": {},
   "outputs": [],
   "source": [
    "# Your code here\n",
    "sorted_df = df.sort_values(by='Price', ascending=False)\n",
    "print(sorted_df)"
   ]
  },
  {
   "cell_type": "markdown",
   "id": "6d950503",
   "metadata": {},
   "source": [
    "### Exercise 8: Calculate Moving Average of Stock Prices\n",
    "\n",
    "For each stock, calculate the 2-day moving average of the stock prices. Create a new column `Moving_Avg` in the DataFrame and display the updated DataFrame."
   ]
  },
  {
   "cell_type": "code",
   "execution_count": null,
   "id": "eba8e47c",
   "metadata": {},
   "outputs": [],
   "source": [
    "# Your code here\n",
    "df['Moving_Avg'] = df['Price'].rolling(window=2).mean()\n",
    "print(df)"
   ]
  },
  {
   "cell_type": "markdown",
   "id": "5fa836ef",
   "metadata": {},
   "source": [
    "### Exercise 9: Replace Missing Values\n",
    "\n",
    "Assume that some stock prices in your DataFrame are missing (NaN values). Replace the missing values with the average price of the respective stock."
   ]
  },
  {
   "cell_type": "code",
   "execution_count": null,
   "id": "88632a16",
   "metadata": {},
   "outputs": [],
   "source": [
    "# Your code here\n",
    "# Simulating missing values\n",
    "df.loc[1, 'Price'] = None\n",
    "\n",
    "# Replacing missing values with the mean price of the respective stock\n",
    "df['Price'].fillna(df['Price'].mean(), inplace=True)\n",
    "print(df)"
   ]
  },
  {
   "cell_type": "markdown",
   "id": "dfb485eb",
   "metadata": {},
   "source": [
    "### Exercise 10: Rank Stocks by Volume\n",
    "\n",
    "Rank the stocks based on their trading volume. Add a new column `Volume_Rank` that shows the rank of each stock based on its volume, with 1 being the highest. Display the updated DataFrame."
   ]
  },
  {
   "cell_type": "code",
   "execution_count": null,
   "id": "70712aa5",
   "metadata": {},
   "outputs": [],
   "source": [
    "# Your code here\n",
    "df['Volume_Rank'] = df['Volume'].rank(ascending=False)\n",
    "print(df)"
   ]
  },
  {
   "cell_type": "markdown",
   "id": "bdce686c",
   "metadata": {},
   "source": [
    "### Exercise 11: Concatenate DataFrames Vertically\n",
    "\n",
    "Create two DataFrames representing stock prices for different sets of stocks. Concatenate them vertically (i.e., one DataFrame below the other) to form a single DataFrame. Display the concatenated DataFrame."
   ]
  },
  {
   "cell_type": "code",
   "execution_count": null,
   "id": "45c6cc7e",
   "metadata": {},
   "outputs": [],
   "source": [
    "# Your code here\n",
    "import pandas as pd\n",
    "\n",
    "# DataFrame 1: Stock prices for AAPL and GOOGL\n",
    "data1 = {\n",
    "    'Stock': ['AAPL', 'GOOGL'],\n",
    "    'Price': [150.25, 2800.50],\n",
    "    'Date': ['2023-09-01', '2023-09-01']\n",
    "}\n",
    "df1 = pd.DataFrame(data1)\n",
    "\n",
    "# DataFrame 2: Stock prices for AMZN and MSFT\n",
    "data2 = {\n",
    "    'Stock': ['AMZN', 'MSFT'],\n",
    "    'Price': [3400.00, 305.50],\n",
    "    'Date': ['2023-09-01', '2023-09-01']\n",
    "}\n",
    "df2 = pd.DataFrame(data2)"
   ]
  },
  {
   "cell_type": "code",
   "execution_count": null,
   "id": "246f1837",
   "metadata": {},
   "outputs": [],
   "source": [
    "# Concatenating the DataFrames vertically\n",
    "concat_df = pd.concat([df1, df2], ignore_index=True)\n",
    "print(concat_df)"
   ]
  },
  {
   "cell_type": "markdown",
   "id": "b73f58c8",
   "metadata": {},
   "source": [
    "### Exercise 12: Concatenate DataFrames Horizontally\n",
    "\n",
    "Create two DataFrames representing different attributes of stocks. Concatenate them horizontally (i.e., side-by-side) so that each stock has multiple attributes. Display the concatenated DataFrame."
   ]
  },
  {
   "cell_type": "code",
   "execution_count": null,
   "id": "d2dd6fa0",
   "metadata": {},
   "outputs": [],
   "source": [
    "# Your code here\n",
    "\n",
    "# DataFrame 1: Stock names and prices\n",
    "data1 = {\n",
    "    'Stock': ['AAPL', 'GOOGL', 'AMZN'],\n",
    "    'Price': [150.25, 2800.50, 3400.00]\n",
    "}\n",
    "df1 = pd.DataFrame(data1)\n",
    "\n",
    "# DataFrame 2: Stock volumes\n",
    "data2 = {\n",
    "    'Volume': [1000, 1200, 1400]\n",
    "}\n",
    "df2 = pd.DataFrame(data2)\n",
    "\n",
    "# Concatenating the DataFrames horizontally\n",
    "concat_df = pd.concat([df1, df2], axis=1)\n",
    "print(concat_df)"
   ]
  },
  {
   "cell_type": "markdown",
   "id": "41c7516a",
   "metadata": {},
   "source": [
    "### Exercise 13: Merge Two DataFrames on a Common Column\n",
    "\n",
    "Create two DataFrames: one containing stock prices and the other containing trading volumes for the same stocks. Merge the two DataFrames on the `Stock` column to combine the price and volume information. Display the merged DataFrame."
   ]
  },
  {
   "cell_type": "code",
   "execution_count": null,
   "id": "6da40768",
   "metadata": {},
   "outputs": [],
   "source": [
    "# Your code here\n",
    "\n",
    "# DataFrame 1: Stock prices\n",
    "prices = {\n",
    "    'Stock': ['AAPL', 'GOOGL', 'AMZN'],\n",
    "    'Price': [150.25, 2800.50, 3400.00]\n",
    "}\n",
    "df_prices = pd.DataFrame(prices)\n",
    "\n",
    "# DataFrame 2: Stock volumes\n",
    "volumes = {\n",
    "    'Stock': ['AAPL', 'GOOGL', 'AMZN'],\n",
    "    'Volume': [1000, 1200, 1400]\n",
    "}\n",
    "df_volumes = pd.DataFrame(volumes)\n",
    "\n",
    "# Merging the DataFrames on 'Stock' column\n",
    "merged_df = pd.merge(df_prices, df_volumes, on='Stock')\n",
    "print(merged_df)"
   ]
  },
  {
   "cell_type": "markdown",
   "id": "96546e13",
   "metadata": {},
   "source": [
    "### Exercise 14: Merge DataFrames with Different Column Names (Using `left_on` and `right_on`)\n",
    "\n",
    "Create two DataFrames: one containing stock prices with the column name `Ticker`, and the other containing volumes with the column name `Stock`. Merge the two DataFrames using `left_on` and `right_on` to match the appropriate columns. Display the merged DataFrame."
   ]
  },
  {
   "cell_type": "code",
   "execution_count": null,
   "id": "21c7626c",
   "metadata": {},
   "outputs": [],
   "source": [
    "# Your code here\n",
    "\n",
    "# DataFrame 1: Stock prices with 'Ticker' column\n",
    "prices = {\n",
    "    'Ticker': ['AAPL', 'GOOGL', 'AMZN'],\n",
    "    'Price': [150.25, 2800.50, 3400.00]\n",
    "}\n",
    "df_prices = pd.DataFrame(prices)\n",
    "\n",
    "# DataFrame 2: Stock volumes with 'Stock' column\n",
    "volumes = {\n",
    "    'Stock': ['AAPL', 'GOOGL', 'AMZN'],\n",
    "    'Volume': [1000, 1200, 1400]\n",
    "}\n",
    "df_volumes = pd.DataFrame(volumes)\n",
    "\n",
    "# Merging the DataFrames on different column names\n",
    "merged_df = pd.merge(df_prices, df_volumes, left_on='Ticker', right_on='Stock')\n",
    "print(merged_df)"
   ]
  },
  {
   "cell_type": "markdown",
   "id": "04ee2944",
   "metadata": {},
   "source": [
    "### Exercise 15: Perform an Inner Join\n",
    "\n",
    "Create two DataFrames, one containing stock prices for AAPL, GOOGL, and AMZN, and another containing volumes for AAPL and AMZN. Perform an inner join on the `Stock` column to include only the stocks that are common to both DataFrames. Display the result."
   ]
  },
  {
   "cell_type": "code",
   "execution_count": null,
   "id": "0e27cd6e",
   "metadata": {},
   "outputs": [],
   "source": [
    "# Your code here\n",
    "\n",
    "# DataFrame 1: Stock prices\n",
    "prices = {\n",
    "    'Stock': ['AAPL', 'GOOGL', 'AMZN'],\n",
    "    'Price': [150.25, 2800.50, 3400.00]\n",
    "}\n",
    "df_prices = pd.DataFrame(prices)\n",
    "\n",
    "# DataFrame 2: Stock volumes (only AAPL and AMZN)\n",
    "volumes = {\n",
    "    'Stock': ['AAPL', 'AMZN'],\n",
    "    'Volume': [1000, 1400]\n",
    "}\n",
    "df_volumes = pd.DataFrame(volumes)\n",
    "\n",
    "# Performing an inner join on 'Stock' column\n",
    "inner_join_df = pd.merge(df_prices, df_volumes, on='Stock', how='inner')\n",
    "print(inner_join_df)"
   ]
  },
  {
   "cell_type": "markdown",
   "id": "40836501",
   "metadata": {},
   "source": [
    "### Exercise 16: Perform a Left Join\n",
    "\n",
    "Using the same DataFrames from Exercise 15, perform a left join to include all stocks from the price DataFrame, and add the volume where it is available. If the volume is missing, the result should show `NaN`. Display the result."
   ]
  },
  {
   "cell_type": "code",
   "execution_count": null,
   "id": "c424e6b2",
   "metadata": {},
   "outputs": [],
   "source": [
    "# Your code here\n",
    "\n",
    "# Performing a left join on 'Stock' column\n",
    "left_join_df = pd.merge(df_prices, df_volumes, on='Stock', how='left')\n",
    "print(left_join_df)"
   ]
  },
  {
   "cell_type": "markdown",
   "id": "3dc1f58e",
   "metadata": {},
   "source": [
    "### Exercise 17: Perform a Right Join\n",
    "\n",
    "Using the same DataFrames from Exercise 15, perform a right join to include all stocks from the volume DataFrame, and add the price where it is available. If the price is missing, the result should show `NaN`. Display the result."
   ]
  },
  {
   "cell_type": "code",
   "execution_count": null,
   "id": "e41c0de9",
   "metadata": {},
   "outputs": [],
   "source": [
    "# Your code here\n",
    "\n",
    "# Performing a right join on 'Stock' column\n",
    "right_join_df = pd.merge(df_prices, df_volumes, on='Stock', how='right')\n",
    "print(right_join_df)"
   ]
  },
  {
   "cell_type": "markdown",
   "id": "bac905ec",
   "metadata": {},
   "source": [
    "### Exercise 18: Combine Multiple DataFrames Using `concat`\n",
    "\n",
    "Create three DataFrames that each contain stock prices for different stocks over different dates. Concatenate them vertically to form a single DataFrame with all the stock prices over time. Display the result."
   ]
  },
  {
   "cell_type": "code",
   "execution_count": null,
   "id": "ffe74597",
   "metadata": {},
   "outputs": [],
   "source": [
    "# Your code here\n",
    "\n",
    "# DataFrame 1: Stock prices for AAPL\n",
    "data1 = {\n",
    "    'Date': ['2023-09-01', '2023-09-02'],\n",
    "    'Stock': ['AAPL', 'AAPL'],\n",
    "    'Price': [150.25, 153.50]\n",
    "}\n",
    "df1 = pd.DataFrame(data1)\n",
    "\n",
    "# DataFrame 2: Stock prices for GOOGL\n",
    "data2 = {\n",
    "    'Date': ['2023-09-01', '2023-09-02'],\n",
    "    'Stock': ['GOOGL', 'GOOGL'],\n",
    "    'Price': [2800.50, 2820.75]\n",
    "}\n",
    "df2 = pd.DataFrame(data2)\n",
    "\n",
    "# DataFrame 3: Stock prices for AMZN\n",
    "data3 = {\n",
    "    'Date': ['2023-09-01', '2023-09-02'],\n",
    "    'Stock': ['AMZN', 'AMZN'],\n",
    "    'Price': [3400.00, 3420.25]\n",
    "}\n",
    "df3 = pd.DataFrame(data3)\n",
    "\n",
    "# Concatenating the DataFrames\n",
    "concat_df = pd.concat([df1, df2, df3], ignore_index=True)\n",
    "print(concat_df)"
   ]
  },
  {
   "cell_type": "markdown",
   "id": "e6be7128",
   "metadata": {},
   "source": []
  }
 ],
 "metadata": {
  "kernelspec": {
   "display_name": "Python 3 (ipykernel)",
   "language": "python",
   "name": "python3"
  },
  "language_info": {
   "codemirror_mode": {
    "name": "ipython",
    "version": 3
   },
   "file_extension": ".py",
   "mimetype": "text/x-python",
   "name": "python",
   "nbconvert_exporter": "python",
   "pygments_lexer": "ipython3",
   "version": "3.9.12"
  }
 },
 "nbformat": 4,
 "nbformat_minor": 5
}
