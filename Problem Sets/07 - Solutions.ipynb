{
 "cells": [
  {
   "cell_type": "markdown",
   "id": "b2a00a1b",
   "metadata": {},
   "source": [
    "# Numerical Computing (NumPy) - Problem set"
   ]
  },
  {
   "cell_type": "markdown",
   "id": "66749eea",
   "metadata": {
    "heading_collapsed": true
   },
   "source": [
    "## Solution 1: Manipulating a 3D Array\n",
    "\n",
    "```python\n",
    "import numpy as np\n",
    "\n",
    "np.random.seed(42)  # For reproducibility\n",
    "arr_3d = np.random.randint(1, 101, size=(3, 3, 3))\n",
    "\n",
    "# Replace values divisible by 3 with -1\n",
    "arr_3d[arr_3d % 3 == 0] = -1\n",
    "print(\"Modified array:\\n\", arr_3d)\n",
    "\n",
    "# Calculate the mean value for each 2D layer\n",
    "mean_layer = arr_3d.mean(axis=(1, 2))\n",
    "print(\"Mean of each layer:\", mean_layer)\n",
    "```"
   ]
  },
  {
   "cell_type": "markdown",
   "id": "8832ac5b",
   "metadata": {},
   "source": [
    "## Solution 2: Boolean Indexing and Filtering\n",
    "```python\n",
    "import numpy as np\n",
    "\n",
    "def is_prime(n):\n",
    "    if n < 2:\n",
    "        return False\n",
    "    for i in range(2, int(np.sqrt(n)) + 1):\n",
    "        if n % i == 0:\n",
    "            return False\n",
    "    return True\n",
    "\n",
    "arr = np.random.randint(1, 51, 20)\n",
    "\n",
    "# Identify prime numbers\n",
    "prime_mask = np.array([is_prime(x) for x in arr])\n",
    "print(\"Prime numbers in array:\", arr[prime_mask])\n",
    "\n",
    "# Replace prime numbers with 0\n",
    "arr[prime_mask] = 0\n",
    "print(\"Array after replacing primes:\", arr)\n",
    "\n",
    "```"
   ]
  },
  {
   "cell_type": "markdown",
   "id": "743147cc",
   "metadata": {},
   "source": [
    "# Solution 3: Array Manipulation and Reshaping"
   ]
  },
  {
   "cell_type": "markdown",
   "id": "9aa258b2",
   "metadata": {},
   "source": [
    "```python\n",
    "import numpy as np\n",
    "\n",
    "# Step 1: Create a 1D array of size 30 with random integers between 10 and 100\n",
    "arr = np.random.randint(10, 100, size=30)\n",
    "print(\"Original Array:\", arr)\n",
    "\n",
    "# Step 2: Reshape the array into a 5x6 matrix\n",
    "matrix = arr.reshape(5, 6)\n",
    "print(\"\\nReshaped 5x6 Matrix:\\n\", matrix)\n",
    "\n",
    "# Step 3: Compute the sum of the values in each row\n",
    "row_sums = matrix.sum(axis=1)\n",
    "print(\"\\nSum of values in each row:\", row_sums)\n",
    "\n",
    "# Step 4: Compute the sum of the values in each column\n",
    "col_sums = matrix.sum(axis=0)\n",
    "print(\"Sum of values in each column:\", col_sums)\n",
    "```"
   ]
  },
  {
   "cell_type": "markdown",
   "id": "3f2e03d0",
   "metadata": {},
   "source": [
    "# Solution 4: Matrix Determinant and Inverse\n",
    "\n",
    "```python\n",
    "import numpy as np\n",
    "\n",
    "matrix = np.random.randint(1, 11, size=(4, 4))\n",
    "determinant = np.linalg.det(matrix)\n",
    "print(\"Matrix:\\n\", matrix)\n",
    "print(\"Determinant:\", determinant)\n",
    "\n",
    "# If determinant is non-zero, calculate the inverse\n",
    "if np.abs(determinant) > 1e-6:  # Avoid division by very small numbers\n",
    "    inverse_matrix = np.linalg.inv(matrix)\n",
    "    print(\"Inverse matrix:\\n\", inverse_matrix)\n",
    "\n",
    "    # Verify that A * A^-1 is the identity matrix\n",
    "    identity_check = np.dot(matrix, inverse_matrix)\n",
    "    print(\"Product (should be identity matrix):\\n\", identity_check)\n",
    "else:\n",
    "    print(\"Matrix is singular, cannot compute inverse.\")\n",
    "```"
   ]
  },
  {
   "cell_type": "markdown",
   "id": "abfe1caa",
   "metadata": {},
   "source": [
    "# Solution 5: Simulating an Ornstein-Uhlenbeck Process"
   ]
  },
  {
   "cell_type": "markdown",
   "id": "3088ed53",
   "metadata": {},
   "source": [
    "```python\n",
    "import numpy as np\n",
    "import matplotlib.pyplot as plt\n",
    "\n",
    "theta = 0.7\n",
    "mu = 0.05\n",
    "sigma = 0.15\n",
    "dt = 0.01\n",
    "X0 = 0.05\n",
    "n_steps = 500\n",
    "\n",
    "# Simulate Ornstein-Uhlenbeck process\n",
    "X = np.zeros(n_steps)\n",
    "X[0] = X0\n",
    "for t in range(1, n_steps):\n",
    "    X[t] = X[t-1] + theta * (mu - X[t-1]) * dt + sigma * np.sqrt(dt) * np.random.randn()\n",
    "\n",
    "# Plot the results\n",
    "plt.plot(X)\n",
    "plt.title(\"Ornstein-Uhlenbeck Process\")\n",
    "plt.xlabel(\"Time step\")\n",
    "plt.ylabel(\"Value\")\n",
    "plt.show()\n",
    "```"
   ]
  },
  {
   "cell_type": "markdown",
   "id": "551aeb76",
   "metadata": {},
   "source": [
    "# Solution 6: Element-Wise Operations on Multiple Arrays"
   ]
  },
  {
   "cell_type": "markdown",
   "id": "3f0daf2a",
   "metadata": {},
   "source": [
    "```python\n",
    "import numpy as np\n",
    "\n",
    "A = np.random.randint(1, 11, 1000)\n",
    "B = np.random.randint(1, 11, 1000)\n",
    "\n",
    "# Find indices where A[i] > B[i]\n",
    "indices = np.where(A > B)\n",
    "print(\"Indices where A > B:\", indices)\n",
    "\n",
    "# Create array C based on the condition\n",
    "C = np.where(A > B, A, (A + B) / 2)\n",
    "print(\"Array C:\", C)\n",
    "```"
   ]
  },
  {
   "cell_type": "markdown",
   "id": "5088f94b",
   "metadata": {},
   "source": [
    "## Solution 7: Matrix Operations and Transposing\n",
    "\n",
    "```python\n",
    "import numpy as np\n",
    "\n",
    "# Step 1: Create a 4x4 matrix filled with random integers between 1 and 20\n",
    "matrix = np.random.randint(1, 21, size=(4, 4))\n",
    "print(\"Original Matrix:\\n\", matrix)\n",
    "\n",
    "# Step 2: Transpose the matrix\n",
    "transposed_matrix = matrix.T\n",
    "print(\"\\nTransposed Matrix:\\n\", transposed_matrix)\n",
    "\n",
    "# Step 3: Compute the sum of elements in the original matrix\n",
    "original_sum = matrix.sum()\n",
    "print(\"\\nSum of elements in the original matrix:\", original_sum)\n",
    "\n",
    "# Step 4: Compute the sum of elements in the transposed matrix\n",
    "transposed_sum = transposed_matrix.sum()\n",
    "print(\"Sum of elements in the transposed matrix:\", transposed_sum)\n",
    "\n",
    "# Step 5: Verify if the sums are equal\n",
    "if original_sum == transposed_sum:\n",
    "    print(\"\\nThe sums of the original and transposed matrix are equal.\")\n",
    "else:\n",
    "    print(\"\\nThe sums of the original and transposed matrix are not equal.\")\n",
    "```"
   ]
  },
  {
   "cell_type": "markdown",
   "id": "b6031e98",
   "metadata": {},
   "source": [
    "## Solution 8: Advanced Matrix Operations and Broadcasting"
   ]
  },
  {
   "cell_type": "markdown",
   "id": "386826b6",
   "metadata": {},
   "source": [
    "```python\n",
    "import numpy as np\n",
    "\n",
    "# Step 1: Create two 3x3 matrices filled with random integers between 1 and 10\n",
    "A = np.random.randint(1, 11, size=(3, 3))\n",
    "B = np.random.randint(1, 11, size=(3, 3))\n",
    "\n",
    "print(\"Matrix A:\\n\", A)\n",
    "print(\"Matrix B:\\n\", B)\n",
    "\n",
    "# Step 2: Add the two matrices together using broadcasting\n",
    "matrix_sum = A + B\n",
    "print(\"\\nSum of A and B:\\n\", matrix_sum)\n",
    "\n",
    "# Step 3: Multiply the two matrices element-wise\n",
    "elementwise_product = A * B\n",
    "print(\"\\nElement-wise multiplication of A and B:\\n\", elementwise_product)\n",
    "\n",
    "# Step 4: Compute the matrix product of A and B using matrix multiplication\n",
    "matrix_product = np.dot(A, B)\n",
    "print(\"\\nMatrix product of A and B:\\n\", matrix_product)\n",
    "\n",
    "# Step 5: Subtract the transpose of matrix B from matrix A\n",
    "subtracted_matrix = A - B.T\n",
    "print(\"\\nA minus the transpose of B:\\n\", subtracted_matrix)\n",
    "```"
   ]
  },
  {
   "cell_type": "markdown",
   "id": "bb3c5348",
   "metadata": {},
   "source": [
    "## Solution 9: Function Application with Vectorization\n",
    "\n",
    "```python\n",
    "import numpy as np\n",
    "\n",
    "# Step 1: Create a 1D array of size 20 with random integers between -10 and 10\n",
    "arr = np.random.randint(-10, 11, size=20)\n",
    "print(\"Original Array:\\n\", arr)\n",
    "\n",
    "# Step 2: Define the function f(x) = 3x^2 + 2x - 5\n",
    "def f(x):\n",
    "    return 3*x**2 + 2*x - 5\n",
    "\n",
    "# Step 3: Apply the function to each element of the array using vectorization\n",
    "result = f(arr)\n",
    "print(\"\\nResult after applying f(x):\\n\", result)\n",
    "```"
   ]
  },
  {
   "cell_type": "markdown",
   "id": "932ca099",
   "metadata": {},
   "source": [
    "## Solution 10: Advanced Broadcasting and Boolean Filtering\n",
    "\n",
    "```python\n",
    "import numpy as np\n",
    "\n",
    "# Step 1: Create a 6x6 matrix with random integers between 1 and 100\n",
    "matrix = np.random.randint(1, 101, size=(6, 6))\n",
    "print(\"Original Matrix:\\n\", matrix)\n",
    "\n",
    "# Step 2: Find all elements divisible by both 3 and 5\n",
    "divisible_by_3_and_5 = (matrix % 3 == 0) & (matrix % 5 == 0)\n",
    "print(\"\\nBoolean mask for elements divisible by both 3 and 5:\\n\", divisible_by_3_and_5)\n",
    "\n",
    "# Step 3: Replace such elements with -1 using boolean filtering\n",
    "matrix[divisible_by_3_and_5] = -1\n",
    "print(\"\\nModified Matrix:\\n\", matrix)\n",
    "```"
   ]
  }
 ],
 "metadata": {
  "kernelspec": {
   "display_name": "Python 3 (ipykernel)",
   "language": "python",
   "name": "python3"
  },
  "language_info": {
   "codemirror_mode": {
    "name": "ipython",
    "version": 3
   },
   "file_extension": ".py",
   "mimetype": "text/x-python",
   "name": "python",
   "nbconvert_exporter": "python",
   "pygments_lexer": "ipython3",
   "version": "3.9.12"
  }
 },
 "nbformat": 4,
 "nbformat_minor": 5
}
