{
 "cells": [
  {
   "cell_type": "markdown",
   "id": "73217882",
   "metadata": {
    "heading_collapsed": true
   },
   "source": [
    "## The `DataFrame` Class"
   ]
  },
  {
   "cell_type": "markdown",
   "id": "2ade72c2",
   "metadata": {
    "hidden": true
   },
   "source": [
    "**Task:**\n",
    "1. Create a `DataFrame` with the following columns: `Item`, `Price`, `Quantity`.\n",
    "2. Add a new column `Total` that calculates the total price by multiplying `Price` and `Quantity`.\n",
    "\n",
    "```python\n",
    "# Solution\n",
    "data = {\n",
    "    'Item': ['Apple', 'Banana', 'Orange'],\n",
    "    'Price': [1.0, 0.5, 0.75],\n",
    "    'Quantity': [10, 5, 8]\n",
    "}\n",
    "\n",
    "df = pd.DataFrame(data)\n",
    "df['Total'] = df['Price'] * df['Quantity']\n",
    "print(df)\n",
    "```\n",
    "\n",
    "---"
   ]
  },
  {
   "cell_type": "markdown",
   "id": "351c25a0",
   "metadata": {
    "hidden": true
   },
   "source": [
    "**Task:**\n",
    "1. Add a column called `Discount` with values `[0.1, 0.05, 0.2]` to the existing DataFrame.\n",
    "2. Update the `Total` column to apply the discount to the total price.\n",
    "\n",
    "```python\n",
    "# Solution\n",
    "df['Discount'] = [0.1, 0.05, 0.2]\n",
    "df['Total'] = df['Total'] * (1 - df['Discount'])\n",
    "print(df)\n",
    "```"
   ]
  },
  {
   "cell_type": "markdown",
   "id": "18d78445",
   "metadata": {
    "heading_collapsed": true
   },
   "source": [
    "## GroupBy Operations"
   ]
  },
  {
   "cell_type": "markdown",
   "id": "b53f51a0",
   "metadata": {
    "hidden": true
   },
   "source": [
    "**Task:**\n",
    "1. Create a `DataFrame` with columns: `Employee`, `Department`, `Salary`.\n",
    "2. Group the `DataFrame` by `Department` and calculate the average salary per department.\n",
    "\n",
    "```python\n",
    "# Solution\n",
    "data = {\n",
    "    'Employee': ['John', 'Jane', 'Peter', 'Lucy'],\n",
    "    'Department': ['HR', 'HR', 'IT', 'IT'],\n",
    "    'Salary': [50000, 60000, 70000, 80000]\n",
    "}\n",
    "\n",
    "df = pd.DataFrame(data)\n",
    "grouped = df.groupby('Department')['Salary'].mean()\n",
    "print(grouped)\n",
    "```\n",
    "\n",
    "---"
   ]
  },
  {
   "cell_type": "markdown",
   "id": "be743dfe",
   "metadata": {},
   "source": [
    "## Complex Selection"
   ]
  },
  {
   "cell_type": "markdown",
   "id": "7b12c273",
   "metadata": {},
   "source": [
    "**Task:**\n",
    "1. Create a `DataFrame` with columns `Age`, `Income`.\n",
    "2. Select rows where `Age > 30` and `Income > 50000`.\n",
    "\n",
    "```python\n",
    "# Solution\n",
    "data = {\n",
    "    'Age': [25, 35, 45, 50],\n",
    "    'Income': [40000, 60000, 70000, 30000]\n",
    "}\n",
    "\n",
    "df = pd.DataFrame(data)\n",
    "result = df[(df['Age'] > 30) & (df['Income'] > 50000)]\n",
    "print(result)\n",
    "```"
   ]
  },
  {
   "cell_type": "markdown",
   "id": "aabd61d3",
   "metadata": {
    "heading_collapsed": true
   },
   "source": [
    "## Series Class"
   ]
  },
  {
   "cell_type": "markdown",
   "id": "cefa45e2",
   "metadata": {
    "heading_collapsed": true,
    "hidden": true
   },
   "source": [
    "### Instructions:"
   ]
  },
  {
   "cell_type": "markdown",
   "id": "40032423",
   "metadata": {
    "hidden": true
   },
   "source": [
    "1. Create a `pandas` Series from a list of stock prices: `[150.25, 153.50, 2800.50, 2830.75, 3400.00, 3450.50]` and name the Series `Stock_Prices`.\n",
    "\n",
    "2. Using the `Stock_Prices` series:\n",
    "   - Find the maximum price in the series.\n",
    "   - Find the minimum price in the series.\n",
    "   - Calculate the mean (average) price.\n",
    "   - Find how many stock prices are above the mean.\n",
    "   - Create a new Series where each stock price is increased by 5%.\n",
    "   - Normalize the Series so that all values are between 0 and 1 (i.e., subtract the minimum and divide by the range).\n",
    "\n",
    "3. Create another `pandas` Series from the same list but name it `Stock_Changes`.  \n",
    "   This series represents the daily percentage changes for each stock (assume all changes are positive and range between 0.01 to 0.10). \n",
    "   - Multiply the `Stock_Prices` by the `Stock_Changes` Series.\n",
    "   - Create a new Series called `Updated_Prices` which contains the new stock prices after applying the percentage changes.\n",
    "\n",
    "4. Using `.apply()`:\n",
    "   - Create a new `Series` that categorizes stock prices in `Updated_Prices` as either \"High\" if the price is above 3000, or \"Low\" if the price is below 3000.\n",
    "\n",
    "5. Using `.isin()`:\n",
    "   - Check if any of the original `Stock_Prices` are in this list: `[153.50, 2830.75, 5000.00]` and return a boolean Series indicating whether each price is present in this list.\n",
    "\n",
    "6. Using `.value_counts()`:\n",
    "   - Count how many times each category (\"High\" or \"Low\") appears in the `price_categories` Series from step 4.\n",
    "\n",
    "---"
   ]
  },
  {
   "cell_type": "markdown",
   "id": "a68207c2",
   "metadata": {
    "heading_collapsed": true,
    "hidden": true
   },
   "source": [
    "### Solution"
   ]
  },
  {
   "cell_type": "markdown",
   "id": "2008a50c",
   "metadata": {
    "hidden": true
   },
   "source": [
    "```python\n",
    "import pandas as pd\n",
    "import numpy as np\n",
    "\n",
    "# Step 1: Create a Series from the stock prices\n",
    "stock_prices = pd.Series([150.25, 153.50, 2800.50, 2830.75, 3400.00, 3450.50], name='Stock_Prices')\n",
    "\n",
    "# Step 2.1: Find the maximum price\n",
    "max_price = stock_prices.max()\n",
    "\n",
    "# Step 2.2: Find the minimum price\n",
    "min_price = stock_prices.min()\n",
    "\n",
    "# Step 2.3: Calculate the mean price\n",
    "mean_price = stock_prices.mean()\n",
    "\n",
    "# Step 2.4: Find how many prices are above the mean\n",
    "above_mean_count = (stock_prices > mean_price).sum()\n",
    "\n",
    "# Step 2.5: Increase each stock price by 5%\n",
    "increased_prices = stock_prices * 1.05\n",
    "\n",
    "# Step 2.6: Normalize the Series (between 0 and 1)\n",
    "normalized_prices = (stock_prices - stock_prices.min()) / (stock_prices.max() - stock_prices.min())\n",
    "\n",
    "# Step 3.1: Create another Series for daily percentage changes\n",
    "stock_changes = pd.Series([0.05, 0.03, 0.02, 0.04, 0.01, 0.06], name='Stock_Changes')\n",
    "\n",
    "# Step 3.2: Multiply the stock prices by the daily changes\n",
    "price_changes = stock_prices * stock_changes\n",
    "\n",
    "# Step 3.3: Create Updated Prices\n",
    "updated_prices = stock_prices + price_changes\n",
    "\n",
    "# Step 4: Use .apply() to categorize stock prices as 'High' or 'Low'\n",
    "price_categories = updated_prices.apply(lambda x: 'High' if x > 3000 else 'Low')\n",
    "\n",
    "# Step 5: Use .isin() to check if stock prices are in a given list\n",
    "price_check = stock_prices.isin([153.50, 2830.75, 5000.00])\n",
    "\n",
    "# Step 6: Use .value_counts() to count the occurrences of each category in 'price_categories'\n",
    "category_counts = price_categories.value_counts()\n",
    "\n",
    "# Print results\n",
    "print(\"Max price:\", max_price)\n",
    "print(\"Min price:\", min_price)\n",
    "print(\"Mean price:\", mean_price)\n",
    "print(\"Number of prices above mean:\", above_mean_count)\n",
    "print(\"Increased prices by 5%:\n",
    "\", increased_prices)\n",
    "print(\"Normalized prices:\n",
    "\", normalized_prices)\n",
    "print(\"Price changes:\n",
    "\", price_changes)\n",
    "print(\"Updated Prices:\n",
    "\", updated_prices)\n",
    "print(\"Price categories (High/Low):\n",
    "\", price_categories)\n",
    "print(\"Price check (isin):\n",
    "\", price_check)\n",
    "print(\"Category counts (value_counts):\n",
    "\", category_counts)\n",
    "```\n",
    "\n",
    "#### Breakdown:\n",
    "\n",
    "- **Step 2.4:** Finds the number of stock prices above the mean using a boolean condition.\n",
    "- **Step 2.6:** Normalizes the `Stock_Prices` series by transforming all values to fall between 0 and 1.\n",
    "- **Step 4:** Uses `.apply()` to categorize the prices into \"High\" or \"Low\".\n",
    "- **Step 5:** Checks if any stock prices are in a predefined list using `.isin()`.\n",
    "- **Step 6:** Uses `.value_counts()` to count the occurrences of each category (\"High\" or \"Low\") in the `price_categories` Series."
   ]
  },
  {
   "cell_type": "code",
   "execution_count": null,
   "id": "793ef15c",
   "metadata": {
    "hidden": true
   },
   "outputs": [],
   "source": []
  },
  {
   "cell_type": "markdown",
   "id": "35950efc",
   "metadata": {
    "heading_collapsed": true
   },
   "source": [
    "## Concatenation, Join, Merge"
   ]
  },
  {
   "cell_type": "markdown",
   "id": "cb9778f8",
   "metadata": {
    "hidden": true
   },
   "source": [
    "**Task:**\n",
    "1. Create two `DataFrames`, one with `Customer_ID` and `Loan_Amount` and another with `Customer_ID` and `Credit_Score`.\n",
    "2. Merge the two `DataFrames` on `Customer_ID`.\n",
    "\n",
    "```python\n",
    "# Solution\n",
    "loan_data = pd.DataFrame({\n",
    "    'Customer_ID': ['A001', 'A002', 'A003'],\n",
    "    'Loan_Amount': [10000, 15000, 20000]\n",
    "})\n",
    "\n",
    "credit_data = pd.DataFrame({\n",
    "    'Customer_ID': ['A001', 'A002', 'A004'],\n",
    "    'Credit_Score': [720, 650, 700]\n",
    "})\n",
    "\n",
    "merged_data = pd.merge(loan_data, credit_data, on='Customer_ID', how='outer')\n",
    "print(merged_data)\n",
    "```\n",
    "\n",
    "---"
   ]
  }
 ],
 "metadata": {
  "kernelspec": {
   "display_name": "Python 3 (ipykernel)",
   "language": "python",
   "name": "python3"
  },
  "language_info": {
   "codemirror_mode": {
    "name": "ipython",
    "version": 3
   },
   "file_extension": ".py",
   "mimetype": "text/x-python",
   "name": "python",
   "nbconvert_exporter": "python",
   "pygments_lexer": "ipython3",
   "version": "3.9.12"
  }
 },
 "nbformat": 4,
 "nbformat_minor": 5
}
