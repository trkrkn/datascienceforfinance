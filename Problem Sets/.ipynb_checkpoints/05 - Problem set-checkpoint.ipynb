{
 "cells": [
  {
   "cell_type": "markdown",
   "id": "35091528",
   "metadata": {},
   "source": [
    "# Object-Oriented Programming - Problem set"
   ]
  },
  {
   "cell_type": "markdown",
   "id": "2773d351",
   "metadata": {},
   "source": [
    "### **Problem 1: Create a `Book` Class**"
   ]
  },
  {
   "cell_type": "markdown",
   "id": "1f96e291",
   "metadata": {},
   "source": [
    "Define a `Book` class with the following attributes:\n",
    "- `title` (string)\n",
    "- `author` (string)\n",
    "- `pages` (integer)\n",
    "\n",
    "Create a method called `description()` that prints the details of the book in the following format: \n",
    "\n",
    "`\"<Title> by <Author> has <Pages> pages.\"`"
   ]
  },
  {
   "cell_type": "code",
   "execution_count": 2,
   "id": "63a17563",
   "metadata": {},
   "outputs": [],
   "source": [
    "# your code"
   ]
  },
  {
   "cell_type": "markdown",
   "id": "eac19129",
   "metadata": {},
   "source": [
    "### **Problem 2: Create a `Rectangle` Class**"
   ]
  },
  {
   "cell_type": "markdown",
   "id": "71affaa3",
   "metadata": {},
   "source": [
    "Define a `Rectangle` class with attributes:\n",
    "- `length`\n",
    "- `width`\n",
    "\n",
    "Add methods to:\n",
    "- Calculate the **area** of the rectangle.\n",
    "- Calculate the **perimeter** of the rectangle.\n",
    "\n",
    "Create a few rectangle objects and call these methods to display their area and perimeter."
   ]
  },
  {
   "cell_type": "code",
   "execution_count": 2,
   "id": "6cdf061a",
   "metadata": {},
   "outputs": [],
   "source": [
    "# your code"
   ]
  },
  {
   "cell_type": "markdown",
   "id": "25741743",
   "metadata": {},
   "source": [
    "### **Problem 3: Create a `Circle` Class**"
   ]
  },
  {
   "cell_type": "markdown",
   "id": "13281c2f",
   "metadata": {},
   "source": [
    "Define a `Circle` class with a single attribute:\n",
    "- `radius`\n",
    "\n",
    "Add a method called `circumference()` that calculates and returns the circumference of the circle (`2 * π * radius`). Use `math.pi` for the value of π."
   ]
  },
  {
   "cell_type": "code",
   "execution_count": 2,
   "id": "2f971b10",
   "metadata": {},
   "outputs": [],
   "source": [
    "# your code"
   ]
  },
  {
   "cell_type": "markdown",
   "id": "cc45ebc6",
   "metadata": {},
   "source": [
    "### **Problem 4: Implement a `Person` Class with Multiple Methods**"
   ]
  },
  {
   "cell_type": "markdown",
   "id": "5ef207a5",
   "metadata": {},
   "source": [
    "Create a `Person` class with the following attributes:\n",
    "- `name`\n",
    "- `age`\n",
    "- `occupation`\n",
    "\n",
    "Add methods to:\n",
    "- `introduce()`: Prints a personalized introduction message: `\"Hi, my name is <Name>, and I am a <Occupation>.\"`\n",
    "- `is_adult()`: Returns `True` if the person is 18 or older, and `False` otherwise."
   ]
  },
  {
   "cell_type": "code",
   "execution_count": 2,
   "id": "9c77d196",
   "metadata": {},
   "outputs": [],
   "source": [
    "# your code"
   ]
  },
  {
   "cell_type": "markdown",
   "id": "bf4fef77",
   "metadata": {},
   "source": [
    "### **Problem 5: Create a `Library` Class**"
   ]
  },
  {
   "cell_type": "markdown",
   "id": "ba8b88fb",
   "metadata": {},
   "source": [
    "Define a `Library` class that stores a **collection of `Book` objects** (from Problem 1). Implement methods to:\n",
    "- Add a new book to the library.\n",
    "- Remove a book from the library using the book title.\n",
    "- List all books currently in the library."
   ]
  },
  {
   "cell_type": "code",
   "execution_count": 2,
   "id": "208d406c",
   "metadata": {},
   "outputs": [],
   "source": [
    "# your code"
   ]
  },
  {
   "cell_type": "markdown",
   "id": "90eda14c",
   "metadata": {},
   "source": [
    "### **Problem 6: Create a `BankAccount` and `CheckingAccount` Class Using Inheritance**"
   ]
  },
  {
   "cell_type": "markdown",
   "id": "8af05818",
   "metadata": {},
   "source": [
    "- Create a `BankAccount` class with attributes:\n",
    "  - `account_holder`\n",
    "  - `balance`\n",
    "- Add methods to:\n",
    "  - `deposit(amount)`: Adds money to the account.\n",
    "  - `withdraw(amount)`: Subtracts money if balance is sufficient; otherwise, prints \"Insufficient funds.\"\n",
    "\n",
    "- Create a `CheckingAccount` class that **inherits** from `BankAccount` and has an additional attribute:\n",
    "  - `transaction_fee`\n",
    "  \n",
    "Override the `withdraw()` method to include a transaction fee for each withdrawal."
   ]
  },
  {
   "cell_type": "markdown",
   "id": "e35d15c8",
   "metadata": {},
   "source": [
    "### **Problem 7: Implement a `Vehicle` and `Car` Class Using Inheritance**"
   ]
  },
  {
   "cell_type": "markdown",
   "id": "d3bf0484",
   "metadata": {},
   "source": [
    "- Create a `Vehicle` class with attributes:\n",
    "  - `make`\n",
    "  - `model`\n",
    "  - `year`\n",
    "  \n",
    "  Add a method called `display_info()` that prints the details of the vehicle.\n",
    "\n",
    "- Create a `Car` class that inherits from `Vehicle` and adds:\n",
    "  - `fuel_type` (e.g., \"Petrol\" or \"Electric\")\n",
    "\n",
    "Override the `display_info()` method to include the fuel type in the printed details."
   ]
  },
  {
   "cell_type": "code",
   "execution_count": 2,
   "id": "c1a9d146",
   "metadata": {},
   "outputs": [],
   "source": [
    "# your code"
   ]
  },
  {
   "cell_type": "markdown",
   "id": "1e96c31c",
   "metadata": {},
   "source": [
    "### Problem 8: Create a `Product` Class with Inheritance\n",
    "\n",
    "Create a `Product` base class that represents a generic product in a store. The class should have the following attributes:\n",
    "\n",
    "- `name` (string)\n",
    "- `price` (float)\n",
    "\n",
    "Create two child classes that inherit from `Product`:\n",
    "1. **Electronics**: This class should have an additional attribute called `warranty_years` (integer).\n",
    "2. **Clothing**: This class should have an additional attribute called `size` (string).\n",
    "\n",
    "Implement methods in the base class and child classes as follows:\n",
    "- The base `Product` class should have a method called `display()` that prints the product’s name and price.\n",
    "- Each child class should **override** the `display()` method to include its additional attributes.\n",
    "\n",
    "\n",
    "#### Example of the output format\n",
    "```python\n",
    ">>> electronics = Electronics(\"Smartphone\", 699.99, 2)\n",
    ">>> clothing = Clothing(\"T-shirt\", 19.99, \"M\")\n",
    ">>> electronics.display()\n",
    "Product: Smartphone, Price: $699.99, Warranty: 2 years\n",
    ">>> clothing.display()\n",
    "Product: T-shirt, Price: $19.99, Size: M\n",
    "```"
   ]
  },
  {
   "cell_type": "code",
   "execution_count": 2,
   "id": "7c906dfa",
   "metadata": {},
   "outputs": [],
   "source": [
    "# your code"
   ]
  },
  {
   "cell_type": "markdown",
   "id": "f4641b36",
   "metadata": {},
   "source": [
    "### **Problem 9: Create a `Team` Class with Aggregation**"
   ]
  },
  {
   "cell_type": "markdown",
   "id": "c711f50e",
   "metadata": {},
   "source": [
    "Create a `Player` class with attributes:\n",
    "- `name`\n",
    "- `position`\n",
    "- `number`\n",
    "\n",
    "Create a `Team` class that contains a **list of Player objects**. Implement methods to:\n",
    "- Add a player.\n",
    "- Remove a player using the player’s name.\n",
    "- Display the list of all players on the team."
   ]
  },
  {
   "cell_type": "code",
   "execution_count": 2,
   "id": "52276fd5",
   "metadata": {},
   "outputs": [],
   "source": [
    "# your code"
   ]
  },
  {
   "cell_type": "markdown",
   "id": "6b95561f",
   "metadata": {},
   "source": [
    "### **Problem 10: Polymorphism with a `Shape` Class Hierarchy**"
   ]
  },
  {
   "cell_type": "markdown",
   "id": "b483f2f5",
   "metadata": {},
   "source": [
    "Create a `Shape` parent class with a method `draw()`. Define two child classes:\n",
    "- `Circle` class with a `draw()` method that prints \"Drawing a circle.\"\n",
    "- `Square` class with a `draw()` method that prints \"Drawing a square.\"\n",
    "\n",
    "Create a list of `Shape` objects (some `Circle` and some `Square`), and use a loop to call `draw()` on each object, demonstrating polymorphism.\n",
    "\n"
   ]
  },
  {
   "cell_type": "code",
   "execution_count": null,
   "id": "510586a5",
   "metadata": {},
   "outputs": [],
   "source": [
    "# your code"
   ]
  }
 ],
 "metadata": {
  "kernelspec": {
   "display_name": "Python 3 (ipykernel)",
   "language": "python",
   "name": "python3"
  },
  "language_info": {
   "codemirror_mode": {
    "name": "ipython",
    "version": 3
   },
   "file_extension": ".py",
   "mimetype": "text/x-python",
   "name": "python",
   "nbconvert_exporter": "python",
   "pygments_lexer": "ipython3",
   "version": "3.9.12"
  }
 },
 "nbformat": 4,
 "nbformat_minor": 5
}
