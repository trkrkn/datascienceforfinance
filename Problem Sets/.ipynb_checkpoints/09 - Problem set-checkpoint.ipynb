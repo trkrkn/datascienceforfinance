{
 "cells": [
  {
   "cell_type": "markdown",
   "id": "117a7732",
   "metadata": {},
   "source": [
    "# Input and Output Operations - Problem set"
   ]
  },
  {
   "cell_type": "markdown",
   "id": "460d14da",
   "metadata": {
    "heading_collapsed": true
   },
   "source": [
    "# Exercises"
   ]
  },
  {
   "cell_type": "code",
   "execution_count": null,
   "id": "4ace797c",
   "metadata": {
    "hidden": true
   },
   "outputs": [],
   "source": []
  },
  {
   "cell_type": "markdown",
   "id": "8bb398cd",
   "metadata": {
    "hidden": true
   },
   "source": [
    "### Exercise 1: Simple Input and Output\n",
    "\n",
    "Write a program that takes a user's name and age as input, and prints a message with the following format: \"Hello [name], you are [age] years old.\""
   ]
  },
  {
   "cell_type": "markdown",
   "id": "ba8a3a72",
   "metadata": {
    "hidden": true
   },
   "source": [
    "```python\n",
    "# Your code here\n",
    "```"
   ]
  },
  {
   "cell_type": "markdown",
   "id": "e2933ba7",
   "metadata": {
    "hidden": true
   },
   "source": [
    "### Exercise 2: Saving User Information to a File\n",
    "\n",
    "Write a Python program that asks the user for their name, age, and email address. Save this information in a file called `user_info.txt`."
   ]
  },
  {
   "cell_type": "markdown",
   "id": "52e0a08c",
   "metadata": {
    "hidden": true
   },
   "source": [
    "```python\n",
    "# Your code here\n",
    "```"
   ]
  },
  {
   "cell_type": "markdown",
   "id": "2f8a7081",
   "metadata": {
    "hidden": true
   },
   "source": [
    "### Exercise 3: Reading and Writing Financial Data\n",
    "\n",
    "1. Ask the user for financial data: the principal, rate of interest, and time period.\n",
    "2. Calculate the simple interest and display it.\n",
    "3. Save the user's input and the calculated interest to a file called `financial_data.txt`."
   ]
  },
  {
   "cell_type": "markdown",
   "id": "8c86e8cf",
   "metadata": {
    "hidden": true
   },
   "source": [
    "```python\n",
    "# Your code here\n",
    "```"
   ]
  },
  {
   "cell_type": "markdown",
   "id": "bb1b8a16",
   "metadata": {
    "hidden": true
   },
   "source": [
    "### Exercise 4: Reading from a File\n",
    "\n",
    "Write a program that reads from a file called `example.txt` and prints its content line by line."
   ]
  },
  {
   "cell_type": "markdown",
   "id": "ea28f745",
   "metadata": {
    "hidden": true
   },
   "source": [
    "```python\n",
    "# Your code here\n",
    "```"
   ]
  },
  {
   "cell_type": "markdown",
   "id": "60e33586",
   "metadata": {
    "hidden": true
   },
   "source": [
    "### Exercise 5: Append Data to a File\n",
    "\n",
    "Modify Exercise 2 so that the program appends the user's information to the `user_info.txt` file rather than overwriting it."
   ]
  },
  {
   "cell_type": "markdown",
   "id": "b0d304ec",
   "metadata": {
    "hidden": true
   },
   "source": [
    "```python\n",
    "# Your code here\n",
    "```"
   ]
  },
  {
   "cell_type": "markdown",
   "id": "4b99a5b9",
   "metadata": {
    "hidden": true
   },
   "source": [
    "\n",
    "# Introduction to Input and Output (I/O) Operations in Python\n",
    "\n",
    "## 1. Overview\n",
    "\n",
    "Input and output operations (I/O) are essential in programming. They allow programs to interact with users, take data as input, and display or save the results as output.\n",
    "\n",
    "In this lecture, we will cover:\n",
    "- How to take input from users\n",
    "- How to display output using the `print()` function\n",
    "- File I/O operations: reading from and writing to files\n",
    "- Handling CSV files with basic file operations\n",
    "- Working with CSV files using `pandas`\n",
    "\n",
    "---\n",
    "\n",
    "## 2. Taking Input from Users\n",
    "\n",
    "### 2.1 The `input()` Function\n",
    "\n",
    "The `input()` function allows the user to provide input to the program. It always returns the input as a string.\n",
    "\n",
    "```python\n",
    "# Example: Asking for user input\n",
    "name = input(\"What is your name? \")\n",
    "print(\"Hello, \" + name + \"!\")\n",
    "```\n",
    "\n",
    "### 2.2 Converting Input to Other Data Types\n",
    "\n",
    "```python\n",
    "# Example: Taking a number as input\n",
    "age = int(input(\"How old are you? \"))  # Convert input to an integer\n",
    "print(\"You are\", age, \"years old.\")\n",
    "```\n",
    "\n",
    "---\n",
    "\n",
    "## 3. Displaying Output with `print()`\n",
    "\n",
    "### 3.1 Basic Output\n",
    "\n",
    "The `print()` function is used to display information on the screen.\n",
    "\n",
    "```python\n",
    "# Example: Basic output using print()\n",
    "print(\"Hello, world!\")\n",
    "```\n",
    "\n",
    "### 3.2 String Formatting\n",
    "\n",
    "```python\n",
    "# Example: Using f-strings\n",
    "print(f\"Hello, {name}. You are {age} years old.\")\n",
    "```\n",
    "\n",
    "---\n",
    "\n",
    "## 4. File Input and Output (File I/O)\n",
    "\n",
    "### 4.1 Opening and Reading Files\n",
    "\n",
    "You can use the `open()` function to open a file in Python. Use `read()`, `readline()`, or `readlines()` to read data from the file.\n",
    "\n",
    "```python\n",
    "# Example: Reading a file's content\n",
    "file = open(\"example.txt\", \"r\")\n",
    "content = file.read()  # Read the entire file\n",
    "print(content)\n",
    "file.close()  # Close the file after reading\n",
    "```\n",
    "\n",
    "### 4.2 Writing to a File\n",
    "\n",
    "```python\n",
    "# Example: Writing to a file\n",
    "file = open(\"example.txt\", \"w\")\n",
    "file.write(\"This is a new line of text.\\n\")\n",
    "file.close()\n",
    "```\n",
    "\n",
    "---\n",
    "\n",
    "\n",
    "\n",
    "---\n",
    "\n",
    "## 9. Practice Exercises\n",
    "\n",
    "### Exercise 1: Read and Display CSV Data\n",
    "\n",
    "Write a Python program that reads a CSV file containing user information (name, age, balance) and prints each row.\n",
    "\n",
    "```python\n",
    "# Your code here\n",
    "```\n",
    "\n",
    "### Exercise 2: Save Data to CSV\n",
    "\n",
    "Write a program that asks for a user's name, age, and salary, then appends this data to an existing CSV file.\n",
    "\n",
    "```python\n",
    "# Your code here\n",
    "```\n",
    "\n",
    "### Exercise 3: Analyze Stock Prices\n",
    "\n",
    "Create a CSV file with columns for stock names, prices, and volumes. Use `pandas` to:\n",
    "- Read the CSV file into a DataFrame.\n",
    "- Calculate the total trading volume.\n",
    "- Filter and display the stocks with prices above $2000.\n",
    "\n",
    "```python\n",
    "# Your code here\n",
    "```\n",
    "\n",
    "---\n",
    "\n",
    "## 10. Conclusion\n",
    "\n",
    "- **Recap:**\n",
    "  - You learned how to handle input/output operations in Python, including reading from and writing to files.\n",
    "  - You explored CSV file operations using both Python’s `csv` module and the powerful `pandas` library.\n",
    "  - You practiced applying these concepts in the context of finance and data science.\n",
    "\n",
    "- **Next Steps:**\n",
    "  - Continue practicing file I/O and CSV operations using real-world datasets.\n",
    "  - Learn more about data analysis with `pandas` in the next lecture.\n",
    "\n",
    "---\n",
    "\n",
    "This updated lecture outline introduces students to input/output operations, focusing on how to work with CSV files both using basic Python functions and the `pandas` library. The added sections on CSV handling and `pandas` are particularly relevant for data science and finance students, where data often comes in CSV format."
   ]
  },
  {
   "cell_type": "markdown",
   "id": "c351ecae",
   "metadata": {
    "hidden": true
   },
   "source": []
  },
  {
   "cell_type": "markdown",
   "id": "c7538fa7",
   "metadata": {
    "hidden": true
   },
   "source": [
    "I have created a CSV file containing stock data, which you can download from the following link:\n",
    "\n",
    "[Download stock_data.csv](sandbox:/mnt/data/stock_data.csv?_chatgptios_conversationID=e9407df4-c500-4374-8e70-03fc5e3f7f7d&_chatgptios_messageID=bb68c8d1-7640-42ee-87c4-a9280f5a896c)\n",
    "\n",
    "### Extended Exercise: Reading, Manipulating, and Saving Data with `pandas`\n",
    "\n",
    "**Goal:** In this exercise, you'll read the CSV file, manipulate the data using `pandas`, and save the modified data back to a CSV file.\n",
    "\n",
    "#### 1. Reading the CSV file\n",
    "\n",
    "- Use `pandas` to load the CSV file into a DataFrame.\n",
    "\n",
    "```python\n",
    "import pandas as pd\n",
    "\n",
    "# Load the CSV file\n",
    "df = pd.read_csv('stock_data.csv')\n",
    "print(df.head())  # Display the first few rows\n",
    "```\n",
    "\n",
    "#### 2. Data Manipulation Tasks\n",
    "\n",
    "- **Task 1:** Filter out all rows where the stock price is greater than $2000.\n",
    "  \n",
    "```python\n",
    "# Filter rows where the price is greater than $2000\n",
    "filtered_df = df[df['Price'] > 2000]\n",
    "print(filtered_df)\n",
    "```\n",
    "\n",
    "- **Task 2:** Add a new column called `Value` which is calculated as `Price * Volume`.\n",
    "  \n",
    "```python\n",
    "# Add a new column 'Value'\n",
    "df['Value'] = df['Price'] * df['Volume']\n",
    "print(df.head())\n",
    "```\n",
    "\n",
    "- **Task 3:** Group the data by the `Stock` column and calculate the average price for each stock.\n",
    "  \n",
    "```python\n",
    "# Group by 'Stock' and calculate the average price\n",
    "avg_price_per_stock = df.groupby('Stock')['Price'].mean()\n",
    "print(avg_price_per_stock)\n",
    "```\n",
    "\n",
    "#### 3. Saving the Manipulated Data\n",
    "\n",
    "- Save the manipulated DataFrame to a new CSV file.\n",
    "\n",
    "```python\n",
    "# Save the modified DataFrame to a new CSV file\n",
    "df.to_csv('modified_stock_data.csv', index=False)\n",
    "print(\"Modified data saved to 'modified_stock_data.csv'.\")\n",
    "```\n",
    "\n",
    "### Expected Output:\n",
    "By the end of this exercise, you will have:\n",
    "- Loaded the `stock_data.csv` file.\n",
    "- Filtered, calculated, and grouped data using `pandas`.\n",
    "- Saved the modified data to a new CSV file called `modified_stock_data.csv`.\n",
    "\n",
    "This exercise helps reinforce how to handle, manipulate, and save data using `pandas` in Python."
   ]
  },
  {
   "cell_type": "markdown",
   "id": "2e75b881",
   "metadata": {
    "hidden": true
   },
   "source": [
    "---"
   ]
  },
  {
   "cell_type": "markdown",
   "id": "d5fbe682",
   "metadata": {
    "heading_collapsed": true
   },
   "source": [
    "# Exercises for Lecture 09 - Input and Output (I/O) Operations"
   ]
  },
  {
   "cell_type": "markdown",
   "id": "db2d8805",
   "metadata": {
    "hidden": true
   },
   "source": [
    "\n",
    "## 1. Overview\n",
    "\n",
    "**Input and output operations** (I/O) are essential in programming. They allow programs to **Interact** live with users, take data as **input**, and display or save the results as **output**.\n",
    "\n",
    "This notebook covers:\n",
    "- How to take input from users\n",
    "- How to display output using the `print()` function\n",
    "- File I/O operations: reading from and writing to files\n",
    "- Handling CSV files with basic file operations\n",
    "- Working with CSV files using `pandas`\n",
    "\n",
    "---\n",
    "\n",
    "## 2. Exercises\n",
    "\n",
    "Below are exercises to apply the concepts from the lecture.\n",
    "\n",
    "### Exercise 1\n",
    "Write a program that takes two integers as input and prints their sum, product, and division as output, ensuring division by zero is handled.\n",
    "\n",
    "### Exercise 2\n",
    "Write a Python script that asks the user to input a sentence and then counts the number of vowels in the sentence.\n",
    "\n",
    "### Exercise 3\n",
    "Write a program that reads a text file, counts the number of words in the file, and prints the result.\n",
    "\n",
    "### Exercise 4\n",
    "Using the `with` statement, write a program that appends five random integers (one per line) to an existing text file called `random_numbers.txt`.\n",
    "\n",
    "### Exercise 5\n",
    "Write a program that reads a CSV file containing two columns: `name` and `score`. Calculate the average score and print names with scores above the average.\n",
    "\n",
    "### Exercise 6\n",
    "Create a program that takes user input for a name and a balance amount. Save the input into a new CSV file called `balance_data.csv`, appending each new entry without overwriting the file.\n",
    "\n",
    "### Exercise 7\n",
    "Write a Python script that reads a CSV file, performs a transformation by multiplying all numerical values by 1.1, and saves the modified data into a new CSV file.\n",
    "\n",
    "### Exercise 8\n",
    "Write a program that reads data from an Excel file with multiple sheets. Calculate the average of values in each sheet and save these results in a new Excel file with the averages on different sheets.\n",
    "\n",
    "### Exercise 9\n",
    "Create a program that reads an Excel file, extracts rows where a particular column has values above a user-defined threshold, and saves the filtered data to a new sheet in the same Excel file.\n",
    "\n",
    "### Exercise 10\n",
    "Write a program that uses the `pandas` library to create a DataFrame from scratch with columns `Name`, `Age`, and `Grade`, then writes this DataFrame to both a CSV and an Excel file.\n",
    "\n",
    "---\n",
    "\n",
    "## Solutions\n",
    "\n",
    "### Solution 1\n",
    "```python\n",
    "a = int(input(\"Enter first integer: \"))\n",
    "b = int(input(\"Enter second integer: \"))\n",
    "print(f\"Sum: {a + b}\")\n",
    "print(f\"Product: {a * b}\")\n",
    "try:\n",
    "    print(f\"Division: {a / b}\")\n",
    "except ZeroDivisionError:\n",
    "    print(\"Division by zero is undefined.\")\n",
    "```\n",
    "\n",
    "### Solution 2\n",
    "```python\n",
    "sentence = input(\"Enter a sentence: \")\n",
    "vowels = \"aeiouAEIOU\"\n",
    "count = sum(1 for char in sentence if char in vowels)\n",
    "print(f\"Number of vowels: {count}\")\n",
    "```\n",
    "\n",
    "### Solution 3\n",
    "```python\n",
    "with open(\"text_file.txt\", \"r\") as file:\n",
    "    text = file.read()\n",
    "    word_count = len(text.split())\n",
    "print(f\"Word count: {word_count}\")\n",
    "```\n",
    "\n",
    "### Solution 4\n",
    "```python\n",
    "import random\n",
    "\n",
    "with open(\"random_numbers.txt\", \"a\") as file:\n",
    "    for _ in range(5):\n",
    "        file.write(f\"{random.randint(1, 100)}\\n\")\n",
    "```\n",
    "\n",
    "### Solution 5\n",
    "```python\n",
    "import csv\n",
    "\n",
    "with open(\"scores.csv\", \"r\") as file:\n",
    "    reader = csv.DictReader(file)\n",
    "    scores = [(row[\"name\"], int(row[\"score\"])) for row in reader]\n",
    "avg_score = sum(score for _, score in scores) / len(scores)\n",
    "above_avg = [name for name, score in scores if score > avg_score]\n",
    "print(\"Names with scores above average:\", above_avg)\n",
    "```\n",
    "\n",
    "### Solution 6\n",
    "```python\n",
    "import csv\n",
    "\n",
    "name = input(\"Enter name: \")\n",
    "balance = float(input(\"Enter balance: \"))\n",
    "with open(\"balance_data.csv\", \"a\", newline=\"\") as file:\n",
    "    writer = csv.writer(file)\n",
    "    writer.writerow([name, balance])\n",
    "```\n",
    "\n",
    "### Solution 7\n",
    "```python\n",
    "import pandas as pd\n",
    "\n",
    "df = pd.read_csv(\"data.csv\")\n",
    "df = df.applymap(lambda x: x * 1.1 if isinstance(x, (int, float)) else x)\n",
    "df.to_csv(\"modified_data.csv\", index=False)\n",
    "```\n",
    "\n",
    "### Solution 8\n",
    "```python\n",
    "import pandas as pd\n",
    "\n",
    "file_path = \"multi_sheet_data.xlsx\"\n",
    "output_path = \"averages_output.xlsx\"\n",
    "with pd.ExcelWriter(output_path) as writer:\n",
    "    for sheet_name in pd.ExcelFile(file_path).sheet_names:\n",
    "        df = pd.read_excel(file_path, sheet_name=sheet_name)\n",
    "        avg = df.mean().to_frame(\"Average\").T\n",
    "        avg.to_excel(writer, sheet_name=sheet_name)\n",
    "```\n",
    "\n",
    "### Solution 9\n",
    "```python\n",
    "import pandas as pd\n",
    "\n",
    "file_path = \"data.xlsx\"\n",
    "df = pd.read_excel(file_path, sheet_name=\"Sheet1\")\n",
    "threshold = float(input(\"Enter threshold: \"))\n",
    "filtered_df = df[df[\"Column_of_interest\"] > threshold]\n",
    "with pd.ExcelWriter(file_path, mode=\"a\") as writer:\n",
    "    filtered_df.to_excel(writer, sheet_name=\"Filtered Data\")\n",
    "```\n",
    "\n",
    "### Solution 10\n",
    "```python\n",
    "import pandas as pd\n",
    "\n",
    "data = {\n",
    "    \"Name\": [\"Alice\", \"Bob\", \"Charlie\"],\n",
    "    \"Age\": [25, 30, 35],\n",
    "    \"Grade\": [\"A\", \"B\", \"A\"]\n",
    "}\n",
    "df = pd.DataFrame(data)\n",
    "df.to_csv(\"output_data.csv\", index=False)\n",
    "df.to_excel(\"output_data.xlsx\", index=False)\n",
    "```\n",
    "\n",
    "---\n"
   ]
  }
 ],
 "metadata": {
  "kernelspec": {
   "display_name": "Python 3 (ipykernel)",
   "language": "python",
   "name": "python3"
  },
  "language_info": {
   "codemirror_mode": {
    "name": "ipython",
    "version": 3
   },
   "file_extension": ".py",
   "mimetype": "text/x-python",
   "name": "python",
   "nbconvert_exporter": "python",
   "pygments_lexer": "ipython3",
   "version": "3.9.12"
  }
 },
 "nbformat": 4,
 "nbformat_minor": 5
}
