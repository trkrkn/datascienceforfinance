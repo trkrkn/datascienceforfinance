{
 "cells": [
  {
   "cell_type": "markdown",
   "id": "117a7732",
   "metadata": {},
   "source": [
    "# Input and Output Operations - Problem set"
   ]
  },
  {
   "cell_type": "markdown",
   "id": "76616318",
   "metadata": {},
   "source": [
    "### Exercise 1\n",
    "Write a program that takes two integers as input and prints their sum, product, and division as output, ensuring division by zero is handled."
   ]
  },
  {
   "cell_type": "code",
   "execution_count": null,
   "id": "82249675",
   "metadata": {},
   "outputs": [],
   "source": []
  },
  {
   "cell_type": "markdown",
   "id": "bd5e1e64",
   "metadata": {},
   "source": [
    "### Exercise 2\n",
    "Write a Python script that asks the user to input a sentence and then counts the number of vowels in the sentence."
   ]
  },
  {
   "cell_type": "code",
   "execution_count": null,
   "id": "e208101b",
   "metadata": {},
   "outputs": [],
   "source": []
  },
  {
   "cell_type": "markdown",
   "id": "6eb68ddb",
   "metadata": {},
   "source": [
    "### Exercise 3\n",
    "Write a program that reads a text file, counts the number of words in the file, and prints the result."
   ]
  },
  {
   "cell_type": "code",
   "execution_count": null,
   "id": "e3bb4357",
   "metadata": {},
   "outputs": [],
   "source": []
  },
  {
   "cell_type": "markdown",
   "id": "c3b9d5b8",
   "metadata": {},
   "source": [
    "### Exercise 4\n",
    "Using the `with` statement, write a program that appends five random integers (one per line) to an existing text file called `random_numbers.txt`."
   ]
  },
  {
   "cell_type": "code",
   "execution_count": null,
   "id": "04c0977a",
   "metadata": {},
   "outputs": [],
   "source": []
  },
  {
   "cell_type": "markdown",
   "id": "36d1bd00",
   "metadata": {},
   "source": [
    "### Exercise 5\n",
    "Write a program that reads a CSV file containing two columns: `name` and `score`. Calculate the average score and print names with scores above the average."
   ]
  },
  {
   "cell_type": "code",
   "execution_count": null,
   "id": "55f9738d",
   "metadata": {},
   "outputs": [],
   "source": []
  },
  {
   "cell_type": "markdown",
   "id": "3aceb722",
   "metadata": {},
   "source": [
    "### Exercise 6\n",
    "Create a program that takes user input for a name and a balance amount. Save the input into a new CSV file called `balance_data.csv`, appending each new entry without overwriting the file."
   ]
  },
  {
   "cell_type": "code",
   "execution_count": null,
   "id": "ba174d3a",
   "metadata": {},
   "outputs": [],
   "source": []
  },
  {
   "cell_type": "markdown",
   "id": "fe72e843",
   "metadata": {},
   "source": [
    "### Exercise 7\n",
    "Write a Python script that reads a CSV file, performs a transformation by multiplying all numerical values by 1.1, and saves the modified data into a new CSV file."
   ]
  },
  {
   "cell_type": "code",
   "execution_count": null,
   "id": "f73bbfe9",
   "metadata": {},
   "outputs": [],
   "source": []
  },
  {
   "cell_type": "markdown",
   "id": "8474bac9",
   "metadata": {},
   "source": [
    "### Exercise 8\n",
    "Write a program that reads data from an Excel file with multiple sheets. Calculate the average of values in each sheet and save these results in a new Excel file with the averages on different sheets."
   ]
  },
  {
   "cell_type": "code",
   "execution_count": null,
   "id": "018d68e5",
   "metadata": {},
   "outputs": [],
   "source": []
  },
  {
   "cell_type": "markdown",
   "id": "65ad68e6",
   "metadata": {},
   "source": [
    "### Exercise 9\n",
    "Create a program that reads an Excel file, extracts rows where a particular column has values above a user-defined threshold, and saves the filtered data to a new sheet in the same Excel file."
   ]
  },
  {
   "cell_type": "code",
   "execution_count": null,
   "id": "219373f7",
   "metadata": {},
   "outputs": [],
   "source": []
  },
  {
   "cell_type": "markdown",
   "id": "91a8abc9",
   "metadata": {},
   "source": [
    "### Exercise 10\n",
    "Write a program that uses the `pandas` library to create a DataFrame from scratch with columns `Name`, `Age`, and `Grade`, then writes this DataFrame to both a CSV and an Excel file."
   ]
  },
  {
   "cell_type": "code",
   "execution_count": null,
   "id": "5e1c8b6e",
   "metadata": {},
   "outputs": [],
   "source": []
  }
 ],
 "metadata": {
  "kernelspec": {
   "display_name": "Python 3 (ipykernel)",
   "language": "python",
   "name": "python3"
  },
  "language_info": {
   "codemirror_mode": {
    "name": "ipython",
    "version": 3
   },
   "file_extension": ".py",
   "mimetype": "text/x-python",
   "name": "python",
   "nbconvert_exporter": "python",
   "pygments_lexer": "ipython3",
   "version": "3.9.12"
  }
 },
 "nbformat": 4,
 "nbformat_minor": 5
}
