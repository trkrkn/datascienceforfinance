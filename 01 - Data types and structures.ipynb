{
 "cells": [
  {
   "cell_type": "markdown",
   "id": "adca6ca0",
   "metadata": {},
   "source": [
    "# Part x - Data types and structures"
   ]
  },
  {
   "cell_type": "markdown",
   "id": "62eb236a",
   "metadata": {},
   "source": [
    "## Basic data types\n",
    "Data type = nature of the variable: integer, string, binary (boolean), etc.\n",
    "\n",
    "Python is a *dynamically typed language* --> Python interpreter infers the type of an object at runtime. Other \n",
    "languages can be *statically typed*: the type of the object has to be specified before compilation.\n",
    "\n",
    "**List of data types** \n",
    "\n",
    "| Object type | Meaning | Used for |\n",
    "| --- | --- | --- |\n",
    "| `int` | integer value | natural numbers |\n",
    "| `float` | floating-point number | real numbers |\n",
    "| `bool` | boolean value | true or false |\n",
    "| `str` | string object | character, word, text |\n",
    "\n",
    "*use built-in function `type()` to obtain the information*"
   ]
  },
  {
   "cell_type": "markdown",
   "id": "efe2e354",
   "metadata": {},
   "source": [
    "### Integers"
   ]
  },
  {
   "cell_type": "code",
   "execution_count": null,
   "id": "3d6e937c",
   "metadata": {},
   "outputs": [],
   "source": [
    "a = 10\n",
    "type(a)"
   ]
  },
  {
   "cell_type": "markdown",
   "id": "d61ca587",
   "metadata": {},
   "source": [
    "**Arithmetic operations** `+` `-` `*` `/`"
   ]
  },
  {
   "cell_type": "code",
   "execution_count": null,
   "id": "bad36f5b",
   "metadata": {},
   "outputs": [],
   "source": [
    "1 + 4 "
   ]
  },
  {
   "cell_type": "code",
   "execution_count": null,
   "id": "2017b940",
   "metadata": {},
   "outputs": [],
   "source": [
    "a + 1"
   ]
  },
  {
   "cell_type": "code",
   "execution_count": null,
   "id": "362645e8",
   "metadata": {},
   "outputs": [],
   "source": [
    "type(1+4)"
   ]
  },
  {
   "cell_type": "markdown",
   "id": "90e9e504",
   "metadata": {},
   "source": [
    "### Floats"
   ]
  },
  {
   "cell_type": "code",
   "execution_count": null,
   "id": "c5d1ebc5",
   "metadata": {},
   "outputs": [],
   "source": [
    "type (1/4)"
   ]
  },
  {
   "cell_type": "code",
   "execution_count": null,
   "id": "265b6174",
   "metadata": {},
   "outputs": [],
   "source": [
    "1/4"
   ]
  },
  {
   "cell_type": "code",
   "execution_count": null,
   "id": "f66ed8b7",
   "metadata": {},
   "outputs": [],
   "source": [
    "type(0.25)"
   ]
  },
  {
   "cell_type": "code",
   "execution_count": null,
   "id": "3c217737",
   "metadata": {},
   "outputs": [],
   "source": [
    "type (0)"
   ]
  },
  {
   "cell_type": "code",
   "execution_count": null,
   "id": "5fe8139c",
   "metadata": {},
   "outputs": [],
   "source": [
    "type (0.0)"
   ]
  },
  {
   "cell_type": "markdown",
   "id": "7c74d0e6",
   "metadata": {},
   "source": [
    "### Booleans"
   ]
  },
  {
   "cell_type": "markdown",
   "id": "b0de5153",
   "metadata": {},
   "source": [
    "**Conditions:** `>` `<` `>=` `<=` `==` `!=`"
   ]
  },
  {
   "cell_type": "code",
   "execution_count": 1,
   "id": "a38bcabd",
   "metadata": {},
   "outputs": [
    {
     "data": {
      "text/plain": [
       "True"
      ]
     },
     "execution_count": 1,
     "metadata": {},
     "output_type": "execute_result"
    }
   ],
   "source": [
    "4 > 3"
   ]
  },
  {
   "cell_type": "code",
   "execution_count": 2,
   "id": "d85683f3",
   "metadata": {},
   "outputs": [
    {
     "data": {
      "text/plain": [
       "bool"
      ]
     },
     "execution_count": 2,
     "metadata": {},
     "output_type": "execute_result"
    }
   ],
   "source": [
    "type (4 > 3)"
   ]
  },
  {
   "cell_type": "code",
   "execution_count": 3,
   "id": "542952ee",
   "metadata": {},
   "outputs": [
    {
     "data": {
      "text/plain": [
       "bool"
      ]
     },
     "execution_count": 3,
     "metadata": {},
     "output_type": "execute_result"
    }
   ],
   "source": [
    "type (False)"
   ]
  },
  {
   "cell_type": "code",
   "execution_count": 4,
   "id": "dcd7ac41",
   "metadata": {},
   "outputs": [
    {
     "data": {
      "text/plain": [
       "True"
      ]
     },
     "execution_count": 4,
     "metadata": {},
     "output_type": "execute_result"
    }
   ],
   "source": [
    "4 >= 3"
   ]
  },
  {
   "cell_type": "code",
   "execution_count": 5,
   "id": "870f16c1",
   "metadata": {},
   "outputs": [
    {
     "data": {
      "text/plain": [
       "False"
      ]
     },
     "execution_count": 5,
     "metadata": {},
     "output_type": "execute_result"
    }
   ],
   "source": [
    "4 < 3"
   ]
  },
  {
   "cell_type": "code",
   "execution_count": 6,
   "id": "21211663",
   "metadata": {},
   "outputs": [
    {
     "data": {
      "text/plain": [
       "False"
      ]
     },
     "execution_count": 6,
     "metadata": {},
     "output_type": "execute_result"
    }
   ],
   "source": [
    "4 == 3"
   ]
  },
  {
   "cell_type": "code",
   "execution_count": 7,
   "id": "007449dd",
   "metadata": {},
   "outputs": [
    {
     "data": {
      "text/plain": [
       "True"
      ]
     },
     "execution_count": 7,
     "metadata": {},
     "output_type": "execute_result"
    }
   ],
   "source": [
    "4 != 3"
   ]
  },
  {
   "cell_type": "markdown",
   "id": "8b88c318",
   "metadata": {},
   "source": [
    "**Logic operations:** `and` `or` `not` `in`"
   ]
  },
  {
   "cell_type": "code",
   "execution_count": 8,
   "id": "5d2798a4",
   "metadata": {},
   "outputs": [
    {
     "data": {
      "text/plain": [
       "True"
      ]
     },
     "execution_count": 8,
     "metadata": {},
     "output_type": "execute_result"
    }
   ],
   "source": [
    "True and True"
   ]
  },
  {
   "cell_type": "code",
   "execution_count": 9,
   "id": "63fb339e",
   "metadata": {},
   "outputs": [
    {
     "data": {
      "text/plain": [
       "False"
      ]
     },
     "execution_count": 9,
     "metadata": {},
     "output_type": "execute_result"
    }
   ],
   "source": [
    "True and False"
   ]
  },
  {
   "cell_type": "code",
   "execution_count": 10,
   "id": "288b7408",
   "metadata": {},
   "outputs": [
    {
     "data": {
      "text/plain": [
       "False"
      ]
     },
     "execution_count": 10,
     "metadata": {},
     "output_type": "execute_result"
    }
   ],
   "source": [
    "False and False"
   ]
  },
  {
   "cell_type": "code",
   "execution_count": 11,
   "id": "c96a065f",
   "metadata": {},
   "outputs": [
    {
     "data": {
      "text/plain": [
       "True"
      ]
     },
     "execution_count": 11,
     "metadata": {},
     "output_type": "execute_result"
    }
   ],
   "source": [
    "True or True"
   ]
  },
  {
   "cell_type": "code",
   "execution_count": 12,
   "id": "75784200",
   "metadata": {},
   "outputs": [
    {
     "data": {
      "text/plain": [
       "True"
      ]
     },
     "execution_count": 12,
     "metadata": {},
     "output_type": "execute_result"
    }
   ],
   "source": [
    "True or False"
   ]
  },
  {
   "cell_type": "code",
   "execution_count": 13,
   "id": "5289afb5",
   "metadata": {},
   "outputs": [
    {
     "data": {
      "text/plain": [
       "False"
      ]
     },
     "execution_count": 13,
     "metadata": {},
     "output_type": "execute_result"
    }
   ],
   "source": [
    "False or False"
   ]
  },
  {
   "cell_type": "code",
   "execution_count": 14,
   "id": "decdf36c",
   "metadata": {},
   "outputs": [
    {
     "data": {
      "text/plain": [
       "False"
      ]
     },
     "execution_count": 14,
     "metadata": {},
     "output_type": "execute_result"
    }
   ],
   "source": [
    "not True"
   ]
  },
  {
   "cell_type": "code",
   "execution_count": 15,
   "id": "0403d39e",
   "metadata": {},
   "outputs": [
    {
     "data": {
      "text/plain": [
       "True"
      ]
     },
     "execution_count": 15,
     "metadata": {},
     "output_type": "execute_result"
    }
   ],
   "source": [
    "not False"
   ]
  },
  {
   "cell_type": "markdown",
   "id": "e0524b16",
   "metadata": {},
   "source": [
    "**Combinations**"
   ]
  },
  {
   "cell_type": "code",
   "execution_count": 18,
   "id": "1237ab83",
   "metadata": {},
   "outputs": [
    {
     "data": {
      "text/plain": [
       "False"
      ]
     },
     "execution_count": 18,
     "metadata": {},
     "output_type": "execute_result"
    }
   ],
   "source": [
    "(4 > 3) and (2 > 3)"
   ]
  },
  {
   "cell_type": "code",
   "execution_count": 19,
   "id": "b13b7d19",
   "metadata": {},
   "outputs": [
    {
     "data": {
      "text/plain": [
       "True"
      ]
     },
     "execution_count": 19,
     "metadata": {},
     "output_type": "execute_result"
    }
   ],
   "source": [
    "(4==3) or (2 != 3)"
   ]
  },
  {
   "cell_type": "code",
   "execution_count": 20,
   "id": "31e64805",
   "metadata": {},
   "outputs": [
    {
     "data": {
      "text/plain": [
       "True"
      ]
     },
     "execution_count": 20,
     "metadata": {},
     "output_type": "execute_result"
    }
   ],
   "source": [
    "not (4 != 4)"
   ]
  },
  {
   "cell_type": "code",
   "execution_count": 21,
   "id": "86d0312a",
   "metadata": {},
   "outputs": [
    {
     "data": {
      "text/plain": [
       "False"
      ]
     },
     "execution_count": 21,
     "metadata": {},
     "output_type": "execute_result"
    }
   ],
   "source": [
    "(not (4 != 4)) and (2 == 3)"
   ]
  },
  {
   "cell_type": "markdown",
   "id": "290e6f78",
   "metadata": {},
   "source": [
    "**Note:** Major for control condition (`if` `while` `for`) -- see later"
   ]
  },
  {
   "cell_type": "code",
   "execution_count": 22,
   "id": "0f6f2d3f",
   "metadata": {},
   "outputs": [
    {
     "name": "stdout",
     "output_type": "stream",
     "text": [
      "condition true\n"
     ]
    }
   ],
   "source": [
    "if 4 > 3:\n",
    "    print ('condition true')\n",
    "else:\n",
    "    print ('condition not true')"
   ]
  },
  {
   "cell_type": "code",
   "execution_count": 25,
   "id": "26c4fc54",
   "metadata": {},
   "outputs": [
    {
     "name": "stdout",
     "output_type": "stream",
     "text": [
      "condition true: i =  0\n",
      "condition true: i =  1\n",
      "condition true: i =  2\n",
      "condition true: i =  3\n"
     ]
    }
   ],
   "source": [
    "i = 0\n",
    "while i < 4:\n",
    "    print ('condition true: i = ', i)\n",
    "    i = i + 1"
   ]
  },
  {
   "cell_type": "markdown",
   "id": "9622e4b4",
   "metadata": {},
   "source": [
    "**Boolean casting**: 0,1 (and all other values)"
   ]
  },
  {
   "cell_type": "code",
   "execution_count": 27,
   "id": "ae4d2ab7",
   "metadata": {},
   "outputs": [
    {
     "data": {
      "text/plain": [
       "1"
      ]
     },
     "execution_count": 27,
     "metadata": {},
     "output_type": "execute_result"
    }
   ],
   "source": [
    "int(True)"
   ]
  },
  {
   "cell_type": "code",
   "execution_count": 28,
   "id": "3de2578e",
   "metadata": {},
   "outputs": [
    {
     "data": {
      "text/plain": [
       "0"
      ]
     },
     "execution_count": 28,
     "metadata": {},
     "output_type": "execute_result"
    }
   ],
   "source": [
    "int(False)"
   ]
  },
  {
   "cell_type": "code",
   "execution_count": 29,
   "id": "5b8eee1e",
   "metadata": {},
   "outputs": [
    {
     "data": {
      "text/plain": [
       "1.0"
      ]
     },
     "execution_count": 29,
     "metadata": {},
     "output_type": "execute_result"
    }
   ],
   "source": [
    "float(True)"
   ]
  },
  {
   "cell_type": "code",
   "execution_count": 30,
   "id": "e5601756",
   "metadata": {},
   "outputs": [
    {
     "data": {
      "text/plain": [
       "0.0"
      ]
     },
     "execution_count": 30,
     "metadata": {},
     "output_type": "execute_result"
    }
   ],
   "source": [
    "float(False)"
   ]
  },
  {
   "cell_type": "code",
   "execution_count": 31,
   "id": "e8d487a6",
   "metadata": {},
   "outputs": [
    {
     "data": {
      "text/plain": [
       "False"
      ]
     },
     "execution_count": 31,
     "metadata": {},
     "output_type": "execute_result"
    }
   ],
   "source": [
    "bool(0)"
   ]
  },
  {
   "cell_type": "code",
   "execution_count": 32,
   "id": "4672188c",
   "metadata": {},
   "outputs": [
    {
     "data": {
      "text/plain": [
       "True"
      ]
     },
     "execution_count": 32,
     "metadata": {},
     "output_type": "execute_result"
    }
   ],
   "source": [
    "bool(1)"
   ]
  },
  {
   "cell_type": "code",
   "execution_count": 33,
   "id": "971e70f5",
   "metadata": {},
   "outputs": [
    {
     "data": {
      "text/plain": [
       "False"
      ]
     },
     "execution_count": 33,
     "metadata": {},
     "output_type": "execute_result"
    }
   ],
   "source": [
    "bool(0.0)"
   ]
  },
  {
   "cell_type": "code",
   "execution_count": 34,
   "id": "efb36a96",
   "metadata": {},
   "outputs": [
    {
     "data": {
      "text/plain": [
       "True"
      ]
     },
     "execution_count": 34,
     "metadata": {},
     "output_type": "execute_result"
    }
   ],
   "source": [
    "bool(1.0)"
   ]
  },
  {
   "cell_type": "code",
   "execution_count": 35,
   "id": "b36cf274",
   "metadata": {},
   "outputs": [
    {
     "data": {
      "text/plain": [
       "True"
      ]
     },
     "execution_count": 35,
     "metadata": {},
     "output_type": "execute_result"
    }
   ],
   "source": [
    "bool(10.5)"
   ]
  },
  {
   "cell_type": "code",
   "execution_count": 36,
   "id": "648612cf",
   "metadata": {},
   "outputs": [
    {
     "data": {
      "text/plain": [
       "True"
      ]
     },
     "execution_count": 36,
     "metadata": {},
     "output_type": "execute_result"
    }
   ],
   "source": [
    "bool(-2)"
   ]
  },
  {
   "cell_type": "markdown",
   "id": "184d839d",
   "metadata": {},
   "source": [
    "## Strings"
   ]
  },
  {
   "cell_type": "code",
   "execution_count": 37,
   "id": "e4738e4b",
   "metadata": {},
   "outputs": [],
   "source": [
    "t = 'this is a string object'"
   ]
  },
  {
   "cell_type": "markdown",
   "id": "bfa87f97",
   "metadata": {},
   "source": [
    "**Built-in methods**\n",
    "\n",
    "| Method |\n",
    "| --- |\n",
    "| `capitalize()` |\n",
    "| `count()` |\n",
    "| `find()` |\n",
    "| `join()` |\n",
    "| `replace()` |\n",
    "| `split()` |\n",
    "| `upper()` |"
   ]
  },
  {
   "cell_type": "code",
   "execution_count": 38,
   "id": "f214113c",
   "metadata": {},
   "outputs": [
    {
     "data": {
      "text/plain": [
       "'This is a string object'"
      ]
     },
     "execution_count": 38,
     "metadata": {},
     "output_type": "execute_result"
    }
   ],
   "source": [
    "t.capitalize()"
   ]
  },
  {
   "cell_type": "code",
   "execution_count": 39,
   "id": "ee996b6a",
   "metadata": {},
   "outputs": [
    {
     "data": {
      "text/plain": [
       "['this', 'is', 'a', 'string', 'object']"
      ]
     },
     "execution_count": 39,
     "metadata": {},
     "output_type": "execute_result"
    }
   ],
   "source": [
    "t.split()"
   ]
  },
  {
   "cell_type": "code",
   "execution_count": 40,
   "id": "468abdee",
   "metadata": {},
   "outputs": [
    {
     "data": {
      "text/plain": [
       "10"
      ]
     },
     "execution_count": 40,
     "metadata": {},
     "output_type": "execute_result"
    }
   ],
   "source": [
    "t.find('string')"
   ]
  },
  {
   "cell_type": "code",
   "execution_count": 57,
   "id": "6956ccac",
   "metadata": {},
   "outputs": [
    {
     "data": {
      "text/plain": [
       "'this|is|a|string|object'"
      ]
     },
     "execution_count": 57,
     "metadata": {},
     "output_type": "execute_result"
    }
   ],
   "source": [
    "t.replace(' ','|')"
   ]
  },
  {
   "cell_type": "markdown",
   "id": "7b00dac9",
   "metadata": {},
   "source": [
    "**Printing** `print()`"
   ]
  },
  {
   "cell_type": "code",
   "execution_count": 58,
   "id": "63effd29",
   "metadata": {},
   "outputs": [
    {
     "name": "stdout",
     "output_type": "stream",
     "text": [
      "Hello World!\n"
     ]
    }
   ],
   "source": [
    "print('Hello World!')"
   ]
  },
  {
   "cell_type": "code",
   "execution_count": 59,
   "id": "1b409c5d",
   "metadata": {},
   "outputs": [
    {
     "name": "stdout",
     "output_type": "stream",
     "text": [
      "this is a string object\n"
     ]
    }
   ],
   "source": [
    "print (t)"
   ]
  },
  {
   "cell_type": "code",
   "execution_count": 62,
   "id": "20c945ff",
   "metadata": {},
   "outputs": [
    {
     "name": "stdout",
     "output_type": "stream",
     "text": [
      "0\n",
      "1\n",
      "2\n",
      "3\n"
     ]
    }
   ],
   "source": [
    "i = 0\n",
    "while i < 4:\n",
    "    print (i)\n",
    "    i = i + 1"
   ]
  },
  {
   "cell_type": "code",
   "execution_count": 61,
   "id": "907d816a",
   "metadata": {},
   "outputs": [
    {
     "name": "stdout",
     "output_type": "stream",
     "text": [
      "0|1|2|3|"
     ]
    }
   ],
   "source": [
    "i = 0\n",
    "while i < 4:\n",
    "    print (i, end = '|')\n",
    "    i = i + 1"
   ]
  },
  {
   "cell_type": "markdown",
   "id": "89ebc964",
   "metadata": {},
   "source": [
    "**Replacements**"
   ]
  },
  {
   "cell_type": "code",
   "execution_count": 64,
   "id": "8b412330",
   "metadata": {},
   "outputs": [
    {
     "name": "stdout",
     "output_type": "stream",
     "text": [
      "thi is the value of a: 10\n"
     ]
    }
   ],
   "source": [
    "a = 10\n",
    "print('this is the value of a:', a)"
   ]
  },
  {
   "cell_type": "code",
   "execution_count": null,
   "id": "db19cadb",
   "metadata": {},
   "outputs": [],
   "source": [
    "text = 'this is the value of a:' a\n"
   ]
  }
 ],
 "metadata": {
  "kernelspec": {
   "display_name": "Python 3 (ipykernel)",
   "language": "python",
   "name": "python3"
  },
  "language_info": {
   "codemirror_mode": {
    "name": "ipython",
    "version": 3
   },
   "file_extension": ".py",
   "mimetype": "text/x-python",
   "name": "python",
   "nbconvert_exporter": "python",
   "pygments_lexer": "ipython3",
   "version": "3.9.12"
  }
 },
 "nbformat": 4,
 "nbformat_minor": 5
}
