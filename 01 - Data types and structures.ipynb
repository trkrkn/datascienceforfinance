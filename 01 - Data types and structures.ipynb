{
 "cells": [
  {
   "cell_type": "markdown",
   "id": "c173ae13",
   "metadata": {},
   "source": [
    "# Part x - Data types and structures"
   ]
  },
  {
   "cell_type": "markdown",
   "id": "085130aa",
   "metadata": {},
   "source": [
    "## Basic data types\n",
    "💡 Python is a *dynamically typed language* --> Python interpreter infers the type of an object at runtime. Other \n",
    "languages can be *statically typed*: the type of the object has to be specified before compilation.\n",
    "\n",
    "**List of data types** \n",
    "\n",
    "| Object type | Meaning | Used for |\n",
    "| --- | --- | --- |\n",
    "| `int` | integer value | natural numbers |\n",
    "| `float` | floating-point number | real numbers |\n",
    "| `bool` | boolean value | true or false |\n",
    "| `str` | string object | character, word, text |\n",
    "\n",
    "*use built-in function `type()` to obtain the information*"
   ]
  },
  {
   "cell_type": "markdown",
   "id": "8c116ba0",
   "metadata": {},
   "source": [
    "### Integers"
   ]
  },
  {
   "cell_type": "code",
   "execution_count": null,
   "id": "b7051cf8",
   "metadata": {},
   "outputs": [],
   "source": [
    "a = 10\n",
    "type(a)"
   ]
  },
  {
   "cell_type": "markdown",
   "id": "55d1f1dc",
   "metadata": {},
   "source": [
    "**Arithmetic operations** `+` `-` `*` `/`"
   ]
  },
  {
   "cell_type": "code",
   "execution_count": null,
   "id": "5071a94c",
   "metadata": {},
   "outputs": [],
   "source": [
    "1 + 4 "
   ]
  },
  {
   "cell_type": "code",
   "execution_count": null,
   "id": "e2214833",
   "metadata": {},
   "outputs": [],
   "source": [
    "a + 1"
   ]
  },
  {
   "cell_type": "code",
   "execution_count": null,
   "id": "1789a767",
   "metadata": {},
   "outputs": [],
   "source": [
    "type(1+4)"
   ]
  },
  {
   "cell_type": "markdown",
   "id": "9ddbafc2",
   "metadata": {},
   "source": [
    "### Floats"
   ]
  },
  {
   "cell_type": "code",
   "execution_count": null,
   "id": "cd01aef7",
   "metadata": {},
   "outputs": [],
   "source": [
    "type (1/4)"
   ]
  },
  {
   "cell_type": "code",
   "execution_count": null,
   "id": "2f0abded",
   "metadata": {},
   "outputs": [],
   "source": [
    "1/4"
   ]
  },
  {
   "cell_type": "code",
   "execution_count": null,
   "id": "d9f43ace",
   "metadata": {},
   "outputs": [],
   "source": [
    "type(0.25)"
   ]
  },
  {
   "cell_type": "code",
   "execution_count": null,
   "id": "3e3d7130",
   "metadata": {},
   "outputs": [],
   "source": [
    "type (0)"
   ]
  },
  {
   "cell_type": "code",
   "execution_count": null,
   "id": "d474de0b",
   "metadata": {},
   "outputs": [],
   "source": [
    "type (0.0)"
   ]
  },
  {
   "cell_type": "markdown",
   "id": "2a623a96",
   "metadata": {},
   "source": [
    "### Booleans"
   ]
  },
  {
   "cell_type": "markdown",
   "id": "6dafea5e",
   "metadata": {},
   "source": [
    "**Conditions:** `>` `<` `>=` `<=` `==` `!=`"
   ]
  },
  {
   "cell_type": "code",
   "execution_count": null,
   "id": "c52b8e98",
   "metadata": {},
   "outputs": [],
   "source": [
    "4 > 3"
   ]
  },
  {
   "cell_type": "code",
   "execution_count": null,
   "id": "a82f1f82",
   "metadata": {},
   "outputs": [],
   "source": [
    "type (4 > 3)"
   ]
  },
  {
   "cell_type": "code",
   "execution_count": null,
   "id": "d18ef1e7",
   "metadata": {},
   "outputs": [],
   "source": [
    "type (False)"
   ]
  },
  {
   "cell_type": "code",
   "execution_count": null,
   "id": "51b7b9d3",
   "metadata": {},
   "outputs": [],
   "source": [
    "4 >= 3"
   ]
  },
  {
   "cell_type": "code",
   "execution_count": null,
   "id": "235383b5",
   "metadata": {},
   "outputs": [],
   "source": [
    "4 < 3"
   ]
  },
  {
   "cell_type": "code",
   "execution_count": null,
   "id": "1c501f96",
   "metadata": {},
   "outputs": [],
   "source": [
    "4 == 3"
   ]
  },
  {
   "cell_type": "code",
   "execution_count": null,
   "id": "211473c6",
   "metadata": {},
   "outputs": [],
   "source": [
    "4 != 3"
   ]
  },
  {
   "cell_type": "markdown",
   "id": "e15d8466",
   "metadata": {},
   "source": [
    "**Logic operations:** `and` `or` `not` `in`"
   ]
  },
  {
   "cell_type": "code",
   "execution_count": null,
   "id": "c48b5669",
   "metadata": {},
   "outputs": [],
   "source": [
    "True and True"
   ]
  },
  {
   "cell_type": "code",
   "execution_count": null,
   "id": "e2ba98bd",
   "metadata": {},
   "outputs": [],
   "source": [
    "True and False"
   ]
  },
  {
   "cell_type": "code",
   "execution_count": null,
   "id": "3c874f7c",
   "metadata": {},
   "outputs": [],
   "source": [
    "False and False"
   ]
  },
  {
   "cell_type": "code",
   "execution_count": null,
   "id": "027ba315",
   "metadata": {},
   "outputs": [],
   "source": [
    "True or True"
   ]
  },
  {
   "cell_type": "code",
   "execution_count": null,
   "id": "ce02dad5",
   "metadata": {},
   "outputs": [],
   "source": [
    "True or False"
   ]
  },
  {
   "cell_type": "code",
   "execution_count": null,
   "id": "f1fa1664",
   "metadata": {},
   "outputs": [],
   "source": [
    "False or False"
   ]
  },
  {
   "cell_type": "code",
   "execution_count": null,
   "id": "6b6e66d8",
   "metadata": {},
   "outputs": [],
   "source": [
    "not True"
   ]
  },
  {
   "cell_type": "code",
   "execution_count": null,
   "id": "b0db64e0",
   "metadata": {},
   "outputs": [],
   "source": [
    "not False"
   ]
  },
  {
   "cell_type": "markdown",
   "id": "1c974174",
   "metadata": {},
   "source": [
    "**Combinations**"
   ]
  },
  {
   "cell_type": "code",
   "execution_count": null,
   "id": "32c7e2a0",
   "metadata": {},
   "outputs": [],
   "source": [
    "(4 > 3) and (2 > 3)"
   ]
  },
  {
   "cell_type": "code",
   "execution_count": null,
   "id": "21004cb3",
   "metadata": {},
   "outputs": [],
   "source": [
    "(4==3) or (2 != 3)"
   ]
  },
  {
   "cell_type": "code",
   "execution_count": null,
   "id": "4ad2023d",
   "metadata": {},
   "outputs": [],
   "source": [
    "not (4 != 4)"
   ]
  },
  {
   "cell_type": "code",
   "execution_count": null,
   "id": "a03f1e88",
   "metadata": {},
   "outputs": [],
   "source": [
    "(not (4 != 4)) and (2 == 3)"
   ]
  },
  {
   "cell_type": "markdown",
   "id": "0a0abe79",
   "metadata": {},
   "source": [
    "**Note:** Major for control condition (`if` `while` `for`) -- see later"
   ]
  },
  {
   "cell_type": "code",
   "execution_count": null,
   "id": "1f0dc00b",
   "metadata": {},
   "outputs": [],
   "source": [
    "if 4 > 3:\n",
    "    print ('condition true')\n",
    "else:\n",
    "    print ('condition not true')"
   ]
  },
  {
   "cell_type": "code",
   "execution_count": null,
   "id": "1d922c9c",
   "metadata": {},
   "outputs": [],
   "source": [
    "i = 0\n",
    "while i < 4:\n",
    "    print ('condition true: i = ', i)\n",
    "    i = i + 1"
   ]
  },
  {
   "cell_type": "markdown",
   "id": "99a1aedd",
   "metadata": {},
   "source": [
    "**Boolean casting**: 0,1 (and all other values)"
   ]
  },
  {
   "cell_type": "code",
   "execution_count": null,
   "id": "5f3317ac",
   "metadata": {},
   "outputs": [],
   "source": [
    "int(True)"
   ]
  },
  {
   "cell_type": "code",
   "execution_count": null,
   "id": "80726a2a",
   "metadata": {},
   "outputs": [],
   "source": [
    "int(False)"
   ]
  },
  {
   "cell_type": "code",
   "execution_count": null,
   "id": "eec021bd",
   "metadata": {},
   "outputs": [],
   "source": [
    "float(True)"
   ]
  },
  {
   "cell_type": "code",
   "execution_count": null,
   "id": "22d88380",
   "metadata": {},
   "outputs": [],
   "source": [
    "float(False)"
   ]
  },
  {
   "cell_type": "code",
   "execution_count": null,
   "id": "92cb8c6b",
   "metadata": {},
   "outputs": [],
   "source": [
    "bool(0)"
   ]
  },
  {
   "cell_type": "code",
   "execution_count": null,
   "id": "b796b61e",
   "metadata": {},
   "outputs": [],
   "source": [
    "bool(1)"
   ]
  },
  {
   "cell_type": "code",
   "execution_count": null,
   "id": "9d970c75",
   "metadata": {},
   "outputs": [],
   "source": [
    "bool(0.0)"
   ]
  },
  {
   "cell_type": "code",
   "execution_count": null,
   "id": "be82e980",
   "metadata": {},
   "outputs": [],
   "source": [
    "bool(1.0)"
   ]
  },
  {
   "cell_type": "code",
   "execution_count": null,
   "id": "960d0985",
   "metadata": {},
   "outputs": [],
   "source": [
    "bool(10.5)"
   ]
  },
  {
   "cell_type": "code",
   "execution_count": null,
   "id": "7c26c439",
   "metadata": {},
   "outputs": [],
   "source": [
    "bool(-2)"
   ]
  },
  {
   "cell_type": "markdown",
   "id": "4e79f611",
   "metadata": {},
   "source": [
    "## Strings"
   ]
  },
  {
   "cell_type": "code",
   "execution_count": null,
   "id": "718eceec",
   "metadata": {},
   "outputs": [],
   "source": [
    "t = 'this is a string object'"
   ]
  },
  {
   "cell_type": "markdown",
   "id": "c3b67f5a",
   "metadata": {},
   "source": [
    "**Built-in methods**\n",
    "\n",
    "| Method |\n",
    "| --- |\n",
    "| `capitalize()` |\n",
    "| `count()` |\n",
    "| `find()` |\n",
    "| `join()` |\n",
    "| `replace()` |\n",
    "| `split()` |\n",
    "| `upper()` |"
   ]
  },
  {
   "cell_type": "code",
   "execution_count": null,
   "id": "7a4ea596",
   "metadata": {},
   "outputs": [],
   "source": [
    "t.capitalize()"
   ]
  },
  {
   "cell_type": "code",
   "execution_count": null,
   "id": "a170d573",
   "metadata": {},
   "outputs": [],
   "source": [
    "t.split()"
   ]
  },
  {
   "cell_type": "code",
   "execution_count": null,
   "id": "d28d495a",
   "metadata": {},
   "outputs": [],
   "source": [
    "t.find('string')"
   ]
  },
  {
   "cell_type": "code",
   "execution_count": null,
   "id": "e6943668",
   "metadata": {},
   "outputs": [],
   "source": [
    "t.replace(' ','|')"
   ]
  },
  {
   "cell_type": "markdown",
   "id": "2cff5a76",
   "metadata": {},
   "source": [
    "**Printing** `print()`"
   ]
  },
  {
   "cell_type": "code",
   "execution_count": null,
   "id": "70fca7e5",
   "metadata": {},
   "outputs": [],
   "source": [
    "print('Hello World!')"
   ]
  },
  {
   "cell_type": "code",
   "execution_count": null,
   "id": "488c1d43",
   "metadata": {},
   "outputs": [],
   "source": [
    "print (t)"
   ]
  },
  {
   "cell_type": "code",
   "execution_count": null,
   "id": "7037126c",
   "metadata": {},
   "outputs": [],
   "source": [
    "i = 0\n",
    "while i < 4:\n",
    "    print (i)\n",
    "    i = i + 1"
   ]
  },
  {
   "cell_type": "code",
   "execution_count": null,
   "id": "d8ba3cac",
   "metadata": {},
   "outputs": [],
   "source": [
    "i = 0\n",
    "while i < 4:\n",
    "    print (i, end = '|')\n",
    "    i = i + 1"
   ]
  },
  {
   "cell_type": "markdown",
   "id": "ac88d3db",
   "metadata": {},
   "source": [
    "**Replacements**"
   ]
  },
  {
   "cell_type": "code",
   "execution_count": null,
   "id": "e190800e",
   "metadata": {},
   "outputs": [],
   "source": [
    "a = 10\n",
    "print('this is the value of a:', a)"
   ]
  },
  {
   "cell_type": "code",
   "execution_count": null,
   "id": "a19bc2bc",
   "metadata": {},
   "outputs": [],
   "source": [
    "tt = 'this is the value of a: ' + str(a)"
   ]
  },
  {
   "cell_type": "code",
   "execution_count": null,
   "id": "c0d0cca8",
   "metadata": {},
   "outputs": [],
   "source": [
    "print (tt)"
   ]
  },
  {
   "cell_type": "markdown",
   "id": "e051710c",
   "metadata": {},
   "source": [
    "---"
   ]
  },
  {
   "cell_type": "markdown",
   "id": "4faffcbe",
   "metadata": {},
   "source": [
    "## Basic data structures"
   ]
  },
  {
   "cell_type": "markdown",
   "id": "da8d7ede",
   "metadata": {},
   "source": [
    "**List of data structures** \n",
    "\n",
    "| Object type | Meaning | Used for |\n",
    "| --- | --- | --- |\n",
    "| `tuplee` | immutable container | fixed set of objects |\n",
    "| `list` | mutable container | ordered and changing set of objects |\n",
    "| `dict` | mutable container | key-value store |\n",
    "| `set` | mutable container | unordered collection of unique objects |\n",
    "\n",
    "\n",
    "*use built-in function `type()` to obtain the information*\n"
   ]
  },
  {
   "cell_type": "markdown",
   "id": "6effe56a",
   "metadata": {},
   "source": [
    "### Tuples"
   ]
  },
  {
   "cell_type": "code",
   "execution_count": 3,
   "id": "647882c0",
   "metadata": {},
   "outputs": [
    {
     "data": {
      "text/plain": [
       "tuple"
      ]
     },
     "execution_count": 3,
     "metadata": {},
     "output_type": "execute_result"
    }
   ],
   "source": [
    "t = (1, 2.5, 'data')\n",
    "type(t)"
   ]
  },
  {
   "cell_type": "code",
   "execution_count": 4,
   "id": "d72b87d4",
   "metadata": {},
   "outputs": [
    {
     "data": {
      "text/plain": [
       "tuple"
      ]
     },
     "execution_count": 4,
     "metadata": {},
     "output_type": "execute_result"
    }
   ],
   "source": [
    "#also works without ()\n",
    "t = 1, 2.5, 'data'\n",
    "type(t)"
   ]
  },
  {
   "cell_type": "code",
   "execution_count": 6,
   "id": "c1f61beb",
   "metadata": {},
   "outputs": [
    {
     "data": {
      "text/plain": [
       "'data'"
      ]
     },
     "execution_count": 6,
     "metadata": {},
     "output_type": "execute_result"
    }
   ],
   "source": [
    "#indexing\n",
    "t[2]"
   ]
  },
  {
   "cell_type": "code",
   "execution_count": 7,
   "id": "c0fe90d9",
   "metadata": {},
   "outputs": [
    {
     "data": {
      "text/plain": [
       "str"
      ]
     },
     "execution_count": 7,
     "metadata": {},
     "output_type": "execute_result"
    }
   ],
   "source": [
    "type(t[2])"
   ]
  },
  {
   "cell_type": "markdown",
   "id": "7995e487",
   "metadata": {},
   "source": [
    "### Lists"
   ]
  },
  {
   "cell_type": "code",
   "execution_count": 22,
   "id": "1d14c6c6",
   "metadata": {},
   "outputs": [
    {
     "data": {
      "text/plain": [
       "'data'"
      ]
     },
     "execution_count": 22,
     "metadata": {},
     "output_type": "execute_result"
    }
   ],
   "source": [
    "l = [1, 2.5, 'data']\n",
    "l[2]"
   ]
  },
  {
   "cell_type": "code",
   "execution_count": 23,
   "id": "81fc7a2c",
   "metadata": {},
   "outputs": [
    {
     "data": {
      "text/plain": [
       "[1, 2.5, 'data']"
      ]
     },
     "execution_count": 23,
     "metadata": {},
     "output_type": "execute_result"
    }
   ],
   "source": [
    "#casting\n",
    "l = list(t)\n",
    "l"
   ]
  },
  {
   "cell_type": "code",
   "execution_count": 24,
   "id": "14c3acc2",
   "metadata": {},
   "outputs": [
    {
     "data": {
      "text/plain": [
       "list"
      ]
     },
     "execution_count": 24,
     "metadata": {},
     "output_type": "execute_result"
    }
   ],
   "source": [
    "type (l)"
   ]
  },
  {
   "cell_type": "markdown",
   "id": "91c58062",
   "metadata": {},
   "source": [
    "**Built-in methods**\n",
    "\n",
    "*contrary to tuples, lists are mutable containers*\n",
    "\n",
    "| Method |\n",
    "| --- |\n",
    "| `l[i] = x` |\n",
    "| `l[i:j:k] = s` |\n",
    "| `append()` |\n",
    "| `count()` |\n",
    "| `del l[i:j:k]` |\n",
    "| `index()` |\n",
    "| `extend()` |\n",
    "| `insert()` |\n",
    "| `remove()` |\n",
    "| `pop()` |\n",
    "| `revers()` |\n",
    "| `sort()` |"
   ]
  },
  {
   "cell_type": "code",
   "execution_count": 30,
   "id": "1eb83127",
   "metadata": {},
   "outputs": [
    {
     "data": {
      "text/plain": [
       "[1, 'insert', 2.5, 1.0, 1.5, 2.0, [4, 3]]"
      ]
     },
     "execution_count": 30,
     "metadata": {},
     "output_type": "execute_result"
    }
   ],
   "source": [
    "l.append([4,3])\n",
    "l"
   ]
  },
  {
   "cell_type": "code",
   "execution_count": 26,
   "id": "e7bf8d9c",
   "metadata": {},
   "outputs": [
    {
     "data": {
      "text/plain": [
       "[1, 2.5, 'data', [4, 3], 1.0, 1.5, 2.0]"
      ]
     },
     "execution_count": 26,
     "metadata": {},
     "output_type": "execute_result"
    }
   ],
   "source": [
    "l.extend([1.0, 1.5, 2.0])\n",
    "l"
   ]
  },
  {
   "cell_type": "code",
   "execution_count": 27,
   "id": "7cc71853",
   "metadata": {},
   "outputs": [
    {
     "data": {
      "text/plain": [
       "[1, 'insert', 2.5, 'data', [4, 3], 1.0, 1.5, 2.0]"
      ]
     },
     "execution_count": 27,
     "metadata": {},
     "output_type": "execute_result"
    }
   ],
   "source": [
    "l.insert(1,'insert')\n",
    "l"
   ]
  },
  {
   "cell_type": "code",
   "execution_count": 28,
   "id": "39436f5c",
   "metadata": {},
   "outputs": [
    {
     "data": {
      "text/plain": [
       "[1, 'insert', 2.5, [4, 3], 1.0, 1.5, 2.0]"
      ]
     },
     "execution_count": 28,
     "metadata": {},
     "output_type": "execute_result"
    }
   ],
   "source": [
    "l.remove('data')\n",
    "l"
   ]
  },
  {
   "cell_type": "code",
   "execution_count": 29,
   "id": "417242c1",
   "metadata": {},
   "outputs": [
    {
     "name": "stdout",
     "output_type": "stream",
     "text": [
      "[1, 'insert', 2.5, 1.0, 1.5, 2.0] [4, 3]\n"
     ]
    }
   ],
   "source": [
    "p = l.pop(3)\n",
    "print (l, p)"
   ]
  },
  {
   "cell_type": "code",
   "execution_count": 32,
   "id": "8f8d283f",
   "metadata": {},
   "outputs": [
    {
     "data": {
      "text/plain": [
       "[2.5, 1.0, 1.5]"
      ]
     },
     "execution_count": 32,
     "metadata": {},
     "output_type": "execute_result"
    }
   ],
   "source": [
    "#slicing\n",
    "l[2:5]"
   ]
  },
  {
   "cell_type": "markdown",
   "id": "e08448f2",
   "metadata": {},
   "source": [
    "#### `For` loop"
   ]
  },
  {
   "cell_type": "code",
   "execution_count": 33,
   "id": "0481672c",
   "metadata": {},
   "outputs": [
    {
     "name": "stdout",
     "output_type": "stream",
     "text": [
      "6.25\n",
      "1.0\n",
      "2.25\n"
     ]
    }
   ],
   "source": [
    "for element in l[2:5]:\n",
    "    print (element ** 2)"
   ]
  },
  {
   "cell_type": "markdown",
   "id": "65b494db",
   "metadata": {},
   "source": [
    "Counter-based looping"
   ]
  },
  {
   "cell_type": "code",
   "execution_count": 37,
   "id": "ad96f28a",
   "metadata": {},
   "outputs": [
    {
     "data": {
      "text/plain": [
       "range(0, 8)"
      ]
     },
     "execution_count": 37,
     "metadata": {},
     "output_type": "execute_result"
    }
   ],
   "source": [
    "r = range(0, 8, 1)\n",
    "r"
   ]
  },
  {
   "cell_type": "code",
   "execution_count": 38,
   "id": "29b58dac",
   "metadata": {},
   "outputs": [
    {
     "data": {
      "text/plain": [
       "range"
      ]
     },
     "execution_count": 38,
     "metadata": {},
     "output_type": "execute_result"
    }
   ],
   "source": [
    "type (r)"
   ]
  },
  {
   "cell_type": "code",
   "execution_count": 39,
   "id": "8d5c5dc7",
   "metadata": {
    "scrolled": true
   },
   "outputs": [
    {
     "name": "stdout",
     "output_type": "stream",
     "text": [
      "6.25\n",
      "1.0\n",
      "2.25\n"
     ]
    }
   ],
   "source": [
    "for i in range(2,5):\n",
    "    print (l[i] ** 2)"
   ]
  },
  {
   "cell_type": "markdown",
   "id": "8c023447",
   "metadata": {},
   "source": [
    "Looping and conditioning"
   ]
  },
  {
   "cell_type": "code",
   "execution_count": 40,
   "id": "2ee4ed94",
   "metadata": {},
   "outputs": [
    {
     "name": "stdout",
     "output_type": "stream",
     "text": [
      "1 is odd\n",
      "2 is even\n",
      "3 is a multiple of 3\n",
      "4 is even\n",
      "5 is odd\n",
      "6 is even\n",
      "7 is odd\n",
      "8 is even\n",
      "9 is a multiple of 3\n"
     ]
    }
   ],
   "source": [
    "for i in range (1,10):\n",
    "    if i % 2 == 0:\n",
    "        print (i, 'is even')\n",
    "    elif i % 3 == 0:\n",
    "        print (i, 'is a multiple of 3')\n",
    "    else:\n",
    "        print (i, 'is odd')"
   ]
  },
  {
   "cell_type": "markdown",
   "id": "a2278bf3",
   "metadata": {},
   "source": [
    "List comprehension"
   ]
  },
  {
   "cell_type": "code",
   "execution_count": 41,
   "id": "c339328e",
   "metadata": {},
   "outputs": [
    {
     "data": {
      "text/plain": [
       "[0, 1, 4, 9, 16]"
      ]
     },
     "execution_count": 41,
     "metadata": {},
     "output_type": "execute_result"
    }
   ],
   "source": [
    "m = [i ** 2 for i in range (5)]\n",
    "m"
   ]
  },
  {
   "cell_type": "markdown",
   "id": "d19e60ba",
   "metadata": {},
   "source": [
    "💪 **Functional programming**: application of a function to a whole set of inputs `map()` `filter()` `reduce()`"
   ]
  },
  {
   "cell_type": "code",
   "execution_count": 42,
   "id": "1ad904fe",
   "metadata": {},
   "outputs": [],
   "source": [
    "def even(x):\n",
    "    return x % 2 == 0"
   ]
  },
  {
   "cell_type": "code",
   "execution_count": 43,
   "id": "95228a08",
   "metadata": {},
   "outputs": [
    {
     "data": {
      "text/plain": [
       "False"
      ]
     },
     "execution_count": 43,
     "metadata": {},
     "output_type": "execute_result"
    }
   ],
   "source": [
    "even(3)"
   ]
  },
  {
   "cell_type": "code",
   "execution_count": 44,
   "id": "41ff8e34",
   "metadata": {},
   "outputs": [
    {
     "data": {
      "text/plain": [
       "<map at 0x7f91e1112130>"
      ]
     },
     "execution_count": 44,
     "metadata": {},
     "output_type": "execute_result"
    }
   ],
   "source": [
    "map(even, range(10))"
   ]
  },
  {
   "cell_type": "code",
   "execution_count": 47,
   "id": "5d3723ae",
   "metadata": {},
   "outputs": [
    {
     "data": {
      "text/plain": [
       "[True, False, True, False, True, False, True, False, True, False]"
      ]
     },
     "execution_count": 47,
     "metadata": {},
     "output_type": "execute_result"
    }
   ],
   "source": [
    "list(map(even, range(10)))"
   ]
  },
  {
   "cell_type": "code",
   "execution_count": 52,
   "id": "c8994ba3",
   "metadata": {},
   "outputs": [
    {
     "data": {
      "text/plain": [
       "[0, 2, 4, 6, 8]"
      ]
     },
     "execution_count": 52,
     "metadata": {},
     "output_type": "execute_result"
    }
   ],
   "source": [
    "list(filter(even, range(10)))"
   ]
  },
  {
   "cell_type": "markdown",
   "id": "00814546",
   "metadata": {},
   "source": [
    "**Anonymous programming** `lambda`"
   ]
  },
  {
   "cell_type": "code",
   "execution_count": 51,
   "id": "cde91598",
   "metadata": {},
   "outputs": [
    {
     "data": {
      "text/plain": [
       "[0, 1, 4, 9, 16, 25, 36, 49, 64, 81]"
      ]
     },
     "execution_count": 51,
     "metadata": {},
     "output_type": "execute_result"
    }
   ],
   "source": [
    "list(map(lambda x: x ** 2, range (10)))"
   ]
  },
  {
   "cell_type": "markdown",
   "id": "6523a4da",
   "metadata": {},
   "source": [
    "🌼 *good practice*: avoid loops in Python as much as possible. Make full use of list comprehensions and functional programming techniques"
   ]
  },
  {
   "cell_type": "markdown",
   "id": "af74b1f9",
   "metadata": {},
   "source": [
    "### Dicts\n"
   ]
  },
  {
   "cell_type": "markdown",
   "id": "f8dadcd8",
   "metadata": {},
   "source": [
    "Keys and values"
   ]
  },
  {
   "cell_type": "code",
   "execution_count": 53,
   "id": "35f91539",
   "metadata": {},
   "outputs": [],
   "source": [
    "d = {\n",
    "    'Name' : 'Angela Merkel',\n",
    "    'Country' : 'Germany',\n",
    "    'Profession' : 'Chancelor',\n",
    "    'Age' : 64\n",
    "}"
   ]
  },
  {
   "cell_type": "code",
   "execution_count": 54,
   "id": "7615ad53",
   "metadata": {},
   "outputs": [
    {
     "data": {
      "text/plain": [
       "dict"
      ]
     },
     "execution_count": 54,
     "metadata": {},
     "output_type": "execute_result"
    }
   ],
   "source": [
    "type(d)"
   ]
  },
  {
   "cell_type": "code",
   "execution_count": 55,
   "id": "c1846a10",
   "metadata": {},
   "outputs": [
    {
     "name": "stdout",
     "output_type": "stream",
     "text": [
      "Angela Merkel 64\n"
     ]
    }
   ],
   "source": [
    "print (d['Name'], d['Age'])"
   ]
  },
  {
   "cell_type": "markdown",
   "id": "c2501e6c",
   "metadata": {},
   "source": [
    "**Built-in methods**\n",
    "\n",
    "*contrary to tuples, lists are mutable containers*\n",
    "\n",
    "| Method |\n",
    "| --- |\n",
    "| `d[k]` |\n",
    "| `d[k] = x` |\n",
    "| `del d[k]` |\n",
    "| `clear()` |\n",
    "| `copy()` |\n",
    "| `items()` |\n",
    "| `keys()` |\n",
    "| `values()` |\n",
    "| `popitem()` |\n",
    "| `update()` |"
   ]
  },
  {
   "cell_type": "code",
   "execution_count": 56,
   "id": "0173abd1",
   "metadata": {},
   "outputs": [
    {
     "data": {
      "text/plain": [
       "dict_keys(['Name', 'Country', 'Profession', 'Age'])"
      ]
     },
     "execution_count": 56,
     "metadata": {},
     "output_type": "execute_result"
    }
   ],
   "source": [
    "d.keys()"
   ]
  },
  {
   "cell_type": "code",
   "execution_count": 57,
   "id": "06584db8",
   "metadata": {},
   "outputs": [
    {
     "data": {
      "text/plain": [
       "dict_values(['Angela Merkel', 'Germany', 'Chancelor', 64])"
      ]
     },
     "execution_count": 57,
     "metadata": {},
     "output_type": "execute_result"
    }
   ],
   "source": [
    "d.values()"
   ]
  },
  {
   "cell_type": "code",
   "execution_count": 58,
   "id": "b738bf6d",
   "metadata": {},
   "outputs": [
    {
     "data": {
      "text/plain": [
       "dict_items([('Name', 'Angela Merkel'), ('Country', 'Germany'), ('Profession', 'Chancelor'), ('Age', 64)])"
      ]
     },
     "execution_count": 58,
     "metadata": {},
     "output_type": "execute_result"
    }
   ],
   "source": [
    "d.items()"
   ]
  },
  {
   "cell_type": "code",
   "execution_count": 59,
   "id": "38060be8",
   "metadata": {},
   "outputs": [
    {
     "name": "stdout",
     "output_type": "stream",
     "text": [
      "65\n"
     ]
    }
   ],
   "source": [
    "birthday = True\n",
    "if birthday:\n",
    "    d['Age'] += 1\n",
    "print (d['Age'])"
   ]
  },
  {
   "cell_type": "code",
   "execution_count": 60,
   "id": "db7ebdcc",
   "metadata": {},
   "outputs": [
    {
     "name": "stdout",
     "output_type": "stream",
     "text": [
      "('Name', 'Angela Merkel')\n",
      "('Country', 'Germany')\n",
      "('Profession', 'Chancelor')\n",
      "('Age', 65)\n"
     ]
    }
   ],
   "source": [
    "for item in d.items():\n",
    "    print (item)"
   ]
  },
  {
   "cell_type": "code",
   "execution_count": 61,
   "id": "7fb2121e",
   "metadata": {},
   "outputs": [
    {
     "name": "stdout",
     "output_type": "stream",
     "text": [
      "<class 'str'>\n",
      "<class 'str'>\n",
      "<class 'str'>\n",
      "<class 'int'>\n"
     ]
    }
   ],
   "source": [
    "for value in d.values():\n",
    "    print (type(value))"
   ]
  },
  {
   "cell_type": "markdown",
   "id": "e0b1183e",
   "metadata": {},
   "source": [
    "### Sets"
   ]
  },
  {
   "cell_type": "code",
   "execution_count": 63,
   "id": "8afc898c",
   "metadata": {},
   "outputs": [
    {
     "data": {
      "text/plain": [
       "{'d', 'du', 'u', 'ud'}"
      ]
     },
     "execution_count": 63,
     "metadata": {},
     "output_type": "execute_result"
    }
   ],
   "source": [
    "s = set(['u', 'd', 'ud', 'du', 'd', 'du'])\n",
    "s"
   ]
  },
  {
   "cell_type": "markdown",
   "id": "75dbd629",
   "metadata": {},
   "source": [
    "**Set operations**"
   ]
  },
  {
   "cell_type": "code",
   "execution_count": 64,
   "id": "bb04e176",
   "metadata": {},
   "outputs": [],
   "source": [
    "t = set(['d', 'dd', 'uu', 'u'])"
   ]
  },
  {
   "cell_type": "code",
   "execution_count": 65,
   "id": "1e397a13",
   "metadata": {},
   "outputs": [
    {
     "data": {
      "text/plain": [
       "{'d', 'dd', 'du', 'u', 'ud', 'uu'}"
      ]
     },
     "execution_count": 65,
     "metadata": {},
     "output_type": "execute_result"
    }
   ],
   "source": [
    "s.union(t)"
   ]
  },
  {
   "cell_type": "code",
   "execution_count": 66,
   "id": "991c9c29",
   "metadata": {},
   "outputs": [
    {
     "data": {
      "text/plain": [
       "{'d', 'u'}"
      ]
     },
     "execution_count": 66,
     "metadata": {},
     "output_type": "execute_result"
    }
   ],
   "source": [
    "s.intersection(t)"
   ]
  },
  {
   "cell_type": "code",
   "execution_count": 67,
   "id": "a0ff3c83",
   "metadata": {},
   "outputs": [
    {
     "data": {
      "text/plain": [
       "{'du', 'ud'}"
      ]
     },
     "execution_count": 67,
     "metadata": {},
     "output_type": "execute_result"
    }
   ],
   "source": [
    "s.difference(t)"
   ]
  },
  {
   "cell_type": "code",
   "execution_count": 68,
   "id": "843c95e8",
   "metadata": {},
   "outputs": [
    {
     "data": {
      "text/plain": [
       "{'dd', 'uu'}"
      ]
     },
     "execution_count": 68,
     "metadata": {},
     "output_type": "execute_result"
    }
   ],
   "source": [
    "t.difference(s)"
   ]
  },
  {
   "cell_type": "code",
   "execution_count": 69,
   "id": "7292b6d1",
   "metadata": {},
   "outputs": [
    {
     "data": {
      "text/plain": [
       "{'dd', 'du', 'ud', 'uu'}"
      ]
     },
     "execution_count": 69,
     "metadata": {},
     "output_type": "execute_result"
    }
   ],
   "source": [
    "s.symmetric_difference(t)"
   ]
  }
 ],
 "metadata": {
  "kernelspec": {
   "display_name": "Python 3 (ipykernel)",
   "language": "python",
   "name": "python3"
  },
  "language_info": {
   "codemirror_mode": {
    "name": "ipython",
    "version": 3
   },
   "file_extension": ".py",
   "mimetype": "text/x-python",
   "name": "python",
   "nbconvert_exporter": "python",
   "pygments_lexer": "ipython3",
   "version": "3.9.12"
  }
 },
 "nbformat": 4,
 "nbformat_minor": 5
}
