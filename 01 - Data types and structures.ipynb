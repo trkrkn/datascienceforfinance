{
 "cells": [
  {
   "cell_type": "markdown",
   "id": "75435c8c",
   "metadata": {},
   "source": [
    "# Part x - Data types and structures"
   ]
  },
  {
   "cell_type": "markdown",
   "id": "ed771f07",
   "metadata": {},
   "source": [
    "## Basic data types\n",
    "Data type = nature of the variable: integer, string, binary (boolean), etc.\n",
    "\n",
    "Python is a *dynamically typed language* --> Python interpreter infers the type of an object at runtime. Other \n",
    "languages can be *statically typed*: the type of the object has to be specified before compilation.\n",
    "\n",
    "**List of data types** \n",
    "\n",
    "| Object type | Meaning | Used for |\n",
    "| --- | --- | --- |\n",
    "| int | integer value | natural numbers |\n",
    "| float | floating-point number | real numbers |\n",
    "| bool | boolean value | true or false |\n",
    "| str | string object | character, word, text |\n",
    "\n",
    "*use built-in function type() to obtain the information*"
   ]
  },
  {
   "cell_type": "markdown",
   "id": "ed6d8ac5",
   "metadata": {},
   "source": [
    "### Integers (int)"
   ]
  },
  {
   "cell_type": "code",
   "execution_count": null,
   "id": "146eddee",
   "metadata": {},
   "outputs": [],
   "source": [
    "a = 10\n",
    "type(a)"
   ]
  },
  {
   "cell_type": "markdown",
   "id": "3b668719",
   "metadata": {},
   "source": [
    "Arithmetic operations on integers are straightforward:"
   ]
  },
  {
   "cell_type": "code",
   "execution_count": null,
   "id": "9fe9b82c",
   "metadata": {},
   "outputs": [],
   "source": [
    "1 + 4 "
   ]
  },
  {
   "cell_type": "code",
   "execution_count": null,
   "id": "ed7253ce",
   "metadata": {},
   "outputs": [],
   "source": [
    "a + 1"
   ]
  },
  {
   "cell_type": "code",
   "execution_count": null,
   "id": "85a3be15",
   "metadata": {},
   "outputs": [],
   "source": [
    "type(1+4)"
   ]
  },
  {
   "cell_type": "markdown",
   "id": "278491f2",
   "metadata": {},
   "source": [
    "### Floats"
   ]
  },
  {
   "cell_type": "code",
   "execution_count": null,
   "id": "8996d862",
   "metadata": {},
   "outputs": [],
   "source": [
    "type (1/4)"
   ]
  },
  {
   "cell_type": "code",
   "execution_count": null,
   "id": "1079ab22",
   "metadata": {},
   "outputs": [],
   "source": [
    "1/4"
   ]
  },
  {
   "cell_type": "code",
   "execution_count": null,
   "id": "4c17ed0d",
   "metadata": {},
   "outputs": [],
   "source": [
    "type(0.25)"
   ]
  },
  {
   "cell_type": "code",
   "execution_count": null,
   "id": "4c3a0e4c",
   "metadata": {},
   "outputs": [],
   "source": [
    "type (0)"
   ]
  },
  {
   "cell_type": "code",
   "execution_count": null,
   "id": "265da7ba",
   "metadata": {},
   "outputs": [],
   "source": [
    "type (0.0)"
   ]
  },
  {
   "cell_type": "markdown",
   "id": "d6266e2b",
   "metadata": {},
   "source": [
    "### Booleans\n"
   ]
  },
  {
   "cell_type": "code",
   "execution_count": 1,
   "id": "ccae051c",
   "metadata": {},
   "outputs": [
    {
     "data": {
      "text/plain": [
       "True"
      ]
     },
     "execution_count": 1,
     "metadata": {},
     "output_type": "execute_result"
    }
   ],
   "source": [
    "4>3"
   ]
  },
  {
   "cell_type": "code",
   "execution_count": 2,
   "id": "c6470838",
   "metadata": {},
   "outputs": [
    {
     "data": {
      "text/plain": [
       "bool"
      ]
     },
     "execution_count": 2,
     "metadata": {},
     "output_type": "execute_result"
    }
   ],
   "source": [
    "type (4>3)"
   ]
  },
  {
   "cell_type": "code",
   "execution_count": 3,
   "id": "e69314f1",
   "metadata": {},
   "outputs": [
    {
     "data": {
      "text/plain": [
       "bool"
      ]
     },
     "execution_count": 3,
     "metadata": {},
     "output_type": "execute_result"
    }
   ],
   "source": [
    "type (False)"
   ]
  },
  {
   "cell_type": "code",
   "execution_count": 4,
   "id": "4c451525",
   "metadata": {},
   "outputs": [
    {
     "data": {
      "text/plain": [
       "True"
      ]
     },
     "execution_count": 4,
     "metadata": {},
     "output_type": "execute_result"
    }
   ],
   "source": [
    "4>=3"
   ]
  },
  {
   "cell_type": "code",
   "execution_count": 5,
   "id": "08f8d07f",
   "metadata": {},
   "outputs": [
    {
     "data": {
      "text/plain": [
       "False"
      ]
     },
     "execution_count": 5,
     "metadata": {},
     "output_type": "execute_result"
    }
   ],
   "source": [
    "4<3"
   ]
  },
  {
   "cell_type": "code",
   "execution_count": 6,
   "id": "3313e009",
   "metadata": {},
   "outputs": [
    {
     "data": {
      "text/plain": [
       "False"
      ]
     },
     "execution_count": 6,
     "metadata": {},
     "output_type": "execute_result"
    }
   ],
   "source": [
    "4 == 3"
   ]
  },
  {
   "cell_type": "code",
   "execution_count": 7,
   "id": "e66cdc98",
   "metadata": {},
   "outputs": [
    {
     "data": {
      "text/plain": [
       "True"
      ]
     },
     "execution_count": 7,
     "metadata": {},
     "output_type": "execute_result"
    }
   ],
   "source": [
    "4!=3"
   ]
  },
  {
   "cell_type": "markdown",
   "id": "991a7303",
   "metadata": {},
   "source": [
    "**Combining bool and logic** ('and'/'or')"
   ]
  },
  {
   "cell_type": "code",
   "execution_count": 8,
   "id": "03b62f39",
   "metadata": {},
   "outputs": [
    {
     "data": {
      "text/plain": [
       "True"
      ]
     },
     "execution_count": 8,
     "metadata": {},
     "output_type": "execute_result"
    }
   ],
   "source": [
    "True and True"
   ]
  },
  {
   "cell_type": "code",
   "execution_count": 9,
   "id": "80a6e813",
   "metadata": {},
   "outputs": [
    {
     "data": {
      "text/plain": [
       "False"
      ]
     },
     "execution_count": 9,
     "metadata": {},
     "output_type": "execute_result"
    }
   ],
   "source": [
    "True and False"
   ]
  },
  {
   "cell_type": "code",
   "execution_count": 10,
   "id": "7c1bdf12",
   "metadata": {},
   "outputs": [
    {
     "data": {
      "text/plain": [
       "False"
      ]
     },
     "execution_count": 10,
     "metadata": {},
     "output_type": "execute_result"
    }
   ],
   "source": [
    "False and False"
   ]
  },
  {
   "cell_type": "code",
   "execution_count": 11,
   "id": "2d4dc8f3",
   "metadata": {},
   "outputs": [
    {
     "data": {
      "text/plain": [
       "True"
      ]
     },
     "execution_count": 11,
     "metadata": {},
     "output_type": "execute_result"
    }
   ],
   "source": [
    "True or True"
   ]
  },
  {
   "cell_type": "code",
   "execution_count": 12,
   "id": "e7e0eb5d",
   "metadata": {},
   "outputs": [
    {
     "data": {
      "text/plain": [
       "True"
      ]
     },
     "execution_count": 12,
     "metadata": {},
     "output_type": "execute_result"
    }
   ],
   "source": [
    "True or False"
   ]
  },
  {
   "cell_type": "code",
   "execution_count": null,
   "id": "b32ea9db",
   "metadata": {},
   "outputs": [],
   "source": []
  }
 ],
 "metadata": {
  "kernelspec": {
   "display_name": "Python 3 (ipykernel)",
   "language": "python",
   "name": "python3"
  },
  "language_info": {
   "codemirror_mode": {
    "name": "ipython",
    "version": 3
   },
   "file_extension": ".py",
   "mimetype": "text/x-python",
   "name": "python",
   "nbconvert_exporter": "python",
   "pygments_lexer": "ipython3",
   "version": "3.9.12"
  }
 },
 "nbformat": 4,
 "nbformat_minor": 5
}
