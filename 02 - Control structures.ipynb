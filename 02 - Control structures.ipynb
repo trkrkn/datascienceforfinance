{
 "cells": [
  {
   "cell_type": "markdown",
   "id": "170c0fd5",
   "metadata": {},
   "source": [
    "# Control Structures\n",
    "\n",
    "## Overview\n",
    "Control structures are essential in programming as they allow you to control the flow of your code. In Python, the primary control structures are `if`, `while`, and `for` loops. These structures are crucial in decision-making processes and repetitive tasks, which are common in banking and finance applications.\n",
    "\n",
    "In this notebook, you'll learn about:\n",
    "- `if` statements for decision making\n",
    "- `while` loops for repeated execution based on a condition\n",
    "- `for` loops for iterating over sequences\n",
    "\n",
    "We'll use examples from banking and finance to illustrate these concepts."
   ]
  },
  {
   "cell_type": "markdown",
   "id": "702f4932",
   "metadata": {},
   "source": [
    "## 1. The `if` Statement\n",
    "\n",
    "The `if` statement allows you to execute a block of code only if a certain condition is true. This is useful in banking and finance for tasks like checking account balances, validating transactions, etc."
   ]
  },
  {
   "cell_type": "code",
   "execution_count": 2,
   "id": "d1ff4b69",
   "metadata": {},
   "outputs": [
    {
     "name": "stdout",
     "output_type": "stream",
     "text": [
      "Withdrawal successful! New balance: 300\n"
     ]
    }
   ],
   "source": [
    "# Example: withdrawal\n",
    "balance = 500\n",
    "withdrawal_amount = 200\n",
    "\n",
    "if balance >= withdrawal_amount:\n",
    "    balance -= withdrawal_amount\n",
    "    print(f\"Withdrawal successful! New balance: {balance}\")\n",
    "else:\n",
    "    print(\"Insufficient funds.\")   "
   ]
  },
  {
   "cell_type": "markdown",
   "id": "5b76fb66",
   "metadata": {},
   "source": [
    "## 2. The `while` Loop\n",
    "\n",
    "The while loop repeats a block of code as long as a specified condition is true. This is useful for processes that need to continue until a certain condition is met, like processing transactions until the end of the day.\n"
   ]
  },
  {
   "cell_type": "code",
   "execution_count": 3,
   "id": "9f58b1be",
   "metadata": {},
   "outputs": [
    {
     "name": "stdout",
     "output_type": "stream",
     "text": [
      "Withdrawal successful! New balance: 800\n",
      "Withdrawal successful! New balance: 600\n",
      "Withdrawal successful! New balance: 400\n"
     ]
    }
   ],
   "source": [
    "# Example: Simulating a simple ATM withdrawal process\n",
    "balance = 1000\n",
    "withdrawal_attempts = 0\n",
    "\n",
    "while balance > 0 and withdrawal_attempts < 3:\n",
    "    withdrawal_amount = 200\n",
    "    if balance >= withdrawal_amount:\n",
    "        balance -= withdrawal_amount\n",
    "        print(f\"Withdrawal successful! New balance: {balance}\")\n",
    "    else:\n",
    "        print(\"Insufficient funds.\")\n",
    "    withdrawal_attempts += 1"
   ]
  },
  {
   "cell_type": "markdown",
   "id": "5de7f6da",
   "metadata": {},
   "source": [
    "## 3. The `for` Loop\n",
    "\n",
    "The for loop is used to iterate over a sequence (like a list, tuple, or string) and execute a block of code for each item in the sequence. This is especially useful for tasks like processing multiple transactions, iterating over customer accounts, etc."
   ]
  },
  {
   "cell_type": "markdown",
   "id": "e586f80d",
   "metadata": {},
   "source": [
    "**Looping over lists and dicts**"
   ]
  },
  {
   "cell_type": "code",
   "execution_count": 33,
   "id": "0481672c",
   "metadata": {},
   "outputs": [
    {
     "name": "stdout",
     "output_type": "stream",
     "text": [
      "6.25\n",
      "1.0\n",
      "2.25\n"
     ]
    }
   ],
   "source": [
    "for element in l[2:5]:\n",
    "    print (element ** 2)"
   ]
  },
  {
   "cell_type": "code",
   "execution_count": 60,
   "id": "db7ebdcc",
   "metadata": {},
   "outputs": [
    {
     "name": "stdout",
     "output_type": "stream",
     "text": [
      "('Name', 'Angela Merkel')\n",
      "('Country', 'Germany')\n",
      "('Profession', 'Chancelor')\n",
      "('Age', 65)\n"
     ]
    }
   ],
   "source": [
    "for item in d.items():\n",
    "    print (item)"
   ]
  },
  {
   "cell_type": "code",
   "execution_count": 61,
   "id": "7fb2121e",
   "metadata": {
    "scrolled": true
   },
   "outputs": [
    {
     "name": "stdout",
     "output_type": "stream",
     "text": [
      "<class 'str'>\n",
      "<class 'str'>\n",
      "<class 'str'>\n",
      "<class 'int'>\n"
     ]
    }
   ],
   "source": [
    "for value in d.values():\n",
    "    print (type(value))"
   ]
  },
  {
   "cell_type": "code",
   "execution_count": 4,
   "id": "b91b4a1e",
   "metadata": {},
   "outputs": [
    {
     "name": "stdout",
     "output_type": "stream",
     "text": [
      "Total balance after all transactions: 325\n"
     ]
    }
   ],
   "source": [
    "# Example: Calculating the total balance from a list of transactions\n",
    "transactions = [100, -50, 200, -75, 150]\n",
    "total_balance = 0\n",
    "\n",
    "for transaction in transactions:\n",
    "    total_balance += transaction\n",
    "\n",
    "print(\"Total balance after all transactions:\", total_balance)"
   ]
  },
  {
   "cell_type": "markdown",
   "id": "65b494db",
   "metadata": {},
   "source": [
    "**Counter-based looping**"
   ]
  },
  {
   "cell_type": "code",
   "execution_count": 37,
   "id": "ad96f28a",
   "metadata": {},
   "outputs": [
    {
     "data": {
      "text/plain": [
       "range(0, 8)"
      ]
     },
     "execution_count": 37,
     "metadata": {},
     "output_type": "execute_result"
    }
   ],
   "source": [
    "r = range(0, 8, 1)\n",
    "r"
   ]
  },
  {
   "cell_type": "code",
   "execution_count": 38,
   "id": "29b58dac",
   "metadata": {},
   "outputs": [
    {
     "data": {
      "text/plain": [
       "range"
      ]
     },
     "execution_count": 38,
     "metadata": {},
     "output_type": "execute_result"
    }
   ],
   "source": [
    "type (r)"
   ]
  },
  {
   "cell_type": "code",
   "execution_count": 39,
   "id": "8d5c5dc7",
   "metadata": {
    "scrolled": true
   },
   "outputs": [
    {
     "name": "stdout",
     "output_type": "stream",
     "text": [
      "6.25\n",
      "1.0\n",
      "2.25\n"
     ]
    }
   ],
   "source": [
    "for i in range(2,5):\n",
    "    print (l[i] ** 2)"
   ]
  },
  {
   "cell_type": "markdown",
   "id": "8c023447",
   "metadata": {},
   "source": [
    "**Looping and conditioning**"
   ]
  },
  {
   "cell_type": "code",
   "execution_count": 40,
   "id": "2ee4ed94",
   "metadata": {},
   "outputs": [
    {
     "name": "stdout",
     "output_type": "stream",
     "text": [
      "1 is odd\n",
      "2 is even\n",
      "3 is a multiple of 3\n",
      "4 is even\n",
      "5 is odd\n",
      "6 is even\n",
      "7 is odd\n",
      "8 is even\n",
      "9 is a multiple of 3\n"
     ]
    }
   ],
   "source": [
    "for i in range (1,10):\n",
    "    if i % 2 == 0:\n",
    "        print (i, 'is even')\n",
    "    elif i % 3 == 0:\n",
    "        print (i, 'is a multiple of 3')\n",
    "    else:\n",
    "        print (i, 'is odd')"
   ]
  },
  {
   "cell_type": "markdown",
   "id": "a2278bf3",
   "metadata": {},
   "source": [
    "**List comprehension**"
   ]
  },
  {
   "cell_type": "code",
   "execution_count": 41,
   "id": "c339328e",
   "metadata": {},
   "outputs": [
    {
     "data": {
      "text/plain": [
       "[0, 1, 4, 9, 16]"
      ]
     },
     "execution_count": 41,
     "metadata": {},
     "output_type": "execute_result"
    }
   ],
   "source": [
    "m = [i ** 2 for i in range (5)]\n",
    "m"
   ]
  },
  {
   "cell_type": "markdown",
   "id": "d19e60ba",
   "metadata": {},
   "source": [
    "💪 **Functional programming**: application of a function to a whole set of inputs `map()` `filter()` `reduce()`"
   ]
  },
  {
   "cell_type": "code",
   "execution_count": 42,
   "id": "1ad904fe",
   "metadata": {},
   "outputs": [],
   "source": [
    "def even(x):\n",
    "    return x % 2 == 0"
   ]
  },
  {
   "cell_type": "code",
   "execution_count": 43,
   "id": "95228a08",
   "metadata": {},
   "outputs": [
    {
     "data": {
      "text/plain": [
       "False"
      ]
     },
     "execution_count": 43,
     "metadata": {},
     "output_type": "execute_result"
    }
   ],
   "source": [
    "even(3)"
   ]
  },
  {
   "cell_type": "code",
   "execution_count": 44,
   "id": "41ff8e34",
   "metadata": {},
   "outputs": [
    {
     "data": {
      "text/plain": [
       "<map at 0x7f91e1112130>"
      ]
     },
     "execution_count": 44,
     "metadata": {},
     "output_type": "execute_result"
    }
   ],
   "source": [
    "map(even, range(10))"
   ]
  },
  {
   "cell_type": "code",
   "execution_count": 47,
   "id": "5d3723ae",
   "metadata": {},
   "outputs": [
    {
     "data": {
      "text/plain": [
       "[True, False, True, False, True, False, True, False, True, False]"
      ]
     },
     "execution_count": 47,
     "metadata": {},
     "output_type": "execute_result"
    }
   ],
   "source": [
    "list(map(even, range(10)))"
   ]
  },
  {
   "cell_type": "code",
   "execution_count": 52,
   "id": "c8994ba3",
   "metadata": {},
   "outputs": [
    {
     "data": {
      "text/plain": [
       "[0, 2, 4, 6, 8]"
      ]
     },
     "execution_count": 52,
     "metadata": {},
     "output_type": "execute_result"
    }
   ],
   "source": [
    "list(filter(even, range(10)))"
   ]
  },
  {
   "cell_type": "markdown",
   "id": "00814546",
   "metadata": {},
   "source": [
    "💪 **Anonymous programming** `lambda`"
   ]
  },
  {
   "cell_type": "code",
   "execution_count": 51,
   "id": "cde91598",
   "metadata": {},
   "outputs": [
    {
     "data": {
      "text/plain": [
       "[0, 1, 4, 9, 16, 25, 36, 49, 64, 81]"
      ]
     },
     "execution_count": 51,
     "metadata": {},
     "output_type": "execute_result"
    }
   ],
   "source": [
    "list(map(lambda x: x ** 2, range (10)))"
   ]
  },
  {
   "cell_type": "markdown",
   "id": "6523a4da",
   "metadata": {},
   "source": [
    "🌼 *good practice*: avoid loops in Python as much as possible. Make full use of list comprehensions and functional programming techniques"
   ]
  },
  {
   "cell_type": "markdown",
   "id": "2c91a214",
   "metadata": {},
   "source": [
    "---"
   ]
  },
  {
   "cell_type": "markdown",
   "id": "fe36ae51",
   "metadata": {},
   "source": [
    "# Exercises"
   ]
  },
  {
   "cell_type": "markdown",
   "id": "699eba30",
   "metadata": {},
   "source": [
    "**Exercise 1: Check for Overdraft**\n",
    "\n",
    "Write an if statement that checks if an account balance is below zero. If it is, print a message indicating that the account is overdrawn."
   ]
  },
  {
   "cell_type": "code",
   "execution_count": 5,
   "id": "9be3b46c",
   "metadata": {},
   "outputs": [],
   "source": [
    "# Your code here"
   ]
  },
  {
   "cell_type": "markdown",
   "id": "cfcf57c2",
   "metadata": {},
   "source": [
    "**Exercise 2: Simulate Bank Account Deposits**\n",
    "\n",
    "Use a while loop to simulate deposits into a bank account. The loop should continue until the balance reaches or exceeds a target balance. Print the balance after each deposit."
   ]
  },
  {
   "cell_type": "code",
   "execution_count": 6,
   "id": "882be3b1",
   "metadata": {},
   "outputs": [],
   "source": [
    "# Your code here"
   ]
  },
  {
   "cell_type": "markdown",
   "id": "22210dbf",
   "metadata": {},
   "source": [
    "**Exercise 3: Calculate Total Interest for Multiple Accounts**\n",
    "\n",
    "Given a list of account balances, use a for loop to calculate the total interest earned for all accounts. Assume a fixed interest rate. Print the total interest."
   ]
  },
  {
   "cell_type": "code",
   "execution_count": 7,
   "id": "2069d38c",
   "metadata": {},
   "outputs": [],
   "source": [
    "# Your code here"
   ]
  },
  {
   "cell_type": "markdown",
   "id": "657651d2",
   "metadata": {},
   "source": [
    "**Exercise 4: Find High-Value Transactions**\n",
    "\n",
    "Use a for loop to iterate over a list of transactions. Print out all transactions that are greater than a certain threshold (e.g., 100)."
   ]
  },
  {
   "cell_type": "code",
   "execution_count": 8,
   "id": "9606e075",
   "metadata": {},
   "outputs": [],
   "source": [
    "# Your code here"
   ]
  },
  {
   "cell_type": "markdown",
   "id": "604564b5",
   "metadata": {},
   "source": [
    "**Exercise 5: Identify Consecutive Declines in Balance**\n",
    "\n",
    "Use a while loop to identify when an account balance declines consecutively for a certain number of transactions. If the balance declines for three consecutive transactions, print a warning message."
   ]
  },
  {
   "cell_type": "code",
   "execution_count": 9,
   "id": "1c9168d0",
   "metadata": {},
   "outputs": [],
   "source": [
    "# Your code here"
   ]
  }
 ],
 "metadata": {
  "kernelspec": {
   "display_name": "Python 3 (ipykernel)",
   "language": "python",
   "name": "python3"
  },
  "language_info": {
   "codemirror_mode": {
    "name": "ipython",
    "version": 3
   },
   "file_extension": ".py",
   "mimetype": "text/x-python",
   "name": "python",
   "nbconvert_exporter": "python",
   "pygments_lexer": "ipython3",
   "version": "3.9.12"
  }
 },
 "nbformat": 4,
 "nbformat_minor": 5
}
